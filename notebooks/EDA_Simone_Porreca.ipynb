{
 "cells": [
  {
   "cell_type": "markdown",
   "source": "# Introduction\n\nThe notebook is intended to perform a first Exploratory Data Analysis for a Binary Classification problem over the feature 'class'.",
   "metadata": {
    "cell_id": "2bb137dc-83e0-4aa9-a873-ed09f635322b",
    "deepnote_cell_type": "markdown",
    "deepnote_cell_height": 120.390625
   }
  },
  {
   "cell_type": "code",
   "metadata": {
    "cell_id": "00001-9de788d8-b2a1-478f-9460-1ac80b759796",
    "deepnote_to_be_reexecuted": false,
    "source_hash": "2304318b",
    "execution_start": 1649618663701,
    "execution_millis": 4039,
    "deepnote_cell_type": "code",
    "deepnote_cell_height": 315
   },
   "source": "# Import Standard Modules\nimport pandas as pd\nimport numpy as np\n\nfrom sklearn.preprocessing import MinMaxScaler\nfrom sklearn.feature_selection import SelectKBest\nfrom sklearn.feature_selection import chi2\nfrom sklearn.model_selection import train_test_split, GridSearchCV\n\nimport plotly.express as ex\n\nfrom xgboost import XGBClassifier\n\nimport mlflow",
   "execution_count": 1,
   "outputs": []
  },
  {
   "cell_type": "markdown",
   "source": "# Read Data",
   "metadata": {
    "cell_id": "00002-64a348a7-cff9-406c-a39b-dd8fbcf988e8",
    "deepnote_cell_type": "markdown",
    "deepnote_cell_height": 82
   }
  },
  {
   "cell_type": "code",
   "metadata": {
    "cell_id": "00003-d4a2bb88-c64f-4d38-ba43-c67adcf3fb3c",
    "deepnote_to_be_reexecuted": false,
    "source_hash": "8b0d4a37",
    "execution_start": 1649618667750,
    "execution_millis": 167,
    "deepnote_cell_type": "code",
    "deepnote_cell_height": 81
   },
   "source": "data = pd.read_csv('./../data/2014_Financial_Data.csv', index_col=0)",
   "execution_count": 2,
   "outputs": []
  },
  {
   "cell_type": "code",
   "metadata": {
    "cell_id": "00004-3444729e-83b8-4ff8-b283-102873ad865b",
    "deepnote_to_be_reexecuted": false,
    "source_hash": "957547ae",
    "execution_start": 1649618667942,
    "execution_millis": 282,
    "owner_user_id": "463434b9-88cf-41b4-8327-7737adf5f76c",
    "deepnote_cell_type": "code",
    "deepnote_cell_height": 192.9375
   },
   "source": "data.info()",
   "execution_count": 3,
   "outputs": [
    {
     "name": "stdout",
     "text": "<class 'pandas.core.frame.DataFrame'>\nIndex: 3808 entries, PG to WTT\nColumns: 224 entries, Revenue to Class\ndtypes: float64(222), int64(1), object(1)\nmemory usage: 6.5+ MB\n",
     "output_type": "stream"
    }
   ]
  },
  {
   "cell_type": "code",
   "metadata": {
    "cell_id": "00005-d59102e5-9e8d-4cfc-b98d-1cd6c37dfe33",
    "deepnote_to_be_reexecuted": false,
    "source_hash": "42c8aa70",
    "execution_start": 1649618668000,
    "execution_millis": 1065,
    "deepnote_cell_type": "code",
    "deepnote_cell_height": 410
   },
   "source": "data.head(5)",
   "execution_count": 4,
   "outputs": [
    {
     "output_type": "execute_result",
     "execution_count": 4,
     "data": {
      "application/vnd.deepnote.dataframe.v3+json": {
       "column_count": 224,
       "row_count": 5,
       "columns": [
        {
         "name": "Revenue",
         "dtype": "float64",
         "stats": {
          "unique_count": 5,
          "nan_count": 0,
          "min": "3734148046.4966",
          "max": "98375000000.0",
          "histogram": [
           {
            "bin_start": 3734148046.4966,
            "bin_end": 13198233241.84694,
            "count": 1
           },
           {
            "bin_start": 13198233241.84694,
            "bin_end": 22662318437.19728,
            "count": 1
           },
           {
            "bin_start": 22662318437.19728,
            "bin_end": 32126403632.54762,
            "count": 1
           },
           {
            "bin_start": 32126403632.54762,
            "bin_end": 41590488827.89796,
            "count": 0
           },
           {
            "bin_start": 41590488827.89796,
            "bin_end": 51054574023.2483,
            "count": 0
           },
           {
            "bin_start": 51054574023.2483,
            "bin_end": 60518659218.59863,
            "count": 0
           },
           {
            "bin_start": 60518659218.59863,
            "bin_end": 69982744413.94897,
            "count": 0
           },
           {
            "bin_start": 69982744413.94897,
            "bin_end": 79446829609.29932,
            "count": 1
           },
           {
            "bin_start": 79446829609.29932,
            "bin_end": 88910914804.64966,
            "count": 0
           },
           {
            "bin_start": 88910914804.64966,
            "bin_end": 98375000000,
            "count": 1
           }
          ]
         }
        },
        {
         "name": "Revenue Growth",
         "dtype": "float64",
         "stats": {
          "unique_count": 5,
          "nan_count": 0,
          "min": "-0.0713",
          "max": "1.1737",
          "histogram": [
           {
            "bin_start": -0.0713,
            "bin_end": 0.05319999999999998,
            "count": 4
           },
           {
            "bin_start": 0.05319999999999998,
            "bin_end": 0.17769999999999997,
            "count": 0
           },
           {
            "bin_start": 0.17769999999999997,
            "bin_end": 0.3021999999999999,
            "count": 0
           },
           {
            "bin_start": 0.3021999999999999,
            "bin_end": 0.42669999999999997,
            "count": 0
           },
           {
            "bin_start": 0.42669999999999997,
            "bin_end": 0.5511999999999999,
            "count": 0
           },
           {
            "bin_start": 0.5511999999999999,
            "bin_end": 0.6756999999999999,
            "count": 0
           },
           {
            "bin_start": 0.6756999999999999,
            "bin_end": 0.8001999999999999,
            "count": 0
           },
           {
            "bin_start": 0.8001999999999999,
            "bin_end": 0.9246999999999999,
            "count": 0
           },
           {
            "bin_start": 0.9246999999999999,
            "bin_end": 1.0492,
            "count": 0
           },
           {
            "bin_start": 1.0492,
            "bin_end": 1.1737,
            "count": 1
           }
          ]
         }
        },
        {
         "name": "Cost of Revenue",
         "dtype": "float64",
         "stats": {
          "unique_count": 5,
          "nan_count": 0,
          "min": "2805625443.978",
          "max": "78138000000.0",
          "histogram": [
           {
            "bin_start": 2805625443.978,
            "bin_end": 10338862899.5802,
            "count": 1
           },
           {
            "bin_start": 10338862899.5802,
            "bin_end": 17872100355.1824,
            "count": 1
           },
           {
            "bin_start": 17872100355.1824,
            "bin_end": 25405337810.784603,
            "count": 1
           },
           {
            "bin_start": 25405337810.784603,
            "bin_end": 32938575266.386803,
            "count": 0
           },
           {
            "bin_start": 32938575266.386803,
            "bin_end": 40471812721.989,
            "count": 1
           },
           {
            "bin_start": 40471812721.989,
            "bin_end": 48005050177.5912,
            "count": 0
           },
           {
            "bin_start": 48005050177.5912,
            "bin_end": 55538287633.1934,
            "count": 0
           },
           {
            "bin_start": 55538287633.1934,
            "bin_end": 63071525088.7956,
            "count": 0
           },
           {
            "bin_start": 63071525088.7956,
            "bin_end": 70604762544.39781,
            "count": 0
           },
           {
            "bin_start": 70604762544.39781,
            "bin_end": 78138000000,
            "count": 1
           }
          ]
         }
        },
        {
         "name": "Gross Profit",
         "dtype": "float64",
         "stats": {
          "unique_count": 5,
          "nan_count": 0,
          "min": "928522602.5186",
          "max": "35371000000.0",
          "histogram": [
           {
            "bin_start": 928522602.5186,
            "bin_end": 4372770342.26674,
            "count": 1
           },
           {
            "bin_start": 4372770342.26674,
            "bin_end": 7817018082.014879,
            "count": 2
           },
           {
            "bin_start": 7817018082.014879,
            "bin_end": 11261265821.76302,
            "count": 0
           },
           {
            "bin_start": 11261265821.76302,
            "bin_end": 14705513561.51116,
            "count": 0
           },
           {
            "bin_start": 14705513561.51116,
            "bin_end": 18149761301.2593,
            "count": 0
           },
           {
            "bin_start": 18149761301.2593,
            "bin_end": 21594009041.00744,
            "count": 1
           },
           {
            "bin_start": 21594009041.00744,
            "bin_end": 25038256780.75558,
            "count": 0
           },
           {
            "bin_start": 25038256780.75558,
            "bin_end": 28482504520.50372,
            "count": 0
           },
           {
            "bin_start": 28482504520.50372,
            "bin_end": 31926752260.251858,
            "count": 0
           },
           {
            "bin_start": 31926752260.251858,
            "bin_end": 35371000000,
            "count": 1
           }
          ]
         }
        },
        {
         "name": "R&D Expenses",
         "dtype": "float64",
         "stats": {
          "unique_count": 2,
          "nan_count": 0,
          "min": "0.0",
          "max": "108330319.6642",
          "histogram": [
           {
            "bin_start": 0,
            "bin_end": 10833031.966419999,
            "count": 4
           },
           {
            "bin_start": 10833031.966419999,
            "bin_end": 21666063.932839997,
            "count": 0
           },
           {
            "bin_start": 21666063.932839997,
            "bin_end": 32499095.899259996,
            "count": 0
           },
           {
            "bin_start": 32499095.899259996,
            "bin_end": 43332127.865679994,
            "count": 0
           },
           {
            "bin_start": 43332127.865679994,
            "bin_end": 54165159.83209999,
            "count": 0
           },
           {
            "bin_start": 54165159.83209999,
            "bin_end": 64998191.79851999,
            "count": 0
           },
           {
            "bin_start": 64998191.79851999,
            "bin_end": 75831223.76494,
            "count": 0
           },
           {
            "bin_start": 75831223.76494,
            "bin_end": 86664255.73135999,
            "count": 0
           },
           {
            "bin_start": 86664255.73135999,
            "bin_end": 97497287.69777998,
            "count": 0
           },
           {
            "bin_start": 97497287.69777998,
            "bin_end": 108330319.6642,
            "count": 1
           }
          ]
         }
        },
        {
         "name": "SG&A Expense",
         "dtype": "float64",
         "stats": {
          "unique_count": 5,
          "nan_count": 0,
          "min": "344141427.1876",
          "max": "21461000000.0",
          "histogram": [
           {
            "bin_start": 344141427.1876,
            "bin_end": 2455827284.46884,
            "count": 1
           },
           {
            "bin_start": 2455827284.46884,
            "bin_end": 4567513141.75008,
            "count": 1
           },
           {
            "bin_start": 4567513141.75008,
            "bin_end": 6679198999.03132,
            "count": 1
           },
           {
            "bin_start": 6679198999.03132,
            "bin_end": 8790884856.31256,
            "count": 0
           },
           {
            "bin_start": 8790884856.31256,
            "bin_end": 10902570713.5938,
            "count": 0
           },
           {
            "bin_start": 10902570713.5938,
            "bin_end": 13014256570.875038,
            "count": 0
           },
           {
            "bin_start": 13014256570.875038,
            "bin_end": 15125942428.156279,
            "count": 0
           },
           {
            "bin_start": 15125942428.156279,
            "bin_end": 17237628285.43752,
            "count": 1
           },
           {
            "bin_start": 17237628285.43752,
            "bin_end": 19349314142.718758,
            "count": 0
           },
           {
            "bin_start": 19349314142.718758,
            "bin_end": 21461000000,
            "count": 1
           }
          ]
         }
        },
        {
         "name": "Operating Expenses",
         "dtype": "float64",
         "stats": {
          "unique_count": 5,
          "nan_count": 0,
          "min": "793926703.2612",
          "max": "21461000000.0",
          "histogram": [
           {
            "bin_start": 793926703.2612,
            "bin_end": 2860634032.93508,
            "count": 1
           },
           {
            "bin_start": 2860634032.93508,
            "bin_end": 4927341362.60896,
            "count": 1
           },
           {
            "bin_start": 4927341362.60896,
            "bin_end": 6994048692.282841,
            "count": 1
           },
           {
            "bin_start": 6994048692.282841,
            "bin_end": 9060756021.95672,
            "count": 0
           },
           {
            "bin_start": 9060756021.95672,
            "bin_end": 11127463351.6306,
            "count": 0
           },
           {
            "bin_start": 11127463351.6306,
            "bin_end": 13194170681.304482,
            "count": 0
           },
           {
            "bin_start": 13194170681.304482,
            "bin_end": 15260878010.978361,
            "count": 0
           },
           {
            "bin_start": 15260878010.978361,
            "bin_end": 17327585340.65224,
            "count": 0
           },
           {
            "bin_start": 17327585340.65224,
            "bin_end": 19394292670.326122,
            "count": 1
           },
           {
            "bin_start": 19394292670.326122,
            "bin_end": 21461000000,
            "count": 1
           }
          ]
         }
        },
        {
         "name": "Operating Income",
         "dtype": "float64",
         "stats": {
          "unique_count": 5,
          "nan_count": 0,
          "min": "134595899.2573",
          "max": "13910000000.0",
          "histogram": [
           {
            "bin_start": 134595899.2573,
            "bin_end": 1512136309.33157,
            "count": 2
           },
           {
            "bin_start": 1512136309.33157,
            "bin_end": 2889676719.40584,
            "count": 1
           },
           {
            "bin_start": 2889676719.40584,
            "bin_end": 4267217129.4801097,
            "count": 1
           },
           {
            "bin_start": 4267217129.4801097,
            "bin_end": 5644757539.55438,
            "count": 0
           },
           {
            "bin_start": 5644757539.55438,
            "bin_end": 7022297949.628651,
            "count": 0
           },
           {
            "bin_start": 7022297949.628651,
            "bin_end": 8399838359.70292,
            "count": 0
           },
           {
            "bin_start": 8399838359.70292,
            "bin_end": 9777378769.77719,
            "count": 0
           },
           {
            "bin_start": 9777378769.77719,
            "bin_end": 11154919179.85146,
            "count": 0
           },
           {
            "bin_start": 11154919179.85146,
            "bin_end": 12532459589.92573,
            "count": 0
           },
           {
            "bin_start": 12532459589.92573,
            "bin_end": 13910000000,
            "count": 1
           }
          ]
         }
        },
        {
         "name": "Interest Expense",
         "dtype": "float64",
         "stats": {
          "unique_count": 5,
          "nan_count": 0,
          "min": "12148692.2829",
          "max": "709000000.0",
          "histogram": [
           {
            "bin_start": 12148692.2829,
            "bin_end": 81833823.05461001,
            "count": 1
           },
           {
            "bin_start": 81833823.05461001,
            "bin_end": 151518953.82632002,
            "count": 0
           },
           {
            "bin_start": 151518953.82632002,
            "bin_end": 221204084.59803003,
            "count": 0
           },
           {
            "bin_start": 221204084.59803003,
            "bin_end": 290889215.36974,
            "count": 0
           },
           {
            "bin_start": 290889215.36974,
            "bin_end": 360574346.14145005,
            "count": 1
           },
           {
            "bin_start": 360574346.14145005,
            "bin_end": 430259476.91316,
            "count": 1
           },
           {
            "bin_start": 430259476.91316,
            "bin_end": 499944607.68487,
            "count": 1
           },
           {
            "bin_start": 499944607.68487,
            "bin_end": 569629738.45658,
            "count": 0
           },
           {
            "bin_start": 569629738.45658,
            "bin_end": 639314869.2282901,
            "count": 0
           },
           {
            "bin_start": 639314869.2282901,
            "bin_end": 709000000,
            "count": 1
           }
          ]
         }
        },
        {
         "name": "Earnings before Tax",
         "dtype": "float64",
         "stats": {
          "unique_count": 5,
          "nan_count": 0,
          "min": "175382305.4569",
          "max": "14494000000.0",
          "histogram": [
           {
            "bin_start": 175382305.4569,
            "bin_end": 1607244074.91121,
            "count": 2
           },
           {
            "bin_start": 1607244074.91121,
            "bin_end": 3039105844.36552,
            "count": 2
           },
           {
            "bin_start": 3039105844.36552,
            "bin_end": 4470967613.81983,
            "count": 0
           },
           {
            "bin_start": 4470967613.81983,
            "bin_end": 5902829383.274139,
            "count": 0
           },
           {
            "bin_start": 5902829383.274139,
            "bin_end": 7334691152.728449,
            "count": 0
           },
           {
            "bin_start": 7334691152.728449,
            "bin_end": 8766552922.18276,
            "count": 0
           },
           {
            "bin_start": 8766552922.18276,
            "bin_end": 10198414691.63707,
            "count": 0
           },
           {
            "bin_start": 10198414691.63707,
            "bin_end": 11630276461.09138,
            "count": 0
           },
           {
            "bin_start": 11630276461.09138,
            "bin_end": 13062138230.545689,
            "count": 0
           },
           {
            "bin_start": 13062138230.545689,
            "bin_end": 14494000000,
            "count": 1
           }
          ]
         }
        },
        {
         "name": "Income Tax Expense",
         "dtype": "float64",
         "stats": {
          "unique_count": 5,
          "nan_count": 0,
          "min": "804000.0",
          "max": "2851000000.0",
          "histogram": [
           {
            "bin_start": 804000,
            "bin_end": 285823600,
            "count": 2
           },
           {
            "bin_start": 285823600,
            "bin_end": 570843200,
            "count": 0
           },
           {
            "bin_start": 570843200,
            "bin_end": 855862800,
            "count": 1
           },
           {
            "bin_start": 855862800,
            "bin_end": 1140882400,
            "count": 1
           },
           {
            "bin_start": 1140882400,
            "bin_end": 1425902000,
            "count": 0
           },
           {
            "bin_start": 1425902000,
            "bin_end": 1710921600,
            "count": 0
           },
           {
            "bin_start": 1710921600,
            "bin_end": 1995941200,
            "count": 0
           },
           {
            "bin_start": 1995941200,
            "bin_end": 2280960800,
            "count": 0
           },
           {
            "bin_start": 2280960800,
            "bin_end": 2565980400,
            "count": 0
           },
           {
            "bin_start": 2565980400,
            "bin_end": 2851000000,
            "count": 1
           }
          ]
         }
        },
        {
         "name": "Net Income - Non-Controlling int",
         "dtype": "float64",
         "stats": {
          "unique_count": 5,
          "nan_count": 0,
          "min": "-14319179.8515",
          "max": "142000000.0",
          "histogram": [
           {
            "bin_start": -14319179.8515,
            "bin_end": 1312738.1336499993,
            "count": 2
           },
           {
            "bin_start": 1312738.1336499993,
            "bin_end": 16944656.1188,
            "count": 1
           },
           {
            "bin_start": 16944656.1188,
            "bin_end": 32576574.103949998,
            "count": 0
           },
           {
            "bin_start": 32576574.103949998,
            "bin_end": 48208492.0891,
            "count": 1
           },
           {
            "bin_start": 48208492.0891,
            "bin_end": 63840410.07425,
            "count": 0
           },
           {
            "bin_start": 63840410.07425,
            "bin_end": 79472328.05939999,
            "count": 0
           },
           {
            "bin_start": 79472328.05939999,
            "bin_end": 95104246.04455,
            "count": 0
           },
           {
            "bin_start": 95104246.04455,
            "bin_end": 110736164.0297,
            "count": 0
           },
           {
            "bin_start": 110736164.0297,
            "bin_end": 126368082.01484999,
            "count": 0
           },
           {
            "bin_start": 126368082.01484999,
            "bin_end": 142000000,
            "count": 1
           }
          ]
         }
        },
        {
         "name": "Net Income - Discontinued ops",
         "dtype": "float64",
         "stats": {
          "unique_count": 2,
          "nan_count": 0,
          "min": "-1127000000.0",
          "max": "0.0",
          "histogram": [
           {
            "bin_start": -1127000000,
            "bin_end": -1014300000,
            "count": 1
           },
           {
            "bin_start": -1014300000,
            "bin_end": -901600000,
            "count": 0
           },
           {
            "bin_start": -901600000,
            "bin_end": -788900000,
            "count": 0
           },
           {
            "bin_start": -788900000,
            "bin_end": -676200000,
            "count": 0
           },
           {
            "bin_start": -676200000,
            "bin_end": -563500000,
            "count": 0
           },
           {
            "bin_start": -563500000,
            "bin_end": -450800000,
            "count": 0
           },
           {
            "bin_start": -450800000,
            "bin_end": -338100000,
            "count": 0
           },
           {
            "bin_start": -338100000,
            "bin_end": -225400000,
            "count": 0
           },
           {
            "bin_start": -225400000,
            "bin_end": -112700000,
            "count": 0
           },
           {
            "bin_start": -112700000,
            "bin_end": 0,
            "count": 4
           }
          ]
         }
        },
        {
         "name": "Net Income",
         "dtype": "float64",
         "stats": {
          "unique_count": 5,
          "nan_count": 0,
          "min": "135822731.6758",
          "max": "11643000000.0",
          "histogram": [
           {
            "bin_start": 135822731.6758,
            "bin_end": 1286540458.50822,
            "count": 2
           },
           {
            "bin_start": 1286540458.50822,
            "bin_end": 2437258185.3406396,
            "count": 2
           },
           {
            "bin_start": 2437258185.3406396,
            "bin_end": 3587975912.1730595,
            "count": 0
           },
           {
            "bin_start": 3587975912.1730595,
            "bin_end": 4738693639.00548,
            "count": 0
           },
           {
            "bin_start": 4738693639.00548,
            "bin_end": 5889411365.8379,
            "count": 0
           },
           {
            "bin_start": 5889411365.8379,
            "bin_end": 7040129092.67032,
            "count": 0
           },
           {
            "bin_start": 7040129092.67032,
            "bin_end": 8190846819.502739,
            "count": 0
           },
           {
            "bin_start": 8190846819.502739,
            "bin_end": 9341564546.33516,
            "count": 0
           },
           {
            "bin_start": 9341564546.33516,
            "bin_end": 10492282273.16758,
            "count": 0
           },
           {
            "bin_start": 10492282273.16758,
            "bin_end": 11643000000,
            "count": 1
           }
          ]
         }
        },
        {
         "name": "Preferred Dividends",
         "dtype": "float64",
         "stats": {
          "unique_count": 2,
          "nan_count": 0,
          "min": "0.0",
          "max": "33998000.0",
          "histogram": [
           {
            "bin_start": 0,
            "bin_end": 3399800,
            "count": 4
           },
           {
            "bin_start": 3399800,
            "bin_end": 6799600,
            "count": 0
           },
           {
            "bin_start": 6799600,
            "bin_end": 10199400,
            "count": 0
           },
           {
            "bin_start": 10199400,
            "bin_end": 13599200,
            "count": 0
           },
           {
            "bin_start": 13599200,
            "bin_end": 16999000,
            "count": 0
           },
           {
            "bin_start": 16999000,
            "bin_end": 20398800,
            "count": 0
           },
           {
            "bin_start": 20398800,
            "bin_end": 23798600,
            "count": 0
           },
           {
            "bin_start": 23798600,
            "bin_end": 27198400,
            "count": 0
           },
           {
            "bin_start": 27198400,
            "bin_end": 30598200,
            "count": 0
           },
           {
            "bin_start": 30598200,
            "bin_end": 33998000,
            "count": 1
           }
          ]
         }
        },
        {
         "name": "Net Income Com",
         "dtype": "float64",
         "stats": {
          "unique_count": 5,
          "nan_count": 0,
          "min": "135822731.6758",
          "max": "11643000000.0",
          "histogram": [
           {
            "bin_start": 135822731.6758,
            "bin_end": 1286540458.50822,
            "count": 2
           },
           {
            "bin_start": 1286540458.50822,
            "bin_end": 2437258185.3406396,
            "count": 2
           },
           {
            "bin_start": 2437258185.3406396,
            "bin_end": 3587975912.1730595,
            "count": 0
           },
           {
            "bin_start": 3587975912.1730595,
            "bin_end": 4738693639.00548,
            "count": 0
           },
           {
            "bin_start": 4738693639.00548,
            "bin_end": 5889411365.8379,
            "count": 0
           },
           {
            "bin_start": 5889411365.8379,
            "bin_end": 7040129092.67032,
            "count": 0
           },
           {
            "bin_start": 7040129092.67032,
            "bin_end": 8190846819.502739,
            "count": 0
           },
           {
            "bin_start": 8190846819.502739,
            "bin_end": 9341564546.33516,
            "count": 0
           },
           {
            "bin_start": 9341564546.33516,
            "bin_end": 10492282273.16758,
            "count": 0
           },
           {
            "bin_start": 10492282273.16758,
            "bin_end": 11643000000,
            "count": 1
           }
          ]
         }
        },
        {
         "name": "EPS",
         "dtype": "float64",
         "stats": {
          "unique_count": 5,
          "nan_count": 0,
          "min": "0.2396",
          "max": "4.6",
          "histogram": [
           {
            "bin_start": 0.2396,
            "bin_end": 0.6756399999999999,
            "count": 1
           },
           {
            "bin_start": 0.6756399999999999,
            "bin_end": 1.1116799999999998,
            "count": 0
           },
           {
            "bin_start": 1.1116799999999998,
            "bin_end": 1.5477199999999998,
            "count": 1
           },
           {
            "bin_start": 1.5477199999999998,
            "bin_end": 1.9837599999999997,
            "count": 0
           },
           {
            "bin_start": 1.9837599999999997,
            "bin_end": 2.4197999999999995,
            "count": 0
           },
           {
            "bin_start": 2.4197999999999995,
            "bin_end": 2.8558399999999993,
            "count": 0
           },
           {
            "bin_start": 2.8558399999999993,
            "bin_end": 3.2918799999999995,
            "count": 1
           },
           {
            "bin_start": 3.2918799999999995,
            "bin_end": 3.7279199999999992,
            "count": 0
           },
           {
            "bin_start": 3.7279199999999992,
            "bin_end": 4.163959999999999,
            "count": 0
           },
           {
            "bin_start": 4.163959999999999,
            "bin_end": 4.6,
            "count": 2
           }
          ]
         }
        },
        {
         "name": "EPS Diluted",
         "dtype": "float64",
         "stats": {
          "unique_count": 5,
          "nan_count": 0,
          "min": "0.226",
          "max": "4.6",
          "histogram": [
           {
            "bin_start": 0.226,
            "bin_end": 0.6634,
            "count": 1
           },
           {
            "bin_start": 0.6634,
            "bin_end": 1.1008,
            "count": 0
           },
           {
            "bin_start": 1.1008,
            "bin_end": 1.5381999999999998,
            "count": 1
           },
           {
            "bin_start": 1.5381999999999998,
            "bin_end": 1.9755999999999998,
            "count": 0
           },
           {
            "bin_start": 1.9755999999999998,
            "bin_end": 2.413,
            "count": 0
           },
           {
            "bin_start": 2.413,
            "bin_end": 2.8503999999999996,
            "count": 1
           },
           {
            "bin_start": 2.8503999999999996,
            "bin_end": 3.2878,
            "count": 0
           },
           {
            "bin_start": 3.2878,
            "bin_end": 3.7251999999999996,
            "count": 0
           },
           {
            "bin_start": 3.7251999999999996,
            "bin_end": 4.162599999999999,
            "count": 1
           },
           {
            "bin_start": 4.162599999999999,
            "bin_end": 4.6,
            "count": 1
           }
          ]
         }
        },
        {
         "name": "Weighted Average Shs Out",
         "dtype": "float64",
         "stats": {
          "unique_count": 4,
          "nan_count": 1,
          "min": "48326279.0",
          "max": "2705960276.0",
          "histogram": [
           {
            "bin_start": 48326279,
            "bin_end": 314089678.7,
            "count": 1
           },
           {
            "bin_start": 314089678.7,
            "bin_end": 579853078.4,
            "count": 0
           },
           {
            "bin_start": 579853078.4,
            "bin_end": 845616478.0999999,
            "count": 1
           },
           {
            "bin_start": 845616478.0999999,
            "bin_end": 1111379877.8,
            "count": 1
           },
           {
            "bin_start": 1111379877.8,
            "bin_end": 1377143277.5,
            "count": 0
           },
           {
            "bin_start": 1377143277.5,
            "bin_end": 1642906677.1999998,
            "count": 0
           },
           {
            "bin_start": 1642906677.1999998,
            "bin_end": 1908670076.8999999,
            "count": 0
           },
           {
            "bin_start": 1908670076.8999999,
            "bin_end": 2174433476.6,
            "count": 0
           },
           {
            "bin_start": 2174433476.6,
            "bin_end": 2440196876.2999997,
            "count": 0
           },
           {
            "bin_start": 2440196876.2999997,
            "bin_end": 2705960276,
            "count": 1
           }
          ]
         }
        },
        {
         "name": "Weighted Average Shs Out (Dil)",
         "dtype": "float64",
         "stats": {
          "unique_count": 5,
          "nan_count": 0,
          "min": "18293619.9548",
          "max": "2705960276.0",
          "histogram": [
           {
            "bin_start": 18293619.9548,
            "bin_end": 287060285.55932,
            "count": 2
           },
           {
            "bin_start": 287060285.55932,
            "bin_end": 555826951.1638399,
            "count": 0
           },
           {
            "bin_start": 555826951.1638399,
            "bin_end": 824593616.7683599,
            "count": 1
           },
           {
            "bin_start": 824593616.7683599,
            "bin_end": 1093360282.3728797,
            "count": 1
           },
           {
            "bin_start": 1093360282.3728797,
            "bin_end": 1362126947.9773996,
            "count": 0
           },
           {
            "bin_start": 1362126947.9773996,
            "bin_end": 1630893613.5819197,
            "count": 0
           },
           {
            "bin_start": 1630893613.5819197,
            "bin_end": 1899660279.1864398,
            "count": 0
           },
           {
            "bin_start": 1899660279.1864398,
            "bin_end": 2168426944.79096,
            "count": 0
           },
           {
            "bin_start": 2168426944.79096,
            "bin_end": 2437193610.3954797,
            "count": 0
           },
           {
            "bin_start": 2437193610.3954797,
            "bin_end": 2705960276,
            "count": 1
           }
          ]
         }
        },
        {
         "name": "Dividend per Share",
         "dtype": "float64",
         "stats": {
          "unique_count": 4,
          "nan_count": 0,
          "min": "0.0",
          "max": "2.448",
          "histogram": [
           {
            "bin_start": 0,
            "bin_end": 0.2448,
            "count": 2
           },
           {
            "bin_start": 0.2448,
            "bin_end": 0.4896,
            "count": 1
           },
           {
            "bin_start": 0.4896,
            "bin_end": 0.7343999999999999,
            "count": 0
           },
           {
            "bin_start": 0.7343999999999999,
            "bin_end": 0.9792,
            "count": 0
           },
           {
            "bin_start": 0.9792,
            "bin_end": 1.224,
            "count": 0
           },
           {
            "bin_start": 1.224,
            "bin_end": 1.4687999999999999,
            "count": 0
           },
           {
            "bin_start": 1.4687999999999999,
            "bin_end": 1.7136,
            "count": 1
           },
           {
            "bin_start": 1.7136,
            "bin_end": 1.9584,
            "count": 0
           },
           {
            "bin_start": 1.9584,
            "bin_end": 2.2032,
            "count": 0
           },
           {
            "bin_start": 2.2032,
            "bin_end": 2.448,
            "count": 1
           }
          ]
         }
        },
        {
         "name": "Gross Margin",
         "dtype": "float64",
         "stats": {
          "unique_count": 5,
          "nan_count": 0,
          "min": "0.2057",
          "max": "0.4754",
          "histogram": [
           {
            "bin_start": 0.2057,
            "bin_end": 0.23267,
            "count": 1
           },
           {
            "bin_start": 0.23267,
            "bin_end": 0.25964,
            "count": 1
           },
           {
            "bin_start": 0.25964,
            "bin_end": 0.28661000000000003,
            "count": 0
           },
           {
            "bin_start": 0.28661000000000003,
            "bin_end": 0.31357999999999997,
            "count": 1
           },
           {
            "bin_start": 0.31357999999999997,
            "bin_end": 0.34055,
            "count": 0
           },
           {
            "bin_start": 0.34055,
            "bin_end": 0.36752,
            "count": 1
           },
           {
            "bin_start": 0.36752,
            "bin_end": 0.39449,
            "count": 0
           },
           {
            "bin_start": 0.39449,
            "bin_end": 0.42146,
            "count": 0
           },
           {
            "bin_start": 0.42146,
            "bin_end": 0.44843,
            "count": 0
           },
           {
            "bin_start": 0.44843,
            "bin_end": 0.4754,
            "count": 1
           }
          ]
         }
        },
        {
         "name": "EBITDA Margin",
         "dtype": "float64",
         "stats": {
          "unique_count": 5,
          "nan_count": 0,
          "min": "0.0107",
          "max": "0.247",
          "histogram": [
           {
            "bin_start": 0.0107,
            "bin_end": 0.03433,
            "count": 1
           },
           {
            "bin_start": 0.03433,
            "bin_end": 0.057960000000000005,
            "count": 2
           },
           {
            "bin_start": 0.057960000000000005,
            "bin_end": 0.08159000000000001,
            "count": 0
           },
           {
            "bin_start": 0.08159000000000001,
            "bin_end": 0.10522000000000001,
            "count": 0
           },
           {
            "bin_start": 0.10522000000000001,
            "bin_end": 0.12885,
            "count": 0
           },
           {
            "bin_start": 0.12885,
            "bin_end": 0.15248,
            "count": 0
           },
           {
            "bin_start": 0.15248,
            "bin_end": 0.17611,
            "count": 0
           },
           {
            "bin_start": 0.17611,
            "bin_end": 0.19974,
            "count": 0
           },
           {
            "bin_start": 0.19974,
            "bin_end": 0.22337,
            "count": 1
           },
           {
            "bin_start": 0.22337,
            "bin_end": 0.247,
            "count": 1
           }
          ]
         }
        },
        {
         "name": "EBIT Margin",
         "dtype": "float64",
         "stats": {
          "unique_count": 5,
          "nan_count": 0,
          "min": "0.0264",
          "max": "0.2043",
          "histogram": [
           {
            "bin_start": 0.0264,
            "bin_end": 0.04419,
            "count": 2
           },
           {
            "bin_start": 0.04419,
            "bin_end": 0.06198,
            "count": 1
           },
           {
            "bin_start": 0.06198,
            "bin_end": 0.07977000000000001,
            "count": 0
           },
           {
            "bin_start": 0.07977000000000001,
            "bin_end": 0.09756000000000001,
            "count": 0
           },
           {
            "bin_start": 0.09756000000000001,
            "bin_end": 0.11535000000000001,
            "count": 0
           },
           {
            "bin_start": 0.11535000000000001,
            "bin_end": 0.13314,
            "count": 0
           },
           {
            "bin_start": 0.13314,
            "bin_end": 0.15093,
            "count": 0
           },
           {
            "bin_start": 0.15093,
            "bin_end": 0.16872,
            "count": 1
           },
           {
            "bin_start": 0.16872,
            "bin_end": 0.18651,
            "count": 0
           },
           {
            "bin_start": 0.18651,
            "bin_end": 0.2043,
            "count": 1
           }
          ]
         }
        },
        {
         "name": "Profit Margin",
         "dtype": "float64",
         "stats": {
          "unique_count": 5,
          "nan_count": 0,
          "min": "0.0058",
          "max": "0.156",
          "histogram": [
           {
            "bin_start": 0.0058,
            "bin_end": 0.020819999999999998,
            "count": 3
           },
           {
            "bin_start": 0.020819999999999998,
            "bin_end": 0.03584,
            "count": 0
           },
           {
            "bin_start": 0.03584,
            "bin_end": 0.05086,
            "count": 0
           },
           {
            "bin_start": 0.05086,
            "bin_end": 0.06588,
            "count": 0
           },
           {
            "bin_start": 0.06588,
            "bin_end": 0.0809,
            "count": 0
           },
           {
            "bin_start": 0.0809,
            "bin_end": 0.09592,
            "count": 0
           },
           {
            "bin_start": 0.09592,
            "bin_end": 0.11094,
            "count": 1
           },
           {
            "bin_start": 0.11094,
            "bin_end": 0.12596000000000002,
            "count": 0
           },
           {
            "bin_start": 0.12596000000000002,
            "bin_end": 0.14098,
            "count": 0
           },
           {
            "bin_start": 0.14098,
            "bin_end": 0.156,
            "count": 1
           }
          ]
         }
        },
        {
         "name": "Free Cash Flow margin",
         "dtype": "float64",
         "stats": {
          "unique_count": 5,
          "nan_count": 0,
          "min": "0.0126",
          "max": "0.1359",
          "histogram": [
           {
            "bin_start": 0.0126,
            "bin_end": 0.02493,
            "count": 2
           },
           {
            "bin_start": 0.02493,
            "bin_end": 0.03726,
            "count": 0
           },
           {
            "bin_start": 0.03726,
            "bin_end": 0.049589999999999995,
            "count": 0
           },
           {
            "bin_start": 0.049589999999999995,
            "bin_end": 0.061919999999999996,
            "count": 0
           },
           {
            "bin_start": 0.061919999999999996,
            "bin_end": 0.07425,
            "count": 1
           },
           {
            "bin_start": 0.07425,
            "bin_end": 0.08657999999999999,
            "count": 0
           },
           {
            "bin_start": 0.08657999999999999,
            "bin_end": 0.09891,
            "count": 0
           },
           {
            "bin_start": 0.09891,
            "bin_end": 0.11123999999999999,
            "count": 1
           },
           {
            "bin_start": 0.11123999999999999,
            "bin_end": 0.12356999999999999,
            "count": 0
           },
           {
            "bin_start": 0.12356999999999999,
            "bin_end": 0.1359,
            "count": 1
           }
          ]
         }
        },
        {
         "name": "EBITDA",
         "dtype": "float64",
         "stats": {
          "unique_count": 5,
          "nan_count": 0,
          "min": "245685824.9919",
          "max": "18344000000.0",
          "histogram": [
           {
            "bin_start": 245685824.9919,
            "bin_end": 2055517242.4927099,
            "count": 2
           },
           {
            "bin_start": 2055517242.4927099,
            "bin_end": 3865348659.99352,
            "count": 1
           },
           {
            "bin_start": 3865348659.99352,
            "bin_end": 5675180077.49433,
            "count": 1
           },
           {
            "bin_start": 5675180077.49433,
            "bin_end": 7485011494.99514,
            "count": 0
           },
           {
            "bin_start": 7485011494.99514,
            "bin_end": 9294842912.495949,
            "count": 0
           },
           {
            "bin_start": 9294842912.495949,
            "bin_end": 11104674329.99676,
            "count": 0
           },
           {
            "bin_start": 11104674329.99676,
            "bin_end": 12914505747.497568,
            "count": 0
           },
           {
            "bin_start": 12914505747.497568,
            "bin_end": 14724337164.998379,
            "count": 0
           },
           {
            "bin_start": 14724337164.998379,
            "bin_end": 16534168582.49919,
            "count": 0
           },
           {
            "bin_start": 16534168582.49919,
            "bin_end": 18344000000,
            "count": 1
           }
          ]
         }
        },
        {
         "name": "EBIT",
         "dtype": "float64",
         "stats": {
          "unique_count": 5,
          "nan_count": 0,
          "min": "187530997.7397",
          "max": "15203000000.0",
          "histogram": [
           {
            "bin_start": 187530997.7397,
            "bin_end": 1689077897.96573,
            "count": 2
           },
           {
            "bin_start": 1689077897.96573,
            "bin_end": 3190624798.1917596,
            "count": 2
           },
           {
            "bin_start": 3190624798.1917596,
            "bin_end": 4692171698.417789,
            "count": 0
           },
           {
            "bin_start": 4692171698.417789,
            "bin_end": 6193718598.64382,
            "count": 0
           },
           {
            "bin_start": 6193718598.64382,
            "bin_end": 7695265498.86985,
            "count": 0
           },
           {
            "bin_start": 7695265498.86985,
            "bin_end": 9196812399.095879,
            "count": 0
           },
           {
            "bin_start": 9196812399.095879,
            "bin_end": 10698359299.321909,
            "count": 0
           },
           {
            "bin_start": 10698359299.321909,
            "bin_end": 12199906199.54794,
            "count": 0
           },
           {
            "bin_start": 12199906199.54794,
            "bin_end": 13701453099.77397,
            "count": 0
           },
           {
            "bin_start": 13701453099.77397,
            "bin_end": 15203000000,
            "count": 1
           }
          ]
         }
        },
        {
         "name": "Consolidated Income",
         "dtype": "float64",
         "stats": {
          "unique_count": 5,
          "nan_count": 0,
          "min": "121503551.8243",
          "max": "11785000000.0",
          "histogram": [
           {
            "bin_start": 121503551.8243,
            "bin_end": 1287853196.64187,
            "count": 2
           },
           {
            "bin_start": 1287853196.64187,
            "bin_end": 2454202841.4594398,
            "count": 2
           },
           {
            "bin_start": 2454202841.4594398,
            "bin_end": 3620552486.27701,
            "count": 0
           },
           {
            "bin_start": 3620552486.27701,
            "bin_end": 4786902131.09458,
            "count": 0
           },
           {
            "bin_start": 4786902131.09458,
            "bin_end": 5953251775.912149,
            "count": 0
           },
           {
            "bin_start": 5953251775.912149,
            "bin_end": 7119601420.72972,
            "count": 0
           },
           {
            "bin_start": 7119601420.72972,
            "bin_end": 8285951065.54729,
            "count": 0
           },
           {
            "bin_start": 8285951065.54729,
            "bin_end": 9452300710.36486,
            "count": 0
           },
           {
            "bin_start": 9452300710.36486,
            "bin_end": 10618650355.18243,
            "count": 0
           },
           {
            "bin_start": 10618650355.18243,
            "bin_end": 11785000000,
            "count": 1
           }
          ]
         }
        },
        {
         "name": "Earnings Before Tax Margin",
         "dtype": "float64",
         "stats": {
          "unique_count": 5,
          "nan_count": 0,
          "min": "0.0098",
          "max": "0.1948",
          "histogram": [
           {
            "bin_start": 0.0098,
            "bin_end": 0.0283,
            "count": 2
           },
           {
            "bin_start": 0.0283,
            "bin_end": 0.046799999999999994,
            "count": 0
           },
           {
            "bin_start": 0.046799999999999994,
            "bin_end": 0.0653,
            "count": 1
           },
           {
            "bin_start": 0.0653,
            "bin_end": 0.0838,
            "count": 0
           },
           {
            "bin_start": 0.0838,
            "bin_end": 0.1023,
            "count": 0
           },
           {
            "bin_start": 0.1023,
            "bin_end": 0.12079999999999999,
            "count": 0
           },
           {
            "bin_start": 0.12079999999999999,
            "bin_end": 0.1393,
            "count": 0
           },
           {
            "bin_start": 0.1393,
            "bin_end": 0.1578,
            "count": 1
           },
           {
            "bin_start": 0.1578,
            "bin_end": 0.17629999999999998,
            "count": 0
           },
           {
            "bin_start": 0.17629999999999998,
            "bin_end": 0.1948,
            "count": 1
           }
          ]
         }
        },
        {
         "name": "Net Profit Margin",
         "dtype": "float64",
         "stats": {
          "unique_count": 5,
          "nan_count": 0,
          "min": "0.0098",
          "max": "0.1565",
          "histogram": [
           {
            "bin_start": 0.0098,
            "bin_end": 0.02447,
            "count": 2
           },
           {
            "bin_start": 0.02447,
            "bin_end": 0.039139999999999994,
            "count": 1
           },
           {
            "bin_start": 0.039139999999999994,
            "bin_end": 0.05381,
            "count": 0
           },
           {
            "bin_start": 0.05381,
            "bin_end": 0.06848,
            "count": 0
           },
           {
            "bin_start": 0.06848,
            "bin_end": 0.08315,
            "count": 0
           },
           {
            "bin_start": 0.08315,
            "bin_end": 0.09781999999999999,
            "count": 0
           },
           {
            "bin_start": 0.09781999999999999,
            "bin_end": 0.11248999999999999,
            "count": 1
           },
           {
            "bin_start": 0.11248999999999999,
            "bin_end": 0.12716,
            "count": 0
           },
           {
            "bin_start": 0.12716,
            "bin_end": 0.14182999999999998,
            "count": 0
           },
           {
            "bin_start": 0.14182999999999998,
            "bin_end": 0.1565,
            "count": 1
           }
          ]
         }
        },
        {
         "name": "Cash and cash equivalents",
         "dtype": "float64",
         "stats": {
          "unique_count": 5,
          "nan_count": 0,
          "min": "146406000.0",
          "max": "8558000000.0",
          "histogram": [
           {
            "bin_start": 146406000,
            "bin_end": 987565400,
            "count": 4
           },
           {
            "bin_start": 987565400,
            "bin_end": 1828724800,
            "count": 0
           },
           {
            "bin_start": 1828724800,
            "bin_end": 2669884200,
            "count": 0
           },
           {
            "bin_start": 2669884200,
            "bin_end": 3511043600,
            "count": 0
           },
           {
            "bin_start": 3511043600,
            "bin_end": 4352203000,
            "count": 0
           },
           {
            "bin_start": 4352203000,
            "bin_end": 5193362400,
            "count": 0
           },
           {
            "bin_start": 5193362400,
            "bin_end": 6034521800,
            "count": 0
           },
           {
            "bin_start": 6034521800,
            "bin_end": 6875681200,
            "count": 0
           },
           {
            "bin_start": 6875681200,
            "bin_end": 7716840600,
            "count": 0
           },
           {
            "bin_start": 7716840600,
            "bin_end": 8558000000,
            "count": 1
           }
          ]
         }
        },
        {
         "name": "Short-term investments",
         "dtype": "float64",
         "stats": {
          "unique_count": 3,
          "nan_count": 0,
          "min": "0.0",
          "max": "2128000000.0",
          "histogram": [
           {
            "bin_start": 0,
            "bin_end": 212800000,
            "count": 3
           },
           {
            "bin_start": 212800000,
            "bin_end": 425600000,
            "count": 0
           },
           {
            "bin_start": 425600000,
            "bin_end": 638400000,
            "count": 1
           },
           {
            "bin_start": 638400000,
            "bin_end": 851200000,
            "count": 0
           },
           {
            "bin_start": 851200000,
            "bin_end": 1064000000,
            "count": 0
           },
           {
            "bin_start": 1064000000,
            "bin_end": 1276800000,
            "count": 0
           },
           {
            "bin_start": 1276800000,
            "bin_end": 1489600000,
            "count": 0
           },
           {
            "bin_start": 1489600000,
            "bin_end": 1702400000,
            "count": 0
           },
           {
            "bin_start": 1702400000,
            "bin_end": 1915200000,
            "count": 0
           },
           {
            "bin_start": 1915200000,
            "bin_end": 2128000000,
            "count": 1
           }
          ]
         }
        },
        {
         "name": "Cash and short-term investments",
         "dtype": "float64",
         "stats": {
          "unique_count": 5,
          "nan_count": 0,
          "min": "146406000.0",
          "max": "10686000000.0",
          "histogram": [
           {
            "bin_start": 146406000,
            "bin_end": 1200365400,
            "count": 3
           },
           {
            "bin_start": 1200365400,
            "bin_end": 2254324800,
            "count": 1
           },
           {
            "bin_start": 2254324800,
            "bin_end": 3308284200,
            "count": 0
           },
           {
            "bin_start": 3308284200,
            "bin_end": 4362243600,
            "count": 0
           },
           {
            "bin_start": 4362243600,
            "bin_end": 5416203000,
            "count": 0
           },
           {
            "bin_start": 5416203000,
            "bin_end": 6470162400,
            "count": 0
           },
           {
            "bin_start": 6470162400,
            "bin_end": 7524121800,
            "count": 0
           },
           {
            "bin_start": 7524121800,
            "bin_end": 8578081200,
            "count": 0
           },
           {
            "bin_start": 8578081200,
            "bin_end": 9632040600,
            "count": 0
           },
           {
            "bin_start": 9632040600,
            "bin_end": 10686000000,
            "count": 1
           }
          ]
         }
        },
        {
         "name": "Receivables",
         "dtype": "float64",
         "stats": {
          "unique_count": 5,
          "nan_count": 0,
          "min": "11694865.9994",
          "max": "6386000000.0",
          "histogram": [
           {
            "bin_start": 11694865.9994,
            "bin_end": 649125379.39946,
            "count": 1
           },
           {
            "bin_start": 649125379.39946,
            "bin_end": 1286555892.7995198,
            "count": 2
           },
           {
            "bin_start": 1286555892.7995198,
            "bin_end": 1923986406.1995797,
            "count": 1
           },
           {
            "bin_start": 1923986406.1995797,
            "bin_end": 2561416919.59964,
            "count": 0
           },
           {
            "bin_start": 2561416919.59964,
            "bin_end": 3198847432.9996996,
            "count": 0
           },
           {
            "bin_start": 3198847432.9996996,
            "bin_end": 3836277946.39976,
            "count": 0
           },
           {
            "bin_start": 3836277946.39976,
            "bin_end": 4473708459.79982,
            "count": 0
           },
           {
            "bin_start": 4473708459.79982,
            "bin_end": 5111138973.19988,
            "count": 0
           },
           {
            "bin_start": 5111138973.19988,
            "bin_end": 5748569486.599939,
            "count": 0
           },
           {
            "bin_start": 5748569486.599939,
            "bin_end": 6386000000,
            "count": 1
           }
          ]
         }
        },
        {
         "name": "Inventories",
         "dtype": "float64",
         "stats": {
          "unique_count": 5,
          "nan_count": 0,
          "min": "579319341.298",
          "max": "6759000000.0",
          "histogram": [
           {
            "bin_start": 579319341.298,
            "bin_end": 1197287407.1682,
            "count": 1
           },
           {
            "bin_start": 1197287407.1682,
            "bin_end": 1815255473.0383997,
            "count": 1
           },
           {
            "bin_start": 1815255473.0383997,
            "bin_end": 2433223538.9086,
            "count": 0
           },
           {
            "bin_start": 2433223538.9086,
            "bin_end": 3051191604.7787995,
            "count": 1
           },
           {
            "bin_start": 3051191604.7787995,
            "bin_end": 3669159670.6489997,
            "count": 0
           },
           {
            "bin_start": 3669159670.6489997,
            "bin_end": 4287127736.5191994,
            "count": 0
           },
           {
            "bin_start": 4287127736.5191994,
            "bin_end": 4905095802.3894,
            "count": 0
           },
           {
            "bin_start": 4905095802.3894,
            "bin_end": 5523063868.2596,
            "count": 0
           },
           {
            "bin_start": 5523063868.2596,
            "bin_end": 6141031934.1298,
            "count": 1
           },
           {
            "bin_start": 6141031934.1298,
            "bin_end": 6759000000,
            "count": 1
           }
          ]
         }
        },
        {
         "name": "Total current assets",
         "dtype": "float64",
         "stats": {
          "unique_count": 5,
          "nan_count": 0,
          "min": "2134396835.6474",
          "max": "31617000000.0",
          "histogram": [
           {
            "bin_start": 2134396835.6474,
            "bin_end": 5082657152.08266,
            "count": 3
           },
           {
            "bin_start": 5082657152.08266,
            "bin_end": 8030917468.51792,
            "count": 0
           },
           {
            "bin_start": 8030917468.51792,
            "bin_end": 10979177784.953178,
            "count": 1
           },
           {
            "bin_start": 10979177784.953178,
            "bin_end": 13927438101.38844,
            "count": 0
           },
           {
            "bin_start": 13927438101.38844,
            "bin_end": 16875698417.8237,
            "count": 0
           },
           {
            "bin_start": 16875698417.8237,
            "bin_end": 19823958734.258957,
            "count": 0
           },
           {
            "bin_start": 19823958734.258957,
            "bin_end": 22772219050.694218,
            "count": 0
           },
           {
            "bin_start": 22772219050.694218,
            "bin_end": 25720479367.12948,
            "count": 0
           },
           {
            "bin_start": 25720479367.12948,
            "bin_end": 28668739683.56474,
            "count": 0
           },
           {
            "bin_start": 28668739683.56474,
            "bin_end": 31617000000,
            "count": 1
           }
          ]
         }
        },
        {
         "name": "Property, Plant & Equipment Net",
         "dtype": "float64",
         "stats": {
          "unique_count": 5,
          "nan_count": 0,
          "min": "308597513.723",
          "max": "22304000000.0",
          "histogram": [
           {
            "bin_start": 308597513.723,
            "bin_end": 2508137762.3507,
            "count": 2
           },
           {
            "bin_start": 2508137762.3507,
            "bin_end": 4707678010.978399,
            "count": 1
           },
           {
            "bin_start": 4707678010.978399,
            "bin_end": 6907218259.606099,
            "count": 0
           },
           {
            "bin_start": 6907218259.606099,
            "bin_end": 9106758508.233799,
            "count": 0
           },
           {
            "bin_start": 9106758508.233799,
            "bin_end": 11306298756.8615,
            "count": 0
           },
           {
            "bin_start": 11306298756.8615,
            "bin_end": 13505839005.489199,
            "count": 0
           },
           {
            "bin_start": 13505839005.489199,
            "bin_end": 15705379254.116898,
            "count": 0
           },
           {
            "bin_start": 15705379254.116898,
            "bin_end": 17904919502.7446,
            "count": 1
           },
           {
            "bin_start": 17904919502.7446,
            "bin_end": 20104459751.3723,
            "count": 0
           },
           {
            "bin_start": 20104459751.3723,
            "bin_end": 22304000000,
            "count": 1
           }
          ]
         }
        },
        {
         "name": "Goodwill and Intangible Assets",
         "dtype": "float64",
         "stats": {
          "unique_count": 5,
          "nan_count": 0,
          "min": "190658701.9696",
          "max": "84547000000.0",
          "histogram": [
           {
            "bin_start": 190658701.9696,
            "bin_end": 8626292831.77264,
            "count": 3
           },
           {
            "bin_start": 8626292831.77264,
            "bin_end": 17061926961.57568,
            "count": 1
           },
           {
            "bin_start": 17061926961.57568,
            "bin_end": 25497561091.37872,
            "count": 0
           },
           {
            "bin_start": 25497561091.37872,
            "bin_end": 33933195221.18176,
            "count": 0
           },
           {
            "bin_start": 33933195221.18176,
            "bin_end": 42368829350.984795,
            "count": 0
           },
           {
            "bin_start": 42368829350.984795,
            "bin_end": 50804463480.787834,
            "count": 0
           },
           {
            "bin_start": 50804463480.787834,
            "bin_end": 59240097610.59087,
            "count": 0
           },
           {
            "bin_start": 59240097610.59087,
            "bin_end": 67675731740.39391,
            "count": 0
           },
           {
            "bin_start": 67675731740.39391,
            "bin_end": 76111365870.19696,
            "count": 0
           },
           {
            "bin_start": 76111365870.19696,
            "bin_end": 84547000000,
            "count": 1
           }
          ]
         }
        },
        {
         "name": "Long-term investments",
         "dtype": "float64",
         "stats": {
          "unique_count": 2,
          "nan_count": 0,
          "min": "0.0",
          "max": "62993542.1376",
          "histogram": [
           {
            "bin_start": 0,
            "bin_end": 6299354.21376,
            "count": 4
           },
           {
            "bin_start": 6299354.21376,
            "bin_end": 12598708.42752,
            "count": 0
           },
           {
            "bin_start": 12598708.42752,
            "bin_end": 18898062.64128,
            "count": 0
           },
           {
            "bin_start": 18898062.64128,
            "bin_end": 25197416.85504,
            "count": 0
           },
           {
            "bin_start": 25197416.85504,
            "bin_end": 31496771.0688,
            "count": 0
           },
           {
            "bin_start": 31496771.0688,
            "bin_end": 37796125.28256,
            "count": 0
           },
           {
            "bin_start": 37796125.28256,
            "bin_end": 44095479.496319994,
            "count": 0
           },
           {
            "bin_start": 44095479.496319994,
            "bin_end": 50394833.71008,
            "count": 0
           },
           {
            "bin_start": 50394833.71008,
            "bin_end": 56694187.92384,
            "count": 0
           },
           {
            "bin_start": 56694187.92384,
            "bin_end": 62993542.1376,
            "count": 1
           }
          ]
         }
        },
        {
         "name": "Tax assets",
         "dtype": "float64",
         "stats": {
          "unique_count": 4,
          "nan_count": 0,
          "min": "0.0",
          "max": "1092000000.0",
          "histogram": [
           {
            "bin_start": 0,
            "bin_end": 109200000,
            "count": 4
           },
           {
            "bin_start": 109200000,
            "bin_end": 218400000,
            "count": 0
           },
           {
            "bin_start": 218400000,
            "bin_end": 327600000,
            "count": 0
           },
           {
            "bin_start": 327600000,
            "bin_end": 436800000,
            "count": 0
           },
           {
            "bin_start": 436800000,
            "bin_end": 546000000,
            "count": 0
           },
           {
            "bin_start": 546000000,
            "bin_end": 655200000,
            "count": 0
           },
           {
            "bin_start": 655200000,
            "bin_end": 764400000,
            "count": 0
           },
           {
            "bin_start": 764400000,
            "bin_end": 873600000,
            "count": 0
           },
           {
            "bin_start": 873600000,
            "bin_end": 982800000,
            "count": 0
           },
           {
            "bin_start": 982800000,
            "bin_end": 1092000000,
            "count": 1
           }
          ]
         }
        },
        {
         "name": "Total non-current assets",
         "dtype": "float64",
         "stats": {
          "unique_count": 5,
          "nan_count": 0,
          "min": "602290442.3636",
          "max": "112649000000.0",
          "histogram": [
           {
            "bin_start": 602290442.3636,
            "bin_end": 11806961398.12724,
            "count": 2
           },
           {
            "bin_start": 11806961398.12724,
            "bin_end": 23011632353.89088,
            "count": 2
           },
           {
            "bin_start": 23011632353.89088,
            "bin_end": 34216303309.65452,
            "count": 0
           },
           {
            "bin_start": 34216303309.65452,
            "bin_end": 45420974265.41816,
            "count": 0
           },
           {
            "bin_start": 45420974265.41816,
            "bin_end": 56625645221.1818,
            "count": 0
           },
           {
            "bin_start": 56625645221.1818,
            "bin_end": 67830316176.945435,
            "count": 0
           },
           {
            "bin_start": 67830316176.945435,
            "bin_end": 79034987132.70908,
            "count": 0
           },
           {
            "bin_start": 79034987132.70908,
            "bin_end": 90239658088.47272,
            "count": 0
           },
           {
            "bin_start": 90239658088.47272,
            "bin_end": 101444329044.23636,
            "count": 0
           },
           {
            "bin_start": 101444329044.23636,
            "bin_end": 112649000000,
            "count": 1
           }
          ]
         }
        },
        {
         "name": "Total assets",
         "dtype": "float64",
         "stats": {
          "unique_count": 5,
          "nan_count": 0,
          "min": "2736687278.011",
          "max": "144266000000.0",
          "histogram": [
           {
            "bin_start": 2736687278.011,
            "bin_end": 16889618550.209902,
            "count": 2
           },
           {
            "bin_start": 16889618550.209902,
            "bin_end": 31042549822.408806,
            "count": 2
           },
           {
            "bin_start": 31042549822.408806,
            "bin_end": 45195481094.60771,
            "count": 0
           },
           {
            "bin_start": 45195481094.60771,
            "bin_end": 59348412366.80661,
            "count": 0
           },
           {
            "bin_start": 59348412366.80661,
            "bin_end": 73501343639.00551,
            "count": 0
           },
           {
            "bin_start": 73501343639.00551,
            "bin_end": 87654274911.20442,
            "count": 0
           },
           {
            "bin_start": 87654274911.20442,
            "bin_end": 101807206183.40332,
            "count": 0
           },
           {
            "bin_start": 101807206183.40332,
            "bin_end": 115960137455.60222,
            "count": 0
           },
           {
            "bin_start": 115960137455.60222,
            "bin_end": 130113068727.80112,
            "count": 0
           },
           {
            "bin_start": 130113068727.80112,
            "bin_end": 144266000000,
            "count": 1
           }
          ]
         }
        },
        {
         "name": "Payables",
         "dtype": "float64",
         "stats": {
          "unique_count": 5,
          "nan_count": 0,
          "min": "1000490797.546",
          "max": "8461000000.0",
          "histogram": [
           {
            "bin_start": 1000490797.546,
            "bin_end": 1746541717.7914,
            "count": 3
           },
           {
            "bin_start": 1746541717.7914,
            "bin_end": 2492592638.0368004,
            "count": 0
           },
           {
            "bin_start": 2492592638.0368004,
            "bin_end": 3238643558.2822003,
            "count": 0
           },
           {
            "bin_start": 3238643558.2822003,
            "bin_end": 3984694478.5276003,
            "count": 0
           },
           {
            "bin_start": 3984694478.5276003,
            "bin_end": 4730745398.773001,
            "count": 0
           },
           {
            "bin_start": 4730745398.773001,
            "bin_end": 5476796319.0184,
            "count": 1
           },
           {
            "bin_start": 5476796319.0184,
            "bin_end": 6222847239.2638,
            "count": 0
           },
           {
            "bin_start": 6222847239.2638,
            "bin_end": 6968898159.509201,
            "count": 0
           },
           {
            "bin_start": 6968898159.509201,
            "bin_end": 7714949079.754601,
            "count": 0
           },
           {
            "bin_start": 7714949079.754601,
            "bin_end": 8461000000,
            "count": 1
           }
          ]
         }
        },
        {
         "name": "Short-term debt",
         "dtype": "float64",
         "stats": {
          "unique_count": 5,
          "nan_count": 0,
          "min": "0.0",
          "max": "15606000000.0",
          "histogram": [
           {
            "bin_start": 0,
            "bin_end": 1560600000,
            "count": 2
           },
           {
            "bin_start": 1560600000,
            "bin_end": 3121200000,
            "count": 2
           },
           {
            "bin_start": 3121200000,
            "bin_end": 4681800000,
            "count": 0
           },
           {
            "bin_start": 4681800000,
            "bin_end": 6242400000,
            "count": 0
           },
           {
            "bin_start": 6242400000,
            "bin_end": 7803000000,
            "count": 0
           },
           {
            "bin_start": 7803000000,
            "bin_end": 9363600000,
            "count": 0
           },
           {
            "bin_start": 9363600000,
            "bin_end": 10924200000,
            "count": 0
           },
           {
            "bin_start": 10924200000,
            "bin_end": 12484800000,
            "count": 0
           },
           {
            "bin_start": 12484800000,
            "bin_end": 14045400000,
            "count": 0
           },
           {
            "bin_start": 14045400000,
            "bin_end": 15606000000,
            "count": 1
           }
          ]
         }
        },
        {
         "name": "Total current liabilities",
         "dtype": "float64",
         "stats": {
          "unique_count": 5,
          "nan_count": 0,
          "min": "1639536809.816",
          "max": "33726000000.0",
          "histogram": [
           {
            "bin_start": 1639536809.816,
            "bin_end": 4848183128.8344,
            "count": 2
           },
           {
            "bin_start": 4848183128.8344,
            "bin_end": 8056829447.852799,
            "count": 1
           },
           {
            "bin_start": 8056829447.852799,
            "bin_end": 11265475766.871199,
            "count": 1
           },
           {
            "bin_start": 11265475766.871199,
            "bin_end": 14474122085.889599,
            "count": 0
           },
           {
            "bin_start": 14474122085.889599,
            "bin_end": 17682768404.907997,
            "count": 0
           },
           {
            "bin_start": 17682768404.907997,
            "bin_end": 20891414723.9264,
            "count": 0
           },
           {
            "bin_start": 20891414723.9264,
            "bin_end": 24100061042.9448,
            "count": 0
           },
           {
            "bin_start": 24100061042.9448,
            "bin_end": 27308707361.963196,
            "count": 0
           },
           {
            "bin_start": 27308707361.963196,
            "bin_end": 30517353680.981598,
            "count": 0
           },
           {
            "bin_start": 30517353680.981598,
            "bin_end": 33726000000,
            "count": 1
           }
          ]
         }
        },
        {
         "name": "Long-term debt",
         "dtype": "float64",
         "stats": {
          "unique_count": 5,
          "nan_count": 0,
          "min": "622374071.6823",
          "max": "19811000000.0",
          "histogram": [
           {
            "bin_start": 622374071.6823,
            "bin_end": 2541236664.51407,
            "count": 1
           },
           {
            "bin_start": 2541236664.51407,
            "bin_end": 4460099257.3458395,
            "count": 0
           },
           {
            "bin_start": 4460099257.3458395,
            "bin_end": 6378961850.177609,
            "count": 1
           },
           {
            "bin_start": 6378961850.177609,
            "bin_end": 8297824443.009379,
            "count": 1
           },
           {
            "bin_start": 8297824443.009379,
            "bin_end": 10216687035.84115,
            "count": 1
           },
           {
            "bin_start": 10216687035.84115,
            "bin_end": 12135549628.67292,
            "count": 0
           },
           {
            "bin_start": 12135549628.67292,
            "bin_end": 14054412221.50469,
            "count": 0
           },
           {
            "bin_start": 14054412221.50469,
            "bin_end": 15973274814.33646,
            "count": 0
           },
           {
            "bin_start": 15973274814.33646,
            "bin_end": 17892137407.168232,
            "count": 0
           },
           {
            "bin_start": 17892137407.168232,
            "bin_end": 19811000000,
            "count": 1
           }
          ]
         }
        },
        {
         "name": "Total debt",
         "dtype": "float64",
         "stats": {
          "unique_count": 5,
          "nan_count": 0,
          "min": "622374071.6823",
          "max": "35417000000.0",
          "histogram": [
           {
            "bin_start": 622374071.6823,
            "bin_end": 4101836664.5140705,
            "count": 1
           },
           {
            "bin_start": 4101836664.5140705,
            "bin_end": 7581299257.34584,
            "count": 1
           },
           {
            "bin_start": 7581299257.34584,
            "bin_end": 11060761850.177612,
            "count": 1
           },
           {
            "bin_start": 11060761850.177612,
            "bin_end": 14540224443.009382,
            "count": 1
           },
           {
            "bin_start": 14540224443.009382,
            "bin_end": 18019687035.841152,
            "count": 0
           },
           {
            "bin_start": 18019687035.841152,
            "bin_end": 21499149628.672924,
            "count": 0
           },
           {
            "bin_start": 21499149628.672924,
            "bin_end": 24978612221.504692,
            "count": 0
           },
           {
            "bin_start": 24978612221.504692,
            "bin_end": 28458074814.336464,
            "count": 0
           },
           {
            "bin_start": 28458074814.336464,
            "bin_end": 31937537407.168236,
            "count": 0
           },
           {
            "bin_start": 31937537407.168236,
            "bin_end": 35417000000,
            "count": 1
           }
          ]
         }
        },
        {
         "name": "Deferred revenue",
         "dtype": "float64",
         "stats": {
          "unique_count": 2,
          "nan_count": 0,
          "min": "0.0",
          "max": "31411042.9448",
          "histogram": [
           {
            "bin_start": 0,
            "bin_end": 3141104.29448,
            "count": 4
           },
           {
            "bin_start": 3141104.29448,
            "bin_end": 6282208.58896,
            "count": 0
           },
           {
            "bin_start": 6282208.58896,
            "bin_end": 9423312.883440001,
            "count": 0
           },
           {
            "bin_start": 9423312.883440001,
            "bin_end": 12564417.17792,
            "count": 0
           },
           {
            "bin_start": 12564417.17792,
            "bin_end": 15705521.4724,
            "count": 0
           },
           {
            "bin_start": 15705521.4724,
            "bin_end": 18846625.766880002,
            "count": 0
           },
           {
            "bin_start": 18846625.766880002,
            "bin_end": 21987730.06136,
            "count": 0
           },
           {
            "bin_start": 21987730.06136,
            "bin_end": 25128834.35584,
            "count": 0
           },
           {
            "bin_start": 25128834.35584,
            "bin_end": 28269938.65032,
            "count": 0
           },
           {
            "bin_start": 28269938.65032,
            "bin_end": 31411042.9448,
            "count": 1
           }
          ]
         }
        },
        {
         "name": "Tax Liabilities",
         "dtype": "float64",
         "stats": {
          "unique_count": 4,
          "nan_count": 0,
          "min": "0.0",
          "max": "10218000000.0",
          "histogram": [
           {
            "bin_start": 0,
            "bin_end": 1021800000,
            "count": 2
           },
           {
            "bin_start": 1021800000,
            "bin_end": 2043600000,
            "count": 2
           },
           {
            "bin_start": 2043600000,
            "bin_end": 3065400000,
            "count": 0
           },
           {
            "bin_start": 3065400000,
            "bin_end": 4087200000,
            "count": 0
           },
           {
            "bin_start": 4087200000,
            "bin_end": 5109000000,
            "count": 0
           },
           {
            "bin_start": 5109000000,
            "bin_end": 6130800000,
            "count": 0
           },
           {
            "bin_start": 6130800000,
            "bin_end": 7152600000,
            "count": 0
           },
           {
            "bin_start": 7152600000,
            "bin_end": 8174400000,
            "count": 0
           },
           {
            "bin_start": 8174400000,
            "bin_end": 9196200000,
            "count": 0
           },
           {
            "bin_start": 9196200000,
            "bin_end": 10218000000,
            "count": 1
           }
          ]
         }
        },
        {
         "name": "Deposit Liabilities",
         "dtype": "float64",
         "stats": {
          "unique_count": 1,
          "nan_count": 0,
          "min": "0.0",
          "max": "0.0",
          "histogram": [
           {
            "bin_start": -0.5,
            "bin_end": -0.4,
            "count": 0
           },
           {
            "bin_start": -0.4,
            "bin_end": -0.3,
            "count": 0
           },
           {
            "bin_start": -0.3,
            "bin_end": -0.19999999999999996,
            "count": 0
           },
           {
            "bin_start": -0.19999999999999996,
            "bin_end": -0.09999999999999998,
            "count": 0
           },
           {
            "bin_start": -0.09999999999999998,
            "bin_end": 0,
            "count": 0
           },
           {
            "bin_start": 0,
            "bin_end": 0.10000000000000009,
            "count": 5
           },
           {
            "bin_start": 0.10000000000000009,
            "bin_end": 0.20000000000000007,
            "count": 0
           },
           {
            "bin_start": 0.20000000000000007,
            "bin_end": 0.30000000000000004,
            "count": 0
           },
           {
            "bin_start": 0.30000000000000004,
            "bin_end": 0.4,
            "count": 0
           },
           {
            "bin_start": 0.4,
            "bin_end": 0.5,
            "count": 0
           }
          ]
         }
        },
        {
         "name": "Total non-current liabilities",
         "dtype": "float64",
         "stats": {
          "unique_count": 5,
          "nan_count": 0,
          "min": "661556667.743",
          "max": "40564000000.0",
          "histogram": [
           {
            "bin_start": 661556667.743,
            "bin_end": 4651801000.9687,
            "count": 1
           },
           {
            "bin_start": 4651801000.9687,
            "bin_end": 8642045334.1944,
            "count": 1
           },
           {
            "bin_start": 8642045334.1944,
            "bin_end": 12632289667.420101,
            "count": 1
           },
           {
            "bin_start": 12632289667.420101,
            "bin_end": 16622534000.645802,
            "count": 1
           },
           {
            "bin_start": 16622534000.645802,
            "bin_end": 20612778333.871502,
            "count": 0
           },
           {
            "bin_start": 20612778333.871502,
            "bin_end": 24603022667.097202,
            "count": 0
           },
           {
            "bin_start": 24603022667.097202,
            "bin_end": 28593267000.322903,
            "count": 0
           },
           {
            "bin_start": 28593267000.322903,
            "bin_end": 32583511333.548603,
            "count": 0
           },
           {
            "bin_start": 32583511333.548603,
            "bin_end": 36573755666.77431,
            "count": 0
           },
           {
            "bin_start": 36573755666.77431,
            "bin_end": 40564000000,
            "count": 1
           }
          ]
         }
        },
        {
         "name": "Total liabilities",
         "dtype": "float64",
         "stats": {
          "unique_count": 5,
          "nan_count": 0,
          "min": "2301093477.5589",
          "max": "74290000000.0",
          "histogram": [
           {
            "bin_start": 2301093477.5589,
            "bin_end": 9499984129.803009,
            "count": 2
           },
           {
            "bin_start": 9499984129.803009,
            "bin_end": 16698874782.04712,
            "count": 1
           },
           {
            "bin_start": 16698874782.04712,
            "bin_end": 23897765434.29123,
            "count": 1
           },
           {
            "bin_start": 23897765434.29123,
            "bin_end": 31096656086.53534,
            "count": 0
           },
           {
            "bin_start": 31096656086.53534,
            "bin_end": 38295546738.77945,
            "count": 0
           },
           {
            "bin_start": 38295546738.77945,
            "bin_end": 45494437391.02356,
            "count": 0
           },
           {
            "bin_start": 45494437391.02356,
            "bin_end": 52693328043.26767,
            "count": 0
           },
           {
            "bin_start": 52693328043.26767,
            "bin_end": 59892218695.51178,
            "count": 0
           },
           {
            "bin_start": 59892218695.51178,
            "bin_end": 67091109347.75589,
            "count": 0
           },
           {
            "bin_start": 67091109347.75589,
            "bin_end": 74290000000,
            "count": 1
           }
          ]
         }
        },
        {
         "name": "Other comprehensive income",
         "dtype": "float64",
         "stats": {
          "unique_count": 5,
          "nan_count": 0,
          "min": "-7662000000.0",
          "max": "-1729254.1169",
          "histogram": [
           {
            "bin_start": -7662000000,
            "bin_end": -6895972925.41169,
            "count": 1
           },
           {
            "bin_start": -6895972925.41169,
            "bin_end": -6129945850.8233795,
            "count": 0
           },
           {
            "bin_start": -6129945850.8233795,
            "bin_end": -5363918776.23507,
            "count": 0
           },
           {
            "bin_start": -5363918776.23507,
            "bin_end": -4597891701.64676,
            "count": 0
           },
           {
            "bin_start": -4597891701.64676,
            "bin_end": -3831864627.0584497,
            "count": 0
           },
           {
            "bin_start": -3831864627.0584497,
            "bin_end": -3065837552.4701405,
            "count": 0
           },
           {
            "bin_start": -3065837552.4701405,
            "bin_end": -2299810477.88183,
            "count": 0
           },
           {
            "bin_start": -2299810477.88183,
            "bin_end": -1533783403.29352,
            "count": 0
           },
           {
            "bin_start": -1533783403.29352,
            "bin_end": -767756328.7052097,
            "count": 1
           },
           {
            "bin_start": -767756328.7052097,
            "bin_end": -1729254.1169,
            "count": 3
           }
          ]
         }
        },
        {
         "name": "Retained earnings (deficit)",
         "dtype": "float64",
         "stats": {
          "unique_count": 5,
          "nan_count": 0,
          "min": "-7515848000.0",
          "max": "84990000000.0",
          "histogram": [
           {
            "bin_start": -7515848000,
            "bin_end": 1734736800,
            "count": 2
           },
           {
            "bin_start": 1734736800,
            "bin_end": 10985321600,
            "count": 1
           },
           {
            "bin_start": 10985321600,
            "bin_end": 20235906400,
            "count": 1
           },
           {
            "bin_start": 20235906400,
            "bin_end": 29486491200,
            "count": 0
           },
           {
            "bin_start": 29486491200,
            "bin_end": 38737076000,
            "count": 0
           },
           {
            "bin_start": 38737076000,
            "bin_end": 47987660800,
            "count": 0
           },
           {
            "bin_start": 47987660800,
            "bin_end": 57238245600,
            "count": 0
           },
           {
            "bin_start": 57238245600,
            "bin_end": 66488830400,
            "count": 0
           },
           {
            "bin_start": 66488830400,
            "bin_end": 75739415200,
            "count": 0
           },
           {
            "bin_start": 75739415200,
            "bin_end": 84990000000,
            "count": 1
           }
          ]
         }
        },
        {
         "name": "Total shareholders equity",
         "dtype": "float64",
         "stats": {
          "unique_count": 5,
          "nan_count": 0,
          "min": "-2113702000.0",
          "max": "69976000000.0",
          "histogram": [
           {
            "bin_start": -2113702000,
            "bin_end": 5095268200,
            "count": 2
           },
           {
            "bin_start": 5095268200,
            "bin_end": 12304238400,
            "count": 2
           },
           {
            "bin_start": 12304238400,
            "bin_end": 19513208600,
            "count": 0
           },
           {
            "bin_start": 19513208600,
            "bin_end": 26722178800,
            "count": 0
           },
           {
            "bin_start": 26722178800,
            "bin_end": 33931149000,
            "count": 0
           },
           {
            "bin_start": 33931149000,
            "bin_end": 41140119200,
            "count": 0
           },
           {
            "bin_start": 41140119200,
            "bin_end": 48349089400,
            "count": 0
           },
           {
            "bin_start": 48349089400,
            "bin_end": 55558059600,
            "count": 0
           },
           {
            "bin_start": 55558059600,
            "bin_end": 62767029800,
            "count": 0
           },
           {
            "bin_start": 62767029800,
            "bin_end": 69976000000,
            "count": 1
           }
          ]
         }
        },
        {
         "name": "Investments",
         "dtype": "float64",
         "stats": {
          "unique_count": 3,
          "nan_count": 0,
          "min": "0.0",
          "max": "2128000000.0",
          "histogram": [
           {
            "bin_start": 0,
            "bin_end": 212800000,
            "count": 3
           },
           {
            "bin_start": 212800000,
            "bin_end": 425600000,
            "count": 0
           },
           {
            "bin_start": 425600000,
            "bin_end": 638400000,
            "count": 0
           },
           {
            "bin_start": 638400000,
            "bin_end": 851200000,
            "count": 1
           },
           {
            "bin_start": 851200000,
            "bin_end": 1064000000,
            "count": 0
           },
           {
            "bin_start": 1064000000,
            "bin_end": 1276800000,
            "count": 0
           },
           {
            "bin_start": 1276800000,
            "bin_end": 1489600000,
            "count": 0
           },
           {
            "bin_start": 1489600000,
            "bin_end": 1702400000,
            "count": 0
           },
           {
            "bin_start": 1702400000,
            "bin_end": 1915200000,
            "count": 0
           },
           {
            "bin_start": 1915200000,
            "bin_end": 2128000000,
            "count": 1
           }
          ]
         }
        },
        {
         "name": "Net Debt",
         "dtype": "float64",
         "stats": {
          "unique_count": 4,
          "nan_count": 1,
          "min": "5610737000.0",
          "max": "24731000000.0",
          "histogram": [
           {
            "bin_start": 5610737000,
            "bin_end": 7522763300,
            "count": 1
           },
           {
            "bin_start": 7522763300,
            "bin_end": 9434789600,
            "count": 1
           },
           {
            "bin_start": 9434789600,
            "bin_end": 11346815900,
            "count": 1
           },
           {
            "bin_start": 11346815900,
            "bin_end": 13258842200,
            "count": 0
           },
           {
            "bin_start": 13258842200,
            "bin_end": 15170868500,
            "count": 0
           },
           {
            "bin_start": 15170868500,
            "bin_end": 17082894800,
            "count": 0
           },
           {
            "bin_start": 17082894800,
            "bin_end": 18994921100,
            "count": 0
           },
           {
            "bin_start": 18994921100,
            "bin_end": 20906947400,
            "count": 0
           },
           {
            "bin_start": 20906947400,
            "bin_end": 22818973700,
            "count": 0
           },
           {
            "bin_start": 22818973700,
            "bin_end": 24731000000,
            "count": 1
           }
          ]
         }
        },
        {
         "name": "Other Assets",
         "dtype": "float64",
         "stats": {
          "unique_count": 4,
          "nan_count": 1,
          "min": "195709000.0",
          "max": "7786000000.0",
          "histogram": [
           {
            "bin_start": 195709000,
            "bin_end": 954738100,
            "count": 2
           },
           {
            "bin_start": 954738100,
            "bin_end": 1713767200,
            "count": 1
           },
           {
            "bin_start": 1713767200,
            "bin_end": 2472796300,
            "count": 0
           },
           {
            "bin_start": 2472796300,
            "bin_end": 3231825400,
            "count": 0
           },
           {
            "bin_start": 3231825400,
            "bin_end": 3990854500,
            "count": 0
           },
           {
            "bin_start": 3990854500,
            "bin_end": 4749883600,
            "count": 0
           },
           {
            "bin_start": 4749883600,
            "bin_end": 5508912700,
            "count": 0
           },
           {
            "bin_start": 5508912700,
            "bin_end": 6267941800,
            "count": 0
           },
           {
            "bin_start": 6267941800,
            "bin_end": 7026970900,
            "count": 0
           },
           {
            "bin_start": 7026970900,
            "bin_end": 7786000000,
            "count": 1
           }
          ]
         }
        },
        {
         "name": "Other Liabilities",
         "dtype": "float64",
         "stats": {
          "unique_count": 5,
          "nan_count": 0,
          "min": "639046012.27",
          "max": "9659000000.0",
          "histogram": [
           {
            "bin_start": 639046012.27,
            "bin_end": 1541041411.043,
            "count": 3
           },
           {
            "bin_start": 1541041411.043,
            "bin_end": 2443036809.816,
            "count": 0
           },
           {
            "bin_start": 2443036809.816,
            "bin_end": 3345032208.589,
            "count": 0
           },
           {
            "bin_start": 3345032208.589,
            "bin_end": 4247027607.362,
            "count": 1
           },
           {
            "bin_start": 4247027607.362,
            "bin_end": 5149023006.135,
            "count": 0
           },
           {
            "bin_start": 5149023006.135,
            "bin_end": 6051018404.908001,
            "count": 0
           },
           {
            "bin_start": 6051018404.908001,
            "bin_end": 6953013803.681,
            "count": 0
           },
           {
            "bin_start": 6953013803.681,
            "bin_end": 7855009202.454,
            "count": 0
           },
           {
            "bin_start": 7855009202.454,
            "bin_end": 8757004601.227,
            "count": 0
           },
           {
            "bin_start": 8757004601.227,
            "bin_end": 9659000000,
            "count": 1
           }
          ]
         }
        },
        {
         "name": "Depreciation & Amortization",
         "dtype": "float64",
         "stats": {
          "unique_count": 5,
          "nan_count": 0,
          "min": "58154827.2522",
          "max": "3141000000.0",
          "histogram": [
           {
            "bin_start": 58154827.2522,
            "bin_end": 366439344.52698,
            "count": 1
           },
           {
            "bin_start": 366439344.52698,
            "bin_end": 674723861.80176,
            "count": 2
           },
           {
            "bin_start": 674723861.80176,
            "bin_end": 983008379.0765399,
            "count": 0
           },
           {
            "bin_start": 983008379.0765399,
            "bin_end": 1291292896.3513198,
            "count": 0
           },
           {
            "bin_start": 1291292896.3513198,
            "bin_end": 1599577413.6260998,
            "count": 0
           },
           {
            "bin_start": 1599577413.6260998,
            "bin_end": 1907861930.9008796,
            "count": 1
           },
           {
            "bin_start": 1907861930.9008796,
            "bin_end": 2216146448.17566,
            "count": 0
           },
           {
            "bin_start": 2216146448.17566,
            "bin_end": 2524430965.45044,
            "count": 0
           },
           {
            "bin_start": 2524430965.45044,
            "bin_end": 2832715482.7252197,
            "count": 0
           },
           {
            "bin_start": 2832715482.7252197,
            "bin_end": 3141000000,
            "count": 1
           }
          ]
         }
        },
        {
         "name": "Stock-based compensation",
         "dtype": "float64",
         "stats": {
          "unique_count": 5,
          "nan_count": 0,
          "min": "-10471000.0",
          "max": "360000000.0",
          "histogram": [
           {
            "bin_start": -10471000,
            "bin_end": 26576100,
            "count": 1
           },
           {
            "bin_start": 26576100,
            "bin_end": 63623200,
            "count": 2
           },
           {
            "bin_start": 63623200,
            "bin_end": 100670300,
            "count": 0
           },
           {
            "bin_start": 100670300,
            "bin_end": 137717400,
            "count": 1
           },
           {
            "bin_start": 137717400,
            "bin_end": 174764500,
            "count": 0
           },
           {
            "bin_start": 174764500,
            "bin_end": 211811600,
            "count": 0
           },
           {
            "bin_start": 211811600,
            "bin_end": 248858700,
            "count": 0
           },
           {
            "bin_start": 248858700,
            "bin_end": 285905800,
            "count": 0
           },
           {
            "bin_start": 285905800,
            "bin_end": 322952900,
            "count": 0
           },
           {
            "bin_start": 322952900,
            "bin_end": 360000000,
            "count": 1
           }
          ]
         }
        },
        {
         "name": "Operating Cash Flow",
         "dtype": "float64",
         "stats": {
          "unique_count": 5,
          "nan_count": 0,
          "min": "526745560.2196",
          "max": "13958000000.0",
          "histogram": [
           {
            "bin_start": 526745560.2196,
            "bin_end": 1869871004.19764,
            "count": 2
           },
           {
            "bin_start": 1869871004.19764,
            "bin_end": 3212996448.17568,
            "count": 1
           },
           {
            "bin_start": 3212996448.17568,
            "bin_end": 4556121892.15372,
            "count": 1
           },
           {
            "bin_start": 4556121892.15372,
            "bin_end": 5899247336.13176,
            "count": 0
           },
           {
            "bin_start": 5899247336.13176,
            "bin_end": 7242372780.109799,
            "count": 0
           },
           {
            "bin_start": 7242372780.109799,
            "bin_end": 8585498224.08784,
            "count": 0
           },
           {
            "bin_start": 8585498224.08784,
            "bin_end": 9928623668.06588,
            "count": 0
           },
           {
            "bin_start": 9928623668.06588,
            "bin_end": 11271749112.04392,
            "count": 0
           },
           {
            "bin_start": 11271749112.04392,
            "bin_end": 12614874556.021961,
            "count": 0
           },
           {
            "bin_start": 12614874556.021961,
            "bin_end": 13958000000,
            "count": 1
           }
          ]
         }
        },
        {
         "name": "Capital Expenditure",
         "dtype": "float64",
         "stats": {
          "unique_count": 5,
          "nan_count": 0,
          "min": "-3848000000.0",
          "max": "-263704552.793",
          "histogram": [
           {
            "bin_start": -3848000000,
            "bin_end": -3489570455.2793,
            "count": 1
           },
           {
            "bin_start": -3489570455.2793,
            "bin_end": -3131140910.5586,
            "count": 0
           },
           {
            "bin_start": -3131140910.5586,
            "bin_end": -2772711365.8379,
            "count": 0
           },
           {
            "bin_start": -2772711365.8379,
            "bin_end": -2414281821.1172,
            "count": 0
           },
           {
            "bin_start": -2414281821.1172,
            "bin_end": -2055852276.3965,
            "count": 1
           },
           {
            "bin_start": -2055852276.3965,
            "bin_end": -1697422731.6758003,
            "count": 0
           },
           {
            "bin_start": -1697422731.6758003,
            "bin_end": -1338993186.9551,
            "count": 0
           },
           {
            "bin_start": -1338993186.9551,
            "bin_end": -980563642.2344003,
            "count": 0
           },
           {
            "bin_start": -980563642.2344003,
            "bin_end": -622134097.5137005,
            "count": 1
           },
           {
            "bin_start": -622134097.5137005,
            "bin_end": -263704552.793,
            "count": 2
           }
          ]
         }
        },
        {
         "name": "Acquisitions and disposals",
         "dtype": "float64",
         "stats": {
          "unique_count": 5,
          "nan_count": 0,
          "min": "-2344000000.0",
          "max": "66700000.0",
          "histogram": [
           {
            "bin_start": -2344000000,
            "bin_end": -2102930000,
            "count": 1
           },
           {
            "bin_start": -2102930000,
            "bin_end": -1861860000,
            "count": 0
           },
           {
            "bin_start": -1861860000,
            "bin_end": -1620790000,
            "count": 0
           },
           {
            "bin_start": -1620790000,
            "bin_end": -1379720000,
            "count": 0
           },
           {
            "bin_start": -1379720000,
            "bin_end": -1138650000,
            "count": 0
           },
           {
            "bin_start": -1138650000,
            "bin_end": -897580000,
            "count": 0
           },
           {
            "bin_start": -897580000,
            "bin_end": -656510000,
            "count": 0
           },
           {
            "bin_start": -656510000,
            "bin_end": -415440000,
            "count": 0
           },
           {
            "bin_start": -415440000,
            "bin_end": -174370000,
            "count": 1
           },
           {
            "bin_start": -174370000,
            "bin_end": 66700000,
            "count": 3
           }
          ]
         }
        },
        {
         "name": "Investment purchases and sales",
         "dtype": "float64",
         "stats": {
          "unique_count": 5,
          "nan_count": 0,
          "min": "-805000000.0",
          "max": "41155000.0",
          "histogram": [
           {
            "bin_start": -805000000,
            "bin_end": -720384500,
            "count": 1
           },
           {
            "bin_start": -720384500,
            "bin_end": -635769000,
            "count": 0
           },
           {
            "bin_start": -635769000,
            "bin_end": -551153500,
            "count": 0
           },
           {
            "bin_start": -551153500,
            "bin_end": -466538000,
            "count": 0
           },
           {
            "bin_start": -466538000,
            "bin_end": -381922500,
            "count": 0
           },
           {
            "bin_start": -381922500,
            "bin_end": -297307000,
            "count": 0
           },
           {
            "bin_start": -297307000,
            "bin_end": -212691500,
            "count": 0
           },
           {
            "bin_start": -212691500,
            "bin_end": -128076000,
            "count": 1
           },
           {
            "bin_start": -128076000,
            "bin_end": -43460500,
            "count": 0
           },
           {
            "bin_start": -43460500,
            "bin_end": 41155000,
            "count": 3
           }
          ]
         }
        },
        {
         "name": "Investing Cash flow",
         "dtype": "float64",
         "stats": {
          "unique_count": 5,
          "nan_count": 0,
          "min": "-4771000000.0",
          "max": "-364924000.0",
          "histogram": [
           {
            "bin_start": -4771000000,
            "bin_end": -4330392400,
            "count": 1
           },
           {
            "bin_start": -4330392400,
            "bin_end": -3889784800,
            "count": 1
           },
           {
            "bin_start": -3889784800,
            "bin_end": -3449177200,
            "count": 0
           },
           {
            "bin_start": -3449177200,
            "bin_end": -3008569600,
            "count": 0
           },
           {
            "bin_start": -3008569600,
            "bin_end": -2567962000,
            "count": 0
           },
           {
            "bin_start": -2567962000,
            "bin_end": -2127354400,
            "count": 0
           },
           {
            "bin_start": -2127354400,
            "bin_end": -1686746800,
            "count": 0
           },
           {
            "bin_start": -1686746800,
            "bin_end": -1246139200,
            "count": 0
           },
           {
            "bin_start": -1246139200,
            "bin_end": -805531600,
            "count": 0
           },
           {
            "bin_start": -805531600,
            "bin_end": -364924000,
            "count": 3
           }
          ]
         }
        },
        {
         "name": "Issuance (repayment) of debt",
         "dtype": "float64",
         "stats": {
          "unique_count": 5,
          "nan_count": 0,
          "min": "-295435000.0",
          "max": "3543000000.0",
          "histogram": [
           {
            "bin_start": -295435000,
            "bin_end": 88408500,
            "count": 1
           },
           {
            "bin_start": 88408500,
            "bin_end": 472252000,
            "count": 0
           },
           {
            "bin_start": 472252000,
            "bin_end": 856095500,
            "count": 2
           },
           {
            "bin_start": 856095500,
            "bin_end": 1239939000,
            "count": 0
           },
           {
            "bin_start": 1239939000,
            "bin_end": 1623782500,
            "count": 0
           },
           {
            "bin_start": 1623782500,
            "bin_end": 2007626000,
            "count": 0
           },
           {
            "bin_start": 2007626000,
            "bin_end": 2391469500,
            "count": 1
           },
           {
            "bin_start": 2391469500,
            "bin_end": 2775313000,
            "count": 0
           },
           {
            "bin_start": 2775313000,
            "bin_end": 3159156500,
            "count": 0
           },
           {
            "bin_start": 3159156500,
            "bin_end": 3543000000,
            "count": 1
           }
          ]
         }
        },
        {
         "name": "Issuance (buybacks) of shares",
         "dtype": "float64",
         "stats": {
          "unique_count": 5,
          "nan_count": 0,
          "min": "-3911000000.0",
          "max": "33217000.0",
          "histogram": [
           {
            "bin_start": -3911000000,
            "bin_end": -3516578300,
            "count": 1
           },
           {
            "bin_start": -3516578300,
            "bin_end": -3122156600,
            "count": 0
           },
           {
            "bin_start": -3122156600,
            "bin_end": -2727734900,
            "count": 0
           },
           {
            "bin_start": -2727734900,
            "bin_end": -2333313200,
            "count": 0
           },
           {
            "bin_start": -2333313200,
            "bin_end": -1938891500,
            "count": 0
           },
           {
            "bin_start": -1938891500,
            "bin_end": -1544469800,
            "count": 1
           },
           {
            "bin_start": -1544469800,
            "bin_end": -1150048100,
            "count": 0
           },
           {
            "bin_start": -1150048100,
            "bin_end": -755626400,
            "count": 0
           },
           {
            "bin_start": -755626400,
            "bin_end": -361204700,
            "count": 1
           },
           {
            "bin_start": -361204700,
            "bin_end": 33217000,
            "count": 2
           }
          ]
         }
        },
        {
         "name": "Dividend payments",
         "dtype": "float64",
         "stats": {
          "unique_count": 4,
          "nan_count": 0,
          "min": "-6911000000.0",
          "max": "0.0",
          "histogram": [
           {
            "bin_start": -6911000000,
            "bin_end": -6219900000,
            "count": 1
           },
           {
            "bin_start": -6219900000,
            "bin_end": -5528800000,
            "count": 0
           },
           {
            "bin_start": -5528800000,
            "bin_end": -4837700000,
            "count": 0
           },
           {
            "bin_start": -4837700000,
            "bin_end": -4146600000,
            "count": 0
           },
           {
            "bin_start": -4146600000,
            "bin_end": -3455500000,
            "count": 0
           },
           {
            "bin_start": -3455500000,
            "bin_end": -2764400000,
            "count": 0
           },
           {
            "bin_start": -2764400000,
            "bin_end": -2073300000,
            "count": 0
           },
           {
            "bin_start": -2073300000,
            "bin_end": -1382200000,
            "count": 0
           },
           {
            "bin_start": -1382200000,
            "bin_end": -691100000,
            "count": 1
           },
           {
            "bin_start": -691100000,
            "bin_end": 0,
            "count": 3
           }
          ]
         }
        },
        {
         "name": "Financing Cash Flow",
         "dtype": "float64",
         "stats": {
          "unique_count": 5,
          "nan_count": 0,
          "min": "-7279000000.0",
          "max": "1361000000.0",
          "histogram": [
           {
            "bin_start": -7279000000,
            "bin_end": -6415000000,
            "count": 1
           },
           {
            "bin_start": -6415000000,
            "bin_end": -5551000000,
            "count": 0
           },
           {
            "bin_start": -5551000000,
            "bin_end": -4687000000,
            "count": 0
           },
           {
            "bin_start": -4687000000,
            "bin_end": -3823000000,
            "count": 0
           },
           {
            "bin_start": -3823000000,
            "bin_end": -2959000000,
            "count": 0
           },
           {
            "bin_start": -2959000000,
            "bin_end": -2095000000,
            "count": 0
           },
           {
            "bin_start": -2095000000,
            "bin_end": -1231000000,
            "count": 1
           },
           {
            "bin_start": -1231000000,
            "bin_end": -367000000,
            "count": 0
           },
           {
            "bin_start": -367000000,
            "bin_end": 497000000,
            "count": 1
           },
           {
            "bin_start": 497000000,
            "bin_end": 1361000000,
            "count": 2
           }
          ]
         }
        },
        {
         "name": "Effect of forex changes on cash",
         "dtype": "float64",
         "stats": {
          "unique_count": 4,
          "nan_count": 0,
          "min": "-29200000.0",
          "max": "39000000.0",
          "histogram": [
           {
            "bin_start": -29200000,
            "bin_end": -22380000,
            "count": 1
           },
           {
            "bin_start": -22380000,
            "bin_end": -15560000,
            "count": 1
           },
           {
            "bin_start": -15560000,
            "bin_end": -8740000,
            "count": 0
           },
           {
            "bin_start": -8740000,
            "bin_end": -1920000,
            "count": 0
           },
           {
            "bin_start": -1920000,
            "bin_end": 4900000,
            "count": 2
           },
           {
            "bin_start": 4900000,
            "bin_end": 11720000,
            "count": 0
           },
           {
            "bin_start": 11720000,
            "bin_end": 18540000,
            "count": 0
           },
           {
            "bin_start": 18540000,
            "bin_end": 25360000,
            "count": 0
           },
           {
            "bin_start": 25360000,
            "bin_end": 32180000,
            "count": 0
           },
           {
            "bin_start": 32180000,
            "bin_end": 39000000,
            "count": 1
           }
          ]
         }
        },
        {
         "name": "Net cash flow / Change in cash",
         "dtype": "float64",
         "stats": {
          "unique_count": 5,
          "nan_count": 0,
          "min": "16954000.0",
          "max": "2618000000.0",
          "histogram": [
           {
            "bin_start": 16954000,
            "bin_end": 277058600,
            "count": 3
           },
           {
            "bin_start": 277058600,
            "bin_end": 537163200,
            "count": 1
           },
           {
            "bin_start": 537163200,
            "bin_end": 797267800,
            "count": 0
           },
           {
            "bin_start": 797267800,
            "bin_end": 1057372400,
            "count": 0
           },
           {
            "bin_start": 1057372400,
            "bin_end": 1317477000,
            "count": 0
           },
           {
            "bin_start": 1317477000,
            "bin_end": 1577581600,
            "count": 0
           },
           {
            "bin_start": 1577581600,
            "bin_end": 1837686200,
            "count": 0
           },
           {
            "bin_start": 1837686200,
            "bin_end": 2097790800,
            "count": 0
           },
           {
            "bin_start": 2097790800,
            "bin_end": 2357895400,
            "count": 0
           },
           {
            "bin_start": 2357895400,
            "bin_end": 2618000000,
            "count": 1
           }
          ]
         }
        },
        {
         "name": "Free Cash Flow",
         "dtype": "float64",
         "stats": {
          "unique_count": 5,
          "nan_count": 0,
          "min": "263041007.4265",
          "max": "10110000000.0",
          "histogram": [
           {
            "bin_start": 263041007.4265,
            "bin_end": 1247736906.68385,
            "count": 3
           },
           {
            "bin_start": 1247736906.68385,
            "bin_end": 2232432805.9412,
            "count": 1
           },
           {
            "bin_start": 2232432805.9412,
            "bin_end": 3217128705.1985497,
            "count": 0
           },
           {
            "bin_start": 3217128705.1985497,
            "bin_end": 4201824604.4558997,
            "count": 0
           },
           {
            "bin_start": 4201824604.4558997,
            "bin_end": 5186520503.71325,
            "count": 0
           },
           {
            "bin_start": 5186520503.71325,
            "bin_end": 6171216402.9706,
            "count": 0
           },
           {
            "bin_start": 6171216402.9706,
            "bin_end": 7155912302.22795,
            "count": 0
           },
           {
            "bin_start": 7155912302.22795,
            "bin_end": 8140608201.4853,
            "count": 0
           },
           {
            "bin_start": 8140608201.4853,
            "bin_end": 9125304100.742651,
            "count": 0
           },
           {
            "bin_start": 9125304100.742651,
            "bin_end": 10110000000,
            "count": 1
           }
          ]
         }
        },
        {
         "name": "Net Cash/Marketcap",
         "dtype": "float64",
         "stats": {
          "unique_count": 5,
          "nan_count": 0,
          "min": "-0.8822",
          "max": "0.0956",
          "histogram": [
           {
            "bin_start": -0.8822,
            "bin_end": -0.78442,
            "count": 1
           },
           {
            "bin_start": -0.78442,
            "bin_end": -0.6866399999999999,
            "count": 0
           },
           {
            "bin_start": -0.6866399999999999,
            "bin_end": -0.5888599999999999,
            "count": 1
           },
           {
            "bin_start": -0.5888599999999999,
            "bin_end": -0.49107999999999996,
            "count": 0
           },
           {
            "bin_start": -0.49107999999999996,
            "bin_end": -0.3933,
            "count": 0
           },
           {
            "bin_start": -0.3933,
            "bin_end": -0.2955199999999999,
            "count": 0
           },
           {
            "bin_start": -0.2955199999999999,
            "bin_end": -0.19773999999999992,
            "count": 1
           },
           {
            "bin_start": -0.19773999999999992,
            "bin_end": -0.09995999999999994,
            "count": 1
           },
           {
            "bin_start": -0.09995999999999994,
            "bin_end": -0.0021799999999999597,
            "count": 0
           },
           {
            "bin_start": -0.0021799999999999597,
            "bin_end": 0.0956,
            "count": 1
           }
          ]
         }
        },
        {
         "name": "priceBookValueRatio",
         "dtype": "float64",
         "stats": {
          "unique_count": 4,
          "nan_count": 1,
          "min": "0.0",
          "max": "5.1004",
          "histogram": [
           {
            "bin_start": 0,
            "bin_end": 0.5100399999999999,
            "count": 1
           },
           {
            "bin_start": 0.5100399999999999,
            "bin_end": 1.0200799999999999,
            "count": 0
           },
           {
            "bin_start": 1.0200799999999999,
            "bin_end": 1.5301199999999997,
            "count": 0
           },
           {
            "bin_start": 1.5301199999999997,
            "bin_end": 2.0401599999999998,
            "count": 0
           },
           {
            "bin_start": 2.0401599999999998,
            "bin_end": 2.5502,
            "count": 0
           },
           {
            "bin_start": 2.5502,
            "bin_end": 3.0602399999999994,
            "count": 1
           },
           {
            "bin_start": 3.0602399999999994,
            "bin_end": 3.5702799999999995,
            "count": 1
           },
           {
            "bin_start": 3.5702799999999995,
            "bin_end": 4.0803199999999995,
            "count": 0
           },
           {
            "bin_start": 4.0803199999999995,
            "bin_end": 4.5903599999999996,
            "count": 0
           },
           {
            "bin_start": 4.5903599999999996,
            "bin_end": 5.1004,
            "count": 1
           }
          ]
         }
        },
        {
         "name": "priceToBookRatio",
         "dtype": "float64",
         "stats": {
          "unique_count": 2,
          "nan_count": 1,
          "min": "0.0",
          "max": "7.0982",
          "histogram": [
           {
            "bin_start": 0,
            "bin_end": 0.70982,
            "count": 3
           },
           {
            "bin_start": 0.70982,
            "bin_end": 1.41964,
            "count": 0
           },
           {
            "bin_start": 1.41964,
            "bin_end": 2.12946,
            "count": 0
           },
           {
            "bin_start": 2.12946,
            "bin_end": 2.83928,
            "count": 0
           },
           {
            "bin_start": 2.83928,
            "bin_end": 3.5491,
            "count": 0
           },
           {
            "bin_start": 3.5491,
            "bin_end": 4.25892,
            "count": 0
           },
           {
            "bin_start": 4.25892,
            "bin_end": 4.96874,
            "count": 0
           },
           {
            "bin_start": 4.96874,
            "bin_end": 5.67856,
            "count": 0
           },
           {
            "bin_start": 5.67856,
            "bin_end": 6.38838,
            "count": 0
           },
           {
            "bin_start": 6.38838,
            "bin_end": 7.0982,
            "count": 1
           }
          ]
         }
        },
        {
         "name": "priceToSalesRatio",
         "dtype": "float64",
         "stats": {
          "unique_count": 5,
          "nan_count": 0,
          "min": "0.0443",
          "max": "2.8583",
          "histogram": [
           {
            "bin_start": 0.0443,
            "bin_end": 0.3257,
            "count": 3
           },
           {
            "bin_start": 0.3257,
            "bin_end": 0.6071,
            "count": 0
           },
           {
            "bin_start": 0.6071,
            "bin_end": 0.8885,
            "count": 0
           },
           {
            "bin_start": 0.8885,
            "bin_end": 1.1699,
            "count": 0
           },
           {
            "bin_start": 1.1699,
            "bin_end": 1.4513,
            "count": 0
           },
           {
            "bin_start": 1.4513,
            "bin_end": 1.7327,
            "count": 0
           },
           {
            "bin_start": 1.7327,
            "bin_end": 2.0140999999999996,
            "count": 1
           },
           {
            "bin_start": 2.0140999999999996,
            "bin_end": 2.2954999999999997,
            "count": 0
           },
           {
            "bin_start": 2.2954999999999997,
            "bin_end": 2.5768999999999997,
            "count": 0
           },
           {
            "bin_start": 2.5768999999999997,
            "bin_end": 2.8583,
            "count": 1
           }
          ]
         }
        },
        {
         "name": "priceEarningsRatio",
         "dtype": "float64",
         "stats": {
          "unique_count": 5,
          "nan_count": 0,
          "min": "12.034",
          "max": "81.5526",
          "histogram": [
           {
            "bin_start": 12.034,
            "bin_end": 18.98586,
            "count": 3
           },
           {
            "bin_start": 18.98586,
            "bin_end": 25.93772,
            "count": 0
           },
           {
            "bin_start": 25.93772,
            "bin_end": 32.889579999999995,
            "count": 1
           },
           {
            "bin_start": 32.889579999999995,
            "bin_end": 39.84144,
            "count": 0
           },
           {
            "bin_start": 39.84144,
            "bin_end": 46.793299999999995,
            "count": 0
           },
           {
            "bin_start": 46.793299999999995,
            "bin_end": 53.74515999999999,
            "count": 0
           },
           {
            "bin_start": 53.74515999999999,
            "bin_end": 60.697019999999995,
            "count": 0
           },
           {
            "bin_start": 60.697019999999995,
            "bin_end": 67.64887999999999,
            "count": 0
           },
           {
            "bin_start": 67.64887999999999,
            "bin_end": 74.60073999999999,
            "count": 0
           },
           {
            "bin_start": 74.60073999999999,
            "bin_end": 81.5526,
            "count": 1
           }
          ]
         }
        },
        {
         "name": "priceToFreeCashFlowsRatio",
         "dtype": "float64",
         "stats": {
          "unique_count": 5,
          "nan_count": 0,
          "min": "1.3589",
          "max": "21.0348",
          "histogram": [
           {
            "bin_start": 1.3589,
            "bin_end": 3.32649,
            "count": 1
           },
           {
            "bin_start": 3.32649,
            "bin_end": 5.29408,
            "count": 0
           },
           {
            "bin_start": 5.29408,
            "bin_end": 7.2616700000000005,
            "count": 0
           },
           {
            "bin_start": 7.2616700000000005,
            "bin_end": 9.22926,
            "count": 0
           },
           {
            "bin_start": 9.22926,
            "bin_end": 11.196850000000001,
            "count": 0
           },
           {
            "bin_start": 11.196850000000001,
            "bin_end": 13.16444,
            "count": 0
           },
           {
            "bin_start": 13.16444,
            "bin_end": 15.132030000000002,
            "count": 1
           },
           {
            "bin_start": 15.132030000000002,
            "bin_end": 17.09962,
            "count": 0
           },
           {
            "bin_start": 17.09962,
            "bin_end": 19.06721,
            "count": 2
           },
           {
            "bin_start": 19.06721,
            "bin_end": 21.0348,
            "count": 1
           }
          ]
         }
        },
        {
         "name": "priceToOperatingCashFlowsRatio",
         "dtype": "float64",
         "stats": {
          "unique_count": 4,
          "nan_count": 1,
          "min": "5.1147",
          "max": "15.2358",
          "histogram": [
           {
            "bin_start": 5.1147,
            "bin_end": 6.12681,
            "count": 1
           },
           {
            "bin_start": 6.12681,
            "bin_end": 7.13892,
            "count": 0
           },
           {
            "bin_start": 7.13892,
            "bin_end": 8.151029999999999,
            "count": 0
           },
           {
            "bin_start": 8.151029999999999,
            "bin_end": 9.163139999999999,
            "count": 1
           },
           {
            "bin_start": 9.163139999999999,
            "bin_end": 10.175249999999998,
            "count": 0
           },
           {
            "bin_start": 10.175249999999998,
            "bin_end": 11.187359999999998,
            "count": 0
           },
           {
            "bin_start": 11.187359999999998,
            "bin_end": 12.199469999999998,
            "count": 0
           },
           {
            "bin_start": 12.199469999999998,
            "bin_end": 13.211579999999998,
            "count": 1
           },
           {
            "bin_start": 13.211579999999998,
            "bin_end": 14.223689999999998,
            "count": 0
           },
           {
            "bin_start": 14.223689999999998,
            "bin_end": 15.2358,
            "count": 1
           }
          ]
         }
        },
        {
         "name": "priceCashFlowRatio",
         "dtype": "float64",
         "stats": {
          "unique_count": 4,
          "nan_count": 0,
          "min": "0.0",
          "max": "12.977500890654",
          "histogram": [
           {
            "bin_start": 0,
            "bin_end": 1.2977500890654,
            "count": 3
           },
           {
            "bin_start": 1.2977500890654,
            "bin_end": 2.5955001781308,
            "count": 0
           },
           {
            "bin_start": 2.5955001781308,
            "bin_end": 3.8932502671961995,
            "count": 0
           },
           {
            "bin_start": 3.8932502671961995,
            "bin_end": 5.1910003562616,
            "count": 0
           },
           {
            "bin_start": 5.1910003562616,
            "bin_end": 6.488750445327,
            "count": 0
           },
           {
            "bin_start": 6.488750445327,
            "bin_end": 7.786500534392399,
            "count": 0
           },
           {
            "bin_start": 7.786500534392399,
            "bin_end": 9.0842506234578,
            "count": 0
           },
           {
            "bin_start": 9.0842506234578,
            "bin_end": 10.3820007125232,
            "count": 0
           },
           {
            "bin_start": 10.3820007125232,
            "bin_end": 11.679750801588598,
            "count": 1
           },
           {
            "bin_start": 11.679750801588598,
            "bin_end": 12.977500890654,
            "count": 1
           }
          ]
         }
        },
        {
         "name": "priceEarningsToGrowthRatio",
         "dtype": "float64",
         "stats": {
          "unique_count": 4,
          "nan_count": 0,
          "min": "0.0",
          "max": "15.557842259877",
          "histogram": [
           {
            "bin_start": 0,
            "bin_end": 1.5557842259877002,
            "count": 2
           },
           {
            "bin_start": 1.5557842259877002,
            "bin_end": 3.1115684519754003,
            "count": 1
           },
           {
            "bin_start": 3.1115684519754003,
            "bin_end": 4.6673526779631,
            "count": 0
           },
           {
            "bin_start": 4.6673526779631,
            "bin_end": 6.223136903950801,
            "count": 0
           },
           {
            "bin_start": 6.223136903950801,
            "bin_end": 7.778921129938501,
            "count": 0
           },
           {
            "bin_start": 7.778921129938501,
            "bin_end": 9.3347053559262,
            "count": 0
           },
           {
            "bin_start": 9.3347053559262,
            "bin_end": 10.8904895819139,
            "count": 0
           },
           {
            "bin_start": 10.8904895819139,
            "bin_end": 12.446273807901601,
            "count": 0
           },
           {
            "bin_start": 12.446273807901601,
            "bin_end": 14.002058033889302,
            "count": 0
           },
           {
            "bin_start": 14.002058033889302,
            "bin_end": 15.557842259877,
            "count": 2
           }
          ]
         }
        },
        {
         "name": "priceSalesRatio",
         "dtype": "float64",
         "stats": {
          "unique_count": 4,
          "nan_count": 0,
          "min": "0.0",
          "max": "2.4346441234895",
          "histogram": [
           {
            "bin_start": 0,
            "bin_end": 0.24346441234895,
            "count": 3
           },
           {
            "bin_start": 0.24346441234895,
            "bin_end": 0.4869288246979,
            "count": 0
           },
           {
            "bin_start": 0.4869288246979,
            "bin_end": 0.73039323704685,
            "count": 0
           },
           {
            "bin_start": 0.73039323704685,
            "bin_end": 0.9738576493958,
            "count": 0
           },
           {
            "bin_start": 0.9738576493958,
            "bin_end": 1.21732206174475,
            "count": 0
           },
           {
            "bin_start": 1.21732206174475,
            "bin_end": 1.4607864740937,
            "count": 0
           },
           {
            "bin_start": 1.4607864740937,
            "bin_end": 1.70425088644265,
            "count": 1
           },
           {
            "bin_start": 1.70425088644265,
            "bin_end": 1.9477152987916,
            "count": 0
           },
           {
            "bin_start": 1.9477152987916,
            "bin_end": 2.19117971114055,
            "count": 0
           },
           {
            "bin_start": 2.19117971114055,
            "bin_end": 2.4346441234895,
            "count": 1
           }
          ]
         }
        },
        {
         "name": "dividendYield",
         "dtype": "float64",
         "stats": {
          "unique_count": 3,
          "nan_count": 2,
          "min": "-0.0",
          "max": "0.038152818947218",
          "histogram": [
           {
            "bin_start": 0,
            "bin_end": 0.0038152818947217995,
            "count": 1
           },
           {
            "bin_start": 0.0038152818947217995,
            "bin_end": 0.007630563789443599,
            "count": 0
           },
           {
            "bin_start": 0.007630563789443599,
            "bin_end": 0.011445845684165398,
            "count": 0
           },
           {
            "bin_start": 0.011445845684165398,
            "bin_end": 0.015261127578887198,
            "count": 0
           },
           {
            "bin_start": 0.015261127578887198,
            "bin_end": 0.019076409473609,
            "count": 0
           },
           {
            "bin_start": 0.019076409473609,
            "bin_end": 0.022891691368330795,
            "count": 0
           },
           {
            "bin_start": 0.022891691368330795,
            "bin_end": 0.026706973263052596,
            "count": 0
           },
           {
            "bin_start": 0.026706973263052596,
            "bin_end": 0.030522255157774396,
            "count": 0
           },
           {
            "bin_start": 0.030522255157774396,
            "bin_end": 0.034337537052496196,
            "count": 0
           },
           {
            "bin_start": 0.034337537052496196,
            "bin_end": 0.038152818947218,
            "count": 2
           }
          ]
         }
        },
        {
         "name": "enterpriseValueMultiple",
         "dtype": "float64",
         "stats": {
          "unique_count": 5,
          "nan_count": 0,
          "min": "2.2767210144928",
          "max": "11.421116301338",
          "histogram": [
           {
            "bin_start": 2.2767210144928,
            "bin_end": 3.19116054317732,
            "count": 1
           },
           {
            "bin_start": 3.19116054317732,
            "bin_end": 4.10560007186184,
            "count": 0
           },
           {
            "bin_start": 4.10560007186184,
            "bin_end": 5.02003960054636,
            "count": 0
           },
           {
            "bin_start": 5.02003960054636,
            "bin_end": 5.93447912923088,
            "count": 1
           },
           {
            "bin_start": 5.93447912923088,
            "bin_end": 6.8489186579154,
            "count": 0
           },
           {
            "bin_start": 6.8489186579154,
            "bin_end": 7.76335818659992,
            "count": 1
           },
           {
            "bin_start": 7.76335818659992,
            "bin_end": 8.67779771528444,
            "count": 0
           },
           {
            "bin_start": 8.67779771528444,
            "bin_end": 9.59223724396896,
            "count": 0
           },
           {
            "bin_start": 9.59223724396896,
            "bin_end": 10.50667677265348,
            "count": 1
           },
           {
            "bin_start": 10.50667677265348,
            "bin_end": 11.421116301338,
            "count": 1
           }
          ]
         }
        },
        {
         "name": "priceFairValue",
         "dtype": "float64",
         "stats": {
          "unique_count": 4,
          "nan_count": 1,
          "min": "0.0",
          "max": "4.2587258776391",
          "histogram": [
           {
            "bin_start": 0,
            "bin_end": 0.42587258776391,
            "count": 1
           },
           {
            "bin_start": 0.42587258776391,
            "bin_end": 0.85174517552782,
            "count": 0
           },
           {
            "bin_start": 0.85174517552782,
            "bin_end": 1.27761776329173,
            "count": 1
           },
           {
            "bin_start": 1.27761776329173,
            "bin_end": 1.70349035105564,
            "count": 0
           },
           {
            "bin_start": 1.70349035105564,
            "bin_end": 2.12936293881955,
            "count": 0
           },
           {
            "bin_start": 2.12936293881955,
            "bin_end": 2.55523552658346,
            "count": 0
           },
           {
            "bin_start": 2.55523552658346,
            "bin_end": 2.98110811434737,
            "count": 1
           },
           {
            "bin_start": 2.98110811434737,
            "bin_end": 3.40698070211128,
            "count": 0
           },
           {
            "bin_start": 3.40698070211128,
            "bin_end": 3.83285328987519,
            "count": 0
           },
           {
            "bin_start": 3.83285328987519,
            "bin_end": 4.2587258776391,
            "count": 1
           }
          ]
         }
        },
        {
         "name": "ebitperRevenue",
         "dtype": "float64",
         "stats": {
          "unique_count": 5,
          "nan_count": 0,
          "min": "0.0264357158210989",
          "max": "0.20433865136221",
          "histogram": [
           {
            "bin_start": 0.0264357158210989,
            "bin_end": 0.04422600937521001,
            "count": 2
           },
           {
            "bin_start": 0.04422600937521001,
            "bin_end": 0.062016302929321115,
            "count": 1
           },
           {
            "bin_start": 0.062016302929321115,
            "bin_end": 0.07980659648343223,
            "count": 0
           },
           {
            "bin_start": 0.07980659648343223,
            "bin_end": 0.09759689003754334,
            "count": 0
           },
           {
            "bin_start": 0.09759689003754334,
            "bin_end": 0.11538718359165444,
            "count": 0
           },
           {
            "bin_start": 0.11538718359165444,
            "bin_end": 0.13317747714576555,
            "count": 0
           },
           {
            "bin_start": 0.13317747714576555,
            "bin_end": 0.15096777069987669,
            "count": 0
           },
           {
            "bin_start": 0.15096777069987669,
            "bin_end": 0.1687580642539878,
            "count": 1
           },
           {
            "bin_start": 0.1687580642539878,
            "bin_end": 0.1865483578080989,
            "count": 0
           },
           {
            "bin_start": 0.1865483578080989,
            "bin_end": 0.20433865136221,
            "count": 1
           }
          ]
         }
        },
        {
         "name": "ebtperEBIT",
         "dtype": "float64",
         "stats": {
          "unique_count": 5,
          "nan_count": 0,
          "min": "0.3707982555063699",
          "max": "0.9533644675393",
          "histogram": [
           {
            "bin_start": 0.3707982555063699,
            "bin_end": 0.4290548767096629,
            "count": 1
           },
           {
            "bin_start": 0.4290548767096629,
            "bin_end": 0.4873114979129559,
            "count": 0
           },
           {
            "bin_start": 0.4873114979129559,
            "bin_end": 0.5455681191162489,
            "count": 0
           },
           {
            "bin_start": 0.5455681191162489,
            "bin_end": 0.603824740319542,
            "count": 0
           },
           {
            "bin_start": 0.603824740319542,
            "bin_end": 0.6620813615228349,
            "count": 0
           },
           {
            "bin_start": 0.6620813615228349,
            "bin_end": 0.720337982726128,
            "count": 0
           },
           {
            "bin_start": 0.720337982726128,
            "bin_end": 0.778594603929421,
            "count": 0
           },
           {
            "bin_start": 0.778594603929421,
            "bin_end": 0.836851225132714,
            "count": 1
           },
           {
            "bin_start": 0.836851225132714,
            "bin_end": 0.895107846336007,
            "count": 0
           },
           {
            "bin_start": 0.895107846336007,
            "bin_end": 0.9533644675393,
            "count": 3
           }
          ]
         }
        },
        {
         "name": "niperEBT",
         "dtype": "float64",
         "stats": {
          "unique_count": 5,
          "nan_count": 0,
          "min": "0.6691629955947099",
          "max": "0.99678680190874",
          "histogram": [
           {
            "bin_start": 0.6691629955947099,
            "bin_end": 0.701925376226113,
            "count": 2
           },
           {
            "bin_start": 0.701925376226113,
            "bin_end": 0.734687756857516,
            "count": 0
           },
           {
            "bin_start": 0.734687756857516,
            "bin_end": 0.767450137488919,
            "count": 0
           },
           {
            "bin_start": 0.767450137488919,
            "bin_end": 0.8002125181203219,
            "count": 1
           },
           {
            "bin_start": 0.8002125181203219,
            "bin_end": 0.8329748987517249,
            "count": 1
           },
           {
            "bin_start": 0.8329748987517249,
            "bin_end": 0.865737279383128,
            "count": 0
           },
           {
            "bin_start": 0.865737279383128,
            "bin_end": 0.898499660014531,
            "count": 0
           },
           {
            "bin_start": 0.898499660014531,
            "bin_end": 0.931262040645934,
            "count": 0
           },
           {
            "bin_start": 0.931262040645934,
            "bin_end": 0.964024421277337,
            "count": 0
           },
           {
            "bin_start": 0.964024421277337,
            "bin_end": 0.99678680190874,
            "count": 1
           }
          ]
         }
        },
        {
         "name": "grossProfitMargin",
         "dtype": "float64",
         "stats": {
          "unique_count": 5,
          "nan_count": 0,
          "min": "0.20571283354511",
          "max": "0.47541027674359",
          "histogram": [
           {
            "bin_start": 0.20571283354511,
            "bin_end": 0.232682577864958,
            "count": 1
           },
           {
            "bin_start": 0.232682577864958,
            "bin_end": 0.259652322184806,
            "count": 1
           },
           {
            "bin_start": 0.259652322184806,
            "bin_end": 0.286622066504654,
            "count": 0
           },
           {
            "bin_start": 0.286622066504654,
            "bin_end": 0.313591810824502,
            "count": 1
           },
           {
            "bin_start": 0.313591810824502,
            "bin_end": 0.34056155514435,
            "count": 0
           },
           {
            "bin_start": 0.34056155514435,
            "bin_end": 0.367531299464198,
            "count": 1
           },
           {
            "bin_start": 0.367531299464198,
            "bin_end": 0.394501043784046,
            "count": 0
           },
           {
            "bin_start": 0.394501043784046,
            "bin_end": 0.421470788103894,
            "count": 0
           },
           {
            "bin_start": 0.421470788103894,
            "bin_end": 0.448440532423742,
            "count": 0
           },
           {
            "bin_start": 0.448440532423742,
            "bin_end": 0.47541027674359,
            "count": 1
           }
          ]
         }
        },
        {
         "name": "operatingProfitMargin",
         "dtype": "float64",
         "stats": {
          "unique_count": 1,
          "nan_count": 0,
          "min": "1.0",
          "max": "1.0",
          "histogram": [
           {
            "bin_start": 0.5,
            "bin_end": 0.6,
            "count": 0
           },
           {
            "bin_start": 0.6,
            "bin_end": 0.7,
            "count": 0
           },
           {
            "bin_start": 0.7,
            "bin_end": 0.8,
            "count": 0
           },
           {
            "bin_start": 0.8,
            "bin_end": 0.9,
            "count": 0
           },
           {
            "bin_start": 0.9,
            "bin_end": 1,
            "count": 0
           },
           {
            "bin_start": 1,
            "bin_end": 1.1,
            "count": 5
           },
           {
            "bin_start": 1.1,
            "bin_end": 1.2000000000000002,
            "count": 0
           },
           {
            "bin_start": 1.2000000000000002,
            "bin_end": 1.3,
            "count": 0
           },
           {
            "bin_start": 1.3,
            "bin_end": 1.4,
            "count": 0
           },
           {
            "bin_start": 1.4,
            "bin_end": 1.5,
            "count": 0
           }
          ]
         }
        },
        {
         "name": "pretaxProfitMargin",
         "dtype": "float64",
         "stats": {
          "unique_count": 5,
          "nan_count": 0,
          "min": "0.0277001270648029",
          "max": "0.18695985269015",
          "histogram": [
           {
            "bin_start": 0.0277001270648029,
            "bin_end": 0.043626099627337614,
            "count": 3
           },
           {
            "bin_start": 0.043626099627337614,
            "bin_end": 0.059552072189872324,
            "count": 0
           },
           {
            "bin_start": 0.059552072189872324,
            "bin_end": 0.07547804475240703,
            "count": 0
           },
           {
            "bin_start": 0.07547804475240703,
            "bin_end": 0.09140401731494174,
            "count": 0
           },
           {
            "bin_start": 0.09140401731494174,
            "bin_end": 0.10732998987747645,
            "count": 0
           },
           {
            "bin_start": 0.10732998987747645,
            "bin_end": 0.12325596244001116,
            "count": 0
           },
           {
            "bin_start": 0.12325596244001116,
            "bin_end": 0.13918193500254586,
            "count": 0
           },
           {
            "bin_start": 0.13918193500254586,
            "bin_end": 0.15510790756508058,
            "count": 0
           },
           {
            "bin_start": 0.15510790756508058,
            "bin_end": 0.17103388012761528,
            "count": 1
           },
           {
            "bin_start": 0.17103388012761528,
            "bin_end": 0.18695985269015,
            "count": 1
           }
          ]
         }
        },
        {
         "name": "netProfitMargin",
         "dtype": "float64",
         "stats": {
          "unique_count": 5,
          "nan_count": 0,
          "min": "0.0097708205222567",
          "max": "0.15648983212591",
          "histogram": [
           {
            "bin_start": 0.0097708205222567,
            "bin_end": 0.02444272168262203,
            "count": 2
           },
           {
            "bin_start": 0.02444272168262203,
            "bin_end": 0.03911462284298736,
            "count": 1
           },
           {
            "bin_start": 0.03911462284298736,
            "bin_end": 0.05378652400335268,
            "count": 0
           },
           {
            "bin_start": 0.05378652400335268,
            "bin_end": 0.06845842516371801,
            "count": 0
           },
           {
            "bin_start": 0.06845842516371801,
            "bin_end": 0.08313032632408335,
            "count": 0
           },
           {
            "bin_start": 0.08313032632408335,
            "bin_end": 0.09780222748444867,
            "count": 0
           },
           {
            "bin_start": 0.09780222748444867,
            "bin_end": 0.112474128644814,
            "count": 1
           },
           {
            "bin_start": 0.112474128644814,
            "bin_end": 0.12714602980517933,
            "count": 0
           },
           {
            "bin_start": 0.12714602980517933,
            "bin_end": 0.14181793096554465,
            "count": 0
           },
           {
            "bin_start": 0.14181793096554465,
            "bin_end": 0.15648983212591,
            "count": 1
           }
          ]
         }
        },
        {
         "name": "effectiveTaxRate",
         "dtype": "float64",
         "stats": {
          "unique_count": 5,
          "nan_count": 0,
          "min": "0.0032131980912644",
          "max": "0.3308370044052899",
          "histogram": [
           {
            "bin_start": 0.0032131980912644,
            "bin_end": 0.03597557872266695,
            "count": 1
           },
           {
            "bin_start": 0.03597557872266695,
            "bin_end": 0.0687379593540695,
            "count": 0
           },
           {
            "bin_start": 0.0687379593540695,
            "bin_end": 0.10150033998547205,
            "count": 0
           },
           {
            "bin_start": 0.10150033998547205,
            "bin_end": 0.1342627206168746,
            "count": 0
           },
           {
            "bin_start": 0.1342627206168746,
            "bin_end": 0.16702510124827716,
            "count": 0
           },
           {
            "bin_start": 0.16702510124827716,
            "bin_end": 0.1997874818796797,
            "count": 1
           },
           {
            "bin_start": 0.1997874818796797,
            "bin_end": 0.23254986251108226,
            "count": 1
           },
           {
            "bin_start": 0.23254986251108226,
            "bin_end": 0.2653122431424848,
            "count": 0
           },
           {
            "bin_start": 0.2653122431424848,
            "bin_end": 0.2980746237738874,
            "count": 0
           },
           {
            "bin_start": 0.2980746237738874,
            "bin_end": 0.3308370044052899,
            "count": 2
           }
          ]
         }
        },
        {
         "name": "returnOnAssets",
         "dtype": "float64",
         "stats": {
          "unique_count": 5,
          "nan_count": 0,
          "min": "0.0403",
          "max": "0.6265",
          "histogram": [
           {
            "bin_start": 0.0403,
            "bin_end": 0.09892,
            "count": 2
           },
           {
            "bin_start": 0.09892,
            "bin_end": 0.15753999999999999,
            "count": 1
           },
           {
            "bin_start": 0.15753999999999999,
            "bin_end": 0.21615999999999996,
            "count": 0
           },
           {
            "bin_start": 0.21615999999999996,
            "bin_end": 0.27477999999999997,
            "count": 0
           },
           {
            "bin_start": 0.27477999999999997,
            "bin_end": 0.3334,
            "count": 0
           },
           {
            "bin_start": 0.3334,
            "bin_end": 0.3920199999999999,
            "count": 0
           },
           {
            "bin_start": 0.3920199999999999,
            "bin_end": 0.45063999999999993,
            "count": 0
           },
           {
            "bin_start": 0.45063999999999993,
            "bin_end": 0.5092599999999999,
            "count": 0
           },
           {
            "bin_start": 0.5092599999999999,
            "bin_end": 0.5678799999999999,
            "count": 0
           },
           {
            "bin_start": 0.5678799999999999,
            "bin_end": 0.6265,
            "count": 2
           }
          ]
         }
        },
        {
         "name": "returnOnEquity",
         "dtype": "float64",
         "stats": {
          "unique_count": 5,
          "nan_count": 0,
          "min": "-0.118",
          "max": "0.3294",
          "histogram": [
           {
            "bin_start": -0.118,
            "bin_end": -0.07325999999999999,
            "count": 1
           },
           {
            "bin_start": -0.07325999999999999,
            "bin_end": -0.02851999999999999,
            "count": 0
           },
           {
            "bin_start": -0.02851999999999999,
            "bin_end": 0.016220000000000012,
            "count": 0
           },
           {
            "bin_start": 0.016220000000000012,
            "bin_end": 0.060960000000000014,
            "count": 0
           },
           {
            "bin_start": 0.060960000000000014,
            "bin_end": 0.10570000000000002,
            "count": 0
           },
           {
            "bin_start": 0.10570000000000002,
            "bin_end": 0.15044000000000002,
            "count": 0
           },
           {
            "bin_start": 0.15044000000000002,
            "bin_end": 0.19518000000000002,
            "count": 1
           },
           {
            "bin_start": 0.19518000000000002,
            "bin_end": 0.23992000000000002,
            "count": 0
           },
           {
            "bin_start": 0.23992000000000002,
            "bin_end": 0.28466,
            "count": 2
           },
           {
            "bin_start": 0.28466,
            "bin_end": 0.3294,
            "count": 1
           }
          ]
         }
        },
        {
         "name": "returnOnCapitalEmployed",
         "dtype": "float64",
         "stats": {
          "unique_count": 5,
          "nan_count": 0,
          "min": "0.0",
          "max": "0.1062",
          "histogram": [
           {
            "bin_start": 0,
            "bin_end": 0.010620000000000001,
            "count": 1
           },
           {
            "bin_start": 0.010620000000000001,
            "bin_end": 0.021240000000000002,
            "count": 0
           },
           {
            "bin_start": 0.021240000000000002,
            "bin_end": 0.03186,
            "count": 0
           },
           {
            "bin_start": 0.03186,
            "bin_end": 0.042480000000000004,
            "count": 0
           },
           {
            "bin_start": 0.042480000000000004,
            "bin_end": 0.05310000000000001,
            "count": 0
           },
           {
            "bin_start": 0.05310000000000001,
            "bin_end": 0.06372,
            "count": 0
           },
           {
            "bin_start": 0.06372,
            "bin_end": 0.07434,
            "count": 0
           },
           {
            "bin_start": 0.07434,
            "bin_end": 0.08496000000000001,
            "count": 1
           },
           {
            "bin_start": 0.08496000000000001,
            "bin_end": 0.09558000000000001,
            "count": 1
           },
           {
            "bin_start": 0.09558000000000001,
            "bin_end": 0.1062,
            "count": 2
           }
          ]
         }
        },
        {
         "name": "nIperEBT",
         "dtype": "float64",
         "stats": {
          "unique_count": 5,
          "nan_count": 0,
          "min": "0.6691629955947099",
          "max": "0.99678680190874",
          "histogram": [
           {
            "bin_start": 0.6691629955947099,
            "bin_end": 0.701925376226113,
            "count": 2
           },
           {
            "bin_start": 0.701925376226113,
            "bin_end": 0.734687756857516,
            "count": 0
           },
           {
            "bin_start": 0.734687756857516,
            "bin_end": 0.767450137488919,
            "count": 0
           },
           {
            "bin_start": 0.767450137488919,
            "bin_end": 0.8002125181203219,
            "count": 1
           },
           {
            "bin_start": 0.8002125181203219,
            "bin_end": 0.8329748987517249,
            "count": 1
           },
           {
            "bin_start": 0.8329748987517249,
            "bin_end": 0.865737279383128,
            "count": 0
           },
           {
            "bin_start": 0.865737279383128,
            "bin_end": 0.898499660014531,
            "count": 0
           },
           {
            "bin_start": 0.898499660014531,
            "bin_end": 0.931262040645934,
            "count": 0
           },
           {
            "bin_start": 0.931262040645934,
            "bin_end": 0.964024421277337,
            "count": 0
           },
           {
            "bin_start": 0.964024421277337,
            "bin_end": 0.99678680190874,
            "count": 1
           }
          ]
         }
        },
        {
         "name": "eBTperEBIT",
         "dtype": "float64",
         "stats": {
          "unique_count": 5,
          "nan_count": 0,
          "min": "0.3707982555063699",
          "max": "0.9533644675393",
          "histogram": [
           {
            "bin_start": 0.3707982555063699,
            "bin_end": 0.4290548767096629,
            "count": 1
           },
           {
            "bin_start": 0.4290548767096629,
            "bin_end": 0.4873114979129559,
            "count": 0
           },
           {
            "bin_start": 0.4873114979129559,
            "bin_end": 0.5455681191162489,
            "count": 0
           },
           {
            "bin_start": 0.5455681191162489,
            "bin_end": 0.603824740319542,
            "count": 0
           },
           {
            "bin_start": 0.603824740319542,
            "bin_end": 0.6620813615228349,
            "count": 0
           },
           {
            "bin_start": 0.6620813615228349,
            "bin_end": 0.720337982726128,
            "count": 0
           },
           {
            "bin_start": 0.720337982726128,
            "bin_end": 0.778594603929421,
            "count": 0
           },
           {
            "bin_start": 0.778594603929421,
            "bin_end": 0.836851225132714,
            "count": 1
           },
           {
            "bin_start": 0.836851225132714,
            "bin_end": 0.895107846336007,
            "count": 0
           },
           {
            "bin_start": 0.895107846336007,
            "bin_end": 0.9533644675393,
            "count": 3
           }
          ]
         }
        },
        {
         "name": "eBITperRevenue",
         "dtype": "float64",
         "stats": {
          "unique_count": 5,
          "nan_count": 0,
          "min": "0.0264357158210989",
          "max": "0.20433865136221",
          "histogram": [
           {
            "bin_start": 0.0264357158210989,
            "bin_end": 0.04422600937521001,
            "count": 2
           },
           {
            "bin_start": 0.04422600937521001,
            "bin_end": 0.062016302929321115,
            "count": 1
           },
           {
            "bin_start": 0.062016302929321115,
            "bin_end": 0.07980659648343223,
            "count": 0
           },
           {
            "bin_start": 0.07980659648343223,
            "bin_end": 0.09759689003754334,
            "count": 0
           },
           {
            "bin_start": 0.09759689003754334,
            "bin_end": 0.11538718359165444,
            "count": 0
           },
           {
            "bin_start": 0.11538718359165444,
            "bin_end": 0.13317747714576555,
            "count": 0
           },
           {
            "bin_start": 0.13317747714576555,
            "bin_end": 0.15096777069987669,
            "count": 0
           },
           {
            "bin_start": 0.15096777069987669,
            "bin_end": 0.1687580642539878,
            "count": 1
           },
           {
            "bin_start": 0.1687580642539878,
            "bin_end": 0.1865483578080989,
            "count": 0
           },
           {
            "bin_start": 0.1865483578080989,
            "bin_end": 0.20433865136221,
            "count": 1
           }
          ]
         }
        },
        {
         "name": "payablesTurnover",
         "dtype": "float64",
         "stats": {
          "unique_count": 4,
          "nan_count": 1,
          "min": "1.5648",
          "max": "4.9593",
          "histogram": [
           {
            "bin_start": 1.5648,
            "bin_end": 1.90425,
            "count": 1
           },
           {
            "bin_start": 1.90425,
            "bin_end": 2.2437,
            "count": 0
           },
           {
            "bin_start": 2.2437,
            "bin_end": 2.58315,
            "count": 0
           },
           {
            "bin_start": 2.58315,
            "bin_end": 2.9226,
            "count": 1
           },
           {
            "bin_start": 2.9226,
            "bin_end": 3.26205,
            "count": 0
           },
           {
            "bin_start": 3.26205,
            "bin_end": 3.6014999999999997,
            "count": 0
           },
           {
            "bin_start": 3.6014999999999997,
            "bin_end": 3.94095,
            "count": 0
           },
           {
            "bin_start": 3.94095,
            "bin_end": 4.2804,
            "count": 0
           },
           {
            "bin_start": 4.2804,
            "bin_end": 4.61985,
            "count": 0
           },
           {
            "bin_start": 4.61985,
            "bin_end": 4.9593,
            "count": 2
           }
          ]
         }
        },
        {
         "name": "inventoryTurnover",
         "dtype": "float64",
         "stats": {
          "unique_count": 4,
          "nan_count": 1,
          "min": "8.302999999999999",
          "max": "18.2227",
          "histogram": [
           {
            "bin_start": 8.302999999999999,
            "bin_end": 9.29497,
            "count": 1
           },
           {
            "bin_start": 9.29497,
            "bin_end": 10.28694,
            "count": 0
           },
           {
            "bin_start": 10.28694,
            "bin_end": 11.27891,
            "count": 1
           },
           {
            "bin_start": 11.27891,
            "bin_end": 12.270879999999998,
            "count": 1
           },
           {
            "bin_start": 12.270879999999998,
            "bin_end": 13.26285,
            "count": 0
           },
           {
            "bin_start": 13.26285,
            "bin_end": 14.254819999999999,
            "count": 0
           },
           {
            "bin_start": 14.254819999999999,
            "bin_end": 15.246789999999999,
            "count": 0
           },
           {
            "bin_start": 15.246789999999999,
            "bin_end": 16.23876,
            "count": 0
           },
           {
            "bin_start": 16.23876,
            "bin_end": 17.23073,
            "count": 0
           },
           {
            "bin_start": 17.23073,
            "bin_end": 18.2227,
            "count": 1
           }
          ]
         }
        },
        {
         "name": "fixedAssetTurnover",
         "dtype": "float64",
         "stats": {
          "unique_count": 5,
          "nan_count": 0,
          "min": "3.3357693687231",
          "max": "13.041452407848",
          "histogram": [
           {
            "bin_start": 3.3357693687231,
            "bin_end": 4.30633767263559,
            "count": 1
           },
           {
            "bin_start": 4.30633767263559,
            "bin_end": 5.27690597654808,
            "count": 1
           },
           {
            "bin_start": 5.27690597654808,
            "bin_end": 6.24747428046057,
            "count": 1
           },
           {
            "bin_start": 6.24747428046057,
            "bin_end": 7.21804258437306,
            "count": 0
           },
           {
            "bin_start": 7.21804258437306,
            "bin_end": 8.188610888285549,
            "count": 0
           },
           {
            "bin_start": 8.188610888285549,
            "bin_end": 9.159179192198039,
            "count": 0
           },
           {
            "bin_start": 9.159179192198039,
            "bin_end": 10.129747496110529,
            "count": 0
           },
           {
            "bin_start": 10.129747496110529,
            "bin_end": 11.100315800023019,
            "count": 0
           },
           {
            "bin_start": 11.100315800023019,
            "bin_end": 12.070884103935509,
            "count": 0
           },
           {
            "bin_start": 12.070884103935509,
            "bin_end": 13.041452407848,
            "count": 2
           }
          ]
         }
        },
        {
         "name": "assetTurnover",
         "dtype": "float64",
         "stats": {
          "unique_count": 5,
          "nan_count": 0,
          "min": "0.5157209598935301",
          "max": "3.6755777033152",
          "histogram": [
           {
            "bin_start": 0.5157209598935301,
            "bin_end": 0.8317066342356971,
            "count": 2
           },
           {
            "bin_start": 0.8317066342356971,
            "bin_end": 1.147692308577864,
            "count": 0
           },
           {
            "bin_start": 1.147692308577864,
            "bin_end": 1.4636779829200313,
            "count": 1
           },
           {
            "bin_start": 1.4636779829200313,
            "bin_end": 1.7796636572621982,
            "count": 0
           },
           {
            "bin_start": 1.7796636572621982,
            "bin_end": 2.095649331604365,
            "count": 0
           },
           {
            "bin_start": 2.095649331604365,
            "bin_end": 2.411635005946532,
            "count": 0
           },
           {
            "bin_start": 2.411635005946532,
            "bin_end": 2.727620680288699,
            "count": 0
           },
           {
            "bin_start": 2.727620680288699,
            "bin_end": 3.043606354630866,
            "count": 0
           },
           {
            "bin_start": 3.043606354630866,
            "bin_end": 3.359592028973033,
            "count": 0
           },
           {
            "bin_start": 3.359592028973033,
            "bin_end": 3.6755777033152,
            "count": 2
           }
          ]
         }
        },
        {
         "name": "currentRatio",
         "dtype": "float64",
         "stats": {
          "unique_count": 5,
          "nan_count": 0,
          "min": "0.2102",
          "max": "1.709",
          "histogram": [
           {
            "bin_start": 0.2102,
            "bin_end": 0.36008,
            "count": 1
           },
           {
            "bin_start": 0.36008,
            "bin_end": 0.50996,
            "count": 0
           },
           {
            "bin_start": 0.50996,
            "bin_end": 0.65984,
            "count": 0
           },
           {
            "bin_start": 0.65984,
            "bin_end": 0.80972,
            "count": 0
           },
           {
            "bin_start": 0.80972,
            "bin_end": 0.9596,
            "count": 3
           },
           {
            "bin_start": 0.9596,
            "bin_end": 1.10948,
            "count": 0
           },
           {
            "bin_start": 1.10948,
            "bin_end": 1.25936,
            "count": 0
           },
           {
            "bin_start": 1.25936,
            "bin_end": 1.40924,
            "count": 0
           },
           {
            "bin_start": 1.40924,
            "bin_end": 1.55912,
            "count": 0
           },
           {
            "bin_start": 1.55912,
            "bin_end": 1.709,
            "count": 1
           }
          ]
         }
        },
        {
         "name": "quickRatio",
         "dtype": "float64",
         "stats": {
          "unique_count": 5,
          "nan_count": 0,
          "min": "0.14170948155068",
          "max": "0.8499930725766399",
          "histogram": [
           {
            "bin_start": 0.14170948155068,
            "bin_end": 0.212537840653276,
            "count": 1
           },
           {
            "bin_start": 0.212537840653276,
            "bin_end": 0.28336619975587196,
            "count": 0
           },
           {
            "bin_start": 0.28336619975587196,
            "bin_end": 0.35419455885846796,
            "count": 0
           },
           {
            "bin_start": 0.35419455885846796,
            "bin_end": 0.42502291796106395,
            "count": 0
           },
           {
            "bin_start": 0.42502291796106395,
            "bin_end": 0.49585127706365995,
            "count": 2
           },
           {
            "bin_start": 0.49585127706365995,
            "bin_end": 0.5666796361662559,
            "count": 1
           },
           {
            "bin_start": 0.5666796361662559,
            "bin_end": 0.6375079952688519,
            "count": 0
           },
           {
            "bin_start": 0.6375079952688519,
            "bin_end": 0.7083363543714479,
            "count": 0
           },
           {
            "bin_start": 0.7083363543714479,
            "bin_end": 0.7791647134740439,
            "count": 0
           },
           {
            "bin_start": 0.7791647134740439,
            "bin_end": 0.8499930725766399,
            "count": 1
           }
          ]
         }
        },
        {
         "name": "cashRatio",
         "dtype": "float64",
         "stats": {
          "unique_count": 5,
          "nan_count": 0,
          "min": "0.037459131247081",
          "max": "0.47178864692304",
          "histogram": [
           {
            "bin_start": 0.037459131247081,
            "bin_end": 0.0808920828146769,
            "count": 2
           },
           {
            "bin_start": 0.0808920828146769,
            "bin_end": 0.1243250343822728,
            "count": 0
           },
           {
            "bin_start": 0.1243250343822728,
            "bin_end": 0.16775798594986868,
            "count": 1
           },
           {
            "bin_start": 0.16775798594986868,
            "bin_end": 0.2111909375174646,
            "count": 0
           },
           {
            "bin_start": 0.2111909375174646,
            "bin_end": 0.2546238890850605,
            "count": 1
           },
           {
            "bin_start": 0.2546238890850605,
            "bin_end": 0.29805684065265636,
            "count": 0
           },
           {
            "bin_start": 0.29805684065265636,
            "bin_end": 0.3414897922202523,
            "count": 0
           },
           {
            "bin_start": 0.3414897922202523,
            "bin_end": 0.3849227437878482,
            "count": 0
           },
           {
            "bin_start": 0.3849227437878482,
            "bin_end": 0.4283556953554441,
            "count": 0
           },
           {
            "bin_start": 0.4283556953554441,
            "bin_end": 0.47178864692304,
            "count": 1
           }
          ]
         }
        },
        {
         "name": "daysOfSalesOutstanding",
         "dtype": "float64",
         "stats": {
          "unique_count": 5,
          "nan_count": 0,
          "min": "-75.367",
          "max": "-26.3971",
          "histogram": [
           {
            "bin_start": -75.367,
            "bin_end": -70.47001,
            "count": 1
           },
           {
            "bin_start": -70.47001,
            "bin_end": -65.57302,
            "count": 0
           },
           {
            "bin_start": -65.57302,
            "bin_end": -60.676030000000004,
            "count": 1
           },
           {
            "bin_start": -60.676030000000004,
            "bin_end": -55.77904,
            "count": 1
           },
           {
            "bin_start": -55.77904,
            "bin_end": -50.88205,
            "count": 0
           },
           {
            "bin_start": -50.88205,
            "bin_end": -45.985060000000004,
            "count": 1
           },
           {
            "bin_start": -45.985060000000004,
            "bin_end": -41.08807,
            "count": 0
           },
           {
            "bin_start": -41.08807,
            "bin_end": -36.19108,
            "count": 0
           },
           {
            "bin_start": -36.19108,
            "bin_end": -31.294089999999997,
            "count": 0
           },
           {
            "bin_start": -31.294089999999997,
            "bin_end": -26.3971,
            "count": 1
           }
          ]
         }
        },
        {
         "name": "daysOfInventoryOutstanding",
         "dtype": "float64",
         "stats": {
          "unique_count": 5,
          "nan_count": 0,
          "min": "1.1431",
          "max": "31.3287",
          "histogram": [
           {
            "bin_start": 1.1431,
            "bin_end": 4.1616599999999995,
            "count": 2
           },
           {
            "bin_start": 4.1616599999999995,
            "bin_end": 7.18022,
            "count": 0
           },
           {
            "bin_start": 7.18022,
            "bin_end": 10.19878,
            "count": 0
           },
           {
            "bin_start": 10.19878,
            "bin_end": 13.21734,
            "count": 0
           },
           {
            "bin_start": 13.21734,
            "bin_end": 16.2359,
            "count": 1
           },
           {
            "bin_start": 16.2359,
            "bin_end": 19.254459999999998,
            "count": 0
           },
           {
            "bin_start": 19.254459999999998,
            "bin_end": 22.27302,
            "count": 0
           },
           {
            "bin_start": 22.27302,
            "bin_end": 25.29158,
            "count": 0
           },
           {
            "bin_start": 25.29158,
            "bin_end": 28.31014,
            "count": 0
           },
           {
            "bin_start": 28.31014,
            "bin_end": 31.3287,
            "count": 2
           }
          ]
         }
        },
        {
         "name": "operatingCycle",
         "dtype": "float64",
         "stats": {
          "unique_count": 0,
          "nan_count": 5,
          "min": null,
          "max": null,
          "histogram": [
           {
            "bin_start": 0,
            "bin_end": 0.1,
            "count": 0
           },
           {
            "bin_start": 0.1,
            "bin_end": 0.2,
            "count": 0
           },
           {
            "bin_start": 0.2,
            "bin_end": 0.30000000000000004,
            "count": 0
           },
           {
            "bin_start": 0.30000000000000004,
            "bin_end": 0.4,
            "count": 0
           },
           {
            "bin_start": 0.4,
            "bin_end": 0.5,
            "count": 0
           },
           {
            "bin_start": 0.5,
            "bin_end": 0.6000000000000001,
            "count": 0
           },
           {
            "bin_start": 0.6000000000000001,
            "bin_end": 0.7000000000000001,
            "count": 0
           },
           {
            "bin_start": 0.7000000000000001,
            "bin_end": 0.8,
            "count": 0
           },
           {
            "bin_start": 0.8,
            "bin_end": 0.9,
            "count": 0
           },
           {
            "bin_start": 0.9,
            "bin_end": 1,
            "count": 0
           }
          ]
         }
        },
        {
         "name": "daysOfPayablesOutstanding",
         "dtype": "float64",
         "stats": {
          "unique_count": 5,
          "nan_count": 0,
          "min": "18.1099",
          "max": "97.7945",
          "histogram": [
           {
            "bin_start": 18.1099,
            "bin_end": 26.07836,
            "count": 2
           },
           {
            "bin_start": 26.07836,
            "bin_end": 34.04682,
            "count": 1
           },
           {
            "bin_start": 34.04682,
            "bin_end": 42.015280000000004,
            "count": 1
           },
           {
            "bin_start": 42.015280000000004,
            "bin_end": 49.98374,
            "count": 0
           },
           {
            "bin_start": 49.98374,
            "bin_end": 57.952200000000005,
            "count": 0
           },
           {
            "bin_start": 57.952200000000005,
            "bin_end": 65.92066,
            "count": 0
           },
           {
            "bin_start": 65.92066,
            "bin_end": 73.88912,
            "count": 0
           },
           {
            "bin_start": 73.88912,
            "bin_end": 81.85758,
            "count": 0
           },
           {
            "bin_start": 81.85758,
            "bin_end": 89.82603999999999,
            "count": 0
           },
           {
            "bin_start": 89.82603999999999,
            "bin_end": 97.7945,
            "count": 1
           }
          ]
         }
        },
        {
         "name": "cashConversionCycle",
         "dtype": "float64",
         "stats": {
          "unique_count": 0,
          "nan_count": 5,
          "min": null,
          "max": null,
          "histogram": [
           {
            "bin_start": 0,
            "bin_end": 0.1,
            "count": 0
           },
           {
            "bin_start": 0.1,
            "bin_end": 0.2,
            "count": 0
           },
           {
            "bin_start": 0.2,
            "bin_end": 0.30000000000000004,
            "count": 0
           },
           {
            "bin_start": 0.30000000000000004,
            "bin_end": 0.4,
            "count": 0
           },
           {
            "bin_start": 0.4,
            "bin_end": 0.5,
            "count": 0
           },
           {
            "bin_start": 0.5,
            "bin_end": 0.6000000000000001,
            "count": 0
           },
           {
            "bin_start": 0.6000000000000001,
            "bin_end": 0.7000000000000001,
            "count": 0
           },
           {
            "bin_start": 0.7000000000000001,
            "bin_end": 0.8,
            "count": 0
           },
           {
            "bin_start": 0.8,
            "bin_end": 0.9,
            "count": 0
           },
           {
            "bin_start": 0.9,
            "bin_end": 1,
            "count": 0
           }
          ]
         }
        },
        {
         "name": "debtRatio",
         "dtype": "float64",
         "stats": {
          "unique_count": 5,
          "nan_count": 0,
          "min": "0.2274",
          "max": "0.8290000000000001",
          "histogram": [
           {
            "bin_start": 0.2274,
            "bin_end": 0.28756,
            "count": 2
           },
           {
            "bin_start": 0.28756,
            "bin_end": 0.34772000000000003,
            "count": 0
           },
           {
            "bin_start": 0.34772000000000003,
            "bin_end": 0.40788,
            "count": 2
           },
           {
            "bin_start": 0.40788,
            "bin_end": 0.46804,
            "count": 0
           },
           {
            "bin_start": 0.46804,
            "bin_end": 0.5282,
            "count": 0
           },
           {
            "bin_start": 0.5282,
            "bin_end": 0.58836,
            "count": 0
           },
           {
            "bin_start": 0.58836,
            "bin_end": 0.6485200000000001,
            "count": 0
           },
           {
            "bin_start": 0.6485200000000001,
            "bin_end": 0.7086800000000001,
            "count": 0
           },
           {
            "bin_start": 0.7086800000000001,
            "bin_end": 0.7688400000000002,
            "count": 0
           },
           {
            "bin_start": 0.7688400000000002,
            "bin_end": 0.8290000000000001,
            "count": 1
           }
          ]
         }
        },
        {
         "name": "debtEquityRatio",
         "dtype": "float64",
         "stats": {
          "unique_count": 5,
          "nan_count": 0,
          "min": "-2.7237",
          "max": "2.1007",
          "histogram": [
           {
            "bin_start": -2.7237,
            "bin_end": -2.24126,
            "count": 1
           },
           {
            "bin_start": -2.24126,
            "bin_end": -1.75882,
            "count": 0
           },
           {
            "bin_start": -1.75882,
            "bin_end": -1.27638,
            "count": 0
           },
           {
            "bin_start": -1.27638,
            "bin_end": -0.7939400000000001,
            "count": 0
           },
           {
            "bin_start": -0.7939400000000001,
            "bin_end": -0.3115000000000001,
            "count": 0
           },
           {
            "bin_start": -0.3115000000000001,
            "bin_end": 0.17093999999999987,
            "count": 0
           },
           {
            "bin_start": 0.17093999999999987,
            "bin_end": 0.6533799999999998,
            "count": 1
           },
           {
            "bin_start": 0.6533799999999998,
            "bin_end": 1.1358199999999998,
            "count": 0
           },
           {
            "bin_start": 1.1358199999999998,
            "bin_end": 1.6182600000000003,
            "count": 2
           },
           {
            "bin_start": 1.6182600000000003,
            "bin_end": 2.1007,
            "count": 1
           }
          ]
         }
        },
        {
         "name": "longtermDebtToCapitalization",
         "dtype": "float64",
         "stats": {
          "unique_count": 5,
          "nan_count": 0,
          "min": "0.22064441400203",
          "max": "1.5880759554034",
          "histogram": [
           {
            "bin_start": 0.22064441400203,
            "bin_end": 0.357387568142167,
            "count": 1
           },
           {
            "bin_start": 0.357387568142167,
            "bin_end": 0.494130722282304,
            "count": 0
           },
           {
            "bin_start": 0.494130722282304,
            "bin_end": 0.630873876422441,
            "count": 2
           },
           {
            "bin_start": 0.630873876422441,
            "bin_end": 0.767617030562578,
            "count": 1
           },
           {
            "bin_start": 0.767617030562578,
            "bin_end": 0.904360184702715,
            "count": 0
           },
           {
            "bin_start": 0.904360184702715,
            "bin_end": 1.0411033388428519,
            "count": 0
           },
           {
            "bin_start": 1.0411033388428519,
            "bin_end": 1.177846492982989,
            "count": 0
           },
           {
            "bin_start": 1.177846492982989,
            "bin_end": 1.314589647123126,
            "count": 0
           },
           {
            "bin_start": 1.314589647123126,
            "bin_end": 1.451332801263263,
            "count": 0
           },
           {
            "bin_start": 1.451332801263263,
            "bin_end": 1.5880759554034,
            "count": 1
           }
          ]
         }
        },
        {
         "name": "totalDebtToCapitalization",
         "dtype": "float64",
         "stats": {
          "unique_count": 5,
          "nan_count": 0,
          "min": "0.33604698604272",
          "max": "1.5801389400844",
          "histogram": [
           {
            "bin_start": 0.33604698604272,
            "bin_end": 0.460456181446888,
            "count": 1
           },
           {
            "bin_start": 0.460456181446888,
            "bin_end": 0.584865376851056,
            "count": 1
           },
           {
            "bin_start": 0.584865376851056,
            "bin_end": 0.709274572255224,
            "count": 2
           },
           {
            "bin_start": 0.709274572255224,
            "bin_end": 0.833683767659392,
            "count": 0
           },
           {
            "bin_start": 0.833683767659392,
            "bin_end": 0.95809296306356,
            "count": 0
           },
           {
            "bin_start": 0.95809296306356,
            "bin_end": 1.082502158467728,
            "count": 0
           },
           {
            "bin_start": 1.082502158467728,
            "bin_end": 1.206911353871896,
            "count": 0
           },
           {
            "bin_start": 1.206911353871896,
            "bin_end": 1.331320549276064,
            "count": 0
           },
           {
            "bin_start": 1.331320549276064,
            "bin_end": 1.455729744680232,
            "count": 0
           },
           {
            "bin_start": 1.455729744680232,
            "bin_end": 1.5801389400844,
            "count": 1
           }
          ]
         }
        },
        {
         "name": "interestCoverage",
         "dtype": "float64",
         "stats": {
          "unique_count": 5,
          "nan_count": 0,
          "min": "1.5893",
          "max": "21.4429",
          "histogram": [
           {
            "bin_start": 1.5893,
            "bin_end": 3.5746599999999997,
            "count": 1
           },
           {
            "bin_start": 3.5746599999999997,
            "bin_end": 5.56002,
            "count": 0
           },
           {
            "bin_start": 5.56002,
            "bin_end": 7.54538,
            "count": 1
           },
           {
            "bin_start": 7.54538,
            "bin_end": 9.53074,
            "count": 0
           },
           {
            "bin_start": 9.53074,
            "bin_end": 11.5161,
            "count": 1
           },
           {
            "bin_start": 11.5161,
            "bin_end": 13.50146,
            "count": 0
           },
           {
            "bin_start": 13.50146,
            "bin_end": 15.48682,
            "count": 1
           },
           {
            "bin_start": 15.48682,
            "bin_end": 17.47218,
            "count": 0
           },
           {
            "bin_start": 17.47218,
            "bin_end": 19.45754,
            "count": 0
           },
           {
            "bin_start": 19.45754,
            "bin_end": 21.4429,
            "count": 1
           }
          ]
         }
        },
        {
         "name": "cashFlowToDebtRatio",
         "dtype": "float64",
         "stats": {
          "unique_count": 5,
          "nan_count": 0,
          "min": "0.12194347091952",
          "max": "0.84634881847791",
          "histogram": [
           {
            "bin_start": 0.12194347091952,
            "bin_end": 0.19438400567535902,
            "count": 1
           },
           {
            "bin_start": 0.19438400567535902,
            "bin_end": 0.266824540431198,
            "count": 0
           },
           {
            "bin_start": 0.266824540431198,
            "bin_end": 0.339265075187037,
            "count": 2
           },
           {
            "bin_start": 0.339265075187037,
            "bin_end": 0.411705609942876,
            "count": 1
           },
           {
            "bin_start": 0.411705609942876,
            "bin_end": 0.48414614469871503,
            "count": 0
           },
           {
            "bin_start": 0.48414614469871503,
            "bin_end": 0.556586679454554,
            "count": 0
           },
           {
            "bin_start": 0.556586679454554,
            "bin_end": 0.629027214210393,
            "count": 0
           },
           {
            "bin_start": 0.629027214210393,
            "bin_end": 0.701467748966232,
            "count": 0
           },
           {
            "bin_start": 0.701467748966232,
            "bin_end": 0.773908283722071,
            "count": 0
           },
           {
            "bin_start": 0.773908283722071,
            "bin_end": 0.84634881847791,
            "count": 1
           }
          ]
         }
        },
        {
         "name": "companyEquityMultiplier",
         "dtype": "float64",
         "stats": {
          "unique_count": 4,
          "nan_count": 1,
          "min": "2.0616497084715",
          "max": "6.6367337686028005",
          "histogram": [
           {
            "bin_start": 2.0616497084715,
            "bin_end": 2.5191581144846302,
            "count": 1
           },
           {
            "bin_start": 2.5191581144846302,
            "bin_end": 2.9766665204977603,
            "count": 0
           },
           {
            "bin_start": 2.9766665204977603,
            "bin_end": 3.4341749265108903,
            "count": 0
           },
           {
            "bin_start": 3.4341749265108903,
            "bin_end": 3.8916833325240203,
            "count": 1
           },
           {
            "bin_start": 3.8916833325240203,
            "bin_end": 4.349191738537151,
            "count": 0
           },
           {
            "bin_start": 4.349191738537151,
            "bin_end": 4.80670014455028,
            "count": 0
           },
           {
            "bin_start": 4.80670014455028,
            "bin_end": 5.26420855056341,
            "count": 0
           },
           {
            "bin_start": 5.26420855056341,
            "bin_end": 5.7217169565765404,
            "count": 1
           },
           {
            "bin_start": 5.7217169565765404,
            "bin_end": 6.17922536258967,
            "count": 0
           },
           {
            "bin_start": 6.17922536258967,
            "bin_end": 6.6367337686028005,
            "count": 1
           }
          ]
         }
        },
        {
         "name": "operatingCashFlowPerShare",
         "dtype": "float64",
         "stats": {
          "unique_count": 5,
          "nan_count": 0,
          "min": "3.4757",
          "max": "35.6714",
          "histogram": [
           {
            "bin_start": 3.4757,
            "bin_end": 6.69527,
            "count": 3
           },
           {
            "bin_start": 6.69527,
            "bin_end": 9.91484,
            "count": 0
           },
           {
            "bin_start": 9.91484,
            "bin_end": 13.134409999999999,
            "count": 0
           },
           {
            "bin_start": 13.134409999999999,
            "bin_end": 16.35398,
            "count": 1
           },
           {
            "bin_start": 16.35398,
            "bin_end": 19.57355,
            "count": 0
           },
           {
            "bin_start": 19.57355,
            "bin_end": 22.79312,
            "count": 0
           },
           {
            "bin_start": 22.79312,
            "bin_end": 26.01269,
            "count": 0
           },
           {
            "bin_start": 26.01269,
            "bin_end": 29.23226,
            "count": 0
           },
           {
            "bin_start": 29.23226,
            "bin_end": 32.45183,
            "count": 0
           },
           {
            "bin_start": 32.45183,
            "bin_end": 35.6714,
            "count": 1
           }
          ]
         }
        },
        {
         "name": "freeCashFlowPerShare",
         "dtype": "float64",
         "stats": {
          "unique_count": 5,
          "nan_count": 0,
          "min": "0.557",
          "max": "22.976",
          "histogram": [
           {
            "bin_start": 0.557,
            "bin_end": 2.7989,
            "count": 2
           },
           {
            "bin_start": 2.7989,
            "bin_end": 5.040800000000001,
            "count": 2
           },
           {
            "bin_start": 5.040800000000001,
            "bin_end": 7.282700000000001,
            "count": 0
           },
           {
            "bin_start": 7.282700000000001,
            "bin_end": 9.524600000000001,
            "count": 0
           },
           {
            "bin_start": 9.524600000000001,
            "bin_end": 11.766500000000002,
            "count": 0
           },
           {
            "bin_start": 11.766500000000002,
            "bin_end": 14.008400000000002,
            "count": 0
           },
           {
            "bin_start": 14.008400000000002,
            "bin_end": 16.2503,
            "count": 0
           },
           {
            "bin_start": 16.2503,
            "bin_end": 18.4922,
            "count": 0
           },
           {
            "bin_start": 18.4922,
            "bin_end": 20.7341,
            "count": 0
           },
           {
            "bin_start": 20.7341,
            "bin_end": 22.976,
            "count": 1
           }
          ]
         }
        },
        {
         "name": "cashPerShare",
         "dtype": "float64",
         "stats": {
          "unique_count": 5,
          "nan_count": 0,
          "min": "0.3901",
          "max": "52.3827",
          "histogram": [
           {
            "bin_start": 0.3901,
            "bin_end": 5.589360000000001,
            "count": 4
           },
           {
            "bin_start": 5.589360000000001,
            "bin_end": 10.788620000000002,
            "count": 0
           },
           {
            "bin_start": 10.788620000000002,
            "bin_end": 15.987880000000002,
            "count": 0
           },
           {
            "bin_start": 15.987880000000002,
            "bin_end": 21.187140000000003,
            "count": 0
           },
           {
            "bin_start": 21.187140000000003,
            "bin_end": 26.386400000000005,
            "count": 0
           },
           {
            "bin_start": 26.386400000000005,
            "bin_end": 31.585660000000004,
            "count": 0
           },
           {
            "bin_start": 31.585660000000004,
            "bin_end": 36.78492,
            "count": 0
           },
           {
            "bin_start": 36.78492,
            "bin_end": 41.98418,
            "count": 0
           },
           {
            "bin_start": 41.98418,
            "bin_end": 47.183440000000004,
            "count": 0
           },
           {
            "bin_start": 47.183440000000004,
            "bin_end": 52.3827,
            "count": 1
           }
          ]
         }
        },
        {
         "name": "payoutRatio",
         "dtype": "float64",
         "stats": {
          "unique_count": 4,
          "nan_count": 0,
          "min": "0.0",
          "max": "0.584",
          "histogram": [
           {
            "bin_start": 0,
            "bin_end": 0.058399999999999994,
            "count": 2
           },
           {
            "bin_start": 0.058399999999999994,
            "bin_end": 0.11679999999999999,
            "count": 0
           },
           {
            "bin_start": 0.11679999999999999,
            "bin_end": 0.17519999999999997,
            "count": 0
           },
           {
            "bin_start": 0.17519999999999997,
            "bin_end": 0.23359999999999997,
            "count": 1
           },
           {
            "bin_start": 0.23359999999999997,
            "bin_end": 0.292,
            "count": 0
           },
           {
            "bin_start": 0.292,
            "bin_end": 0.35039999999999993,
            "count": 0
           },
           {
            "bin_start": 0.35039999999999993,
            "bin_end": 0.40879999999999994,
            "count": 0
           },
           {
            "bin_start": 0.40879999999999994,
            "bin_end": 0.46719999999999995,
            "count": 0
           },
           {
            "bin_start": 0.46719999999999995,
            "bin_end": 0.5256,
            "count": 0
           },
           {
            "bin_start": 0.5256,
            "bin_end": 0.584,
            "count": 2
           }
          ]
         }
        },
        {
         "name": "operatingCashFlowSalesRatio",
         "dtype": "float64",
         "stats": {
          "unique_count": 5,
          "nan_count": 0,
          "min": "0.027502728252497",
          "max": "0.18760500530907",
          "histogram": [
           {
            "bin_start": 0.027502728252497,
            "bin_end": 0.0435129559581543,
            "count": 2
           },
           {
            "bin_start": 0.0435129559581543,
            "bin_end": 0.0595231836638116,
            "count": 0
           },
           {
            "bin_start": 0.0595231836638116,
            "bin_end": 0.07553341136946891,
            "count": 0
           },
           {
            "bin_start": 0.07553341136946891,
            "bin_end": 0.0915436390751262,
            "count": 0
           },
           {
            "bin_start": 0.0915436390751262,
            "bin_end": 0.1075538667807835,
            "count": 0
           },
           {
            "bin_start": 0.1075538667807835,
            "bin_end": 0.12356409448644082,
            "count": 0
           },
           {
            "bin_start": 0.12356409448644082,
            "bin_end": 0.13957432219209812,
            "count": 0
           },
           {
            "bin_start": 0.13957432219209812,
            "bin_end": 0.15558454989775541,
            "count": 2
           },
           {
            "bin_start": 0.15558454989775541,
            "bin_end": 0.1715947776034127,
            "count": 0
           },
           {
            "bin_start": 0.1715947776034127,
            "bin_end": 0.18760500530907,
            "count": 1
           }
          ]
         }
        },
        {
         "name": "freeCashFlowOperatingCashFlowRatio",
         "dtype": "float64",
         "stats": {
          "unique_count": 5,
          "nan_count": 0,
          "min": "0.3478869297509099",
          "max": "0.7414797323888199",
          "histogram": [
           {
            "bin_start": 0.3478869297509099,
            "bin_end": 0.3872462100147009,
            "count": 1
           },
           {
            "bin_start": 0.3872462100147009,
            "bin_end": 0.42660549027849193,
            "count": 0
           },
           {
            "bin_start": 0.42660549027849193,
            "bin_end": 0.4659647705422829,
            "count": 0
           },
           {
            "bin_start": 0.4659647705422829,
            "bin_end": 0.5053240508060739,
            "count": 1
           },
           {
            "bin_start": 0.5053240508060739,
            "bin_end": 0.5446833310698649,
            "count": 1
           },
           {
            "bin_start": 0.5446833310698649,
            "bin_end": 0.5840426113336559,
            "count": 0
           },
           {
            "bin_start": 0.5840426113336559,
            "bin_end": 0.6234018915974469,
            "count": 0
           },
           {
            "bin_start": 0.6234018915974469,
            "bin_end": 0.6627611718612378,
            "count": 0
           },
           {
            "bin_start": 0.6627611718612378,
            "bin_end": 0.7021204521250288,
            "count": 0
           },
           {
            "bin_start": 0.7021204521250288,
            "bin_end": 0.7414797323888199,
            "count": 2
           }
          ]
         }
        },
        {
         "name": "cashFlowCoverageRatios",
         "dtype": "float64",
         "stats": {
          "unique_count": 5,
          "nan_count": 0,
          "min": "0.12194347091952",
          "max": "0.84634881847791",
          "histogram": [
           {
            "bin_start": 0.12194347091952,
            "bin_end": 0.19438400567535902,
            "count": 1
           },
           {
            "bin_start": 0.19438400567535902,
            "bin_end": 0.266824540431198,
            "count": 0
           },
           {
            "bin_start": 0.266824540431198,
            "bin_end": 0.339265075187037,
            "count": 2
           },
           {
            "bin_start": 0.339265075187037,
            "bin_end": 0.411705609942876,
            "count": 1
           },
           {
            "bin_start": 0.411705609942876,
            "bin_end": 0.48414614469871503,
            "count": 0
           },
           {
            "bin_start": 0.48414614469871503,
            "bin_end": 0.556586679454554,
            "count": 0
           },
           {
            "bin_start": 0.556586679454554,
            "bin_end": 0.629027214210393,
            "count": 0
           },
           {
            "bin_start": 0.629027214210393,
            "bin_end": 0.701467748966232,
            "count": 0
           },
           {
            "bin_start": 0.701467748966232,
            "bin_end": 0.773908283722071,
            "count": 0
           },
           {
            "bin_start": 0.773908283722071,
            "bin_end": 0.84634881847791,
            "count": 1
           }
          ]
         }
        },
        {
         "name": "shortTermCoverageRatios",
         "dtype": "float64",
         "stats": {
          "unique_count": 4,
          "nan_count": 1,
          "min": "0.8943995899013198",
          "max": "14.276772278033",
          "histogram": [
           {
            "bin_start": 0.8943995899013198,
            "bin_end": 2.232636858714488,
            "count": 3
           },
           {
            "bin_start": 2.232636858714488,
            "bin_end": 3.570874127527656,
            "count": 0
           },
           {
            "bin_start": 3.570874127527656,
            "bin_end": 4.9091113963408235,
            "count": 0
           },
           {
            "bin_start": 4.9091113963408235,
            "bin_end": 6.247348665153992,
            "count": 0
           },
           {
            "bin_start": 6.247348665153992,
            "bin_end": 7.5855859339671605,
            "count": 0
           },
           {
            "bin_start": 7.5855859339671605,
            "bin_end": 8.923823202780328,
            "count": 0
           },
           {
            "bin_start": 8.923823202780328,
            "bin_end": 10.262060471593497,
            "count": 0
           },
           {
            "bin_start": 10.262060471593497,
            "bin_end": 11.600297740406665,
            "count": 0
           },
           {
            "bin_start": 11.600297740406665,
            "bin_end": 12.938535009219834,
            "count": 0
           },
           {
            "bin_start": 12.938535009219834,
            "bin_end": 14.276772278033,
            "count": 1
           }
          ]
         }
        },
        {
         "name": "capitalExpenditureCoverageRatios",
         "dtype": "float64",
         "stats": {
          "unique_count": 5,
          "nan_count": 0,
          "min": "1.5334763948498005",
          "max": "3.8681686710306",
          "histogram": [
           {
            "bin_start": 1.5334763948498005,
            "bin_end": 1.7669456224678803,
            "count": 1
           },
           {
            "bin_start": 1.7669456224678803,
            "bin_end": 2.0004148500859604,
            "count": 1
           },
           {
            "bin_start": 2.0004148500859604,
            "bin_end": 2.2338840777040403,
            "count": 1
           },
           {
            "bin_start": 2.2338840777040403,
            "bin_end": 2.46735330532212,
            "count": 0
           },
           {
            "bin_start": 2.46735330532212,
            "bin_end": 2.7008225329402,
            "count": 0
           },
           {
            "bin_start": 2.7008225329402,
            "bin_end": 2.9342917605582803,
            "count": 0
           },
           {
            "bin_start": 2.9342917605582803,
            "bin_end": 3.16776098817636,
            "count": 0
           },
           {
            "bin_start": 3.16776098817636,
            "bin_end": 3.40123021579444,
            "count": 0
           },
           {
            "bin_start": 3.40123021579444,
            "bin_end": 3.6346994434125204,
            "count": 1
           },
           {
            "bin_start": 3.6346994434125204,
            "bin_end": 3.8681686710306,
            "count": 1
           }
          ]
         }
        },
        {
         "name": "dividendpaidAndCapexCoverageRatios",
         "dtype": "float64",
         "stats": {
          "unique_count": 5,
          "nan_count": 0,
          "min": "1.2973324658426002",
          "max": "2.1027525683649",
          "histogram": [
           {
            "bin_start": 1.2973324658426002,
            "bin_end": 1.3778744760948303,
            "count": 2
           },
           {
            "bin_start": 1.3778744760948303,
            "bin_end": 1.4584164863470601,
            "count": 0
           },
           {
            "bin_start": 1.4584164863470601,
            "bin_end": 1.5389584965992902,
            "count": 0
           },
           {
            "bin_start": 1.5389584965992902,
            "bin_end": 1.6195005068515202,
            "count": 1
           },
           {
            "bin_start": 1.6195005068515202,
            "bin_end": 1.7000425171037503,
            "count": 0
           },
           {
            "bin_start": 1.7000425171037503,
            "bin_end": 1.7805845273559802,
            "count": 0
           },
           {
            "bin_start": 1.7805845273559802,
            "bin_end": 1.8611265376082102,
            "count": 0
           },
           {
            "bin_start": 1.8611265376082102,
            "bin_end": 1.94166854786044,
            "count": 0
           },
           {
            "bin_start": 1.94166854786044,
            "bin_end": 2.02221055811267,
            "count": 1
           },
           {
            "bin_start": 2.02221055811267,
            "bin_end": 2.1027525683649,
            "count": 1
           }
          ]
         }
        },
        {
         "name": "dividendPayoutRatio",
         "dtype": "float64",
         "stats": {
          "unique_count": 4,
          "nan_count": 0,
          "min": "-0.0",
          "max": "0.5935755389504399",
          "histogram": [
           {
            "bin_start": 0,
            "bin_end": 0.05935755389504399,
            "count": 2
           },
           {
            "bin_start": 0.05935755389504399,
            "bin_end": 0.11871510779008798,
            "count": 0
           },
           {
            "bin_start": 0.11871510779008798,
            "bin_end": 0.17807266168513197,
            "count": 0
           },
           {
            "bin_start": 0.17807266168513197,
            "bin_end": 0.23743021558017596,
            "count": 1
           },
           {
            "bin_start": 0.23743021558017596,
            "bin_end": 0.29678776947521995,
            "count": 0
           },
           {
            "bin_start": 0.29678776947521995,
            "bin_end": 0.35614532337026394,
            "count": 0
           },
           {
            "bin_start": 0.35614532337026394,
            "bin_end": 0.41550287726530793,
            "count": 0
           },
           {
            "bin_start": 0.41550287726530793,
            "bin_end": 0.4748604311603519,
            "count": 0
           },
           {
            "bin_start": 0.4748604311603519,
            "bin_end": 0.5342179850553959,
            "count": 0
           },
           {
            "bin_start": 0.5342179850553959,
            "bin_end": 0.5935755389504399,
            "count": 2
           }
          ]
         }
        },
        {
         "name": "Revenue per Share",
         "dtype": "float64",
         "stats": {
          "unique_count": 5,
          "nan_count": 0,
          "min": "27.4952",
          "max": "528.2098",
          "histogram": [
           {
            "bin_start": 27.4952,
            "bin_end": 77.56666,
            "count": 2
           },
           {
            "bin_start": 77.56666,
            "bin_end": 127.63811999999999,
            "count": 1
           },
           {
            "bin_start": 127.63811999999999,
            "bin_end": 177.70958,
            "count": 0
           },
           {
            "bin_start": 177.70958,
            "bin_end": 227.78104,
            "count": 0
           },
           {
            "bin_start": 227.78104,
            "bin_end": 277.85249999999996,
            "count": 1
           },
           {
            "bin_start": 277.85249999999996,
            "bin_end": 327.92395999999997,
            "count": 0
           },
           {
            "bin_start": 327.92395999999997,
            "bin_end": 377.99541999999997,
            "count": 0
           },
           {
            "bin_start": 377.99541999999997,
            "bin_end": 428.06687999999997,
            "count": 0
           },
           {
            "bin_start": 428.06687999999997,
            "bin_end": 478.13833999999997,
            "count": 0
           },
           {
            "bin_start": 478.13833999999997,
            "bin_end": 528.2098,
            "count": 1
           }
          ]
         }
        },
        {
         "name": "Net Income per Share",
         "dtype": "float64",
         "stats": {
          "unique_count": 5,
          "nan_count": 0,
          "min": "1.4776",
          "max": "9.198",
          "histogram": [
           {
            "bin_start": 1.4776,
            "bin_end": 2.2496400000000003,
            "count": 1
           },
           {
            "bin_start": 2.2496400000000003,
            "bin_end": 3.02168,
            "count": 1
           },
           {
            "bin_start": 3.02168,
            "bin_end": 3.7937200000000004,
            "count": 0
           },
           {
            "bin_start": 3.7937200000000004,
            "bin_end": 4.56576,
            "count": 1
           },
           {
            "bin_start": 4.56576,
            "bin_end": 5.3378000000000005,
            "count": 1
           },
           {
            "bin_start": 5.3378000000000005,
            "bin_end": 6.10984,
            "count": 0
           },
           {
            "bin_start": 6.10984,
            "bin_end": 6.88188,
            "count": 0
           },
           {
            "bin_start": 6.88188,
            "bin_end": 7.65392,
            "count": 0
           },
           {
            "bin_start": 7.65392,
            "bin_end": 8.425960000000002,
            "count": 0
           },
           {
            "bin_start": 8.425960000000002,
            "bin_end": 9.198,
            "count": 1
           }
          ]
         }
        },
        {
         "name": "Operating Cash Flow per Share",
         "dtype": "float64",
         "stats": {
          "unique_count": 5,
          "nan_count": 0,
          "min": "3.4757",
          "max": "35.6714",
          "histogram": [
           {
            "bin_start": 3.4757,
            "bin_end": 6.69527,
            "count": 3
           },
           {
            "bin_start": 6.69527,
            "bin_end": 9.91484,
            "count": 0
           },
           {
            "bin_start": 9.91484,
            "bin_end": 13.134409999999999,
            "count": 0
           },
           {
            "bin_start": 13.134409999999999,
            "bin_end": 16.35398,
            "count": 1
           },
           {
            "bin_start": 16.35398,
            "bin_end": 19.57355,
            "count": 0
           },
           {
            "bin_start": 19.57355,
            "bin_end": 22.79312,
            "count": 0
           },
           {
            "bin_start": 22.79312,
            "bin_end": 26.01269,
            "count": 0
           },
           {
            "bin_start": 26.01269,
            "bin_end": 29.23226,
            "count": 0
           },
           {
            "bin_start": 29.23226,
            "bin_end": 32.45183,
            "count": 0
           },
           {
            "bin_start": 32.45183,
            "bin_end": 35.6714,
            "count": 1
           }
          ]
         }
        },
        {
         "name": "Free Cash Flow per Share",
         "dtype": "float64",
         "stats": {
          "unique_count": 5,
          "nan_count": 0,
          "min": "0.557",
          "max": "22.976",
          "histogram": [
           {
            "bin_start": 0.557,
            "bin_end": 2.7989,
            "count": 2
           },
           {
            "bin_start": 2.7989,
            "bin_end": 5.040800000000001,
            "count": 2
           },
           {
            "bin_start": 5.040800000000001,
            "bin_end": 7.282700000000001,
            "count": 0
           },
           {
            "bin_start": 7.282700000000001,
            "bin_end": 9.524600000000001,
            "count": 0
           },
           {
            "bin_start": 9.524600000000001,
            "bin_end": 11.766500000000002,
            "count": 0
           },
           {
            "bin_start": 11.766500000000002,
            "bin_end": 14.008400000000002,
            "count": 0
           },
           {
            "bin_start": 14.008400000000002,
            "bin_end": 16.2503,
            "count": 0
           },
           {
            "bin_start": 16.2503,
            "bin_end": 18.4922,
            "count": 0
           },
           {
            "bin_start": 18.4922,
            "bin_end": 20.7341,
            "count": 0
           },
           {
            "bin_start": 20.7341,
            "bin_end": 22.976,
            "count": 1
           }
          ]
         }
        },
        {
         "name": "Cash per Share",
         "dtype": "float64",
         "stats": {
          "unique_count": 5,
          "nan_count": 0,
          "min": "0.3901",
          "max": "52.3827",
          "histogram": [
           {
            "bin_start": 0.3901,
            "bin_end": 5.589360000000001,
            "count": 4
           },
           {
            "bin_start": 5.589360000000001,
            "bin_end": 10.788620000000002,
            "count": 0
           },
           {
            "bin_start": 10.788620000000002,
            "bin_end": 15.987880000000002,
            "count": 0
           },
           {
            "bin_start": 15.987880000000002,
            "bin_end": 21.187140000000003,
            "count": 0
           },
           {
            "bin_start": 21.187140000000003,
            "bin_end": 26.386400000000005,
            "count": 0
           },
           {
            "bin_start": 26.386400000000005,
            "bin_end": 31.585660000000004,
            "count": 0
           },
           {
            "bin_start": 31.585660000000004,
            "bin_end": 36.78492,
            "count": 0
           },
           {
            "bin_start": 36.78492,
            "bin_end": 41.98418,
            "count": 0
           },
           {
            "bin_start": 41.98418,
            "bin_end": 47.183440000000004,
            "count": 0
           },
           {
            "bin_start": 47.183440000000004,
            "bin_end": 52.3827,
            "count": 1
           }
          ]
         }
        },
        {
         "name": "Book Value per Share",
         "dtype": "float64",
         "stats": {
          "unique_count": 5,
          "nan_count": 0,
          "min": "-43.738",
          "max": "25.86",
          "histogram": [
           {
            "bin_start": -43.738,
            "bin_end": -36.7782,
            "count": 1
           },
           {
            "bin_start": -36.7782,
            "bin_end": -29.8184,
            "count": 0
           },
           {
            "bin_start": -29.8184,
            "bin_end": -22.858600000000003,
            "count": 0
           },
           {
            "bin_start": -22.858600000000003,
            "bin_end": -15.898800000000001,
            "count": 0
           },
           {
            "bin_start": -15.898800000000001,
            "bin_end": -8.939,
            "count": 0
           },
           {
            "bin_start": -8.939,
            "bin_end": -1.9792000000000058,
            "count": 0
           },
           {
            "bin_start": -1.9792000000000058,
            "bin_end": 4.9805999999999955,
            "count": 1
           },
           {
            "bin_start": 4.9805999999999955,
            "bin_end": 11.940399999999997,
            "count": 2
           },
           {
            "bin_start": 11.940399999999997,
            "bin_end": 18.900199999999998,
            "count": 0
           },
           {
            "bin_start": 18.900199999999998,
            "bin_end": 25.86,
            "count": 1
           }
          ]
         }
        },
        {
         "name": "Tangible Book Value per Share",
         "dtype": "float64",
         "stats": {
          "unique_count": 5,
          "nan_count": 0,
          "min": "4.4939",
          "max": "134.785",
          "histogram": [
           {
            "bin_start": 4.4939,
            "bin_end": 17.52301,
            "count": 2
           },
           {
            "bin_start": 17.52301,
            "bin_end": 30.55212,
            "count": 2
           },
           {
            "bin_start": 30.55212,
            "bin_end": 43.58122999999999,
            "count": 0
           },
           {
            "bin_start": 43.58122999999999,
            "bin_end": 56.610339999999994,
            "count": 0
           },
           {
            "bin_start": 56.610339999999994,
            "bin_end": 69.63945,
            "count": 0
           },
           {
            "bin_start": 69.63945,
            "bin_end": 82.66855999999999,
            "count": 0
           },
           {
            "bin_start": 82.66855999999999,
            "bin_end": 95.69766999999999,
            "count": 0
           },
           {
            "bin_start": 95.69766999999999,
            "bin_end": 108.72677999999999,
            "count": 0
           },
           {
            "bin_start": 108.72677999999999,
            "bin_end": 121.75589,
            "count": 0
           },
           {
            "bin_start": 121.75589,
            "bin_end": 134.785,
            "count": 1
           }
          ]
         }
        },
        {
         "name": "Shareholders Equity per Share",
         "dtype": "float64",
         "stats": {
          "unique_count": 5,
          "nan_count": 0,
          "min": "-43.7381",
          "max": "27.9248",
          "histogram": [
           {
            "bin_start": -43.7381,
            "bin_end": -36.57181,
            "count": 1
           },
           {
            "bin_start": -36.57181,
            "bin_end": -29.405520000000003,
            "count": 0
           },
           {
            "bin_start": -29.405520000000003,
            "bin_end": -22.23923,
            "count": 0
           },
           {
            "bin_start": -22.23923,
            "bin_end": -15.07294,
            "count": 0
           },
           {
            "bin_start": -15.07294,
            "bin_end": -7.906649999999999,
            "count": 0
           },
           {
            "bin_start": -7.906649999999999,
            "bin_end": -0.7403599999999955,
            "count": 0
           },
           {
            "bin_start": -0.7403599999999955,
            "bin_end": 6.425930000000001,
            "count": 1
           },
           {
            "bin_start": 6.425930000000001,
            "bin_end": 13.592220000000005,
            "count": 1
           },
           {
            "bin_start": 13.592220000000005,
            "bin_end": 20.75851,
            "count": 0
           },
           {
            "bin_start": 20.75851,
            "bin_end": 27.9248,
            "count": 2
           }
          ]
         }
        },
        {
         "name": "Interest Debt per Share",
         "dtype": "float64",
         "stats": {
          "unique_count": 5,
          "nan_count": 0,
          "min": "11.0019",
          "max": "119.1307",
          "histogram": [
           {
            "bin_start": 11.0019,
            "bin_end": 21.81478,
            "count": 3
           },
           {
            "bin_start": 21.81478,
            "bin_end": 32.627660000000006,
            "count": 0
           },
           {
            "bin_start": 32.627660000000006,
            "bin_end": 43.440540000000006,
            "count": 1
           },
           {
            "bin_start": 43.440540000000006,
            "bin_end": 54.253420000000006,
            "count": 0
           },
           {
            "bin_start": 54.253420000000006,
            "bin_end": 65.06630000000001,
            "count": 0
           },
           {
            "bin_start": 65.06630000000001,
            "bin_end": 75.87918000000002,
            "count": 0
           },
           {
            "bin_start": 75.87918000000002,
            "bin_end": 86.69206,
            "count": 0
           },
           {
            "bin_start": 86.69206,
            "bin_end": 97.50494,
            "count": 0
           },
           {
            "bin_start": 97.50494,
            "bin_end": 108.31782000000001,
            "count": 0
           },
           {
            "bin_start": 108.31782000000001,
            "bin_end": 119.1307,
            "count": 1
           }
          ]
         }
        },
        {
         "name": "Market Cap",
         "dtype": "float64",
         "stats": {
          "unique_count": 5,
          "nan_count": 0,
          "min": "6253200000.0",
          "max": "212661418090.84",
          "histogram": [
           {
            "bin_start": 6253200000,
            "bin_end": 26894021809.084,
            "count": 3
           },
           {
            "bin_start": 26894021809.084,
            "bin_end": 47534843618.168,
            "count": 1
           },
           {
            "bin_start": 47534843618.168,
            "bin_end": 68175665427.252,
            "count": 0
           },
           {
            "bin_start": 68175665427.252,
            "bin_end": 88816487236.336,
            "count": 0
           },
           {
            "bin_start": 88816487236.336,
            "bin_end": 109457309045.42,
            "count": 0
           },
           {
            "bin_start": 109457309045.42,
            "bin_end": 130098130854.504,
            "count": 0
           },
           {
            "bin_start": 130098130854.504,
            "bin_end": 150738952663.588,
            "count": 0
           },
           {
            "bin_start": 150738952663.588,
            "bin_end": 171379774472.672,
            "count": 0
           },
           {
            "bin_start": 171379774472.672,
            "bin_end": 192020596281.75598,
            "count": 0
           },
           {
            "bin_start": 192020596281.75598,
            "bin_end": 212661418090.84,
            "count": 1
           }
          ]
         }
        },
        {
         "name": "Enterprise Value",
         "dtype": "float64",
         "stats": {
          "unique_count": 4,
          "nan_count": 1,
          "min": "11970475316.4",
          "max": "237392418090.84",
          "histogram": [
           {
            "bin_start": 11970475316.4,
            "bin_end": 34512669593.844,
            "count": 2
           },
           {
            "bin_start": 34512669593.844,
            "bin_end": 57054863871.288,
            "count": 1
           },
           {
            "bin_start": 57054863871.288,
            "bin_end": 79597058148.732,
            "count": 0
           },
           {
            "bin_start": 79597058148.732,
            "bin_end": 102139252426.176,
            "count": 0
           },
           {
            "bin_start": 102139252426.176,
            "bin_end": 124681446703.62,
            "count": 0
           },
           {
            "bin_start": 124681446703.62,
            "bin_end": 147223640981.064,
            "count": 0
           },
           {
            "bin_start": 147223640981.064,
            "bin_end": 169765835258.508,
            "count": 0
           },
           {
            "bin_start": 169765835258.508,
            "bin_end": 192308029535.952,
            "count": 0
           },
           {
            "bin_start": 192308029535.952,
            "bin_end": 214850223813.396,
            "count": 0
           },
           {
            "bin_start": 214850223813.396,
            "bin_end": 237392418090.84,
            "count": 1
           }
          ]
         }
        },
        {
         "name": "PE ratio",
         "dtype": "float64",
         "stats": {
          "unique_count": 5,
          "nan_count": 0,
          "min": "12.034",
          "max": "81.5526",
          "histogram": [
           {
            "bin_start": 12.034,
            "bin_end": 18.98586,
            "count": 3
           },
           {
            "bin_start": 18.98586,
            "bin_end": 25.93772,
            "count": 0
           },
           {
            "bin_start": 25.93772,
            "bin_end": 32.889579999999995,
            "count": 1
           },
           {
            "bin_start": 32.889579999999995,
            "bin_end": 39.84144,
            "count": 0
           },
           {
            "bin_start": 39.84144,
            "bin_end": 46.793299999999995,
            "count": 0
           },
           {
            "bin_start": 46.793299999999995,
            "bin_end": 53.74515999999999,
            "count": 0
           },
           {
            "bin_start": 53.74515999999999,
            "bin_end": 60.697019999999995,
            "count": 0
           },
           {
            "bin_start": 60.697019999999995,
            "bin_end": 67.64887999999999,
            "count": 0
           },
           {
            "bin_start": 67.64887999999999,
            "bin_end": 74.60073999999999,
            "count": 0
           },
           {
            "bin_start": 74.60073999999999,
            "bin_end": 81.5526,
            "count": 1
           }
          ]
         }
        },
        {
         "name": "Price to Sales Ratio",
         "dtype": "float64",
         "stats": {
          "unique_count": 5,
          "nan_count": 0,
          "min": "0.0443",
          "max": "2.8583",
          "histogram": [
           {
            "bin_start": 0.0443,
            "bin_end": 0.3257,
            "count": 3
           },
           {
            "bin_start": 0.3257,
            "bin_end": 0.6071,
            "count": 0
           },
           {
            "bin_start": 0.6071,
            "bin_end": 0.8885,
            "count": 0
           },
           {
            "bin_start": 0.8885,
            "bin_end": 1.1699,
            "count": 0
           },
           {
            "bin_start": 1.1699,
            "bin_end": 1.4513,
            "count": 0
           },
           {
            "bin_start": 1.4513,
            "bin_end": 1.7327,
            "count": 0
           },
           {
            "bin_start": 1.7327,
            "bin_end": 2.0140999999999996,
            "count": 1
           },
           {
            "bin_start": 2.0140999999999996,
            "bin_end": 2.2954999999999997,
            "count": 0
           },
           {
            "bin_start": 2.2954999999999997,
            "bin_end": 2.5768999999999997,
            "count": 0
           },
           {
            "bin_start": 2.5768999999999997,
            "bin_end": 2.8583,
            "count": 1
           }
          ]
         }
        },
        {
         "name": "POCF ratio",
         "dtype": "float64",
         "stats": {
          "unique_count": 4,
          "nan_count": 1,
          "min": "5.1147",
          "max": "15.2358",
          "histogram": [
           {
            "bin_start": 5.1147,
            "bin_end": 6.12681,
            "count": 1
           },
           {
            "bin_start": 6.12681,
            "bin_end": 7.13892,
            "count": 0
           },
           {
            "bin_start": 7.13892,
            "bin_end": 8.151029999999999,
            "count": 0
           },
           {
            "bin_start": 8.151029999999999,
            "bin_end": 9.163139999999999,
            "count": 1
           },
           {
            "bin_start": 9.163139999999999,
            "bin_end": 10.175249999999998,
            "count": 0
           },
           {
            "bin_start": 10.175249999999998,
            "bin_end": 11.187359999999998,
            "count": 0
           },
           {
            "bin_start": 11.187359999999998,
            "bin_end": 12.199469999999998,
            "count": 0
           },
           {
            "bin_start": 12.199469999999998,
            "bin_end": 13.211579999999998,
            "count": 1
           },
           {
            "bin_start": 13.211579999999998,
            "bin_end": 14.223689999999998,
            "count": 0
           },
           {
            "bin_start": 14.223689999999998,
            "bin_end": 15.2358,
            "count": 1
           }
          ]
         }
        },
        {
         "name": "PFCF ratio",
         "dtype": "float64",
         "stats": {
          "unique_count": 5,
          "nan_count": 0,
          "min": "1.3589",
          "max": "21.0348",
          "histogram": [
           {
            "bin_start": 1.3589,
            "bin_end": 3.32649,
            "count": 1
           },
           {
            "bin_start": 3.32649,
            "bin_end": 5.29408,
            "count": 0
           },
           {
            "bin_start": 5.29408,
            "bin_end": 7.2616700000000005,
            "count": 0
           },
           {
            "bin_start": 7.2616700000000005,
            "bin_end": 9.22926,
            "count": 0
           },
           {
            "bin_start": 9.22926,
            "bin_end": 11.196850000000001,
            "count": 0
           },
           {
            "bin_start": 11.196850000000001,
            "bin_end": 13.16444,
            "count": 0
           },
           {
            "bin_start": 13.16444,
            "bin_end": 15.132030000000002,
            "count": 1
           },
           {
            "bin_start": 15.132030000000002,
            "bin_end": 17.09962,
            "count": 0
           },
           {
            "bin_start": 17.09962,
            "bin_end": 19.06721,
            "count": 2
           },
           {
            "bin_start": 19.06721,
            "bin_end": 21.0348,
            "count": 1
           }
          ]
         }
        },
        {
         "name": "PB ratio",
         "dtype": "float64",
         "stats": {
          "unique_count": 4,
          "nan_count": 1,
          "min": "0.0",
          "max": "5.1004",
          "histogram": [
           {
            "bin_start": 0,
            "bin_end": 0.5100399999999999,
            "count": 1
           },
           {
            "bin_start": 0.5100399999999999,
            "bin_end": 1.0200799999999999,
            "count": 0
           },
           {
            "bin_start": 1.0200799999999999,
            "bin_end": 1.5301199999999997,
            "count": 0
           },
           {
            "bin_start": 1.5301199999999997,
            "bin_end": 2.0401599999999998,
            "count": 0
           },
           {
            "bin_start": 2.0401599999999998,
            "bin_end": 2.5502,
            "count": 0
           },
           {
            "bin_start": 2.5502,
            "bin_end": 3.0602399999999994,
            "count": 1
           },
           {
            "bin_start": 3.0602399999999994,
            "bin_end": 3.5702799999999995,
            "count": 1
           },
           {
            "bin_start": 3.5702799999999995,
            "bin_end": 4.0803199999999995,
            "count": 0
           },
           {
            "bin_start": 4.0803199999999995,
            "bin_end": 4.5903599999999996,
            "count": 0
           },
           {
            "bin_start": 4.5903599999999996,
            "bin_end": 5.1004,
            "count": 1
           }
          ]
         }
        },
        {
         "name": "PTB ratio",
         "dtype": "float64",
         "stats": {
          "unique_count": 2,
          "nan_count": 1,
          "min": "0.0",
          "max": "7.0982",
          "histogram": [
           {
            "bin_start": 0,
            "bin_end": 0.70982,
            "count": 3
           },
           {
            "bin_start": 0.70982,
            "bin_end": 1.41964,
            "count": 0
           },
           {
            "bin_start": 1.41964,
            "bin_end": 2.12946,
            "count": 0
           },
           {
            "bin_start": 2.12946,
            "bin_end": 2.83928,
            "count": 0
           },
           {
            "bin_start": 2.83928,
            "bin_end": 3.5491,
            "count": 0
           },
           {
            "bin_start": 3.5491,
            "bin_end": 4.25892,
            "count": 0
           },
           {
            "bin_start": 4.25892,
            "bin_end": 4.96874,
            "count": 0
           },
           {
            "bin_start": 4.96874,
            "bin_end": 5.67856,
            "count": 0
           },
           {
            "bin_start": 5.67856,
            "bin_end": 6.38838,
            "count": 0
           },
           {
            "bin_start": 6.38838,
            "bin_end": 7.0982,
            "count": 1
           }
          ]
         }
        },
        {
         "name": "EV to Sales",
         "dtype": "float64",
         "stats": {
          "unique_count": 4,
          "nan_count": 1,
          "min": "0.2967",
          "max": "3.1907",
          "histogram": [
           {
            "bin_start": 0.2967,
            "bin_end": 0.5861000000000001,
            "count": 2
           },
           {
            "bin_start": 0.5861000000000001,
            "bin_end": 0.8755,
            "count": 0
           },
           {
            "bin_start": 0.8755,
            "bin_end": 1.1649,
            "count": 0
           },
           {
            "bin_start": 1.1649,
            "bin_end": 1.4543,
            "count": 0
           },
           {
            "bin_start": 1.4543,
            "bin_end": 1.7437,
            "count": 0
           },
           {
            "bin_start": 1.7437,
            "bin_end": 2.0331,
            "count": 0
           },
           {
            "bin_start": 2.0331,
            "bin_end": 2.3225,
            "count": 1
           },
           {
            "bin_start": 2.3225,
            "bin_end": 2.6119,
            "count": 0
           },
           {
            "bin_start": 2.6119,
            "bin_end": 2.9013,
            "count": 0
           },
           {
            "bin_start": 2.9013,
            "bin_end": 3.1907,
            "count": 1
           }
          ]
         }
        },
        {
         "name": "Enterprise Value over EBITDA",
         "dtype": "float64",
         "stats": {
          "unique_count": 4,
          "nan_count": 1,
          "min": "6.6086",
          "max": "12.9411",
          "histogram": [
           {
            "bin_start": 6.6086,
            "bin_end": 7.24185,
            "count": 1
           },
           {
            "bin_start": 7.24185,
            "bin_end": 7.8751,
            "count": 0
           },
           {
            "bin_start": 7.8751,
            "bin_end": 8.50835,
            "count": 0
           },
           {
            "bin_start": 8.50835,
            "bin_end": 9.1416,
            "count": 0
           },
           {
            "bin_start": 9.1416,
            "bin_end": 9.77485,
            "count": 0
           },
           {
            "bin_start": 9.77485,
            "bin_end": 10.408100000000001,
            "count": 0
           },
           {
            "bin_start": 10.408100000000001,
            "bin_end": 11.041350000000001,
            "count": 0
           },
           {
            "bin_start": 11.041350000000001,
            "bin_end": 11.674600000000002,
            "count": 2
           },
           {
            "bin_start": 11.674600000000002,
            "bin_end": 12.307850000000002,
            "count": 0
           },
           {
            "bin_start": 12.307850000000002,
            "bin_end": 12.9411,
            "count": 1
           }
          ]
         }
        },
        {
         "name": "EV to Operating cash flow",
         "dtype": "float64",
         "stats": {
          "unique_count": 4,
          "nan_count": 1,
          "min": "8.1678",
          "max": "17.0508",
          "histogram": [
           {
            "bin_start": 8.1678,
            "bin_end": 9.056099999999999,
            "count": 1
           },
           {
            "bin_start": 9.056099999999999,
            "bin_end": 9.9444,
            "count": 0
           },
           {
            "bin_start": 9.9444,
            "bin_end": 10.832699999999999,
            "count": 0
           },
           {
            "bin_start": 10.832699999999999,
            "bin_end": 11.721,
            "count": 0
           },
           {
            "bin_start": 11.721,
            "bin_end": 12.6093,
            "count": 0
           },
           {
            "bin_start": 12.6093,
            "bin_end": 13.497599999999998,
            "count": 0
           },
           {
            "bin_start": 13.497599999999998,
            "bin_end": 14.3859,
            "count": 0
           },
           {
            "bin_start": 14.3859,
            "bin_end": 15.274199999999999,
            "count": 0
           },
           {
            "bin_start": 15.274199999999999,
            "bin_end": 16.162499999999998,
            "count": 0
           },
           {
            "bin_start": 16.162499999999998,
            "bin_end": 17.0508,
            "count": 3
           }
          ]
         }
        },
        {
         "name": "EV to Free cash flow",
         "dtype": "float64",
         "stats": {
          "unique_count": 4,
          "nan_count": 1,
          "min": "21.893",
          "max": "32.5129",
          "histogram": [
           {
            "bin_start": 21.893,
            "bin_end": 22.954990000000002,
            "count": 1
           },
           {
            "bin_start": 22.954990000000002,
            "bin_end": 24.01698,
            "count": 2
           },
           {
            "bin_start": 24.01698,
            "bin_end": 25.07897,
            "count": 0
           },
           {
            "bin_start": 25.07897,
            "bin_end": 26.14096,
            "count": 0
           },
           {
            "bin_start": 26.14096,
            "bin_end": 27.20295,
            "count": 0
           },
           {
            "bin_start": 27.20295,
            "bin_end": 28.264940000000003,
            "count": 0
           },
           {
            "bin_start": 28.264940000000003,
            "bin_end": 29.326930000000004,
            "count": 0
           },
           {
            "bin_start": 29.326930000000004,
            "bin_end": 30.388920000000002,
            "count": 0
           },
           {
            "bin_start": 30.388920000000002,
            "bin_end": 31.45091,
            "count": 0
           },
           {
            "bin_start": 31.45091,
            "bin_end": 32.5129,
            "count": 1
           }
          ]
         }
        },
        {
         "name": "Earnings Yield",
         "dtype": "float64",
         "stats": {
          "unique_count": 5,
          "nan_count": 0,
          "min": "0.0123",
          "max": "0.0831",
          "histogram": [
           {
            "bin_start": 0.0123,
            "bin_end": 0.019379999999999998,
            "count": 1
           },
           {
            "bin_start": 0.019379999999999998,
            "bin_end": 0.026459999999999997,
            "count": 0
           },
           {
            "bin_start": 0.026459999999999997,
            "bin_end": 0.03353999999999999,
            "count": 0
           },
           {
            "bin_start": 0.03353999999999999,
            "bin_end": 0.040619999999999996,
            "count": 1
           },
           {
            "bin_start": 0.040619999999999996,
            "bin_end": 0.04769999999999999,
            "count": 0
           },
           {
            "bin_start": 0.04769999999999999,
            "bin_end": 0.05477999999999999,
            "count": 2
           },
           {
            "bin_start": 0.05477999999999999,
            "bin_end": 0.06185999999999999,
            "count": 0
           },
           {
            "bin_start": 0.06185999999999999,
            "bin_end": 0.06893999999999999,
            "count": 0
           },
           {
            "bin_start": 0.06893999999999999,
            "bin_end": 0.07601999999999999,
            "count": 0
           },
           {
            "bin_start": 0.07601999999999999,
            "bin_end": 0.0831,
            "count": 1
           }
          ]
         }
        },
        {
         "name": "Free Cash Flow Yield",
         "dtype": "float64",
         "stats": {
          "unique_count": 4,
          "nan_count": 1,
          "min": "0.0475",
          "max": "0.068",
          "histogram": [
           {
            "bin_start": 0.0475,
            "bin_end": 0.049550000000000004,
            "count": 1
           },
           {
            "bin_start": 0.049550000000000004,
            "bin_end": 0.0516,
            "count": 0
           },
           {
            "bin_start": 0.0516,
            "bin_end": 0.05365,
            "count": 0
           },
           {
            "bin_start": 0.05365,
            "bin_end": 0.0557,
            "count": 0
           },
           {
            "bin_start": 0.0557,
            "bin_end": 0.05775,
            "count": 1
           },
           {
            "bin_start": 0.05775,
            "bin_end": 0.059800000000000006,
            "count": 1
           },
           {
            "bin_start": 0.059800000000000006,
            "bin_end": 0.06185,
            "count": 0
           },
           {
            "bin_start": 0.06185,
            "bin_end": 0.06390000000000001,
            "count": 0
           },
           {
            "bin_start": 0.06390000000000001,
            "bin_end": 0.06595000000000001,
            "count": 0
           },
           {
            "bin_start": 0.06595000000000001,
            "bin_end": 0.068,
            "count": 1
           }
          ]
         }
        },
        {
         "name": "Debt to Equity",
         "dtype": "float64",
         "stats": {
          "unique_count": 5,
          "nan_count": 0,
          "min": "-2.7237",
          "max": "2.1007",
          "histogram": [
           {
            "bin_start": -2.7237,
            "bin_end": -2.24126,
            "count": 1
           },
           {
            "bin_start": -2.24126,
            "bin_end": -1.75882,
            "count": 0
           },
           {
            "bin_start": -1.75882,
            "bin_end": -1.27638,
            "count": 0
           },
           {
            "bin_start": -1.27638,
            "bin_end": -0.7939400000000001,
            "count": 0
           },
           {
            "bin_start": -0.7939400000000001,
            "bin_end": -0.3115000000000001,
            "count": 0
           },
           {
            "bin_start": -0.3115000000000001,
            "bin_end": 0.17093999999999987,
            "count": 0
           },
           {
            "bin_start": 0.17093999999999987,
            "bin_end": 0.6533799999999998,
            "count": 1
           },
           {
            "bin_start": 0.6533799999999998,
            "bin_end": 1.1358199999999998,
            "count": 0
           },
           {
            "bin_start": 1.1358199999999998,
            "bin_end": 1.6182600000000003,
            "count": 2
           },
           {
            "bin_start": 1.6182600000000003,
            "bin_end": 2.1007,
            "count": 1
           }
          ]
         }
        },
        {
         "name": "Debt to Assets",
         "dtype": "float64",
         "stats": {
          "unique_count": 5,
          "nan_count": 0,
          "min": "0.2274",
          "max": "0.8290000000000001",
          "histogram": [
           {
            "bin_start": 0.2274,
            "bin_end": 0.28756,
            "count": 2
           },
           {
            "bin_start": 0.28756,
            "bin_end": 0.34772000000000003,
            "count": 0
           },
           {
            "bin_start": 0.34772000000000003,
            "bin_end": 0.40788,
            "count": 2
           },
           {
            "bin_start": 0.40788,
            "bin_end": 0.46804,
            "count": 0
           },
           {
            "bin_start": 0.46804,
            "bin_end": 0.5282,
            "count": 0
           },
           {
            "bin_start": 0.5282,
            "bin_end": 0.58836,
            "count": 0
           },
           {
            "bin_start": 0.58836,
            "bin_end": 0.6485200000000001,
            "count": 0
           },
           {
            "bin_start": 0.6485200000000001,
            "bin_end": 0.7086800000000001,
            "count": 0
           },
           {
            "bin_start": 0.7086800000000001,
            "bin_end": 0.7688400000000002,
            "count": 0
           },
           {
            "bin_start": 0.7688400000000002,
            "bin_end": 0.8290000000000001,
            "count": 1
           }
          ]
         }
        },
        {
         "name": "Net Debt to EBITDA",
         "dtype": "float64",
         "stats": {
          "unique_count": 4,
          "nan_count": 1,
          "min": "1.3482",
          "max": "5.2021",
          "histogram": [
           {
            "bin_start": 1.3482,
            "bin_end": 1.73359,
            "count": 1
           },
           {
            "bin_start": 1.73359,
            "bin_end": 2.11898,
            "count": 0
           },
           {
            "bin_start": 2.11898,
            "bin_end": 2.5043699999999998,
            "count": 2
           },
           {
            "bin_start": 2.5043699999999998,
            "bin_end": 2.88976,
            "count": 0
           },
           {
            "bin_start": 2.88976,
            "bin_end": 3.27515,
            "count": 0
           },
           {
            "bin_start": 3.27515,
            "bin_end": 3.66054,
            "count": 0
           },
           {
            "bin_start": 3.66054,
            "bin_end": 4.045929999999999,
            "count": 0
           },
           {
            "bin_start": 4.045929999999999,
            "bin_end": 4.4313199999999995,
            "count": 0
           },
           {
            "bin_start": 4.4313199999999995,
            "bin_end": 4.81671,
            "count": 0
           },
           {
            "bin_start": 4.81671,
            "bin_end": 5.2021,
            "count": 1
           }
          ]
         }
        },
        {
         "name": "Current ratio",
         "dtype": "float64",
         "stats": {
          "unique_count": 5,
          "nan_count": 0,
          "min": "0.2102",
          "max": "1.709",
          "histogram": [
           {
            "bin_start": 0.2102,
            "bin_end": 0.36008,
            "count": 1
           },
           {
            "bin_start": 0.36008,
            "bin_end": 0.50996,
            "count": 0
           },
           {
            "bin_start": 0.50996,
            "bin_end": 0.65984,
            "count": 0
           },
           {
            "bin_start": 0.65984,
            "bin_end": 0.80972,
            "count": 0
           },
           {
            "bin_start": 0.80972,
            "bin_end": 0.9596,
            "count": 3
           },
           {
            "bin_start": 0.9596,
            "bin_end": 1.10948,
            "count": 0
           },
           {
            "bin_start": 1.10948,
            "bin_end": 1.25936,
            "count": 0
           },
           {
            "bin_start": 1.25936,
            "bin_end": 1.40924,
            "count": 0
           },
           {
            "bin_start": 1.40924,
            "bin_end": 1.55912,
            "count": 0
           },
           {
            "bin_start": 1.55912,
            "bin_end": 1.709,
            "count": 1
           }
          ]
         }
        },
        {
         "name": "Interest Coverage",
         "dtype": "float64",
         "stats": {
          "unique_count": 5,
          "nan_count": 0,
          "min": "1.5893",
          "max": "21.4429",
          "histogram": [
           {
            "bin_start": 1.5893,
            "bin_end": 3.5746599999999997,
            "count": 1
           },
           {
            "bin_start": 3.5746599999999997,
            "bin_end": 5.56002,
            "count": 0
           },
           {
            "bin_start": 5.56002,
            "bin_end": 7.54538,
            "count": 1
           },
           {
            "bin_start": 7.54538,
            "bin_end": 9.53074,
            "count": 0
           },
           {
            "bin_start": 9.53074,
            "bin_end": 11.5161,
            "count": 1
           },
           {
            "bin_start": 11.5161,
            "bin_end": 13.50146,
            "count": 0
           },
           {
            "bin_start": 13.50146,
            "bin_end": 15.48682,
            "count": 1
           },
           {
            "bin_start": 15.48682,
            "bin_end": 17.47218,
            "count": 0
           },
           {
            "bin_start": 17.47218,
            "bin_end": 19.45754,
            "count": 0
           },
           {
            "bin_start": 19.45754,
            "bin_end": 21.4429,
            "count": 1
           }
          ]
         }
        },
        {
         "name": "Income Quality",
         "dtype": "float64",
         "stats": {
          "unique_count": 5,
          "nan_count": 0,
          "min": "1.1988",
          "max": "3.8782",
          "histogram": [
           {
            "bin_start": 1.1988,
            "bin_end": 1.4667400000000002,
            "count": 2
           },
           {
            "bin_start": 1.4667400000000002,
            "bin_end": 1.73468,
            "count": 0
           },
           {
            "bin_start": 1.73468,
            "bin_end": 2.0026200000000003,
            "count": 0
           },
           {
            "bin_start": 2.0026200000000003,
            "bin_end": 2.27056,
            "count": 0
           },
           {
            "bin_start": 2.27056,
            "bin_end": 2.5385,
            "count": 1
           },
           {
            "bin_start": 2.5385,
            "bin_end": 2.8064400000000003,
            "count": 0
           },
           {
            "bin_start": 2.8064400000000003,
            "bin_end": 3.07438,
            "count": 0
           },
           {
            "bin_start": 3.07438,
            "bin_end": 3.34232,
            "count": 1
           },
           {
            "bin_start": 3.34232,
            "bin_end": 3.6102600000000002,
            "count": 0
           },
           {
            "bin_start": 3.6102600000000002,
            "bin_end": 3.8782,
            "count": 1
           }
          ]
         }
        },
        {
         "name": "Dividend Yield",
         "dtype": "float64",
         "stats": {
          "unique_count": 4,
          "nan_count": 0,
          "min": "0.0",
          "max": "0.0311",
          "histogram": [
           {
            "bin_start": 0,
            "bin_end": 0.00311,
            "count": 2
           },
           {
            "bin_start": 0.00311,
            "bin_end": 0.00622,
            "count": 0
           },
           {
            "bin_start": 0.00622,
            "bin_end": 0.00933,
            "count": 0
           },
           {
            "bin_start": 0.00933,
            "bin_end": 0.01244,
            "count": 0
           },
           {
            "bin_start": 0.01244,
            "bin_end": 0.01555,
            "count": 0
           },
           {
            "bin_start": 0.01555,
            "bin_end": 0.01866,
            "count": 1
           },
           {
            "bin_start": 0.01866,
            "bin_end": 0.021769999999999998,
            "count": 0
           },
           {
            "bin_start": 0.021769999999999998,
            "bin_end": 0.02488,
            "count": 0
           },
           {
            "bin_start": 0.02488,
            "bin_end": 0.02799,
            "count": 0
           },
           {
            "bin_start": 0.02799,
            "bin_end": 0.0311,
            "count": 2
           }
          ]
         }
        },
        {
         "name": "Payout Ratio",
         "dtype": "float64",
         "stats": {
          "unique_count": 4,
          "nan_count": 0,
          "min": "0.0",
          "max": "0.584",
          "histogram": [
           {
            "bin_start": 0,
            "bin_end": 0.058399999999999994,
            "count": 2
           },
           {
            "bin_start": 0.058399999999999994,
            "bin_end": 0.11679999999999999,
            "count": 0
           },
           {
            "bin_start": 0.11679999999999999,
            "bin_end": 0.17519999999999997,
            "count": 0
           },
           {
            "bin_start": 0.17519999999999997,
            "bin_end": 0.23359999999999997,
            "count": 1
           },
           {
            "bin_start": 0.23359999999999997,
            "bin_end": 0.292,
            "count": 0
           },
           {
            "bin_start": 0.292,
            "bin_end": 0.35039999999999993,
            "count": 0
           },
           {
            "bin_start": 0.35039999999999993,
            "bin_end": 0.40879999999999994,
            "count": 0
           },
           {
            "bin_start": 0.40879999999999994,
            "bin_end": 0.46719999999999995,
            "count": 0
           },
           {
            "bin_start": 0.46719999999999995,
            "bin_end": 0.5256,
            "count": 0
           },
           {
            "bin_start": 0.5256,
            "bin_end": 0.584,
            "count": 2
           }
          ]
         }
        },
        {
         "name": "SG&A to Revenue",
         "dtype": "float64",
         "stats": {
          "unique_count": 5,
          "nan_count": 0,
          "min": "0.0922",
          "max": "0.2885",
          "histogram": [
           {
            "bin_start": 0.0922,
            "bin_end": 0.11183,
            "count": 1
           },
           {
            "bin_start": 0.11183,
            "bin_end": 0.13146,
            "count": 0
           },
           {
            "bin_start": 0.13146,
            "bin_end": 0.15109,
            "count": 0
           },
           {
            "bin_start": 0.15109,
            "bin_end": 0.17071999999999998,
            "count": 1
           },
           {
            "bin_start": 0.17071999999999998,
            "bin_end": 0.19035,
            "count": 0
           },
           {
            "bin_start": 0.19035,
            "bin_end": 0.20998,
            "count": 1
           },
           {
            "bin_start": 0.20998,
            "bin_end": 0.22960999999999998,
            "count": 0
           },
           {
            "bin_start": 0.22960999999999998,
            "bin_end": 0.24924,
            "count": 0
           },
           {
            "bin_start": 0.24924,
            "bin_end": 0.26887,
            "count": 1
           },
           {
            "bin_start": 0.26887,
            "bin_end": 0.2885,
            "count": 1
           }
          ]
         }
        },
        {
         "name": "R&D to Revenue",
         "dtype": "float64",
         "stats": {
          "unique_count": 2,
          "nan_count": 0,
          "min": "0.0",
          "max": "0.0289999999999999",
          "histogram": [
           {
            "bin_start": 0,
            "bin_end": 0.0028999999999999903,
            "count": 4
           },
           {
            "bin_start": 0.0028999999999999903,
            "bin_end": 0.0057999999999999805,
            "count": 0
           },
           {
            "bin_start": 0.0057999999999999805,
            "bin_end": 0.008699999999999972,
            "count": 0
           },
           {
            "bin_start": 0.008699999999999972,
            "bin_end": 0.011599999999999961,
            "count": 0
           },
           {
            "bin_start": 0.011599999999999961,
            "bin_end": 0.01449999999999995,
            "count": 0
           },
           {
            "bin_start": 0.01449999999999995,
            "bin_end": 0.017399999999999943,
            "count": 0
           },
           {
            "bin_start": 0.017399999999999943,
            "bin_end": 0.020299999999999933,
            "count": 0
           },
           {
            "bin_start": 0.020299999999999933,
            "bin_end": 0.023199999999999922,
            "count": 0
           },
           {
            "bin_start": 0.023199999999999922,
            "bin_end": 0.02609999999999991,
            "count": 0
           },
           {
            "bin_start": 0.02609999999999991,
            "bin_end": 0.0289999999999999,
            "count": 1
           }
          ]
         }
        },
        {
         "name": "Intangibles to Total Assets",
         "dtype": "float64",
         "stats": {
          "unique_count": 5,
          "nan_count": 0,
          "min": "0.0621",
          "max": "0.5904",
          "histogram": [
           {
            "bin_start": 0.0621,
            "bin_end": 0.11493,
            "count": 3
           },
           {
            "bin_start": 0.11493,
            "bin_end": 0.16776000000000002,
            "count": 0
           },
           {
            "bin_start": 0.16776000000000002,
            "bin_end": 0.22059,
            "count": 0
           },
           {
            "bin_start": 0.22059,
            "bin_end": 0.27342,
            "count": 0
           },
           {
            "bin_start": 0.27342,
            "bin_end": 0.32625,
            "count": 0
           },
           {
            "bin_start": 0.32625,
            "bin_end": 0.37908000000000003,
            "count": 0
           },
           {
            "bin_start": 0.37908000000000003,
            "bin_end": 0.43191,
            "count": 0
           },
           {
            "bin_start": 0.43191,
            "bin_end": 0.48474,
            "count": 0
           },
           {
            "bin_start": 0.48474,
            "bin_end": 0.53757,
            "count": 0
           },
           {
            "bin_start": 0.53757,
            "bin_end": 0.5904,
            "count": 2
           }
          ]
         }
        },
        {
         "name": "Capex to Operating Cash Flow",
         "dtype": "float64",
         "stats": {
          "unique_count": 5,
          "nan_count": 0,
          "min": "0.2585",
          "max": "0.6521",
          "histogram": [
           {
            "bin_start": 0.2585,
            "bin_end": 0.29786,
            "count": 2
           },
           {
            "bin_start": 0.29786,
            "bin_end": 0.33722,
            "count": 0
           },
           {
            "bin_start": 0.33722,
            "bin_end": 0.37658,
            "count": 0
           },
           {
            "bin_start": 0.37658,
            "bin_end": 0.41594,
            "count": 0
           },
           {
            "bin_start": 0.41594,
            "bin_end": 0.45530000000000004,
            "count": 0
           },
           {
            "bin_start": 0.45530000000000004,
            "bin_end": 0.49466,
            "count": 1
           },
           {
            "bin_start": 0.49466,
            "bin_end": 0.5340199999999999,
            "count": 1
           },
           {
            "bin_start": 0.5340199999999999,
            "bin_end": 0.57338,
            "count": 0
           },
           {
            "bin_start": 0.57338,
            "bin_end": 0.6127400000000001,
            "count": 0
           },
           {
            "bin_start": 0.6127400000000001,
            "bin_end": 0.6521,
            "count": 1
           }
          ]
         }
        },
        {
         "name": "Capex to Revenue",
         "dtype": "float64",
         "stats": {
          "unique_count": 5,
          "nan_count": 0,
          "min": "0.0131",
          "max": "0.0706",
          "histogram": [
           {
            "bin_start": 0.0131,
            "bin_end": 0.01885,
            "count": 1
           },
           {
            "bin_start": 0.01885,
            "bin_end": 0.0246,
            "count": 1
           },
           {
            "bin_start": 0.0246,
            "bin_end": 0.030350000000000002,
            "count": 0
           },
           {
            "bin_start": 0.030350000000000002,
            "bin_end": 0.0361,
            "count": 0
           },
           {
            "bin_start": 0.0361,
            "bin_end": 0.04185,
            "count": 1
           },
           {
            "bin_start": 0.04185,
            "bin_end": 0.0476,
            "count": 0
           },
           {
            "bin_start": 0.0476,
            "bin_end": 0.05335,
            "count": 1
           },
           {
            "bin_start": 0.05335,
            "bin_end": 0.0591,
            "count": 0
           },
           {
            "bin_start": 0.0591,
            "bin_end": 0.06484999999999999,
            "count": 0
           },
           {
            "bin_start": 0.06484999999999999,
            "bin_end": 0.0706,
            "count": 1
           }
          ]
         }
        },
        {
         "name": "Capex to Depreciation",
         "dtype": "float64",
         "stats": {
          "unique_count": 5,
          "nan_count": 0,
          "min": "-4.5345",
          "max": "-0.8269",
          "histogram": [
           {
            "bin_start": -4.5345,
            "bin_end": -4.163740000000001,
            "count": 1
           },
           {
            "bin_start": -4.163740000000001,
            "bin_end": -3.7929800000000005,
            "count": 0
           },
           {
            "bin_start": -3.7929800000000005,
            "bin_end": -3.4222200000000003,
            "count": 0
           },
           {
            "bin_start": -3.4222200000000003,
            "bin_end": -3.0514600000000005,
            "count": 0
           },
           {
            "bin_start": -3.0514600000000005,
            "bin_end": -2.6807000000000003,
            "count": 0
           },
           {
            "bin_start": -2.6807000000000003,
            "bin_end": -2.30994,
            "count": 0
           },
           {
            "bin_start": -2.30994,
            "bin_end": -1.9391800000000003,
            "count": 0
           },
           {
            "bin_start": -1.9391800000000003,
            "bin_end": -1.5684200000000001,
            "count": 0
           },
           {
            "bin_start": -1.5684200000000001,
            "bin_end": -1.19766,
            "count": 2
           },
           {
            "bin_start": -1.19766,
            "bin_end": -0.8269,
            "count": 2
           }
          ]
         }
        },
        {
         "name": "Stock-based compensation to Revenue",
         "dtype": "float64",
         "stats": {
          "unique_count": 5,
          "nan_count": 0,
          "min": "-0.0004",
          "max": "0.0097",
          "histogram": [
           {
            "bin_start": -0.0004,
            "bin_end": 0.0006100000000000001,
            "count": 1
           },
           {
            "bin_start": 0.0006100000000000001,
            "bin_end": 0.0016200000000000001,
            "count": 1
           },
           {
            "bin_start": 0.0016200000000000001,
            "bin_end": 0.00263,
            "count": 1
           },
           {
            "bin_start": 0.00263,
            "bin_end": 0.00364,
            "count": 0
           },
           {
            "bin_start": 0.00364,
            "bin_end": 0.0046500000000000005,
            "count": 0
           },
           {
            "bin_start": 0.0046500000000000005,
            "bin_end": 0.00566,
            "count": 1
           },
           {
            "bin_start": 0.00566,
            "bin_end": 0.00667,
            "count": 0
           },
           {
            "bin_start": 0.00667,
            "bin_end": 0.00768,
            "count": 0
           },
           {
            "bin_start": 0.00768,
            "bin_end": 0.008690000000000002,
            "count": 0
           },
           {
            "bin_start": 0.008690000000000002,
            "bin_end": 0.0097,
            "count": 1
           }
          ]
         }
        },
        {
         "name": "Graham Number",
         "dtype": "float64",
         "stats": {
          "unique_count": 4,
          "nan_count": 1,
          "min": "0.0",
          "max": "49.3756",
          "histogram": [
           {
            "bin_start": 0,
            "bin_end": 4.9375599999999995,
            "count": 1
           },
           {
            "bin_start": 4.9375599999999995,
            "bin_end": 9.875119999999999,
            "count": 0
           },
           {
            "bin_start": 9.875119999999999,
            "bin_end": 14.812679999999999,
            "count": 1
           },
           {
            "bin_start": 14.812679999999999,
            "bin_end": 19.750239999999998,
            "count": 0
           },
           {
            "bin_start": 19.750239999999998,
            "bin_end": 24.687799999999996,
            "count": 0
           },
           {
            "bin_start": 24.687799999999996,
            "bin_end": 29.625359999999997,
            "count": 1
           },
           {
            "bin_start": 29.625359999999997,
            "bin_end": 34.56292,
            "count": 0
           },
           {
            "bin_start": 34.56292,
            "bin_end": 39.500479999999996,
            "count": 0
           },
           {
            "bin_start": 39.500479999999996,
            "bin_end": 44.438039999999994,
            "count": 0
           },
           {
            "bin_start": 44.438039999999994,
            "bin_end": 49.3756,
            "count": 1
           }
          ]
         }
        },
        {
         "name": "ROIC",
         "dtype": "float64",
         "stats": {
          "unique_count": 5,
          "nan_count": 0,
          "min": "0.0",
          "max": "0.1062",
          "histogram": [
           {
            "bin_start": 0,
            "bin_end": 0.010620000000000001,
            "count": 1
           },
           {
            "bin_start": 0.010620000000000001,
            "bin_end": 0.021240000000000002,
            "count": 0
           },
           {
            "bin_start": 0.021240000000000002,
            "bin_end": 0.03186,
            "count": 0
           },
           {
            "bin_start": 0.03186,
            "bin_end": 0.042480000000000004,
            "count": 0
           },
           {
            "bin_start": 0.042480000000000004,
            "bin_end": 0.05310000000000001,
            "count": 0
           },
           {
            "bin_start": 0.05310000000000001,
            "bin_end": 0.06372,
            "count": 0
           },
           {
            "bin_start": 0.06372,
            "bin_end": 0.07434,
            "count": 0
           },
           {
            "bin_start": 0.07434,
            "bin_end": 0.08496000000000001,
            "count": 1
           },
           {
            "bin_start": 0.08496000000000001,
            "bin_end": 0.09558000000000001,
            "count": 1
           },
           {
            "bin_start": 0.09558000000000001,
            "bin_end": 0.1062,
            "count": 2
           }
          ]
         }
        },
        {
         "name": "Return on Tangible Assets",
         "dtype": "float64",
         "stats": {
          "unique_count": 5,
          "nan_count": 0,
          "min": "0.0403",
          "max": "0.6265",
          "histogram": [
           {
            "bin_start": 0.0403,
            "bin_end": 0.09892,
            "count": 2
           },
           {
            "bin_start": 0.09892,
            "bin_end": 0.15753999999999999,
            "count": 1
           },
           {
            "bin_start": 0.15753999999999999,
            "bin_end": 0.21615999999999996,
            "count": 0
           },
           {
            "bin_start": 0.21615999999999996,
            "bin_end": 0.27477999999999997,
            "count": 0
           },
           {
            "bin_start": 0.27477999999999997,
            "bin_end": 0.3334,
            "count": 0
           },
           {
            "bin_start": 0.3334,
            "bin_end": 0.3920199999999999,
            "count": 0
           },
           {
            "bin_start": 0.3920199999999999,
            "bin_end": 0.45063999999999993,
            "count": 0
           },
           {
            "bin_start": 0.45063999999999993,
            "bin_end": 0.5092599999999999,
            "count": 0
           },
           {
            "bin_start": 0.5092599999999999,
            "bin_end": 0.5678799999999999,
            "count": 0
           },
           {
            "bin_start": 0.5678799999999999,
            "bin_end": 0.6265,
            "count": 2
           }
          ]
         }
        },
        {
         "name": "Graham Net-Net",
         "dtype": "float64",
         "stats": {
          "unique_count": 5,
          "nan_count": 0,
          "min": "-0.8239",
          "max": "0.0534",
          "histogram": [
           {
            "bin_start": -0.8239,
            "bin_end": -0.73617,
            "count": 2
           },
           {
            "bin_start": -0.73617,
            "bin_end": -0.6484399999999999,
            "count": 0
           },
           {
            "bin_start": -0.6484399999999999,
            "bin_end": -0.5607099999999999,
            "count": 0
           },
           {
            "bin_start": -0.5607099999999999,
            "bin_end": -0.47297999999999996,
            "count": 0
           },
           {
            "bin_start": -0.47297999999999996,
            "bin_end": -0.38525,
            "count": 0
           },
           {
            "bin_start": -0.38525,
            "bin_end": -0.2975199999999999,
            "count": 1
           },
           {
            "bin_start": -0.2975199999999999,
            "bin_end": -0.20978999999999992,
            "count": 0
           },
           {
            "bin_start": -0.20978999999999992,
            "bin_end": -0.12205999999999995,
            "count": 1
           },
           {
            "bin_start": -0.12205999999999995,
            "bin_end": -0.03432999999999997,
            "count": 0
           },
           {
            "bin_start": -0.03432999999999997,
            "bin_end": 0.0534,
            "count": 1
           }
          ]
         }
        },
        {
         "name": "Working Capital",
         "dtype": "float64",
         "stats": {
          "unique_count": 5,
          "nan_count": 0,
          "min": "-2109000000.0",
          "max": "3065163000.0",
          "histogram": [
           {
            "bin_start": -2109000000,
            "bin_end": -1591583700,
            "count": 2
           },
           {
            "bin_start": -1591583700,
            "bin_end": -1074167400,
            "count": 0
           },
           {
            "bin_start": -1074167400,
            "bin_end": -556751100,
            "count": 1
           },
           {
            "bin_start": -556751100,
            "bin_end": -39334800,
            "count": 0
           },
           {
            "bin_start": -39334800,
            "bin_end": 478081500,
            "count": 0
           },
           {
            "bin_start": 478081500,
            "bin_end": 995497800,
            "count": 0
           },
           {
            "bin_start": 995497800,
            "bin_end": 1512914100,
            "count": 0
           },
           {
            "bin_start": 1512914100,
            "bin_end": 2030330400,
            "count": 1
           },
           {
            "bin_start": 2030330400,
            "bin_end": 2547746700,
            "count": 0
           },
           {
            "bin_start": 2547746700,
            "bin_end": 3065163000,
            "count": 1
           }
          ]
         }
        },
        {
         "name": "Tangible Asset Value",
         "dtype": "float64",
         "stats": {
          "unique_count": 5,
          "nan_count": 0,
          "min": "2546028576.0413",
          "max": "59719000000.0",
          "histogram": [
           {
            "bin_start": 2546028576.0413,
            "bin_end": 8263325718.43717,
            "count": 2
           },
           {
            "bin_start": 8263325718.43717,
            "bin_end": 13980622860.83304,
            "count": 1
           },
           {
            "bin_start": 13980622860.83304,
            "bin_end": 19697920003.228912,
            "count": 0
           },
           {
            "bin_start": 19697920003.228912,
            "bin_end": 25415217145.62478,
            "count": 0
           },
           {
            "bin_start": 25415217145.62478,
            "bin_end": 31132514288.020653,
            "count": 1
           },
           {
            "bin_start": 31132514288.020653,
            "bin_end": 36849811430.41652,
            "count": 0
           },
           {
            "bin_start": 36849811430.41652,
            "bin_end": 42567108572.812386,
            "count": 0
           },
           {
            "bin_start": 42567108572.812386,
            "bin_end": 48284405715.20826,
            "count": 0
           },
           {
            "bin_start": 48284405715.20826,
            "bin_end": 54001702857.60413,
            "count": 0
           },
           {
            "bin_start": 54001702857.60413,
            "bin_end": 59719000000,
            "count": 1
           }
          ]
         }
        },
        {
         "name": "Net Current Asset Value",
         "dtype": "float64",
         "stats": {
          "unique_count": 5,
          "nan_count": 0,
          "min": "-42673000000.0",
          "max": "-166696641.9115",
          "histogram": [
           {
            "bin_start": -42673000000,
            "bin_end": -38422369664.19115,
            "count": 1
           },
           {
            "bin_start": -38422369664.19115,
            "bin_end": -34171739328.3823,
            "count": 0
           },
           {
            "bin_start": -34171739328.3823,
            "bin_end": -29921108992.57345,
            "count": 0
           },
           {
            "bin_start": -29921108992.57345,
            "bin_end": -25670478656.7646,
            "count": 0
           },
           {
            "bin_start": -25670478656.7646,
            "bin_end": -21419848320.95575,
            "count": 0
           },
           {
            "bin_start": -21419848320.95575,
            "bin_end": -17169217985.146896,
            "count": 0
           },
           {
            "bin_start": -17169217985.146896,
            "bin_end": -12918587649.338047,
            "count": 1
           },
           {
            "bin_start": -12918587649.338047,
            "bin_end": -8667957313.529198,
            "count": 1
           },
           {
            "bin_start": -8667957313.529198,
            "bin_end": -4417326977.720345,
            "count": 1
           },
           {
            "bin_start": -4417326977.720345,
            "bin_end": -166696641.9115,
            "count": 1
           }
          ]
         }
        },
        {
         "name": "Invested Capital",
         "dtype": "float64",
         "stats": {
          "unique_count": 5,
          "nan_count": 0,
          "min": "755350984.8239999",
          "max": "52852000000.0",
          "histogram": [
           {
            "bin_start": 755350984.8239999,
            "bin_end": 5965015886.3416,
            "count": 1
           },
           {
            "bin_start": 5965015886.3416,
            "bin_end": 11174680787.8592,
            "count": 1
           },
           {
            "bin_start": 11174680787.8592,
            "bin_end": 16384345689.376799,
            "count": 1
           },
           {
            "bin_start": 16384345689.376799,
            "bin_end": 21594010590.8944,
            "count": 0
           },
           {
            "bin_start": 21594010590.8944,
            "bin_end": 26803675492.412003,
            "count": 1
           },
           {
            "bin_start": 26803675492.412003,
            "bin_end": 32013340393.9296,
            "count": 0
           },
           {
            "bin_start": 32013340393.9296,
            "bin_end": 37223005295.4472,
            "count": 0
           },
           {
            "bin_start": 37223005295.4472,
            "bin_end": 42432670196.9648,
            "count": 0
           },
           {
            "bin_start": 42432670196.9648,
            "bin_end": 47642335098.4824,
            "count": 0
           },
           {
            "bin_start": 47642335098.4824,
            "bin_end": 52852000000,
            "count": 1
           }
          ]
         }
        },
        {
         "name": "Average Receivables",
         "dtype": "float64",
         "stats": {
          "unique_count": 4,
          "nan_count": 1,
          "min": "939269000.0",
          "max": "6447000000.0",
          "histogram": [
           {
            "bin_start": 939269000,
            "bin_end": 1490042100,
            "count": 3
           },
           {
            "bin_start": 1490042100,
            "bin_end": 2040815200,
            "count": 0
           },
           {
            "bin_start": 2040815200,
            "bin_end": 2591588300,
            "count": 0
           },
           {
            "bin_start": 2591588300,
            "bin_end": 3142361400,
            "count": 0
           },
           {
            "bin_start": 3142361400,
            "bin_end": 3693134500,
            "count": 0
           },
           {
            "bin_start": 3693134500,
            "bin_end": 4243907600,
            "count": 0
           },
           {
            "bin_start": 4243907600,
            "bin_end": 4794680700,
            "count": 0
           },
           {
            "bin_start": 4794680700,
            "bin_end": 5345453800,
            "count": 0
           },
           {
            "bin_start": 5345453800,
            "bin_end": 5896226900,
            "count": 0
           },
           {
            "bin_start": 5896226900,
            "bin_end": 6447000000,
            "count": 1
           }
          ]
         }
        },
        {
         "name": "Average Payables",
         "dtype": "float64",
         "stats": {
          "unique_count": 4,
          "nan_count": 1,
          "min": "1338531500.0",
          "max": "8619000000.0",
          "histogram": [
           {
            "bin_start": 1338531500,
            "bin_end": 2066578350,
            "count": 2
           },
           {
            "bin_start": 2066578350,
            "bin_end": 2794625200,
            "count": 0
           },
           {
            "bin_start": 2794625200,
            "bin_end": 3522672050,
            "count": 0
           },
           {
            "bin_start": 3522672050,
            "bin_end": 4250718900,
            "count": 0
           },
           {
            "bin_start": 4250718900,
            "bin_end": 4978765750,
            "count": 1
           },
           {
            "bin_start": 4978765750,
            "bin_end": 5706812600,
            "count": 0
           },
           {
            "bin_start": 5706812600,
            "bin_end": 6434859450,
            "count": 0
           },
           {
            "bin_start": 6434859450,
            "bin_end": 7162906300,
            "count": 0
           },
           {
            "bin_start": 7162906300,
            "bin_end": 7890953150,
            "count": 0
           },
           {
            "bin_start": 7890953150,
            "bin_end": 8619000000,
            "count": 1
           }
          ]
         }
        },
        {
         "name": "Average Inventory",
         "dtype": "float64",
         "stats": {
          "unique_count": 4,
          "nan_count": 1,
          "min": "1552450000.0",
          "max": "6834000000.0",
          "histogram": [
           {
            "bin_start": 1552450000,
            "bin_end": 2080605000,
            "count": 1
           },
           {
            "bin_start": 2080605000,
            "bin_end": 2608760000,
            "count": 0
           },
           {
            "bin_start": 2608760000,
            "bin_end": 3136915000,
            "count": 1
           },
           {
            "bin_start": 3136915000,
            "bin_end": 3665070000,
            "count": 0
           },
           {
            "bin_start": 3665070000,
            "bin_end": 4193225000,
            "count": 0
           },
           {
            "bin_start": 4193225000,
            "bin_end": 4721380000,
            "count": 0
           },
           {
            "bin_start": 4721380000,
            "bin_end": 5249535000,
            "count": 0
           },
           {
            "bin_start": 5249535000,
            "bin_end": 5777690000,
            "count": 1
           },
           {
            "bin_start": 5777690000,
            "bin_end": 6305845000,
            "count": 0
           },
           {
            "bin_start": 6305845000,
            "bin_end": 6834000000,
            "count": 1
           }
          ]
         }
        },
        {
         "name": "Days Sales Outstanding",
         "dtype": "float64",
         "stats": {
          "unique_count": 5,
          "nan_count": 0,
          "min": "1.1431",
          "max": "31.3287",
          "histogram": [
           {
            "bin_start": 1.1431,
            "bin_end": 4.1616599999999995,
            "count": 2
           },
           {
            "bin_start": 4.1616599999999995,
            "bin_end": 7.18022,
            "count": 0
           },
           {
            "bin_start": 7.18022,
            "bin_end": 10.19878,
            "count": 0
           },
           {
            "bin_start": 10.19878,
            "bin_end": 13.21734,
            "count": 0
           },
           {
            "bin_start": 13.21734,
            "bin_end": 16.2359,
            "count": 1
           },
           {
            "bin_start": 16.2359,
            "bin_end": 19.254459999999998,
            "count": 0
           },
           {
            "bin_start": 19.254459999999998,
            "bin_end": 22.27302,
            "count": 0
           },
           {
            "bin_start": 22.27302,
            "bin_end": 25.29158,
            "count": 0
           },
           {
            "bin_start": 25.29158,
            "bin_end": 28.31014,
            "count": 0
           },
           {
            "bin_start": 28.31014,
            "bin_end": 31.3287,
            "count": 2
           }
          ]
         }
        },
        {
         "name": "Days Payables Outstanding",
         "dtype": "float64",
         "stats": {
          "unique_count": 5,
          "nan_count": 0,
          "min": "18.1099",
          "max": "97.7945",
          "histogram": [
           {
            "bin_start": 18.1099,
            "bin_end": 26.07836,
            "count": 2
           },
           {
            "bin_start": 26.07836,
            "bin_end": 34.04682,
            "count": 1
           },
           {
            "bin_start": 34.04682,
            "bin_end": 42.015280000000004,
            "count": 1
           },
           {
            "bin_start": 42.015280000000004,
            "bin_end": 49.98374,
            "count": 0
           },
           {
            "bin_start": 49.98374,
            "bin_end": 57.952200000000005,
            "count": 0
           },
           {
            "bin_start": 57.952200000000005,
            "bin_end": 65.92066,
            "count": 0
           },
           {
            "bin_start": 65.92066,
            "bin_end": 73.88912,
            "count": 0
           },
           {
            "bin_start": 73.88912,
            "bin_end": 81.85758,
            "count": 0
           },
           {
            "bin_start": 81.85758,
            "bin_end": 89.82603999999999,
            "count": 0
           },
           {
            "bin_start": 89.82603999999999,
            "bin_end": 97.7945,
            "count": 1
           }
          ]
         }
        },
        {
         "name": "Days of Inventory on Hand",
         "dtype": "float64",
         "stats": {
          "unique_count": 5,
          "nan_count": 0,
          "min": "-75.367",
          "max": "-26.3971",
          "histogram": [
           {
            "bin_start": -75.367,
            "bin_end": -70.47001,
            "count": 1
           },
           {
            "bin_start": -70.47001,
            "bin_end": -65.57302,
            "count": 0
           },
           {
            "bin_start": -65.57302,
            "bin_end": -60.676030000000004,
            "count": 1
           },
           {
            "bin_start": -60.676030000000004,
            "bin_end": -55.77904,
            "count": 1
           },
           {
            "bin_start": -55.77904,
            "bin_end": -50.88205,
            "count": 0
           },
           {
            "bin_start": -50.88205,
            "bin_end": -45.985060000000004,
            "count": 1
           },
           {
            "bin_start": -45.985060000000004,
            "bin_end": -41.08807,
            "count": 0
           },
           {
            "bin_start": -41.08807,
            "bin_end": -36.19108,
            "count": 0
           },
           {
            "bin_start": -36.19108,
            "bin_end": -31.294089999999997,
            "count": 0
           },
           {
            "bin_start": -31.294089999999997,
            "bin_end": -26.3971,
            "count": 1
           }
          ]
         }
        },
        {
         "name": "Receivables Turnover",
         "dtype": "float64",
         "stats": {
          "unique_count": 4,
          "nan_count": 1,
          "min": "11.5404",
          "max": "90.7937",
          "histogram": [
           {
            "bin_start": 11.5404,
            "bin_end": 19.46573,
            "count": 2
           },
           {
            "bin_start": 19.46573,
            "bin_end": 27.39106,
            "count": 1
           },
           {
            "bin_start": 27.39106,
            "bin_end": 35.31639,
            "count": 0
           },
           {
            "bin_start": 35.31639,
            "bin_end": 43.24172,
            "count": 0
           },
           {
            "bin_start": 43.24172,
            "bin_end": 51.167049999999996,
            "count": 0
           },
           {
            "bin_start": 51.167049999999996,
            "bin_end": 59.09238,
            "count": 0
           },
           {
            "bin_start": 59.09238,
            "bin_end": 67.01771,
            "count": 0
           },
           {
            "bin_start": 67.01771,
            "bin_end": 74.94304,
            "count": 0
           },
           {
            "bin_start": 74.94304,
            "bin_end": 82.86837,
            "count": 0
           },
           {
            "bin_start": 82.86837,
            "bin_end": 90.7937,
            "count": 1
           }
          ]
         }
        },
        {
         "name": "Payables Turnover",
         "dtype": "float64",
         "stats": {
          "unique_count": 4,
          "nan_count": 1,
          "min": "1.5648",
          "max": "4.9593",
          "histogram": [
           {
            "bin_start": 1.5648,
            "bin_end": 1.90425,
            "count": 1
           },
           {
            "bin_start": 1.90425,
            "bin_end": 2.2437,
            "count": 0
           },
           {
            "bin_start": 2.2437,
            "bin_end": 2.58315,
            "count": 0
           },
           {
            "bin_start": 2.58315,
            "bin_end": 2.9226,
            "count": 1
           },
           {
            "bin_start": 2.9226,
            "bin_end": 3.26205,
            "count": 0
           },
           {
            "bin_start": 3.26205,
            "bin_end": 3.6014999999999997,
            "count": 0
           },
           {
            "bin_start": 3.6014999999999997,
            "bin_end": 3.94095,
            "count": 0
           },
           {
            "bin_start": 3.94095,
            "bin_end": 4.2804,
            "count": 0
           },
           {
            "bin_start": 4.2804,
            "bin_end": 4.61985,
            "count": 0
           },
           {
            "bin_start": 4.61985,
            "bin_end": 4.9593,
            "count": 2
           }
          ]
         }
        },
        {
         "name": "Inventory Turnover",
         "dtype": "float64",
         "stats": {
          "unique_count": 4,
          "nan_count": 1,
          "min": "8.302999999999999",
          "max": "18.2227",
          "histogram": [
           {
            "bin_start": 8.302999999999999,
            "bin_end": 9.29497,
            "count": 1
           },
           {
            "bin_start": 9.29497,
            "bin_end": 10.28694,
            "count": 0
           },
           {
            "bin_start": 10.28694,
            "bin_end": 11.27891,
            "count": 1
           },
           {
            "bin_start": 11.27891,
            "bin_end": 12.270879999999998,
            "count": 1
           },
           {
            "bin_start": 12.270879999999998,
            "bin_end": 13.26285,
            "count": 0
           },
           {
            "bin_start": 13.26285,
            "bin_end": 14.254819999999999,
            "count": 0
           },
           {
            "bin_start": 14.254819999999999,
            "bin_end": 15.246789999999999,
            "count": 0
           },
           {
            "bin_start": 15.246789999999999,
            "bin_end": 16.23876,
            "count": 0
           },
           {
            "bin_start": 16.23876,
            "bin_end": 17.23073,
            "count": 0
           },
           {
            "bin_start": 17.23073,
            "bin_end": 18.2227,
            "count": 1
           }
          ]
         }
        },
        {
         "name": "ROE",
         "dtype": "float64",
         "stats": {
          "unique_count": 5,
          "nan_count": 0,
          "min": "-0.118",
          "max": "0.3294",
          "histogram": [
           {
            "bin_start": -0.118,
            "bin_end": -0.07325999999999999,
            "count": 1
           },
           {
            "bin_start": -0.07325999999999999,
            "bin_end": -0.02851999999999999,
            "count": 0
           },
           {
            "bin_start": -0.02851999999999999,
            "bin_end": 0.016220000000000012,
            "count": 0
           },
           {
            "bin_start": 0.016220000000000012,
            "bin_end": 0.060960000000000014,
            "count": 0
           },
           {
            "bin_start": 0.060960000000000014,
            "bin_end": 0.10570000000000002,
            "count": 0
           },
           {
            "bin_start": 0.10570000000000002,
            "bin_end": 0.15044000000000002,
            "count": 0
           },
           {
            "bin_start": 0.15044000000000002,
            "bin_end": 0.19518000000000002,
            "count": 1
           },
           {
            "bin_start": 0.19518000000000002,
            "bin_end": 0.23992000000000002,
            "count": 0
           },
           {
            "bin_start": 0.23992000000000002,
            "bin_end": 0.28466,
            "count": 2
           },
           {
            "bin_start": 0.28466,
            "bin_end": 0.3294,
            "count": 1
           }
          ]
         }
        },
        {
         "name": "Capex per Share",
         "dtype": "float64",
         "stats": {
          "unique_count": 5,
          "nan_count": 0,
          "min": "-17.8582",
          "max": "-1.069",
          "histogram": [
           {
            "bin_start": -17.8582,
            "bin_end": -16.17928,
            "count": 1
           },
           {
            "bin_start": -16.17928,
            "bin_end": -14.50036,
            "count": 0
           },
           {
            "bin_start": -14.50036,
            "bin_end": -12.821439999999999,
            "count": 0
           },
           {
            "bin_start": -12.821439999999999,
            "bin_end": -11.14252,
            "count": 0
           },
           {
            "bin_start": -11.14252,
            "bin_end": -9.4636,
            "count": 0
           },
           {
            "bin_start": -9.4636,
            "bin_end": -7.784679999999998,
            "count": 0
           },
           {
            "bin_start": -7.784679999999998,
            "bin_end": -6.105759999999998,
            "count": 1
           },
           {
            "bin_start": -6.105759999999998,
            "bin_end": -4.4268399999999986,
            "count": 0
           },
           {
            "bin_start": -4.4268399999999986,
            "bin_end": -2.747919999999999,
            "count": 0
           },
           {
            "bin_start": -2.747919999999999,
            "bin_end": -1.069,
            "count": 3
           }
          ]
         }
        },
        {
         "name": "Gross Profit Growth",
         "dtype": "float64",
         "stats": {
          "unique_count": 5,
          "nan_count": 0,
          "min": "-0.1185",
          "max": "1.2489",
          "histogram": [
           {
            "bin_start": -0.1185,
            "bin_end": 0.018240000000000006,
            "count": 4
           },
           {
            "bin_start": 0.018240000000000006,
            "bin_end": 0.15498,
            "count": 0
           },
           {
            "bin_start": 0.15498,
            "bin_end": 0.29172000000000003,
            "count": 0
           },
           {
            "bin_start": 0.29172000000000003,
            "bin_end": 0.42846,
            "count": 0
           },
           {
            "bin_start": 0.42846,
            "bin_end": 0.5651999999999999,
            "count": 0
           },
           {
            "bin_start": 0.5651999999999999,
            "bin_end": 0.70194,
            "count": 0
           },
           {
            "bin_start": 0.70194,
            "bin_end": 0.8386800000000001,
            "count": 0
           },
           {
            "bin_start": 0.8386800000000001,
            "bin_end": 0.97542,
            "count": 0
           },
           {
            "bin_start": 0.97542,
            "bin_end": 1.11216,
            "count": 0
           },
           {
            "bin_start": 1.11216,
            "bin_end": 1.2489,
            "count": 1
           }
          ]
         }
        },
        {
         "name": "EBIT Growth",
         "dtype": "float64",
         "stats": {
          "unique_count": 5,
          "nan_count": 0,
          "min": "-0.0145",
          "max": "1.6142",
          "histogram": [
           {
            "bin_start": -0.0145,
            "bin_end": 0.14837,
            "count": 3
           },
           {
            "bin_start": 0.14837,
            "bin_end": 0.31124,
            "count": 1
           },
           {
            "bin_start": 0.31124,
            "bin_end": 0.47411000000000003,
            "count": 0
           },
           {
            "bin_start": 0.47411000000000003,
            "bin_end": 0.6369800000000001,
            "count": 0
           },
           {
            "bin_start": 0.6369800000000001,
            "bin_end": 0.7998500000000002,
            "count": 0
           },
           {
            "bin_start": 0.7998500000000002,
            "bin_end": 0.9627200000000001,
            "count": 0
           },
           {
            "bin_start": 0.9627200000000001,
            "bin_end": 1.12559,
            "count": 0
           },
           {
            "bin_start": 1.12559,
            "bin_end": 1.2884600000000002,
            "count": 0
           },
           {
            "bin_start": 1.2884600000000002,
            "bin_end": 1.4513300000000002,
            "count": 0
           },
           {
            "bin_start": 1.4513300000000002,
            "bin_end": 1.6142,
            "count": 1
           }
          ]
         }
        },
        {
         "name": "Operating Income Growth",
         "dtype": "float64",
         "stats": {
          "unique_count": 5,
          "nan_count": 0,
          "min": "-0.0141",
          "max": "1.9463",
          "histogram": [
           {
            "bin_start": -0.0141,
            "bin_end": 0.18194,
            "count": 4
           },
           {
            "bin_start": 0.18194,
            "bin_end": 0.37798,
            "count": 0
           },
           {
            "bin_start": 0.37798,
            "bin_end": 0.57402,
            "count": 0
           },
           {
            "bin_start": 0.57402,
            "bin_end": 0.77006,
            "count": 0
           },
           {
            "bin_start": 0.77006,
            "bin_end": 0.9661,
            "count": 0
           },
           {
            "bin_start": 0.9661,
            "bin_end": 1.16214,
            "count": 0
           },
           {
            "bin_start": 1.16214,
            "bin_end": 1.35818,
            "count": 0
           },
           {
            "bin_start": 1.35818,
            "bin_end": 1.55422,
            "count": 0
           },
           {
            "bin_start": 1.55422,
            "bin_end": 1.75026,
            "count": 0
           },
           {
            "bin_start": 1.75026,
            "bin_end": 1.9463,
            "count": 1
           }
          ]
         }
        },
        {
         "name": "Net Income Growth",
         "dtype": "float64",
         "stats": {
          "unique_count": 5,
          "nan_count": 0,
          "min": "-0.0166",
          "max": "1.5649",
          "histogram": [
           {
            "bin_start": -0.0166,
            "bin_end": 0.14154999999999998,
            "count": 3
           },
           {
            "bin_start": 0.14154999999999998,
            "bin_end": 0.29969999999999997,
            "count": 0
           },
           {
            "bin_start": 0.29969999999999997,
            "bin_end": 0.4578499999999999,
            "count": 0
           },
           {
            "bin_start": 0.4578499999999999,
            "bin_end": 0.616,
            "count": 0
           },
           {
            "bin_start": 0.616,
            "bin_end": 0.77415,
            "count": 0
           },
           {
            "bin_start": 0.77415,
            "bin_end": 0.9322999999999999,
            "count": 0
           },
           {
            "bin_start": 0.9322999999999999,
            "bin_end": 1.09045,
            "count": 1
           },
           {
            "bin_start": 1.09045,
            "bin_end": 1.2486,
            "count": 0
           },
           {
            "bin_start": 1.2486,
            "bin_end": 1.40675,
            "count": 0
           },
           {
            "bin_start": 1.40675,
            "bin_end": 1.5649,
            "count": 1
           }
          ]
         }
        },
        {
         "name": "EPS Growth",
         "dtype": "float64",
         "stats": {
          "unique_count": 5,
          "nan_count": 0,
          "min": "0.0139999999999999",
          "max": "1.4625",
          "histogram": [
           {
            "bin_start": 0.0139999999999999,
            "bin_end": 0.1588499999999999,
            "count": 3
           },
           {
            "bin_start": 0.1588499999999999,
            "bin_end": 0.3036999999999999,
            "count": 0
           },
           {
            "bin_start": 0.3036999999999999,
            "bin_end": 0.4485499999999999,
            "count": 0
           },
           {
            "bin_start": 0.4485499999999999,
            "bin_end": 0.5933999999999999,
            "count": 0
           },
           {
            "bin_start": 0.5933999999999999,
            "bin_end": 0.73825,
            "count": 0
           },
           {
            "bin_start": 0.73825,
            "bin_end": 0.8830999999999999,
            "count": 0
           },
           {
            "bin_start": 0.8830999999999999,
            "bin_end": 1.02795,
            "count": 1
           },
           {
            "bin_start": 1.02795,
            "bin_end": 1.1727999999999998,
            "count": 0
           },
           {
            "bin_start": 1.1727999999999998,
            "bin_end": 1.3176499999999998,
            "count": 0
           },
           {
            "bin_start": 1.3176499999999998,
            "bin_end": 1.4625,
            "count": 1
           }
          ]
         }
        },
        {
         "name": "EPS Diluted Growth",
         "dtype": "float64",
         "stats": {
          "unique_count": 5,
          "nan_count": 0,
          "min": "0.0143",
          "max": "1.4646",
          "histogram": [
           {
            "bin_start": 0.0143,
            "bin_end": 0.15933,
            "count": 3
           },
           {
            "bin_start": 0.15933,
            "bin_end": 0.30435999999999996,
            "count": 0
           },
           {
            "bin_start": 0.30435999999999996,
            "bin_end": 0.44938999999999996,
            "count": 0
           },
           {
            "bin_start": 0.44938999999999996,
            "bin_end": 0.59442,
            "count": 0
           },
           {
            "bin_start": 0.59442,
            "bin_end": 0.7394499999999999,
            "count": 0
           },
           {
            "bin_start": 0.7394499999999999,
            "bin_end": 0.8844799999999999,
            "count": 0
           },
           {
            "bin_start": 0.8844799999999999,
            "bin_end": 1.02951,
            "count": 1
           },
           {
            "bin_start": 1.02951,
            "bin_end": 1.17454,
            "count": 0
           },
           {
            "bin_start": 1.17454,
            "bin_end": 1.31957,
            "count": 0
           },
           {
            "bin_start": 1.31957,
            "bin_end": 1.4646,
            "count": 1
           }
          ]
         }
        },
        {
         "name": "Weighted Average Shares Growth",
         "dtype": "float64",
         "stats": {
          "unique_count": 5,
          "nan_count": 0,
          "min": "-0.0468",
          "max": "0.0694",
          "histogram": [
           {
            "bin_start": -0.0468,
            "bin_end": -0.03518,
            "count": 2
           },
           {
            "bin_start": -0.03518,
            "bin_end": -0.02356,
            "count": 0
           },
           {
            "bin_start": -0.02356,
            "bin_end": -0.01194,
            "count": 1
           },
           {
            "bin_start": -0.01194,
            "bin_end": -0.00032000000000000084,
            "count": 0
           },
           {
            "bin_start": -0.00032000000000000084,
            "bin_end": 0.011299999999999998,
            "count": 0
           },
           {
            "bin_start": 0.011299999999999998,
            "bin_end": 0.022920000000000003,
            "count": 1
           },
           {
            "bin_start": 0.022920000000000003,
            "bin_end": 0.034539999999999994,
            "count": 0
           },
           {
            "bin_start": 0.034539999999999994,
            "bin_end": 0.04616,
            "count": 0
           },
           {
            "bin_start": 0.04616,
            "bin_end": 0.057780000000000005,
            "count": 0
           },
           {
            "bin_start": 0.057780000000000005,
            "bin_end": 0.0694,
            "count": 1
           }
          ]
         }
        },
        {
         "name": "Weighted Average Shares Diluted Growth",
         "dtype": "float64",
         "stats": {
          "unique_count": 2,
          "nan_count": 3,
          "min": "-0.0317",
          "max": "0.0195",
          "histogram": [
           {
            "bin_start": -0.0317,
            "bin_end": -0.02658,
            "count": 1
           },
           {
            "bin_start": -0.02658,
            "bin_end": -0.02146,
            "count": 0
           },
           {
            "bin_start": -0.02146,
            "bin_end": -0.01634,
            "count": 0
           },
           {
            "bin_start": -0.01634,
            "bin_end": -0.01122,
            "count": 0
           },
           {
            "bin_start": -0.01122,
            "bin_end": -0.006100000000000001,
            "count": 0
           },
           {
            "bin_start": -0.006100000000000001,
            "bin_end": -0.0009800000000000017,
            "count": 0
           },
           {
            "bin_start": -0.0009800000000000017,
            "bin_end": 0.004139999999999998,
            "count": 0
           },
           {
            "bin_start": 0.004139999999999998,
            "bin_end": 0.009259999999999997,
            "count": 0
           },
           {
            "bin_start": 0.009259999999999997,
            "bin_end": 0.014379999999999997,
            "count": 0
           },
           {
            "bin_start": 0.014379999999999997,
            "bin_end": 0.0195,
            "count": 1
           }
          ]
         }
        },
        {
         "name": "Dividends per Share Growth",
         "dtype": "float64",
         "stats": {
          "unique_count": 4,
          "nan_count": 0,
          "min": "0.0",
          "max": "0.2429",
          "histogram": [
           {
            "bin_start": 0,
            "bin_end": 0.02429,
            "count": 2
           },
           {
            "bin_start": 0.02429,
            "bin_end": 0.04858,
            "count": 0
           },
           {
            "bin_start": 0.04858,
            "bin_end": 0.07286999999999999,
            "count": 1
           },
           {
            "bin_start": 0.07286999999999999,
            "bin_end": 0.09716,
            "count": 0
           },
           {
            "bin_start": 0.09716,
            "bin_end": 0.12145,
            "count": 0
           },
           {
            "bin_start": 0.12145,
            "bin_end": 0.14573999999999998,
            "count": 0
           },
           {
            "bin_start": 0.14573999999999998,
            "bin_end": 0.17003,
            "count": 0
           },
           {
            "bin_start": 0.17003,
            "bin_end": 0.19432,
            "count": 1
           },
           {
            "bin_start": 0.19432,
            "bin_end": 0.21861,
            "count": 0
           },
           {
            "bin_start": 0.21861,
            "bin_end": 0.2429,
            "count": 1
           }
          ]
         }
        },
        {
         "name": "Operating Cash Flow growth",
         "dtype": "float64",
         "stats": {
          "unique_count": 5,
          "nan_count": 0,
          "min": "-0.1434",
          "max": "0.2134",
          "histogram": [
           {
            "bin_start": -0.1434,
            "bin_end": -0.10772,
            "count": 2
           },
           {
            "bin_start": -0.10772,
            "bin_end": -0.07203999999999999,
            "count": 0
           },
           {
            "bin_start": -0.07203999999999999,
            "bin_end": -0.03635999999999999,
            "count": 1
           },
           {
            "bin_start": -0.03635999999999999,
            "bin_end": -0.0006799999999999862,
            "count": 0
           },
           {
            "bin_start": -0.0006799999999999862,
            "bin_end": 0.035,
            "count": 0
           },
           {
            "bin_start": 0.035,
            "bin_end": 0.07068000000000002,
            "count": 0
           },
           {
            "bin_start": 0.07068000000000002,
            "bin_end": 0.10636000000000004,
            "count": 0
           },
           {
            "bin_start": 0.10636000000000004,
            "bin_end": 0.14204000000000003,
            "count": 0
           },
           {
            "bin_start": 0.14204000000000003,
            "bin_end": 0.17772000000000002,
            "count": 0
           },
           {
            "bin_start": 0.17772000000000002,
            "bin_end": 0.2134,
            "count": 2
           }
          ]
         }
        },
        {
         "name": "Free Cash Flow growth",
         "dtype": "float64",
         "stats": {
          "unique_count": 5,
          "nan_count": 0,
          "min": "-0.3626",
          "max": "0.3935",
          "histogram": [
           {
            "bin_start": -0.3626,
            "bin_end": -0.28698999999999997,
            "count": 1
           },
           {
            "bin_start": -0.28698999999999997,
            "bin_end": -0.21137999999999998,
            "count": 1
           },
           {
            "bin_start": -0.21137999999999998,
            "bin_end": -0.13577,
            "count": 1
           },
           {
            "bin_start": -0.13577,
            "bin_end": -0.06015999999999999,
            "count": 1
           },
           {
            "bin_start": -0.06015999999999999,
            "bin_end": 0.01545000000000002,
            "count": 0
           },
           {
            "bin_start": 0.01545000000000002,
            "bin_end": 0.09105999999999997,
            "count": 0
           },
           {
            "bin_start": 0.09105999999999997,
            "bin_end": 0.16667000000000004,
            "count": 0
           },
           {
            "bin_start": 0.16667000000000004,
            "bin_end": 0.24228,
            "count": 0
           },
           {
            "bin_start": 0.24228,
            "bin_end": 0.31788999999999995,
            "count": 0
           },
           {
            "bin_start": 0.31788999999999995,
            "bin_end": 0.3935,
            "count": 1
           }
          ]
         }
        },
        {
         "name": "10Y Revenue Growth (per Share)",
         "dtype": "float64",
         "stats": {
          "unique_count": 4,
          "nan_count": 1,
          "min": "-0.0195",
          "max": "0.1027",
          "histogram": [
           {
            "bin_start": -0.0195,
            "bin_end": -0.00728,
            "count": 1
           },
           {
            "bin_start": -0.00728,
            "bin_end": 0.00494,
            "count": 0
           },
           {
            "bin_start": 0.00494,
            "bin_end": 0.017159999999999998,
            "count": 0
           },
           {
            "bin_start": 0.017159999999999998,
            "bin_end": 0.02938,
            "count": 0
           },
           {
            "bin_start": 0.02938,
            "bin_end": 0.0416,
            "count": 1
           },
           {
            "bin_start": 0.0416,
            "bin_end": 0.05381999999999999,
            "count": 0
           },
           {
            "bin_start": 0.05381999999999999,
            "bin_end": 0.06604,
            "count": 0
           },
           {
            "bin_start": 0.06604,
            "bin_end": 0.07826,
            "count": 1
           },
           {
            "bin_start": 0.07826,
            "bin_end": 0.09047999999999999,
            "count": 0
           },
           {
            "bin_start": 0.09047999999999999,
            "bin_end": 0.1027,
            "count": 1
           }
          ]
         }
        },
        {
         "name": "5Y Revenue Growth (per Share)",
         "dtype": "float64",
         "stats": {
          "unique_count": 4,
          "nan_count": 1,
          "min": "-0.0289999999999999",
          "max": "0.1038",
          "histogram": [
           {
            "bin_start": -0.0289999999999999,
            "bin_end": -0.015719999999999908,
            "count": 1
           },
           {
            "bin_start": -0.015719999999999908,
            "bin_end": -0.002439999999999918,
            "count": 0
           },
           {
            "bin_start": -0.002439999999999918,
            "bin_end": 0.010840000000000072,
            "count": 1
           },
           {
            "bin_start": 0.010840000000000072,
            "bin_end": 0.024120000000000065,
            "count": 0
           },
           {
            "bin_start": 0.024120000000000065,
            "bin_end": 0.03740000000000006,
            "count": 0
           },
           {
            "bin_start": 0.03740000000000006,
            "bin_end": 0.050680000000000044,
            "count": 0
           },
           {
            "bin_start": 0.050680000000000044,
            "bin_end": 0.06396000000000004,
            "count": 1
           },
           {
            "bin_start": 0.06396000000000004,
            "bin_end": 0.07724000000000003,
            "count": 0
           },
           {
            "bin_start": 0.07724000000000003,
            "bin_end": 0.09052000000000002,
            "count": 0
           },
           {
            "bin_start": 0.09052000000000002,
            "bin_end": 0.1038,
            "count": 1
           }
          ]
         }
        },
        {
         "name": "3Y Revenue Growth (per Share)",
         "dtype": "float64",
         "stats": {
          "unique_count": 4,
          "nan_count": 1,
          "min": "-0.023",
          "max": "0.1399",
          "histogram": [
           {
            "bin_start": -0.023,
            "bin_end": -0.006710000000000001,
            "count": 2
           },
           {
            "bin_start": -0.006710000000000001,
            "bin_end": 0.009579999999999998,
            "count": 0
           },
           {
            "bin_start": 0.009579999999999998,
            "bin_end": 0.025869999999999997,
            "count": 0
           },
           {
            "bin_start": 0.025869999999999997,
            "bin_end": 0.042159999999999996,
            "count": 0
           },
           {
            "bin_start": 0.042159999999999996,
            "bin_end": 0.058449999999999995,
            "count": 0
           },
           {
            "bin_start": 0.058449999999999995,
            "bin_end": 0.07474,
            "count": 0
           },
           {
            "bin_start": 0.07474,
            "bin_end": 0.09103,
            "count": 1
           },
           {
            "bin_start": 0.09103,
            "bin_end": 0.10732,
            "count": 0
           },
           {
            "bin_start": 0.10732,
            "bin_end": 0.12361,
            "count": 0
           },
           {
            "bin_start": 0.12361,
            "bin_end": 0.1399,
            "count": 1
           }
          ]
         }
        },
        {
         "name": "10Y Operating CF Growth (per Share)",
         "dtype": "float64",
         "stats": {
          "unique_count": 4,
          "nan_count": 1,
          "min": "0.0355",
          "max": "0.0889",
          "histogram": [
           {
            "bin_start": 0.0355,
            "bin_end": 0.04084,
            "count": 1
           },
           {
            "bin_start": 0.04084,
            "bin_end": 0.04618,
            "count": 0
           },
           {
            "bin_start": 0.04618,
            "bin_end": 0.051519999999999996,
            "count": 1
           },
           {
            "bin_start": 0.051519999999999996,
            "bin_end": 0.05686,
            "count": 0
           },
           {
            "bin_start": 0.05686,
            "bin_end": 0.062200000000000005,
            "count": 0
           },
           {
            "bin_start": 0.062200000000000005,
            "bin_end": 0.06754,
            "count": 0
           },
           {
            "bin_start": 0.06754,
            "bin_end": 0.07288,
            "count": 0
           },
           {
            "bin_start": 0.07288,
            "bin_end": 0.07822000000000001,
            "count": 1
           },
           {
            "bin_start": 0.07822000000000001,
            "bin_end": 0.08356,
            "count": 0
           },
           {
            "bin_start": 0.08356,
            "bin_end": 0.0889,
            "count": 1
           }
          ]
         }
        },
        {
         "name": "5Y Operating CF Growth (per Share)",
         "dtype": "float64",
         "stats": {
          "unique_count": 4,
          "nan_count": 1,
          "min": "0.0015",
          "max": "0.1164",
          "histogram": [
           {
            "bin_start": 0.0015,
            "bin_end": 0.01299,
            "count": 1
           },
           {
            "bin_start": 0.01299,
            "bin_end": 0.024480000000000002,
            "count": 0
           },
           {
            "bin_start": 0.024480000000000002,
            "bin_end": 0.03597,
            "count": 0
           },
           {
            "bin_start": 0.03597,
            "bin_end": 0.04746,
            "count": 0
           },
           {
            "bin_start": 0.04746,
            "bin_end": 0.05895,
            "count": 0
           },
           {
            "bin_start": 0.05895,
            "bin_end": 0.07044,
            "count": 0
           },
           {
            "bin_start": 0.07044,
            "bin_end": 0.08193,
            "count": 0
           },
           {
            "bin_start": 0.08193,
            "bin_end": 0.09342,
            "count": 1
           },
           {
            "bin_start": 0.09342,
            "bin_end": 0.10491,
            "count": 1
           },
           {
            "bin_start": 0.10491,
            "bin_end": 0.1164,
            "count": 1
           }
          ]
         }
        },
        {
         "name": "3Y Operating CF Growth (per Share)",
         "dtype": "float64",
         "stats": {
          "unique_count": 4,
          "nan_count": 1,
          "min": "0.026",
          "max": "0.1991",
          "histogram": [
           {
            "bin_start": 0.026,
            "bin_end": 0.04331,
            "count": 1
           },
           {
            "bin_start": 0.04331,
            "bin_end": 0.06061999999999999,
            "count": 0
           },
           {
            "bin_start": 0.06061999999999999,
            "bin_end": 0.07793,
            "count": 0
           },
           {
            "bin_start": 0.07793,
            "bin_end": 0.09523999999999999,
            "count": 1
           },
           {
            "bin_start": 0.09523999999999999,
            "bin_end": 0.11254999999999998,
            "count": 0
           },
           {
            "bin_start": 0.11254999999999998,
            "bin_end": 0.12986,
            "count": 0
           },
           {
            "bin_start": 0.12986,
            "bin_end": 0.14717,
            "count": 0
           },
           {
            "bin_start": 0.14717,
            "bin_end": 0.16448,
            "count": 0
           },
           {
            "bin_start": 0.16448,
            "bin_end": 0.18178999999999998,
            "count": 1
           },
           {
            "bin_start": 0.18178999999999998,
            "bin_end": 0.1991,
            "count": 1
           }
          ]
         }
        },
        {
         "name": "10Y Net Income Growth (per Share)",
         "dtype": "float64",
         "stats": {
          "unique_count": 4,
          "nan_count": 1,
          "min": "0.048",
          "max": "0.2272",
          "histogram": [
           {
            "bin_start": 0.048,
            "bin_end": 0.06592,
            "count": 2
           },
           {
            "bin_start": 0.06592,
            "bin_end": 0.08384,
            "count": 1
           },
           {
            "bin_start": 0.08384,
            "bin_end": 0.10176,
            "count": 0
           },
           {
            "bin_start": 0.10176,
            "bin_end": 0.11968000000000001,
            "count": 0
           },
           {
            "bin_start": 0.11968000000000001,
            "bin_end": 0.1376,
            "count": 0
           },
           {
            "bin_start": 0.1376,
            "bin_end": 0.15552,
            "count": 0
           },
           {
            "bin_start": 0.15552,
            "bin_end": 0.17344000000000004,
            "count": 0
           },
           {
            "bin_start": 0.17344000000000004,
            "bin_end": 0.19136000000000003,
            "count": 0
           },
           {
            "bin_start": 0.19136000000000003,
            "bin_end": 0.20928000000000002,
            "count": 0
           },
           {
            "bin_start": 0.20928000000000002,
            "bin_end": 0.2272,
            "count": 1
           }
          ]
         }
        },
        {
         "name": "5Y Net Income Growth (per Share)",
         "dtype": "float64",
         "stats": {
          "unique_count": 4,
          "nan_count": 1,
          "min": "-0.0137",
          "max": "0.0906",
          "histogram": [
           {
            "bin_start": -0.0137,
            "bin_end": -0.0032700000000000003,
            "count": 1
           },
           {
            "bin_start": -0.0032700000000000003,
            "bin_end": 0.00716,
            "count": 1
           },
           {
            "bin_start": 0.00716,
            "bin_end": 0.017589999999999998,
            "count": 0
           },
           {
            "bin_start": 0.017589999999999998,
            "bin_end": 0.02802,
            "count": 0
           },
           {
            "bin_start": 0.02802,
            "bin_end": 0.03845,
            "count": 0
           },
           {
            "bin_start": 0.03845,
            "bin_end": 0.04887999999999999,
            "count": 0
           },
           {
            "bin_start": 0.04887999999999999,
            "bin_end": 0.05931,
            "count": 0
           },
           {
            "bin_start": 0.05931,
            "bin_end": 0.06974,
            "count": 0
           },
           {
            "bin_start": 0.06974,
            "bin_end": 0.08016999999999999,
            "count": 0
           },
           {
            "bin_start": 0.08016999999999999,
            "bin_end": 0.0906,
            "count": 2
           }
          ]
         }
        },
        {
         "name": "3Y Net Income Growth (per Share)",
         "dtype": "float64",
         "stats": {
          "unique_count": 4,
          "nan_count": 1,
          "min": "0.0",
          "max": "0.1892",
          "histogram": [
           {
            "bin_start": 0,
            "bin_end": 0.01892,
            "count": 3
           },
           {
            "bin_start": 0.01892,
            "bin_end": 0.03784,
            "count": 0
           },
           {
            "bin_start": 0.03784,
            "bin_end": 0.05676,
            "count": 0
           },
           {
            "bin_start": 0.05676,
            "bin_end": 0.07568,
            "count": 0
           },
           {
            "bin_start": 0.07568,
            "bin_end": 0.09459999999999999,
            "count": 0
           },
           {
            "bin_start": 0.09459999999999999,
            "bin_end": 0.11352,
            "count": 0
           },
           {
            "bin_start": 0.11352,
            "bin_end": 0.13244,
            "count": 0
           },
           {
            "bin_start": 0.13244,
            "bin_end": 0.15136,
            "count": 0
           },
           {
            "bin_start": 0.15136,
            "bin_end": 0.17028,
            "count": 0
           },
           {
            "bin_start": 0.17028,
            "bin_end": 0.1892,
            "count": 1
           }
          ]
         }
        },
        {
         "name": "10Y Shareholders Equity Growth (per Share)",
         "dtype": "float64",
         "stats": {
          "unique_count": 4,
          "nan_count": 1,
          "min": "0.0",
          "max": "0.1442",
          "histogram": [
           {
            "bin_start": 0,
            "bin_end": 0.014419999999999999,
            "count": 1
           },
           {
            "bin_start": 0.014419999999999999,
            "bin_end": 0.028839999999999998,
            "count": 0
           },
           {
            "bin_start": 0.028839999999999998,
            "bin_end": 0.04325999999999999,
            "count": 1
           },
           {
            "bin_start": 0.04325999999999999,
            "bin_end": 0.057679999999999995,
            "count": 0
           },
           {
            "bin_start": 0.057679999999999995,
            "bin_end": 0.0721,
            "count": 1
           },
           {
            "bin_start": 0.0721,
            "bin_end": 0.08651999999999999,
            "count": 0
           },
           {
            "bin_start": 0.08651999999999999,
            "bin_end": 0.10093999999999999,
            "count": 0
           },
           {
            "bin_start": 0.10093999999999999,
            "bin_end": 0.11535999999999999,
            "count": 0
           },
           {
            "bin_start": 0.11535999999999999,
            "bin_end": 0.12977999999999998,
            "count": 0
           },
           {
            "bin_start": 0.12977999999999998,
            "bin_end": 0.1442,
            "count": 1
           }
          ]
         }
        },
        {
         "name": "5Y Shareholders Equity Growth (per Share)",
         "dtype": "float64",
         "stats": {
          "unique_count": 4,
          "nan_count": 1,
          "min": "0.0",
          "max": "0.0623",
          "histogram": [
           {
            "bin_start": 0,
            "bin_end": 0.00623,
            "count": 1
           },
           {
            "bin_start": 0.00623,
            "bin_end": 0.01246,
            "count": 0
           },
           {
            "bin_start": 0.01246,
            "bin_end": 0.018690000000000002,
            "count": 0
           },
           {
            "bin_start": 0.018690000000000002,
            "bin_end": 0.02492,
            "count": 0
           },
           {
            "bin_start": 0.02492,
            "bin_end": 0.03115,
            "count": 0
           },
           {
            "bin_start": 0.03115,
            "bin_end": 0.037380000000000004,
            "count": 1
           },
           {
            "bin_start": 0.037380000000000004,
            "bin_end": 0.04361,
            "count": 0
           },
           {
            "bin_start": 0.04361,
            "bin_end": 0.04984,
            "count": 0
           },
           {
            "bin_start": 0.04984,
            "bin_end": 0.05607,
            "count": 1
           },
           {
            "bin_start": 0.05607,
            "bin_end": 0.0623,
            "count": 1
           }
          ]
         }
        },
        {
         "name": "3Y Shareholders Equity Growth (per Share)",
         "dtype": "float64",
         "stats": {
          "unique_count": 4,
          "nan_count": 1,
          "min": "0.0",
          "max": "0.0789",
          "histogram": [
           {
            "bin_start": 0,
            "bin_end": 0.00789,
            "count": 1
           },
           {
            "bin_start": 0.00789,
            "bin_end": 0.01578,
            "count": 0
           },
           {
            "bin_start": 0.01578,
            "bin_end": 0.023669999999999997,
            "count": 2
           },
           {
            "bin_start": 0.023669999999999997,
            "bin_end": 0.03156,
            "count": 0
           },
           {
            "bin_start": 0.03156,
            "bin_end": 0.03945,
            "count": 0
           },
           {
            "bin_start": 0.03945,
            "bin_end": 0.04733999999999999,
            "count": 0
           },
           {
            "bin_start": 0.04733999999999999,
            "bin_end": 0.055229999999999994,
            "count": 0
           },
           {
            "bin_start": 0.055229999999999994,
            "bin_end": 0.06312,
            "count": 0
           },
           {
            "bin_start": 0.06312,
            "bin_end": 0.07100999999999999,
            "count": 0
           },
           {
            "bin_start": 0.07100999999999999,
            "bin_end": 0.0789,
            "count": 1
           }
          ]
         }
        },
        {
         "name": "10Y Dividend per Share Growth (per Share)",
         "dtype": "float64",
         "stats": {
          "unique_count": 3,
          "nan_count": 1,
          "min": "0.0",
          "max": "0.1092",
          "histogram": [
           {
            "bin_start": 0,
            "bin_end": 0.010920000000000001,
            "count": 2
           },
           {
            "bin_start": 0.010920000000000001,
            "bin_end": 0.021840000000000002,
            "count": 0
           },
           {
            "bin_start": 0.021840000000000002,
            "bin_end": 0.032760000000000004,
            "count": 0
           },
           {
            "bin_start": 0.032760000000000004,
            "bin_end": 0.043680000000000004,
            "count": 0
           },
           {
            "bin_start": 0.043680000000000004,
            "bin_end": 0.0546,
            "count": 0
           },
           {
            "bin_start": 0.0546,
            "bin_end": 0.06552000000000001,
            "count": 0
           },
           {
            "bin_start": 0.06552000000000001,
            "bin_end": 0.07644000000000001,
            "count": 0
           },
           {
            "bin_start": 0.07644000000000001,
            "bin_end": 0.08736000000000001,
            "count": 0
           },
           {
            "bin_start": 0.08736000000000001,
            "bin_end": 0.09828,
            "count": 0
           },
           {
            "bin_start": 0.09828,
            "bin_end": 0.1092,
            "count": 2
           }
          ]
         }
        },
        {
         "name": "5Y Dividend per Share Growth (per Share)",
         "dtype": "float64",
         "stats": {
          "unique_count": 4,
          "nan_count": 1,
          "min": "0.0",
          "max": "0.125",
          "histogram": [
           {
            "bin_start": 0,
            "bin_end": 0.0125,
            "count": 1
           },
           {
            "bin_start": 0.0125,
            "bin_end": 0.025,
            "count": 0
           },
           {
            "bin_start": 0.025,
            "bin_end": 0.037500000000000006,
            "count": 0
           },
           {
            "bin_start": 0.037500000000000006,
            "bin_end": 0.05,
            "count": 0
           },
           {
            "bin_start": 0.05,
            "bin_end": 0.0625,
            "count": 0
           },
           {
            "bin_start": 0.0625,
            "bin_end": 0.07500000000000001,
            "count": 0
           },
           {
            "bin_start": 0.07500000000000001,
            "bin_end": 0.08750000000000001,
            "count": 1
           },
           {
            "bin_start": 0.08750000000000001,
            "bin_end": 0.1,
            "count": 0
           },
           {
            "bin_start": 0.1,
            "bin_end": 0.1125,
            "count": 0
           },
           {
            "bin_start": 0.1125,
            "bin_end": 0.125,
            "count": 2
           }
          ]
         }
        },
        {
         "name": "3Y Dividend per Share Growth (per Share)",
         "dtype": "float64",
         "stats": {
          "unique_count": 4,
          "nan_count": 1,
          "min": "0.0",
          "max": "0.1633",
          "histogram": [
           {
            "bin_start": 0,
            "bin_end": 0.01633,
            "count": 1
           },
           {
            "bin_start": 0.01633,
            "bin_end": 0.03266,
            "count": 0
           },
           {
            "bin_start": 0.03266,
            "bin_end": 0.048990000000000006,
            "count": 0
           },
           {
            "bin_start": 0.048990000000000006,
            "bin_end": 0.06532,
            "count": 0
           },
           {
            "bin_start": 0.06532,
            "bin_end": 0.08165,
            "count": 1
           },
           {
            "bin_start": 0.08165,
            "bin_end": 0.09798000000000001,
            "count": 0
           },
           {
            "bin_start": 0.09798000000000001,
            "bin_end": 0.11431000000000001,
            "count": 0
           },
           {
            "bin_start": 0.11431000000000001,
            "bin_end": 0.13064,
            "count": 1
           },
           {
            "bin_start": 0.13064,
            "bin_end": 0.14697000000000002,
            "count": 0
           },
           {
            "bin_start": 0.14697000000000002,
            "bin_end": 0.1633,
            "count": 1
           }
          ]
         }
        },
        {
         "name": "Receivables growth",
         "dtype": "float64",
         "stats": {
          "unique_count": 4,
          "nan_count": 1,
          "min": "-0.0187",
          "max": "0.0618",
          "histogram": [
           {
            "bin_start": -0.0187,
            "bin_end": -0.010650000000000001,
            "count": 1
           },
           {
            "bin_start": -0.010650000000000001,
            "bin_end": -0.0026000000000000016,
            "count": 0
           },
           {
            "bin_start": -0.0026000000000000016,
            "bin_end": 0.0054499999999999965,
            "count": 0
           },
           {
            "bin_start": 0.0054499999999999965,
            "bin_end": 0.013499999999999998,
            "count": 0
           },
           {
            "bin_start": 0.013499999999999998,
            "bin_end": 0.02155,
            "count": 1
           },
           {
            "bin_start": 0.02155,
            "bin_end": 0.029599999999999994,
            "count": 1
           },
           {
            "bin_start": 0.029599999999999994,
            "bin_end": 0.037649999999999996,
            "count": 0
           },
           {
            "bin_start": 0.037649999999999996,
            "bin_end": 0.0457,
            "count": 0
           },
           {
            "bin_start": 0.0457,
            "bin_end": 0.05375,
            "count": 0
           },
           {
            "bin_start": 0.05375,
            "bin_end": 0.0618,
            "count": 1
           }
          ]
         }
        },
        {
         "name": "Inventory Growth",
         "dtype": "float64",
         "stats": {
          "unique_count": 4,
          "nan_count": 1,
          "min": "-0.051",
          "max": "0.0981",
          "histogram": [
           {
            "bin_start": -0.051,
            "bin_end": -0.03609,
            "count": 1
           },
           {
            "bin_start": -0.03609,
            "bin_end": -0.021179999999999994,
            "count": 1
           },
           {
            "bin_start": -0.021179999999999994,
            "bin_end": -0.006269999999999991,
            "count": 0
           },
           {
            "bin_start": -0.006269999999999991,
            "bin_end": 0.008640000000000009,
            "count": 0
           },
           {
            "bin_start": 0.008640000000000009,
            "bin_end": 0.02355000000000001,
            "count": 1
           },
           {
            "bin_start": 0.02355000000000001,
            "bin_end": 0.038460000000000015,
            "count": 0
           },
           {
            "bin_start": 0.038460000000000015,
            "bin_end": 0.05337000000000001,
            "count": 0
           },
           {
            "bin_start": 0.05337000000000001,
            "bin_end": 0.06828000000000001,
            "count": 0
           },
           {
            "bin_start": 0.06828000000000001,
            "bin_end": 0.08319000000000001,
            "count": 0
           },
           {
            "bin_start": 0.08319000000000001,
            "bin_end": 0.0981,
            "count": 1
           }
          ]
         }
        },
        {
         "name": "Asset Growth",
         "dtype": "float64",
         "stats": {
          "unique_count": 4,
          "nan_count": 1,
          "min": "-0.0189",
          "max": "0.1886",
          "histogram": [
           {
            "bin_start": -0.0189,
            "bin_end": 0.0018499999999999975,
            "count": 1
           },
           {
            "bin_start": 0.0018499999999999975,
            "bin_end": 0.022599999999999995,
            "count": 1
           },
           {
            "bin_start": 0.022599999999999995,
            "bin_end": 0.04334999999999999,
            "count": 1
           },
           {
            "bin_start": 0.04334999999999999,
            "bin_end": 0.06409999999999999,
            "count": 0
           },
           {
            "bin_start": 0.06409999999999999,
            "bin_end": 0.08484999999999998,
            "count": 0
           },
           {
            "bin_start": 0.08484999999999998,
            "bin_end": 0.10559999999999999,
            "count": 0
           },
           {
            "bin_start": 0.10559999999999999,
            "bin_end": 0.12635,
            "count": 0
           },
           {
            "bin_start": 0.12635,
            "bin_end": 0.14709999999999998,
            "count": 0
           },
           {
            "bin_start": 0.14709999999999998,
            "bin_end": 0.16784999999999997,
            "count": 0
           },
           {
            "bin_start": 0.16784999999999997,
            "bin_end": 0.1886,
            "count": 1
           }
          ]
         }
        },
        {
         "name": "Book Value per Share Growth",
         "dtype": "float64",
         "stats": {
          "unique_count": 4,
          "nan_count": 1,
          "min": "0.0274",
          "max": "0.3268",
          "histogram": [
           {
            "bin_start": 0.0274,
            "bin_end": 0.05734,
            "count": 2
           },
           {
            "bin_start": 0.05734,
            "bin_end": 0.08728,
            "count": 0
           },
           {
            "bin_start": 0.08728,
            "bin_end": 0.11722000000000002,
            "count": 0
           },
           {
            "bin_start": 0.11722000000000002,
            "bin_end": 0.14716,
            "count": 0
           },
           {
            "bin_start": 0.14716,
            "bin_end": 0.1771,
            "count": 0
           },
           {
            "bin_start": 0.1771,
            "bin_end": 0.20704000000000003,
            "count": 1
           },
           {
            "bin_start": 0.20704000000000003,
            "bin_end": 0.23698000000000002,
            "count": 0
           },
           {
            "bin_start": 0.23698000000000002,
            "bin_end": 0.26692,
            "count": 0
           },
           {
            "bin_start": 0.26692,
            "bin_end": 0.29686,
            "count": 0
           },
           {
            "bin_start": 0.29686,
            "bin_end": 0.3268,
            "count": 1
           }
          ]
         }
        },
        {
         "name": "Debt Growth",
         "dtype": "float64",
         "stats": {
          "unique_count": 4,
          "nan_count": 1,
          "min": "-0.0458",
          "max": "0.2738",
          "histogram": [
           {
            "bin_start": -0.0458,
            "bin_end": -0.013839999999999998,
            "count": 1
           },
           {
            "bin_start": -0.013839999999999998,
            "bin_end": 0.018120000000000004,
            "count": 0
           },
           {
            "bin_start": 0.018120000000000004,
            "bin_end": 0.050080000000000006,
            "count": 0
           },
           {
            "bin_start": 0.050080000000000006,
            "bin_end": 0.08204,
            "count": 0
           },
           {
            "bin_start": 0.08204,
            "bin_end": 0.11399999999999999,
            "count": 1
           },
           {
            "bin_start": 0.11399999999999999,
            "bin_end": 0.14596,
            "count": 1
           },
           {
            "bin_start": 0.14596,
            "bin_end": 0.17792000000000002,
            "count": 0
           },
           {
            "bin_start": 0.17792000000000002,
            "bin_end": 0.20988,
            "count": 0
           },
           {
            "bin_start": 0.20988,
            "bin_end": 0.24184,
            "count": 0
           },
           {
            "bin_start": 0.24184,
            "bin_end": 0.2738,
            "count": 1
           }
          ]
         }
        },
        {
         "name": "R&D Expense Growth",
         "dtype": "float64",
         "stats": {
          "unique_count": 2,
          "nan_count": 0,
          "min": "0.0",
          "max": "1.6484",
          "histogram": [
           {
            "bin_start": 0,
            "bin_end": 0.16484000000000001,
            "count": 4
           },
           {
            "bin_start": 0.16484000000000001,
            "bin_end": 0.32968000000000003,
            "count": 0
           },
           {
            "bin_start": 0.32968000000000003,
            "bin_end": 0.49452000000000007,
            "count": 0
           },
           {
            "bin_start": 0.49452000000000007,
            "bin_end": 0.6593600000000001,
            "count": 0
           },
           {
            "bin_start": 0.6593600000000001,
            "bin_end": 0.8242,
            "count": 0
           },
           {
            "bin_start": 0.8242,
            "bin_end": 0.9890400000000001,
            "count": 0
           },
           {
            "bin_start": 0.9890400000000001,
            "bin_end": 1.15388,
            "count": 0
           },
           {
            "bin_start": 1.15388,
            "bin_end": 1.3187200000000001,
            "count": 0
           },
           {
            "bin_start": 1.3187200000000001,
            "bin_end": 1.4835600000000002,
            "count": 0
           },
           {
            "bin_start": 1.4835600000000002,
            "bin_end": 1.6484,
            "count": 1
           }
          ]
         }
        },
        {
         "name": "SG&A Expenses Growth",
         "dtype": "float64",
         "stats": {
          "unique_count": 5,
          "nan_count": 0,
          "min": "-0.1746",
          "max": "1.7313",
          "histogram": [
           {
            "bin_start": -0.1746,
            "bin_end": 0.015990000000000004,
            "count": 3
           },
           {
            "bin_start": 0.015990000000000004,
            "bin_end": 0.20658,
            "count": 1
           },
           {
            "bin_start": 0.20658,
            "bin_end": 0.39717,
            "count": 0
           },
           {
            "bin_start": 0.39717,
            "bin_end": 0.5877600000000001,
            "count": 0
           },
           {
            "bin_start": 0.5877600000000001,
            "bin_end": 0.7783500000000001,
            "count": 0
           },
           {
            "bin_start": 0.7783500000000001,
            "bin_end": 0.96894,
            "count": 0
           },
           {
            "bin_start": 0.96894,
            "bin_end": 1.15953,
            "count": 0
           },
           {
            "bin_start": 1.15953,
            "bin_end": 1.35012,
            "count": 0
           },
           {
            "bin_start": 1.35012,
            "bin_end": 1.54071,
            "count": 0
           },
           {
            "bin_start": 1.54071,
            "bin_end": 1.7313,
            "count": 1
           }
          ]
         }
        },
        {
         "name": "Sector",
         "dtype": "object",
         "stats": {
          "unique_count": 1,
          "nan_count": 0,
          "categories": [
           {
            "name": "Consumer Defensive",
            "count": 5
           }
          ]
         }
        },
        {
         "name": "2015 PRICE VAR [%]",
         "dtype": "float64",
         "stats": {
          "unique_count": 5,
          "nan_count": 0,
          "min": "-25.512192888957696",
          "max": "33.11829671550496",
          "histogram": [
           {
            "bin_start": -25.512192888957696,
            "bin_end": -19.649143928511428,
            "count": 1
           },
           {
            "bin_start": -19.649143928511428,
            "bin_end": -13.786094968065164,
            "count": 0
           },
           {
            "bin_start": -13.786094968065164,
            "bin_end": -7.923046007618897,
            "count": 1
           },
           {
            "bin_start": -7.923046007618897,
            "bin_end": -2.059997047172633,
            "count": 0
           },
           {
            "bin_start": -2.059997047172633,
            "bin_end": 3.803051913273631,
            "count": 1
           },
           {
            "bin_start": 3.803051913273631,
            "bin_end": 9.666100873719902,
            "count": 0
           },
           {
            "bin_start": 9.666100873719902,
            "bin_end": 15.529149834166166,
            "count": 1
           },
           {
            "bin_start": 15.529149834166166,
            "bin_end": 21.39219879461243,
            "count": 0
           },
           {
            "bin_start": 21.39219879461243,
            "bin_end": 27.255247755058694,
            "count": 0
           },
           {
            "bin_start": 27.255247755058694,
            "bin_end": 33.11829671550496,
            "count": 1
           }
          ]
         }
        },
        {
         "name": "Class",
         "dtype": "int64",
         "stats": {
          "unique_count": 2,
          "nan_count": 0,
          "min": "0",
          "max": "1",
          "histogram": [
           {
            "bin_start": 0,
            "bin_end": 0.1,
            "count": 2
           },
           {
            "bin_start": 0.1,
            "bin_end": 0.2,
            "count": 0
           },
           {
            "bin_start": 0.2,
            "bin_end": 0.30000000000000004,
            "count": 0
           },
           {
            "bin_start": 0.30000000000000004,
            "bin_end": 0.4,
            "count": 0
           },
           {
            "bin_start": 0.4,
            "bin_end": 0.5,
            "count": 0
           },
           {
            "bin_start": 0.5,
            "bin_end": 0.6000000000000001,
            "count": 0
           },
           {
            "bin_start": 0.6000000000000001,
            "bin_end": 0.7000000000000001,
            "count": 0
           },
           {
            "bin_start": 0.7000000000000001,
            "bin_end": 0.8,
            "count": 0
           },
           {
            "bin_start": 0.8,
            "bin_end": 0.9,
            "count": 0
           },
           {
            "bin_start": 0.9,
            "bin_end": 1,
            "count": 3
           }
          ]
         }
        },
        {
         "name": "_deepnote_index_column",
         "dtype": "object"
        }
       ],
       "rows": [
        {
         "Revenue": 74401000000,
         "Revenue Growth": -0.0713,
         "Cost of Revenue": 39030000000,
         "Gross Profit": 35371000000,
         "R&D Expenses": 0,
         "SG&A Expense": 21461000000,
         "Operating Expenses": 21461000000,
         "Operating Income": 13910000000,
         "Interest Expense": 709000000,
         "Earnings before Tax": 14494000000,
         "Income Tax Expense": 2851000000,
         "Net Income - Non-Controlling int": 142000000,
         "Net Income - Discontinued ops": -1127000000,
         "Net Income": 11643000000,
         "Preferred Dividends": 0,
         "Net Income Com": 11643000000,
         "EPS": 4.19,
         "EPS Diluted": 4.01,
         "Weighted Average Shs Out": 2705960276,
         "Weighted Average Shs Out (Dil)": 2705960276,
         "Dividend per Share": 2.448,
         "Gross Margin": 0.4754,
         "EBITDA Margin": 0.247,
         "EBIT Margin": 0.2043,
         "Profit Margin": 0.156,
         "Free Cash Flow margin": 0.1359,
         "EBITDA": 18344000000,
         "EBIT": 15203000000,
         "Consolidated Income": 11785000000,
         "Earnings Before Tax Margin": 0.1948,
         "Net Profit Margin": 0.1565,
         "Cash and cash equivalents": 8558000000,
         "Short-term investments": 2128000000,
         "Cash and short-term investments": 10686000000,
         "Receivables": 6386000000,
         "Inventories": 6759000000,
         "Total current assets": 31617000000,
         "Property, Plant & Equipment Net": 22304000000,
         "Goodwill and Intangible Assets": 84547000000,
         "Long-term investments": 0,
         "Tax assets": 1092000000,
         "Total non-current assets": 112649000000,
         "Total assets": 144266000000,
         "Payables": 8461000000,
         "Short-term debt": 15606000000,
         "Total current liabilities": 33726000000,
         "Long-term debt": 19811000000,
         "Total debt": 35417000000,
         "Deferred revenue": 0,
         "Tax Liabilities": 10218000000,
         "Deposit Liabilities": 0,
         "Total non-current liabilities": 40564000000,
         "Total liabilities": 74290000000,
         "Other comprehensive income": -7662000000,
         "Retained earnings (deficit)": 84990000000,
         "Total shareholders equity": 69976000000,
         "Investments": 2128000000,
         "Net Debt": 24731000000,
         "Other Assets": 7786000000,
         "Other Liabilities": 9659000000,
         "Depreciation & Amortization": 3141000000,
         "Stock-based compensation": 360000000,
         "Operating Cash Flow": 13958000000,
         "Capital Expenditure": -3848000000,
         "Acquisitions and disposals": -24000000,
         "Investment purchases and sales": -805000000,
         "Investing Cash flow": -4100000000,
         "Issuance (repayment) of debt": 3543000000,
         "Issuance (buybacks) of shares": -3911000000,
         "Dividend payments": -6911000000,
         "Financing Cash Flow": -7279000000,
         "Effect of forex changes on cash": 39000000,
         "Net cash flow / Change in cash": 2618000000,
         "Free Cash Flow": 10110000000,
         "Net Cash/Marketcap": -0.1163,
         "priceBookValueRatio": 3.0391,
         "priceToBookRatio": 0,
         "priceToSalesRatio": 2.8583,
         "priceEarningsRatio": 18.7566,
         "priceToFreeCashFlowsRatio": 21.0348,
         "priceToOperatingCashFlowsRatio": 15.2358,
         "priceCashFlowRatio": 12.977500890654,
         "priceEarningsToGrowthRatio": 15.557842259877,
         "priceSalesRatio": 2.4346441234895,
         "dividendYield": 0.038152818947218,
         "enterpriseValueMultiple": 11.421116301338,
         "priceFairValue": 2.5886011980071,
         "ebitperRevenue": 0.20433865136221,
         "ebtperEBIT": 0.9533644675393,
         "niperEBT": 0.8032979163791899,
         "grossProfitMargin": 0.47541027674359,
         "operatingProfitMargin": 1,
         "pretaxProfitMargin": 0.18695985269015,
         "netProfitMargin": 0.15648983212591,
         "effectiveTaxRate": 0.19670208362081,
         "returnOnAssets": 0.5765,
         "returnOnEquity": 0.1664,
         "returnOnCapitalEmployed": 0.0753,
         "nIperEBT": 0.8032979163791899,
         "eBTperEBIT": 0.9533644675393,
         "eBITperRevenue": 0.20433865136221,
         "payablesTurnover": 1.5648,
         "inventoryTurnover": 10.8869,
         "fixedAssetTurnover": 3.3357693687231,
         "assetTurnover": 0.5157209598935301,
         "currentRatio": 0.937,
         "quickRatio": 0.50619699934768,
         "cashRatio": 0.25375081539465,
         "daysOfSalesOutstanding": -63.2087,
         "daysOfInventoryOutstanding": 31.3287,
         "operatingCycle": "nan",
         "daysOfPayablesOutstanding": 41.5084,
         "cashConversionCycle": "nan",
         "debtRatio": 0.2455,
         "debtEquityRatio": 0.5061,
         "longtermDebtToCapitalization": 0.22064441400203,
         "totalDebtToCapitalization": 0.33604698604272,
         "interestCoverage": 21.4429,
         "cashFlowToDebtRatio": 0.39410452607505,
         "companyEquityMultiplier": 2.0616497084715,
         "operatingCashFlowPerShare": 5.1582,
         "freeCashFlowPerShare": 3.964,
         "cashPerShare": 3.1626,
         "payoutRatio": 0.584,
         "operatingCashFlowSalesRatio": 0.18760500530907,
         "freeCashFlowOperatingCashFlowRatio": 0.72431580455653,
         "cashFlowCoverageRatios": 0.39410452607505,
         "shortTermCoverageRatios": 0.8943995899013198,
         "capitalExpenditureCoverageRatios": 3.6273388773389,
         "dividendpaidAndCapexCoverageRatios": 1.2973324658426002,
         "dividendPayoutRatio": 0.5935755389504399,
         "Revenue per Share": 27.4952,
         "Net Income per Share": 4.3027,
         "Operating Cash Flow per Share": 5.1582,
         "Free Cash Flow per Share": 3.964,
         "Cash per Share": 3.1626,
         "Book Value per Share": 25.86,
         "Tangible Book Value per Share": 22.069000000000003,
         "Shareholders Equity per Share": 25.86,
         "Interest Debt per Share": 13.0885,
         "Market Cap": 212661418090.84,
         "Enterprise Value": 237392418090.84,
         "PE ratio": 18.7566,
         "Price to Sales Ratio": 2.8583,
         "POCF ratio": 15.2358,
         "PFCF ratio": 21.0348,
         "PB ratio": 3.0391,
         "PTB ratio": 0,
         "EV to Sales": 3.1907,
         "Enterprise Value over EBITDA": 12.9411,
         "EV to Operating cash flow": 17.0076,
         "EV to Free cash flow": 23.481,
         "Earnings Yield": 0.0533,
         "Free Cash Flow Yield": 0.0475,
         "Debt to Equity": 0.5061,
         "Debt to Assets": 0.2455,
         "Net Debt to EBITDA": 1.3482,
         "Current ratio": 0.937,
         "Interest Coverage": 21.4429,
         "Income Quality": 1.1988,
         "Dividend Yield": 0.0311,
         "Payout Ratio": 0.584,
         "SG&A to Revenue": 0.2885,
         "R&D to Revenue": 0,
         "Intangibles to Total Assets": 0.586,
         "Capex to Operating Cash Flow": 0.2757,
         "Capex to Revenue": 0.0517,
         "Capex to Depreciation": -1.2251,
         "Stock-based compensation to Revenue": 0.0048,
         "Graham Number": 49.3756,
         "ROIC": 0.0753,
         "Return on Tangible Assets": 0.5765,
         "Graham Net-Net": -0.2007,
         "Working Capital": -2109000000,
         "Tangible Asset Value": 59719000000,
         "Net Current Asset Value": -42673000000,
         "Invested Capital": 52852000000,
         "Average Receivables": 6447000000,
         "Average Payables": 8619000000,
         "Average Inventory": 6834000000,
         "Days Sales Outstanding": 31.3287,
         "Days Payables Outstanding": 41.5084,
         "Days of Inventory on Hand": -63.2087,
         "Receivables Turnover": 11.5404,
         "Payables Turnover": 1.5648,
         "Inventory Turnover": 10.8869,
         "ROE": 0.1664,
         "Capex per Share": -1.422,
         "Gross Profit Growth": -0.1185,
         "EBIT Growth": -0.0001,
         "Operating Income Growth": 0.0067,
         "Net Income Growth": 0.0293,
         "EPS Growth": 0.0371,
         "EPS Diluted Growth": 0.0389,
         "Weighted Average Shares Growth": -0.0127,
         "Weighted Average Shares Diluted Growth": "nan",
         "Dividends per Share Growth": 0.0699,
         "Operating Cash Flow growth": -0.0615,
         "Free Cash Flow growth": -0.0695,
         "10Y Revenue Growth (per Share)": 0.0323,
         "5Y Revenue Growth (per Share)": 0.0088,
         "3Y Revenue Growth (per Share)": -0.0182,
         "10Y Operating CF Growth (per Share)": 0.0355,
         "5Y Operating CF Growth (per Share)": 0.0015,
         "3Y Operating CF Growth (per Share)": 0.026,
         "10Y Net Income Growth (per Share)": 0.0603,
         "5Y Net Income Growth (per Share)": -0.0137,
         "3Y Net Income Growth (per Share)": 0.006,
         "10Y Shareholders Equity Growth (per Share)": 0.1442,
         "5Y Shareholders Equity Growth (per Share)": 0.0353,
         "3Y Shareholders Equity Growth (per Share)": 0.0201,
         "10Y Dividend per Share Growth (per Share)": 0.1013,
         "5Y Dividend per Share Growth (per Share)": 0.0834,
         "3Y Dividend per Share Growth (per Share)": 0.0751,
         "Receivables growth": -0.0187,
         "Inventory Growth": -0.0217,
         "Asset Growth": 0.0359,
         "Book Value per Share Growth": 0.0316,
         "Debt Growth": 0.1228,
         "R&D Expense Growth": 0,
         "SG&A Expenses Growth": -0.1746,
         "Sector": "Consumer Defensive",
         "2015 PRICE VAR [%]": -9.323275997445537,
         "Class": 0,
         "_deepnote_index_column": "PG"
        },
        {
         "Revenue": 3734148046.4966,
         "Revenue Growth": 1.1737,
         "Cost of Revenue": 2805625443.978,
         "Gross Profit": 928522602.5186,
         "R&D Expenses": 108330319.6642,
         "SG&A Expense": 344141427.1876,
         "Operating Expenses": 793926703.2612,
         "Operating Income": 134595899.2573,
         "Interest Expense": 12148692.2829,
         "Earnings before Tax": 175382305.4569,
         "Income Tax Expense": 39559573.7811,
         "Net Income - Non-Controlling int": -14319179.8515,
         "Net Income - Discontinued ops": 0,
         "Net Income": 135822731.6758,
         "Preferred Dividends": 0,
         "Net Income Com": 135822731.6758,
         "EPS": 0.2396,
         "EPS Diluted": 0.226,
         "Weighted Average Shs Out": "nan",
         "Weighted Average Shs Out (Dil)": 18293619.9548,
         "Dividend per Share": 0,
         "Gross Margin": 0.2487,
         "EBITDA Margin": 0.0107,
         "EBIT Margin": 0.0502,
         "Profit Margin": 0.0058,
         "Free Cash Flow margin": 0.0704,
         "EBITDA": 245685824.9919,
         "EBIT": 187530997.7397,
         "Consolidated Income": 121503551.8243,
         "Earnings Before Tax Margin": 0.047,
         "Net Profit Margin": 0.0364,
         "Cash and cash equivalents": 773514853.0836,
         "Short-term investments": 608385211.495,
         "Cash and short-term investments": 1381900064.5786,
         "Receivables": 11694865.9994,
         "Inventories": 579319341.298,
         "Total current assets": 2134396835.6474,
         "Property, Plant & Equipment Net": 308597513.723,
         "Goodwill and Intangible Assets": 190658701.9696,
         "Long-term investments": 62993542.1376,
         "Tax assets": 37641104.2945,
         "Total non-current assets": 602290442.3636,
         "Total assets": 2736687278.011,
         "Payables": 1000490797.546,
         "Short-term debt": 0,
         "Total current liabilities": 1639536809.816,
         "Long-term debt": 622374071.6823,
         "Total debt": 622374071.6823,
         "Deferred revenue": 31411042.9448,
         "Tax Liabilities": 0,
         "Deposit Liabilities": 0,
         "Total non-current liabilities": 661556667.743,
         "Total liabilities": 2301093477.5589,
         "Other comprehensive income": -1729254.1169,
         "Retained earnings (deficit)": 4285437.5202,
         "Total shareholders equity": 412354536.6484,
         "Investments": 671378753.6325,
         "Net Debt": "nan",
         "Other Assets": "nan",
         "Other Liabilities": 639046012.27,
         "Depreciation & Amortization": 58154827.2522,
         "Stock-based compensation": 36405230.8686,
         "Operating Cash Flow": 526745560.2196,
         "Capital Expenditure": -263704552.793,
         "Acquisitions and disposals": -192255247.0132,
         "Investment purchases and sales": -212644656.1188,
         "Investing Cash flow": -686693574.4269,
         "Issuance (repayment) of debt": 619326767.8398,
         "Issuance (buybacks) of shares": 1767839.845,
         "Dividend payments": 0,
         "Financing Cash Flow": 621913626.0898,
         "Effect of forex changes on cash": -15648692.2829,
         "Net cash flow / Change in cash": 446316919.5996,
         "Free Cash Flow": 263041007.4265,
         "Net Cash/Marketcap": 0.0956,
         "priceBookValueRatio": "nan",
         "priceToBookRatio": "nan",
         "priceToSalesRatio": 0.0443,
         "priceEarningsRatio": 81.5526,
         "priceToFreeCashFlowsRatio": 1.3589,
         "priceToOperatingCashFlowsRatio": "nan",
         "priceCashFlowRatio": 0.67861480174179,
         "priceEarningsToGrowthRatio": 2.6317931432127,
         "priceSalesRatio": 0.095726610050226,
         "dividendYield": 0,
         "enterpriseValueMultiple": 7.136538132554,
         "priceFairValue": 0.86686892503279,
         "ebitperRevenue": 0.0502205577830909,
         "ebtperEBIT": 0.93521768438697,
         "niperEBT": 0.7744380558914399,
         "grossProfitMargin": 0.24865714775014,
         "operatingProfitMargin": 1,
         "pretaxProfitMargin": 0.036044607118236,
         "netProfitMargin": 0.036373151247506,
         "effectiveTaxRate": 0.22556194410856,
         "returnOnAssets": 0.0403,
         "returnOnEquity": 0.3294,
         "returnOnCapitalEmployed": 0,
         "nIperEBT": 0.7744380558914399,
         "eBTperEBIT": 0.93521768438697,
         "eBITperRevenue": 0.0502205577830909,
         "payablesTurnover": "nan",
         "inventoryTurnover": "nan",
         "fixedAssetTurnover": 12.100382797797,
         "assetTurnover": 1.3644774382883,
         "currentRatio": 0.2102,
         "quickRatio": 0.8499930725766399,
         "cashRatio": 0.47178864692304,
         "daysOfSalesOutstanding": -75.367,
         "daysOfInventoryOutstanding": 1.1431,
         "operatingCycle": "nan",
         "daysOfPayablesOutstanding": 97.7945,
         "cashConversionCycle": "nan",
         "debtRatio": 0.2274,
         "debtEquityRatio": 1.5093,
         "longtermDebtToCapitalization": 0.6014853234669499,
         "totalDebtToCapitalization": 0.6014853234669499,
         "interestCoverage": 15.4363,
         "cashFlowToDebtRatio": 0.84634881847791,
         "companyEquityMultiplier": 6.6367337686028005,
         "operatingCashFlowPerShare": 35.6714,
         "freeCashFlowPerShare": 22.976,
         "cashPerShare": 52.3827,
         "payoutRatio": 0,
         "operatingCashFlowSalesRatio": 0.14106177732128,
         "freeCashFlowOperatingCashFlowRatio": 0.49937014621792,
         "cashFlowCoverageRatios": 0.84634881847791,
         "shortTermCoverageRatios": "nan",
         "capitalExpenditureCoverageRatios": 1.9974837546058,
         "dividendpaidAndCapexCoverageRatios": 1.9974837546058,
         "dividendPayoutRatio": 0,
         "Revenue per Share": 252.8778,
         "Net Income per Share": 9.198,
         "Operating Cash Flow per Share": 35.6714,
         "Free Cash Flow per Share": 22.976,
         "Cash per Share": 52.3827,
         "Book Value per Share": 0.7278,
         "Tangible Book Value per Share": 4.4939,
         "Shareholders Equity per Share": 27.9248,
         "Interest Debt per Share": 42.1474,
         "Market Cap": 6253200000,
         "Enterprise Value": "nan",
         "PE ratio": 81.5526,
         "Price to Sales Ratio": 0.0443,
         "POCF ratio": "nan",
         "PFCF ratio": 1.3589,
         "PB ratio": "nan",
         "PTB ratio": "nan",
         "EV to Sales": "nan",
         "Enterprise Value over EBITDA": "nan",
         "EV to Operating cash flow": "nan",
         "EV to Free cash flow": "nan",
         "Earnings Yield": 0.0123,
         "Free Cash Flow Yield": "nan",
         "Debt to Equity": 1.5093,
         "Debt to Assets": 0.2274,
         "Net Debt to EBITDA": "nan",
         "Current ratio": 0.2102,
         "Interest Coverage": 15.4363,
         "Income Quality": 3.8782,
         "Dividend Yield": 0,
         "Payout Ratio": 0,
         "SG&A to Revenue": 0.0922,
         "R&D to Revenue": 0.0289999999999999,
         "Intangibles to Total Assets": 0.0697,
         "Capex to Operating Cash Flow": 0.5006,
         "Capex to Revenue": 0.0706,
         "Capex to Depreciation": -4.5345,
         "Stock-based compensation to Revenue": 0.0097,
         "Graham Number": "nan",
         "ROIC": 0,
         "Return on Tangible Assets": 0.0403,
         "Graham Net-Net": 0.0534,
         "Working Capital": 3065163000,
         "Tangible Asset Value": 2546028576.0413,
         "Net Current Asset Value": -166696641.9115,
         "Invested Capital": 755350984.8239999,
         "Average Receivables": "nan",
         "Average Payables": "nan",
         "Average Inventory": "nan",
         "Days Sales Outstanding": 1.1431,
         "Days Payables Outstanding": 97.7945,
         "Days of Inventory on Hand": -75.367,
         "Receivables Turnover": "nan",
         "Payables Turnover": "nan",
         "Inventory Turnover": "nan",
         "ROE": 0.3294,
         "Capex per Share": -17.8582,
         "Gross Profit Growth": 1.2489,
         "EBIT Growth": 1.6142,
         "Operating Income Growth": 1.9463,
         "Net Income Growth": 1.5649,
         "EPS Growth": 1.4625,
         "EPS Diluted Growth": 1.4646,
         "Weighted Average Shares Growth": 0.0184,
         "Weighted Average Shares Diluted Growth": 0.0195,
         "Dividends per Share Growth": 0,
         "Operating Cash Flow growth": 0.2134,
         "Free Cash Flow growth": -0.3626,
         "10Y Revenue Growth (per Share)": "nan",
         "5Y Revenue Growth (per Share)": "nan",
         "3Y Revenue Growth (per Share)": "nan",
         "10Y Operating CF Growth (per Share)": "nan",
         "5Y Operating CF Growth (per Share)": "nan",
         "3Y Operating CF Growth (per Share)": "nan",
         "10Y Net Income Growth (per Share)": "nan",
         "5Y Net Income Growth (per Share)": "nan",
         "3Y Net Income Growth (per Share)": "nan",
         "10Y Shareholders Equity Growth (per Share)": "nan",
         "5Y Shareholders Equity Growth (per Share)": "nan",
         "3Y Shareholders Equity Growth (per Share)": "nan",
         "10Y Dividend per Share Growth (per Share)": "nan",
         "5Y Dividend per Share Growth (per Share)": "nan",
         "3Y Dividend per Share Growth (per Share)": "nan",
         "Receivables growth": "nan",
         "Inventory Growth": "nan",
         "Asset Growth": "nan",
         "Book Value per Share Growth": "nan",
         "Debt Growth": "nan",
         "R&D Expense Growth": 1.6484,
         "SG&A Expenses Growth": 1.7313,
         "Sector": "Consumer Defensive",
         "2015 PRICE VAR [%]": -25.512192888957696,
         "Class": 0,
         "_deepnote_index_column": "VIPS"
        },
        {
         "Revenue": 98375000000,
         "Revenue Growth": 0.0182,
         "Cost of Revenue": 78138000000,
         "Gross Profit": 20237000000,
         "R&D Expenses": 0,
         "SG&A Expense": 15196000000,
         "Operating Expenses": 17512000000,
         "Operating Income": 2725000000,
         "Interest Expense": 443000000,
         "Earnings before Tax": 2270000000,
         "Income Tax Expense": 751000000,
         "Net Income - Non-Controlling int": 12000000,
         "Net Income - Discontinued ops": 0,
         "Net Income": 1519000000,
         "Preferred Dividends": 0,
         "Net Income Com": 1519000000,
         "EPS": 1.47,
         "EPS Diluted": 1.45,
         "Weighted Average Shs Out": 1033052512,
         "Weighted Average Shs Out (Dil)": 1028000000,
         "Dividend per Share": 0.307,
         "Gross Margin": 0.2057,
         "EBITDA Margin": 0.045,
         "EBIT Margin": 0.0276,
         "Profit Margin": 0.015,
         "Free Cash Flow margin": 0.0126,
         "EBITDA": 4416000000,
         "EBIT": 2713000000,
         "Consolidated Income": 1531000000,
         "Earnings Before Tax Margin": 0.0231,
         "Net Profit Margin": 0.0154,
         "Cash and cash equivalents": 401000000,
         "Short-term investments": 0,
         "Cash and short-term investments": 401000000,
         "Receivables": 1116000000,
         "Inventories": 5651000000,
         "Total current assets": 8830000000,
         "Property, Plant & Equipment Net": 16893000000,
         "Goodwill and Intangible Assets": 2837000000,
         "Long-term investments": 0,
         "Tax assets": 0,
         "Total non-current assets": 20451000000,
         "Total assets": 29281000000,
         "Payables": 4881000000,
         "Short-term debt": 1657000000,
         "Total current liabilities": 10705000000,
         "Long-term debt": 9653000000,
         "Total debt": 11310000000,
         "Deferred revenue": 0,
         "Tax Liabilities": 1629000000,
         "Deposit Liabilities": 0,
         "Total non-current liabilities": 13181000000,
         "Total liabilities": 23886000000,
         "Other comprehensive income": -464000000,
         "Retained earnings (deficit)": 10981000000,
         "Total shareholders equity": 5384000000,
         "Investments": 0,
         "Net Debt": 10909000000,
         "Other Assets": 1662000000,
         "Other Liabilities": 4167000000,
         "Depreciation & Amortization": 1703000000,
         "Stock-based compensation": 107000000,
         "Operating Cash Flow": 3573000000,
         "Capital Expenditure": -2330000000,
         "Acquisitions and disposals": -2344000000,
         "Investment purchases and sales": 0,
         "Investing Cash flow": -4771000000,
         "Issuance (repayment) of debt": 2093000000,
         "Issuance (buybacks) of shares": -413000000,
         "Dividend payments": -319000000,
         "Financing Cash Flow": 1361000000,
         "Effect of forex changes on cash": 0,
         "Net cash flow / Change in cash": 163000000,
         "Free Cash Flow": 1243000000,
         "Net Cash/Marketcap": -0.5969,
         "priceBookValueRatio": 3.3579,
         "priceToBookRatio": 7.0982,
         "priceToSalesRatio": 0.1858,
         "priceEarningsRatio": 12.034,
         "priceToFreeCashFlowsRatio": 14.6302,
         "priceToOperatingCashFlowsRatio": 5.1147,
         "priceCashFlowRatio": 0,
         "priceEarningsToGrowthRatio": 0,
         "priceSalesRatio": 0,
         "dividendYield": "nan",
         "enterpriseValueMultiple": 2.2767210144928,
         "priceFairValue": 0,
         "ebitperRevenue": 0.0275781448538749,
         "ebtperEBIT": 0.8367121267969,
         "niperEBT": 0.6691629955947099,
         "grossProfitMargin": 0.20571283354511,
         "operatingProfitMargin": 1,
         "pretaxProfitMargin": 0.0277001270648029,
         "netProfitMargin": 0.0154409148665819,
         "effectiveTaxRate": 0.3308370044052899,
         "returnOnAssets": 0.1011,
         "returnOnEquity": 0.2821,
         "returnOnCapitalEmployed": 0.0859,
         "nIperEBT": 0.6691629955947099,
         "eBTperEBIT": 0.8367121267969,
         "eBITperRevenue": 0.0275781448538749,
         "payablesTurnover": 4.9593,
         "inventoryTurnover": 18.2227,
         "fixedAssetTurnover": 5.823417983780299,
         "assetTurnover": 3.3596871691541,
         "currentRatio": 0.825,
         "quickRatio": 0.14170948155068,
         "cashRatio": 0.037459131247081,
         "daysOfSalesOutstanding": -26.3971,
         "daysOfInventoryOutstanding": 4.1407,
         "operatingCycle": "nan",
         "daysOfPayablesOutstanding": 18.1099,
         "cashConversionCycle": "nan",
         "debtRatio": 0.3863,
         "debtEquityRatio": 2.1007,
         "longtermDebtToCapitalization": 0.64194985701935,
         "totalDebtToCapitalization": 0.6774889181741899,
         "interestCoverage": 6.1242,
         "cashFlowToDebtRatio": 0.3159151193634,
         "companyEquityMultiplier": 5.4385215453195,
         "operatingCashFlowPerShare": 3.4757,
         "freeCashFlowPerShare": 0.8370000000000001,
         "cashPerShare": 0.3901,
         "payoutRatio": 0.209,
         "operatingCashFlowSalesRatio": 0.0363202033036849,
         "freeCashFlowOperatingCashFlowRatio": 0.3478869297509099,
         "cashFlowCoverageRatios": 0.3159151193634,
         "shortTermCoverageRatios": 2.1563065781533,
         "capitalExpenditureCoverageRatios": 1.5334763948498005,
         "dividendpaidAndCapexCoverageRatios": 1.3488108720271998,
         "dividendPayoutRatio": 0.21000658327847,
         "Revenue per Share": 95.6955,
         "Net Income per Share": 1.4776,
         "Operating Cash Flow per Share": 3.4757,
         "Free Cash Flow per Share": 0.8370000000000001,
         "Cash per Share": 0.3901,
         "Book Value per Share": 5.237,
         "Tangible Book Value per Share": 25.724,
         "Shareholders Equity per Share": 5.2374,
         "Interest Debt per Share": 11.0019,
         "Market Cap": 18274698937.28,
         "Enterprise Value": 29183698937.28,
         "PE ratio": 12.034,
         "Price to Sales Ratio": 0.1858,
         "POCF ratio": 5.1147,
         "PFCF ratio": 14.6302,
         "PB ratio": 3.3579,
         "PTB ratio": 7.0982,
         "EV to Sales": 0.2967,
         "Enterprise Value over EBITDA": 6.6086,
         "EV to Operating cash flow": 8.1678,
         "EV to Free cash flow": 23.4784,
         "Earnings Yield": 0.0831,
         "Free Cash Flow Yield": 0.068,
         "Debt to Equity": 2.1007,
         "Debt to Assets": 0.3863,
         "Net Debt to EBITDA": 2.4703,
         "Current ratio": 0.825,
         "Interest Coverage": 6.1242,
         "Income Quality": 2.3522,
         "Dividend Yield": 0.0174,
         "Payout Ratio": 0.209,
         "SG&A to Revenue": 0.1545,
         "R&D to Revenue": 0,
         "Intangibles to Total Assets": 0.0969,
         "Capex to Operating Cash Flow": 0.6521,
         "Capex to Revenue": 0.0237,
         "Capex to Depreciation": -1.3682,
         "Stock-based compensation to Revenue": 0.0011,
         "Graham Number": 13.2,
         "ROIC": 0.0859,
         "Return on Tangible Assets": 0.1011,
         "Graham Net-Net": -0.8239,
         "Working Capital": -1875000000,
         "Tangible Asset Value": 26444000000,
         "Net Current Asset Value": -15056000000,
         "Invested Capital": 26648000000,
         "Average Receivables": 1083500000,
         "Average Payables": 4682500000,
         "Average Inventory": 5398500000,
         "Days Sales Outstanding": 4.1407,
         "Days Payables Outstanding": 18.1099,
         "Days of Inventory on Hand": -26.3971,
         "Receivables Turnover": 90.7937,
         "Payables Turnover": 4.9593,
         "Inventory Turnover": 18.2227,
         "ROE": 0.2821,
         "Capex per Share": -2.2665,
         "Gross Profit Growth": 0.0173,
         "EBIT Growth": -0.0145,
         "Operating Income Growth": -0.0141,
         "Net Income Growth": 0.0147,
         "EPS Growth": 0.0576,
         "EPS Diluted Growth": 0.0469,
         "Weighted Average Shares Growth": -0.0356,
         "Weighted Average Shares Diluted Growth": -0.0317,
         "Dividends per Share Growth": 0.2429,
         "Operating Cash Flow growth": 0.2095,
         "Free Cash Flow growth": 0.3935,
         "10Y Revenue Growth (per Share)": 0.1027,
         "5Y Revenue Growth (per Share)": 0.1038,
         "3Y Revenue Growth (per Share)": 0.1399,
         "10Y Operating CF Growth (per Share)": 0.0889,
         "5Y Operating CF Growth (per Share)": 0.0937,
         "3Y Operating CF Growth (per Share)": 0.0946,
         "10Y Net Income Growth (per Share)": 0.2272,
         "5Y Net Income Growth (per Share)": 0.0906,
         "3Y Net Income Growth (per Share)": 0.1892,
         "10Y Shareholders Equity Growth (per Share)": 0.0676,
         "5Y Shareholders Equity Growth (per Share)": 0.0558,
         "3Y Shareholders Equity Growth (per Share)": 0.0789,
         "10Y Dividend per Share Growth (per Share)": 0,
         "5Y Dividend per Share Growth (per Share)": 0.1215,
         "3Y Dividend per Share Growth (per Share)": 0.1633,
         "Receivables growth": 0.0618,
         "Inventory Growth": 0.0981,
         "Asset Growth": 0.1886,
         "Book Value per Share Growth": 0.3268,
         "Debt Growth": 0.2738,
         "R&D Expense Growth": 0,
         "SG&A Expenses Growth": 0.0234,
         "Sector": "Consumer Defensive",
         "2015 PRICE VAR [%]": 33.11829671550496,
         "Class": 1,
         "_deepnote_index_column": "KR"
        },
        {
         "Revenue": 25526413000,
         "Revenue Growth": 0.0053,
         "Cost of Revenue": 18202679000,
         "Gross Profit": 7323734000,
         "R&D Expenses": 0,
         "SG&A Expense": 6561162000,
         "Operating Expenses": 6586482000,
         "Operating Income": 737252000,
         "Interest Expense": 424591000,
         "Earnings before Tax": 250218000,
         "Income Tax Expense": 804000,
         "Net Income - Non-Controlling int": 0,
         "Net Income - Discontinued ops": 0,
         "Net Income": 249414000,
         "Preferred Dividends": 33998000,
         "Net Income Com": 215416000,
         "EPS": 4.6,
         "EPS Diluted": 4.6,
         "Weighted Average Shs Out": 48326279,
         "Weighted Average Shs Out (Dil)": 48326279,
         "Dividend per Share": 0,
         "Gross Margin": 0.2869,
         "EBITDA Margin": 0.042,
         "EBIT Margin": 0.0264,
         "Profit Margin": 0.008,
         "Free Cash Flow margin": 0.0144,
         "EBITDA": 1078550000,
         "EBIT": 674809000,
         "Consolidated Income": 249414000,
         "Earnings Before Tax Margin": 0.0098,
         "Net Profit Margin": 0.0098,
         "Cash and cash equivalents": 146406000,
         "Short-term investments": 0,
         "Cash and short-term investments": 146406000,
         "Receivables": 949062000,
         "Inventories": 2993948000,
         "Total current assets": 4285125000,
         "Property, Plant & Equipment Net": 1957329000,
         "Goodwill and Intangible Assets": 431227000,
         "Long-term investments": 0,
         "Tax assets": 0,
         "Total non-current assets": 2659746000,
         "Total assets": 6944871000,
         "Payables": 1292419000,
         "Short-term debt": 49174000,
         "Total current liabilities": 2507452000,
         "Long-term debt": 5707969000,
         "Total debt": 5757143000,
         "Deferred revenue": 0,
         "Tax Liabilities": 0,
         "Deposit Liabilities": 0,
         "Total non-current liabilities": 6551121000,
         "Total liabilities": 9058573000,
         "Other comprehensive income": -37334000,
         "Retained earnings (deficit)": -7515848000,
         "Total shareholders equity": -2113702000,
         "Investments": 0,
         "Net Debt": 5610737000,
         "Other Assets": 195709000,
         "Other Liabilities": 1165859000,
         "Depreciation & Amortization": 403741000,
         "Stock-based compensation": -10471000,
         "Operating Cash Flow": 702046000,
         "Capital Expenditure": -333870000,
         "Acquisitions and disposals": 0,
         "Investment purchases and sales": 41155000,
         "Investing Cash flow": -364924000,
         "Issuance (repayment) of debt": -295435000,
         "Issuance (buybacks) of shares": 33217000,
         "Dividend payments": 0,
         "Financing Cash Flow": -320168000,
         "Effect of forex changes on cash": 0,
         "Net cash flow / Change in cash": 16954000,
         "Free Cash Flow": 368176000,
         "Net Cash/Marketcap": -0.8822,
         "priceBookValueRatio": 0,
         "priceToBookRatio": 0,
         "priceToSalesRatio": 0.2491,
         "priceEarningsRatio": 28.6087,
         "priceToFreeCashFlowsRatio": 17.2736,
         "priceToOperatingCashFlowsRatio": 9.0589,
         "priceCashFlowRatio": 0,
         "priceEarningsToGrowthRatio": 0,
         "priceSalesRatio": 0,
         "dividendYield": "nan",
         "enterpriseValueMultiple": 5.428005192156099,
         "priceFairValue": "nan",
         "ebitperRevenue": 0.0264357158210989,
         "ebtperEBIT": 0.3707982555063699,
         "niperEBT": 0.99678680190874,
         "grossProfitMargin": 0.28690807439337,
         "operatingProfitMargin": 1,
         "pretaxProfitMargin": 0.0288819271238779,
         "netProfitMargin": 0.0097708205222567,
         "effectiveTaxRate": 0.0032131980912644,
         "returnOnAssets": 0.0668,
         "returnOnEquity": -0.118,
         "returnOnCapitalEmployed": 0.1062,
         "nIperEBT": 0.99678680190874,
         "eBTperEBIT": 0.3707982555063699,
         "eBITperRevenue": 0.0264357158210989,
         "payablesTurnover": 4.9289,
         "inventoryTurnover": 8.302999999999999,
         "fixedAssetTurnover": 13.041452407848,
         "assetTurnover": 3.6755777033152,
         "currentRatio": 1.709,
         "quickRatio": 0.43688493339055,
         "cashRatio": 0.0583883559884699,
         "daysOfSalesOutstanding": -60.0346,
         "daysOfInventoryOutstanding": 13.5706,
         "operatingCycle": "nan",
         "daysOfPayablesOutstanding": 18.4802,
         "cashConversionCycle": "nan",
         "debtRatio": 0.8290000000000001,
         "debtEquityRatio": -2.7237,
         "longtermDebtToCapitalization": 1.5880759554034,
         "totalDebtToCapitalization": 1.5801389400844,
         "interestCoverage": 1.5893,
         "cashFlowToDebtRatio": 0.12194347091952,
         "companyEquityMultiplier": "nan",
         "operatingCashFlowPerShare": 14.5272,
         "freeCashFlowPerShare": 0.557,
         "cashPerShare": 3.0295,
         "payoutRatio": 0,
         "operatingCashFlowSalesRatio": 0.027502728252497,
         "freeCashFlowOperatingCashFlowRatio": 0.5244328719200699,
         "cashFlowCoverageRatios": 0.12194347091952,
         "shortTermCoverageRatios": 14.276772278033,
         "capitalExpenditureCoverageRatios": 2.1027525683649,
         "dividendpaidAndCapexCoverageRatios": 2.1027525683649,
         "dividendPayoutRatio": 0,
         "Revenue per Share": 528.2098,
         "Net Income per Share": 5.1610000000000005,
         "Operating Cash Flow per Share": 14.5272,
         "Free Cash Flow per Share": 0.557,
         "Cash per Share": 3.0295,
         "Book Value per Share": -43.738,
         "Tangible Book Value per Share": 134.785,
         "Shareholders Equity per Share": -43.7381,
         "Interest Debt per Share": 119.1307,
         "Market Cap": 6359738316.4,
         "Enterprise Value": 11970475316.4,
         "PE ratio": 28.6087,
         "Price to Sales Ratio": 0.2491,
         "POCF ratio": 9.0589,
         "PFCF ratio": 17.2736,
         "PB ratio": 0,
         "PTB ratio": 0,
         "EV to Sales": 0.4689,
         "Enterprise Value over EBITDA": 11.0987,
         "EV to Operating cash flow": 17.0508,
         "EV to Free cash flow": 32.5129,
         "Earnings Yield": 0.035,
         "Free Cash Flow Yield": 0.0579,
         "Debt to Equity": -2.7237,
         "Debt to Assets": 0.8290000000000001,
         "Net Debt to EBITDA": 5.2021,
         "Current ratio": 1.709,
         "Interest Coverage": 1.5893,
         "Income Quality": 3.259,
         "Dividend Yield": 0,
         "Payout Ratio": 0,
         "SG&A to Revenue": 0.257,
         "R&D to Revenue": 0,
         "Intangibles to Total Assets": 0.0621,
         "Capex to Operating Cash Flow": 0.4756,
         "Capex to Revenue": 0.0131,
         "Capex to Depreciation": -0.8269,
         "Stock-based compensation to Revenue": -0.0004,
         "Graham Number": 0,
         "ROIC": 0.1062,
         "Return on Tangible Assets": 0.0668,
         "Graham Net-Net": -0.7506,
         "Working Capital": 1777673000,
         "Tangible Asset Value": 6513644000,
         "Net Current Asset Value": -4773448000,
         "Invested Capital": 9616929000,
         "Average Receivables": 939269000,
         "Average Payables": 1338531500,
         "Average Inventory": 3074345000,
         "Days Sales Outstanding": 13.5706,
         "Days Payables Outstanding": 18.4802,
         "Days of Inventory on Hand": -60.0346,
         "Receivables Turnover": 27.1769,
         "Payables Turnover": 4.9289,
         "Inventory Turnover": 8.302999999999999,
         "ROE": -0.118,
         "Capex per Share": -6.9087,
         "Gross Profit Growth": 0.0007,
         "EBIT Growth": 0.2904,
         "Operating Income Growth": 0.1113,
         "Net Income Growth": 1.0043,
         "EPS Growth": 0.9167,
         "EPS Diluted Growth": 0.9167,
         "Weighted Average Shares Growth": 0.0694,
         "Weighted Average Shares Diluted Growth": "nan",
         "Dividends per Share Growth": 0,
         "Operating Cash Flow growth": -0.1434,
         "Free Cash Flow growth": -0.2691,
         "10Y Revenue Growth (per Share)": -0.0195,
         "5Y Revenue Growth (per Share)": -0.0289999999999999,
         "3Y Revenue Growth (per Share)": -0.023,
         "10Y Operating CF Growth (per Share)": 0.0513,
         "5Y Operating CF Growth (per Share)": 0.1164,
         "3Y Operating CF Growth (per Share)": 0.1777,
         "10Y Net Income Growth (per Share)": 0.048,
         "5Y Net Income Growth (per Share)": 0,
         "3Y Net Income Growth (per Share)": 0,
         "10Y Shareholders Equity Growth (per Share)": 0,
         "5Y Shareholders Equity Growth (per Share)": 0,
         "3Y Shareholders Equity Growth (per Share)": 0,
         "10Y Dividend per Share Growth (per Share)": 0,
         "5Y Dividend per Share Growth (per Share)": 0,
         "3Y Dividend per Share Growth (per Share)": 0,
         "Receivables growth": 0.0211,
         "Inventory Growth": -0.051,
         "Asset Growth": -0.0189,
         "Book Value per Share Growth": 0.1963,
         "Debt Growth": -0.0458,
         "R&D Expense Growth": 0,
         "SG&A Expenses Growth": -0.006,
         "Sector": "Consumer Defensive",
         "2015 PRICE VAR [%]": 2.7522914680574364,
         "Class": 1,
         "_deepnote_index_column": "RAD"
        },
        {
         "Revenue": 17909600000,
         "Revenue Growth": 0.0076,
         "Cost of Revenue": 11539800000,
         "Gross Profit": 6369800000,
         "R&D Expenses": 0,
         "SG&A Expense": 3474300000,
         "Operating Expenses": 3412400000,
         "Operating Income": 2957400000,
         "Interest Expense": 302400000,
         "Earnings before Tax": 2707700000,
         "Income Tax Expense": 883300000,
         "Net Income - Non-Controlling int": 36900000,
         "Net Income - Discontinued ops": 0,
         "Net Income": 1824400000,
         "Preferred Dividends": 0,
         "Net Income Com": 1824400000,
         "EPS": 2.9,
         "EPS Diluted": 2.83,
         "Weighted Average Shs Out": 614492206,
         "Weighted Average Shs Out (Dil)": 614492206,
         "Dividend per Share": 1.55,
         "Gross Margin": 0.3557,
         "EBITDA Margin": 0.201,
         "EBIT Margin": 0.1681,
         "Profit Margin": 0.102,
         "Free Cash Flow margin": 0.1052,
         "EBITDA": 3595500000,
         "EBIT": 3010100000,
         "Consolidated Income": 1861300000,
         "Earnings Before Tax Margin": 0.1512,
         "Net Profit Margin": 0.1019,
         "Cash and cash equivalents": 867300000,
         "Short-term investments": 0,
         "Cash and short-term investments": 867300000,
         "Receivables": 1483600000,
         "Inventories": 1559400000,
         "Total current assets": 4393500000,
         "Property, Plant & Equipment Net": 3941900000,
         "Goodwill and Intangible Assets": 13664800000,
         "Long-term investments": 0,
         "Tax assets": 74100000,
         "Total non-current assets": 18752200000,
         "Total assets": 23145700000,
         "Payables": 1611300000,
         "Short-term debt": 2362300000,
         "Total current liabilities": 5423500000,
         "Long-term debt": 6423500000,
         "Total debt": 8785800000,
         "Deferred revenue": 0,
         "Tax Liabilities": 1666000000,
         "Deposit Liabilities": 0,
         "Total non-current liabilities": 9732700000,
         "Total liabilities": 15156200000,
         "Other comprehensive income": -1340300000,
         "Retained earnings (deficit)": 11787200000,
         "Total shareholders equity": 6534800000,
         "Investments": 0,
         "Net Debt": 7918500000,
         "Other Assets": 483200000,
         "Other Liabilities": 1449900000,
         "Depreciation & Amortization": 585400000,
         "Stock-based compensation": 39200000,
         "Operating Cash Flow": 2541000000,
         "Capital Expenditure": -656900000,
         "Acquisitions and disposals": 66700000,
         "Investment purchases and sales": 29300000,
         "Investing Cash flow": -561800000,
         "Issuance (repayment) of debt": 801100000,
         "Issuance (buybacks) of shares": -1637200000,
         "Dividend payments": -983300000,
         "Financing Cash Flow": -1824100000,
         "Effect of forex changes on cash": -29200000,
         "Net cash flow / Change in cash": 125900000,
         "Free Cash Flow": 1884100000,
         "Net Cash/Marketcap": -0.2376,
         "priceBookValueRatio": 5.1004,
         "priceToBookRatio": 0,
         "priceToSalesRatio": 1.861,
         "priceEarningsRatio": 18.7034,
         "priceToFreeCashFlowsRatio": 17.6902,
         "priceToOperatingCashFlowsRatio": 13.1169,
         "priceCashFlowRatio": 10.952350202753,
         "priceEarningsToGrowthRatio": 15.254287363076,
         "priceSalesRatio": 1.5539108559206,
         "dividendYield": 0.035332474333308,
         "enterpriseValueMultiple": 9.7679660312045,
         "priceFairValue": 4.2587258776391,
         "ebitperRevenue": 0.1680718720686099,
         "ebtperEBIT": 0.89953822132155,
         "niperEBT": 0.67378217675518,
         "grossProfitMargin": 0.3556640014294,
         "operatingProfitMargin": 1,
         "pretaxProfitMargin": 0.16512931612096,
         "netProfitMargin": 0.10186715504534,
         "effectiveTaxRate": 0.32621782324482,
         "returnOnAssets": 0.6265,
         "returnOnEquity": 0.2792,
         "returnOnCapitalEmployed": 0.1041,
         "nIperEBT": 0.67378217675518,
         "eBTperEBIT": 0.89953822132155,
         "eBITperRevenue": 0.1680718720686099,
         "payablesTurnover": 2.8234,
         "inventoryTurnover": 11.5363,
         "fixedAssetTurnover": 4.5433927801314,
         "assetTurnover": 0.77377655460842,
         "currentRatio": 0.81,
         "quickRatio": 0.4334654743247,
         "cashRatio": 0.15991518392182,
         "daysOfSalesOutstanding": -49.3233,
         "daysOfInventoryOutstanding": 30.236,
         "operatingCycle": "nan",
         "daysOfPayablesOutstanding": 32.8385,
         "cashConversionCycle": "nan",
         "debtRatio": 0.3796,
         "debtEquityRatio": 1.3445,
         "longtermDebtToCapitalization": 0.49570545519088,
         "totalDebtToCapitalization": 0.5734631802932,
         "interestCoverage": 9.954,
         "cashFlowToDebtRatio": 0.28921669056887,
         "companyEquityMultiplier": 3.541914060109,
         "operatingCashFlowPerShare": 4.1351,
         "freeCashFlowPerShare": 3.624,
         "cashPerShare": 1.4114,
         "payoutRatio": 0.534,
         "operatingCashFlowSalesRatio": 0.14187921561621,
         "freeCashFlowOperatingCashFlowRatio": 0.7414797323888199,
         "cashFlowCoverageRatios": 0.28921669056887,
         "shortTermCoverageRatios": 1.0756466155865,
         "capitalExpenditureCoverageRatios": 3.8681686710306,
         "dividendpaidAndCapexCoverageRatios": 1.5492013169126,
         "dividendPayoutRatio": 0.53897171672879,
         "Revenue per Share": 29.1454,
         "Net Income per Share": 2.969,
         "Operating Cash Flow per Share": 4.1351,
         "Free Cash Flow per Share": 3.624,
         "Cash per Share": 1.4114,
         "Book Value per Share": 10.634,
         "Tangible Book Value per Share": 15.429,
         "Shareholders Equity per Share": 10.6345,
         "Interest Debt per Share": 14.2977,
         "Market Cap": 33330057253.44,
         "Enterprise Value": 41248557253.44,
         "PE ratio": 18.7034,
         "Price to Sales Ratio": 1.861,
         "POCF ratio": 13.1169,
         "PFCF ratio": 17.6902,
         "PB ratio": 5.1004,
         "PTB ratio": 0,
         "EV to Sales": 2.3032,
         "Enterprise Value over EBITDA": 11.4723,
         "EV to Operating cash flow": 16.2332,
         "EV to Free cash flow": 21.893,
         "Earnings Yield": 0.0535,
         "Free Cash Flow Yield": 0.0565,
         "Debt to Equity": 1.3445,
         "Debt to Assets": 0.3796,
         "Net Debt to EBITDA": 2.2023,
         "Current ratio": 0.81,
         "Interest Coverage": 9.954,
         "Income Quality": 1.3928,
         "Dividend Yield": 0.0286,
         "Payout Ratio": 0.534,
         "SG&A to Revenue": 0.1939999999999999,
         "R&D to Revenue": 0,
         "Intangibles to Total Assets": 0.5904,
         "Capex to Operating Cash Flow": 0.2585,
         "Capex to Revenue": 0.0367,
         "Capex to Depreciation": -1.1221,
         "Stock-based compensation to Revenue": 0.0022,
         "Graham Number": 26.3414,
         "ROIC": 0.1041,
         "Return on Tangible Assets": 0.6265,
         "Graham Net-Net": -0.3229,
         "Working Capital": -1030000000,
         "Tangible Asset Value": 9480900000,
         "Net Current Asset Value": -10762700000,
         "Invested Capital": 11975900000,
         "Average Receivables": 1465000000,
         "Average Payables": 1517250000,
         "Average Inventory": 1552450000,
         "Days Sales Outstanding": 30.236,
         "Days Payables Outstanding": 32.8385,
         "Days of Inventory on Hand": -49.3233,
         "Receivables Turnover": 12.225,
         "Payables Turnover": 2.8234,
         "Inventory Turnover": 11.5363,
         "ROE": 0.2792,
         "Capex per Share": -1.069,
         "Gross Profit Growth": -0.0084,
         "EBIT Growth": 0.0332,
         "Operating Income Growth": 0.037,
         "Net Income Growth": -0.0166,
         "EPS Growth": 0.0139999999999999,
         "EPS Diluted Growth": 0.0143,
         "Weighted Average Shares Growth": -0.0468,
         "Weighted Average Shares Diluted Growth": "nan",
         "Dividends per Share Growth": 0.1742,
         "Operating Cash Flow growth": -0.1316,
         "Free Cash Flow growth": -0.1936,
         "10Y Revenue Growth (per Share)": 0.0704,
         "5Y Revenue Growth (per Share)": 0.0567,
         "3Y Revenue Growth (per Share)": 0.0773,
         "10Y Operating CF Growth (per Share)": 0.0782,
         "5Y Operating CF Growth (per Share)": 0.0828,
         "3Y Operating CF Growth (per Share)": 0.1991,
         "10Y Net Income Growth (per Share)": 0.0776,
         "5Y Net Income Growth (per Share)": 0.0841,
         "3Y Net Income Growth (per Share)": 0.0177,
         "10Y Shareholders Equity Growth (per Share)": 0.0427,
         "5Y Shareholders Equity Growth (per Share)": 0.0623,
         "3Y Shareholders Equity Growth (per Share)": 0.0217,
         "10Y Dividend per Share Growth (per Share)": 0.1092,
         "5Y Dividend per Share Growth (per Share)": 0.125,
         "3Y Dividend per Share Growth (per Share)": 0.1144,
         "Receivables growth": 0.0257,
         "Inventory Growth": 0.009,
         "Asset Growth": 0.0215,
         "Book Value per Share Growth": 0.0274,
         "Debt Growth": 0.1025,
         "R&D Expense Growth": 0,
         "SG&A Expenses Growth": -0.022,
         "Sector": "Consumer Defensive",
         "2015 PRICE VAR [%]": 12.897715165910553,
         "Class": 1,
         "_deepnote_index_column": "GIS"
        }
       ]
      },
      "text/plain": "           Revenue  Revenue Growth  Cost of Revenue  Gross Profit  \\\nPG    7.440100e+10         -0.0713     3.903000e+10  3.537100e+10   \nVIPS  3.734148e+09          1.1737     2.805625e+09  9.285226e+08   \nKR    9.837500e+10          0.0182     7.813800e+10  2.023700e+10   \nRAD   2.552641e+10          0.0053     1.820268e+10  7.323734e+09   \nGIS   1.790960e+10          0.0076     1.153980e+10  6.369800e+09   \n\n      R&D Expenses  SG&A Expense  Operating Expenses  Operating Income  \\\nPG    0.000000e+00  2.146100e+10        2.146100e+10      1.391000e+10   \nVIPS  1.083303e+08  3.441414e+08        7.939267e+08      1.345959e+08   \nKR    0.000000e+00  1.519600e+10        1.751200e+10      2.725000e+09   \nRAD   0.000000e+00  6.561162e+09        6.586482e+09      7.372520e+08   \nGIS   0.000000e+00  3.474300e+09        3.412400e+09      2.957400e+09   \n\n      Interest Expense  Earnings before Tax  ...  Receivables growth  \\\nPG        7.090000e+08         1.449400e+10  ...             -0.0187   \nVIPS      1.214869e+07         1.753823e+08  ...                 NaN   \nKR        4.430000e+08         2.270000e+09  ...              0.0618   \nRAD       4.245910e+08         2.502180e+08  ...              0.0211   \nGIS       3.024000e+08         2.707700e+09  ...              0.0257   \n\n      Inventory Growth  Asset Growth  Book Value per Share Growth  \\\nPG             -0.0217        0.0359                       0.0316   \nVIPS               NaN           NaN                          NaN   \nKR              0.0981        0.1886                       0.3268   \nRAD            -0.0510       -0.0189                       0.1963   \nGIS             0.0090        0.0215                       0.0274   \n\n      Debt Growth  R&D Expense Growth  SG&A Expenses Growth  \\\nPG         0.1228              0.0000               -0.1746   \nVIPS          NaN              1.6484                1.7313   \nKR         0.2738              0.0000                0.0234   \nRAD       -0.0458              0.0000               -0.0060   \nGIS        0.1025              0.0000               -0.0220   \n\n                  Sector  2015 PRICE VAR [%]  Class  \nPG    Consumer Defensive           -9.323276      0  \nVIPS  Consumer Defensive          -25.512193      0  \nKR    Consumer Defensive           33.118297      1  \nRAD   Consumer Defensive            2.752291      1  \nGIS   Consumer Defensive           12.897715      1  \n\n[5 rows x 224 columns]",
      "text/html": "<div>\n<style scoped>\n    .dataframe tbody tr th:only-of-type {\n        vertical-align: middle;\n    }\n\n    .dataframe tbody tr th {\n        vertical-align: top;\n    }\n\n    .dataframe thead th {\n        text-align: right;\n    }\n</style>\n<table border=\"1\" class=\"dataframe\">\n  <thead>\n    <tr style=\"text-align: right;\">\n      <th></th>\n      <th>Revenue</th>\n      <th>Revenue Growth</th>\n      <th>Cost of Revenue</th>\n      <th>Gross Profit</th>\n      <th>R&amp;D Expenses</th>\n      <th>SG&amp;A Expense</th>\n      <th>Operating Expenses</th>\n      <th>Operating Income</th>\n      <th>Interest Expense</th>\n      <th>Earnings before Tax</th>\n      <th>...</th>\n      <th>Receivables growth</th>\n      <th>Inventory Growth</th>\n      <th>Asset Growth</th>\n      <th>Book Value per Share Growth</th>\n      <th>Debt Growth</th>\n      <th>R&amp;D Expense Growth</th>\n      <th>SG&amp;A Expenses Growth</th>\n      <th>Sector</th>\n      <th>2015 PRICE VAR [%]</th>\n      <th>Class</th>\n    </tr>\n  </thead>\n  <tbody>\n    <tr>\n      <th>PG</th>\n      <td>7.440100e+10</td>\n      <td>-0.0713</td>\n      <td>3.903000e+10</td>\n      <td>3.537100e+10</td>\n      <td>0.000000e+00</td>\n      <td>2.146100e+10</td>\n      <td>2.146100e+10</td>\n      <td>1.391000e+10</td>\n      <td>7.090000e+08</td>\n      <td>1.449400e+10</td>\n      <td>...</td>\n      <td>-0.0187</td>\n      <td>-0.0217</td>\n      <td>0.0359</td>\n      <td>0.0316</td>\n      <td>0.1228</td>\n      <td>0.0000</td>\n      <td>-0.1746</td>\n      <td>Consumer Defensive</td>\n      <td>-9.323276</td>\n      <td>0</td>\n    </tr>\n    <tr>\n      <th>VIPS</th>\n      <td>3.734148e+09</td>\n      <td>1.1737</td>\n      <td>2.805625e+09</td>\n      <td>9.285226e+08</td>\n      <td>1.083303e+08</td>\n      <td>3.441414e+08</td>\n      <td>7.939267e+08</td>\n      <td>1.345959e+08</td>\n      <td>1.214869e+07</td>\n      <td>1.753823e+08</td>\n      <td>...</td>\n      <td>NaN</td>\n      <td>NaN</td>\n      <td>NaN</td>\n      <td>NaN</td>\n      <td>NaN</td>\n      <td>1.6484</td>\n      <td>1.7313</td>\n      <td>Consumer Defensive</td>\n      <td>-25.512193</td>\n      <td>0</td>\n    </tr>\n    <tr>\n      <th>KR</th>\n      <td>9.837500e+10</td>\n      <td>0.0182</td>\n      <td>7.813800e+10</td>\n      <td>2.023700e+10</td>\n      <td>0.000000e+00</td>\n      <td>1.519600e+10</td>\n      <td>1.751200e+10</td>\n      <td>2.725000e+09</td>\n      <td>4.430000e+08</td>\n      <td>2.270000e+09</td>\n      <td>...</td>\n      <td>0.0618</td>\n      <td>0.0981</td>\n      <td>0.1886</td>\n      <td>0.3268</td>\n      <td>0.2738</td>\n      <td>0.0000</td>\n      <td>0.0234</td>\n      <td>Consumer Defensive</td>\n      <td>33.118297</td>\n      <td>1</td>\n    </tr>\n    <tr>\n      <th>RAD</th>\n      <td>2.552641e+10</td>\n      <td>0.0053</td>\n      <td>1.820268e+10</td>\n      <td>7.323734e+09</td>\n      <td>0.000000e+00</td>\n      <td>6.561162e+09</td>\n      <td>6.586482e+09</td>\n      <td>7.372520e+08</td>\n      <td>4.245910e+08</td>\n      <td>2.502180e+08</td>\n      <td>...</td>\n      <td>0.0211</td>\n      <td>-0.0510</td>\n      <td>-0.0189</td>\n      <td>0.1963</td>\n      <td>-0.0458</td>\n      <td>0.0000</td>\n      <td>-0.0060</td>\n      <td>Consumer Defensive</td>\n      <td>2.752291</td>\n      <td>1</td>\n    </tr>\n    <tr>\n      <th>GIS</th>\n      <td>1.790960e+10</td>\n      <td>0.0076</td>\n      <td>1.153980e+10</td>\n      <td>6.369800e+09</td>\n      <td>0.000000e+00</td>\n      <td>3.474300e+09</td>\n      <td>3.412400e+09</td>\n      <td>2.957400e+09</td>\n      <td>3.024000e+08</td>\n      <td>2.707700e+09</td>\n      <td>...</td>\n      <td>0.0257</td>\n      <td>0.0090</td>\n      <td>0.0215</td>\n      <td>0.0274</td>\n      <td>0.1025</td>\n      <td>0.0000</td>\n      <td>-0.0220</td>\n      <td>Consumer Defensive</td>\n      <td>12.897715</td>\n      <td>1</td>\n    </tr>\n  </tbody>\n</table>\n<p>5 rows × 224 columns</p>\n</div>"
     },
     "metadata": {}
    }
   ]
  },
  {
   "cell_type": "markdown",
   "source": "# Data Pre-processing",
   "metadata": {
    "cell_id": "ae43e05ad52d426a99e536d8023ec6f6",
    "tags": [],
    "deepnote_to_be_reexecuted": false,
    "source_hash": "b297ebbd",
    "execution_start": 1649409344641,
    "execution_millis": 0,
    "deepnote_cell_type": "markdown",
    "deepnote_cell_height": 82
   }
  },
  {
   "cell_type": "code",
   "metadata": {
    "cell_id": "2d896274df9846959f0a9bc0184984df",
    "tags": [],
    "deepnote_to_be_reexecuted": false,
    "source_hash": "a1b2ff24",
    "execution_start": 1649618668958,
    "execution_millis": 7081800,
    "deepnote_cell_type": "code",
    "deepnote_cell_height": 171
   },
   "source": "# Define label\ny = data['Class']\n\n# Define featuers\n# NOTE: Drop '2015 PRICE VAR [%]' because it is directly related to the Class and it is only valid a posteriori\nX = data.drop(['Class', 'Sector', '2015 PRICE VAR [%]'], axis=1)",
   "execution_count": 5,
   "outputs": []
  },
  {
   "cell_type": "markdown",
   "source": "## Check Data Distribution",
   "metadata": {
    "cell_id": "24108aec159e4ad0b335dfa565e2fca6",
    "tags": [],
    "deepnote_cell_type": "markdown",
    "deepnote_cell_height": 70
   }
  },
  {
   "cell_type": "code",
   "metadata": {
    "cell_id": "2c747f7030c848a0a87d99f47b267cd6",
    "tags": [],
    "deepnote_to_be_reexecuted": false,
    "source_hash": "ac521a87",
    "execution_start": 1649618668959,
    "execution_millis": 535,
    "deepnote_cell_type": "code",
    "deepnote_cell_height": 618
   },
   "source": "# Check X feature distribution\nX.describe().transpose()",
   "execution_count": 6,
   "outputs": [
    {
     "output_type": "execute_result",
     "execution_count": 6,
     "data": {
      "application/vnd.deepnote.dataframe.v3+json": {
       "column_count": 8,
       "row_count": 221,
       "columns": [
        {
         "name": "count",
         "dtype": "float64",
         "stats": {
          "unique_count": 139,
          "nan_count": 0,
          "min": "1.0",
          "max": "3804.0",
          "histogram": [
           {
            "bin_start": 1,
            "bin_end": 381.3,
            "count": 2
           },
           {
            "bin_start": 381.3,
            "bin_end": 761.6,
            "count": 0
           },
           {
            "bin_start": 761.6,
            "bin_end": 1141.9,
            "count": 0
           },
           {
            "bin_start": 1141.9,
            "bin_end": 1522.2,
            "count": 0
           },
           {
            "bin_start": 1522.2,
            "bin_end": 1902.5,
            "count": 1
           },
           {
            "bin_start": 1902.5,
            "bin_end": 2282.8,
            "count": 6
           },
           {
            "bin_start": 2282.8,
            "bin_end": 2663.1,
            "count": 9
           },
           {
            "bin_start": 2663.1,
            "bin_end": 3043.4,
            "count": 34
           },
           {
            "bin_start": 3043.4,
            "bin_end": 3423.7000000000003,
            "count": 18
           },
           {
            "bin_start": 3423.7000000000003,
            "bin_end": 3804,
            "count": 151
           }
          ]
         }
        },
        {
         "name": "mean",
         "dtype": "float64",
         "stats": {
          "unique_count": 210,
          "nan_count": 0,
          "min": "-2266889489.553343",
          "max": "35036385356.48865",
          "histogram": [
           {
            "bin_start": -2266889489.553343,
            "bin_end": 1463437995.0508566,
            "count": 197
           },
           {
            "bin_start": 1463437995.0508566,
            "bin_end": 5193765479.655056,
            "count": 13
           },
           {
            "bin_start": 5193765479.655056,
            "bin_end": 8924092964.259256,
            "count": 5
           },
           {
            "bin_start": 8924092964.259256,
            "bin_end": 12654420448.863455,
            "count": 1
           },
           {
            "bin_start": 12654420448.863455,
            "bin_end": 16384747933.467653,
            "count": 0
           },
           {
            "bin_start": 16384747933.467653,
            "bin_end": 20115075418.071854,
            "count": 2
           },
           {
            "bin_start": 20115075418.071854,
            "bin_end": 23845402902.676056,
            "count": 1
           },
           {
            "bin_start": 23845402902.676056,
            "bin_end": 27575730387.28025,
            "count": 1
           },
           {
            "bin_start": 27575730387.28025,
            "bin_end": 31306057871.884453,
            "count": 0
           },
           {
            "bin_start": 31306057871.884453,
            "bin_end": 35036385356.48865,
            "count": 1
           }
          ]
         }
        },
        {
         "name": "std",
         "dtype": "float64",
         "stats": {
          "unique_count": 208,
          "nan_count": 2,
          "min": "0.0",
          "max": "1623730176242.7346",
          "histogram": [
           {
            "bin_start": 0,
            "bin_end": 162373017624.27347,
            "count": 215
           },
           {
            "bin_start": 162373017624.27347,
            "bin_end": 324746035248.54694,
            "count": 1
           },
           {
            "bin_start": 324746035248.54694,
            "bin_end": 487119052872.82043,
            "count": 2
           },
           {
            "bin_start": 487119052872.82043,
            "bin_end": 649492070497.0939,
            "count": 0
           },
           {
            "bin_start": 649492070497.0939,
            "bin_end": 811865088121.3673,
            "count": 0
           },
           {
            "bin_start": 811865088121.3673,
            "bin_end": 974238105745.6409,
            "count": 0
           },
           {
            "bin_start": 974238105745.6409,
            "bin_end": 1136611123369.9143,
            "count": 0
           },
           {
            "bin_start": 1136611123369.9143,
            "bin_end": 1298984140994.1877,
            "count": 0
           },
           {
            "bin_start": 1298984140994.1877,
            "bin_end": 1461357158618.4612,
            "count": 0
           },
           {
            "bin_start": 1461357158618.4612,
            "bin_end": 1623730176242.7346,
            "count": 1
           }
          ]
         }
        },
        {
         "name": "min",
         "dtype": "float64",
         "stats": {
          "unique_count": 133,
          "nan_count": 0,
          "min": "-4780213000000.0",
          "max": "134.5455",
          "histogram": [
           {
            "bin_start": -4780213000000,
            "bin_end": -4302191699986.5454,
            "count": 1
           },
           {
            "bin_start": -4302191699986.5454,
            "bin_end": -3824170399973.091,
            "count": 0
           },
           {
            "bin_start": -3824170399973.091,
            "bin_end": -3346149099959.636,
            "count": 0
           },
           {
            "bin_start": -3346149099959.636,
            "bin_end": -2868127799946.1816,
            "count": 0
           },
           {
            "bin_start": -2868127799946.1816,
            "bin_end": -2390106499932.727,
            "count": 0
           },
           {
            "bin_start": -2390106499932.727,
            "bin_end": -1912085199919.2725,
            "count": 0
           },
           {
            "bin_start": -1912085199919.2725,
            "bin_end": -1434063899905.8179,
            "count": 0
           },
           {
            "bin_start": -1434063899905.8179,
            "bin_end": -956042599892.3633,
            "count": 0
           },
           {
            "bin_start": -956042599892.3633,
            "bin_end": -478021299878.9087,
            "count": 0
           },
           {
            "bin_start": -478021299878.9087,
            "bin_end": 134.5455,
            "count": 220
           }
          ]
         }
        },
        {
         "name": "25%",
         "dtype": "float64",
         "stats": {
          "unique_count": 159,
          "nan_count": 0,
          "min": "-774700000.0",
          "max": "225503386.87",
          "histogram": [
           {
            "bin_start": -774700000,
            "bin_end": -674679661.313,
            "count": 1
           },
           {
            "bin_start": -674679661.313,
            "bin_end": -574659322.6259999,
            "count": 0
           },
           {
            "bin_start": -574659322.6259999,
            "bin_end": -474638983.939,
            "count": 0
           },
           {
            "bin_start": -474638983.939,
            "bin_end": -374618645.252,
            "count": 0
           },
           {
            "bin_start": -374618645.252,
            "bin_end": -274598306.56499994,
            "count": 1
           },
           {
            "bin_start": -274598306.56499994,
            "bin_end": -174577967.87800002,
            "count": 0
           },
           {
            "bin_start": -174577967.87800002,
            "bin_end": -74557629.19099998,
            "count": 2
           },
           {
            "bin_start": -74557629.19099998,
            "bin_end": 25462709.49600005,
            "count": 205
           },
           {
            "bin_start": 25462709.49600005,
            "bin_end": 125483048.18300009,
            "count": 8
           },
           {
            "bin_start": 125483048.18300009,
            "bin_end": 225503386.87,
            "count": 4
           }
          ]
         }
        },
        {
         "name": "50%",
         "dtype": "float64",
         "stats": {
          "unique_count": 180,
          "nan_count": 0,
          "min": "-54370000.0",
          "max": "1148673599.6599998",
          "histogram": [
           {
            "bin_start": -54370000,
            "bin_end": 65934359.96599999,
            "count": 198
           },
           {
            "bin_start": 65934359.96599999,
            "bin_end": 186238719.93199998,
            "count": 12
           },
           {
            "bin_start": 186238719.93199998,
            "bin_end": 306543079.898,
            "count": 2
           },
           {
            "bin_start": 306543079.898,
            "bin_end": 426847439.86399996,
            "count": 2
           },
           {
            "bin_start": 426847439.86399996,
            "bin_end": 547151799.8299999,
            "count": 1
           },
           {
            "bin_start": 547151799.8299999,
            "bin_end": 667456159.796,
            "count": 1
           },
           {
            "bin_start": 667456159.796,
            "bin_end": 787760519.762,
            "count": 1
           },
           {
            "bin_start": 787760519.762,
            "bin_end": 908064879.7279999,
            "count": 1
           },
           {
            "bin_start": 908064879.7279999,
            "bin_end": 1028369239.694,
            "count": 1
           },
           {
            "bin_start": 1028369239.694,
            "bin_end": 1148673599.6599998,
            "count": 2
           }
          ]
         }
        },
        {
         "name": "75%",
         "dtype": "float64",
         "stats": {
          "unique_count": 198,
          "nan_count": 0,
          "min": "-3586548.5",
          "max": "4924417615.7572",
          "histogram": [
           {
            "bin_start": -3586548.5,
            "bin_end": 489213867.92572004,
            "count": 201
           },
           {
            "bin_start": 489213867.92572004,
            "bin_end": 982014284.3514401,
            "count": 6
           },
           {
            "bin_start": 982014284.3514401,
            "bin_end": 1474814700.7771602,
            "count": 5
           },
           {
            "bin_start": 1474814700.7771602,
            "bin_end": 1967615117.2028801,
            "count": 1
           },
           {
            "bin_start": 1967615117.2028801,
            "bin_end": 2460415533.6286,
            "count": 2
           },
           {
            "bin_start": 2460415533.6286,
            "bin_end": 2953215950.0543203,
            "count": 0
           },
           {
            "bin_start": 2953215950.0543203,
            "bin_end": 3446016366.48004,
            "count": 1
           },
           {
            "bin_start": 3446016366.48004,
            "bin_end": 3938816782.9057603,
            "count": 2
           },
           {
            "bin_start": 3938816782.9057603,
            "bin_end": 4431617199.33148,
            "count": 1
           },
           {
            "bin_start": 4431617199.33148,
            "bin_end": 4924417615.7572,
            "count": 2
           }
          ]
         }
        },
        {
         "name": "max",
         "dtype": "float64",
         "stats": {
          "unique_count": 184,
          "nan_count": 0,
          "min": "0.0",
          "max": "96192000000000.0",
          "histogram": [
           {
            "bin_start": 0,
            "bin_end": 9619200000000,
            "count": 217
           },
           {
            "bin_start": 9619200000000,
            "bin_end": 19238400000000,
            "count": 2
           },
           {
            "bin_start": 19238400000000,
            "bin_end": 28857600000000,
            "count": 1
           },
           {
            "bin_start": 28857600000000,
            "bin_end": 38476800000000,
            "count": 0
           },
           {
            "bin_start": 38476800000000,
            "bin_end": 48096000000000,
            "count": 0
           },
           {
            "bin_start": 48096000000000,
            "bin_end": 57715200000000,
            "count": 0
           },
           {
            "bin_start": 57715200000000,
            "bin_end": 67334400000000,
            "count": 0
           },
           {
            "bin_start": 67334400000000,
            "bin_end": 76953600000000,
            "count": 0
           },
           {
            "bin_start": 76953600000000,
            "bin_end": 86572800000000,
            "count": 0
           },
           {
            "bin_start": 86572800000000,
            "bin_end": 96192000000000,
            "count": 1
           }
          ]
         }
        },
        {
         "name": "_deepnote_index_column",
         "dtype": "object"
        }
       ],
       "rows": [
        {
         "count": 3764,
         "mean": 5879049508.8564,
         "std": 39017407984.73977,
         "min": -627616000,
         "25%": 57888800,
         "50%": 434901000,
         "75%": 2393625000,
         "max": 1824698000000,
         "_deepnote_index_column": "Revenue"
        },
        {
         "count": 3572,
         "mean": 12.95424370100784,
         "std": 705.6054728215296,
         "min": -1.7732,
         "25%": -0.00235,
         "50%": 0.06185,
         "75%": 0.188875,
         "max": 42138.6639,
         "_deepnote_index_column": "Revenue Growth"
        },
        {
         "count": 3734,
         "mean": 3700973328.67595,
         "std": 30406884047.07944,
         "min": -545574000,
         "25%": 3135713.698425,
         "50%": 141442000,
         "75%": 1199844000,
         "max": 1537249000000,
         "_deepnote_index_column": "Cost of Revenue"
        },
        {
         "count": 3756,
         "mean": 2188214493.6402717,
         "std": 11590276491.378756,
         "min": -1105000000,
         "25%": 30929000,
         "50%": 190876000,
         "75%": 892253356.712575,
         "max": 462160000000,
         "_deepnote_index_column": "Gross Profit"
        },
        {
         "count": 3672,
         "mean": 94018300.68926792,
         "std": 640891150.8915416,
         "min": -150000,
         "25%": 0,
         "50%": 0,
         "75%": 9911000,
         "max": 11537000000,
         "_deepnote_index_column": "R&D Expenses"
        },
        {
         "count": 3749,
         "mean": 930740570.3468459,
         "std": 4820927723.228077,
         "min": 0,
         "25%": 15489000,
         "50%": 73818000,
         "75%": 351000000,
         "max": 185683000000,
         "_deepnote_index_column": "SG&A Expense"
        },
        {
         "count": 3745,
         "mean": 1438143754.1739793,
         "std": 7305171047.188693,
         "min": -1088448000,
         "25%": 31066000,
         "50%": 138661000,
         "75%": 588510000,
         "max": 305605000000,
         "_deepnote_index_column": "Operating Expenses"
        },
        {
         "count": 3753,
         "mean": 674824804.0128717,
         "std": 3786290546.5634747,
         "min": -6786000000,
         "25%": -1308000,
         "50%": 41044000,
         "75%": 271298000,
         "max": 156554000000,
         "_deepnote_index_column": "Operating Income"
        },
        {
         "count": 3745,
         "mean": 100201798.65655588,
         "std": 699109057.8350505,
         "min": -225000000,
         "25%": 0,
         "50%": 2563000,
         "75%": 43000000,
         "max": 31523000000,
         "_deepnote_index_column": "Interest Expense"
        },
        {
         "count": 3728,
         "mean": 572586570.5762304,
         "std": 2793740189.659605,
         "min": -8878000000,
         "25%": -3732902.25,
         "50%": 28427000,
         "75%": 219383500,
         "max": 87205000000,
         "_deepnote_index_column": "Earnings before Tax"
        }
       ]
      },
      "text/plain": "                              count          mean           std           min  \\\nRevenue                      3764.0  5.879050e+09  3.901741e+10 -6.276160e+08   \nRevenue Growth               3572.0  1.295424e+01  7.056055e+02 -1.773200e+00   \nCost of Revenue              3734.0  3.700973e+09  3.040688e+10 -5.455740e+08   \nGross Profit                 3756.0  2.188214e+09  1.159028e+10 -1.105000e+09   \nR&D Expenses                 3672.0  9.401830e+07  6.408912e+08 -1.500000e+05   \n...                             ...           ...           ...           ...   \nAsset Growth                 3518.0  2.279999e+00  9.242892e+01 -9.796000e-01   \nBook Value per Share Growth  3439.0  8.139312e-01  2.563021e+01 -2.300000e+02   \nDebt Growth                  3506.0  1.361780e+00  1.873430e+01 -1.051000e+00   \nR&D Expense Growth           3561.0  5.965290e-01  2.589405e+01 -1.043700e+00   \nSG&A Expenses Growth         3565.0  3.822844e-01  4.696975e+00 -1.000000e+00   \n\n                                      25%           50%           75%  \\\nRevenue                      5.788880e+07  4.349010e+08  2.393625e+09   \nRevenue Growth              -2.350000e-03  6.185000e-02  1.888750e-01   \nCost of Revenue              3.135714e+06  1.414420e+08  1.199844e+09   \nGross Profit                 3.092900e+07  1.908760e+08  8.922534e+08   \nR&D Expenses                 0.000000e+00  0.000000e+00  9.911000e+06   \n...                                   ...           ...           ...   \nAsset Growth                -1.540000e-02  6.220000e-02  2.171000e-01   \nBook Value per Share Growth -8.455000e-02  3.710000e-02  1.419000e-01   \nDebt Growth                 -4.820000e-02  0.000000e+00  2.103000e-01   \nR&D Expense Growth           0.000000e+00  0.000000e+00  4.700000e-03   \nSG&A Expenses Growth        -3.900000e-03  6.880000e-02  2.205000e-01   \n\n                                      max  \nRevenue                      1.824698e+12  \nRevenue Growth               4.213866e+04  \nCost of Revenue              1.537249e+12  \nGross Profit                 4.621600e+11  \nR&D Expenses                 1.153700e+10  \n...                                   ...  \nAsset Growth                 5.468426e+03  \nBook Value per Share Growth  1.360125e+03  \nDebt Growth                  7.295766e+02  \nR&D Expense Growth           1.542611e+03  \nSG&A Expenses Growth         2.256900e+02  \n\n[221 rows x 8 columns]",
      "text/html": "<div>\n<style scoped>\n    .dataframe tbody tr th:only-of-type {\n        vertical-align: middle;\n    }\n\n    .dataframe tbody tr th {\n        vertical-align: top;\n    }\n\n    .dataframe thead th {\n        text-align: right;\n    }\n</style>\n<table border=\"1\" class=\"dataframe\">\n  <thead>\n    <tr style=\"text-align: right;\">\n      <th></th>\n      <th>count</th>\n      <th>mean</th>\n      <th>std</th>\n      <th>min</th>\n      <th>25%</th>\n      <th>50%</th>\n      <th>75%</th>\n      <th>max</th>\n    </tr>\n  </thead>\n  <tbody>\n    <tr>\n      <th>Revenue</th>\n      <td>3764.0</td>\n      <td>5.879050e+09</td>\n      <td>3.901741e+10</td>\n      <td>-6.276160e+08</td>\n      <td>5.788880e+07</td>\n      <td>4.349010e+08</td>\n      <td>2.393625e+09</td>\n      <td>1.824698e+12</td>\n    </tr>\n    <tr>\n      <th>Revenue Growth</th>\n      <td>3572.0</td>\n      <td>1.295424e+01</td>\n      <td>7.056055e+02</td>\n      <td>-1.773200e+00</td>\n      <td>-2.350000e-03</td>\n      <td>6.185000e-02</td>\n      <td>1.888750e-01</td>\n      <td>4.213866e+04</td>\n    </tr>\n    <tr>\n      <th>Cost of Revenue</th>\n      <td>3734.0</td>\n      <td>3.700973e+09</td>\n      <td>3.040688e+10</td>\n      <td>-5.455740e+08</td>\n      <td>3.135714e+06</td>\n      <td>1.414420e+08</td>\n      <td>1.199844e+09</td>\n      <td>1.537249e+12</td>\n    </tr>\n    <tr>\n      <th>Gross Profit</th>\n      <td>3756.0</td>\n      <td>2.188214e+09</td>\n      <td>1.159028e+10</td>\n      <td>-1.105000e+09</td>\n      <td>3.092900e+07</td>\n      <td>1.908760e+08</td>\n      <td>8.922534e+08</td>\n      <td>4.621600e+11</td>\n    </tr>\n    <tr>\n      <th>R&amp;D Expenses</th>\n      <td>3672.0</td>\n      <td>9.401830e+07</td>\n      <td>6.408912e+08</td>\n      <td>-1.500000e+05</td>\n      <td>0.000000e+00</td>\n      <td>0.000000e+00</td>\n      <td>9.911000e+06</td>\n      <td>1.153700e+10</td>\n    </tr>\n    <tr>\n      <th>...</th>\n      <td>...</td>\n      <td>...</td>\n      <td>...</td>\n      <td>...</td>\n      <td>...</td>\n      <td>...</td>\n      <td>...</td>\n      <td>...</td>\n    </tr>\n    <tr>\n      <th>Asset Growth</th>\n      <td>3518.0</td>\n      <td>2.279999e+00</td>\n      <td>9.242892e+01</td>\n      <td>-9.796000e-01</td>\n      <td>-1.540000e-02</td>\n      <td>6.220000e-02</td>\n      <td>2.171000e-01</td>\n      <td>5.468426e+03</td>\n    </tr>\n    <tr>\n      <th>Book Value per Share Growth</th>\n      <td>3439.0</td>\n      <td>8.139312e-01</td>\n      <td>2.563021e+01</td>\n      <td>-2.300000e+02</td>\n      <td>-8.455000e-02</td>\n      <td>3.710000e-02</td>\n      <td>1.419000e-01</td>\n      <td>1.360125e+03</td>\n    </tr>\n    <tr>\n      <th>Debt Growth</th>\n      <td>3506.0</td>\n      <td>1.361780e+00</td>\n      <td>1.873430e+01</td>\n      <td>-1.051000e+00</td>\n      <td>-4.820000e-02</td>\n      <td>0.000000e+00</td>\n      <td>2.103000e-01</td>\n      <td>7.295766e+02</td>\n    </tr>\n    <tr>\n      <th>R&amp;D Expense Growth</th>\n      <td>3561.0</td>\n      <td>5.965290e-01</td>\n      <td>2.589405e+01</td>\n      <td>-1.043700e+00</td>\n      <td>0.000000e+00</td>\n      <td>0.000000e+00</td>\n      <td>4.700000e-03</td>\n      <td>1.542611e+03</td>\n    </tr>\n    <tr>\n      <th>SG&amp;A Expenses Growth</th>\n      <td>3565.0</td>\n      <td>3.822844e-01</td>\n      <td>4.696975e+00</td>\n      <td>-1.000000e+00</td>\n      <td>-3.900000e-03</td>\n      <td>6.880000e-02</td>\n      <td>2.205000e-01</td>\n      <td>2.256900e+02</td>\n    </tr>\n  </tbody>\n</table>\n<p>221 rows × 8 columns</p>\n</div>"
     },
     "metadata": {}
    }
   ]
  },
  {
   "cell_type": "code",
   "metadata": {
    "cell_id": "796b879bf8a7405a8272f94f6f077699",
    "tags": [],
    "deepnote_to_be_reexecuted": false,
    "source_hash": "87cefb0d",
    "execution_start": 1649618669500,
    "execution_millis": 3459,
    "deepnote_cell_type": "code",
    "deepnote_cell_height": 732,
    "deepnote_output_heights": [
     527
    ]
   },
   "source": "# Check 'Class' distribution\nfigure = ex.histogram(data_frame=y, \n                        x='Class', \n                        title='Class Distribution', \n                        histnorm='percent', \n                        nbins=len(np.unique(y.values)))\nfigure.show()",
   "execution_count": 7,
   "outputs": [
    {
     "data": {
      "text/html": "<html>\n<head><meta charset=\"utf-8\" /></head>\n<body>\n    <div>            <script src=\"https://cdnjs.cloudflare.com/ajax/libs/mathjax/2.7.5/MathJax.js?config=TeX-AMS-MML_SVG\"></script><script type=\"text/javascript\">if (window.MathJax) {MathJax.Hub.Config({SVG: {font: \"STIX-Web\"}});}</script>                <script type=\"text/javascript\">window.PlotlyConfig = {MathJaxConfig: 'local'};</script>\n        <script src=\"https://cdn.plot.ly/plotly-2.9.0.min.js\"></script>                <div id=\"b1e3e297-ed2f-4042-b678-fe7882b22823\" class=\"plotly-graph-div\" style=\"height:525px; width:100%;\"></div>            <script type=\"text/javascript\">                                    window.PLOTLYENV=window.PLOTLYENV || {};                                    if (document.getElementById(\"b1e3e297-ed2f-4042-b678-fe7882b22823\")) {                    Plotly.newPlot(                        \"b1e3e297-ed2f-4042-b678-fe7882b22823\",                        [{\"alignmentgroup\":\"True\",\"bingroup\":\"x\",\"histnorm\":\"percent\",\"hovertemplate\":\"Class=%{x}<br>percent=%{y}<extra></extra>\",\"legendgroup\":\"\",\"marker\":{\"color\":\"#636efa\",\"pattern\":{\"shape\":\"\"}},\"name\":\"\",\"nbinsx\":2,\"offsetgroup\":\"\",\"orientation\":\"v\",\"showlegend\":false,\"x\":[0,0,1,1,1,1,1,0,1,1,0,1,0,1,1,1,1,0,1,1,1,1,1,1,1,0,0,1,1,1,1,0,1,0,1,0,0,1,1,1,0,1,0,0,1,1,1,0,1,1,1,1,1,1,0,0,1,1,0,1,0,1,1,1,0,1,0,0,0,0,1,0,1,0,1,0,0,1,1,1,1,1,1,1,0,0,1,0,1,1,0,0,0,0,1,1,0,0,0,0,0,0,1,0,1,0,1,0,1,0,1,0,1,1,0,0,0,0,1,1,0,0,1,0,0,0,1,1,1,1,1,1,1,1,1,1,1,0,0,0,0,1,1,0,0,1,0,0,1,0,0,1,0,0,0,1,0,0,0,0,0,1,0,0,1,0,0,0,0,0,0,0,0,0,0,0,0,0,0,0,0,0,0,0,0,0,1,0,0,0,0,0,0,0,0,0,1,0,0,0,0,0,0,0,1,1,1,1,0,0,0,0,1,0,0,0,0,1,0,0,0,0,0,0,0,0,0,1,0,0,0,0,1,0,0,1,1,1,0,0,0,0,0,1,0,0,0,1,0,0,0,0,0,0,0,0,0,0,0,0,0,0,0,0,0,0,1,0,1,0,0,0,1,1,1,0,0,1,0,0,0,1,0,1,0,0,0,0,1,0,0,0,0,1,0,1,0,0,0,0,0,0,0,0,1,1,0,0,0,0,0,1,1,0,1,0,0,0,0,0,0,1,0,0,1,1,0,0,0,0,1,1,0,0,0,0,0,0,0,0,0,0,0,0,0,1,0,1,0,0,0,0,1,1,1,1,0,0,1,0,1,0,0,1,0,0,0,0,0,1,0,0,1,0,0,1,0,1,0,0,0,1,0,0,0,0,0,0,0,0,0,1,0,0,1,0,1,0,0,0,0,0,0,0,0,0,0,1,1,1,1,0,0,1,1,1,1,0,1,1,1,1,1,1,1,0,1,1,0,1,0,1,0,1,0,1,0,0,1,0,0,0,1,1,1,0,1,0,1,1,1,0,0,0,1,0,1,0,1,1,1,0,1,1,0,1,0,1,1,1,1,0,0,1,0,1,1,1,1,1,1,1,1,1,0,1,0,1,0,0,1,1,0,0,1,1,0,1,1,1,0,1,0,1,0,1,0,1,1,0,1,0,0,1,0,1,1,0,0,0,1,0,0,0,0,1,1,0,0,0,0,1,0,1,1,1,0,1,1,0,1,0,1,1,1,0,0,1,0,0,0,1,1,1,0,0,0,1,0,0,1,1,1,1,0,0,0,1,1,0,1,0,0,1,1,1,1,1,0,0,1,1,0,0,0,0,1,1,0,1,0,0,1,0,0,0,1,0,0,1,0,1,1,1,1,1,1,0,1,0,1,0,1,1,0,0,0,1,1,0,0,0,0,0,1,1,1,1,0,1,0,1,1,1,0,0,1,0,1,0,0,0,1,0,1,1,0,0,0,1,1,1,0,1,0,0,0,0,0,1,0,1,1,1,1,0,0,0,1,0,0,0,1,0,1,1,0,0,0,1,1,0,1,0,1,1,1,0,1,1,1,0,0,1,0,0,1,1,1,1,0,1,0,0,0,0,0,1,1,0,0,1,1,0,1,1,0,1,0,0,1,1,1,1,0,0,0,1,1,1,0,0,0,0,0,1,0,0,1,1,0,0,1,0,0,1,0,1,1,0,0,1,1,1,1,1,0,1,1,0,0,0,1,1,0,1,0,0,1,1,0,0,1,0,1,0,0,0,0,0,1,1,0,1,0,0,0,0,0,0,1,1,0,0,1,0,1,1,1,1,0,0,1,0,0,0,0,0,0,1,0,0,0,0,0,0,0,0,1,0,1,1,0,0,0,0,1,1,1,0,0,0,0,1,0,1,1,0,0,0,1,0,0,0,1,0,1,0,0,0,1,0,1,0,0,0,0,0,1,1,0,0,0,0,1,0,0,1,0,1,0,1,0,0,1,0,0,1,0,1,0,1,1,0,0,0,0,0,1,0,1,0,1,0,1,0,0,1,1,0,0,1,0,0,1,1,0,0,1,0,1,0,0,0,1,0,0,1,0,0,0,0,0,0,0,0,1,1,0,0,0,0,0,0,0,0,0,1,1,0,0,0,0,0,0,0,0,0,0,0,0,0,0,0,0,1,1,0,1,0,1,0,1,0,0,0,1,0,0,0,1,0,0,0,0,0,1,0,0,1,1,0,0,1,1,0,0,0,0,1,1,0,0,1,0,1,1,0,0,1,1,1,1,0,1,0,0,0,0,0,0,1,0,1,1,0,1,1,1,1,1,0,1,0,1,0,1,1,0,1,1,1,0,0,1,0,1,0,1,0,0,0,0,1,0,1,1,1,0,0,1,0,0,0,0,0,1,0,1,1,1,1,1,1,0,1,0,0,0,0,0,1,1,0,0,0,1,0,0,1,1,1,1,1,0,1,1,0,0,0,0,1,0,0,0,0,0,0,0,1,0,0,1,0,0,0,0,1,0,0,1,0,1,1,1,1,1,1,0,1,1,0,0,1,1,1,0,1,1,1,0,0,0,1,0,0,0,0,0,1,0,0,0,0,0,1,1,1,0,1,0,1,1,0,1,0,0,1,1,0,0,0,0,0,0,0,1,0,0,1,0,0,0,0,1,0,0,0,0,0,1,1,1,1,0,1,0,1,1,0,0,0,0,0,0,0,0,1,1,0,0,0,1,0,1,0,1,1,1,0,1,0,1,1,1,0,0,0,1,0,0,0,1,1,0,0,0,0,1,1,0,0,1,1,0,0,0,0,1,1,0,0,0,1,0,1,1,0,0,1,0,0,1,0,1,0,1,0,1,0,0,1,1,1,0,0,0,0,0,0,0,0,0,0,0,0,0,1,0,0,0,1,1,1,1,0,0,0,0,1,0,1,0,0,0,1,0,0,1,1,0,0,0,1,1,1,0,0,0,1,0,0,0,1,0,0,0,1,0,1,1,0,0,1,1,1,1,1,1,0,1,0,1,0,0,1,1,0,0,0,1,0,1,0,1,0,1,1,0,0,0,1,0,1,0,0,1,1,0,0,0,0,0,0,0,1,1,0,0,0,0,0,1,1,1,1,0,0,0,1,1,0,0,0,1,0,1,1,1,0,0,0,0,0,0,1,0,0,0,0,0,0,1,0,0,0,1,1,0,0,0,0,0,0,0,0,0,0,1,1,0,0,0,0,0,1,0,0,0,0,1,0,0,1,0,0,0,0,0,0,1,1,1,0,1,1,1,1,1,1,0,1,1,0,1,0,0,0,0,0,0,0,1,1,0,0,1,1,0,0,1,1,0,1,0,0,1,0,0,1,0,0,0,0,1,0,0,0,0,1,1,0,1,0,0,0,1,0,0,0,0,0,0,0,1,0,1,0,0,1,0,0,1,0,1,0,0,1,1,1,0,0,0,0,0,1,1,1,0,1,0,0,1,1,0,0,1,0,1,0,0,1,0,0,0,0,0,1,1,1,1,0,0,0,1,0,1,1,0,0,0,0,0,1,0,0,1,1,0,0,0,0,0,0,0,1,0,0,1,0,0,0,1,1,0,0,0,1,0,0,0,1,0,1,0,1,0,0,0,1,1,0,0,1,0,0,0,0,1,0,0,1,0,0,0,0,1,0,1,0,0,0,0,0,1,0,0,0,0,1,1,0,1,1,0,0,1,0,1,1,0,1,0,0,0,0,0,1,0,0,1,0,0,0,0,0,0,0,1,0,0,0,0,0,0,1,1,0,0,0,0,1,1,0,1,0,0,0,0,0,0,0,0,0,0,1,1,0,0,0,0,0,1,1,1,0,0,0,0,0,1,1,0,0,1,0,1,1,1,0,1,0,0,0,0,1,1,0,0,0,0,1,0,0,0,0,0,0,0,0,0,1,0,0,0,0,1,0,1,1,0,1,0,0,0,0,1,1,0,0,1,1,0,0,0,0,0,0,1,1,0,1,0,1,1,0,0,0,1,0,1,0,1,1,1,0,0,1,1,1,0,1,0,0,0,0,0,1,1,0,0,1,1,0,0,1,0,0,0,1,0,0,0,0,1,0,0,0,1,0,0,0,0,1,1,1,0,0,1,0,0,0,0,0,1,0,1,1,0,0,0,0,0,0,0,1,0,0,0,0,0,0,1,0,1,0,0,0,1,0,0,0,1,0,0,1,0,0,0,1,0,1,0,0,0,0,0,0,0,0,0,1,1,0,0,0,1,0,0,0,0,0,0,1,0,0,0,0,0,0,0,1,0,0,1,0,0,0,0,1,1,0,0,0,1,0,1,0,1,0,0,1,0,0,1,1,0,0,1,1,0,0,0,0,0,0,0,0,0,0,0,1,0,0,0,0,0,1,0,1,1,1,1,0,1,0,1,0,1,0,1,1,0,0,0,1,0,0,1,0,0,1,0,1,1,0,0,1,1,1,0,0,1,1,1,1,0,0,0,1,0,0,0,1,0,0,1,1,0,0,0,0,0,1,0,0,0,0,1,0,1,0,0,1,0,1,1,0,0,1,0,0,0,0,1,1,1,1,0,1,0,1,0,0,1,0,1,0,1,1,1,1,1,0,0,1,0,0,0,0,0,0,1,1,1,1,1,1,1,1,1,0,0,0,0,0,1,1,1,0,1,1,0,1,0,0,0,0,1,1,0,1,0,0,0,1,0,0,0,0,1,1,1,1,1,0,0,0,0,1,1,0,1,1,0,1,1,1,1,1,0,0,0,1,0,1,1,1,0,0,0,1,0,0,0,0,1,0,1,0,1,0,0,0,1,0,0,1,0,1,0,0,0,1,0,1,0,0,0,0,1,1,1,1,0,0,1,1,0,0,0,0,0,0,1,1,0,0,0,0,1,1,0,1,0,1,1,0,1,1,1,1,0,1,0,1,1,0,0,0,0,0,0,0,1,1,0,1,0,0,0,0,1,1,0,0,0,0,0,1,0,1,0,0,0,1,0,0,0,1,0,0,1,0,0,1,1,1,1,0,0,0,0,0,0,1,1,1,1,1,0,1,0,1,0,1,0,1,0,1,1,1,1,0,1,0,0,0,1,0,0,1,1,1,0,0,0,0,0,0,0,1,0,0,0,0,0,1,0,0,0,0,0,0,0,0,0,0,0,0,0,0,1,0,0,0,0,1,0,1,0,0,0,0,0,0,0,0,0,0,0,0,1,0,1,0,0,0,1,0,0,0,0,1,0,0,0,1,0,0,1,0,0,0,0,0,0,0,0,0,0,0,0,0,0,0,0,0,0,0,0,0,0,0,0,0,1,0,0,0,0,0,1,0,0,0,0,0,0,0,0,0,0,0,0,1,0,0,0,0,0,1,0,0,0,0,0,0,0,0,0,0,0,0,0,0,0,0,0,1,1,1,0,0,0,0,0,0,0,0,0,1,1,0,1,0,0,0,0,0,0,0,0,0,0,0,0,0,0,0,0,0,0,0,0,0,0,0,0,0,0,0,1,0,0,0,0,1,0,0,0,1,0,0,0,0,0,0,1,0,0,0,0,1,0,0,0,0,0,0,0,1,0,0,0,0,0,0,0,0,0,0,1,0,1,0,1,1,0,0,1,0,0,1,0,0,0,1,0,0,0,1,1,0,1,1,0,1,0,1,0,0,1,0,0,1,1,1,0,1,0,1,1,1,1,0,1,0,1,0,1,0,0,1,1,1,0,0,0,1,0,1,0,0,0,1,0,0,1,1,0,1,0,1,1,1,0,1,1,1,0,1,1,1,1,1,1,0,0,0,1,1,0,1,0,1,0,0,0,0,0,0,0,1,0,0,1,0,1,0,1,0,0,1,1,0,1,0,1,0,1,0,1,1,0,0,0,0,0,0,1,1,0,1,0,1,0,1,1,0,1,0,0,0,1,0,1,0,1,1,1,0,1,1,0,1,1,0,0,0,0,1,0,1,0,1,0,1,0,0,0,0,1,0,1,1,1,1,1,1,0,1,0,1,1,0,0,0,1,1,0,1,1,0,1,0,0,0,1,1,0,1,1,0,1,1,1,1,1,1,0,0,0,0,1,0,0,1,1,0,1,0,0,1,1,0,1,1,1,0,1,0,1,1,1,1,1,1,0,0,0,1,0,1,1,0,1,1,0,1,0,1,0,0,1,1,1,0,1,1,0,0,1,1,1,1,1,0,0,1,1,1,1,1,0,1,1,0,0,0,0,0,1,1,1,0,0,1,1,1,0,0,1,0,0,0,1,1,0,0,1,1,1,0,1,0,1,1,1,0,1,0,0,1,1,0,0,0,0,0,1,1,1,1,0,1,1,1,1,1,0,0,1,1,1,1,0,1,1,1,0,1,0,1,1,1,0,1,1,0,0,0,1,1,1,0,0,1,1,1,1,1,1,1,1,0,1,0,1,1,0,1,1,1,1,0,1,1,0,0,1,1,1,1,1,1,1,1,1,0,1,1,1,1,1,1,1,1,1,1,1,1,1,1,1,1,1,0,1,0,1,1,1,1,1,1,1,1,1,0,1,1,0,0,0,1,1,1,1,0,0,1,0,0,0,0,1,1,0,1,0,1,0,1,1,1,1,1,1,1,1,1,0,1,0,1,1,1,0,1,1,1,1,1,1,1,1,0,1,1,1,1,0,1,1,1,1,1,0,1,1,0,1,0,0,0,1,1,0,1,0,1,1,1,1,1,1,0,1,1,1,1,1,1,0,0,1,1,1,1,0,1,1,1,0,1,1,1,1,1,1,1,1,1,1,1,1,1,1,1,0,0,1,0,1,1,1,1,1,1,1,1,1,1,0,1,1,1,1,0,0,1,0,1,1,0,0,1,1,1,0,1,1,1,1,1,1,1,0,0,0,0,1,1,1,0,0,1,0,1,0,0,1,1,1,0,0,1,1,1,1,1,1,1,0,1,1,1,0,1,0,1,1,1,0,0,1,1,0,0,1,1,1,0,1,1,1,1,0,1,1,0,0,1,1,0,0,1,1,1,1,0,1,1,1,0,0,1,1,0,1,0,1,0,1,1,1,1,0,0,1,1,1,1,1,0,1,1,0,1,1,0,1,1,1,0,0,0,0,1,0,1,1,0,0,1,0,0,0,1,1,1,0,0,0,0,1,1,0,0,0,1,1,0,0,0,0,1,1,0,0,0,0,0,1,0,0,0,0,0,1,0,1,1,1,0,0,1,1,1,0,0,1,0,1,0,0,0,1,0,1,1,0,0,1,1,1,0,1,0,0,0,0,0,1,0,1,1,1,1,1,1,1,0,0,1,0,1,0,1,0,1,0,0,0,1,0,1,1,0,1,0,0,1,0,0,0,1,0,1,1,1,1,0,0,1,0,0,1,0,0,1,1,0,1,1,1,1,1,0,0,1,0,1,0,0,1,0,1,0,0,0,0,1,1,0,1,0,1,0,1,1,1,1,1,1,0,0,1,1,1,1,0,1,1,1,1,0,1,1,1,0,1,0,1,0,0,0,1,0,1,0,0,1,0,1,1,0,1,1,0,1,1,1,1,0,0,1,1,0,1,1,1,1,1,0,1,1,0,0,1,1,0,0,1,1,1,1,0,1,0,0,1,1,0,0,0,1,1,1,1,0,1,1,0,0,1,1,1,1,0,1,0,1,1,1,1,1,0,1,1,0,0,0,0,0,1,1,0,0,0,1,0,0,0,1,1,1,1,0,1,1,1,1,1,0,0,1,0,1,0,1,0,1,0,0,0,1,0,1,0,0,1,1,1,0,0,1,0,1,0,1,1,1,0,0,1,0,1,0,1,1,1,1,1,1,1,1,1,1,1,0,0,0,0,0,0,0,0,1,1,1,1,1,0,0,0,0,0,1,0,0,0,1,0,0,0,0,1,1,0,0,1,0,0,0,1,1,1,0,0,1,0,1,1,0,1,0,1,1,0,0,0,0,0,0,1,1,1,0,1,1,0,1,1,0,0,1,1,1,0,0,1,0,1,0,0,1,1,0,0,1,1,1,1,1,0,0,1,0,1,0,0,0,1,0,0,0,0,0,0,0,1,0,0,0,0,0,0,1,1,1,1,0,1,0,1,0,1,0,1,1,1,0,0,1,1,1,0,0,1,1,0,0,1,0,1,0,1,1,0,1,0,0,0,0,1,1,0,0,1,0,0,0,0,0,0,0,1,1,0,1,0,0,0,0,0,1,0,1,0,1,0,1,0,1,0,0,0,0,0,0,0,0,0,0,0,0,1,1,0,1,1,0,0,0,1,1,0,0,1,1,0,0,1,0,0,1,0,1,1,1,0,0,0,1,0,0,0,0,0,0,1,0,0,1,0,0,1,0,0,0,0,0,0,1,0,1,0,0,0,1,0,0,0,0,1,1,1,1,1,0,0,0,0,0,0,0,0,0,0,0,0,0,1,0,0,0,1,1,0,1,0,0,0,0,1,0,0,1,1,1,0,0,0,0,0,1,0,1,1,0,0,1,1,1,1,0,1,0,1,0,0,0,0,0,1,0,1,0,0,0,0,1,0,1,0,1,1,0,0,0,0,0,0,0,0,0,1,0,0,0,0,0,0,1,1,0,1,1,0,0,0,1,0,0,1,0],\"xaxis\":\"x\",\"yaxis\":\"y\",\"type\":\"histogram\"}],                        {\"template\":{\"data\":{\"bar\":[{\"error_x\":{\"color\":\"#2a3f5f\"},\"error_y\":{\"color\":\"#2a3f5f\"},\"marker\":{\"line\":{\"color\":\"#E5ECF6\",\"width\":0.5},\"pattern\":{\"fillmode\":\"overlay\",\"size\":10,\"solidity\":0.2}},\"type\":\"bar\"}],\"barpolar\":[{\"marker\":{\"line\":{\"color\":\"#E5ECF6\",\"width\":0.5},\"pattern\":{\"fillmode\":\"overlay\",\"size\":10,\"solidity\":0.2}},\"type\":\"barpolar\"}],\"carpet\":[{\"aaxis\":{\"endlinecolor\":\"#2a3f5f\",\"gridcolor\":\"white\",\"linecolor\":\"white\",\"minorgridcolor\":\"white\",\"startlinecolor\":\"#2a3f5f\"},\"baxis\":{\"endlinecolor\":\"#2a3f5f\",\"gridcolor\":\"white\",\"linecolor\":\"white\",\"minorgridcolor\":\"white\",\"startlinecolor\":\"#2a3f5f\"},\"type\":\"carpet\"}],\"choropleth\":[{\"colorbar\":{\"outlinewidth\":0,\"ticks\":\"\"},\"type\":\"choropleth\"}],\"contour\":[{\"colorbar\":{\"outlinewidth\":0,\"ticks\":\"\"},\"colorscale\":[[0.0,\"#0d0887\"],[0.1111111111111111,\"#46039f\"],[0.2222222222222222,\"#7201a8\"],[0.3333333333333333,\"#9c179e\"],[0.4444444444444444,\"#bd3786\"],[0.5555555555555556,\"#d8576b\"],[0.6666666666666666,\"#ed7953\"],[0.7777777777777778,\"#fb9f3a\"],[0.8888888888888888,\"#fdca26\"],[1.0,\"#f0f921\"]],\"type\":\"contour\"}],\"contourcarpet\":[{\"colorbar\":{\"outlinewidth\":0,\"ticks\":\"\"},\"type\":\"contourcarpet\"}],\"heatmap\":[{\"colorbar\":{\"outlinewidth\":0,\"ticks\":\"\"},\"colorscale\":[[0.0,\"#0d0887\"],[0.1111111111111111,\"#46039f\"],[0.2222222222222222,\"#7201a8\"],[0.3333333333333333,\"#9c179e\"],[0.4444444444444444,\"#bd3786\"],[0.5555555555555556,\"#d8576b\"],[0.6666666666666666,\"#ed7953\"],[0.7777777777777778,\"#fb9f3a\"],[0.8888888888888888,\"#fdca26\"],[1.0,\"#f0f921\"]],\"type\":\"heatmap\"}],\"heatmapgl\":[{\"colorbar\":{\"outlinewidth\":0,\"ticks\":\"\"},\"colorscale\":[[0.0,\"#0d0887\"],[0.1111111111111111,\"#46039f\"],[0.2222222222222222,\"#7201a8\"],[0.3333333333333333,\"#9c179e\"],[0.4444444444444444,\"#bd3786\"],[0.5555555555555556,\"#d8576b\"],[0.6666666666666666,\"#ed7953\"],[0.7777777777777778,\"#fb9f3a\"],[0.8888888888888888,\"#fdca26\"],[1.0,\"#f0f921\"]],\"type\":\"heatmapgl\"}],\"histogram\":[{\"marker\":{\"pattern\":{\"fillmode\":\"overlay\",\"size\":10,\"solidity\":0.2}},\"type\":\"histogram\"}],\"histogram2d\":[{\"colorbar\":{\"outlinewidth\":0,\"ticks\":\"\"},\"colorscale\":[[0.0,\"#0d0887\"],[0.1111111111111111,\"#46039f\"],[0.2222222222222222,\"#7201a8\"],[0.3333333333333333,\"#9c179e\"],[0.4444444444444444,\"#bd3786\"],[0.5555555555555556,\"#d8576b\"],[0.6666666666666666,\"#ed7953\"],[0.7777777777777778,\"#fb9f3a\"],[0.8888888888888888,\"#fdca26\"],[1.0,\"#f0f921\"]],\"type\":\"histogram2d\"}],\"histogram2dcontour\":[{\"colorbar\":{\"outlinewidth\":0,\"ticks\":\"\"},\"colorscale\":[[0.0,\"#0d0887\"],[0.1111111111111111,\"#46039f\"],[0.2222222222222222,\"#7201a8\"],[0.3333333333333333,\"#9c179e\"],[0.4444444444444444,\"#bd3786\"],[0.5555555555555556,\"#d8576b\"],[0.6666666666666666,\"#ed7953\"],[0.7777777777777778,\"#fb9f3a\"],[0.8888888888888888,\"#fdca26\"],[1.0,\"#f0f921\"]],\"type\":\"histogram2dcontour\"}],\"mesh3d\":[{\"colorbar\":{\"outlinewidth\":0,\"ticks\":\"\"},\"type\":\"mesh3d\"}],\"parcoords\":[{\"line\":{\"colorbar\":{\"outlinewidth\":0,\"ticks\":\"\"}},\"type\":\"parcoords\"}],\"pie\":[{\"automargin\":true,\"type\":\"pie\"}],\"scatter\":[{\"marker\":{\"colorbar\":{\"outlinewidth\":0,\"ticks\":\"\"}},\"type\":\"scatter\"}],\"scatter3d\":[{\"line\":{\"colorbar\":{\"outlinewidth\":0,\"ticks\":\"\"}},\"marker\":{\"colorbar\":{\"outlinewidth\":0,\"ticks\":\"\"}},\"type\":\"scatter3d\"}],\"scattercarpet\":[{\"marker\":{\"colorbar\":{\"outlinewidth\":0,\"ticks\":\"\"}},\"type\":\"scattercarpet\"}],\"scattergeo\":[{\"marker\":{\"colorbar\":{\"outlinewidth\":0,\"ticks\":\"\"}},\"type\":\"scattergeo\"}],\"scattergl\":[{\"marker\":{\"colorbar\":{\"outlinewidth\":0,\"ticks\":\"\"}},\"type\":\"scattergl\"}],\"scattermapbox\":[{\"marker\":{\"colorbar\":{\"outlinewidth\":0,\"ticks\":\"\"}},\"type\":\"scattermapbox\"}],\"scatterpolar\":[{\"marker\":{\"colorbar\":{\"outlinewidth\":0,\"ticks\":\"\"}},\"type\":\"scatterpolar\"}],\"scatterpolargl\":[{\"marker\":{\"colorbar\":{\"outlinewidth\":0,\"ticks\":\"\"}},\"type\":\"scatterpolargl\"}],\"scatterternary\":[{\"marker\":{\"colorbar\":{\"outlinewidth\":0,\"ticks\":\"\"}},\"type\":\"scatterternary\"}],\"surface\":[{\"colorbar\":{\"outlinewidth\":0,\"ticks\":\"\"},\"colorscale\":[[0.0,\"#0d0887\"],[0.1111111111111111,\"#46039f\"],[0.2222222222222222,\"#7201a8\"],[0.3333333333333333,\"#9c179e\"],[0.4444444444444444,\"#bd3786\"],[0.5555555555555556,\"#d8576b\"],[0.6666666666666666,\"#ed7953\"],[0.7777777777777778,\"#fb9f3a\"],[0.8888888888888888,\"#fdca26\"],[1.0,\"#f0f921\"]],\"type\":\"surface\"}],\"table\":[{\"cells\":{\"fill\":{\"color\":\"#EBF0F8\"},\"line\":{\"color\":\"white\"}},\"header\":{\"fill\":{\"color\":\"#C8D4E3\"},\"line\":{\"color\":\"white\"}},\"type\":\"table\"}]},\"layout\":{\"annotationdefaults\":{\"arrowcolor\":\"#2a3f5f\",\"arrowhead\":0,\"arrowwidth\":1},\"autotypenumbers\":\"strict\",\"coloraxis\":{\"colorbar\":{\"outlinewidth\":0,\"ticks\":\"\"}},\"colorscale\":{\"diverging\":[[0,\"#8e0152\"],[0.1,\"#c51b7d\"],[0.2,\"#de77ae\"],[0.3,\"#f1b6da\"],[0.4,\"#fde0ef\"],[0.5,\"#f7f7f7\"],[0.6,\"#e6f5d0\"],[0.7,\"#b8e186\"],[0.8,\"#7fbc41\"],[0.9,\"#4d9221\"],[1,\"#276419\"]],\"sequential\":[[0.0,\"#0d0887\"],[0.1111111111111111,\"#46039f\"],[0.2222222222222222,\"#7201a8\"],[0.3333333333333333,\"#9c179e\"],[0.4444444444444444,\"#bd3786\"],[0.5555555555555556,\"#d8576b\"],[0.6666666666666666,\"#ed7953\"],[0.7777777777777778,\"#fb9f3a\"],[0.8888888888888888,\"#fdca26\"],[1.0,\"#f0f921\"]],\"sequentialminus\":[[0.0,\"#0d0887\"],[0.1111111111111111,\"#46039f\"],[0.2222222222222222,\"#7201a8\"],[0.3333333333333333,\"#9c179e\"],[0.4444444444444444,\"#bd3786\"],[0.5555555555555556,\"#d8576b\"],[0.6666666666666666,\"#ed7953\"],[0.7777777777777778,\"#fb9f3a\"],[0.8888888888888888,\"#fdca26\"],[1.0,\"#f0f921\"]]},\"colorway\":[\"#636efa\",\"#EF553B\",\"#00cc96\",\"#ab63fa\",\"#FFA15A\",\"#19d3f3\",\"#FF6692\",\"#B6E880\",\"#FF97FF\",\"#FECB52\"],\"font\":{\"color\":\"#2a3f5f\"},\"geo\":{\"bgcolor\":\"white\",\"lakecolor\":\"white\",\"landcolor\":\"#E5ECF6\",\"showlakes\":true,\"showland\":true,\"subunitcolor\":\"white\"},\"hoverlabel\":{\"align\":\"left\"},\"hovermode\":\"closest\",\"mapbox\":{\"style\":\"light\"},\"paper_bgcolor\":\"white\",\"plot_bgcolor\":\"#E5ECF6\",\"polar\":{\"angularaxis\":{\"gridcolor\":\"white\",\"linecolor\":\"white\",\"ticks\":\"\"},\"bgcolor\":\"#E5ECF6\",\"radialaxis\":{\"gridcolor\":\"white\",\"linecolor\":\"white\",\"ticks\":\"\"}},\"scene\":{\"xaxis\":{\"backgroundcolor\":\"#E5ECF6\",\"gridcolor\":\"white\",\"gridwidth\":2,\"linecolor\":\"white\",\"showbackground\":true,\"ticks\":\"\",\"zerolinecolor\":\"white\"},\"yaxis\":{\"backgroundcolor\":\"#E5ECF6\",\"gridcolor\":\"white\",\"gridwidth\":2,\"linecolor\":\"white\",\"showbackground\":true,\"ticks\":\"\",\"zerolinecolor\":\"white\"},\"zaxis\":{\"backgroundcolor\":\"#E5ECF6\",\"gridcolor\":\"white\",\"gridwidth\":2,\"linecolor\":\"white\",\"showbackground\":true,\"ticks\":\"\",\"zerolinecolor\":\"white\"}},\"shapedefaults\":{\"line\":{\"color\":\"#2a3f5f\"}},\"ternary\":{\"aaxis\":{\"gridcolor\":\"white\",\"linecolor\":\"white\",\"ticks\":\"\"},\"baxis\":{\"gridcolor\":\"white\",\"linecolor\":\"white\",\"ticks\":\"\"},\"bgcolor\":\"#E5ECF6\",\"caxis\":{\"gridcolor\":\"white\",\"linecolor\":\"white\",\"ticks\":\"\"}},\"title\":{\"x\":0.05},\"xaxis\":{\"automargin\":true,\"gridcolor\":\"white\",\"linecolor\":\"white\",\"ticks\":\"\",\"title\":{\"standoff\":15},\"zerolinecolor\":\"white\",\"zerolinewidth\":2},\"yaxis\":{\"automargin\":true,\"gridcolor\":\"white\",\"linecolor\":\"white\",\"ticks\":\"\",\"title\":{\"standoff\":15},\"zerolinecolor\":\"white\",\"zerolinewidth\":2}}},\"xaxis\":{\"anchor\":\"y\",\"domain\":[0.0,1.0],\"title\":{\"text\":\"Class\"}},\"yaxis\":{\"anchor\":\"x\",\"domain\":[0.0,1.0],\"title\":{\"text\":\"percent\"}},\"legend\":{\"tracegroupgap\":0},\"title\":{\"text\":\"Class Distribution\"},\"barmode\":\"relative\"},                        {\"responsive\": true}                    ).then(function(){\n                            \nvar gd = document.getElementById('b1e3e297-ed2f-4042-b678-fe7882b22823');\nvar x = new MutationObserver(function (mutations, observer) {{\n        var display = window.getComputedStyle(gd).display;\n        if (!display || display === 'none') {{\n            console.log([gd, 'removed!']);\n            Plotly.purge(gd);\n            observer.disconnect();\n        }}\n}});\n\n// Listen for the removal of the full notebook cells\nvar notebookContainer = gd.closest('#notebook-container');\nif (notebookContainer) {{\n    x.observe(notebookContainer, {childList: true});\n}}\n\n// Listen for the clearing of the current output cell\nvar outputEl = gd.closest('.output');\nif (outputEl) {{\n    x.observe(outputEl, {childList: true});\n}}\n\n                        })                };                            </script>        </div>\n</body>\n</html>"
     },
     "metadata": {},
     "output_type": "display_data"
    }
   ]
  },
  {
   "cell_type": "markdown",
   "source": "Quite well class distribution. No skewed classes.",
   "metadata": {
    "cell_id": "2b746b927dfb46ecacbe1019be6091c3",
    "tags": [],
    "deepnote_cell_type": "markdown",
    "deepnote_cell_height": 52.390625
   }
  },
  {
   "cell_type": "code",
   "metadata": {
    "cell_id": "0924c059167c4eea82b3aa852dd60eb6",
    "tags": [],
    "deepnote_to_be_reexecuted": false,
    "source_hash": "69098c36",
    "execution_start": 1649618672955,
    "execution_millis": 8,
    "deepnote_cell_type": "code",
    "deepnote_cell_height": 136.1875,
    "deepnote_output_heights": [
     21.1875
    ]
   },
   "source": "# Check y for null values\nlen(y) - y.count()",
   "execution_count": 8,
   "outputs": [
    {
     "output_type": "execute_result",
     "execution_count": 8,
     "data": {
      "text/plain": "0"
     },
     "metadata": {}
    }
   ]
  },
  {
   "cell_type": "markdown",
   "source": "## Fill NaN Values",
   "metadata": {
    "cell_id": "1308d0a411ff49a5afba2e90a6b49c56",
    "tags": [],
    "deepnote_cell_type": "markdown",
    "deepnote_cell_height": 70
   }
  },
  {
   "cell_type": "code",
   "metadata": {
    "cell_id": "f111ca62579449898a1d99ff9d4eb574",
    "tags": [],
    "deepnote_to_be_reexecuted": false,
    "source_hash": "491d3921",
    "execution_start": 1649618672956,
    "execution_millis": 19,
    "deepnote_cell_type": "code",
    "deepnote_cell_height": 99
   },
   "source": "# Fill NaN values with the mean\nX = X.fillna(X.mean())",
   "execution_count": 9,
   "outputs": []
  },
  {
   "cell_type": "markdown",
   "source": "## Feature Normalization",
   "metadata": {
    "cell_id": "6fd0c01cb018467e84908e5929666f05",
    "tags": [],
    "deepnote_cell_type": "markdown",
    "deepnote_cell_height": 70
   }
  },
  {
   "cell_type": "code",
   "metadata": {
    "cell_id": "923121e7097141a68ecc6fe0b9574a90",
    "tags": [],
    "deepnote_to_be_reexecuted": false,
    "source_hash": "8b688543",
    "execution_start": 1649618672977,
    "execution_millis": 17,
    "deepnote_cell_type": "code",
    "deepnote_cell_height": 99
   },
   "source": "# Instantiate MinMaxScaler\nmin_max_scaler = MinMaxScaler()",
   "execution_count": 10,
   "outputs": []
  },
  {
   "cell_type": "code",
   "metadata": {
    "cell_id": "9473427399964bc788c0896931e4f232",
    "tags": [],
    "deepnote_to_be_reexecuted": false,
    "source_hash": "bd9072e1",
    "execution_start": 1649618672994,
    "execution_millis": 14,
    "deepnote_cell_type": "code",
    "deepnote_cell_height": 99
   },
   "source": "# Scale the data\nX_scaled = pd.DataFrame(min_max_scaler.fit_transform(X.values), index=X.index, columns=X.columns)",
   "execution_count": 11,
   "outputs": []
  },
  {
   "cell_type": "markdown",
   "source": "# Feature Selection",
   "metadata": {
    "cell_id": "00006-11948d03-16be-44cf-b760-c5eb9534e310",
    "deepnote_cell_type": "markdown",
    "deepnote_cell_height": 82
   }
  },
  {
   "cell_type": "markdown",
   "source": "## Univariate Selection",
   "metadata": {
    "cell_id": "6b18271b0e7e4c9c8a4e307bfe6cf67c",
    "tags": [],
    "deepnote_cell_type": "markdown",
    "deepnote_cell_height": 70
   }
  },
  {
   "cell_type": "code",
   "metadata": {
    "cell_id": "0a15dd9faae84f9fabbd8726dd8d83b5",
    "tags": [],
    "deepnote_to_be_reexecuted": false,
    "source_hash": "d70f4a76",
    "execution_start": 1649618673011,
    "execution_millis": 6,
    "deepnote_cell_type": "code",
    "deepnote_cell_height": 99
   },
   "source": "# Define the number of desired features\nn_features = 10",
   "execution_count": 12,
   "outputs": []
  },
  {
   "cell_type": "code",
   "metadata": {
    "cell_id": "e4eb2d5e990b436fb4dd7d3921720779",
    "tags": [],
    "deepnote_to_be_reexecuted": false,
    "source_hash": "d0211fdf",
    "execution_start": 1649618673053,
    "execution_millis": 3,
    "deepnote_cell_type": "code",
    "deepnote_cell_height": 99
   },
   "source": "# Fit the feature seletor\nfeature_selector = SelectKBest(score_func=chi2, k=n_features).fit(X_scaled, y)",
   "execution_count": 13,
   "outputs": []
  },
  {
   "cell_type": "code",
   "metadata": {
    "cell_id": "bbdbd0c85d504f769b1db1bb7c2a081f",
    "tags": [],
    "deepnote_to_be_reexecuted": false,
    "source_hash": "f42e1436",
    "execution_start": 1649618673069,
    "execution_millis": 13,
    "deepnote_cell_type": "code",
    "deepnote_cell_height": 135
   },
   "source": "# Extract the most important features\nX_feature_selected = pd.DataFrame(feature_selector.transform(X_scaled), \n                                    index=X_scaled.index, \n                                    columns=feature_selector.get_feature_names_out())",
   "execution_count": 14,
   "outputs": []
  },
  {
   "cell_type": "code",
   "metadata": {
    "cell_id": "efc6c75bb68e4c21a6f13f904d017092",
    "tags": [],
    "deepnote_to_be_reexecuted": false,
    "source_hash": "8d204446",
    "execution_start": 1649618673093,
    "execution_millis": 97,
    "deepnote_cell_type": "code",
    "deepnote_cell_height": 615
   },
   "source": "X_feature_selected",
   "execution_count": 15,
   "outputs": [
    {
     "output_type": "execute_result",
     "execution_count": 15,
     "data": {
      "application/vnd.deepnote.dataframe.v3+json": {
       "column_count": 10,
       "row_count": 3808,
       "columns": [
        {
         "name": "Short-term investments",
         "dtype": "float64",
         "stats": {
          "unique_count": 1044,
          "nan_count": 0,
          "min": "0.0",
          "max": "1.0",
          "histogram": [
           {
            "bin_start": 0,
            "bin_end": 0.1,
            "count": 3776
           },
           {
            "bin_start": 0.1,
            "bin_end": 0.2,
            "count": 15
           },
           {
            "bin_start": 0.2,
            "bin_end": 0.30000000000000004,
            "count": 6
           },
           {
            "bin_start": 0.30000000000000004,
            "bin_end": 0.4,
            "count": 1
           },
           {
            "bin_start": 0.4,
            "bin_end": 0.5,
            "count": 4
           },
           {
            "bin_start": 0.5,
            "bin_end": 0.6000000000000001,
            "count": 1
           },
           {
            "bin_start": 0.6000000000000001,
            "bin_end": 0.7000000000000001,
            "count": 0
           },
           {
            "bin_start": 0.7000000000000001,
            "bin_end": 0.8,
            "count": 1
           },
           {
            "bin_start": 0.8,
            "bin_end": 0.9,
            "count": 1
           },
           {
            "bin_start": 0.9,
            "bin_end": 1,
            "count": 3
           }
          ]
         }
        },
        {
         "name": "Cash and short-term investments",
         "dtype": "float64",
         "stats": {
          "unique_count": 2834,
          "nan_count": 0,
          "min": "0.0",
          "max": "0.9999999999999999",
          "histogram": [
           {
            "bin_start": 0,
            "bin_end": 0.09999999999999999,
            "count": 3750
           },
           {
            "bin_start": 0.09999999999999999,
            "bin_end": 0.19999999999999998,
            "count": 34
           },
           {
            "bin_start": 0.19999999999999998,
            "bin_end": 0.3,
            "count": 9
           },
           {
            "bin_start": 0.3,
            "bin_end": 0.39999999999999997,
            "count": 6
           },
           {
            "bin_start": 0.39999999999999997,
            "bin_end": 0.49999999999999994,
            "count": 4
           },
           {
            "bin_start": 0.49999999999999994,
            "bin_end": 0.6,
            "count": 1
           },
           {
            "bin_start": 0.6,
            "bin_end": 0.7,
            "count": 1
           },
           {
            "bin_start": 0.7,
            "bin_end": 0.7999999999999999,
            "count": 1
           },
           {
            "bin_start": 0.7999999999999999,
            "bin_end": 0.8999999999999999,
            "count": 1
           },
           {
            "bin_start": 0.8999999999999999,
            "bin_end": 0.9999999999999999,
            "count": 1
           }
          ]
         }
        },
        {
         "name": "Property, Plant & Equipment Net",
         "dtype": "float64",
         "stats": {
          "unique_count": 3486,
          "nan_count": 0,
          "min": "0.0",
          "max": "0.9999999999999999",
          "histogram": [
           {
            "bin_start": 0,
            "bin_end": 0.09999999999999999,
            "count": 3794
           },
           {
            "bin_start": 0.09999999999999999,
            "bin_end": 0.19999999999999998,
            "count": 8
           },
           {
            "bin_start": 0.19999999999999998,
            "bin_end": 0.3,
            "count": 3
           },
           {
            "bin_start": 0.3,
            "bin_end": 0.39999999999999997,
            "count": 1
           },
           {
            "bin_start": 0.39999999999999997,
            "bin_end": 0.49999999999999994,
            "count": 0
           },
           {
            "bin_start": 0.49999999999999994,
            "bin_end": 0.6,
            "count": 0
           },
           {
            "bin_start": 0.6,
            "bin_end": 0.7,
            "count": 1
           },
           {
            "bin_start": 0.7,
            "bin_end": 0.7999999999999999,
            "count": 0
           },
           {
            "bin_start": 0.7999999999999999,
            "bin_end": 0.8999999999999999,
            "count": 0
           },
           {
            "bin_start": 0.8999999999999999,
            "bin_end": 0.9999999999999999,
            "count": 1
           }
          ]
         }
        },
        {
         "name": "Deferred revenue",
         "dtype": "float64",
         "stats": {
          "unique_count": 1268,
          "nan_count": 0,
          "min": "0.0",
          "max": "1.0",
          "histogram": [
           {
            "bin_start": 0,
            "bin_end": 0.1,
            "count": 3770
           },
           {
            "bin_start": 0.1,
            "bin_end": 0.2,
            "count": 21
           },
           {
            "bin_start": 0.2,
            "bin_end": 0.30000000000000004,
            "count": 6
           },
           {
            "bin_start": 0.30000000000000004,
            "bin_end": 0.4,
            "count": 3
           },
           {
            "bin_start": 0.4,
            "bin_end": 0.5,
            "count": 3
           },
           {
            "bin_start": 0.5,
            "bin_end": 0.6000000000000001,
            "count": 1
           },
           {
            "bin_start": 0.6000000000000001,
            "bin_end": 0.7000000000000001,
            "count": 1
           },
           {
            "bin_start": 0.7000000000000001,
            "bin_end": 0.8,
            "count": 0
           },
           {
            "bin_start": 0.8,
            "bin_end": 0.9,
            "count": 1
           },
           {
            "bin_start": 0.9,
            "bin_end": 1,
            "count": 2
           }
          ]
         }
        },
        {
         "name": "cashPerShare",
         "dtype": "float64",
         "stats": {
          "unique_count": 3468,
          "nan_count": 0,
          "min": "0.0",
          "max": "1.0",
          "histogram": [
           {
            "bin_start": 0,
            "bin_end": 0.1,
            "count": 3803
           },
           {
            "bin_start": 0.1,
            "bin_end": 0.2,
            "count": 1
           },
           {
            "bin_start": 0.2,
            "bin_end": 0.30000000000000004,
            "count": 1
           },
           {
            "bin_start": 0.30000000000000004,
            "bin_end": 0.4,
            "count": 0
           },
           {
            "bin_start": 0.4,
            "bin_end": 0.5,
            "count": 0
           },
           {
            "bin_start": 0.5,
            "bin_end": 0.6000000000000001,
            "count": 1
           },
           {
            "bin_start": 0.6000000000000001,
            "bin_end": 0.7000000000000001,
            "count": 0
           },
           {
            "bin_start": 0.7000000000000001,
            "bin_end": 0.8,
            "count": 0
           },
           {
            "bin_start": 0.8,
            "bin_end": 0.9,
            "count": 0
           },
           {
            "bin_start": 0.9,
            "bin_end": 1,
            "count": 2
           }
          ]
         }
        },
        {
         "name": "Cash per Share",
         "dtype": "float64",
         "stats": {
          "unique_count": 3468,
          "nan_count": 0,
          "min": "0.0",
          "max": "1.0",
          "histogram": [
           {
            "bin_start": 0,
            "bin_end": 0.1,
            "count": 3803
           },
           {
            "bin_start": 0.1,
            "bin_end": 0.2,
            "count": 1
           },
           {
            "bin_start": 0.2,
            "bin_end": 0.30000000000000004,
            "count": 1
           },
           {
            "bin_start": 0.30000000000000004,
            "bin_end": 0.4,
            "count": 0
           },
           {
            "bin_start": 0.4,
            "bin_end": 0.5,
            "count": 0
           },
           {
            "bin_start": 0.5,
            "bin_end": 0.6000000000000001,
            "count": 1
           },
           {
            "bin_start": 0.6000000000000001,
            "bin_end": 0.7000000000000001,
            "count": 0
           },
           {
            "bin_start": 0.7000000000000001,
            "bin_end": 0.8,
            "count": 0
           },
           {
            "bin_start": 0.8,
            "bin_end": 0.9,
            "count": 0
           },
           {
            "bin_start": 0.9,
            "bin_end": 1,
            "count": 2
           }
          ]
         }
        },
        {
         "name": "Tangible Book Value per Share",
         "dtype": "float64",
         "stats": {
          "unique_count": 3505,
          "nan_count": 0,
          "min": "0.0",
          "max": "1.0",
          "histogram": [
           {
            "bin_start": 0,
            "bin_end": 0.1,
            "count": 3806
           },
           {
            "bin_start": 0.1,
            "bin_end": 0.2,
            "count": 0
           },
           {
            "bin_start": 0.2,
            "bin_end": 0.30000000000000004,
            "count": 1
           },
           {
            "bin_start": 0.30000000000000004,
            "bin_end": 0.4,
            "count": 0
           },
           {
            "bin_start": 0.4,
            "bin_end": 0.5,
            "count": 0
           },
           {
            "bin_start": 0.5,
            "bin_end": 0.6000000000000001,
            "count": 0
           },
           {
            "bin_start": 0.6000000000000001,
            "bin_end": 0.7000000000000001,
            "count": 0
           },
           {
            "bin_start": 0.7000000000000001,
            "bin_end": 0.8,
            "count": 0
           },
           {
            "bin_start": 0.8,
            "bin_end": 0.9,
            "count": 0
           },
           {
            "bin_start": 0.9,
            "bin_end": 1,
            "count": 1
           }
          ]
         }
        },
        {
         "name": "Interest Debt per Share",
         "dtype": "float64",
         "stats": {
          "unique_count": 2896,
          "nan_count": 0,
          "min": "0.0",
          "max": "1.0",
          "histogram": [
           {
            "bin_start": 0,
            "bin_end": 0.1,
            "count": 3803
           },
           {
            "bin_start": 0.1,
            "bin_end": 0.2,
            "count": 0
           },
           {
            "bin_start": 0.2,
            "bin_end": 0.30000000000000004,
            "count": 1
           },
           {
            "bin_start": 0.30000000000000004,
            "bin_end": 0.4,
            "count": 1
           },
           {
            "bin_start": 0.4,
            "bin_end": 0.5,
            "count": 0
           },
           {
            "bin_start": 0.5,
            "bin_end": 0.6000000000000001,
            "count": 2
           },
           {
            "bin_start": 0.6000000000000001,
            "bin_end": 0.7000000000000001,
            "count": 0
           },
           {
            "bin_start": 0.7000000000000001,
            "bin_end": 0.8,
            "count": 0
           },
           {
            "bin_start": 0.8,
            "bin_end": 0.9,
            "count": 0
           },
           {
            "bin_start": 0.9,
            "bin_end": 1,
            "count": 1
           }
          ]
         }
        },
        {
         "name": "Market Cap",
         "dtype": "float64",
         "stats": {
          "unique_count": 3508,
          "nan_count": 0,
          "min": "0.0",
          "max": "1.0",
          "histogram": [
           {
            "bin_start": 0,
            "bin_end": 0.1,
            "count": 3807
           },
           {
            "bin_start": 0.1,
            "bin_end": 0.2,
            "count": 0
           },
           {
            "bin_start": 0.2,
            "bin_end": 0.30000000000000004,
            "count": 0
           },
           {
            "bin_start": 0.30000000000000004,
            "bin_end": 0.4,
            "count": 0
           },
           {
            "bin_start": 0.4,
            "bin_end": 0.5,
            "count": 0
           },
           {
            "bin_start": 0.5,
            "bin_end": 0.6000000000000001,
            "count": 0
           },
           {
            "bin_start": 0.6000000000000001,
            "bin_end": 0.7000000000000001,
            "count": 0
           },
           {
            "bin_start": 0.7000000000000001,
            "bin_end": 0.8,
            "count": 0
           },
           {
            "bin_start": 0.8,
            "bin_end": 0.9,
            "count": 0
           },
           {
            "bin_start": 0.9,
            "bin_end": 1,
            "count": 1
           }
          ]
         }
        },
        {
         "name": "Intangibles to Total Assets",
         "dtype": "float64",
         "stats": {
          "unique_count": 1874,
          "nan_count": 0,
          "min": "0.0",
          "max": "1.0",
          "histogram": [
           {
            "bin_start": 0,
            "bin_end": 0.1,
            "count": 2197
           },
           {
            "bin_start": 0.1,
            "bin_end": 0.2,
            "count": 578
           },
           {
            "bin_start": 0.2,
            "bin_end": 0.30000000000000004,
            "count": 283
           },
           {
            "bin_start": 0.30000000000000004,
            "bin_end": 0.4,
            "count": 214
           },
           {
            "bin_start": 0.4,
            "bin_end": 0.5,
            "count": 185
           },
           {
            "bin_start": 0.5,
            "bin_end": 0.6000000000000001,
            "count": 133
           },
           {
            "bin_start": 0.6000000000000001,
            "bin_end": 0.7000000000000001,
            "count": 97
           },
           {
            "bin_start": 0.7000000000000001,
            "bin_end": 0.8,
            "count": 69
           },
           {
            "bin_start": 0.8,
            "bin_end": 0.9,
            "count": 40
           },
           {
            "bin_start": 0.9,
            "bin_end": 1,
            "count": 12
           }
          ]
         }
        },
        {
         "name": "_deepnote_index_column",
         "dtype": "object"
        }
       ],
       "rows": [
        {
         "Short-term investments": 0.04621264767199444,
         "Cash and short-term investments": 0.12467768845745487,
         "Property, Plant & Equipment Net": 0.02442892567052494,
         "Deferred revenue": 0,
         "cashPerShare": 6.556929194628576e-8,
         "Cash per Share": 6.556929194628576e-8,
         "Tangible Book Value per Share": 2.0149004300409207e-8,
         "Interest Debt per Share": 9.96851570674768e-8,
         "Market Cap": 0.0022108015021086993,
         "Intangibles to Total Assets": 0.6318740565020488,
         "_deepnote_index_column": "PG"
        },
        {
         "Short-term investments": 0.013211979054356324,
         "Cash and short-term investments": 0.016123161681720705,
         "Property, Plant & Equipment Net": 0.0003379979252532266,
         "Deferred revenue": 0.0012485508762540743,
         "cashPerShare": 0.0000010860357140437308,
         "Cash per Share": 0.0000010860357140437308,
         "Tangible Book Value per Share": 4.1029321865788625e-9,
         "Interest Debt per Share": 2.1799095039193817e-7,
         "Market Cap": 0.00006500748502994012,
         "Intangibles to Total Assets": 0.07515635108906621,
         "_deepnote_index_column": "VIPS"
        },
        {
         "Short-term investments": 0,
         "Cash and short-term investments": 0.004678621848347314,
         "Property, Plant & Equipment Net": 0.01850241397741113,
         "Deferred revenue": 0,
         "cashPerShare": 8.087833045040814e-9,
         "Cash per Share": 8.087833045040814e-9,
         "Tangible Book Value per Share": 2.3486020509480553e-8,
         "Interest Debt per Share": 9.119010500594586e-8,
         "Market Cap": 0.00018998148429474383,
         "Intangibles to Total Assets": 0.10448565883114083,
         "_deepnote_index_column": "KR"
        },
        {
         "Short-term investments": 0,
         "Cash and short-term investments": 0.0017081753374791444,
         "Property, Plant & Equipment Net": 0.0021438058040603885,
         "Deferred revenue": 0,
         "cashPerShare": 6.280976726467866e-8,
         "Cash per Share": 6.280976726467866e-8,
         "Tangible Book Value per Share": 1.230587495867803e-7,
         "Interest Debt per Share": 5.314085394691231e-7,
         "Market Cap": 0.0000661150440410845,
         "Intangibles to Total Assets": 0.06696139745525125,
         "_deepnote_index_column": "RAD"
        },
        {
         "Short-term investments": 0,
         "Cash and short-term investments": 0.010119124012647446,
         "Property, Plant & Equipment Net": 0.004317448982274133,
         "Deferred revenue": 0,
         "cashPerShare": 2.926215729241375e-8,
         "Cash per Share": 2.926215729241375e-8,
         "Tangible Book Value per Share": 1.4086682103902016e-8,
         "Interest Debt per Share": 1.046081020271256e-7,
         "Market Cap": 0.0003464951061776447,
         "Intangibles to Total Assets": 0.6366185033426786,
         "_deepnote_index_column": "GIS"
        },
        {
         "Short-term investments": 0,
         "Cash and short-term investments": 0.019624543513516664,
         "Property, Plant & Equipment Net": 0.006649390591183506,
         "Deferred revenue": 0,
         "cashPerShare": 2.2445239821997396e-8,
         "Cash per Share": 2.2445239821997396e-8,
         "Tangible Book Value per Share": 1.399355607016049e-8,
         "Interest Debt per Share": 1.235804935309789e-7,
         "Market Cap": 0.001315598991111527,
         "Intangibles to Total Assets": 0.34850118611171016,
         "_deepnote_index_column": "PM"
        },
        {
         "Short-term investments": 0.07959086170952051,
         "Cash and short-term investments": 0.25289059492002003,
         "Property, Plant & Equipment Net": 0.016027101387051268,
         "Deferred revenue": 0,
         "cashPerShare": 8.511402460857742e-8,
         "Cash per Share": 8.511402460857742e-8,
         "Tangible Book Value per Share": 1.3663049950411152e-8,
         "Interest Debt per Share": 8.513901908672156e-8,
         "Market Cap": 0.0019224921466361028,
         "Intangibles to Total Assets": 0.3090360146646539,
         "_deepnote_index_column": "KO"
        },
        {
         "Short-term investments": 0,
         "Cash and short-term investments": 0.08495023859804687,
         "Property, Plant & Equipment Net": 0.1291401245980355,
         "Deferred revenue": 0,
         "cashPerShare": 4.617798139251321e-8,
         "Cash per Share": 4.617798139251321e-8,
         "Tangible Book Value per Share": 5.173607674507172e-8,
         "Interest Debt per Share": 1.1693989187394683e-7,
         "Market Cap": 0.00251213702877994,
         "Intangibles to Total Assets": 0.1027604054345482,
         "_deepnote_index_column": "WMT"
        },
        {
         "Short-term investments": 0,
         "Cash and short-term investments": 0.019029506819587205,
         "Property, Plant & Equipment Net": 0.010763228683834674,
         "Deferred revenue": 0,
         "cashPerShare": 2.0129395292053643e-8,
         "Cash per Share": 2.0129395292053643e-8,
         "Tangible Book Value per Share": 1.2525451538235255e-8,
         "Interest Debt per Share": 8.676385148284781e-8,
         "Market Cap": 0.0006344769707054641,
         "Intangibles to Total Assets": 0.7060599525555317,
         "_deepnote_index_column": "MDLZ"
        },
        {
         "Short-term investments": 0,
         "Cash and short-term investments": 0.038747389422347706,
         "Property, Plant & Equipment Net": 0.002171922507382127,
         "Deferred revenue": 0,
         "cashPerShare": 3.483718499252007e-8,
         "Cash per Share": 3.483718499252007e-8,
         "Tangible Book Value per Share": 7.918451869022113e-9,
         "Interest Debt per Share": 7.666432323160667e-8,
         "Market Cap": 0.001012357368125624,
         "Intangibles to Total Assets": 0.5421608798792323,
         "_deepnote_index_column": "MO"
        }
       ]
      },
      "text/plain": "       Short-term investments  Cash and short-term investments  \\\nPG                   0.046213                         0.124678   \nVIPS                 0.013212                         0.016123   \nKR                   0.000000                         0.004679   \nRAD                  0.000000                         0.001708   \nGIS                  0.000000                         0.010119   \n...                       ...                              ...   \nTSRI                 0.000033                         0.000051   \nTZOO                 0.000000                         0.000681   \nUSATP                0.005674                         0.009913   \nWSTG                 0.000000                         0.000270   \nWTT                  0.000000                         0.000125   \n\n       Property, Plant & Equipment Net  Deferred revenue  cashPerShare  \\\nPG                        2.442893e-02          0.000000  6.556929e-08   \nVIPS                      3.379979e-04          0.001249  1.086036e-06   \nKR                        1.850241e-02          0.000000  8.087833e-09   \nRAD                       2.143806e-03          0.000000  6.280977e-08   \nGIS                       4.317449e-03          0.000000  2.926216e-08   \n...                                ...               ...           ...   \nTSRI                      3.734327e-08          0.000059  3.003134e-08   \nTZOO                      1.040288e-05          0.000059  8.189216e-08   \nUSATP                     2.300069e-05          0.000040  8.644791e-04   \nWSTG                      4.512517e-07          0.000000  1.028592e-07   \nWTT                       1.850229e-06          0.000000  1.087431e-08   \n\n       Cash per Share  Tangible Book Value per Share  Interest Debt per Share  \\\nPG       6.556929e-08                   2.014900e-08             9.968516e-08   \nVIPS     1.086036e-06                   4.102932e-09             2.179910e-07   \nKR       8.087833e-09                   2.348602e-08             9.119011e-08   \nRAD      6.280977e-08                   1.230587e-07             5.314085e-07   \nGIS      2.926216e-08                   1.408668e-08             1.046081e-07   \n...               ...                            ...                      ...   \nTSRI     3.003134e-08                   6.310658e-09             4.639872e-08   \nTZOO     8.189216e-08                   5.768336e-09             4.667434e-08   \nUSATP    8.644791e-04                   3.598638e-04             8.512586e-04   \nWSTG     1.028592e-07                   1.860512e-08             4.639872e-08   \nWTT      1.087431e-08                   1.560318e-09             4.640523e-08   \n\n         Market Cap  Intangibles to Total Assets  \nPG     2.210802e-03                     0.631874  \nVIPS   6.500749e-05                     0.075156  \nKR     1.899815e-04                     0.104486  \nRAD    6.611504e-05                     0.066961  \nGIS    3.464951e-04                     0.636619  \n...             ...                          ...  \nTSRI   6.261987e-08                     0.000000  \nTZOO   1.932576e-06                     0.000000  \nUSATP  3.642339e-04                     0.153366  \nWSTG   8.769462e-07                     0.000000  \nWTT    5.295306e-07                     0.040112  \n\n[3808 rows x 10 columns]",
      "text/html": "<div>\n<style scoped>\n    .dataframe tbody tr th:only-of-type {\n        vertical-align: middle;\n    }\n\n    .dataframe tbody tr th {\n        vertical-align: top;\n    }\n\n    .dataframe thead th {\n        text-align: right;\n    }\n</style>\n<table border=\"1\" class=\"dataframe\">\n  <thead>\n    <tr style=\"text-align: right;\">\n      <th></th>\n      <th>Short-term investments</th>\n      <th>Cash and short-term investments</th>\n      <th>Property, Plant &amp; Equipment Net</th>\n      <th>Deferred revenue</th>\n      <th>cashPerShare</th>\n      <th>Cash per Share</th>\n      <th>Tangible Book Value per Share</th>\n      <th>Interest Debt per Share</th>\n      <th>Market Cap</th>\n      <th>Intangibles to Total Assets</th>\n    </tr>\n  </thead>\n  <tbody>\n    <tr>\n      <th>PG</th>\n      <td>0.046213</td>\n      <td>0.124678</td>\n      <td>2.442893e-02</td>\n      <td>0.000000</td>\n      <td>6.556929e-08</td>\n      <td>6.556929e-08</td>\n      <td>2.014900e-08</td>\n      <td>9.968516e-08</td>\n      <td>2.210802e-03</td>\n      <td>0.631874</td>\n    </tr>\n    <tr>\n      <th>VIPS</th>\n      <td>0.013212</td>\n      <td>0.016123</td>\n      <td>3.379979e-04</td>\n      <td>0.001249</td>\n      <td>1.086036e-06</td>\n      <td>1.086036e-06</td>\n      <td>4.102932e-09</td>\n      <td>2.179910e-07</td>\n      <td>6.500749e-05</td>\n      <td>0.075156</td>\n    </tr>\n    <tr>\n      <th>KR</th>\n      <td>0.000000</td>\n      <td>0.004679</td>\n      <td>1.850241e-02</td>\n      <td>0.000000</td>\n      <td>8.087833e-09</td>\n      <td>8.087833e-09</td>\n      <td>2.348602e-08</td>\n      <td>9.119011e-08</td>\n      <td>1.899815e-04</td>\n      <td>0.104486</td>\n    </tr>\n    <tr>\n      <th>RAD</th>\n      <td>0.000000</td>\n      <td>0.001708</td>\n      <td>2.143806e-03</td>\n      <td>0.000000</td>\n      <td>6.280977e-08</td>\n      <td>6.280977e-08</td>\n      <td>1.230587e-07</td>\n      <td>5.314085e-07</td>\n      <td>6.611504e-05</td>\n      <td>0.066961</td>\n    </tr>\n    <tr>\n      <th>GIS</th>\n      <td>0.000000</td>\n      <td>0.010119</td>\n      <td>4.317449e-03</td>\n      <td>0.000000</td>\n      <td>2.926216e-08</td>\n      <td>2.926216e-08</td>\n      <td>1.408668e-08</td>\n      <td>1.046081e-07</td>\n      <td>3.464951e-04</td>\n      <td>0.636619</td>\n    </tr>\n    <tr>\n      <th>...</th>\n      <td>...</td>\n      <td>...</td>\n      <td>...</td>\n      <td>...</td>\n      <td>...</td>\n      <td>...</td>\n      <td>...</td>\n      <td>...</td>\n      <td>...</td>\n      <td>...</td>\n    </tr>\n    <tr>\n      <th>TSRI</th>\n      <td>0.000033</td>\n      <td>0.000051</td>\n      <td>3.734327e-08</td>\n      <td>0.000059</td>\n      <td>3.003134e-08</td>\n      <td>3.003134e-08</td>\n      <td>6.310658e-09</td>\n      <td>4.639872e-08</td>\n      <td>6.261987e-08</td>\n      <td>0.000000</td>\n    </tr>\n    <tr>\n      <th>TZOO</th>\n      <td>0.000000</td>\n      <td>0.000681</td>\n      <td>1.040288e-05</td>\n      <td>0.000059</td>\n      <td>8.189216e-08</td>\n      <td>8.189216e-08</td>\n      <td>5.768336e-09</td>\n      <td>4.667434e-08</td>\n      <td>1.932576e-06</td>\n      <td>0.000000</td>\n    </tr>\n    <tr>\n      <th>USATP</th>\n      <td>0.005674</td>\n      <td>0.009913</td>\n      <td>2.300069e-05</td>\n      <td>0.000040</td>\n      <td>8.644791e-04</td>\n      <td>8.644791e-04</td>\n      <td>3.598638e-04</td>\n      <td>8.512586e-04</td>\n      <td>3.642339e-04</td>\n      <td>0.153366</td>\n    </tr>\n    <tr>\n      <th>WSTG</th>\n      <td>0.000000</td>\n      <td>0.000270</td>\n      <td>4.512517e-07</td>\n      <td>0.000000</td>\n      <td>1.028592e-07</td>\n      <td>1.028592e-07</td>\n      <td>1.860512e-08</td>\n      <td>4.639872e-08</td>\n      <td>8.769462e-07</td>\n      <td>0.000000</td>\n    </tr>\n    <tr>\n      <th>WTT</th>\n      <td>0.000000</td>\n      <td>0.000125</td>\n      <td>1.850229e-06</td>\n      <td>0.000000</td>\n      <td>1.087431e-08</td>\n      <td>1.087431e-08</td>\n      <td>1.560318e-09</td>\n      <td>4.640523e-08</td>\n      <td>5.295306e-07</td>\n      <td>0.040112</td>\n    </tr>\n  </tbody>\n</table>\n<p>3808 rows × 10 columns</p>\n</div>"
     },
     "metadata": {}
    }
   ]
  },
  {
   "cell_type": "markdown",
   "source": "# Exploratory Data Analysis",
   "metadata": {
    "cell_id": "c3e4d275fa0c460585b102357e1beac3",
    "tags": [],
    "deepnote_cell_type": "markdown",
    "deepnote_cell_height": 82
   }
  },
  {
   "cell_type": "markdown",
   "source": "## Market Cap",
   "metadata": {
    "cell_id": "522894af38a94025b3ef6735490f4163",
    "tags": [],
    "deepnote_cell_type": "markdown",
    "deepnote_cell_height": 70
   }
  },
  {
   "cell_type": "code",
   "metadata": {
    "cell_id": "ed00f63be07b419cb70af5a961e5bd25",
    "tags": [],
    "deepnote_to_be_reexecuted": false,
    "source_hash": "8fc8fd60",
    "execution_start": 1649618673248,
    "execution_millis": 47,
    "deepnote_cell_type": "code",
    "deepnote_cell_height": 732,
    "deepnote_output_heights": [
     527
    ]
   },
   "source": "# Plot the distribution of the market Cap\n# TODO\nfigure = ex.histogram(data_frame=X_feature_selected, \n                        x='Market Cap', \n                        title='Market Cap Distribution', \n                        nbins=X_feature_selected['Market Cap'].nunique())\nfigure.show()",
   "execution_count": 16,
   "outputs": [
    {
     "data": {
      "text/html": "<html>\n<head><meta charset=\"utf-8\" /></head>\n<body>\n    <div>            <script src=\"https://cdnjs.cloudflare.com/ajax/libs/mathjax/2.7.5/MathJax.js?config=TeX-AMS-MML_SVG\"></script><script type=\"text/javascript\">if (window.MathJax) {MathJax.Hub.Config({SVG: {font: \"STIX-Web\"}});}</script>                <script type=\"text/javascript\">window.PlotlyConfig = {MathJaxConfig: 'local'};</script>\n        <script src=\"https://cdn.plot.ly/plotly-2.9.0.min.js\"></script>                <div id=\"dcd41e01-de01-4b14-8692-6658ea532f9f\" class=\"plotly-graph-div\" style=\"height:525px; width:100%;\"></div>            <script type=\"text/javascript\">                                    window.PLOTLYENV=window.PLOTLYENV || {};                                    if (document.getElementById(\"dcd41e01-de01-4b14-8692-6658ea532f9f\")) {                    Plotly.newPlot(                        \"dcd41e01-de01-4b14-8692-6658ea532f9f\",                        [{\"alignmentgroup\":\"True\",\"bingroup\":\"x\",\"hovertemplate\":\"Market Cap=%{x}<br>count=%{y}<extra></extra>\",\"legendgroup\":\"\",\"marker\":{\"color\":\"#636efa\",\"pattern\":{\"shape\":\"\"}},\"name\":\"\",\"nbinsx\":3508,\"offsetgroup\":\"\",\"orientation\":\"v\",\"showlegend\":false,\"x\":[0.0022108015021086993,6.500748502994012e-05,0.00018998148429474383,6.61150440410845e-05,0.0003464951061776447,0.001315598991111527,0.0019224921466361028,0.00251213702877994,0.0006344769707054641,0.001012357368125624,0.0007598693238522954,0.00015670014138389888,4.409441533599468e-05,0.0009199134726946108,0.00010734987317032602,0.00044737058812312875,0.00013781400900521874,0.00036410490894866516,0.00014387237362057135,0.00010753114981585162,0.0015049765085932303,0.000553884156746507,6.756887238554142e-05,0.00018882636181586827,0.00010421496835287757,0.0006555602297739937,0.0003480222150698603,0.00018750801820359282,0.00012723743216317364,0.00022758772195556802,0.00010960138701815119,0.0001372225699679807,1.4674347947334497e-05,1.561029613522954e-05,0.00016010389610716068,5.172321326679974e-05,4.2429897242702096e-05,3.0460433650719395e-05,1.546128395209581e-05,0.0002955195683422738,9.080234315494012e-05,0.00010747369553892217,4.338180392797738e-05,1.8902660921282434e-05,3.597861553871424e-05,4.366267465069861e-06,0.0017057406021290752,6.023369460765968e-06,9.068529607451764e-06,2.7472020754532604e-05,2.9087960849135066e-06,0.00016338427312042583,0.000142043821375998,9.922932761622588e-05,4.6232175578218564e-05,0.00023863697677946192,2.0262392496257487e-05,0.0003642338797040154,5.73869934433217e-06,1.0991099955297737e-06,5.93561369510978e-06,0.00021633233532934132,0.00012218141477461744,2.417519471554287e-05,2.8047942784714946e-05,2.814699360965569e-06,3.763529041323603e-05,1.2691372455089822e-05,1.870819853210246e-05,8.830066186377246e-06,6.338216192614771e-05,2.0141887801064536e-05,0.0003642338797040154,3.094426022226381e-05,0.0003642338797040154,2.2653593954174982e-05,5.864351966669786e-05,4.763857701264138e-05,1.74639550564496e-05,1.4881828187583166e-05,1.2076679973386561e-05,9.142040239313041e-06,1.3489268106287426e-05,1.970609654846557e-05,2.6932788105039923e-05,2.8381166734447773e-05,0.0003642338797040154,7.081274618263473e-06,2.177004209518463e-05,7.953958111901198e-06,8.053376008607785e-06,8.707776114437791e-06,2.7948264616600134e-05,2.3903940052187295e-06,4.115628214404524e-06,2.7044703093812375e-05,3.999290473802395e-05,1.3358061191263306e-05,8.419620857035928e-06,6.029450805576347e-06,6.617448619947604e-06,3.0292955755156354e-05,6.25821678517964e-08,8.667790298569527e-07,5.659658203592814e-06,4.867961851297405e-06,1.9263990710736862e-05,1.5965423320026612e-05,3.506411177644711e-06,1.859310773952096e-05,3.0257962529108453e-06,9.897308398099633e-06,0.0012348823186959415,1.827030079715569e-05,4.053994211576846e-07,3.329880759314704e-06,3.407669468562874e-06,3.7554417812292083e-06,7.798248808632734e-07,3.720360589134232e-06,2.645231635479042e-06,3.1383483033932134e-07,8.47595344165835e-06,4.326243346640053e-06,2.5251113398203594e-06,5.237628908848969e-07,3.9426517277944115e-07,3.5153353917165668e-06,0.0003642338797040154,0.0003642338797040154,7.822573290918164e-07,0.0003642338797040154,1.552420494011976e-06,3.8410825349301397e-07,7.85953289982535e-07,9.72991117764471e-07,9.475568173028943e-07,3.1488241746714905e-06,6.835932868637725e-07,2.9159974738023953e-06,1.2080005988023952e-07,0.0003642338797040154,0.0003642338797040154,3.0792201160179643e-07,2.9887033349966735e-07,5.309227326596806e-07,3.528738381570193e-06,2.716261859614105e-07,2.966462907518297e-05,3.7299012059214905e-07,7.001305805056553e-07,2.2828461826347305e-06,7.392371777278776e-07,2.887492859281437e-06,3.80427374833666e-06,1.5239843822771124e-06,4.1887598220226214e-07,2.284733110237858e-06,8.02492377744511e-07,1.5405411115269462e-07,7.546912238023952e-07,0.0003642338797040154,0.0003642338797040154,9.195138888888889e-07,2.9317941200931474e-07,0.00010257433050565535,0.000674801750665336,1.093463083270958e-05,1.8399451097804392e-05,0.000252347387661344,0.00016266370290512726,4.04426437986527e-05,0.0003642338797040154,1.137115730476547e-05,3.6308944610778444e-05,0.0003642338797040154,0.0003642338797040154,1.233938373253493e-05,4.1350632069194946e-05,0.0003642338797040154,4.5089204830879906e-05,6.859718063872256e-06,1.850969683008982e-05,0.0002457126068243762,3.653942115768463e-05,2.1399110916188458e-05,8.20136965113523e-05,0.0003642338797040154,0.0003642338797040154,0.0003642338797040154,0.0003642338797040154,2.2562531761477044e-05,1.0655578923091317e-05,4.9336832201846304e-05,2.9169734064371257e-05,5.495597289379574e-06,9.576474822604792e-05,5.783039494739687e-05,1.4455464071856287e-05,2.8012620592149036e-05,0.0001956442114619719,2.779118845642049e-05,1.4399036685379241e-05,0.00014091439416874583,0.00041321554208031855,8.999545893088823e-05,3.0100936959414504e-05,2.4482522500000003e-05,9.800438305576347e-05,5.813373253493014e-05,0.0003642338797040154,0.00011713331940868263,7.715020446190953e-05,1.1719657050898203e-05,0.00017621674833198187,0.0003002394169993347,0.0003642338797040154,6.215554171365603e-05,0.00010990643712574851,0.0003642338797040154,4.13255498328676e-05,3.3145275009356286e-05,0.0003642338797040154,0.0003642338797040154,3.4085426377765305e-05,0.0003642338797040154,0.0003642338797040154,9.334730286926147e-06,0.0003642338797040154,1.5221068941803894e-05,1.6656146400948105e-06,5.988023952095808e-05,3.0208221229832003e-05,6.852641979383213e-05,0.00023985693110029942,4.168924421157685e-06,7.32067209130697e-05,1.9855679650184008e-05,3.1181868163672655e-06,2.8495537630988025e-05,1.619261477045908e-05,0.0003642338797040154,4.8916703282705425e-05,4.377226147330339e-05,4.606032167477545e-05,4.7420918782227217e-05,0.0003642338797040154,0.0003260996053243513,3.6808970800482365e-05,0.00032977671780033685,1.7568760544016134e-05,0.0003642338797040154,2.246531700463656e-05,3.834081836327345e-05,0.0003642338797040154,0.0003642338797040154,3.7325717579944276e-05,0.0003642338797040154,2.823259730538922e-05,1.2613496308424818e-06,0.000262508661497006,1.2262974051896208e-05,2.695646655938124e-05,0.0003642338797040154,0.00016861277445109782,0.0003642338797040154,0.0003642338797040154,1.0968199166250833e-05,7.009484597055888e-06,9.68896248253493e-06,5.981393101817199e-05,3.0319408118034765e-05,8.532187164587491e-05,3.516379404732202e-06,3.499908750207918e-05,1.5869219726380574e-05,8.451864881383067e-05,4.134700799442781e-06,8.15797748253493e-06,0.0002666804406825568,1.3313432666749833e-05,5.2240072623502995e-06,0.00015917165668662676,0.0003642338797040154,3.2439253613606124e-06,7.095497840568862e-06,1.1692991560628743e-06,7.390588562874251e-06,4.8482937654898535e-06,1.6390512225548902e-06,1.73168278808009e-05,5.566991017964072e-06,3.926280916812209e-06,1.1534338479291418e-05,7.403485361152695e-06,1.3397174101796408e-05,1.1415092672779442e-05,8.211896098636061e-06,2.750748502994012e-06,9.888203953551231e-06,0.00023626081170991352,3.03142435872006e-05,0.0003642338797040154,0.0003642338797040154,1.918686484468563e-05,0.0003642338797040154,7.3815782756362275e-06,0.0003642338797040154,2.394904021124418e-07,0.0003642338797040154,4.587791822604791e-07,1.1078449045777196e-05,0.0003642338797040154,3.5828542685046576e-05,1.3211578205464073e-05,1.5683853396956087e-05,5.123664154222804e-05,5.321865997172322e-06,2.491221144273952e-05,1.4167807554682301e-05,0.0003642338797040154,5.8983338566616775e-06,1.6934495852045908e-06,5.535391568737525e-06,1.0059506340963906e-05,1.2678977367244679e-05,0.0003642338797040154,3.4396257085828346e-06,8.122747941616767e-06,1.3211202083333333e-05,0.0003642338797040154,7.812103617348636e-06,1.9037577680056554e-06,1.2406865113522955e-06,0.0003642338797040154,5.2568327811564374e-05,2.129747255655356e-05,3.7072534431137725e-06,4.876699101796408e-07,3.276570151363939e-06,6.756717377744511e-07,1.7964071856287426e-06,2.2598958313477214e-05,1.3919534585516467e-05,4.0564638888888886e-06,6.359593096099468e-06,3.753729403692615e-07,2.2964071856287426e-05,1.17585172623503e-05,0.0003642338797040154,4.888751988730872e-07,2.9809591030439126e-06,9.270246666666667e-06,1.0739702199247339e-05,1.041968250998004e-05,2.5749518665793413e-06,0.0003642338797040154,0.0003642338797040154,1.0843809535096473e-05,2.2659456087824353e-06,5.918012846806387e-06,1.2696515746007985e-05,2.976581193862276e-07,0.0003642338797040154,9.377137107035929e-07,9.156760196274119e-07,8.579151833832335e-07,1.9074178574101795e-06,1.0320021831337325e-05,4.670101609281437e-07,1.422436377245509e-07,5.885650199600798e-08,1.3549723708832335e-07,0.0003642338797040154,0.0003642338797040154,2.0816034597471725e-07,3.621216005489022e-06,7.279667165668663e-07,3.314836992681304e-07,5.33702718833167e-06,2.4581020459081835e-07,0.0003642338797040154,0.0003642338797040154,5.958844074351298e-07,1.5512308511102794e-07,3.313173652694611e-07,5.446432010978044e-07,3.2938890968063874e-06,6.471553580339322e-08,3.0549072355289424e-07,2.8356626081170996e-07,7.535761809713905e-05,1.0170387287924151e-07,5.130510853293414e-06,2.1439543648120426e-06,0.0003642338797040154,2.861586468937126e-06,1.4230524284763804e-06,1.580755156353959e-05,0.0003642338797040154,3.44758407663839e-07,0.0003642338797040154,4.804891997255489e-07,1.84902359707668e-06,4.2246930861194275e-06,0.0003642338797040154,5.761880988023953e-07,0.0020403513070998626,0.001017938874997193,5.311640601609281e-06,0.0014783630658327094,0.0010839080852112443,0.0016831035713894087,0.003065018862581712,0.00018271780441720726,0.00070474355644669,0.0005967565112080007,8.896296885395876e-07,0.0006056369453002328,0.0011477897607895667,0.001008662716416438,6.33397141207169e-05,0.0002798471635577803,1.6359020078280937e-05,0.0009287991773710911,0.0008333640313763098,0.00103394752162342,0.0005661009841644836,0.00021933010343905938,7.837750855653277e-05,5.466573031437126e-06,1.0571489687811877e-05,1.0391294568571191e-05,0.00038141447543839406,3.9340599925149705e-06,2.071788920076514e-06,0.00011524658064246507,8.7782912999002e-06,0.0012596382682551564,4.8292220309381245e-06,4.431646821482036e-05,6.99188424778568e-05,0.0002269715709798112,7.071622078904691e-05,0.00035266481467221807,0.00019968512466753992,1.4701580395459084e-05,3.1027399679807055e-06,4.381581455214571e-05,0.0007985645695570318,9.44426635763785e-05,5.3891996880177144e-05,5.176995282185629e-05,3.0288776561460414e-06,4.508799177114521e-05,0.0002243024071438581,0.0007093041168927769,0.00033078891469145045,0.00029705163536676647,2.069654225923154e-05,0.00013709900395608368,5.480343282185629e-05,0.0009165444111776447,0.00047469230845283394,4.7211524728667665e-06,6.860819627411843e-06,1.2876777405813374e-05,4.6085573964570855e-06,5.158895655938123e-05,0.0001144731217608533,3.8128076290543915e-05,0.0016159857035928143,1.2656051578093813e-05,2.057098883898869e-06,7.757730091899535e-05,0.00013858621671656687,3.0517277522039255e-06,7.218226237109116e-06,7.987332502910845e-06,2.922392140718563e-06,1.5926609937416833e-05,2.4613998066367263e-06,0.0005210328484983159,3.293108600507319e-05,7.940359385395875e-06,8.493149118429807e-05,1.977304391217565e-05,7.961110304391218e-07,3.0143183185503993e-05,9.789577665294411e-06,0.00010076166835745176,1.2578856359676482e-05,1.0816122227732036e-05,0.00042242065334819945,0.00018031334371361443,0.0009027083333333334,5.046818060545575e-06,0.0001416580953374501,1.7789238396124417e-06,7.582784760291916e-05,3.216910022663007e-06,0.0002242598968135604,1.2819154933258482e-05,4.058009274575848e-05,3.791886778942116e-06,0.00037099731777372343,3.323242009460246e-05,0.00027978688456420495,0.00019934194281338884,2.685371165834997e-05,0.00024247547674900198,0.00016920872837658017,1.853219315327678e-06,0.0004335930211374127,8.136487025948103e-07,0.00022895354394741765,2.3024009933570363e-05,2.4033567272122422e-05,7.386224858761644e-05,0.0003642338797040154,0.00012840297701752746,0.0003642338797040154,0.00014633888473053892,1.3538351406561876e-05,8.555223005239522e-06,9.478490934797072e-05,2.693250384647372e-05,9.640679163547904e-07,8.226726829362109e-05,1.9245176833832337e-08,2.7482554695608787e-05,3.1558809568363274e-06,1.1033798995758483e-06,7.272978283017299e-07,3.4365113493637726e-05,1.7651729485820028e-05,0.00010296388588947106,5.909996821357286e-06,1.4317878288423154e-05,1.758001842824767e-05,8.353612183549567e-06,7.239638473053893e-06,1.4638973906561877e-05,2.782324940431637e-06,2.8768000563040584e-05,0.001124150760978044,1.5008826645667e-06,4.5632150324351297e-07,4.737607702095808e-06,7.349742296947771e-05,1.117877744510978e-06,6.214185064038589e-06,4.1382198783682634e-05,4.943397890074019e-05,1.0345553656437127e-05,1.697097472658849e-05,1.8348660658058884e-05,3.933569864812043e-05,8.123955574164172e-06,1.5392336138140386e-06,4.666711889491849e-05,7.31854873586161e-08,8.899519903006487e-06,2.3062892698353295e-05,1.2614314558383233e-05,4.987617373066367e-06,7.022684880239521e-06,4.631424650698603e-06,3.609853564579175e-07,0.0002027473170924817,1.4417984561501998e-05,1.6997276150823352e-05,7.517089271457086e-07,2.5596743830048236e-06,7.821415188113357e-05,9.512046843812376e-06,2.5870896337533267e-06,6.640153374085163e-06,2.2015898091317367e-05,3.4640194735528945e-05,1.8818382188123754e-05,7.819455910470726e-06,4.0403721463323354e-07,5.9320102935067365e-05,1.862520259206171e-05,7.61105672151655e-05,3.704275883649368e-06,2.6403462567573186e-06,3.0431432644086828e-06,5.815775360944777e-06,4.561117156312375e-06,1.1553894624812874e-05,3.1433316437125745e-05,1.7002715449309713e-06,2.4532403942115766e-10,5.782457301646706e-06,6.727785870508982e-05,0.0003642338797040154,6.180558182385229e-06,1.5823233051397205e-05,1.2766426288048902e-05,0.0003642338797040154,2.606286646290752e-06,1.0779082201846307e-05,2.4714619173839822e-05,1.8437570946648368e-06,2.3265968063872257e-05,8.020191338157019e-07,8.976266145895708e-05,9.084584783765802e-06,3.310566367265469e-05,1.359142870508982e-07,7.370883233532934e-05,9.335876165377579e-07,2.261355877411843e-06,1.9108214053143712e-06,5.909182508108783e-06,1.890895105622089e-05,1.341143572230539e-06,5.778146132734531e-06,1.0647997518504656e-05,9.774307542207253e-06,5.542995220808383e-06,2.437681289816201e-05,1.5983525099800398e-06,1.4551251109863607e-05,6.9665287290003325e-06,2.9614701085329344e-06,5.235215413339987e-06,6.049028443113773e-06,3.280053899700599e-06,6.091351047904191e-06,2.186926147704591e-06,1.0360969573353293e-06,7.336421834456088e-06,2.1341037013473053e-06,5.413623002744511e-06,2.9999715205006656e-06,1.3347437345309381e-05,7.278226018275948e-06,1.959963832335329e-05,1.2724364532289586e-05,5.595327184797072e-06,3.508584628929641e-05,3.027426381237525e-05,5.769260436834665e-06,7.95458636892881e-07,2.0888391654191616e-07,9.230886668330007e-06,6.395468184360445e-05,1.0184999519190785e-05,5.642571117764472e-06,4.486124483325017e-07,2.3346156277964903e-05,1.048021399700599e-06,1.9774555394419495e-05,1.8084700885416665e-05,1.8372883007942447e-06,7.53396103064704e-06,1.848488339757984e-05,1.1417328052228875e-06,4.870456492431803e-06,3.092510797155689e-06,4.659878409431137e-06,8.902316988023952e-05,2.2044849883566203e-06,3.5182590653068863e-06,3.745523992286261e-05,1.918042615186294e-06,1.147185628742515e-07,3.514379954154192e-06,2.355652007651364e-06,9.987762872068364e-06,3.5750804689579178e-06,6.452566523203593e-07,0.0003181773952095808,5.589591650033267e-05,5.077356417165669e-06,5.158230410741018e-06,4.831102033433134e-06,1.3317805856412177e-05,0.0003642338797040154,1.725277814090569e-05,6.92252134481038e-07,2.3051036780605457e-06,6.901297963770377e-05,2.5183179004491018e-06,1.2494587171490354e-06,2.1796499467731204e-06,5.394004000852462e-06,7.644392948374086e-06,3.682395646207585e-06,2.407314121756487e-06,1.7822838001497008e-05,1.7007774659015303e-07,5.904896837678809e-06,6.089990394211577e-06,1.1076094738439787e-05,3.6296250412508315e-05,4.177219933882235e-06,6.833603626081171e-07,7.466120248877246e-06,1.7785120165918164e-06,7.313978936709914e-06,3.5602009923382404e-05,5.620995308861444e-06,1.4142770958083832e-06,1.5529010795076512e-06,1.3082246163922155e-05,3.584734364604125e-06,1.4595491932801064e-06,1.3063294237358616e-05,1.3815064792290419e-06,9.995290668662675e-07,4.4444154399534266e-07,1.4423184725652862e-05,2.772833118450599e-06,1.2288222307468397e-06,1.093325122255489e-06,2.6029479818488024e-06,1.0989913223552895e-05,6.735380688622755e-06,1.0630214711410513e-05,9.813809898952095e-06,3.7653230913173657e-06,3.6408680104374586e-06,0.0003642338797040154,1.6401781892465069e-06,2.9204022267964073e-06,0.0003642338797040154,2.4604430183383233e-06,6.242590052187292e-06,1.0789843532726214e-06,7.644238501746508e-06,1.9109639455464074e-06,2.6359830001455423e-06,3.1923344167914174e-06,6.752479166666667e-07,6.0752307156520295e-06,2.8538283890552227e-07,6.641575649950099e-06,1.2815105622089155e-06,6.005676581836328e-06,1.075599602565702e-06,4.008662360695276e-06,5.388936135853293e-06,1.2865897222222221e-05,3.0484482681511976e-06,8.524255364271458e-07,3.2911730100216235e-06,4.0397252445941456e-05,1.2591587658017299e-05,3.119594145043247e-07,1.191108883483034e-06,5.351825871174318e-06,2.360930348573686e-06,1.526634656936128e-05,4.6244386227544914e-05,2.599815224239022e-06,2.0744581499501e-06,3.6049061772288755e-07,8.699879796656686e-07,1.8686540781769795e-05,2.1114634065202926e-06,1.4241335728542912e-06,4.508054007089987e-06,1.1827610196274118e-06,1.1540011813872256e-06,2.4774738023952095e-06,1.1000815790294412e-06,5.9358658682634735e-06,5.635354019980871e-06,1.1026176813040585e-06,4.733938851983533e-06,5.700289191200931e-06,2.5669169061876246e-06,5.213568947105789e-06,6.701806872816867e-06,1.9623091587761977e-05,1.0583458370758484e-06,7.356164805805056e-07,9.703670429441118e-06,0.0003642338797040154,4.998813756237525e-06,8.85182331534847e-06,4.177301262059215e-07,7.419276291167665e-07,5.908760603792415e-07,1.0023999212824351e-05,3.075823028942116e-06,1.4107297549354417e-05,9.947463321274119e-07,7.980791854832003e-07,0.0003642338797040154,4.217684578759149e-09,6.382943488023952e-07,8.428517964071857e-08,5.76141125e-06,2.5632513098802396e-06,1.4762350299401198e-06,7.280195072355289e-06,1.329564633233533e-06,3.077341732992349e-06,3.089633545409182e-09,1.52687220247006e-06,9.786445551081172e-06,1.273226834040253e-06,1.0105181699101797e-06,4.008108555805056e-06,1.2837052145708582e-06,2.9865269461077843e-07,8.831377655106454e-07,9.062001684131737e-06,6.716391467065868e-07,1.75624500998004e-07,1.6422429453592815e-06,2.260206714695609e-06,2.051414358782435e-06,1.449478043808217e-06,9.993209518463073e-08,1.6564234364604124e-06,9.903625249500998e-07,4.83879949891883e-07,2.134557385229541e-06,1.2514184027777779e-05,6.248232987150698e-07,1.1240201983532934e-06,4.805108532934132e-05,1.186801641716567e-06,3.3807433071357283e-06,9.381124859655689e-07,2.7741778811127746e-06,0.0003642338797040154,7.297535694236526e-07,1.0133580260416667e-05,2.131976609281437e-07,1.6100815970143046e-06,3.092900916916168e-07,1.3436997288755822e-06,1.5813376715319362e-05,2.2916392215568863e-07,2.2026959331337326e-06,2.0993774534264803e-06,2.866109655688623e-07,5.858886009231537e-07,5.831662664254823e-07,1.3348630241600132e-06,2.5926599301397207e-05,6.142855230788423e-06,2.7453556428809048e-06,2.3371505946440453e-06,1.7577515593812375e-06,1.5048488959580838e-07,0.0,1.2993077441991018e-06,2.837200130988024e-07,9.83189870259481e-09,2.4134034015302727e-06,9.456251497005987e-08,9.210120115186294e-06,8.562797882048404e-06,0.0003642338797040154,3.651718001497006e-07,1.2017015510645376e-06,7.654142099135064e-07,1.6104690618762476e-07,2.493622751996008e-06,1.520985875332668e-06,1.4284291833000665e-06,2.2464486859614106e-07,6.325791891217565e-07,1.3817178143712576e-06,5.066229811210912e-07,3.843134044411178e-08,0.0003642338797040154,7.464431137724552e-07,1.0791049627827679e-06,1.4682226796407185e-09,3.504643554557552e-06,6.992046606786427e-07,0.0003642338797040154,8.449982784431138e-07,5.260293017610612e-07,2.22406749001996e-06,9.258233532934132e-06,3.939526041666667e-07,6.449464876497006e-07,4.6829042898577846e-07,0.0003642338797040154,2.0552448852295412e-07,6.8836472313705925e-06,2.01947128243513e-07,5.287847730580506e-07,1.1101835310628743e-06,2.6099623403193613e-06,1.8220434131736527e-07,1.6720228293413174e-07,8.433068196939454e-07,5.577386892880905e-07,1.111396363107119e-06,2.6180898895958085e-06,1.4503179578343314e-06,1.0612109115103127e-09,3.4296675636227544e-06,3.347394440286095e-07,1.1097018463073853e-09,8.104678233532933e-06,1.9068082584830339e-06,1.100601736111111e-06,9.997555389221557e-07,6.539886892880905e-07,1.3546055805056554e-06,2.9116904394336327e-06,2.102633270958084e-07,1.7784358948769128e-06,7.451946537134065e-07,2.1229104291417166e-07,2.221244386227545e-06,3.418371590153027e-07,2.918402361942781e-06,2.43362309755489e-06,1.5661853064703925e-07,5.651482048403193e-07,1.4393359505988024e-06,1.9386253305888226e-07,7.561951692448437e-07,2.0603759938456422e-07,7.058115643712575e-08,1.9917040918163674e-06,3.774201596806387e-07,2.4676953176979373e-06,0.0003642338797040154,2.4405875748502993e-07,4.563310878243513e-07,5.365452844311378e-07,1.6634966733200265e-07,3.2940603168662674e-06,0.0003642338797040154,3.906723375124751e-07,4.567873003992016e-06,1.4006738315036592e-06,2.4294174151696606e-07,7.537524456295742e-07,0.0003642338797040154,4.166345377994012e-07,1.301332865518962e-06,6.048043226047904e-07,9.747013348303394e-08,1.1978374334664006e-07,0.0003642338797040154,1.0315984705588822e-06,0.0003642338797040154,3.748891477461743e-07,3.9505894461077844e-07,3.029966878742515e-07,0.0003642338797040154,1.5293772080838324e-07,2.859131986027944e-07,0.0003642338797040154,1.7642369086826347e-06,0.0003642338797040154,0.0003642338797040154,3.65214115103127e-07,1.5941460828343314e-07,5.674377910844977e-06,2.207201253742515e-07,5.084936990602129e-07,5.116653501330672e-07,0.0003642338797040154,2.0869824413672654e-07,1.3835500873253494e-08,2.9617796407185626e-06,3.38113655501497e-07,5.1979374584165e-07,2.398196107784431e-06,5.404266986859614e-07,1.0236272350091484e-06,9.193217627245509e-08,8.465586966691617e-07,2.3471177166500332e-07,1.04993187167332e-07,7.531474550898204e-08,1.197704357950765e-07,0.0003642338797040154,1.1171890385894878e-07,3.1041329341317364e-06,1.039807916978543e-06,5.2599815901530275e-06,9.889283932135728e-08,0.0015536740052354665,0.0001999184069309298,2.3547146244386227e-05,0.0006201623312073769,0.000700378519009481,0.0050216766467065885,0.0005831022057881113,0.0005032789919245883,0.00010901830387402279,3.593674445650366e-05,0.0015851697856493264,9.707612739324269e-05,0.00010915824027361943,0.0003563638427834955,0.00015841715460537258,0.00030505752751295326,1.6205860843313372e-05,0.0003642338797040154,1.6327485252411845e-05,2.3851909365331838e-05,0.00015673648330131405,2.6544709772954093e-05,0.000587812125748503,0.0004849074189080173,2.2010869033807384e-05,0.0010992989805027446,0.0003642338797040154,7.775048799026947e-05,8.101774655272788e-05,9.030498372671324e-05,2.104780425523952e-05,1.798755015136394e-05,0.00011176106121091152,9.314098474353378e-05,0.000195020566310504,0.0002899010904563789,9.745044132193945e-05,8.85869959327179e-05,0.0004062921032934132,5.363976945962242e-05,0.00015084437892548238,6.8141125083166994e-06,1.9203673919161675e-05,6.637765339446107e-05,4.6305294746756486e-05,0.0004158123641292415,0.00011008419819059798,6.099379262277008e-05,0.000319013132628834,9.703477764782934e-05,4.8995113146103626e-05,5.909348334580838e-05,1.4209580838323354e-05,4.072976165076098e-05,0.000153511982658745,0.0001107403949762974,6.221868466691616e-05,9.882749673611113e-05,3.444123966941118e-05,0.00017386384873222305,0.0003642338797040154,2.6435641061730708e-05,0.0003642338797040154,0.0002359575598883483,3.828641384959248e-05,8.298399420066117e-05,4.414742616215486e-05,0.00024051734835192116,1.4838816901301562e-05,8.154784950182968e-05,0.0003642338797040154,6.406784637100798e-05,0.00018762158457153613,2.0931595925336828e-05,2.9811216940784055e-05,8.271656941679143e-05,5.603091203166583e-05,0.00015021252126684134,0.0002298594902105165,2.12529038830672e-05,2.6726127346868762e-05,1.103640665907768e-05,5.914914520958084e-06,0.00012008663426095726,5.485517482223054e-05,4.941423040585496e-06,2.557817569548403e-05,4.8226047904191615e-05,3.162386148203593e-05,5.498488401197605e-05,0.00019081588921001746,1.7110227233553724e-05,1.52333926879595e-05,7.195676177481911e-05,1.4405237297904193e-05,7.014424261892881e-06,7.424878159618264e-05,0.00011229763782601465,0.0003642338797040154,3.755795515593813e-05,1.0711776371943613e-05,0.00014557734525511479,0.00011093153507755323,2.2184589191928644e-05,0.0003383643479414089,8.203320301397205e-05,7.439523909472721e-06,3.4231548699476047e-06,0.00029816709316824683,0.00014936346225639347,0.0009479913035917749,1.779101973147455e-05,6.336046385395875e-05,1.1493510062791084e-05,2.6009414901447103e-05,2.401467366142715e-05,0.0003642338797040154,0.00010798898719748004,5.6044435495259484e-05,2.049563295284431e-05,2.7460922185628744e-05,4.373965053850632e-05,3.4362350922322024e-05,2.7744016508649366e-06,0.0001998760735540378,0.00011773601275948105,4.2093904126122755e-06,7.774431561501997e-05,7.303767185940619e-05,7.105598951399284e-05,4.9212665986152696e-05,5.4575761427145705e-05,0.0003642338797040154,1.9909707303725882e-05,4.199413561366849e-05,0.00012014580214570859,1.123382171199268e-05,0.0003642338797040154,2.9353708325432466e-05,3.991552034096183e-05,1.3591473102960746e-05,0.00018266648796593898,2.0487299484364603e-05,4.107776440202928e-05,0.00014730297501694528,6.019604083832335e-05,5.216146229977545e-05,0.00012988793511050815,1.0247483502370259e-05,4.6271151564891054e-05,1.4979788589695609e-05,1.6418785761809715e-05,5.8603773777860946e-05,1.1226237517880905e-05,1.5135354291417166e-05,0.00011198363459674401,2.717078986526946e-05,8.339388996070358e-06,8.847190453987857e-06,5.446613641924484e-05,6.209598768088823e-06,9.502014372473802e-05,1.4696634694361278e-05,2.5014649803725884e-05,3.892032132110778e-05,0.0003642338797040154,0.00011238695192708335,1.176953558258483e-05,1.0680833845953925e-05,1.67473123502994e-05,0.0003642338797040154,4.904485986880406e-06,0.00014987882922519544,6.256434461077845e-05,0.00016934810342045077,2.650499539337991e-05,4.3817477827677976e-05,0.00020313844530709416,0.00014681484841067865,3.331452450661178e-05,2.4368964762974053e-05,1.3199857122421822e-05,2.0557735890718564e-06,3.2735364792082505e-05,4.279532528068863e-05,2.839788410158849e-05,1.8428015874501e-06,1.3639096102586493e-05,4.8724726479333e-06,0.00010439435650781771,2.186442383483034e-05,4.900108059505988e-05,3.034244011976048e-05,7.350894637703758e-05,1.0303901792664671e-05,1.5583884870155525e-05,3.2205449421989355e-06,0.00022068860144429893,4.664245726359781e-05,7.918293332085829e-06,1.4751774006674153e-05,7.982813985154691e-05,9.081169586660014e-06,1.1914454494344645e-05,6.584132073041417e-06,4.516240208957086e-06,2.326550041385978e-05,0.0003642338797040154,2.8639265568030608e-05,3.226723803517964e-05,3.447916666666667e-05,7.67079646353127e-06,1.3296066046032934e-05,8.85607542882984e-06,2.8483655805056556e-06,1.955589857784431e-06,6.062287066803892e-06,6.252579829091816e-06,6.096355185160928e-05,4.953433885707751e-05,2.3099850611277447e-06,0.0003642338797040154,6.614339491225882e-06,1.1674092998417747e-05,4.440537052457584e-06,9.437162013473055e-07,9.893085476858782e-05,2.6957134121340654e-05,1.0068098535741018e-05,3.219094932166916e-05,3.59393021191991e-05,5.528461940182136e-06,1.8654350266550232e-05,8.081090190452428e-05,2.82316415637475e-06,7.24600693560795e-06,6.414042582855123e-05,1.4385602426813042e-05,4.3538839581254155e-06,3.521810701097804e-05,0.0006373236859614105,2.2643857163381574e-05,5.702291417165669e-06,4.7804792146852126e-05,3.477030129355872e-05,1.0927027877307885e-05,5.190851607098304e-06,2.042253071066201e-05,4.600243920700266e-05,4.940605840818363e-06,6.39745508982036e-05,9.188234126018795e-06,1.7626311439204924e-05,2.1866212336576846e-05,4.128234475320193e-06,1.46385246791833e-05,2.271755930763473e-05,7.754491017964072e-06,3.3883944976089485e-05,2.2415560825848304e-05,9.682694429682302e-06,1.9417993794494343e-05,3.43562874251497e-05,0.0006206011115793414,1.5301259740830838e-05,1.2555530724280606e-05,1.1423068837949103e-05,0.0003642338797040154,5.1511946656686626e-06,2.7776939352752826e-05,1.823048750842066e-05,1.2598563290086494e-05,0.00018184401163090486,0.0019230994261477045,2.3657852584934297e-05,3.864165766383899e-06,1.621469206950682e-05,2.3936393151197605e-05,1.0789905477898371e-05,1.1129235835620426e-05,4.602726567292498e-05,1.2277748211909515e-06,0.0003642338797040154,1.813381175045742e-06,1.5146767404752993e-05,2.1348838382921656e-05,4.941840836036261e-06,4.36375842336161e-06,1.8596532589820363e-05,2.0443808083832334e-06,1.729743637724551e-05,0.0003642338797040154,8.833081942156834e-05,4.746614294862358e-06,3.184561855455755e-07,1.6631195658578675e-05,8.17097580879907e-06,4.669608916749834e-06,3.1611375605039922e-06,1.9393634237982366e-05,2.1412823209830342e-06,2.1448740225798404e-05,0.0003642338797040154,1.6852692244677312e-05,8.296014397870925e-06,3.9626228689184136e-05,4.4976758434381234e-05,2.349550916417166e-05,8.23402552364022e-06,3.8593164071856285e-06,3.408096989770459e-06,2.5666806809298073e-06,0.0002993221889554225,2.01816455352836e-05,4.8869868596141055e-06,1.7161871500215195e-05,1.1615240616683301e-06,1.6216008070525614e-05,4.056396020459082e-07,9.970086522267964e-06,8.15634617015968e-07,4.24016968666833e-06,2.3841849550898204e-06,3.6706157910221227e-06,4.316221177436793e-06,8.169496464986694e-06,2.0364510847679642e-05,1.5028808539171657e-06,5.3921440101047905e-06,9.104424013639388e-06,2.6089552769461077e-06,3.772881110279441e-06,7.069088385728543e-06,4.2065007578592814e-06,2.8979947408308385e-06,1.644641487857618e-06,1.400055644876913e-05,1.3080803052228877e-06,0.0003642338797040154,1.2435094691450433e-05,1.1163743970392549e-06,3.2230170209580834e-06,2.4467942323685964e-06,7.0173255052395204e-09,4.380556982597305e-05,2.2710811009231535e-06,4.7346752765302725e-06,9.072273085495676e-06,1.0533380210412508e-06,5.164412144461078e-06,1.7289313821107786e-05,5.430973819298903e-05,5.18665147777362e-06,2.1468945870758485e-06,5.471970155938124e-06,2.4116900729790417e-07,0.0003642338797040154,1.549362992764471e-07,2.5350035616267463e-06,1.4881217234281437e-06,5.765639204923486e-06,1.0291587752557386e-06,1.8280449517631403e-07,2.679954777944112e-07,1.6689747719145043e-06,2.0543788414836994e-06,3.143287015419162e-05,4.029448453613606e-06,2.5677811044577513e-06,3.324427079902695e-06,1.2574844659639056e-06,3.2942473282601466e-06,7.405517973428144e-07,3.2856772371922825e-06,1.48791500332668e-06,5.841714814537592e-06,1.279985215506487e-06,7.804746371631737e-06,3.290782565078177e-06,1.4021604274783767e-06,3.213599351297405e-07,6.7397571372879235e-06,2.9735346624459414e-06,4.964204071440453e-06,7.2093749251497e-06,7.714455576347305e-07,3.389022735778443e-07,6.337229383420659e-06,3.178119003659348e-06,2.6751809946773122e-06,2.442602385853293e-06,2.053025347742016e-06,6.244608179474385e-06,1.8039029410969728e-06,0.0003642338797040154,2.0457477622879243e-06,1.7183020625415835e-06,2.366158905106454e-06,7.493421188872255e-07,2.747354603293413e-07,0.0003642338797040154,4.2218423569527614e-07,6.072475669494345e-07,5.678672979041916e-07,2.324883540211244e-06,9.575364963822355e-07,1.3619410803393214e-06,5.298096869802063e-06,4.384411723428144e-08,0.0003642338797040154,2.360247567989022e-06,3.4364396207584833e-06,3.816146690993014e-07,6.206738510479042e-07,1.3021634751330672e-07,2.3675360186917834e-06,0.0003642338797040154,4.070689633233533e-07,1.290356387225549e-07,2.8000011314870256e-06,1.5503131736526948e-07,0.0003642338797040154,0.0003642338797040154,2.5909083187791085e-06,3.07125748502994e-07,9.938235151571856e-07,1.3606973511310711e-06,2.155319166666667e-06,9.221615518962076e-07,9.880301896207585e-08,1.133194510978044e-07,5.1189937832668e-07,1.2524651104041918e-07,4.6690157185628743e-07,4.994275392964072e-06,0.0003642338797040154,1.0215194610778443e-06,4.5758586992681303e-07,8.951939870259481e-07,1.0901197604790419e-07,1.6008859021540252e-06,3.3160761809713905e-05,3.114937308715902e-06,5.305763473053892e-09,9.067224925149701e-07,2.476067656353959e-06,0.0003642338797040154,1.358377216920326e-06,2.6257409817864273e-06,3.443224118429807e-07,5.671657187707917e-07,1.8918330682385228e-07,8.548982493346641e-07,0.0003642338797040154,9.006079410969728e-06,4.452935311876247e-06,9.043999656936128e-07,0.0025366577854964976,0.00042798928805701095,0.0009633514331838408,4.8113478647912516e-05,3.570515293413174e-05,0.00017720226281530687,0.0002986159082060878,0.0003795655883445609,0.00015458306175731868,0.0010946788934364604,0.0001450557014097898,0.00025664445279534684,0.0003187301358516301,0.00039989650785605876,0.000576057873183009,9.959026295675525e-05,0.00034676653526280774,3.405879642797738e-05,0.001089910880062791,0.0004540454121176397,0.00034885102345451596,8.272995675316035e-05,0.0003353066367265469,3.92922644498503e-05,0.000775231407255567,1.2326127316616766e-05,0.0011011144101955464,0.0006324612112387725,1.9244804762454258e-05,0.0010461785756582668,0.00047411277607722056,6.270631864583334e-05,9.743013972055888e-06,0.00014876956391643797,0.0,3.7799049512641385e-05,9.846612654004491e-05,0.0004431578147533059,8.768402655626248e-06,0.00018067247473480121,0.00027381360004147953,0.0003642338797040154,0.0003526064853820484,1.4630306876871258e-05,0.00038486999316159347,7.78506052043829e-05,0.00030951300737805637,0.00012960128290013723,2.9529260959955093e-05,3.9019517745758484e-05,9.501643425648703e-06,0.00025036003009387475,0.00017494451042103295,8.218943235092315e-06,1.9292959969020292e-05,0.00014000410103480538,1.5746631736526946e-05,0.00010260985665907768,8.951987184069361e-05,2.3271706065993017e-05,2.272386508233533e-05,0.0002602986688117806,8.662205225966816e-05,4.162924151696607e-06,1.9325069221556888e-05,0.0001465685728817365,5.223628653443114e-05,2.7389695621257483e-05,4.322004480622089e-05,7.326212697885479e-05,0.00010584488859478959,0.00020777160262807717,2.5564379177582336e-05,0.00017999701397798155,5.71744204145875e-05,2.9989742294889388e-05,1.9174803319922657e-05,4.400313176521956e-05,0.00019467063900542665,4.173404176230872e-05,5.778916138556222e-06,5.519281623794079e-05,4.752307884231537e-05,5.2512538848760806e-05,3.0763164337990683e-06,3.2627615230547244e-05,0.00025114427395209584,0.0002729244635728543,2.321413862150699e-05,6.424883189703926e-05,0.00010137883276259981,0.00015749145223802397,0.00024430830354249837,8.25143989377495e-05,3.651960722991517e-05,0.00010100756067167748,0.0003590568862275449,0.0003642338797040154,1.8637341670825016e-06,8.99554745508982e-06,0.0003642338797040154,5.676200315410534e-05,1.60185560907352e-05,2.83811751497006e-06,8.239858299401197e-05,3.141833000665336e-05,1.2553900118512973e-06,4.560413948041417e-06,3.905914468562874e-05,7.198065184412425e-05,1.003711379491018e-05,0.0003642338797040154,1.1656576129407851e-05,1.7536468226047903e-05,1.2179004620342649e-05,7.2086744136726555e-06,1.4085682801064537e-05,1.307152872671324e-05,1.3747668285928145e-05,3.9349917314537595e-05,2.9470974116766465e-05,4.262358044972555e-05,6.631013067271707e-05,5.498001645770958e-06,3.490995481952761e-05,7.774526088448105e-06,1.0713114241101131e-05,7.591602485778443e-06,3.214473333021457e-05,5.60852701199684e-05,1.445696372837658e-05,2.2631478023952094e-05,3.001988525449102e-05,0.0002933404025282768,5.092030606152279e-05,6.871955735029941e-05,3.24211412535346e-05,3.5725143337803555e-05,1.378493013972056e-05,8.694674334684797e-05,7.05102064548819e-06,5.243506596109864e-05,0.00011388989942084582,6.123502994011977e-05,7.59901712845143e-06,6.319043518130406e-05,1.9974547834331338e-05,2.4902224599229663e-05,8.86392378493014e-06,6.175456741017964e-05,8.478177582855124e-05,4.973069628212326e-05,3.750949742693987e-05,2.40084681095247e-05,2.8966734067282105e-05,2.4647601315805887e-05,2.9919917329715572e-05,5.645520877266301e-05,2.0663354653921324e-05,3.490351971837575e-05,0.00011572569471847972,3.3072643774950102e-06,2.7531585890718565e-05,0.0003642338797040154,1.1638648471078677e-05,1.001092443082585e-05,9.677732039046906e-06,9.238569187715195e-06,3.522039672114105e-05,5.1196839609842815e-05,5.161900526717399e-05,1.698014132900865e-05,7.035928143712575e-06,1.2713127308923818e-05,5.7647475898203595e-05,1.3853616594831172e-05,1.974815494011976e-07,8.509647371922822e-06,2.122774157934132e-06,2.30324337369012e-05,1.0031062874251498e-05,2.0244388217939124e-05,5.021252255229125e-05,2.7995415419161676e-06,4.7479850860778445e-05,9.00882580697979e-06,5.22396811187001e-05,0.00010981311041510727,5.385063206919494e-06,1.683196107784431e-05,3.2439288090485695e-06,0.0003642338797040154,9.370079077885895e-06,5.93694311335662e-06,3.001808882235529e-06,4.371797736298237e-06,4.7893210038256824e-05,2.0948499142652195e-05,7.668383131653361e-06,1.0104790419161678e-06,1.0671242099135064e-06,1.5475089788547904e-05,6.954678305763473e-05,1.4471057884231538e-05,0.00016596185810878244,2.9918032268795743e-05,7.2771124417831005e-06,8.826561887267132e-06,2.6439496007984033e-05,5.859875866776863e-05,5.0342593179266475e-05,1.083729956961078e-05,7.065675136393879e-06,1.5650253696357285e-05,3.0463364870259483e-06,3.852852628077179e-05,3.5241257451139383e-05,1.3915162538984531e-05,1.362296381736527e-05,1.647538256819694e-05,5.87118627328676e-06,5.213385728542914e-06,0.0003642338797040154,2.0926945785928144e-05,5.0366490479041915e-05,5.562478515884897e-06,0.0003642338797040154,8.264309798527944e-06,2.410038656405938e-05,4.178631718438124e-06,1.6103505434963405e-06,7.30821448550815e-06,6.314529274783766e-06,5.302312042581504e-06,5.918897627661344e-06,5.351398101297406e-06,4.453823037258816e-07,1.7543753431886228e-05,0.0003642338797040154,4.1149610073914674e-05,2.994654266623004e-05,0.0004110484239853626,1.0288906601068696e-05,1.4810731686626747e-05,5.924317408308383e-06,2.8766422954091816e-06,2.7948977630468232e-05,2.8421202807925816e-06,7.232102692323686e-06,1.2457240134730539e-05,4.09790145146166e-05,9.938223154316368e-06,1.0084131736526946e-06,1.1526946107784431e-05,4.055035249500998e-06,9.94774976318197e-06,8.776509481037925e-06,2.2029643838572854e-05,2.9069307901904523e-05,1.0500929543932968e-05,1.806180981568114e-05,1.8292591067864273e-05,4.731536666833001e-05,3.332041916666667e-05,1.7981229012080007e-05,1.6474744831794744e-05,3.986778337824351e-05,4.793746382443447e-06,2.3281092645958084e-06,9.803406342627246e-06,3.3974356212574847e-06,1.8264438599883568e-06,3.4448721729977546e-05,5.895524176646707e-07,1.5618927925399201e-06,4.389171857950765e-06,1.4248077994011977e-05,9.206096517901696e-06,7.1068280106453765e-06,2.9835262163173656e-06,1.0078067562791085e-05,4.02141383898869e-06,6.161842980705256e-05,7.12105456701181e-06,3.272512267132402e-06,0.0003642338797040154,9.244011976047905e-06,1.594487243856038e-05,1.1886849567531603e-06,5.579376840974301e-05,5.007595369706837e-05,1.62046811501996e-06,1.0540654336535263e-05,1.501947272434298e-05,9.774197531811378e-06,5.8533377501247504e-06,1.802821991059548e-05,3.599427284493513e-05,1.0138524169889388e-05,2.7490296906187626e-07,8.159462325349302e-06,7.999217493970392e-06,5.351124313872256e-06,2.9252666897455092e-06,6.990358714861943e-07,1.7606630054474387e-05,1.380514444818696e-05,1.6259058450390884e-05,4.222431538797405e-06,1.2217353910928145e-05,4.0519070134730535e-06,1.1695359281437126e-06,1.5336530589861944e-05,1.0961990880738524e-06,3.372926480372588e-06,3.638764138389887e-06,1.7901138426272455e-06,2.0271206025449103e-06,4.720662840984697e-06,1.107652143962076e-05,7.671465725216233e-06,5.5307320847887556e-06,7.67301339009481e-06,1.1733061015081296e-05,8.925021270167997e-06,8.24897122005988e-07,4.907060931262475e-06,4.537425149700599e-05,2.9990951141467066e-05,3.042893756757319e-06,7.861123472222221e-06,4.1556470392548236e-05,2.7251635479041913e-07,7.774038381570193e-07,1.0598729763460579e-05,1.1779907040606286e-05,0.0003642338797040154,9.02006433507984e-06,3.5803393213572853e-06,9.845933133732535e-06,6.429514951347306e-07,1.0046614839487691e-05,7.776114437791084e-06,1.2373901746506985e-05,2.994511146353127e-05,1.544597744510978e-05,2.7324817029378744e-05,2.3168626726546906e-05,3.3004627529316367e-06,6.630629820359281e-06,1.2549947077407685e-05,3.0579542446357285e-06,5.012479241516966e-06,6.67027001996008e-06,5.937349065306886e-06,3.1614184173320023e-06,3.2161609253056386e-07,8.768802407268796e-06,3.7986526946107784e-06,4.193053672966567e-06,5.647256736526946e-07,1.6151072854291417e-07,1.130121896207585e-05,2.0109084630738524e-06,4.352470084830339e-06,3.33530576295326e-06,1.3033339258982036e-05,6.990616962013473e-06,1.1996690445775116e-05,5.660828478459747e-07,6.719029290169661e-06,5.643400698602794e-06,4.860071107784431e-06,0.0003642338797040154,1.4174392070026613e-05,6.758358283433134e-06,8.627744510978044e-06,1.6736833652486693e-05,3.3652119498502996e-06,1.0965700461576847e-06,0.0003642338797040154,8.556764803725881e-07,2.0299232584830342e-06,7.449151696606786e-06,1.249061853480539e-06,2.0137366194693946e-06,3.900532268795742e-06,0.0003642338797040154,9.004133743970393e-07,4.307825191284098e-06,1.7163137786926148e-06,0.00011677706975600881,0.0003642338797040154,3.348701611776447e-06,3.109377802727878e-06,7.572545399721391e-06,1.8670086545658683e-06,0.0003642338797040154,4.1720485703592816e-06,5.10354661489521e-06,3.603097275241185e-06,0.0003642338797040154,2.219446642340319e-06,3.870426362379408e-06,3.6693993076347306e-06,5.7756047448852296e-06,5.69579558507984e-06,0.0003642338797040154,6.472136976047905e-07,9.71660421797031e-07,2.5224458083832336e-06,8.882239047322023e-06,4.479219610778444e-06,0.0003642338797040154,1.636840381736527e-06,4.5752683653526284e-07,2.9137911676646707e-07,4.754885516467066e-07,1.3121840444111775e-07,1.6809038173652695e-06,3.4098648593438126e-06,2.5271564371257484e-06,4.3079973386560215e-08,2.0863900532268798e-06,8.305026667498337e-07,6.375166887914796e-06,0.0003642338797040154,9.186291347513307e-07,5.226698427831837e-06,9.092158885354292e-07,5.927470891550233e-07,1.249865269461078e-06,8.197883276883732e-06,1.0695030900698602e-06,4.533309401197605e-06,1.1803268463073853e-07,1.0631710422904192e-07,0.0003642338797040154,5.1084400018816534e-05,1.915940369261477e-06,7.373335180680306e-07,9.829009075598803e-08,0.0003642338797040154,2.9918470974717236e-07,2.1581041833000666e-07,1.3973894367514972e-07,7.765423873087159e-07,2.962403999438623e-07,7.741594311377245e-07,2.355669901862941e-06,2.209632609780439e-07,6.552397735778443e-07,1.0359205775948104e-07,4.0794650033266796e-07,7.454148078842315e-08,3.311713708000665e-07,1.5590241769585828e-06,3.089469011976048e-07,2.5615435795076516e-06,4.794678064703926e-07,1.9355575952262143e-07,3.762267132401863e-06,4.624102361942781e-07,5.333526228792415e-07,2.0744947604790419e-07,4.734528339155024e-06,0.0003642338797040154,2.6198644377910847e-07,0.0003642338797040154,1.8181553559547573e-07,2.1767256944444446e-06,4.938016435878244e-07,1.4993372712907518e-07,5.319592315369261e-07,9.201046631736527e-07,0.0003642338797040154,0.0003642338797040154,2.4160675000000003e-06,4.4537876996007983e-07,4.161901402195609e-06,2.3008017298735861e-07,3.9667725987608115e-06,3.384048927145709e-07,6.964654025282768e-07,5.186446591192615e-07,2.962381642964072e-07,4.307432335329341e-06,2.3657913339986694e-07,1.109862255904857e-06,3.4581306137724554e-07,1.6938537809797074e-06,6.98393009813706e-07,6.112774451097804e-07,0.0003642338797040154,9.891206017964072e-06,9.612192282102462e-07,3.0685571856287427e-07,3.0827601598885566e-06,4.0121253097970726e-07,1.1071713462658017e-06,3.661498877245509e-07,4.4184363103592816e-05,0.00027062719870425814,0.00010649096444964239,7.967859312624751e-06,0.00027314755537882567,0.0002505200352976089,8.541992119666916e-05,0.00025776674613606123,0.00022366232815618762,2.9733639560670325e-05,5.078762898390719e-05,5.4757589545388396e-05,4.602019549318031e-05,0.0003642338797040154,0.00010752687179765468,1.7473187615602128e-05,9.340149246506987e-05,1.764104708021457e-05,7.2685654696856284e-06,2.0208285011123586e-05,8.176648636061211e-06,3.022499758483034e-05,1.0245253488023951e-05,3.74397103624002e-05,0.00018714097623399038,2.616704570234531e-05,1.9168544190993012e-05,7.175888932551564e-05,1.1070472818945442e-05,2.493931337013473e-05,6.763570419411178e-05,2.09527440625e-05,6.909689703925483e-07,2.875864058757485e-06,2.4043021821357286e-05,3.437401333541251e-05,0.00011044950756185545,3.525345859541334e-05,0.00020482380510167166,2.5882667815306883e-05,0.0005883703808866642,0.00011852018412393963,3.293511414358782e-05,8.006255690504409e-05,2.4705023293413173e-05,3.3969923044535926e-05,5.321547658308383e-05,2.586890602617681e-05,3.123451407295409e-05,0.00011942153536073687,0.0001680735001918382,8.177203686855456e-05,1.721572349135063e-05,3.346030535117266e-05,2.6508246294910178e-05,2.4935822501871256e-05,5.1743015017569025e-05,1.8139738285123503e-05,3.5525966313206924e-06,1.622795600673653e-05,1.1121408496756487e-05,5.1756715259481035e-05,3.0176188638972055e-05,6.182089874937625e-06,3.6847206911177646e-05,2.77767373621507e-05,3.0252432826638392e-05,3.736795178382817e-05,3.42979567252994e-05,2.788382348677645e-05,3.48656377245509e-05,9.570984213863939e-06,1.8756743339570857e-05,3.2135948330838326e-05,6.642938186564372e-05,3.06568355020168e-05,5.811071429515968e-05,0.00022422644867754074,1.5948311709913507e-05,5.842468516425482e-05,2.3855501211639224e-05,2.362962026862941e-05,6.32918321968563e-05,7.091684228459747e-05,4.4388799120508985e-05,6.63221642323686e-05,1.9898941530064872e-05,5.373256588572855e-05,3.5475923153692614e-06,3.1110383486171406e-05,0.0003642338797040154,1.135518179942199e-05,4.6863604105538924e-05,1.6411488211077843e-05,1.4085266966067865e-05,3.439680513805722e-05,4.27590006736527e-05,2.898937391882901e-06,1.8769293083728378e-05,4.632006501164338e-06,2.468342172945775e-06,4.201427002994012e-05,7.100830011123586e-06,6.182521978106288e-05,0.0003642338797040154,0.00012201750194527612,4.1051787390635397e-05,1.978503352149867e-05,1.153338934422821e-05,6.986182651748587e-05,0.0003319230222897954,8.813923407351963e-06,1.677779244011976e-05,2.137771578457668e-05,9.452947991641718e-05,2.497217413090486e-06,0.0001373340918059714,1.4670861045409183e-05,7.580127136144379e-05,1.76705520330173e-05,1.023910666146873e-05,6.127433154524285e-10,3.894397397912509e-06,1.8050458318051396e-05,3.1083666001330673e-06,3.5862840118720894e-06,1.705644194319694e-05,1.2779643414733033e-05,1.87928405168829e-06,1.5110627636601795e-05,5.9422333458083835e-06,1.7741038968937128e-06,1.2231327197687957e-05,1.2406255507318697e-05,2.7973174391841318e-05,4.83525841670825e-06,3.0608853982451766e-05,3.423978441679142e-05,5.37425172517465e-05,1.6255026730913174e-05,2.1018466814703925e-05,6.0284554782726216e-05,7.097736787570693e-06,5.030693358075516e-05,1.208620129896457e-05,1.563788326128992e-05,4.496745642672988e-05,6.04434417976547e-06,5.164171656686627e-05,1.090208250166334e-06,1.064578095995509e-06,4.045669682821857e-06,4.519804392215569e-05,9.629247946438374e-06,3.0993778893255157e-06,1.3668336553559547e-05,4.141835921906188e-06,1.2659480188061377e-05,1.7646430847055888e-05,4.64394128409847e-06,8.367387054016966e-07,3.823205980746839e-06,4.462608948769129e-06,1.547516300523952e-06,2.2259128263680972e-05,6.375389480414172e-06,1.7077765302727878e-06,4.694538173652695e-06,3.117592611027944e-06,3.4054770924817036e-06,3.403491392215569e-06,0.0003642338797040154,6.406768764346308e-06,2.345391719685629e-06,3.3786698035179642e-06,3.988642054640718e-06,5.4799598568488025e-06,3.413829435296075e-06,1.0556792642839323e-06,1.4434823069486028e-06,6.468903385728543e-06,7.375968065743513e-06,2.469937188123753e-07,6.137053354574185e-06,3.0571600548902195e-07,1.4930723850216235e-06,0.0003642338797040154,8.242056511976048e-07,1.1532068300898205e-06,1.3788280239520959e-06,4.6515640593812377e-07,8.624913911759815e-07,2.3206989846141055e-05,1.0282447771124418e-05,0.0003642338797040154,1.4800399201596806e-05,1.8777762875187128e-05,0.0003642338797040154,1.2425887807717898e-05,9.334767974467731e-07,0.0003642338797040154,2.30688379491018e-06,7.962283738772455e-07,1.1332195413339987e-07,2.3134721723220226e-07,3.281514445068197e-07,0.0003642338797040154,1.1208786291791417e-05,0.0003642338797040154,0.0003642338797040154,2.3838208998669328e-06,1.246384749251497e-07,1.4445531665834997e-07,4.705755748918829e-07,1.2590242681304059e-06,1.1817210048652696e-06,1.9300980071107784e-06,0.0003642338797040154,0.0003642338797040154,0.0003642338797040154,1.5032881944444446e-07,2.7988669099301395e-07,0.0003642338797040154,9.777416782684631e-06,0.001811287113273453,4.7819673153692616e-05,0.0020180896016995177,0.0002348273808401946,0.0002139549388817594,0.00022611047326721558,0.0004074180521207585,0.00034926101961005074,0.0003642338797040154,0.00040742793840901534,0.0003642338797040154,2.4466960155210414e-05,0.00011359655688622755,4.4658483309838655e-05,0.00018927028905750998,0.0003642338797040154,3.7575456730289423e-06,0.00014864805957959083,6.70876996007984e-05,0.0003642338797040154,9.501645529253992e-06,0.0003642338797040154,1.4652444816616766e-05,0.0003642338797040154,0.00015123762890884896,1.3093808268878909e-06,1.0199239000644545e-05,0.000134593625249501,8.138948006798902e-06,0.0003771540252827678,1.701246658807385e-05,1.4591294286323188e-05,6.94848175695484e-05,9.218668407975716e-07,9.875323607992348e-06,2.40125998003992e-05,0.00045091504491017966,2.087045559194112e-06,2.832425102399368e-05,0.0003642338797040154,4.0944673153692614e-07,4.005753300898203e-06,0.0003642338797040154,0.0003941429640718563,6.938924697999833e-06,0.00012623035179640718,6.58121513223553e-07,0.0003642338797040154,0.0003642338797040154,7.514595808383234e-05,5.8805825848303395e-05,2.0438203059505987e-05,3.7632509949891883e-06,5.366766467065868e-05,6.32847058601547e-06,7.83367639720559e-06,2.585661831545243e-05,0.0002883216899534265,3.4843826180243676e-05,1.793263350902362e-06,3.913154827844311e-06,4.148960305576347e-05,0.0003642338797040154,1.8675149700598804e-06,1.1185823183008982e-05,0.0003642338797040154,0.0003642338797040154,6.642787341982702e-05,0.0003642338797040154,0.0003642338797040154,0.0003642338797040154,5.61377245508982e-06,4.70683632734531e-06,1.0,0.0003642338797040154,0.0003642338797040154,3.041801813040586e-08,1.5713526447105788e-07,8.016467065868264e-06,3.7151738190286094e-06,0.0003642338797040154,0.0003642338797040154,0.0003642338797040154,0.00045226619872037175,0.00406979970314943,0.00034650088701440867,0.00019848673768556638,0.00010017992040533516,0.0011425593336873128,0.00026032321814703925,0.0002629137244592066,0.0008837205062824352,0.0001353149484193072,0.002204630400753701,3.905645634085995e-05,1.1726270014346308e-05,1.5140734156686627e-06,0.0002452817090603169,3.37435617774867e-05,1.546014034431138e-05,2.5251469429890223e-05,3.786816364770459e-05,6.902762095621258e-05,2.9798051455838324e-05,0.000524526226162051,1.742488552935795e-05,0.0001077655263117515,0.00022943549923195276,0.0006487132464872027,0.0003642338797040154,0.0001407168390416043,7.18927443488024e-06,0.0001068376582704383,2.9634165790918166e-05,0.0003492075304802894,0.000682821752328676,2.091897866766467e-05,0.00019848611326222552,0.00026823051118076346,0.00011055689498794079,2.7034476573727546e-05,0.00012713654614520957,0.0007266006851808883,0.00017842295621631738,4.084536027944112e-05,1.9935253925482367e-05,0.00014843356299151697,0.00022151076416437957,2.4588265404815373e-05,5.77302827386893e-06,9.614460503992016e-05,3.411310901530273e-06,0.00029332479236599717,3.1289277653027284e-06,4.3454024164899365e-05,0.0013695828135395875,9.32201833982036e-05,5.7491855593812374e-05,0.00011719015179016966,2.3808362588364935e-05,0.00011011484929962991,0.00017334051543579508,2.314678153443114e-05,0.00045099519710578844,8.090454471941534e-05,6.420178971931138e-05,0.0004125801617951597,9.374024682094146e-05,2.0289683826409684e-05,3.5269913504449436e-05,3.58137530667831e-06,1.1049018429807052e-05,0.00032897342924848743,0.00037412144461077847,0.0003642338797040154,2.2089925209996674e-05,2.6293867437001e-06,0.0003642338797040154,4.706060073727545e-05,6.490492973428144e-05,2.703085925960579e-05,3.0921296570816696e-05,3.6369811862940784e-05,4.2705946175357616e-06,6.064403553393214e-05,5.7625726718438124e-05,0.00041251663339986693,5.2340053397787755e-05,2.311940773203593e-05,2.8639030986048737e-05,2.8080558726297405e-06,3.1486755192427646e-05,1.5428731524451096e-05,5.30022764228834e-05,3.14825659636976e-05,7.626606103085496e-05,0.00019512498049338822,4.646243191897455e-05,0.00011237417265469063,3.7114156862940786e-05,0.00013706501252224717,1.5392280017153193e-05,1.0371669827012642e-06,1.607496819953842e-05,0.0003642338797040154,0.00028081354138153794,1.7176591145209582e-05,5.333156454226963e-05,1.4625217866766467e-05,8.056803060545575e-06,8.698197355289421e-05,4.6759824148577844e-05,5.889575321024617e-06,0.000229625124750499,5.527762430555556e-06,3.965585262807718e-05,3.515846972721224e-05,0.0003642338797040154,3.13962403200682e-06,4.1140672651571855e-05,1.82388587999002e-05,9.003739532809382e-06,0.0016601862940785097,3.135343895542249e-05,6.120312628867265e-05,7.720512611027945e-06,0.0003642338797040154,8.510750045398786e-05,8.329870359281438e-06,1.618039485123503e-05,0.0003642338797040154,1.0502707500103959e-05,3.2207299001996007e-06,0.00014758067198935462,0.0003642338797040154,0.0006865713364936794,9.614996089071856e-06,1.502163381570193e-05,5.026148903235197e-07,2.667147050970975e-05,3.49429260801314e-05,0.0003642338797040154,5.47913554599135e-05,9.407583513909681e-06,0.0003642338797040154,2.627649615456587e-06,1.0287144420047405e-05,3.3883332272954093e-06,3.713432865518962e-06,0.0001324307634730539,3.0456665834996673e-07,6.216805841442116e-06,6.578098428143713e-06,7.182950834788756e-06,0.0003642338797040154,2.998659880239521e-06,0.0003642338797040154,2.071562125748503e-07,4.681044629491018e-06,0.0003642338797040154,1.3365554079341318e-06,3.826687770292748e-07,0.0003642338797040154,4.694363811439621e-06,9.430930597139056e-06,1.3785881205703175e-05,0.0003642338797040154,2.324191394294744e-05,0.0003642338797040154,2.664486111111111e-06,1.0260728542914172e-05,1.757398192157352e-05,1.2886583083832335e-06,0.0003642338797040154,2.5090247849020708e-05,4.2935869011976044e-07,2.737217412674651e-06,0.0003642338797040154,9.878159401197605e-06,2.2652435644336326e-06,4.798416421324019e-06,3.423421265780938e-05,0.0003642338797040154,2.1003307898785763e-06,4.523826896415503e-06,9.617923987025948e-06,9.099305034306388e-06,0.0003642338797040154,0.0003642338797040154,1.758065119760479e-06,5.1240923864770455e-06,7.478090419161677e-07,0.0003642338797040154,1.6325928206087825e-07,0.0003642338797040154,4.7046691942157354e-07,2.190087743263473e-06,1.5787900006237527e-06,7.446547904191616e-07,5.113170446606787e-06,4.919060463967897e-06,1.3937958458083833e-07,0.0003642338797040154,0.0003642338797040154,2.2544659846972722e-07,0.0003642338797040154,8.141464502557385e-06,0.0003642338797040154,6.20223159410346e-07,3.05625243263473e-08,8.677635562208916e-08,3.7611534898952096e-07,3.4036094477711244e-07,1.5308321604707252e-06,0.0003642338797040154,1.7722661801397207e-06,1.1530439121756487e-07,6.153211077844311e-07,0.0003642338797040154,0.0003642338797040154,0.0003642338797040154,4.182258399866933e-07,1.6445262183965402e-07,2.002083440410845e-07,0.0019558726176474132,0.002956436857098927,0.0008151310872763847,0.0017041501188614437,0.0007895380537924151,0.002431967853092565,0.00023535792997338658,0.0010007724422979043,0.0016977641327503327,0.00012518620002806887,0.0001511100345508982,0.00038397766966067866,5.52511701912841e-05,3.3208441245009976e-05,0.0003642338797040154,0.0004651091988892008,0.000409817487474842,0.00022713973883275117,0.0005110925607119095,0.00047478004198623584,0.00017458064089757982,0.0008361705547836618,8.90724341479541e-05,0.0003642338797040154,0.0001653224363400283,0.0005181154357950765,0.00018303973698654774,0.0002578644432255281,3.280288339362941e-05,6.01463580756196e-05,0.0002912134541495135,0.0001410316450035346,2.4030407586077846e-05,0.00010851353312146541,0.00016501411280771792,0.00010342379957127413,6.762908113359843e-05,0.0003642338797040154,1.1117339856640885e-05,7.362731620093148e-05,0.000569350836481539,0.00028616034158006906,0.0008776383679107411,0.0010326222033557883,0.0003642338797040154,0.00025693992864198685,0.00017700337829673987,4.482750865113523e-05,0.0003104294260291916,3.043670609614105e-06,7.292758645854125e-05,0.0003642338797040154,4.3305598909264806e-05,0.00018992347890884898,0.0004990655775935629,5.0973332998794075e-05,7.186212196107784e-05,9.497797982680473e-05,0.0003549894760575724,4.312660188269295e-05,3.321144688872255e-05,0.0003642338797040154,0.00011781960482701264,1.9602713503513806e-05,9.730799656717815e-05,0.0003642338797040154,2.257752894211577e-05,0.00039366579341317367,4.176683450120592e-05,4.376762094207418e-05,0.0003961868836294079,0.00042882734530938125,4.8600503062624756e-05,1.1863653747297072e-05,4.5711810891226924e-05,7.114464414067699e-05,0.00018700572098573687,0.0005812715194610778,0.0003642338797040154,3.671119326097804e-05,3.4145197440535597e-06,4.317932688945027e-05,0.000477122534110425,0.00023152737484468565,1.2998337862088324e-05,1.3430516994030689e-05,2.9435765271332335e-05,0.00011961077844311378,5.7769195992910014e-05,0.00034070796020459085,2.336775195629574e-05,3.9967649932634735e-05,0.00032186743578592816,4.38873219082668e-05,0.00016343912706545243,1.9160656895583833e-05,1.7632255489021957e-05,0.0003087407456945484,1.807142824060213e-05,9.13742713972056e-05,1.4842143042248835e-05,6.135724070047405e-05,4.576199091972306e-05,6.961209036884565e-05,0.0003063164109385396,1.0414760041379741e-05,0.00036795741849634064,3.8419604351609283e-05,1.465833940244511e-05,5.564507140968064e-05,0.0003642338797040154,1.0435855250332668e-05,0.0011392636601796407,0.00036466960089352545,0.00017667507186720308,5.4284951008607785e-05,2.3125981425898205e-05,0.0005547904191616766,2.3805258233532936e-05,6.74920734856329e-05,0.00015575176268390302,8.749708201846309e-05,0.00015856898141196774,9.463201215901531e-06,0.0018991604291417165,0.0004686416749833666,2.5456080420409184e-05,1.4373791593479708e-05,2.1062848188206922e-05,0.0003642338797040154,3.061460436054973e-05,3.58078821441492e-05,7.932491062874251e-05,0.0003642338797040154,2.294056884356287e-05,3.967905430306055e-05,1.8631715815556387e-05,5.539517209539255e-06,0.0003642338797040154,8.028993354229043e-06,3.662300117733283e-05,1.3714493284888556e-05,0.0003642338797040154,4.9185986528505484e-05,3.780224516903693e-05,1.977041082054641e-05,0.0006141250458433134,2.0020722595434133e-06,1.1884269167706255e-05,0.000281099387814995,1.427528197147372e-05,7.869056956836328e-05,0.0002537047239141509,0.0003642338797040154,2.4392616778318363e-05,1.9750121071398867e-05,1.236710036073686e-05,3.7837979192448435e-05,2.176032768130406e-05,3.501180563830672e-05,3.051917681210495e-05,1.5670906077844312e-05,3.147633361526946e-05,1.2754272754491017e-05,4.630792524866934e-05,0.0003642338797040154,4.5461562604790416e-05,8.809162463645625e-05,1.2674466130759314e-05,1.477915897371923e-05,0.0003642338797040154,2.2708728680555555e-05,8.791612855331004e-06,1.768662362774451e-05,6.354899580006653e-06,0.00017252885762890886,5.592382555638723e-05,4.816338415668663e-05,4.997871185067366e-05,2.6840640969623254e-05,2.6905734925357618e-05,0.0001843514013639388,1.3283424212200598e-05,5.206300418953759e-06,5.408597192074185e-06,3.8309097926958584e-05,9.282008287591484e-06,1.1860770765656188e-05,0.0005527721640053227,0.0003642338797040154,7.898253409846973e-05,6.257449541645875e-05,0.00019077095808383234,0.0010134135310628743,3.8461834916729045e-05,5.099227010666168e-06,1.6436529852794413e-06,7.301309783869761e-06,1.5427302327428476e-05,1.7722739371257484e-05,5.598555436938623e-06,1.7453337756362277e-05,2.209680611277445e-05,2.6943048058050567e-05,8.249791344621174e-05,1.6382334507339488e-05,1.959353237192282e-05,6.0721021907850964e-05,1.1050284989708084e-05,0.0003642338797040154,6.4191475249501e-06,3.242380777912924e-05,2.1203758755613773e-05,1.527856061408433e-05,1.1591609396207585e-05,5.670417964071856e-06,5.520227799297239e-06,0.0003642338797040154,9.694360744968396e-06,6.014073268255157e-06,4.2690609113023955e-06,8.359565011477046e-05,7.512715414795409e-06,2.786516695411261e-05,1.187156770209581e-05,6.018339080172987e-06,5.568238522954092e-05,5.520087841504491e-06,6.979648530439123e-06,3.0565832601463736e-06,8.010602389387891e-05,9.201853113356619e-06,7.615963356100299e-06,7.610435746215901e-06,4.015345078509647e-05,2.2548762043101295e-05,4.516289199351298e-05,3.0159529825037424e-05,5.54673860753493e-05,8.75306775261976e-06,0.0002517177104125083,1.5937355054474387e-05,2.7052761418413174e-05,7.733456095621257e-06,0.00044034722222222224,9.930986746506986e-06,2.1658963685545576e-05,1.9415323159618263e-05,1.8703516566866268e-05,7.478218321482036e-06,2.266808869919536e-06,8.492159599550899e-06,0.00042013972055888224,3.9596432135728546e-05,4.191428872391676e-06,2.6089980432260477e-05,1.7204927108907186e-05,4.058117973012309e-06,4.3278270333499667e-05,3.4117977919161676e-06,3.031094747588157e-06,4.48264870259481e-06,7.636601796407186e-06,0.00012261656316866267,0.00016925742265469062,2.773909306699102e-06,1.3392983236963573e-05,7.320309689371258e-06,5.691898812583168e-06,0.00016481474550898205,1.4457752106412174e-05,6.381292417664671e-06,4.7703165180056555e-06,7.4679821571440454e-06,6.910040555763473e-06,6.353400579154192e-06,3.79536941741517e-06,1.7624273796781436e-05,6.789196723220227e-06,7.23372958364521e-06,3.877567114728875e-06,2.9974978966234196e-05,6.986240274243181e-06,4.611134178517964e-06,1.8374211581420492e-05,0.0003642338797040154,4.4741627719560885e-06,7.804050529150034e-06,8.192073952095809e-07,1.926013582210579e-05,7.16197565993014e-06,4.087937791560629e-06,4.2402615477378576e-08,9.098261811928226e-05,1.9967595489229876e-06,4.1450970508982035e-06,1.6834346367265468e-05,1.3662151075349302e-05,9.751205921490353e-05,7.123079125499002e-06,2.228024207023453e-05,5.832705534763805e-06,5.661351344914338e-06,7.506213954590819e-06,9.835041852129076e-06,2.9209894532809382e-05,0.0001086336043903859,1.1462336665211244e-05,9.406931569777111e-06,1.7747782913339987e-06,7.552901062562376e-06,4.231318005447438e-06,0.0003642338797040154,9.362371924692281e-06,5.9756273924650705e-06,1.474628635229541e-06,3.7204753773702594e-06,8.53182802104125e-06,3.783665866912009e-06,7.95073984967565e-06,8.024777996091151e-06,9.613315998003993e-06,3.2644964646124415e-05,2.7755738522954093e-05,1.4742001543787425e-06,3.8144226329632406e-06,6.975872087075848e-06,3.894081243637725e-05,6.7529354416167665e-06,1.1941540671053726e-05,5.859493772870925e-06,1.914622870924817e-06,7.741286562811875e-06,1.609297635135978e-05,2.5304522169203263e-06,3.873582081669994e-06,1.990068758982036e-05,1.969214805597139e-06,7.76053490363024e-05,1.2599227079174984e-06,3.13159752411843e-06,1.0594143899700599e-05,0.0003642338797040154,6.855357800024951e-07,0.0003642338797040154,6.940863823186959e-06,4.939642715818364e-06,1.3941128102129075e-06,4.705424942822688e-06,1.487229231817615e-05,2.1342233416500335e-06,2.618508170222056e-06,3.518522029274784e-06,2.425344945421657e-06,2.6889304465028275e-06,6.24808252162342e-06,1.0662540083582836e-05,4.3587953672862605e-05,3.449267079798736e-06,2.4741590989895213e-06,3.1919370560129745e-05,8.237419614936794e-07,1.319216198727545e-05,2.318804417623087e-06,0.0003642338797040154,9.387071415128077e-07,1.4377851983532935e-06,1.4590027345309381e-06,3.0737633532934135e-06,1.413055592668829e-06,3.95689758815702e-06,8.58842005988024e-07,9.909439359822023e-05,8.535357779441118e-06,6.400530161136061e-06,5.098747028648952e-06,7.696247013057219e-06,7.361102885479042e-06,3.113836877806886e-06,3.684880603168663e-06,2.371166766467066e-06,7.2839425336826356e-06,2.3761361002994012e-06,7.536149168330006e-06,0.00018843313373253492,3.6860656998502995e-06,2.5007749094519295e-06,9.48434735622505e-06,8.012653937957419e-07,8.487173708832336e-06,2.9859067074184965e-06,1.911726516966068e-06,4.7790340708166995e-06,6.813651758982036e-06,1.2258946521332336e-05,2.5245446606786427e-05,2.2762409832418495e-06,7.165267381902861e-07,6.636512840672821e-06,3.399464850299401e-06,2.5169455642880904e-06,3.3083200471972724e-06,0.0003642338797040154,1.0009157821856288e-06,0.0003642338797040154,1.0444868533765802e-06,0.0003642338797040154,2.094504336015469e-06,1.4164741012766135e-06,4.906661115269461e-07,1.6374950419993349e-06,1.6281112625166335e-06,2.5030190908620263e-06,6.237209333000665e-06,1.5431223178642714e-06,1.13295312915835e-06,7.726056792664671e-07,1.758913389886893e-06,1.022735836763972e-06,2.51576813830672e-06,1.975634748506113e-06,3.933455386477046e-05,3.051599651842149e-05,1.2647213198602796e-06,4.615988552894211e-06,5.651475781769794e-07,6.181097866766467e-07,2.7362905274866933e-06,2.659896796719062e-06,9.02455505655356e-06,5.3277706333167e-06,5.877897354041916e-06,1.2287508379075184e-06,3.1081586826347306e-07,3.150948893151198e-06,1.5279551043745842e-06,1.4307736464570857e-06,3.693196703468064e-06,1.6587905938123755e-06,7.720409747172322e-07,9.233934158453926e-06,2.233500499001996e-06,2.6017685125582167e-06,1.2135418129366268e-06,5.349421157684631e-06,4.869542429723885e-07,1.7948865347430142e-06,9.179640718562875e-05,6.708343313373254e-06,0.0,0.00020995342648037258,1.4167739502661345e-05,1.3144400523952096e-06,2.8163159512225554e-06,9.793157045284432e-07,6.179872172322023e-07,3.2439072554890223e-06,0.00020288314150864936,4.757442004740519e-06,2.1296059131736528e-09,1.3812847367764473e-06,1.9249578334996673e-06,3.294515718562874e-06,8.23674639471058e-07,2.527831935493596e-05,2.8343194099301397e-06,3.710982280106454e-06,1.0205548808008983e-05,3.2399452501247507e-06,3.959839433632734e-07,1.3281466934880239e-06,0.0003642338797040154,7.4674162508316705e-06,2.560243637724551e-06,1.1803097823103792e-06,2.28051126912841e-07,3.502994011976048e-06,4.6289133460890716e-07,1.605783545658683e-05,4.468364272496673e-06,2.4103135957252164e-06,1.0824275853293414e-05,1.4223908250166336e-06,2.7401551158100468e-06,2.0163145368637727e-06,7.158906939246507e-07,2.1958676902445112e-06,2.0237704147954093e-06,1.4063705565951433e-06,0.0003642338797040154,1.224879071232535e-06,9.782495480913173e-07,1.2855765191840276e-05,8.953787624750499e-07,1.0456524307634732e-06,8.288993544161677e-06,1.6146093230206255e-06,3.142684009543413e-07,3.8852461483283434e-07,2.66824188082169e-06,7.15596729977545e-07,8.48119854906853e-07,1.2864755439121757e-06,1.5979697916666666e-06,7.793915626455423e-06,2.398632773203593e-06,0.0003642338797040154,5.033786593479708e-07,7.765823298195276e-07,0.0003642338797040154,8.012993045159681e-07,9.22886121506986e-07,1.7990269289545908e-06,0.0003642338797040154,8.549658836493679e-07,1.457840297633899e-06,4.946145334331338e-07,1.0588529934921825e-06,1.1630410881362276e-06,1.978906831025449e-06,0.0003642338797040154,1.0665057905023288e-06,7.831199108033932e-07,8.717534992514969e-07,0.0003642338797040154,1.0956863741267465e-06,1.0177953421282436e-05,2.6099318238522953e-06,9.987693400490686e-06,6.234934131736527e-07,1.8642590884896874e-06,4.277194517215569e-07,1.170165369261477e-06,1.3669394130738523e-06,0.0003642338797040154,1.5375585516467065e-06,1.0505219360341817e-06,1.2690236012287925e-06,4.7640376954424484e-07,7.060088520874917e-06,8.639717209331338e-07,1.359223280002495e-06,0.0003642338797040154,0.0003642338797040154,1.941575120592149e-06,0.0003642338797040154,7.92209053767465e-07,1.108334551625915e-06,6.115685237857618e-07,3.41257246340652e-07,2.510864554432801e-06,0.0003642338797040154,6.385840818529608e-07,7.545592179651114e-07,3.6030233491350636e-07,4.887282335329342e-07,6.91339748003992e-07,9.073652756986027e-07,0.0003642338797040154,2.76350846744012e-06,2.0159783798444778e-07,0.0003642338797040154,9.852382736610113e-07,8.188719290585495e-07,2.757208759564205e-07,1.9412426946107783e-06,5.517237272122422e-06,1.131043419367515e-06,5.594012857618097e-07,2.641469006674152e-06,0.0003642338797040154,1.3079141716566867e-06,0.0003642338797040154,4.6057832252162344e-07,0.0003642338797040154,2.766826409680639e-07,0.0003642338797040154,6.934445554723885e-07,8.30072999833666e-07,0.0003642338797040154,1.0274182260479043e-06,3.6146321939454423e-07,2.0864385473220228e-07,6.138780381944445e-07,5.64997125748503e-07,5.536066336077844e-07,5.545272118263473e-07,5.887490556387225e-07,3.4299650490685297e-07,4.1253435503992016e-07,1.6966795267797737e-06,7.451521434214904e-07,4.544211049775449e-07,5.7626625499002e-07,1.240086695599426e-06,1.4000144320733532e-06,8.721832256705341e-07,2.5191908682634733e-06,7.590242840360946e-07,0.0003642338797040154,1.628025769710579e-06,0.0003642338797040154,7.753937957418496e-07,6.661267870508983e-07,0.0003642338797040154,8.496885603979541e-07,2.538682144045243e-07,8.372024239021957e-07,9.169161676646707e-07,0.0003642338797040154,5.138813414836993e-07,5.652969456919494e-07,4.208700407518297e-07,1.2596759669203261e-06,1.037764186002994e-06,0.0003642338797040154,6.150044411177645e-07,1.997904597263806e-06,3.5060326638389886e-07,1.1010037000821275e-06,1.0051877409763807e-06,1.0147172841816368e-07,7.732985591317365e-07,1.4604491953592814e-06,3.2796734655688626e-07,8.528830547238855e-07,3.661427145708583e-07,0.0003642338797040154,4.434005884065203e-07,0.0003642338797040154,3.898478308383234e-06,5.195324195359282e-07,8.705424775449102e-07,3.9829882537009314e-07,6.676587782767798e-07,1.4615089776696608e-06,2.7040214040668664e-07,4.1474124667332003e-07,1.9895086904316367e-06,8.864241683300066e-07,0.0003642338797040154,4.934393925690285e-07,3.8088298465568866e-07,5.05107256320692e-07,0.0003642338797040154,8.700951221681638e-07,0.0003642338797040154,4.751528262225549e-07,0.0003642338797040154,7.300896884356288e-07,7.067916479540919e-07,4.508825580089821e-07,5.059024736984364e-07,6.3521625166334e-07,1.1007954143795743e-06,8.213285952023037e-07,7.645612940785097e-08,1.7679722425149698e-07,4.896526241267466e-07,2.3276653359946773e-07,0.00046680314995529775,0.00030882695033183634,9.472749978532519e-05,0.00010207343980913175,0.00023395473282578595,7.660042275449102e-05,0.0002629500016371424,0.00045939165921032936,0.00010468766942053393,0.0006142616578542914,0.00048230314688061374,0.0003313056568712575,1.591647644461078e-05,0.00022178681978626081,0.0001888331498893879,5.470397434056886e-05,9.976064369958001e-05,0.00017626312308632736,7.843521410086078e-05,0.0001705620026597846,0.00021781231530137643,0.00012364629661863773,0.0002009889597363606,0.0001163583586133982,7.351797993679308e-05,0.00028504308383233535,2.216556513369095e-05,0.0003642338797040154,4.2309131736526945e-05,1.867462990685296e-05,7.451763140385895e-06,1.6986703467024286e-05,4.9028232509980045e-05,4.976271358532934e-05,2.9891382698665173e-05,0.0003642338797040154,0.00016413516394086827,3.2429582618097136e-05,2.5817739520958085e-05,9.935516569465236e-05,2.4622845681137727e-05,3.569726479041916e-05,2.061276344498503e-05,6.109209000093562e-05,1.223085429037758e-05,2.4535687781936128e-05,3.4034619315535595e-06,2.287263222877162e-05,1.5033947013057218e-05,0.0001912811876247505,0.00015891900152289172,1.6807434702677978e-05,2.082247850964737e-05,7.528721253950433e-06,5.079642797737858e-05,5.961606646706586e-06,2.8014181636726547e-05,1.0071107784431138e-05,1.8868203093812374e-06,2.2305986684131735e-05,2.0864520958083833e-05,2.302428847055888e-05,7.1531000499002e-05,0.0003642338797040154,1.569817758233533e-05,9.471407788423154e-05,1.4113476709081835e-05,6.557714258982036e-06,3.8610404191616766e-07,2.0140708166999333e-06,3.459007433175316e-05,0.0003642338797040154,2.550822820047405e-05,1.2865128512350299e-05,1.1846294011976047e-05,5.799484364604125e-05,0.00011057884231536927,6.7578266808050575e-06,2.131765531437126e-06,5.301813650823353e-06,0.0003642338797040154,1.632454743013972e-06,1.6592819644045242e-06,1.6438210617307053e-05,3.0907136411551897e-06,0.0003642338797040154,0.0003642338797040154,0.0003642338797040154,1.2232410179640718e-05,9.439710422904192e-06,3.86233616184298e-06,1.4918080505655356e-05,2.090474447979042e-06,0.0003642338797040154,0.0003642338797040154,9.84449018629408e-07,9.761966989791251e-07,0.0018688175731869595,0.0003652456621555847,0.006231759037861777,0.0035809545390874504,0.0003161349176185015,2.1440509480414174e-05,0.0022611848790824603,0.0019454782665918164,0.0004931820733532934,0.00032822064204923485,0.0002366093449150657,0.00022699722265531437,0.00026649842407518295,2.4966673916126084e-05,0.0013036435834811626,0.0013803654799401197,5.764938847721224e-05,0.00037944517215568864,0.00015062016218656435,4.394696329393297e-05,5.7865964151696614e-05,0.00010835504911823228,3.206941698633982e-05,9.137517233221058e-05,0.0002270237839446108,4.590232789462741e-05,0.0008860909950931471,7.389341109447772e-05,0.000174248389595746,0.0005871627387525989,3.1441652112441784e-05,2.8852438825162173e-05,0.001493825394816617,1.9157627404877746e-05,4.478883078509648e-05,0.0006850460513622755,0.00012019710578842316,0.0007116756071190952,0.0016506687263772456,7.706267099738025e-05,0.00012253181137724552,4.489583333333333e-05,0.0003055636405586743,0.0001932359074742182,0.00038201804969560877,2.4338647040918162e-05,0.0019699812874251496,5.354083499667332e-05,5.1014387890884895e-05,3.2628105429141715e-05,0.0003692987864055223,0.00011390522094165835,0.00019995233075515635,0.00012582699184963408,0.003742322832996923,3.7399958777964904e-05,4.646351422571523e-05,4.719108109094312e-06,4.7796693778068856e-05,0.00033335005185878246,8.501751656388473e-05,5.591877410855373e-05,0.00039602336992681304,9.074470309381238e-06,3.078208806387225e-05,1.6146317790668662e-05,2.2345293447480044e-05,0.0001252252258649368,0.0003642338797040154,1.3990667161198436e-05,3.659347970725216e-07,9.696388473053893e-05,4.433688445035554e-05,0.00025017403567864275,9.336755737618513e-05,8.266415777154025e-05,1.0431301203842315e-05,4.5784784597471724e-05,5.7242303279274786e-05,6.534337574850299e-05,0.00010460490477378576,0.00011650137197937459,2.393073121652528e-05,5.991974384564205e-05,0.00012053635271124418,1.7307677883111903e-05,1.2506732355081505e-05,0.0003642338797040154,1.0868337404773786e-05,4.126065637204757e-05,2.1690656094061876e-05,4.4540307375665336e-05,1.8365729532601465e-05,0.00010037149904940119,9.887163912924152e-05,1.1436675208957087e-05,0.0001547659888556221,1.912031349415752e-05,5.399385510229541e-06,1.1522265469061876e-05,0.00024191420195411261,0.00015055525717814371,1.0687476497941616e-05,2.327374243762475e-05,0.0004782992348636061,0.00010885858356724052,9.311048829840319e-06,6.947604790419162e-05,4.036020380156354e-05,1.009330074060213e-05,8.143119444350882e-05,0.0001624112152827678,1.3174976882173154e-05,8.289904558383234e-06,5.087383487816035e-05,4.453819426147705e-06,4.938310943779108e-05,1.4583172731204258e-05,1.845249343240602e-05,2.7519931828010646e-06,3.507950898796158e-05,0.00023805763473053892,3.159309407684631e-05,8.590086311158932e-05,7.175374235903194e-05,0.00015212741073403194,0.0002070037009314704,1.1427849854457752e-06,4.845275022870925e-08,2.081986748846058e-05,1.856752362608117e-05,0.00012568368553517964,2.5251684743845642e-05,0.0001834801221806387,0.0001628981620093147,9.93695372243014e-05,1.959778150365935e-05,4.1180664937728714e-05,5.031744621382236e-06,7.299557308300067e-06,0.00014567749916833,8.280314371257485e-05,1.0930954214903528e-05,1.5301241375166333e-05,1.0412491516966067e-05,2.886479023203593e-05,4.069455827511644e-05,7.5189204923486366e-06,4.000644909036094e-06,0.001431429640718563,6.331935595059881e-05,1.606620828967066e-05,5.6188220185254494e-05,2.7249265392132403e-06,0.0003413501122754491,2.0605912037383567e-05,4.500059648203593e-05,6.296461202885895e-05,1.2212212788797405e-05,8.344849268130406e-07,3.800426071721141e-05,7.245772299026946e-05,7.070552374417831e-06,1.7132401862940787e-05,0.0006714895209580838,3.3942503328343314e-05,3.4974328691055386e-05,6.888503929640719e-06,2.4211574786260813e-05,0.00016786900893587823,8.011186498877246e-06,1.2310584102628077e-05,0.00015683973845247005,4.454395092159431e-05,0.0003642338797040154,6.479207093562873e-05,0.0001714325515635396,9.14499097112026e-05,1.2872860019440286e-05,3.892312321190951e-05,1.590950652029275e-06,0.00011770147205588822,0.0003642338797040154,0.0008667222845974718,3.397214967003493e-05,1.7973287013473056e-05,4.7324415215194614e-05,3.08134005738523e-05,6.54162376756903e-06,5.295950518806138e-05,1.8073252414961743e-06,3.7899087004116764e-06,5.9036953961867925e-06,7.867149201596806e-06,0.00017311560519565037,7.798715038672655e-07,6.053899492681304e-06,1.0967908546760646e-05,8.3843646625499e-06,1.2639907684630738e-06,7.342689620758483e-05,2.0630177145708584e-06,5.2545775245134736e-05,1.9617699860279442e-05,9.304350541105289e-06,9.39424229967149e-06,1.751366858158683e-05,7.642406840485695e-07,1.4049453957085829e-05,1.923735180877828e-05,4.076459771706587e-06,5.641425482368596e-06,1.511526121922821e-06,4.336121335454092e-06,8.922736604603294e-06,2.8417933709664006e-06,8.947094460869927e-06,9.225781769793746e-08,9.758531860528943e-05,2.0192195116017963e-05,5.176678050149701e-05,2.871407739209082e-06,4.887308715901531e-05,1.7281700879491017e-06,4.441243637724551e-05,1.0632235553892216e-05,1.4380925648702595e-05,7.127816803892216e-06,2.0818099223428146e-05,6.48073768702179e-06,6.4173089891051226e-06,9.194266543818613e-05,2.3890992487940787e-05,1.5483458276779773e-05,6.51103002328676e-05,5.496114249625749e-05,9.55841500332668e-07,2.3780699806116934e-05,2.276481643379907e-06,1.2242230274451097e-05,6.375257729821608e-05,1.3229921751497005e-05,6.0598980820858286e-05,1.8367805557426813e-05,2.4666113398203594e-06,4.044619835400033e-05,2.6372207252162344e-06,2.1715210251372255e-06,1.885775733376996e-05,1.3638142286676647e-05,4.636205764595808e-05,8.724678713822355e-06,1.630514993502578e-05,1.7938439457439287e-05,6.9351290444111775e-06,1.5929287258815702e-05,1.907942873419827e-05,3.1854799151696606e-06,0.00011629077253493015,1.098230512724551e-05,8.286090136185962e-06,2.0097350440785095e-05,5.79285853896374e-06,3.3477913680555556e-05,3.567520245415419e-05,1.0564916493263474e-05,1.648543479478543e-05,5.235259387890885e-06,1.097160878243513e-06,9.87906136477046e-06,7.966186535273204e-05,1.0161069331961077e-05,7.138319404940119e-07,7.869759514304724e-06,0.00013455840020448685,2.509617976650865e-06,1.966064163339987e-05,5.824288922155689e-06,2.72557390957668e-06,1.1289731896207585e-05,0.0003642338797040154,2.2216578468063874e-07,1.7123565369261476e-05,6.557443564558384e-05,3.920161678517964e-06,7.937739672218063e-06,7.503296250831671e-06,3.1269068616724886e-05,5.505994554640718e-06,1.7149355978459747e-05,4.1382656561876247e-07,5.053974825349301e-07,6.453031437125748e-06,1.8475193774326346e-05,2.479635794535928e-05,2.501282932104541e-05,6.478225781457917e-06,7.834842045076514e-05,1.717187753721723e-05,1.1059131736526946e-05,4.370953428559548e-05,2.545573256403859e-05,5.711585802145709e-06,1.5240528848552893e-06,1.3596210609198272e-05,9.58325460869927e-06,6.0330097486277445e-06,1.7914828868305057e-06,5.832088847627662e-05,2.980827784431138e-06,0.0003642338797040154,0.0003642338797040154,2.547640949559215e-06,1.1145039189121757e-05,3.540754478542914e-07,2.5928711784763806e-07,8.915248971328177e-06,1.3507023603833999e-06,6.638526283807385e-05,5.484124051272456e-06,4.12368174304516e-05,1.3268913770375917e-05,1.1714109286635063e-05,2.4422461110071525e-06,0.0003642338797040154,2.6102144257318696e-06,5.692961992681304e-07,0.0003642338797040154,9.44728439236111e-06,1.6685461012974053e-05,2.767289506819694e-06,1.3076429757672155e-05,2.8773683821939456e-06,6.299649700598802e-07,1.9869304802374416e-05,1.2259027544910179e-05,5.327518920492348e-07,6.659826180971391e-05,1.1857987945359283e-05,2.126467103293413e-06,3.1729728340194613e-06,3.0226214238190287e-06,6.702015255738523e-06,5.325277708333333e-06,5.7407031717814376e-06,3.1316884626580174e-06,1.0562103390198768e-05,1.4887525989687292e-06,4.66685186917831e-07,1.1028326900261977e-05,4.083455483200266e-06,1.1713394461077844e-06,4.500500189620758e-06,2.316463866600133e-05,2.348806293662675e-05,2.0034689445484032e-05,7.400303559547572e-06,4.0985743097139055e-06,3.758359281437126e-05,1.1332179669827013e-06,5.787356166521125e-06,4.964201806387226e-06,0.0003642338797040154,9.907335413547905e-06,2.1166517639720557e-05,2.50187125748503e-06,4.0642555522704594e-05,7.936258451929475e-06,1.1887163173652695e-05,1.3838227342190619e-05,3.977689052675898e-05,4.4156894544244844e-07,1.179187493263473e-05,1.0813286718230207e-06,2.112362015552229e-05,1.816561957959082e-06,2.6756872941616767e-07,1.4215224031104458e-06,2.8948353293413174e-06,1.4942718436044578e-06,7.0789608205464075e-06,1.1256425385063209e-05,5.633971440452428e-06,1.0246464820359283e-05,2.3047482980913176e-05,4.785076027528277e-06,8.040119760479042e-07,5.944494635728542e-07,2.703801584539255e-06,4.738098085079841e-06,6.059349841982701e-09,1.0951165013722555e-06,4.8507902736194275e-06,3.524220867203094e-05,1.0678893824226547e-05,1.023091210287758e-06,1.5125549058133734e-07,2.000609029441118e-06,6.035124542581503e-07,1.249875249500998e-09,6.629458380114771e-07,6.746097249251497e-07,3.0757719947604794e-06,3.1478809381237526e-07,1.8350266712408518e-06,2.1638819577511643e-06,6.18793066408849e-06,3.8115576659181636e-07,5.5838586514471056e-06,4.1685628742514973e-07,0.00010250686127744511,8.469140432884232e-06,2.0924214134231537e-06,3.8974408972679646e-06,2.9676260862649703e-06,6.712988884210745e-06,2.2807321048527945e-06,1.93735497754491e-06,5.597506986027945e-07,1.8415174738023952e-05,3.8077800877411844e-06,1.5476610279441118e-07,1.5881053288631072e-05,4.148754054391218e-06,2.0208431886227545e-07,9.510471537757817e-06,0.0,0.0003642338797040154,4.674526957751164e-06,3.8900522611027946e-07,6.667158183008983e-06,1.1404777580256155e-06,0.0003642338797040154,0.0003642338797040154,1.8283075515635396e-06,5.2156018987660096e-06,1.2125058866641717e-06,3.891175981370592e-06,2.27195404503493e-06,3.6911020999667335e-07,2.3162233051605124e-06,1.0668755091899536e-06,5.359382588988689e-07,1.9154263772455093e-06,7.513382445317697e-06,0.0003642338797040154,2.76210499417831e-07,1.393767615602129e-06,1.0778666438997006e-05,1.8381185645375915e-06,1.26728842835163e-07,2.4538009718063876e-06,5.866397471723221e-07,9.184842419328012e-07,2.8736099958416503e-06,1.6679585653692614e-06,5.0212075848303395e-06,0.0003642338797040154,6.867239396207585e-06,1.3802069933050565e-07,1.136126721764804e-06,6.389084389554225e-07,1.752237843604458e-05,9.93868565993014e-07,1.282197028339155e-06,2.7715412924151697e-06,1.4726366361027947e-06,1.1865689368138722e-06,2.277891871257485e-06,8.040996560628742e-06,3.591774783765802e-07,1.0763205755156353e-06,1.7419534160844978e-07,9.273016467065869e-08,6.204695235050731e-06,6.158241433799069e-07,4.1618571700349306e-07,1.3792763119594143e-07,0.0003642338797040154,0.0003642338797040154,9.676830089820359e-07,4.816207168995343e-07,9.029441117764471e-07,6.96407827054225e-07,0.0003642338797040154,8.861540980538923e-08,1.0920904208250167e-06,3.197334686460413e-06,6.032934131736527e-07,1.1695362705838323e-06,6.292485341816367e-06,3.040940512724551e-06,2.8008428122920826e-06,2.0089341899534264e-06,1.481708299026946e-06,2.928286291999335e-06,3.234102820400865e-06,4.2732934381237527e-07,2.4322199330505654e-07,3.9929430513972054e-07,2.4272599592481702e-06,8.076263098802395e-07,2.964019211576846e-06,1.4796838614437792e-07,5.546407996506986e-07,3.0178498066367266e-07,7.183164450266135e-07,1.7790640834996674e-06,9.286426033349967e-07,5.348402133233533e-07,5.485891498253493e-07,3.770829628243513e-07,2.9907782934131734e-07,1.6065017449476047e-06,5.917006658557885e-07,2.631012849301397e-07,5.979870992390219e-07,4.826801700765137e-07,7.699029025282768e-08,0.0003642338797040154,9.424487857618097e-07,5.644960079840319e-06,4.0215069860279446e-06,3.2686416749833666e-08,3.4077677977378575e-07,4.8886601796407185e-06,4.839083264720559e-07,1.976483192885063e-06,2.9567631206337323e-07,2.605549592481703e-06,4.714451739229874e-07,7.691369307218895e-07,1.5367826861901199e-06,1.9439265469061876e-07,1.6736671656686626e-07,9.445745072355289e-07,2.448315051147705e-07,1.148265879075183e-06,2.3639795409181638e-07,9.656680805056554e-08,0.0003642338797040154,0.0003642338797040154,3.009078334996673e-07,1.5641538360778445e-06,1.2059786676646708e-05,0.0003642338797040154,0.0003642338797040154,1.61969753825682e-07,3.2932265760146374e-07,1.6138014465859946e-06,9.189661375166334e-07,2.6143559547571526e-06,1.6814438622754492e-07,1.6706782035928144e-06,0.0003642338797040154,1.242446420700266e-06,1.273424617431803e-06,2.595808383233533e-07,1.3062097118263475e-07,4.3061945899866933e-07,4.543657397704591e-07,3.00382628077179e-07,4.3559468479707256e-07,9.972904191616766e-07,9.036169743845642e-09,6.298635384231538e-07,1.658295124334664e-07,4.674504869427811e-07,5.701470434131737e-08,8.411564787092482e-08,6.5156781665835e-07,6.261986797238855e-08,1.9325757805222887e-06,0.0003642338797040154,8.769462203717565e-07,5.295306480788423e-07],\"xaxis\":\"x\",\"yaxis\":\"y\",\"type\":\"histogram\"}],                        {\"template\":{\"data\":{\"bar\":[{\"error_x\":{\"color\":\"#2a3f5f\"},\"error_y\":{\"color\":\"#2a3f5f\"},\"marker\":{\"line\":{\"color\":\"#E5ECF6\",\"width\":0.5},\"pattern\":{\"fillmode\":\"overlay\",\"size\":10,\"solidity\":0.2}},\"type\":\"bar\"}],\"barpolar\":[{\"marker\":{\"line\":{\"color\":\"#E5ECF6\",\"width\":0.5},\"pattern\":{\"fillmode\":\"overlay\",\"size\":10,\"solidity\":0.2}},\"type\":\"barpolar\"}],\"carpet\":[{\"aaxis\":{\"endlinecolor\":\"#2a3f5f\",\"gridcolor\":\"white\",\"linecolor\":\"white\",\"minorgridcolor\":\"white\",\"startlinecolor\":\"#2a3f5f\"},\"baxis\":{\"endlinecolor\":\"#2a3f5f\",\"gridcolor\":\"white\",\"linecolor\":\"white\",\"minorgridcolor\":\"white\",\"startlinecolor\":\"#2a3f5f\"},\"type\":\"carpet\"}],\"choropleth\":[{\"colorbar\":{\"outlinewidth\":0,\"ticks\":\"\"},\"type\":\"choropleth\"}],\"contour\":[{\"colorbar\":{\"outlinewidth\":0,\"ticks\":\"\"},\"colorscale\":[[0.0,\"#0d0887\"],[0.1111111111111111,\"#46039f\"],[0.2222222222222222,\"#7201a8\"],[0.3333333333333333,\"#9c179e\"],[0.4444444444444444,\"#bd3786\"],[0.5555555555555556,\"#d8576b\"],[0.6666666666666666,\"#ed7953\"],[0.7777777777777778,\"#fb9f3a\"],[0.8888888888888888,\"#fdca26\"],[1.0,\"#f0f921\"]],\"type\":\"contour\"}],\"contourcarpet\":[{\"colorbar\":{\"outlinewidth\":0,\"ticks\":\"\"},\"type\":\"contourcarpet\"}],\"heatmap\":[{\"colorbar\":{\"outlinewidth\":0,\"ticks\":\"\"},\"colorscale\":[[0.0,\"#0d0887\"],[0.1111111111111111,\"#46039f\"],[0.2222222222222222,\"#7201a8\"],[0.3333333333333333,\"#9c179e\"],[0.4444444444444444,\"#bd3786\"],[0.5555555555555556,\"#d8576b\"],[0.6666666666666666,\"#ed7953\"],[0.7777777777777778,\"#fb9f3a\"],[0.8888888888888888,\"#fdca26\"],[1.0,\"#f0f921\"]],\"type\":\"heatmap\"}],\"heatmapgl\":[{\"colorbar\":{\"outlinewidth\":0,\"ticks\":\"\"},\"colorscale\":[[0.0,\"#0d0887\"],[0.1111111111111111,\"#46039f\"],[0.2222222222222222,\"#7201a8\"],[0.3333333333333333,\"#9c179e\"],[0.4444444444444444,\"#bd3786\"],[0.5555555555555556,\"#d8576b\"],[0.6666666666666666,\"#ed7953\"],[0.7777777777777778,\"#fb9f3a\"],[0.8888888888888888,\"#fdca26\"],[1.0,\"#f0f921\"]],\"type\":\"heatmapgl\"}],\"histogram\":[{\"marker\":{\"pattern\":{\"fillmode\":\"overlay\",\"size\":10,\"solidity\":0.2}},\"type\":\"histogram\"}],\"histogram2d\":[{\"colorbar\":{\"outlinewidth\":0,\"ticks\":\"\"},\"colorscale\":[[0.0,\"#0d0887\"],[0.1111111111111111,\"#46039f\"],[0.2222222222222222,\"#7201a8\"],[0.3333333333333333,\"#9c179e\"],[0.4444444444444444,\"#bd3786\"],[0.5555555555555556,\"#d8576b\"],[0.6666666666666666,\"#ed7953\"],[0.7777777777777778,\"#fb9f3a\"],[0.8888888888888888,\"#fdca26\"],[1.0,\"#f0f921\"]],\"type\":\"histogram2d\"}],\"histogram2dcontour\":[{\"colorbar\":{\"outlinewidth\":0,\"ticks\":\"\"},\"colorscale\":[[0.0,\"#0d0887\"],[0.1111111111111111,\"#46039f\"],[0.2222222222222222,\"#7201a8\"],[0.3333333333333333,\"#9c179e\"],[0.4444444444444444,\"#bd3786\"],[0.5555555555555556,\"#d8576b\"],[0.6666666666666666,\"#ed7953\"],[0.7777777777777778,\"#fb9f3a\"],[0.8888888888888888,\"#fdca26\"],[1.0,\"#f0f921\"]],\"type\":\"histogram2dcontour\"}],\"mesh3d\":[{\"colorbar\":{\"outlinewidth\":0,\"ticks\":\"\"},\"type\":\"mesh3d\"}],\"parcoords\":[{\"line\":{\"colorbar\":{\"outlinewidth\":0,\"ticks\":\"\"}},\"type\":\"parcoords\"}],\"pie\":[{\"automargin\":true,\"type\":\"pie\"}],\"scatter\":[{\"marker\":{\"colorbar\":{\"outlinewidth\":0,\"ticks\":\"\"}},\"type\":\"scatter\"}],\"scatter3d\":[{\"line\":{\"colorbar\":{\"outlinewidth\":0,\"ticks\":\"\"}},\"marker\":{\"colorbar\":{\"outlinewidth\":0,\"ticks\":\"\"}},\"type\":\"scatter3d\"}],\"scattercarpet\":[{\"marker\":{\"colorbar\":{\"outlinewidth\":0,\"ticks\":\"\"}},\"type\":\"scattercarpet\"}],\"scattergeo\":[{\"marker\":{\"colorbar\":{\"outlinewidth\":0,\"ticks\":\"\"}},\"type\":\"scattergeo\"}],\"scattergl\":[{\"marker\":{\"colorbar\":{\"outlinewidth\":0,\"ticks\":\"\"}},\"type\":\"scattergl\"}],\"scattermapbox\":[{\"marker\":{\"colorbar\":{\"outlinewidth\":0,\"ticks\":\"\"}},\"type\":\"scattermapbox\"}],\"scatterpolar\":[{\"marker\":{\"colorbar\":{\"outlinewidth\":0,\"ticks\":\"\"}},\"type\":\"scatterpolar\"}],\"scatterpolargl\":[{\"marker\":{\"colorbar\":{\"outlinewidth\":0,\"ticks\":\"\"}},\"type\":\"scatterpolargl\"}],\"scatterternary\":[{\"marker\":{\"colorbar\":{\"outlinewidth\":0,\"ticks\":\"\"}},\"type\":\"scatterternary\"}],\"surface\":[{\"colorbar\":{\"outlinewidth\":0,\"ticks\":\"\"},\"colorscale\":[[0.0,\"#0d0887\"],[0.1111111111111111,\"#46039f\"],[0.2222222222222222,\"#7201a8\"],[0.3333333333333333,\"#9c179e\"],[0.4444444444444444,\"#bd3786\"],[0.5555555555555556,\"#d8576b\"],[0.6666666666666666,\"#ed7953\"],[0.7777777777777778,\"#fb9f3a\"],[0.8888888888888888,\"#fdca26\"],[1.0,\"#f0f921\"]],\"type\":\"surface\"}],\"table\":[{\"cells\":{\"fill\":{\"color\":\"#EBF0F8\"},\"line\":{\"color\":\"white\"}},\"header\":{\"fill\":{\"color\":\"#C8D4E3\"},\"line\":{\"color\":\"white\"}},\"type\":\"table\"}]},\"layout\":{\"annotationdefaults\":{\"arrowcolor\":\"#2a3f5f\",\"arrowhead\":0,\"arrowwidth\":1},\"autotypenumbers\":\"strict\",\"coloraxis\":{\"colorbar\":{\"outlinewidth\":0,\"ticks\":\"\"}},\"colorscale\":{\"diverging\":[[0,\"#8e0152\"],[0.1,\"#c51b7d\"],[0.2,\"#de77ae\"],[0.3,\"#f1b6da\"],[0.4,\"#fde0ef\"],[0.5,\"#f7f7f7\"],[0.6,\"#e6f5d0\"],[0.7,\"#b8e186\"],[0.8,\"#7fbc41\"],[0.9,\"#4d9221\"],[1,\"#276419\"]],\"sequential\":[[0.0,\"#0d0887\"],[0.1111111111111111,\"#46039f\"],[0.2222222222222222,\"#7201a8\"],[0.3333333333333333,\"#9c179e\"],[0.4444444444444444,\"#bd3786\"],[0.5555555555555556,\"#d8576b\"],[0.6666666666666666,\"#ed7953\"],[0.7777777777777778,\"#fb9f3a\"],[0.8888888888888888,\"#fdca26\"],[1.0,\"#f0f921\"]],\"sequentialminus\":[[0.0,\"#0d0887\"],[0.1111111111111111,\"#46039f\"],[0.2222222222222222,\"#7201a8\"],[0.3333333333333333,\"#9c179e\"],[0.4444444444444444,\"#bd3786\"],[0.5555555555555556,\"#d8576b\"],[0.6666666666666666,\"#ed7953\"],[0.7777777777777778,\"#fb9f3a\"],[0.8888888888888888,\"#fdca26\"],[1.0,\"#f0f921\"]]},\"colorway\":[\"#636efa\",\"#EF553B\",\"#00cc96\",\"#ab63fa\",\"#FFA15A\",\"#19d3f3\",\"#FF6692\",\"#B6E880\",\"#FF97FF\",\"#FECB52\"],\"font\":{\"color\":\"#2a3f5f\"},\"geo\":{\"bgcolor\":\"white\",\"lakecolor\":\"white\",\"landcolor\":\"#E5ECF6\",\"showlakes\":true,\"showland\":true,\"subunitcolor\":\"white\"},\"hoverlabel\":{\"align\":\"left\"},\"hovermode\":\"closest\",\"mapbox\":{\"style\":\"light\"},\"paper_bgcolor\":\"white\",\"plot_bgcolor\":\"#E5ECF6\",\"polar\":{\"angularaxis\":{\"gridcolor\":\"white\",\"linecolor\":\"white\",\"ticks\":\"\"},\"bgcolor\":\"#E5ECF6\",\"radialaxis\":{\"gridcolor\":\"white\",\"linecolor\":\"white\",\"ticks\":\"\"}},\"scene\":{\"xaxis\":{\"backgroundcolor\":\"#E5ECF6\",\"gridcolor\":\"white\",\"gridwidth\":2,\"linecolor\":\"white\",\"showbackground\":true,\"ticks\":\"\",\"zerolinecolor\":\"white\"},\"yaxis\":{\"backgroundcolor\":\"#E5ECF6\",\"gridcolor\":\"white\",\"gridwidth\":2,\"linecolor\":\"white\",\"showbackground\":true,\"ticks\":\"\",\"zerolinecolor\":\"white\"},\"zaxis\":{\"backgroundcolor\":\"#E5ECF6\",\"gridcolor\":\"white\",\"gridwidth\":2,\"linecolor\":\"white\",\"showbackground\":true,\"ticks\":\"\",\"zerolinecolor\":\"white\"}},\"shapedefaults\":{\"line\":{\"color\":\"#2a3f5f\"}},\"ternary\":{\"aaxis\":{\"gridcolor\":\"white\",\"linecolor\":\"white\",\"ticks\":\"\"},\"baxis\":{\"gridcolor\":\"white\",\"linecolor\":\"white\",\"ticks\":\"\"},\"bgcolor\":\"#E5ECF6\",\"caxis\":{\"gridcolor\":\"white\",\"linecolor\":\"white\",\"ticks\":\"\"}},\"title\":{\"x\":0.05},\"xaxis\":{\"automargin\":true,\"gridcolor\":\"white\",\"linecolor\":\"white\",\"ticks\":\"\",\"title\":{\"standoff\":15},\"zerolinecolor\":\"white\",\"zerolinewidth\":2},\"yaxis\":{\"automargin\":true,\"gridcolor\":\"white\",\"linecolor\":\"white\",\"ticks\":\"\",\"title\":{\"standoff\":15},\"zerolinecolor\":\"white\",\"zerolinewidth\":2}}},\"xaxis\":{\"anchor\":\"y\",\"domain\":[0.0,1.0],\"title\":{\"text\":\"Market Cap\"}},\"yaxis\":{\"anchor\":\"x\",\"domain\":[0.0,1.0],\"title\":{\"text\":\"count\"}},\"legend\":{\"tracegroupgap\":0},\"title\":{\"text\":\"Market Cap Distribution\"},\"barmode\":\"relative\"},                        {\"responsive\": true}                    ).then(function(){\n                            \nvar gd = document.getElementById('dcd41e01-de01-4b14-8692-6658ea532f9f');\nvar x = new MutationObserver(function (mutations, observer) {{\n        var display = window.getComputedStyle(gd).display;\n        if (!display || display === 'none') {{\n            console.log([gd, 'removed!']);\n            Plotly.purge(gd);\n            observer.disconnect();\n        }}\n}});\n\n// Listen for the removal of the full notebook cells\nvar notebookContainer = gd.closest('#notebook-container');\nif (notebookContainer) {{\n    x.observe(notebookContainer, {childList: true});\n}}\n\n// Listen for the clearing of the current output cell\nvar outputEl = gd.closest('.output');\nif (outputEl) {{\n    x.observe(outputEl, {childList: true});\n}}\n\n                        })                };                            </script>        </div>\n</body>\n</html>"
     },
     "metadata": {},
     "output_type": "display_data"
    }
   ]
  },
  {
   "cell_type": "markdown",
   "source": "# Split Data into Training and Test Sets",
   "metadata": {
    "cell_id": "a2afe1b8630449259227efed11b4e5ee",
    "tags": [],
    "deepnote_cell_type": "markdown",
    "deepnote_cell_height": 82
   }
  },
  {
   "cell_type": "code",
   "metadata": {
    "cell_id": "5653ef1f55984cf886e8719ce63c450a",
    "tags": [],
    "deepnote_to_be_reexecuted": false,
    "source_hash": "a840e501",
    "execution_start": 1649618673348,
    "execution_millis": 1,
    "deepnote_cell_type": "code",
    "deepnote_cell_height": 117
   },
   "source": "# Split data\ntest_size = 0.33\nX_train, X_test, y_train, y_test = train_test_split(X_feature_selected, y, test_size=test_size)",
   "execution_count": 17,
   "outputs": []
  },
  {
   "cell_type": "markdown",
   "source": "# Model Definition",
   "metadata": {
    "cell_id": "c03f82ac1cba442ab7a0a24daf426459",
    "tags": [],
    "deepnote_cell_type": "markdown",
    "deepnote_cell_height": 82
   }
  },
  {
   "cell_type": "markdown",
   "source": "## Hyperparameters Tuning",
   "metadata": {
    "cell_id": "4aa0623ccf164ae2bea1bd01e2480a48",
    "tags": [],
    "deepnote_cell_type": "markdown",
    "deepnote_cell_height": 70
   }
  },
  {
   "cell_type": "code",
   "metadata": {
    "cell_id": "4229081629944898b5b0d149f1dd7f62",
    "tags": [],
    "deepnote_to_be_reexecuted": false,
    "source_hash": "afcb08df",
    "execution_start": 1649618673349,
    "execution_millis": 0,
    "deepnote_cell_type": "code",
    "deepnote_cell_height": 153
   },
   "source": "# Set initial space of hyperparameters\nparameters = {\n    'max_depth': range(1, 20, 1),\n    'min_child_weight': range(1, 10, 1)\n}",
   "execution_count": 18,
   "outputs": []
  },
  {
   "cell_type": "code",
   "metadata": {
    "cell_id": "c86d3cd5a7994c5ba8c9ab9784f382af",
    "tags": [],
    "deepnote_to_be_reexecuted": false,
    "source_hash": "cd98cd19",
    "execution_start": 1649618673350,
    "execution_millis": 224808,
    "is_output_hidden": true,
    "deepnote_cell_type": "code",
    "deepnote_cell_height": 237.796875
   },
   "source": "# Perform a Grid Search for hyperparameters tuning\ngrid_search = GridSearchCV(estimator=XGBClassifier(eval_metric='logloss', use_label_encoder=False), \n                            param_grid=parameters,\n                            scoring='accuracy',\n                            n_jobs=1,\n                            cv=2)\n\ngrid_search.fit(X_train, y_train)",
   "execution_count": 19,
   "outputs": [
    {
     "output_type": "execute_result",
     "execution_count": 19,
     "data": {
      "text/plain": "GridSearchCV(cv=2,\n             estimator=XGBClassifier(base_score=None, booster=None,\n                                     colsample_bylevel=None,\n                                     colsample_bynode=None,\n                                     colsample_bytree=None,\n                                     enable_categorical=False,\n                                     eval_metric='logloss', gamma=None,\n                                     gpu_id=None, importance_type=None,\n                                     interaction_constraints=None,\n                                     learning_rate=None, max_delta_step=None,\n                                     max_depth=None, min_child_weight=None,\n                                     missing=nan, monotone_constraints=None,\n                                     n_estimators=100, n_jobs=None,\n                                     num_parallel_tree=None, predictor=None,\n                                     random_state=None, reg_alpha=None,\n                                     reg_lambda=None, scale_pos_weight=None,\n                                     subsample=None, tree_method=None,\n                                     use_label_encoder=False,\n                                     validate_parameters=None, verbosity=None),\n             n_jobs=1,\n             param_grid={'max_depth': range(3, 20),\n                         'min_child_weight': range(1, 10)},\n             scoring='accuracy')"
     },
     "metadata": {}
    }
   ]
  },
  {
   "cell_type": "code",
   "metadata": {
    "cell_id": "28318c07b9244ccbb7915c9fbf99c71b",
    "tags": [],
    "deepnote_to_be_reexecuted": false,
    "source_hash": "6da24ddf",
    "execution_start": 1649618897762,
    "execution_millis": 503,
    "deepnote_cell_type": "code",
    "deepnote_cell_height": 136.1875,
    "deepnote_output_heights": [
     21.1875
    ]
   },
   "source": "# TBest hyperparameters combinations\ngrid_search.best_params_",
   "execution_count": 20,
   "outputs": [
    {
     "output_type": "execute_result",
     "execution_count": 20,
     "data": {
      "text/plain": "{'max_depth': 4, 'min_child_weight': 1}"
     },
     "metadata": {}
    }
   ]
  },
  {
   "cell_type": "code",
   "metadata": {
    "cell_id": "9515f0cc32364e76ac5f2ef17da6eef2",
    "tags": [],
    "deepnote_to_be_reexecuted": false,
    "source_hash": "672589e3",
    "execution_start": 1649618897763,
    "execution_millis": 502,
    "deepnote_cell_type": "code",
    "deepnote_cell_height": 136.1875,
    "deepnote_output_heights": [
     21.1875
    ]
   },
   "source": "# Best score\ngrid_search.best_score_",
   "execution_count": 21,
   "outputs": [
    {
     "output_type": "execute_result",
     "execution_count": 21,
     "data": {
      "text/plain": "0.5919202163624071"
     },
     "metadata": {}
    }
   ]
  },
  {
   "cell_type": "markdown",
   "source": "## Training",
   "metadata": {
    "cell_id": "4b6f806a5f0346be95743b6d3b1f7a53",
    "tags": [],
    "deepnote_cell_type": "markdown",
    "deepnote_cell_height": 70
   }
  },
  {
   "cell_type": "code",
   "metadata": {
    "cell_id": "400fa729c71e4effbc16f3f02df26dc2",
    "tags": [],
    "deepnote_to_be_reexecuted": false,
    "source_hash": "aadc3d",
    "execution_start": 1649618915621,
    "execution_millis": 879,
    "deepnote_cell_type": "code",
    "deepnote_cell_height": 513,
    "deepnote_output_heights": [
     193.875
    ]
   },
   "source": "# Start experiment\nwith mlflow.start_run():\n\n    # Define parameters\n    max_depth = grid_search.best_params_['max_depth']\n    min_child_weight = grid_search.best_params_['min_child_weight']\n\n    # Create and fit the model\n    model = XGBClassifier(eval_metric='logloss', \n                        max_depth=max_depth,\n                        min_child_weight=min_child_weight,\n                        use_label_encoder=False)\n\n    # Model Training\n    model.fit(X_train, y_train)\n\n    # Model Evaluation\n    logloss_training = model.score(X_train, y_train)\n    logloss_test = model.score(X_test, y_test)\n\n    # Log MLFlow\n    mlflow.log_param('max_depth', max_depth)\n    mlflow.log_param('min_child_weight', min_child_weight)\n    mlflow.log_metric('logloss_training', logloss_training)\n    mlflow.log_metric('logloss_test', logloss_test)",
   "execution_count": 23,
   "outputs": []
  },
  {
   "cell_type": "markdown",
   "source": "## Model Evaluation",
   "metadata": {
    "cell_id": "2bb3138c330d4881aab7d13fbb7d9447",
    "tags": [],
    "deepnote_cell_type": "markdown",
    "deepnote_cell_height": 70
   }
  },
  {
   "cell_type": "code",
   "metadata": {
    "cell_id": "76e9466483224ad9bc8f7041d513e124",
    "tags": [],
    "deepnote_to_be_reexecuted": false,
    "source_hash": "cafb0fa6",
    "execution_start": 1649618919458,
    "execution_millis": 0,
    "deepnote_cell_type": "code",
    "deepnote_cell_height": 168.375
   },
   "source": "# Model Score\nprint('Model score on the training set: {:.2f}'.format(logloss_training))\nprint('Model score on the test set: {:.2f}'.format(logloss_test))",
   "execution_count": 24,
   "outputs": [
    {
     "name": "stdout",
     "text": "Model score on the training set: 0.90\nModel score on the test set: 0.63\n",
     "output_type": "stream"
    }
   ]
  },
  {
   "cell_type": "code",
   "source": "",
   "metadata": {
    "cell_id": "c0adb617fc7944479966ba9de5bff39b",
    "tags": [],
    "owner_user_id": "e4f9d466-7d33-494a-b305-2dbfec355fdc",
    "deepnote_cell_type": "code",
    "deepnote_cell_height": 66
   },
   "outputs": [],
   "execution_count": null
  },
  {
   "cell_type": "markdown",
   "source": "<a style='text-decoration:none;line-height:16px;display:flex;color:#5B5B62;padding:10px;justify-content:end;' href='https://deepnote.com?utm_source=created-in-deepnote-cell&projectId=f1efe245-29af-4be1-bb79-055f4abb0e16' target=\"_blank\">\n<img alt='Created in deepnote.com' style='display:inline;max-height:16px;margin:0px;margin-right:7.5px;' src='data:image/svg+xml;base64,PD94bWwgdmVyc2lvbj0iMS4wIiBlbmNvZGluZz0iVVRGLTgiPz4KPHN2ZyB3aWR0aD0iODBweCIgaGVpZ2h0PSI4MHB4IiB2aWV3Qm94PSIwIDAgODAgODAiIHZlcnNpb249IjEuMSIgeG1sbnM9Imh0dHA6Ly93d3cudzMub3JnLzIwMDAvc3ZnIiB4bWxuczp4bGluaz0iaHR0cDovL3d3dy53My5vcmcvMTk5OS94bGluayI+CiAgICA8IS0tIEdlbmVyYXRvcjogU2tldGNoIDU0LjEgKDc2NDkwKSAtIGh0dHBzOi8vc2tldGNoYXBwLmNvbSAtLT4KICAgIDx0aXRsZT5Hcm91cCAzPC90aXRsZT4KICAgIDxkZXNjPkNyZWF0ZWQgd2l0aCBTa2V0Y2guPC9kZXNjPgogICAgPGcgaWQ9IkxhbmRpbmciIHN0cm9rZT0ibm9uZSIgc3Ryb2tlLXdpZHRoPSIxIiBmaWxsPSJub25lIiBmaWxsLXJ1bGU9ImV2ZW5vZGQiPgogICAgICAgIDxnIGlkPSJBcnRib2FyZCIgdHJhbnNmb3JtPSJ0cmFuc2xhdGUoLTEyMzUuMDAwMDAwLCAtNzkuMDAwMDAwKSI+CiAgICAgICAgICAgIDxnIGlkPSJHcm91cC0zIiB0cmFuc2Zvcm09InRyYW5zbGF0ZSgxMjM1LjAwMDAwMCwgNzkuMDAwMDAwKSI+CiAgICAgICAgICAgICAgICA8cG9seWdvbiBpZD0iUGF0aC0yMCIgZmlsbD0iIzAyNjVCNCIgcG9pbnRzPSIyLjM3NjIzNzYyIDgwIDM4LjA0NzY2NjcgODAgNTcuODIxNzgyMiA3My44MDU3NTkyIDU3LjgyMTc4MjIgMzIuNzU5MjczOSAzOS4xNDAyMjc4IDMxLjY4MzE2ODMiPjwvcG9seWdvbj4KICAgICAgICAgICAgICAgIDxwYXRoIGQ9Ik0zNS4wMDc3MTgsODAgQzQyLjkwNjIwMDcsNzYuNDU0OTM1OCA0Ny41NjQ5MTY3LDcxLjU0MjI2NzEgNDguOTgzODY2LDY1LjI2MTk5MzkgQzUxLjExMjI4OTksNTUuODQxNTg0MiA0MS42NzcxNzk1LDQ5LjIxMjIyODQgMjUuNjIzOTg0Niw0OS4yMTIyMjg0IEMyNS40ODQ5Mjg5LDQ5LjEyNjg0NDggMjkuODI2MTI5Niw0My4yODM4MjQ4IDM4LjY0NzU4NjksMzEuNjgzMTY4MyBMNzIuODcxMjg3MSwzMi41NTQ0MjUgTDY1LjI4MDk3Myw2Ny42NzYzNDIxIEw1MS4xMTIyODk5LDc3LjM3NjE0NCBMMzUuMDA3NzE4LDgwIFoiIGlkPSJQYXRoLTIyIiBmaWxsPSIjMDAyODY4Ij48L3BhdGg+CiAgICAgICAgICAgICAgICA8cGF0aCBkPSJNMCwzNy43MzA0NDA1IEwyNy4xMTQ1MzcsMC4yNTcxMTE0MzYgQzYyLjM3MTUxMjMsLTEuOTkwNzE3MDEgODAsMTAuNTAwMzkyNyA4MCwzNy43MzA0NDA1IEM4MCw2NC45NjA0ODgyIDY0Ljc3NjUwMzgsNzkuMDUwMzQxNCAzNC4zMjk1MTEzLDgwIEM0Ny4wNTUzNDg5LDc3LjU2NzA4MDggNTMuNDE4MjY3Nyw3MC4zMTM2MTAzIDUzLjQxODI2NzcsNTguMjM5NTg4NSBDNTMuNDE4MjY3Nyw0MC4xMjg1NTU3IDM2LjMwMzk1NDQsMzcuNzMwNDQwNSAyNS4yMjc0MTcsMzcuNzMwNDQwNSBDMTcuODQzMDU4NiwzNy43MzA0NDA1IDkuNDMzOTE5NjYsMzcuNzMwNDQwNSAwLDM3LjczMDQ0MDUgWiIgaWQ9IlBhdGgtMTkiIGZpbGw9IiMzNzkzRUYiPjwvcGF0aD4KICAgICAgICAgICAgPC9nPgogICAgICAgIDwvZz4KICAgIDwvZz4KPC9zdmc+' > </img>\nCreated in <span style='font-weight:600;margin-left:4px;'>Deepnote</span></a>",
   "metadata": {
    "tags": [],
    "created_in_deepnote_cell": true,
    "deepnote_cell_type": "markdown"
   }
  }
 ],
 "nbformat": 4,
 "nbformat_minor": 5,
 "metadata": {
  "kernelspec": {
   "display_name": "Python 3 (ipykernel)",
   "language": "python",
   "name": "python3"
  },
  "language_info": {
   "codemirror_mode": {
    "name": "ipython",
    "version": 3
   },
   "file_extension": ".py",
   "mimetype": "text/x-python",
   "name": "python",
   "nbconvert_exporter": "python",
   "pygments_lexer": "ipython3",
   "version": "3.8.12"
  },
  "deepnote_notebook_id": "092ad14d-d569-465c-ab80-a5598130383a",
  "deepnote": {},
  "deepnote_execution_queue": []
 }
}