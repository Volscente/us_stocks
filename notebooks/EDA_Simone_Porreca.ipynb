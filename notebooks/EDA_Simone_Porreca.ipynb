{
 "cells": [
  {
   "cell_type": "markdown",
   "id": "fdb8fbc4",
   "metadata": {
    "cell_id": "2bb137dc-83e0-4aa9-a873-ed09f635322b",
    "deepnote_cell_height": 120.390625,
    "deepnote_cell_type": "markdown"
   },
   "source": [
    "# Introduction\n",
    "\n",
    "The notebook is intended to perform a first Exploratory Data Analysis for a Binary Classification problem over the feature 'class'."
   ]
  },
  {
   "cell_type": "code",
   "execution_count": null,
   "id": "92933c25",
   "metadata": {
    "cell_id": "00001-9de788d8-b2a1-478f-9460-1ac80b759796",
    "deepnote_cell_height": 333,
    "deepnote_cell_type": "code",
    "deepnote_to_be_reexecuted": false,
    "execution_millis": 2624,
    "execution_start": 1651077323978,
    "source_hash": "9e71f55b"
   },
   "outputs": [],
   "source": [
    "# Import Standard Modules\n",
    "import pandas as pd\n",
    "import numpy as np\n",
    "\n",
    "from sklearn.preprocessing import MinMaxScaler\n",
    "from sklearn.feature_selection import SelectKBest\n",
    "from sklearn.feature_selection import chi2\n",
    "from sklearn.experimental import enable_halving_search_cv\n",
    "from sklearn.model_selection import train_test_split, GridSearchCV, HalvingGridSearchCV\n",
    "\n",
    "import plotly.express as ex\n",
    "\n",
    "from xgboost import XGBClassifier\n",
    "\n",
    "from hyperpot import hp\n",
    "\n",
    "import mlflow"
   ]
  },
  {
   "cell_type": "markdown",
   "id": "7d90dadc",
   "metadata": {
    "cell_id": "00002-64a348a7-cff9-406c-a39b-dd8fbcf988e8",
    "deepnote_cell_height": 82,
    "deepnote_cell_type": "markdown"
   },
   "source": [
    "# Read Data"
   ]
  },
  {
   "cell_type": "code",
   "execution_count": null,
   "id": "85253c15",
   "metadata": {
    "cell_id": "ad5b31b9c5784080b6968f0019603f2e",
    "deepnote_cell_height": 171,
    "deepnote_cell_type": "code",
    "deepnote_to_be_reexecuted": false,
    "execution_millis": 1,
    "execution_start": 1651077326606,
    "source_hash": "f4f4f341",
    "tags": []
   },
   "outputs": [],
   "source": [
    "# Define start and end years\n",
    "start_year = 2014\n",
    "end_year = 2016\n",
    "\n",
    "# Define range year\n",
    "range_year = np.arange(start_year, end_year + 1, 1, dtype=np.int32)"
   ]
  },
  {
   "cell_type": "code",
   "execution_count": null,
   "id": "af47f016",
   "metadata": {
    "cell_id": "00003-d4a2bb88-c64f-4d38-ba43-c67adcf3fb3c",
    "deepnote_cell_height": 261,
    "deepnote_cell_type": "code",
    "deepnote_to_be_reexecuted": false,
    "execution_millis": 584,
    "execution_start": 1651077326613,
    "source_hash": "24e6e6e7"
   },
   "outputs": [],
   "source": [
    "# Init empty DataFrame\n",
    "data = pd.DataFrame()\n",
    "\n",
    "for year in range_year:\n",
    "\n",
    "    year_data = pd.read_csv(f'./../data/{year}_Financial_Data.csv', \n",
    "                            sep=',', \n",
    "                            encoding='latin1', \n",
    "                            index_col=0)\n",
    "\n",
    "    data = pd.concat([data, year_data])"
   ]
  },
  {
   "cell_type": "code",
   "execution_count": null,
   "id": "88d5144f",
   "metadata": {
    "cell_id": "00004-3444729e-83b8-4ff8-b283-102873ad865b",
    "deepnote_cell_height": 192,
    "deepnote_cell_type": "code",
    "deepnote_to_be_reexecuted": false,
    "execution_millis": 6,
    "execution_start": 1651077327215,
    "source_hash": "957547ae"
   },
   "outputs": [],
   "source": [
    "data.info()"
   ]
  },
  {
   "cell_type": "code",
   "execution_count": null,
   "id": "2d6b1ef4",
   "metadata": {
    "cell_id": "00005-d59102e5-9e8d-4cfc-b98d-1cd6c37dfe33",
    "deepnote_cell_height": 407,
    "deepnote_cell_type": "code",
    "deepnote_output_heights": [
     208.1875
    ],
    "deepnote_to_be_reexecuted": false,
    "execution_millis": 509,
    "execution_start": 1651077327222,
    "source_hash": "42c8aa70"
   },
   "outputs": [],
   "source": [
    "data.head(5)"
   ]
  },
  {
   "cell_type": "markdown",
   "id": "31803daf",
   "metadata": {
    "cell_id": "ae43e05ad52d426a99e536d8023ec6f6",
    "deepnote_cell_height": 82,
    "deepnote_cell_type": "markdown",
    "deepnote_to_be_reexecuted": false,
    "execution_millis": 0,
    "execution_start": 1649409344641,
    "source_hash": "b297ebbd",
    "tags": []
   },
   "source": [
    "# Data Pre-processing"
   ]
  },
  {
   "cell_type": "code",
   "execution_count": null,
   "id": "5244bab0",
   "metadata": {
    "cell_id": "2d896274df9846959f0a9bc0184984df",
    "deepnote_cell_height": 171,
    "deepnote_cell_type": "code",
    "deepnote_to_be_reexecuted": false,
    "execution_millis": 1,
    "execution_start": 1651077327726,
    "source_hash": "ce0abb61",
    "tags": []
   },
   "outputs": [],
   "source": [
    "# Define label\n",
    "y = data['Class']\n",
    "\n",
    "# Define featuers\n",
    "# NOTE: Drop '2015 PRICE VAR [%]' because it is directly related to the Class and it is only valid a posteriori\n",
    "X = data.drop(['Class', 'Sector', '2015 PRICE VAR [%]', '2016 PRICE VAR [%]', '2017 PRICE VAR [%]'], axis=1)"
   ]
  },
  {
   "cell_type": "markdown",
   "id": "eeb14809",
   "metadata": {
    "cell_id": "24108aec159e4ad0b335dfa565e2fca6",
    "deepnote_cell_height": 70,
    "deepnote_cell_type": "markdown",
    "tags": []
   },
   "source": [
    "## Check Data Distribution"
   ]
  },
  {
   "cell_type": "code",
   "execution_count": null,
   "id": "b4ee2174",
   "metadata": {
    "cell_id": "2c747f7030c848a0a87d99f47b267cd6",
    "deepnote_cell_height": 630,
    "deepnote_cell_type": "code",
    "deepnote_output_heights": [
     382.1875
    ],
    "deepnote_to_be_reexecuted": false,
    "execution_millis": 650,
    "execution_start": 1651077327749,
    "source_hash": "ac521a87",
    "tags": []
   },
   "outputs": [],
   "source": [
    "# Check X feature distribution\n",
    "X.describe().transpose()"
   ]
  },
  {
   "cell_type": "code",
   "execution_count": null,
   "id": "d6df569b",
   "metadata": {
    "cell_id": "796b879bf8a7405a8272f94f6f077699",
    "deepnote_cell_height": 732,
    "deepnote_cell_type": "code",
    "deepnote_output_heights": [
     527
    ],
    "deepnote_to_be_reexecuted": false,
    "execution_millis": 1564,
    "execution_start": 1651077328395,
    "source_hash": "87cefb0d",
    "tags": []
   },
   "outputs": [],
   "source": [
    "# Check 'Class' distribution\n",
    "figure = ex.histogram(data_frame=y, \n",
    "                        x='Class', \n",
    "                        title='Class Distribution', \n",
    "                        histnorm='percent', \n",
    "                        nbins=len(np.unique(y.values)))\n",
    "figure.show()"
   ]
  },
  {
   "cell_type": "markdown",
   "id": "e245cf81",
   "metadata": {
    "cell_id": "2b746b927dfb46ecacbe1019be6091c3",
    "deepnote_cell_height": 52.390625,
    "deepnote_cell_type": "markdown",
    "tags": []
   },
   "source": [
    "Quite well class distribution. No skewed classes."
   ]
  },
  {
   "cell_type": "code",
   "execution_count": null,
   "id": "fc1d4df6",
   "metadata": {
    "cell_id": "0924c059167c4eea82b3aa852dd60eb6",
    "deepnote_cell_height": 136.1875,
    "deepnote_cell_type": "code",
    "deepnote_output_heights": [
     21.1875
    ],
    "deepnote_to_be_reexecuted": false,
    "execution_millis": 8,
    "execution_start": 1651077329964,
    "source_hash": "69098c36",
    "tags": []
   },
   "outputs": [],
   "source": [
    "# Check y for null values\n",
    "len(y) - y.count()"
   ]
  },
  {
   "cell_type": "markdown",
   "id": "a5131e44",
   "metadata": {
    "cell_id": "1308d0a411ff49a5afba2e90a6b49c56",
    "deepnote_cell_height": 70,
    "deepnote_cell_type": "markdown",
    "tags": []
   },
   "source": [
    "## Fill NaN Values"
   ]
  },
  {
   "cell_type": "code",
   "execution_count": null,
   "id": "26a65b67",
   "metadata": {
    "cell_id": "f111ca62579449898a1d99ff9d4eb574",
    "deepnote_cell_height": 99,
    "deepnote_cell_type": "code",
    "deepnote_to_be_reexecuted": false,
    "execution_millis": 87,
    "execution_start": 1651077329975,
    "source_hash": "491d3921",
    "tags": []
   },
   "outputs": [],
   "source": [
    "# Fill NaN values with the mean\n",
    "X = X.fillna(X.mean())"
   ]
  },
  {
   "cell_type": "markdown",
   "id": "79b49ae9",
   "metadata": {
    "cell_id": "6fd0c01cb018467e84908e5929666f05",
    "deepnote_cell_height": 70,
    "deepnote_cell_type": "markdown",
    "tags": []
   },
   "source": [
    "## Feature Normalization"
   ]
  },
  {
   "cell_type": "code",
   "execution_count": null,
   "id": "98131e0f",
   "metadata": {
    "cell_id": "923121e7097141a68ecc6fe0b9574a90",
    "deepnote_cell_height": 99,
    "deepnote_cell_type": "code",
    "deepnote_to_be_reexecuted": false,
    "execution_millis": 1458048,
    "execution_start": 1651077330066,
    "source_hash": "8b688543",
    "tags": []
   },
   "outputs": [],
   "source": [
    "# Instantiate MinMaxScaler\n",
    "min_max_scaler = MinMaxScaler()"
   ]
  },
  {
   "cell_type": "code",
   "execution_count": null,
   "id": "8ad9b078",
   "metadata": {
    "cell_id": "9473427399964bc788c0896931e4f232",
    "deepnote_cell_height": 99,
    "deepnote_cell_type": "code",
    "deepnote_to_be_reexecuted": false,
    "execution_millis": 1,
    "execution_start": 1651077330120,
    "source_hash": "bd9072e1",
    "tags": []
   },
   "outputs": [],
   "source": [
    "# Scale the data\n",
    "X_scaled = pd.DataFrame(min_max_scaler.fit_transform(X.values), index=X.index, columns=X.columns)"
   ]
  },
  {
   "cell_type": "markdown",
   "id": "13642a3b",
   "metadata": {
    "cell_id": "00006-11948d03-16be-44cf-b760-c5eb9534e310",
    "deepnote_cell_height": 82,
    "deepnote_cell_type": "markdown"
   },
   "source": [
    "# Feature Selection"
   ]
  },
  {
   "cell_type": "markdown",
   "id": "8fe14f35",
   "metadata": {
    "cell_id": "6b18271b0e7e4c9c8a4e307bfe6cf67c",
    "deepnote_cell_height": 70,
    "deepnote_cell_type": "markdown",
    "tags": []
   },
   "source": [
    "## Univariate Selection"
   ]
  },
  {
   "cell_type": "code",
   "execution_count": null,
   "id": "8e95b5d8",
   "metadata": {
    "cell_id": "0a15dd9faae84f9fabbd8726dd8d83b5",
    "deepnote_cell_height": 99,
    "deepnote_cell_type": "code",
    "deepnote_to_be_reexecuted": false,
    "execution_millis": 0,
    "execution_start": 1651077330121,
    "source_hash": "f7c33d85",
    "tags": []
   },
   "outputs": [],
   "source": [
    "# Define the number of desired features\n",
    "n_features = 180"
   ]
  },
  {
   "cell_type": "code",
   "execution_count": null,
   "id": "86296187",
   "metadata": {
    "cell_id": "e4eb2d5e990b436fb4dd7d3921720779",
    "deepnote_cell_height": 99,
    "deepnote_cell_type": "code",
    "deepnote_to_be_reexecuted": false,
    "execution_millis": 43,
    "execution_start": 1651077330121,
    "source_hash": "d0211fdf",
    "tags": []
   },
   "outputs": [],
   "source": [
    "# Fit the feature seletor\n",
    "feature_selector = SelectKBest(score_func=chi2, k=n_features).fit(X_scaled, y)"
   ]
  },
  {
   "cell_type": "code",
   "execution_count": null,
   "id": "4c3d6ed3",
   "metadata": {
    "cell_id": "bbdbd0c85d504f769b1db1bb7c2a081f",
    "deepnote_cell_height": 135,
    "deepnote_cell_type": "code",
    "deepnote_to_be_reexecuted": false,
    "execution_millis": 1,
    "execution_start": 1651077330164,
    "source_hash": "f42e1436",
    "tags": []
   },
   "outputs": [],
   "source": [
    "# Extract the most important features\n",
    "X_feature_selected = pd.DataFrame(feature_selector.transform(X_scaled), \n",
    "                                    index=X_scaled.index, \n",
    "                                    columns=feature_selector.get_feature_names_out())"
   ]
  },
  {
   "cell_type": "markdown",
   "id": "376bbd57",
   "metadata": {
    "cell_id": "c3e4d275fa0c460585b102357e1beac3",
    "deepnote_cell_height": 82,
    "deepnote_cell_type": "markdown",
    "tags": []
   },
   "source": [
    "# Exploratory Data Analysis"
   ]
  },
  {
   "cell_type": "markdown",
   "id": "1bd2bd53",
   "metadata": {
    "cell_id": "522894af38a94025b3ef6735490f4163",
    "deepnote_cell_height": 70,
    "deepnote_cell_type": "markdown",
    "tags": []
   },
   "source": [
    "## Market Cap"
   ]
  },
  {
   "cell_type": "code",
   "execution_count": null,
   "id": "4b6f2973",
   "metadata": {
    "cell_id": "ed00f63be07b419cb70af5a961e5bd25",
    "deepnote_cell_height": 189,
    "deepnote_cell_type": "code",
    "deepnote_to_be_reexecuted": false,
    "execution_millis": 2,
    "execution_start": 1651077330316,
    "source_hash": "e1617eec",
    "tags": []
   },
   "outputs": [],
   "source": [
    "# Plot the distribution of the market Cap\n",
    "# TODO\n",
    "#figure = ex.histogram(data_frame=X_feature_selected, \n",
    "#                        x='Market Cap', \n",
    "#                        title='Market Cap Distribution', \n",
    "#                        nbins=X_feature_selected['Market Cap'].nunique())\n",
    "#figure.show()"
   ]
  },
  {
   "cell_type": "markdown",
   "id": "55528dfa",
   "metadata": {
    "cell_id": "a2afe1b8630449259227efed11b4e5ee",
    "deepnote_cell_height": 82,
    "deepnote_cell_type": "markdown",
    "tags": []
   },
   "source": [
    "# Split Data into Training and Test Sets"
   ]
  },
  {
   "cell_type": "code",
   "execution_count": null,
   "id": "f143390e",
   "metadata": {
    "cell_id": "5653ef1f55984cf886e8719ce63c450a",
    "deepnote_cell_height": 117,
    "deepnote_cell_type": "code",
    "deepnote_to_be_reexecuted": false,
    "execution_millis": 1,
    "execution_start": 1651077330351,
    "source_hash": "a840e501",
    "tags": []
   },
   "outputs": [],
   "source": [
    "# Split data\n",
    "test_size = 0.33\n",
    "X_train, X_test, y_train, y_test = train_test_split(X_feature_selected, y, test_size=test_size)"
   ]
  },
  {
   "cell_type": "markdown",
   "id": "4deb81aa",
   "metadata": {
    "cell_id": "c03f82ac1cba442ab7a0a24daf426459",
    "deepnote_cell_height": 82,
    "deepnote_cell_type": "markdown",
    "tags": []
   },
   "source": [
    "# Model Definition"
   ]
  },
  {
   "cell_type": "markdown",
   "id": "cec580a2",
   "metadata": {
    "cell_id": "4aa0623ccf164ae2bea1bd01e2480a48",
    "deepnote_cell_height": 70,
    "deepnote_cell_type": "markdown",
    "tags": []
   },
   "source": [
    "## Hyperparameters Tuning"
   ]
  },
  {
   "cell_type": "code",
   "execution_count": null,
   "id": "9203106d",
   "metadata": {
    "cell_id": "00032-43aa0292-397e-419b-99af-e9942ddf2f43",
    "deepnote_cell_height": 261,
    "deepnote_cell_type": "code",
    "deepnote_to_be_reexecuted": false,
    "execution_millis": 0,
    "execution_start": 1651077330352,
    "source_hash": "75af23bb"
   },
   "outputs": [],
   "source": [
    "# Set initial space of hyperparameters\n",
    "parameters = {\n",
    "    'max_depth': np.arange(5, 10, 1),\n",
    "    'min_child_weight': np.arange(5, 15, 1),\n",
    "    'eta': np.linspace(0.01, 0.1, 10)\n",
    "}\n",
    "\n",
    "hyperopt_parameters_space = {\n",
    "    'max_depth': hp.quniform(\"max_depth\", 3, 18, 1),\n",
    "    'gamma': hp.uniform ('gamma', 1, 9),\n",
    "    'reg_alpha' : hp.quniform('reg_alpha', 40, 180, 1),\n",
    "    'reg_lambda' : hp.uniform('reg_lambda', 0,1),\n",
    "    'colsample_bytree' : hp.uniform('colsample_bytree', 0.5, 1),\n",
    "    'min_child_weight' : hp.quniform('min_child_weight', 0, 10, 1),\n",
    "    'n_estimators': 180,\n",
    "    'seed': 0\n",
    "}\n",
    "\n",
    "# Define the estimator\n",
    "xgboost_classifier = XGBClassifier(objective='binary:logistic', \n",
    "                                   eval_metric='logloss', \n",
    "                                   use_label_encoder=False)"
   ]
  },
  {
   "cell_type": "markdown",
   "id": "405b4079",
   "metadata": {
    "cell_id": "00033-54759b35-1f6c-4186-802b-119b6bf6465d",
    "deepnote_cell_height": 62,
    "deepnote_cell_type": "markdown"
   },
   "source": [
    "### Grid Search"
   ]
  },
  {
   "cell_type": "code",
   "execution_count": null,
   "id": "d28ce547",
   "metadata": {
    "cell_id": "00034-668c1dd8-12ff-4fd1-8dd5-9702ef4aab86",
    "deepnote_cell_height": 369,
    "deepnote_cell_type": "code",
    "deepnote_to_be_reexecuted": false,
    "execution_millis": 1,
    "execution_start": 1651077330352,
    "source_hash": "3dc821c4"
   },
   "outputs": [],
   "source": [
    "# Define GridSearch function\n",
    "def grid_search():\n",
    "    \n",
    "    # Perform a Grid Search for hyperparameters tuning\n",
    "    grid_search = GridSearchCV(estimator=xgboost_classifier, \n",
    "                               param_grid=parameters,\n",
    "                               scoring='roc_auc',\n",
    "                               n_jobs=2,\n",
    "                               cv=2,\n",
    "                               verbose=2)\n",
    "\n",
    "    grid_search.fit(X_train, y_train)\n",
    "    \n",
    "    print(f\"Grid Search best score: {grid_search.best_score_ * 100}\")\n",
    "    print(f\"Grid Search best parameters: {grid_search.best_params_}\")\n",
    "\n",
    "    return grid_search.best_params_"
   ]
  },
  {
   "cell_type": "markdown",
   "id": "b1a28d52",
   "metadata": {
    "cell_id": "00035-e4791f5f-0b88-45c1-a466-aea1e23c9114",
    "deepnote_cell_height": 62,
    "deepnote_cell_type": "markdown"
   },
   "source": [
    "### Halving Grid Search"
   ]
  },
  {
   "cell_type": "code",
   "execution_count": null,
   "id": "e58e94e4",
   "metadata": {
    "cell_id": "00036-3a931437-c033-40f0-90ab-6b67d2c154ee",
    "deepnote_cell_height": 369,
    "deepnote_cell_type": "code",
    "deepnote_to_be_reexecuted": false,
    "execution_millis": 50,
    "execution_start": 1651077330354,
    "source_hash": "29079481"
   },
   "outputs": [],
   "source": [
    "# Define HalvingGridSearchCV function\n",
    "def halving_grid_search():\n",
    "    \n",
    "    # Perform an Halving Grid Search for hyperparameters tuning\n",
    "    halving_grid_search = HalvingGridSearchCV(estimator=xgboost_classifier, \n",
    "                                              param_grid=parameters, \n",
    "                                              scoring='roc_auc', \n",
    "                                              n_jobs=2, \n",
    "                                              cv=2, \n",
    "                                              verbose=2)\n",
    "    \n",
    "    halving_grid_search.fit(X_train, y_train)\n",
    "    \n",
    "    print(f\"Halving Grid Search best score: {halving_grid_search.best_score_ * 100}\")\n",
    "    print(f\"Halving  Search best parameters: {halving_grid_search.best_params_}\")\n",
    "\n",
    "    return halving_grid_search.best_params_"
   ]
  },
  {
   "cell_type": "markdown",
   "id": "8241a710-3f4d-4ee6-98da-b3b08dc3f2af",
   "metadata": {},
   "source": [
    "### Bayesian Optimization with HYPEROPT"
   ]
  },
  {
   "cell_type": "code",
   "execution_count": null,
   "id": "c4f30272-80b5-4b00-9201-b127e7baf31e",
   "metadata": {},
   "outputs": [],
   "source": []
  },
  {
   "cell_type": "code",
   "execution_count": null,
   "id": "4d3a906e",
   "metadata": {
    "cell_id": "00037-6e86f184-4360-4b91-a21b-a609da9f4933",
    "deepnote_cell_height": 719,
    "deepnote_cell_type": "code",
    "deepnote_to_be_reexecuted": false,
    "execution_millis": 538391,
    "execution_start": 1651077330404,
    "source_hash": "f1a19b46"
   },
   "outputs": [],
   "source": [
    "# Perform the Hyperparameters Tuning\n",
    "parameters = halving_grid_search()"
   ]
  },
  {
   "cell_type": "markdown",
   "id": "c1d558ec",
   "metadata": {
    "cell_id": "4b6f806a5f0346be95743b6d3b1f7a53",
    "deepnote_cell_height": 70,
    "deepnote_cell_type": "markdown",
    "tags": []
   },
   "source": [
    "## Training"
   ]
  },
  {
   "cell_type": "code",
   "execution_count": null,
   "id": "193f9cc0",
   "metadata": {
    "cell_id": "9382b7f0fa454052a121d16d45f49c6a",
    "deepnote_cell_height": 99,
    "deepnote_cell_type": "code",
    "deepnote_to_be_reexecuted": false,
    "execution_millis": 0,
    "execution_start": 1651077868794,
    "source_hash": "5746690",
    "tags": []
   },
   "outputs": [],
   "source": [
    "# Set Experiment Name\n",
    "experiment_name = \"US Stock Binary Classification - XGBoost\""
   ]
  },
  {
   "cell_type": "code",
   "execution_count": null,
   "id": "3b102b7e",
   "metadata": {
    "cell_id": "ede15b41a8cb46b6bf46831a993b09df",
    "deepnote_cell_height": 297,
    "deepnote_cell_type": "code",
    "deepnote_to_be_reexecuted": false,
    "execution_millis": 107,
    "execution_start": 1651077868794,
    "source_hash": "3a3d5eae",
    "tags": []
   },
   "outputs": [],
   "source": [
    "# Retrieve experiment\n",
    "experiment = mlflow.get_experiment_by_name(experiment_name)\n",
    "\n",
    "# Check if Experiment exists\n",
    "if experiment is None:\n",
    "\n",
    "    print('Creating MLFlow experiment')\n",
    "\n",
    "    # Create experiment\n",
    "    _ = mlflow.create_experiment(experiment_name)\n",
    "\n",
    "    # Retrieve experiment\n",
    "    experiment = mlflow.get_experiment_by_name(experiment_name)"
   ]
  },
  {
   "cell_type": "code",
   "execution_count": null,
   "id": "40a23545",
   "metadata": {
    "cell_id": "400fa729c71e4effbc16f3f02df26dc2",
    "deepnote_cell_height": 657,
    "deepnote_cell_type": "code",
    "deepnote_to_be_reexecuted": false,
    "execution_millis": 25069,
    "execution_start": 1651077868901,
    "source_hash": "e8a29980",
    "tags": []
   },
   "outputs": [],
   "source": [
    "# Start experiment\n",
    "with mlflow.start_run(experiment_id=experiment.experiment_id):\n",
    "\n",
    "    # Define hyperparameters (GridSearch)\n",
    "    max_depth = parameters['max_depth']\n",
    "    min_child_weight = parameters['min_child_weight']\n",
    "    eta = parameters['eta']\n",
    "    \n",
    "\n",
    "    # Create and fit the model\n",
    "    model = XGBClassifier(objective='binary:logistic',\n",
    "                          eval_metric='logloss',\n",
    "                          eta=eta,\n",
    "                          max_depth=max_depth,\n",
    "                          min_child_weight=min_child_weight,\n",
    "                          use_label_encoder=False)\n",
    "\n",
    "    # Model Training\n",
    "    model.fit(X_train, y_train)\n",
    "\n",
    "    # Model Evaluation\n",
    "    logloss_training = round(model.score(X_train, y_train), 2) * 100\n",
    "    logloss_test = round(model.score(X_test, y_test), 2) * 100\n",
    "\n",
    "    # Log MLFlow\n",
    "    mlflow.log_param('start_year', start_year)\n",
    "    mlflow.log_param('end_year', end_year)\n",
    "    mlflow.log_param('data_dimension', len(data))\n",
    "    mlflow.log_param('max_depth', max_depth)\n",
    "    mlflow.log_param('min_child_weight', min_child_weight)\n",
    "    mlflow.log_param('n_features', n_features)\n",
    "    mlflow.log_metric('logloss_training', logloss_training)\n",
    "    mlflow.log_metric('logloss_test', logloss_test)"
   ]
  },
  {
   "cell_type": "markdown",
   "id": "72d4574c",
   "metadata": {
    "cell_id": "2bb3138c330d4881aab7d13fbb7d9447",
    "deepnote_cell_height": 70,
    "deepnote_cell_type": "markdown",
    "tags": []
   },
   "source": [
    "## Model Evaluation"
   ]
  },
  {
   "cell_type": "code",
   "execution_count": null,
   "id": "899274a7",
   "metadata": {
    "cell_id": "76e9466483224ad9bc8f7041d513e124",
    "deepnote_cell_height": 168,
    "deepnote_cell_type": "code",
    "deepnote_to_be_reexecuted": false,
    "execution_millis": 13,
    "execution_start": 1651077893972,
    "source_hash": "cafb0fa6",
    "tags": []
   },
   "outputs": [],
   "source": [
    "# Model Score\n",
    "print('Model score on the training set: {:.2f}'.format(logloss_training))\n",
    "print('Model score on the test set: {:.2f}'.format(logloss_test))"
   ]
  },
  {
   "cell_type": "code",
   "execution_count": null,
   "id": "06ac00b2",
   "metadata": {
    "cell_id": "c0adb617fc7944479966ba9de5bff39b",
    "deepnote_cell_height": 176,
    "deepnote_cell_type": "code",
    "deepnote_output_heights": [
     61
    ],
    "deepnote_to_be_reexecuted": false,
    "execution_millis": 257,
    "execution_start": 1651077893990,
    "source_hash": "3e566a51",
    "tags": []
   },
   "outputs": [],
   "source": [
    "# Retrieve MLFlow Runs\n",
    "mlflow.search_runs(experiment_ids=experiment.experiment_id)"
   ]
  },
  {
   "cell_type": "markdown",
   "id": "d4ac6365",
   "metadata": {
    "created_in_deepnote_cell": true,
    "deepnote_cell_type": "markdown",
    "tags": []
   },
   "source": [
    "<a style='text-decoration:none;line-height:16px;display:flex;color:#5B5B62;padding:10px;justify-content:end;' href='https://deepnote.com?utm_source=created-in-deepnote-cell&projectId=f1efe245-29af-4be1-bb79-055f4abb0e16' target=\"_blank\">\n",
    "<img alt='Created in deepnote.com' style='display:inline;max-height:16px;margin:0px;margin-right:7.5px;' src='data:image/svg+xml;base64,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' > </img>\n",
    "Created in <span style='font-weight:600;margin-left:4px;'>Deepnote</span></a>"
   ]
  }
 ],
 "metadata": {
  "deepnote": {},
  "deepnote_execution_queue": [],
  "deepnote_notebook_id": "092ad14d-d569-465c-ab80-a5598130383a",
  "kernelspec": {
   "display_name": "Python 3 (ipykernel)",
   "language": "python",
   "name": "python3"
  },
  "language_info": {
   "codemirror_mode": {
    "name": "ipython",
    "version": 3
   },
   "file_extension": ".py",
   "mimetype": "text/x-python",
   "name": "python",
   "nbconvert_exporter": "python",
   "pygments_lexer": "ipython3",
   "version": "3.8.12"
  }
 },
 "nbformat": 4,
 "nbformat_minor": 5
}
