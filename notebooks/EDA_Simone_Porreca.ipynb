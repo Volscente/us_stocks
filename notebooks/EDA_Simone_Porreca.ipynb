{
 "cells": [
  {
   "cell_type": "markdown",
   "source": "# Introduction\n\nThe notebook is intended to perform a first Exploratory Data Analysis for a Binary Classification problem over the feature 'class'.",
   "metadata": {
    "cell_id": "2bb137dc-83e0-4aa9-a873-ed09f635322b",
    "deepnote_cell_type": "markdown",
    "deepnote_cell_height": 120.390625
   }
  },
  {
   "cell_type": "code",
   "metadata": {
    "cell_id": "00001-9de788d8-b2a1-478f-9460-1ac80b759796",
    "deepnote_to_be_reexecuted": false,
    "source_hash": "2304318b",
    "execution_start": 1650458577645,
    "execution_millis": 2831,
    "deepnote_cell_type": "code",
    "deepnote_cell_height": 315
   },
   "source": "# Import Standard Modules\nimport pandas as pd\nimport numpy as np\n\nfrom sklearn.preprocessing import MinMaxScaler\nfrom sklearn.feature_selection import SelectKBest\nfrom sklearn.feature_selection import chi2\nfrom sklearn.model_selection import train_test_split, GridSearchCV\n\nimport plotly.express as ex\n\nfrom xgboost import XGBClassifier\n\nimport mlflow",
   "outputs": [],
   "execution_count": null
  },
  {
   "cell_type": "markdown",
   "source": "# Read Data",
   "metadata": {
    "cell_id": "00002-64a348a7-cff9-406c-a39b-dd8fbcf988e8",
    "deepnote_cell_type": "markdown",
    "deepnote_cell_height": 82
   }
  },
  {
   "cell_type": "code",
   "source": "# Define start and end years\nstart_year = 2014\nend_year = 2016\n\n# Define range year\nrange_year = np.arange(start_year, end_year + 1, 1, dtype=np.int32)",
   "metadata": {
    "cell_id": "ad5b31b9c5784080b6968f0019603f2e",
    "tags": [],
    "deepnote_to_be_reexecuted": false,
    "source_hash": "f4f4f341",
    "execution_start": 1650458580486,
    "execution_millis": 5,
    "deepnote_cell_type": "code",
    "deepnote_cell_height": 171
   },
   "outputs": [],
   "execution_count": null
  },
  {
   "cell_type": "code",
   "metadata": {
    "cell_id": "00003-d4a2bb88-c64f-4d38-ba43-c67adcf3fb3c",
    "deepnote_to_be_reexecuted": false,
    "source_hash": "24e6e6e7",
    "execution_start": 1650458580496,
    "execution_millis": 596,
    "deepnote_cell_type": "code",
    "deepnote_cell_height": 261
   },
   "source": "# Init empty DataFrame\ndata = pd.DataFrame()\n\nfor year in range_year:\n\n    year_data = pd.read_csv(f'./../data/{year}_Financial_Data.csv', \n                            sep=',', \n                            encoding='latin1', \n                            index_col=0)\n\n    data = pd.concat([data, year_data])",
   "outputs": [],
   "execution_count": null
  },
  {
   "cell_type": "code",
   "metadata": {
    "cell_id": "00004-3444729e-83b8-4ff8-b283-102873ad865b",
    "deepnote_to_be_reexecuted": false,
    "source_hash": "957547ae",
    "execution_start": 1650458581121,
    "execution_millis": 18,
    "deepnote_cell_type": "code",
    "deepnote_cell_height": 190
   },
   "source": "data.info()",
   "outputs": [
    {
     "name": "stdout",
     "text": "<class 'pandas.core.frame.DataFrame'>\nIndex: 12725 entries, PG to WTT\nColumns: 226 entries, Revenue to 2017 PRICE VAR [%]\ndtypes: float64(224), int64(1), object(1)\nmemory usage: 22.0+ MB\n",
     "output_type": "stream"
    }
   ],
   "execution_count": null
  },
  {
   "cell_type": "code",
   "metadata": {
    "cell_id": "00005-d59102e5-9e8d-4cfc-b98d-1cd6c37dfe33",
    "deepnote_to_be_reexecuted": false,
    "source_hash": "42c8aa70",
    "execution_start": 1650458581157,
    "execution_millis": 767,
    "deepnote_cell_type": "code",
    "deepnote_cell_height": 395
   },
   "source": "data.head(5)",
   "outputs": [
    {
     "output_type": "execute_result",
     "execution_count": 5,
     "data": {
      "application/vnd.deepnote.dataframe.v3+json": {
       "column_count": 226,
       "row_count": 5,
       "columns": [
        {
         "name": "Revenue",
         "dtype": "float64",
         "stats": {
          "unique_count": 5,
          "nan_count": 0,
          "min": "3734148046.4966",
          "max": "98375000000.0",
          "histogram": [
           {
            "bin_start": 3734148046.4966,
            "bin_end": 13198233241.84694,
            "count": 1
           },
           {
            "bin_start": 13198233241.84694,
            "bin_end": 22662318437.19728,
            "count": 1
           },
           {
            "bin_start": 22662318437.19728,
            "bin_end": 32126403632.54762,
            "count": 1
           },
           {
            "bin_start": 32126403632.54762,
            "bin_end": 41590488827.89796,
            "count": 0
           },
           {
            "bin_start": 41590488827.89796,
            "bin_end": 51054574023.2483,
            "count": 0
           },
           {
            "bin_start": 51054574023.2483,
            "bin_end": 60518659218.59863,
            "count": 0
           },
           {
            "bin_start": 60518659218.59863,
            "bin_end": 69982744413.94897,
            "count": 0
           },
           {
            "bin_start": 69982744413.94897,
            "bin_end": 79446829609.29932,
            "count": 1
           },
           {
            "bin_start": 79446829609.29932,
            "bin_end": 88910914804.64966,
            "count": 0
           },
           {
            "bin_start": 88910914804.64966,
            "bin_end": 98375000000,
            "count": 1
           }
          ]
         }
        },
        {
         "name": "Revenue Growth",
         "dtype": "float64",
         "stats": {
          "unique_count": 5,
          "nan_count": 0,
          "min": "-0.0713",
          "max": "1.1737",
          "histogram": [
           {
            "bin_start": -0.0713,
            "bin_end": 0.05319999999999998,
            "count": 4
           },
           {
            "bin_start": 0.05319999999999998,
            "bin_end": 0.17769999999999997,
            "count": 0
           },
           {
            "bin_start": 0.17769999999999997,
            "bin_end": 0.3021999999999999,
            "count": 0
           },
           {
            "bin_start": 0.3021999999999999,
            "bin_end": 0.42669999999999997,
            "count": 0
           },
           {
            "bin_start": 0.42669999999999997,
            "bin_end": 0.5511999999999999,
            "count": 0
           },
           {
            "bin_start": 0.5511999999999999,
            "bin_end": 0.6756999999999999,
            "count": 0
           },
           {
            "bin_start": 0.6756999999999999,
            "bin_end": 0.8001999999999999,
            "count": 0
           },
           {
            "bin_start": 0.8001999999999999,
            "bin_end": 0.9246999999999999,
            "count": 0
           },
           {
            "bin_start": 0.9246999999999999,
            "bin_end": 1.0492,
            "count": 0
           },
           {
            "bin_start": 1.0492,
            "bin_end": 1.1737,
            "count": 1
           }
          ]
         }
        },
        {
         "name": "Cost of Revenue",
         "dtype": "float64",
         "stats": {
          "unique_count": 5,
          "nan_count": 0,
          "min": "2805625443.978",
          "max": "78138000000.0",
          "histogram": [
           {
            "bin_start": 2805625443.978,
            "bin_end": 10338862899.5802,
            "count": 1
           },
           {
            "bin_start": 10338862899.5802,
            "bin_end": 17872100355.1824,
            "count": 1
           },
           {
            "bin_start": 17872100355.1824,
            "bin_end": 25405337810.784603,
            "count": 1
           },
           {
            "bin_start": 25405337810.784603,
            "bin_end": 32938575266.386803,
            "count": 0
           },
           {
            "bin_start": 32938575266.386803,
            "bin_end": 40471812721.989,
            "count": 1
           },
           {
            "bin_start": 40471812721.989,
            "bin_end": 48005050177.5912,
            "count": 0
           },
           {
            "bin_start": 48005050177.5912,
            "bin_end": 55538287633.1934,
            "count": 0
           },
           {
            "bin_start": 55538287633.1934,
            "bin_end": 63071525088.7956,
            "count": 0
           },
           {
            "bin_start": 63071525088.7956,
            "bin_end": 70604762544.39781,
            "count": 0
           },
           {
            "bin_start": 70604762544.39781,
            "bin_end": 78138000000,
            "count": 1
           }
          ]
         }
        },
        {
         "name": "Gross Profit",
         "dtype": "float64",
         "stats": {
          "unique_count": 5,
          "nan_count": 0,
          "min": "928522602.5186",
          "max": "35371000000.0",
          "histogram": [
           {
            "bin_start": 928522602.5186,
            "bin_end": 4372770342.26674,
            "count": 1
           },
           {
            "bin_start": 4372770342.26674,
            "bin_end": 7817018082.014879,
            "count": 2
           },
           {
            "bin_start": 7817018082.014879,
            "bin_end": 11261265821.76302,
            "count": 0
           },
           {
            "bin_start": 11261265821.76302,
            "bin_end": 14705513561.51116,
            "count": 0
           },
           {
            "bin_start": 14705513561.51116,
            "bin_end": 18149761301.2593,
            "count": 0
           },
           {
            "bin_start": 18149761301.2593,
            "bin_end": 21594009041.00744,
            "count": 1
           },
           {
            "bin_start": 21594009041.00744,
            "bin_end": 25038256780.75558,
            "count": 0
           },
           {
            "bin_start": 25038256780.75558,
            "bin_end": 28482504520.50372,
            "count": 0
           },
           {
            "bin_start": 28482504520.50372,
            "bin_end": 31926752260.251858,
            "count": 0
           },
           {
            "bin_start": 31926752260.251858,
            "bin_end": 35371000000,
            "count": 1
           }
          ]
         }
        },
        {
         "name": "R&D Expenses",
         "dtype": "float64",
         "stats": {
          "unique_count": 2,
          "nan_count": 0,
          "min": "0.0",
          "max": "108330319.6642",
          "histogram": [
           {
            "bin_start": 0,
            "bin_end": 10833031.966419999,
            "count": 4
           },
           {
            "bin_start": 10833031.966419999,
            "bin_end": 21666063.932839997,
            "count": 0
           },
           {
            "bin_start": 21666063.932839997,
            "bin_end": 32499095.899259996,
            "count": 0
           },
           {
            "bin_start": 32499095.899259996,
            "bin_end": 43332127.865679994,
            "count": 0
           },
           {
            "bin_start": 43332127.865679994,
            "bin_end": 54165159.83209999,
            "count": 0
           },
           {
            "bin_start": 54165159.83209999,
            "bin_end": 64998191.79851999,
            "count": 0
           },
           {
            "bin_start": 64998191.79851999,
            "bin_end": 75831223.76494,
            "count": 0
           },
           {
            "bin_start": 75831223.76494,
            "bin_end": 86664255.73135999,
            "count": 0
           },
           {
            "bin_start": 86664255.73135999,
            "bin_end": 97497287.69777998,
            "count": 0
           },
           {
            "bin_start": 97497287.69777998,
            "bin_end": 108330319.6642,
            "count": 1
           }
          ]
         }
        },
        {
         "name": "SG&A Expense",
         "dtype": "float64",
         "stats": {
          "unique_count": 5,
          "nan_count": 0,
          "min": "344141427.1876",
          "max": "21461000000.0",
          "histogram": [
           {
            "bin_start": 344141427.1876,
            "bin_end": 2455827284.46884,
            "count": 1
           },
           {
            "bin_start": 2455827284.46884,
            "bin_end": 4567513141.75008,
            "count": 1
           },
           {
            "bin_start": 4567513141.75008,
            "bin_end": 6679198999.03132,
            "count": 1
           },
           {
            "bin_start": 6679198999.03132,
            "bin_end": 8790884856.31256,
            "count": 0
           },
           {
            "bin_start": 8790884856.31256,
            "bin_end": 10902570713.5938,
            "count": 0
           },
           {
            "bin_start": 10902570713.5938,
            "bin_end": 13014256570.875038,
            "count": 0
           },
           {
            "bin_start": 13014256570.875038,
            "bin_end": 15125942428.156279,
            "count": 0
           },
           {
            "bin_start": 15125942428.156279,
            "bin_end": 17237628285.43752,
            "count": 1
           },
           {
            "bin_start": 17237628285.43752,
            "bin_end": 19349314142.718758,
            "count": 0
           },
           {
            "bin_start": 19349314142.718758,
            "bin_end": 21461000000,
            "count": 1
           }
          ]
         }
        },
        {
         "name": "Operating Expenses",
         "dtype": "float64",
         "stats": {
          "unique_count": 5,
          "nan_count": 0,
          "min": "793926703.2612",
          "max": "21461000000.0",
          "histogram": [
           {
            "bin_start": 793926703.2612,
            "bin_end": 2860634032.93508,
            "count": 1
           },
           {
            "bin_start": 2860634032.93508,
            "bin_end": 4927341362.60896,
            "count": 1
           },
           {
            "bin_start": 4927341362.60896,
            "bin_end": 6994048692.282841,
            "count": 1
           },
           {
            "bin_start": 6994048692.282841,
            "bin_end": 9060756021.95672,
            "count": 0
           },
           {
            "bin_start": 9060756021.95672,
            "bin_end": 11127463351.6306,
            "count": 0
           },
           {
            "bin_start": 11127463351.6306,
            "bin_end": 13194170681.304482,
            "count": 0
           },
           {
            "bin_start": 13194170681.304482,
            "bin_end": 15260878010.978361,
            "count": 0
           },
           {
            "bin_start": 15260878010.978361,
            "bin_end": 17327585340.65224,
            "count": 0
           },
           {
            "bin_start": 17327585340.65224,
            "bin_end": 19394292670.326122,
            "count": 1
           },
           {
            "bin_start": 19394292670.326122,
            "bin_end": 21461000000,
            "count": 1
           }
          ]
         }
        },
        {
         "name": "Operating Income",
         "dtype": "float64",
         "stats": {
          "unique_count": 5,
          "nan_count": 0,
          "min": "134595899.2573",
          "max": "13910000000.0",
          "histogram": [
           {
            "bin_start": 134595899.2573,
            "bin_end": 1512136309.33157,
            "count": 2
           },
           {
            "bin_start": 1512136309.33157,
            "bin_end": 2889676719.40584,
            "count": 1
           },
           {
            "bin_start": 2889676719.40584,
            "bin_end": 4267217129.4801097,
            "count": 1
           },
           {
            "bin_start": 4267217129.4801097,
            "bin_end": 5644757539.55438,
            "count": 0
           },
           {
            "bin_start": 5644757539.55438,
            "bin_end": 7022297949.628651,
            "count": 0
           },
           {
            "bin_start": 7022297949.628651,
            "bin_end": 8399838359.70292,
            "count": 0
           },
           {
            "bin_start": 8399838359.70292,
            "bin_end": 9777378769.77719,
            "count": 0
           },
           {
            "bin_start": 9777378769.77719,
            "bin_end": 11154919179.85146,
            "count": 0
           },
           {
            "bin_start": 11154919179.85146,
            "bin_end": 12532459589.92573,
            "count": 0
           },
           {
            "bin_start": 12532459589.92573,
            "bin_end": 13910000000,
            "count": 1
           }
          ]
         }
        },
        {
         "name": "Interest Expense",
         "dtype": "float64",
         "stats": {
          "unique_count": 5,
          "nan_count": 0,
          "min": "12148692.2829",
          "max": "709000000.0",
          "histogram": [
           {
            "bin_start": 12148692.2829,
            "bin_end": 81833823.05461001,
            "count": 1
           },
           {
            "bin_start": 81833823.05461001,
            "bin_end": 151518953.82632002,
            "count": 0
           },
           {
            "bin_start": 151518953.82632002,
            "bin_end": 221204084.59803003,
            "count": 0
           },
           {
            "bin_start": 221204084.59803003,
            "bin_end": 290889215.36974,
            "count": 0
           },
           {
            "bin_start": 290889215.36974,
            "bin_end": 360574346.14145005,
            "count": 1
           },
           {
            "bin_start": 360574346.14145005,
            "bin_end": 430259476.91316,
            "count": 1
           },
           {
            "bin_start": 430259476.91316,
            "bin_end": 499944607.68487,
            "count": 1
           },
           {
            "bin_start": 499944607.68487,
            "bin_end": 569629738.45658,
            "count": 0
           },
           {
            "bin_start": 569629738.45658,
            "bin_end": 639314869.2282901,
            "count": 0
           },
           {
            "bin_start": 639314869.2282901,
            "bin_end": 709000000,
            "count": 1
           }
          ]
         }
        },
        {
         "name": "Earnings before Tax",
         "dtype": "float64",
         "stats": {
          "unique_count": 5,
          "nan_count": 0,
          "min": "175382305.4569",
          "max": "14494000000.0",
          "histogram": [
           {
            "bin_start": 175382305.4569,
            "bin_end": 1607244074.91121,
            "count": 2
           },
           {
            "bin_start": 1607244074.91121,
            "bin_end": 3039105844.36552,
            "count": 2
           },
           {
            "bin_start": 3039105844.36552,
            "bin_end": 4470967613.81983,
            "count": 0
           },
           {
            "bin_start": 4470967613.81983,
            "bin_end": 5902829383.274139,
            "count": 0
           },
           {
            "bin_start": 5902829383.274139,
            "bin_end": 7334691152.728449,
            "count": 0
           },
           {
            "bin_start": 7334691152.728449,
            "bin_end": 8766552922.18276,
            "count": 0
           },
           {
            "bin_start": 8766552922.18276,
            "bin_end": 10198414691.63707,
            "count": 0
           },
           {
            "bin_start": 10198414691.63707,
            "bin_end": 11630276461.09138,
            "count": 0
           },
           {
            "bin_start": 11630276461.09138,
            "bin_end": 13062138230.545689,
            "count": 0
           },
           {
            "bin_start": 13062138230.545689,
            "bin_end": 14494000000,
            "count": 1
           }
          ]
         }
        },
        {
         "name": "Income Tax Expense",
         "dtype": "float64",
         "stats": {
          "unique_count": 5,
          "nan_count": 0,
          "min": "804000.0",
          "max": "2851000000.0",
          "histogram": [
           {
            "bin_start": 804000,
            "bin_end": 285823600,
            "count": 2
           },
           {
            "bin_start": 285823600,
            "bin_end": 570843200,
            "count": 0
           },
           {
            "bin_start": 570843200,
            "bin_end": 855862800,
            "count": 1
           },
           {
            "bin_start": 855862800,
            "bin_end": 1140882400,
            "count": 1
           },
           {
            "bin_start": 1140882400,
            "bin_end": 1425902000,
            "count": 0
           },
           {
            "bin_start": 1425902000,
            "bin_end": 1710921600,
            "count": 0
           },
           {
            "bin_start": 1710921600,
            "bin_end": 1995941200,
            "count": 0
           },
           {
            "bin_start": 1995941200,
            "bin_end": 2280960800,
            "count": 0
           },
           {
            "bin_start": 2280960800,
            "bin_end": 2565980400,
            "count": 0
           },
           {
            "bin_start": 2565980400,
            "bin_end": 2851000000,
            "count": 1
           }
          ]
         }
        },
        {
         "name": "Net Income - Non-Controlling int",
         "dtype": "float64",
         "stats": {
          "unique_count": 5,
          "nan_count": 0,
          "min": "-14319179.8515",
          "max": "142000000.0",
          "histogram": [
           {
            "bin_start": -14319179.8515,
            "bin_end": 1312738.1336499993,
            "count": 2
           },
           {
            "bin_start": 1312738.1336499993,
            "bin_end": 16944656.1188,
            "count": 1
           },
           {
            "bin_start": 16944656.1188,
            "bin_end": 32576574.103949998,
            "count": 0
           },
           {
            "bin_start": 32576574.103949998,
            "bin_end": 48208492.0891,
            "count": 1
           },
           {
            "bin_start": 48208492.0891,
            "bin_end": 63840410.07425,
            "count": 0
           },
           {
            "bin_start": 63840410.07425,
            "bin_end": 79472328.05939999,
            "count": 0
           },
           {
            "bin_start": 79472328.05939999,
            "bin_end": 95104246.04455,
            "count": 0
           },
           {
            "bin_start": 95104246.04455,
            "bin_end": 110736164.0297,
            "count": 0
           },
           {
            "bin_start": 110736164.0297,
            "bin_end": 126368082.01484999,
            "count": 0
           },
           {
            "bin_start": 126368082.01484999,
            "bin_end": 142000000,
            "count": 1
           }
          ]
         }
        },
        {
         "name": "Net Income - Discontinued ops",
         "dtype": "float64",
         "stats": {
          "unique_count": 2,
          "nan_count": 0,
          "min": "-1127000000.0",
          "max": "0.0",
          "histogram": [
           {
            "bin_start": -1127000000,
            "bin_end": -1014300000,
            "count": 1
           },
           {
            "bin_start": -1014300000,
            "bin_end": -901600000,
            "count": 0
           },
           {
            "bin_start": -901600000,
            "bin_end": -788900000,
            "count": 0
           },
           {
            "bin_start": -788900000,
            "bin_end": -676200000,
            "count": 0
           },
           {
            "bin_start": -676200000,
            "bin_end": -563500000,
            "count": 0
           },
           {
            "bin_start": -563500000,
            "bin_end": -450800000,
            "count": 0
           },
           {
            "bin_start": -450800000,
            "bin_end": -338100000,
            "count": 0
           },
           {
            "bin_start": -338100000,
            "bin_end": -225400000,
            "count": 0
           },
           {
            "bin_start": -225400000,
            "bin_end": -112700000,
            "count": 0
           },
           {
            "bin_start": -112700000,
            "bin_end": 0,
            "count": 4
           }
          ]
         }
        },
        {
         "name": "Net Income",
         "dtype": "float64",
         "stats": {
          "unique_count": 5,
          "nan_count": 0,
          "min": "135822731.6758",
          "max": "11643000000.0",
          "histogram": [
           {
            "bin_start": 135822731.6758,
            "bin_end": 1286540458.50822,
            "count": 2
           },
           {
            "bin_start": 1286540458.50822,
            "bin_end": 2437258185.3406396,
            "count": 2
           },
           {
            "bin_start": 2437258185.3406396,
            "bin_end": 3587975912.1730595,
            "count": 0
           },
           {
            "bin_start": 3587975912.1730595,
            "bin_end": 4738693639.00548,
            "count": 0
           },
           {
            "bin_start": 4738693639.00548,
            "bin_end": 5889411365.8379,
            "count": 0
           },
           {
            "bin_start": 5889411365.8379,
            "bin_end": 7040129092.67032,
            "count": 0
           },
           {
            "bin_start": 7040129092.67032,
            "bin_end": 8190846819.502739,
            "count": 0
           },
           {
            "bin_start": 8190846819.502739,
            "bin_end": 9341564546.33516,
            "count": 0
           },
           {
            "bin_start": 9341564546.33516,
            "bin_end": 10492282273.16758,
            "count": 0
           },
           {
            "bin_start": 10492282273.16758,
            "bin_end": 11643000000,
            "count": 1
           }
          ]
         }
        },
        {
         "name": "Preferred Dividends",
         "dtype": "float64",
         "stats": {
          "unique_count": 2,
          "nan_count": 0,
          "min": "0.0",
          "max": "33998000.0",
          "histogram": [
           {
            "bin_start": 0,
            "bin_end": 3399800,
            "count": 4
           },
           {
            "bin_start": 3399800,
            "bin_end": 6799600,
            "count": 0
           },
           {
            "bin_start": 6799600,
            "bin_end": 10199400,
            "count": 0
           },
           {
            "bin_start": 10199400,
            "bin_end": 13599200,
            "count": 0
           },
           {
            "bin_start": 13599200,
            "bin_end": 16999000,
            "count": 0
           },
           {
            "bin_start": 16999000,
            "bin_end": 20398800,
            "count": 0
           },
           {
            "bin_start": 20398800,
            "bin_end": 23798600,
            "count": 0
           },
           {
            "bin_start": 23798600,
            "bin_end": 27198400,
            "count": 0
           },
           {
            "bin_start": 27198400,
            "bin_end": 30598200,
            "count": 0
           },
           {
            "bin_start": 30598200,
            "bin_end": 33998000,
            "count": 1
           }
          ]
         }
        },
        {
         "name": "Net Income Com",
         "dtype": "float64",
         "stats": {
          "unique_count": 5,
          "nan_count": 0,
          "min": "135822731.6758",
          "max": "11643000000.0",
          "histogram": [
           {
            "bin_start": 135822731.6758,
            "bin_end": 1286540458.50822,
            "count": 2
           },
           {
            "bin_start": 1286540458.50822,
            "bin_end": 2437258185.3406396,
            "count": 2
           },
           {
            "bin_start": 2437258185.3406396,
            "bin_end": 3587975912.1730595,
            "count": 0
           },
           {
            "bin_start": 3587975912.1730595,
            "bin_end": 4738693639.00548,
            "count": 0
           },
           {
            "bin_start": 4738693639.00548,
            "bin_end": 5889411365.8379,
            "count": 0
           },
           {
            "bin_start": 5889411365.8379,
            "bin_end": 7040129092.67032,
            "count": 0
           },
           {
            "bin_start": 7040129092.67032,
            "bin_end": 8190846819.502739,
            "count": 0
           },
           {
            "bin_start": 8190846819.502739,
            "bin_end": 9341564546.33516,
            "count": 0
           },
           {
            "bin_start": 9341564546.33516,
            "bin_end": 10492282273.16758,
            "count": 0
           },
           {
            "bin_start": 10492282273.16758,
            "bin_end": 11643000000,
            "count": 1
           }
          ]
         }
        },
        {
         "name": "EPS",
         "dtype": "float64",
         "stats": {
          "unique_count": 5,
          "nan_count": 0,
          "min": "0.2396",
          "max": "4.6",
          "histogram": [
           {
            "bin_start": 0.2396,
            "bin_end": 0.6756399999999999,
            "count": 1
           },
           {
            "bin_start": 0.6756399999999999,
            "bin_end": 1.1116799999999998,
            "count": 0
           },
           {
            "bin_start": 1.1116799999999998,
            "bin_end": 1.5477199999999998,
            "count": 1
           },
           {
            "bin_start": 1.5477199999999998,
            "bin_end": 1.9837599999999997,
            "count": 0
           },
           {
            "bin_start": 1.9837599999999997,
            "bin_end": 2.4197999999999995,
            "count": 0
           },
           {
            "bin_start": 2.4197999999999995,
            "bin_end": 2.8558399999999993,
            "count": 0
           },
           {
            "bin_start": 2.8558399999999993,
            "bin_end": 3.2918799999999995,
            "count": 1
           },
           {
            "bin_start": 3.2918799999999995,
            "bin_end": 3.7279199999999992,
            "count": 0
           },
           {
            "bin_start": 3.7279199999999992,
            "bin_end": 4.163959999999999,
            "count": 0
           },
           {
            "bin_start": 4.163959999999999,
            "bin_end": 4.6,
            "count": 2
           }
          ]
         }
        },
        {
         "name": "EPS Diluted",
         "dtype": "float64",
         "stats": {
          "unique_count": 5,
          "nan_count": 0,
          "min": "0.226",
          "max": "4.6",
          "histogram": [
           {
            "bin_start": 0.226,
            "bin_end": 0.6634,
            "count": 1
           },
           {
            "bin_start": 0.6634,
            "bin_end": 1.1008,
            "count": 0
           },
           {
            "bin_start": 1.1008,
            "bin_end": 1.5381999999999998,
            "count": 1
           },
           {
            "bin_start": 1.5381999999999998,
            "bin_end": 1.9755999999999998,
            "count": 0
           },
           {
            "bin_start": 1.9755999999999998,
            "bin_end": 2.413,
            "count": 0
           },
           {
            "bin_start": 2.413,
            "bin_end": 2.8503999999999996,
            "count": 1
           },
           {
            "bin_start": 2.8503999999999996,
            "bin_end": 3.2878,
            "count": 0
           },
           {
            "bin_start": 3.2878,
            "bin_end": 3.7251999999999996,
            "count": 0
           },
           {
            "bin_start": 3.7251999999999996,
            "bin_end": 4.162599999999999,
            "count": 1
           },
           {
            "bin_start": 4.162599999999999,
            "bin_end": 4.6,
            "count": 1
           }
          ]
         }
        },
        {
         "name": "Weighted Average Shs Out",
         "dtype": "float64",
         "stats": {
          "unique_count": 4,
          "nan_count": 1,
          "min": "48326279.0",
          "max": "2705960276.0",
          "histogram": [
           {
            "bin_start": 48326279,
            "bin_end": 314089678.7,
            "count": 1
           },
           {
            "bin_start": 314089678.7,
            "bin_end": 579853078.4,
            "count": 0
           },
           {
            "bin_start": 579853078.4,
            "bin_end": 845616478.0999999,
            "count": 1
           },
           {
            "bin_start": 845616478.0999999,
            "bin_end": 1111379877.8,
            "count": 1
           },
           {
            "bin_start": 1111379877.8,
            "bin_end": 1377143277.5,
            "count": 0
           },
           {
            "bin_start": 1377143277.5,
            "bin_end": 1642906677.1999998,
            "count": 0
           },
           {
            "bin_start": 1642906677.1999998,
            "bin_end": 1908670076.8999999,
            "count": 0
           },
           {
            "bin_start": 1908670076.8999999,
            "bin_end": 2174433476.6,
            "count": 0
           },
           {
            "bin_start": 2174433476.6,
            "bin_end": 2440196876.2999997,
            "count": 0
           },
           {
            "bin_start": 2440196876.2999997,
            "bin_end": 2705960276,
            "count": 1
           }
          ]
         }
        },
        {
         "name": "Weighted Average Shs Out (Dil)",
         "dtype": "float64",
         "stats": {
          "unique_count": 5,
          "nan_count": 0,
          "min": "18293619.9548",
          "max": "2705960276.0",
          "histogram": [
           {
            "bin_start": 18293619.9548,
            "bin_end": 287060285.55932,
            "count": 2
           },
           {
            "bin_start": 287060285.55932,
            "bin_end": 555826951.1638399,
            "count": 0
           },
           {
            "bin_start": 555826951.1638399,
            "bin_end": 824593616.7683599,
            "count": 1
           },
           {
            "bin_start": 824593616.7683599,
            "bin_end": 1093360282.3728797,
            "count": 1
           },
           {
            "bin_start": 1093360282.3728797,
            "bin_end": 1362126947.9773996,
            "count": 0
           },
           {
            "bin_start": 1362126947.9773996,
            "bin_end": 1630893613.5819197,
            "count": 0
           },
           {
            "bin_start": 1630893613.5819197,
            "bin_end": 1899660279.1864398,
            "count": 0
           },
           {
            "bin_start": 1899660279.1864398,
            "bin_end": 2168426944.79096,
            "count": 0
           },
           {
            "bin_start": 2168426944.79096,
            "bin_end": 2437193610.3954797,
            "count": 0
           },
           {
            "bin_start": 2437193610.3954797,
            "bin_end": 2705960276,
            "count": 1
           }
          ]
         }
        },
        {
         "name": "Dividend per Share",
         "dtype": "float64",
         "stats": {
          "unique_count": 4,
          "nan_count": 0,
          "min": "0.0",
          "max": "2.448",
          "histogram": [
           {
            "bin_start": 0,
            "bin_end": 0.2448,
            "count": 2
           },
           {
            "bin_start": 0.2448,
            "bin_end": 0.4896,
            "count": 1
           },
           {
            "bin_start": 0.4896,
            "bin_end": 0.7343999999999999,
            "count": 0
           },
           {
            "bin_start": 0.7343999999999999,
            "bin_end": 0.9792,
            "count": 0
           },
           {
            "bin_start": 0.9792,
            "bin_end": 1.224,
            "count": 0
           },
           {
            "bin_start": 1.224,
            "bin_end": 1.4687999999999999,
            "count": 0
           },
           {
            "bin_start": 1.4687999999999999,
            "bin_end": 1.7136,
            "count": 1
           },
           {
            "bin_start": 1.7136,
            "bin_end": 1.9584,
            "count": 0
           },
           {
            "bin_start": 1.9584,
            "bin_end": 2.2032,
            "count": 0
           },
           {
            "bin_start": 2.2032,
            "bin_end": 2.448,
            "count": 1
           }
          ]
         }
        },
        {
         "name": "Gross Margin",
         "dtype": "float64",
         "stats": {
          "unique_count": 5,
          "nan_count": 0,
          "min": "0.2057",
          "max": "0.4754",
          "histogram": [
           {
            "bin_start": 0.2057,
            "bin_end": 0.23267,
            "count": 1
           },
           {
            "bin_start": 0.23267,
            "bin_end": 0.25964,
            "count": 1
           },
           {
            "bin_start": 0.25964,
            "bin_end": 0.28661000000000003,
            "count": 0
           },
           {
            "bin_start": 0.28661000000000003,
            "bin_end": 0.31357999999999997,
            "count": 1
           },
           {
            "bin_start": 0.31357999999999997,
            "bin_end": 0.34055,
            "count": 0
           },
           {
            "bin_start": 0.34055,
            "bin_end": 0.36752,
            "count": 1
           },
           {
            "bin_start": 0.36752,
            "bin_end": 0.39449,
            "count": 0
           },
           {
            "bin_start": 0.39449,
            "bin_end": 0.42146,
            "count": 0
           },
           {
            "bin_start": 0.42146,
            "bin_end": 0.44843,
            "count": 0
           },
           {
            "bin_start": 0.44843,
            "bin_end": 0.4754,
            "count": 1
           }
          ]
         }
        },
        {
         "name": "EBITDA Margin",
         "dtype": "float64",
         "stats": {
          "unique_count": 5,
          "nan_count": 0,
          "min": "0.0107",
          "max": "0.247",
          "histogram": [
           {
            "bin_start": 0.0107,
            "bin_end": 0.03433,
            "count": 1
           },
           {
            "bin_start": 0.03433,
            "bin_end": 0.057960000000000005,
            "count": 2
           },
           {
            "bin_start": 0.057960000000000005,
            "bin_end": 0.08159000000000001,
            "count": 0
           },
           {
            "bin_start": 0.08159000000000001,
            "bin_end": 0.10522000000000001,
            "count": 0
           },
           {
            "bin_start": 0.10522000000000001,
            "bin_end": 0.12885,
            "count": 0
           },
           {
            "bin_start": 0.12885,
            "bin_end": 0.15248,
            "count": 0
           },
           {
            "bin_start": 0.15248,
            "bin_end": 0.17611,
            "count": 0
           },
           {
            "bin_start": 0.17611,
            "bin_end": 0.19974,
            "count": 0
           },
           {
            "bin_start": 0.19974,
            "bin_end": 0.22337,
            "count": 1
           },
           {
            "bin_start": 0.22337,
            "bin_end": 0.247,
            "count": 1
           }
          ]
         }
        },
        {
         "name": "EBIT Margin",
         "dtype": "float64",
         "stats": {
          "unique_count": 5,
          "nan_count": 0,
          "min": "0.0264",
          "max": "0.2043",
          "histogram": [
           {
            "bin_start": 0.0264,
            "bin_end": 0.04419,
            "count": 2
           },
           {
            "bin_start": 0.04419,
            "bin_end": 0.06198,
            "count": 1
           },
           {
            "bin_start": 0.06198,
            "bin_end": 0.07977000000000001,
            "count": 0
           },
           {
            "bin_start": 0.07977000000000001,
            "bin_end": 0.09756000000000001,
            "count": 0
           },
           {
            "bin_start": 0.09756000000000001,
            "bin_end": 0.11535000000000001,
            "count": 0
           },
           {
            "bin_start": 0.11535000000000001,
            "bin_end": 0.13314,
            "count": 0
           },
           {
            "bin_start": 0.13314,
            "bin_end": 0.15093,
            "count": 0
           },
           {
            "bin_start": 0.15093,
            "bin_end": 0.16872,
            "count": 1
           },
           {
            "bin_start": 0.16872,
            "bin_end": 0.18651,
            "count": 0
           },
           {
            "bin_start": 0.18651,
            "bin_end": 0.2043,
            "count": 1
           }
          ]
         }
        },
        {
         "name": "Profit Margin",
         "dtype": "float64",
         "stats": {
          "unique_count": 5,
          "nan_count": 0,
          "min": "0.0058",
          "max": "0.156",
          "histogram": [
           {
            "bin_start": 0.0058,
            "bin_end": 0.020819999999999998,
            "count": 3
           },
           {
            "bin_start": 0.020819999999999998,
            "bin_end": 0.03584,
            "count": 0
           },
           {
            "bin_start": 0.03584,
            "bin_end": 0.05086,
            "count": 0
           },
           {
            "bin_start": 0.05086,
            "bin_end": 0.06588,
            "count": 0
           },
           {
            "bin_start": 0.06588,
            "bin_end": 0.0809,
            "count": 0
           },
           {
            "bin_start": 0.0809,
            "bin_end": 0.09592,
            "count": 0
           },
           {
            "bin_start": 0.09592,
            "bin_end": 0.11094,
            "count": 1
           },
           {
            "bin_start": 0.11094,
            "bin_end": 0.12596000000000002,
            "count": 0
           },
           {
            "bin_start": 0.12596000000000002,
            "bin_end": 0.14098,
            "count": 0
           },
           {
            "bin_start": 0.14098,
            "bin_end": 0.156,
            "count": 1
           }
          ]
         }
        },
        {
         "name": "Free Cash Flow margin",
         "dtype": "float64",
         "stats": {
          "unique_count": 5,
          "nan_count": 0,
          "min": "0.0126",
          "max": "0.1359",
          "histogram": [
           {
            "bin_start": 0.0126,
            "bin_end": 0.02493,
            "count": 2
           },
           {
            "bin_start": 0.02493,
            "bin_end": 0.03726,
            "count": 0
           },
           {
            "bin_start": 0.03726,
            "bin_end": 0.049589999999999995,
            "count": 0
           },
           {
            "bin_start": 0.049589999999999995,
            "bin_end": 0.061919999999999996,
            "count": 0
           },
           {
            "bin_start": 0.061919999999999996,
            "bin_end": 0.07425,
            "count": 1
           },
           {
            "bin_start": 0.07425,
            "bin_end": 0.08657999999999999,
            "count": 0
           },
           {
            "bin_start": 0.08657999999999999,
            "bin_end": 0.09891,
            "count": 0
           },
           {
            "bin_start": 0.09891,
            "bin_end": 0.11123999999999999,
            "count": 1
           },
           {
            "bin_start": 0.11123999999999999,
            "bin_end": 0.12356999999999999,
            "count": 0
           },
           {
            "bin_start": 0.12356999999999999,
            "bin_end": 0.1359,
            "count": 1
           }
          ]
         }
        },
        {
         "name": "EBITDA",
         "dtype": "float64",
         "stats": {
          "unique_count": 5,
          "nan_count": 0,
          "min": "245685824.9919",
          "max": "18344000000.0",
          "histogram": [
           {
            "bin_start": 245685824.9919,
            "bin_end": 2055517242.4927099,
            "count": 2
           },
           {
            "bin_start": 2055517242.4927099,
            "bin_end": 3865348659.99352,
            "count": 1
           },
           {
            "bin_start": 3865348659.99352,
            "bin_end": 5675180077.49433,
            "count": 1
           },
           {
            "bin_start": 5675180077.49433,
            "bin_end": 7485011494.99514,
            "count": 0
           },
           {
            "bin_start": 7485011494.99514,
            "bin_end": 9294842912.495949,
            "count": 0
           },
           {
            "bin_start": 9294842912.495949,
            "bin_end": 11104674329.99676,
            "count": 0
           },
           {
            "bin_start": 11104674329.99676,
            "bin_end": 12914505747.497568,
            "count": 0
           },
           {
            "bin_start": 12914505747.497568,
            "bin_end": 14724337164.998379,
            "count": 0
           },
           {
            "bin_start": 14724337164.998379,
            "bin_end": 16534168582.49919,
            "count": 0
           },
           {
            "bin_start": 16534168582.49919,
            "bin_end": 18344000000,
            "count": 1
           }
          ]
         }
        },
        {
         "name": "EBIT",
         "dtype": "float64",
         "stats": {
          "unique_count": 5,
          "nan_count": 0,
          "min": "187530997.7397",
          "max": "15203000000.0",
          "histogram": [
           {
            "bin_start": 187530997.7397,
            "bin_end": 1689077897.96573,
            "count": 2
           },
           {
            "bin_start": 1689077897.96573,
            "bin_end": 3190624798.1917596,
            "count": 2
           },
           {
            "bin_start": 3190624798.1917596,
            "bin_end": 4692171698.417789,
            "count": 0
           },
           {
            "bin_start": 4692171698.417789,
            "bin_end": 6193718598.64382,
            "count": 0
           },
           {
            "bin_start": 6193718598.64382,
            "bin_end": 7695265498.86985,
            "count": 0
           },
           {
            "bin_start": 7695265498.86985,
            "bin_end": 9196812399.095879,
            "count": 0
           },
           {
            "bin_start": 9196812399.095879,
            "bin_end": 10698359299.321909,
            "count": 0
           },
           {
            "bin_start": 10698359299.321909,
            "bin_end": 12199906199.54794,
            "count": 0
           },
           {
            "bin_start": 12199906199.54794,
            "bin_end": 13701453099.77397,
            "count": 0
           },
           {
            "bin_start": 13701453099.77397,
            "bin_end": 15203000000,
            "count": 1
           }
          ]
         }
        },
        {
         "name": "Consolidated Income",
         "dtype": "float64",
         "stats": {
          "unique_count": 5,
          "nan_count": 0,
          "min": "121503551.8243",
          "max": "11785000000.0",
          "histogram": [
           {
            "bin_start": 121503551.8243,
            "bin_end": 1287853196.64187,
            "count": 2
           },
           {
            "bin_start": 1287853196.64187,
            "bin_end": 2454202841.4594398,
            "count": 2
           },
           {
            "bin_start": 2454202841.4594398,
            "bin_end": 3620552486.27701,
            "count": 0
           },
           {
            "bin_start": 3620552486.27701,
            "bin_end": 4786902131.09458,
            "count": 0
           },
           {
            "bin_start": 4786902131.09458,
            "bin_end": 5953251775.912149,
            "count": 0
           },
           {
            "bin_start": 5953251775.912149,
            "bin_end": 7119601420.72972,
            "count": 0
           },
           {
            "bin_start": 7119601420.72972,
            "bin_end": 8285951065.54729,
            "count": 0
           },
           {
            "bin_start": 8285951065.54729,
            "bin_end": 9452300710.36486,
            "count": 0
           },
           {
            "bin_start": 9452300710.36486,
            "bin_end": 10618650355.18243,
            "count": 0
           },
           {
            "bin_start": 10618650355.18243,
            "bin_end": 11785000000,
            "count": 1
           }
          ]
         }
        },
        {
         "name": "Earnings Before Tax Margin",
         "dtype": "float64",
         "stats": {
          "unique_count": 5,
          "nan_count": 0,
          "min": "0.0098",
          "max": "0.1948",
          "histogram": [
           {
            "bin_start": 0.0098,
            "bin_end": 0.0283,
            "count": 2
           },
           {
            "bin_start": 0.0283,
            "bin_end": 0.046799999999999994,
            "count": 0
           },
           {
            "bin_start": 0.046799999999999994,
            "bin_end": 0.0653,
            "count": 1
           },
           {
            "bin_start": 0.0653,
            "bin_end": 0.0838,
            "count": 0
           },
           {
            "bin_start": 0.0838,
            "bin_end": 0.1023,
            "count": 0
           },
           {
            "bin_start": 0.1023,
            "bin_end": 0.12079999999999999,
            "count": 0
           },
           {
            "bin_start": 0.12079999999999999,
            "bin_end": 0.1393,
            "count": 0
           },
           {
            "bin_start": 0.1393,
            "bin_end": 0.1578,
            "count": 1
           },
           {
            "bin_start": 0.1578,
            "bin_end": 0.17629999999999998,
            "count": 0
           },
           {
            "bin_start": 0.17629999999999998,
            "bin_end": 0.1948,
            "count": 1
           }
          ]
         }
        },
        {
         "name": "Net Profit Margin",
         "dtype": "float64",
         "stats": {
          "unique_count": 5,
          "nan_count": 0,
          "min": "0.0098",
          "max": "0.1565",
          "histogram": [
           {
            "bin_start": 0.0098,
            "bin_end": 0.02447,
            "count": 2
           },
           {
            "bin_start": 0.02447,
            "bin_end": 0.039139999999999994,
            "count": 1
           },
           {
            "bin_start": 0.039139999999999994,
            "bin_end": 0.05381,
            "count": 0
           },
           {
            "bin_start": 0.05381,
            "bin_end": 0.06848,
            "count": 0
           },
           {
            "bin_start": 0.06848,
            "bin_end": 0.08315,
            "count": 0
           },
           {
            "bin_start": 0.08315,
            "bin_end": 0.09781999999999999,
            "count": 0
           },
           {
            "bin_start": 0.09781999999999999,
            "bin_end": 0.11248999999999999,
            "count": 1
           },
           {
            "bin_start": 0.11248999999999999,
            "bin_end": 0.12716,
            "count": 0
           },
           {
            "bin_start": 0.12716,
            "bin_end": 0.14182999999999998,
            "count": 0
           },
           {
            "bin_start": 0.14182999999999998,
            "bin_end": 0.1565,
            "count": 1
           }
          ]
         }
        },
        {
         "name": "Cash and cash equivalents",
         "dtype": "float64",
         "stats": {
          "unique_count": 5,
          "nan_count": 0,
          "min": "146406000.0",
          "max": "8558000000.0",
          "histogram": [
           {
            "bin_start": 146406000,
            "bin_end": 987565400,
            "count": 4
           },
           {
            "bin_start": 987565400,
            "bin_end": 1828724800,
            "count": 0
           },
           {
            "bin_start": 1828724800,
            "bin_end": 2669884200,
            "count": 0
           },
           {
            "bin_start": 2669884200,
            "bin_end": 3511043600,
            "count": 0
           },
           {
            "bin_start": 3511043600,
            "bin_end": 4352203000,
            "count": 0
           },
           {
            "bin_start": 4352203000,
            "bin_end": 5193362400,
            "count": 0
           },
           {
            "bin_start": 5193362400,
            "bin_end": 6034521800,
            "count": 0
           },
           {
            "bin_start": 6034521800,
            "bin_end": 6875681200,
            "count": 0
           },
           {
            "bin_start": 6875681200,
            "bin_end": 7716840600,
            "count": 0
           },
           {
            "bin_start": 7716840600,
            "bin_end": 8558000000,
            "count": 1
           }
          ]
         }
        },
        {
         "name": "Short-term investments",
         "dtype": "float64",
         "stats": {
          "unique_count": 3,
          "nan_count": 0,
          "min": "0.0",
          "max": "2128000000.0",
          "histogram": [
           {
            "bin_start": 0,
            "bin_end": 212800000,
            "count": 3
           },
           {
            "bin_start": 212800000,
            "bin_end": 425600000,
            "count": 0
           },
           {
            "bin_start": 425600000,
            "bin_end": 638400000,
            "count": 1
           },
           {
            "bin_start": 638400000,
            "bin_end": 851200000,
            "count": 0
           },
           {
            "bin_start": 851200000,
            "bin_end": 1064000000,
            "count": 0
           },
           {
            "bin_start": 1064000000,
            "bin_end": 1276800000,
            "count": 0
           },
           {
            "bin_start": 1276800000,
            "bin_end": 1489600000,
            "count": 0
           },
           {
            "bin_start": 1489600000,
            "bin_end": 1702400000,
            "count": 0
           },
           {
            "bin_start": 1702400000,
            "bin_end": 1915200000,
            "count": 0
           },
           {
            "bin_start": 1915200000,
            "bin_end": 2128000000,
            "count": 1
           }
          ]
         }
        },
        {
         "name": "Cash and short-term investments",
         "dtype": "float64",
         "stats": {
          "unique_count": 5,
          "nan_count": 0,
          "min": "146406000.0",
          "max": "10686000000.0",
          "histogram": [
           {
            "bin_start": 146406000,
            "bin_end": 1200365400,
            "count": 3
           },
           {
            "bin_start": 1200365400,
            "bin_end": 2254324800,
            "count": 1
           },
           {
            "bin_start": 2254324800,
            "bin_end": 3308284200,
            "count": 0
           },
           {
            "bin_start": 3308284200,
            "bin_end": 4362243600,
            "count": 0
           },
           {
            "bin_start": 4362243600,
            "bin_end": 5416203000,
            "count": 0
           },
           {
            "bin_start": 5416203000,
            "bin_end": 6470162400,
            "count": 0
           },
           {
            "bin_start": 6470162400,
            "bin_end": 7524121800,
            "count": 0
           },
           {
            "bin_start": 7524121800,
            "bin_end": 8578081200,
            "count": 0
           },
           {
            "bin_start": 8578081200,
            "bin_end": 9632040600,
            "count": 0
           },
           {
            "bin_start": 9632040600,
            "bin_end": 10686000000,
            "count": 1
           }
          ]
         }
        },
        {
         "name": "Receivables",
         "dtype": "float64",
         "stats": {
          "unique_count": 5,
          "nan_count": 0,
          "min": "11694865.9994",
          "max": "6386000000.0",
          "histogram": [
           {
            "bin_start": 11694865.9994,
            "bin_end": 649125379.39946,
            "count": 1
           },
           {
            "bin_start": 649125379.39946,
            "bin_end": 1286555892.7995198,
            "count": 2
           },
           {
            "bin_start": 1286555892.7995198,
            "bin_end": 1923986406.1995797,
            "count": 1
           },
           {
            "bin_start": 1923986406.1995797,
            "bin_end": 2561416919.59964,
            "count": 0
           },
           {
            "bin_start": 2561416919.59964,
            "bin_end": 3198847432.9996996,
            "count": 0
           },
           {
            "bin_start": 3198847432.9996996,
            "bin_end": 3836277946.39976,
            "count": 0
           },
           {
            "bin_start": 3836277946.39976,
            "bin_end": 4473708459.79982,
            "count": 0
           },
           {
            "bin_start": 4473708459.79982,
            "bin_end": 5111138973.19988,
            "count": 0
           },
           {
            "bin_start": 5111138973.19988,
            "bin_end": 5748569486.599939,
            "count": 0
           },
           {
            "bin_start": 5748569486.599939,
            "bin_end": 6386000000,
            "count": 1
           }
          ]
         }
        },
        {
         "name": "Inventories",
         "dtype": "float64",
         "stats": {
          "unique_count": 5,
          "nan_count": 0,
          "min": "579319341.298",
          "max": "6759000000.0",
          "histogram": [
           {
            "bin_start": 579319341.298,
            "bin_end": 1197287407.1682,
            "count": 1
           },
           {
            "bin_start": 1197287407.1682,
            "bin_end": 1815255473.0383997,
            "count": 1
           },
           {
            "bin_start": 1815255473.0383997,
            "bin_end": 2433223538.9086,
            "count": 0
           },
           {
            "bin_start": 2433223538.9086,
            "bin_end": 3051191604.7787995,
            "count": 1
           },
           {
            "bin_start": 3051191604.7787995,
            "bin_end": 3669159670.6489997,
            "count": 0
           },
           {
            "bin_start": 3669159670.6489997,
            "bin_end": 4287127736.5191994,
            "count": 0
           },
           {
            "bin_start": 4287127736.5191994,
            "bin_end": 4905095802.3894,
            "count": 0
           },
           {
            "bin_start": 4905095802.3894,
            "bin_end": 5523063868.2596,
            "count": 0
           },
           {
            "bin_start": 5523063868.2596,
            "bin_end": 6141031934.1298,
            "count": 1
           },
           {
            "bin_start": 6141031934.1298,
            "bin_end": 6759000000,
            "count": 1
           }
          ]
         }
        },
        {
         "name": "Total current assets",
         "dtype": "float64",
         "stats": {
          "unique_count": 5,
          "nan_count": 0,
          "min": "2134396835.6474",
          "max": "31617000000.0",
          "histogram": [
           {
            "bin_start": 2134396835.6474,
            "bin_end": 5082657152.08266,
            "count": 3
           },
           {
            "bin_start": 5082657152.08266,
            "bin_end": 8030917468.51792,
            "count": 0
           },
           {
            "bin_start": 8030917468.51792,
            "bin_end": 10979177784.953178,
            "count": 1
           },
           {
            "bin_start": 10979177784.953178,
            "bin_end": 13927438101.38844,
            "count": 0
           },
           {
            "bin_start": 13927438101.38844,
            "bin_end": 16875698417.8237,
            "count": 0
           },
           {
            "bin_start": 16875698417.8237,
            "bin_end": 19823958734.258957,
            "count": 0
           },
           {
            "bin_start": 19823958734.258957,
            "bin_end": 22772219050.694218,
            "count": 0
           },
           {
            "bin_start": 22772219050.694218,
            "bin_end": 25720479367.12948,
            "count": 0
           },
           {
            "bin_start": 25720479367.12948,
            "bin_end": 28668739683.56474,
            "count": 0
           },
           {
            "bin_start": 28668739683.56474,
            "bin_end": 31617000000,
            "count": 1
           }
          ]
         }
        },
        {
         "name": "Property, Plant & Equipment Net",
         "dtype": "float64",
         "stats": {
          "unique_count": 5,
          "nan_count": 0,
          "min": "308597513.723",
          "max": "22304000000.0",
          "histogram": [
           {
            "bin_start": 308597513.723,
            "bin_end": 2508137762.3507,
            "count": 2
           },
           {
            "bin_start": 2508137762.3507,
            "bin_end": 4707678010.978399,
            "count": 1
           },
           {
            "bin_start": 4707678010.978399,
            "bin_end": 6907218259.606099,
            "count": 0
           },
           {
            "bin_start": 6907218259.606099,
            "bin_end": 9106758508.233799,
            "count": 0
           },
           {
            "bin_start": 9106758508.233799,
            "bin_end": 11306298756.8615,
            "count": 0
           },
           {
            "bin_start": 11306298756.8615,
            "bin_end": 13505839005.489199,
            "count": 0
           },
           {
            "bin_start": 13505839005.489199,
            "bin_end": 15705379254.116898,
            "count": 0
           },
           {
            "bin_start": 15705379254.116898,
            "bin_end": 17904919502.7446,
            "count": 1
           },
           {
            "bin_start": 17904919502.7446,
            "bin_end": 20104459751.3723,
            "count": 0
           },
           {
            "bin_start": 20104459751.3723,
            "bin_end": 22304000000,
            "count": 1
           }
          ]
         }
        },
        {
         "name": "Goodwill and Intangible Assets",
         "dtype": "float64",
         "stats": {
          "unique_count": 5,
          "nan_count": 0,
          "min": "190658701.9696",
          "max": "84547000000.0",
          "histogram": [
           {
            "bin_start": 190658701.9696,
            "bin_end": 8626292831.77264,
            "count": 3
           },
           {
            "bin_start": 8626292831.77264,
            "bin_end": 17061926961.57568,
            "count": 1
           },
           {
            "bin_start": 17061926961.57568,
            "bin_end": 25497561091.37872,
            "count": 0
           },
           {
            "bin_start": 25497561091.37872,
            "bin_end": 33933195221.18176,
            "count": 0
           },
           {
            "bin_start": 33933195221.18176,
            "bin_end": 42368829350.984795,
            "count": 0
           },
           {
            "bin_start": 42368829350.984795,
            "bin_end": 50804463480.787834,
            "count": 0
           },
           {
            "bin_start": 50804463480.787834,
            "bin_end": 59240097610.59087,
            "count": 0
           },
           {
            "bin_start": 59240097610.59087,
            "bin_end": 67675731740.39391,
            "count": 0
           },
           {
            "bin_start": 67675731740.39391,
            "bin_end": 76111365870.19696,
            "count": 0
           },
           {
            "bin_start": 76111365870.19696,
            "bin_end": 84547000000,
            "count": 1
           }
          ]
         }
        },
        {
         "name": "Long-term investments",
         "dtype": "float64",
         "stats": {
          "unique_count": 2,
          "nan_count": 0,
          "min": "0.0",
          "max": "62993542.1376",
          "histogram": [
           {
            "bin_start": 0,
            "bin_end": 6299354.21376,
            "count": 4
           },
           {
            "bin_start": 6299354.21376,
            "bin_end": 12598708.42752,
            "count": 0
           },
           {
            "bin_start": 12598708.42752,
            "bin_end": 18898062.64128,
            "count": 0
           },
           {
            "bin_start": 18898062.64128,
            "bin_end": 25197416.85504,
            "count": 0
           },
           {
            "bin_start": 25197416.85504,
            "bin_end": 31496771.0688,
            "count": 0
           },
           {
            "bin_start": 31496771.0688,
            "bin_end": 37796125.28256,
            "count": 0
           },
           {
            "bin_start": 37796125.28256,
            "bin_end": 44095479.496319994,
            "count": 0
           },
           {
            "bin_start": 44095479.496319994,
            "bin_end": 50394833.71008,
            "count": 0
           },
           {
            "bin_start": 50394833.71008,
            "bin_end": 56694187.92384,
            "count": 0
           },
           {
            "bin_start": 56694187.92384,
            "bin_end": 62993542.1376,
            "count": 1
           }
          ]
         }
        },
        {
         "name": "Tax assets",
         "dtype": "float64",
         "stats": {
          "unique_count": 4,
          "nan_count": 0,
          "min": "0.0",
          "max": "1092000000.0",
          "histogram": [
           {
            "bin_start": 0,
            "bin_end": 109200000,
            "count": 4
           },
           {
            "bin_start": 109200000,
            "bin_end": 218400000,
            "count": 0
           },
           {
            "bin_start": 218400000,
            "bin_end": 327600000,
            "count": 0
           },
           {
            "bin_start": 327600000,
            "bin_end": 436800000,
            "count": 0
           },
           {
            "bin_start": 436800000,
            "bin_end": 546000000,
            "count": 0
           },
           {
            "bin_start": 546000000,
            "bin_end": 655200000,
            "count": 0
           },
           {
            "bin_start": 655200000,
            "bin_end": 764400000,
            "count": 0
           },
           {
            "bin_start": 764400000,
            "bin_end": 873600000,
            "count": 0
           },
           {
            "bin_start": 873600000,
            "bin_end": 982800000,
            "count": 0
           },
           {
            "bin_start": 982800000,
            "bin_end": 1092000000,
            "count": 1
           }
          ]
         }
        },
        {
         "name": "Total non-current assets",
         "dtype": "float64",
         "stats": {
          "unique_count": 5,
          "nan_count": 0,
          "min": "602290442.3636",
          "max": "112649000000.0",
          "histogram": [
           {
            "bin_start": 602290442.3636,
            "bin_end": 11806961398.12724,
            "count": 2
           },
           {
            "bin_start": 11806961398.12724,
            "bin_end": 23011632353.89088,
            "count": 2
           },
           {
            "bin_start": 23011632353.89088,
            "bin_end": 34216303309.65452,
            "count": 0
           },
           {
            "bin_start": 34216303309.65452,
            "bin_end": 45420974265.41816,
            "count": 0
           },
           {
            "bin_start": 45420974265.41816,
            "bin_end": 56625645221.1818,
            "count": 0
           },
           {
            "bin_start": 56625645221.1818,
            "bin_end": 67830316176.945435,
            "count": 0
           },
           {
            "bin_start": 67830316176.945435,
            "bin_end": 79034987132.70908,
            "count": 0
           },
           {
            "bin_start": 79034987132.70908,
            "bin_end": 90239658088.47272,
            "count": 0
           },
           {
            "bin_start": 90239658088.47272,
            "bin_end": 101444329044.23636,
            "count": 0
           },
           {
            "bin_start": 101444329044.23636,
            "bin_end": 112649000000,
            "count": 1
           }
          ]
         }
        },
        {
         "name": "Total assets",
         "dtype": "float64",
         "stats": {
          "unique_count": 5,
          "nan_count": 0,
          "min": "2736687278.011",
          "max": "144266000000.0",
          "histogram": [
           {
            "bin_start": 2736687278.011,
            "bin_end": 16889618550.209902,
            "count": 2
           },
           {
            "bin_start": 16889618550.209902,
            "bin_end": 31042549822.408806,
            "count": 2
           },
           {
            "bin_start": 31042549822.408806,
            "bin_end": 45195481094.60771,
            "count": 0
           },
           {
            "bin_start": 45195481094.60771,
            "bin_end": 59348412366.80661,
            "count": 0
           },
           {
            "bin_start": 59348412366.80661,
            "bin_end": 73501343639.00551,
            "count": 0
           },
           {
            "bin_start": 73501343639.00551,
            "bin_end": 87654274911.20442,
            "count": 0
           },
           {
            "bin_start": 87654274911.20442,
            "bin_end": 101807206183.40332,
            "count": 0
           },
           {
            "bin_start": 101807206183.40332,
            "bin_end": 115960137455.60222,
            "count": 0
           },
           {
            "bin_start": 115960137455.60222,
            "bin_end": 130113068727.80112,
            "count": 0
           },
           {
            "bin_start": 130113068727.80112,
            "bin_end": 144266000000,
            "count": 1
           }
          ]
         }
        },
        {
         "name": "Payables",
         "dtype": "float64",
         "stats": {
          "unique_count": 5,
          "nan_count": 0,
          "min": "1000490797.546",
          "max": "8461000000.0",
          "histogram": [
           {
            "bin_start": 1000490797.546,
            "bin_end": 1746541717.7914,
            "count": 3
           },
           {
            "bin_start": 1746541717.7914,
            "bin_end": 2492592638.0368004,
            "count": 0
           },
           {
            "bin_start": 2492592638.0368004,
            "bin_end": 3238643558.2822003,
            "count": 0
           },
           {
            "bin_start": 3238643558.2822003,
            "bin_end": 3984694478.5276003,
            "count": 0
           },
           {
            "bin_start": 3984694478.5276003,
            "bin_end": 4730745398.773001,
            "count": 0
           },
           {
            "bin_start": 4730745398.773001,
            "bin_end": 5476796319.0184,
            "count": 1
           },
           {
            "bin_start": 5476796319.0184,
            "bin_end": 6222847239.2638,
            "count": 0
           },
           {
            "bin_start": 6222847239.2638,
            "bin_end": 6968898159.509201,
            "count": 0
           },
           {
            "bin_start": 6968898159.509201,
            "bin_end": 7714949079.754601,
            "count": 0
           },
           {
            "bin_start": 7714949079.754601,
            "bin_end": 8461000000,
            "count": 1
           }
          ]
         }
        },
        {
         "name": "Short-term debt",
         "dtype": "float64",
         "stats": {
          "unique_count": 5,
          "nan_count": 0,
          "min": "0.0",
          "max": "15606000000.0",
          "histogram": [
           {
            "bin_start": 0,
            "bin_end": 1560600000,
            "count": 2
           },
           {
            "bin_start": 1560600000,
            "bin_end": 3121200000,
            "count": 2
           },
           {
            "bin_start": 3121200000,
            "bin_end": 4681800000,
            "count": 0
           },
           {
            "bin_start": 4681800000,
            "bin_end": 6242400000,
            "count": 0
           },
           {
            "bin_start": 6242400000,
            "bin_end": 7803000000,
            "count": 0
           },
           {
            "bin_start": 7803000000,
            "bin_end": 9363600000,
            "count": 0
           },
           {
            "bin_start": 9363600000,
            "bin_end": 10924200000,
            "count": 0
           },
           {
            "bin_start": 10924200000,
            "bin_end": 12484800000,
            "count": 0
           },
           {
            "bin_start": 12484800000,
            "bin_end": 14045400000,
            "count": 0
           },
           {
            "bin_start": 14045400000,
            "bin_end": 15606000000,
            "count": 1
           }
          ]
         }
        },
        {
         "name": "Total current liabilities",
         "dtype": "float64",
         "stats": {
          "unique_count": 5,
          "nan_count": 0,
          "min": "1639536809.816",
          "max": "33726000000.0",
          "histogram": [
           {
            "bin_start": 1639536809.816,
            "bin_end": 4848183128.8344,
            "count": 2
           },
           {
            "bin_start": 4848183128.8344,
            "bin_end": 8056829447.852799,
            "count": 1
           },
           {
            "bin_start": 8056829447.852799,
            "bin_end": 11265475766.871199,
            "count": 1
           },
           {
            "bin_start": 11265475766.871199,
            "bin_end": 14474122085.889599,
            "count": 0
           },
           {
            "bin_start": 14474122085.889599,
            "bin_end": 17682768404.907997,
            "count": 0
           },
           {
            "bin_start": 17682768404.907997,
            "bin_end": 20891414723.9264,
            "count": 0
           },
           {
            "bin_start": 20891414723.9264,
            "bin_end": 24100061042.9448,
            "count": 0
           },
           {
            "bin_start": 24100061042.9448,
            "bin_end": 27308707361.963196,
            "count": 0
           },
           {
            "bin_start": 27308707361.963196,
            "bin_end": 30517353680.981598,
            "count": 0
           },
           {
            "bin_start": 30517353680.981598,
            "bin_end": 33726000000,
            "count": 1
           }
          ]
         }
        },
        {
         "name": "Long-term debt",
         "dtype": "float64",
         "stats": {
          "unique_count": 5,
          "nan_count": 0,
          "min": "622374071.6823",
          "max": "19811000000.0",
          "histogram": [
           {
            "bin_start": 622374071.6823,
            "bin_end": 2541236664.51407,
            "count": 1
           },
           {
            "bin_start": 2541236664.51407,
            "bin_end": 4460099257.3458395,
            "count": 0
           },
           {
            "bin_start": 4460099257.3458395,
            "bin_end": 6378961850.177609,
            "count": 1
           },
           {
            "bin_start": 6378961850.177609,
            "bin_end": 8297824443.009379,
            "count": 1
           },
           {
            "bin_start": 8297824443.009379,
            "bin_end": 10216687035.84115,
            "count": 1
           },
           {
            "bin_start": 10216687035.84115,
            "bin_end": 12135549628.67292,
            "count": 0
           },
           {
            "bin_start": 12135549628.67292,
            "bin_end": 14054412221.50469,
            "count": 0
           },
           {
            "bin_start": 14054412221.50469,
            "bin_end": 15973274814.33646,
            "count": 0
           },
           {
            "bin_start": 15973274814.33646,
            "bin_end": 17892137407.168232,
            "count": 0
           },
           {
            "bin_start": 17892137407.168232,
            "bin_end": 19811000000,
            "count": 1
           }
          ]
         }
        },
        {
         "name": "Total debt",
         "dtype": "float64",
         "stats": {
          "unique_count": 5,
          "nan_count": 0,
          "min": "622374071.6823",
          "max": "35417000000.0",
          "histogram": [
           {
            "bin_start": 622374071.6823,
            "bin_end": 4101836664.5140705,
            "count": 1
           },
           {
            "bin_start": 4101836664.5140705,
            "bin_end": 7581299257.34584,
            "count": 1
           },
           {
            "bin_start": 7581299257.34584,
            "bin_end": 11060761850.177612,
            "count": 1
           },
           {
            "bin_start": 11060761850.177612,
            "bin_end": 14540224443.009382,
            "count": 1
           },
           {
            "bin_start": 14540224443.009382,
            "bin_end": 18019687035.841152,
            "count": 0
           },
           {
            "bin_start": 18019687035.841152,
            "bin_end": 21499149628.672924,
            "count": 0
           },
           {
            "bin_start": 21499149628.672924,
            "bin_end": 24978612221.504692,
            "count": 0
           },
           {
            "bin_start": 24978612221.504692,
            "bin_end": 28458074814.336464,
            "count": 0
           },
           {
            "bin_start": 28458074814.336464,
            "bin_end": 31937537407.168236,
            "count": 0
           },
           {
            "bin_start": 31937537407.168236,
            "bin_end": 35417000000,
            "count": 1
           }
          ]
         }
        },
        {
         "name": "Deferred revenue",
         "dtype": "float64",
         "stats": {
          "unique_count": 2,
          "nan_count": 0,
          "min": "0.0",
          "max": "31411042.9448",
          "histogram": [
           {
            "bin_start": 0,
            "bin_end": 3141104.29448,
            "count": 4
           },
           {
            "bin_start": 3141104.29448,
            "bin_end": 6282208.58896,
            "count": 0
           },
           {
            "bin_start": 6282208.58896,
            "bin_end": 9423312.883440001,
            "count": 0
           },
           {
            "bin_start": 9423312.883440001,
            "bin_end": 12564417.17792,
            "count": 0
           },
           {
            "bin_start": 12564417.17792,
            "bin_end": 15705521.4724,
            "count": 0
           },
           {
            "bin_start": 15705521.4724,
            "bin_end": 18846625.766880002,
            "count": 0
           },
           {
            "bin_start": 18846625.766880002,
            "bin_end": 21987730.06136,
            "count": 0
           },
           {
            "bin_start": 21987730.06136,
            "bin_end": 25128834.35584,
            "count": 0
           },
           {
            "bin_start": 25128834.35584,
            "bin_end": 28269938.65032,
            "count": 0
           },
           {
            "bin_start": 28269938.65032,
            "bin_end": 31411042.9448,
            "count": 1
           }
          ]
         }
        },
        {
         "name": "Tax Liabilities",
         "dtype": "float64",
         "stats": {
          "unique_count": 4,
          "nan_count": 0,
          "min": "0.0",
          "max": "10218000000.0",
          "histogram": [
           {
            "bin_start": 0,
            "bin_end": 1021800000,
            "count": 2
           },
           {
            "bin_start": 1021800000,
            "bin_end": 2043600000,
            "count": 2
           },
           {
            "bin_start": 2043600000,
            "bin_end": 3065400000,
            "count": 0
           },
           {
            "bin_start": 3065400000,
            "bin_end": 4087200000,
            "count": 0
           },
           {
            "bin_start": 4087200000,
            "bin_end": 5109000000,
            "count": 0
           },
           {
            "bin_start": 5109000000,
            "bin_end": 6130800000,
            "count": 0
           },
           {
            "bin_start": 6130800000,
            "bin_end": 7152600000,
            "count": 0
           },
           {
            "bin_start": 7152600000,
            "bin_end": 8174400000,
            "count": 0
           },
           {
            "bin_start": 8174400000,
            "bin_end": 9196200000,
            "count": 0
           },
           {
            "bin_start": 9196200000,
            "bin_end": 10218000000,
            "count": 1
           }
          ]
         }
        },
        {
         "name": "Deposit Liabilities",
         "dtype": "float64",
         "stats": {
          "unique_count": 1,
          "nan_count": 0,
          "min": "0.0",
          "max": "0.0",
          "histogram": [
           {
            "bin_start": -0.5,
            "bin_end": -0.4,
            "count": 0
           },
           {
            "bin_start": -0.4,
            "bin_end": -0.3,
            "count": 0
           },
           {
            "bin_start": -0.3,
            "bin_end": -0.19999999999999996,
            "count": 0
           },
           {
            "bin_start": -0.19999999999999996,
            "bin_end": -0.09999999999999998,
            "count": 0
           },
           {
            "bin_start": -0.09999999999999998,
            "bin_end": 0,
            "count": 0
           },
           {
            "bin_start": 0,
            "bin_end": 0.10000000000000009,
            "count": 5
           },
           {
            "bin_start": 0.10000000000000009,
            "bin_end": 0.20000000000000007,
            "count": 0
           },
           {
            "bin_start": 0.20000000000000007,
            "bin_end": 0.30000000000000004,
            "count": 0
           },
           {
            "bin_start": 0.30000000000000004,
            "bin_end": 0.4,
            "count": 0
           },
           {
            "bin_start": 0.4,
            "bin_end": 0.5,
            "count": 0
           }
          ]
         }
        },
        {
         "name": "Total non-current liabilities",
         "dtype": "float64",
         "stats": {
          "unique_count": 5,
          "nan_count": 0,
          "min": "661556667.743",
          "max": "40564000000.0",
          "histogram": [
           {
            "bin_start": 661556667.743,
            "bin_end": 4651801000.9687,
            "count": 1
           },
           {
            "bin_start": 4651801000.9687,
            "bin_end": 8642045334.1944,
            "count": 1
           },
           {
            "bin_start": 8642045334.1944,
            "bin_end": 12632289667.420101,
            "count": 1
           },
           {
            "bin_start": 12632289667.420101,
            "bin_end": 16622534000.645802,
            "count": 1
           },
           {
            "bin_start": 16622534000.645802,
            "bin_end": 20612778333.871502,
            "count": 0
           },
           {
            "bin_start": 20612778333.871502,
            "bin_end": 24603022667.097202,
            "count": 0
           },
           {
            "bin_start": 24603022667.097202,
            "bin_end": 28593267000.322903,
            "count": 0
           },
           {
            "bin_start": 28593267000.322903,
            "bin_end": 32583511333.548603,
            "count": 0
           },
           {
            "bin_start": 32583511333.548603,
            "bin_end": 36573755666.77431,
            "count": 0
           },
           {
            "bin_start": 36573755666.77431,
            "bin_end": 40564000000,
            "count": 1
           }
          ]
         }
        },
        {
         "name": "Total liabilities",
         "dtype": "float64",
         "stats": {
          "unique_count": 5,
          "nan_count": 0,
          "min": "2301093477.5589",
          "max": "74290000000.0",
          "histogram": [
           {
            "bin_start": 2301093477.5589,
            "bin_end": 9499984129.803009,
            "count": 2
           },
           {
            "bin_start": 9499984129.803009,
            "bin_end": 16698874782.04712,
            "count": 1
           },
           {
            "bin_start": 16698874782.04712,
            "bin_end": 23897765434.29123,
            "count": 1
           },
           {
            "bin_start": 23897765434.29123,
            "bin_end": 31096656086.53534,
            "count": 0
           },
           {
            "bin_start": 31096656086.53534,
            "bin_end": 38295546738.77945,
            "count": 0
           },
           {
            "bin_start": 38295546738.77945,
            "bin_end": 45494437391.02356,
            "count": 0
           },
           {
            "bin_start": 45494437391.02356,
            "bin_end": 52693328043.26767,
            "count": 0
           },
           {
            "bin_start": 52693328043.26767,
            "bin_end": 59892218695.51178,
            "count": 0
           },
           {
            "bin_start": 59892218695.51178,
            "bin_end": 67091109347.75589,
            "count": 0
           },
           {
            "bin_start": 67091109347.75589,
            "bin_end": 74290000000,
            "count": 1
           }
          ]
         }
        },
        {
         "name": "Other comprehensive income",
         "dtype": "float64",
         "stats": {
          "unique_count": 5,
          "nan_count": 0,
          "min": "-7662000000.0",
          "max": "-1729254.1169",
          "histogram": [
           {
            "bin_start": -7662000000,
            "bin_end": -6895972925.41169,
            "count": 1
           },
           {
            "bin_start": -6895972925.41169,
            "bin_end": -6129945850.8233795,
            "count": 0
           },
           {
            "bin_start": -6129945850.8233795,
            "bin_end": -5363918776.23507,
            "count": 0
           },
           {
            "bin_start": -5363918776.23507,
            "bin_end": -4597891701.64676,
            "count": 0
           },
           {
            "bin_start": -4597891701.64676,
            "bin_end": -3831864627.0584497,
            "count": 0
           },
           {
            "bin_start": -3831864627.0584497,
            "bin_end": -3065837552.4701405,
            "count": 0
           },
           {
            "bin_start": -3065837552.4701405,
            "bin_end": -2299810477.88183,
            "count": 0
           },
           {
            "bin_start": -2299810477.88183,
            "bin_end": -1533783403.29352,
            "count": 0
           },
           {
            "bin_start": -1533783403.29352,
            "bin_end": -767756328.7052097,
            "count": 1
           },
           {
            "bin_start": -767756328.7052097,
            "bin_end": -1729254.1169,
            "count": 3
           }
          ]
         }
        },
        {
         "name": "Retained earnings (deficit)",
         "dtype": "float64",
         "stats": {
          "unique_count": 5,
          "nan_count": 0,
          "min": "-7515848000.0",
          "max": "84990000000.0",
          "histogram": [
           {
            "bin_start": -7515848000,
            "bin_end": 1734736800,
            "count": 2
           },
           {
            "bin_start": 1734736800,
            "bin_end": 10985321600,
            "count": 1
           },
           {
            "bin_start": 10985321600,
            "bin_end": 20235906400,
            "count": 1
           },
           {
            "bin_start": 20235906400,
            "bin_end": 29486491200,
            "count": 0
           },
           {
            "bin_start": 29486491200,
            "bin_end": 38737076000,
            "count": 0
           },
           {
            "bin_start": 38737076000,
            "bin_end": 47987660800,
            "count": 0
           },
           {
            "bin_start": 47987660800,
            "bin_end": 57238245600,
            "count": 0
           },
           {
            "bin_start": 57238245600,
            "bin_end": 66488830400,
            "count": 0
           },
           {
            "bin_start": 66488830400,
            "bin_end": 75739415200,
            "count": 0
           },
           {
            "bin_start": 75739415200,
            "bin_end": 84990000000,
            "count": 1
           }
          ]
         }
        },
        {
         "name": "Total shareholders equity",
         "dtype": "float64",
         "stats": {
          "unique_count": 5,
          "nan_count": 0,
          "min": "-2113702000.0",
          "max": "69976000000.0",
          "histogram": [
           {
            "bin_start": -2113702000,
            "bin_end": 5095268200,
            "count": 2
           },
           {
            "bin_start": 5095268200,
            "bin_end": 12304238400,
            "count": 2
           },
           {
            "bin_start": 12304238400,
            "bin_end": 19513208600,
            "count": 0
           },
           {
            "bin_start": 19513208600,
            "bin_end": 26722178800,
            "count": 0
           },
           {
            "bin_start": 26722178800,
            "bin_end": 33931149000,
            "count": 0
           },
           {
            "bin_start": 33931149000,
            "bin_end": 41140119200,
            "count": 0
           },
           {
            "bin_start": 41140119200,
            "bin_end": 48349089400,
            "count": 0
           },
           {
            "bin_start": 48349089400,
            "bin_end": 55558059600,
            "count": 0
           },
           {
            "bin_start": 55558059600,
            "bin_end": 62767029800,
            "count": 0
           },
           {
            "bin_start": 62767029800,
            "bin_end": 69976000000,
            "count": 1
           }
          ]
         }
        },
        {
         "name": "Investments",
         "dtype": "float64",
         "stats": {
          "unique_count": 3,
          "nan_count": 0,
          "min": "0.0",
          "max": "2128000000.0",
          "histogram": [
           {
            "bin_start": 0,
            "bin_end": 212800000,
            "count": 3
           },
           {
            "bin_start": 212800000,
            "bin_end": 425600000,
            "count": 0
           },
           {
            "bin_start": 425600000,
            "bin_end": 638400000,
            "count": 0
           },
           {
            "bin_start": 638400000,
            "bin_end": 851200000,
            "count": 1
           },
           {
            "bin_start": 851200000,
            "bin_end": 1064000000,
            "count": 0
           },
           {
            "bin_start": 1064000000,
            "bin_end": 1276800000,
            "count": 0
           },
           {
            "bin_start": 1276800000,
            "bin_end": 1489600000,
            "count": 0
           },
           {
            "bin_start": 1489600000,
            "bin_end": 1702400000,
            "count": 0
           },
           {
            "bin_start": 1702400000,
            "bin_end": 1915200000,
            "count": 0
           },
           {
            "bin_start": 1915200000,
            "bin_end": 2128000000,
            "count": 1
           }
          ]
         }
        },
        {
         "name": "Net Debt",
         "dtype": "float64",
         "stats": {
          "unique_count": 4,
          "nan_count": 1,
          "min": "5610737000.0",
          "max": "24731000000.0",
          "histogram": [
           {
            "bin_start": 5610737000,
            "bin_end": 7522763300,
            "count": 1
           },
           {
            "bin_start": 7522763300,
            "bin_end": 9434789600,
            "count": 1
           },
           {
            "bin_start": 9434789600,
            "bin_end": 11346815900,
            "count": 1
           },
           {
            "bin_start": 11346815900,
            "bin_end": 13258842200,
            "count": 0
           },
           {
            "bin_start": 13258842200,
            "bin_end": 15170868500,
            "count": 0
           },
           {
            "bin_start": 15170868500,
            "bin_end": 17082894800,
            "count": 0
           },
           {
            "bin_start": 17082894800,
            "bin_end": 18994921100,
            "count": 0
           },
           {
            "bin_start": 18994921100,
            "bin_end": 20906947400,
            "count": 0
           },
           {
            "bin_start": 20906947400,
            "bin_end": 22818973700,
            "count": 0
           },
           {
            "bin_start": 22818973700,
            "bin_end": 24731000000,
            "count": 1
           }
          ]
         }
        },
        {
         "name": "Other Assets",
         "dtype": "float64",
         "stats": {
          "unique_count": 4,
          "nan_count": 1,
          "min": "195709000.0",
          "max": "7786000000.0",
          "histogram": [
           {
            "bin_start": 195709000,
            "bin_end": 954738100,
            "count": 2
           },
           {
            "bin_start": 954738100,
            "bin_end": 1713767200,
            "count": 1
           },
           {
            "bin_start": 1713767200,
            "bin_end": 2472796300,
            "count": 0
           },
           {
            "bin_start": 2472796300,
            "bin_end": 3231825400,
            "count": 0
           },
           {
            "bin_start": 3231825400,
            "bin_end": 3990854500,
            "count": 0
           },
           {
            "bin_start": 3990854500,
            "bin_end": 4749883600,
            "count": 0
           },
           {
            "bin_start": 4749883600,
            "bin_end": 5508912700,
            "count": 0
           },
           {
            "bin_start": 5508912700,
            "bin_end": 6267941800,
            "count": 0
           },
           {
            "bin_start": 6267941800,
            "bin_end": 7026970900,
            "count": 0
           },
           {
            "bin_start": 7026970900,
            "bin_end": 7786000000,
            "count": 1
           }
          ]
         }
        },
        {
         "name": "Other Liabilities",
         "dtype": "float64",
         "stats": {
          "unique_count": 5,
          "nan_count": 0,
          "min": "639046012.27",
          "max": "9659000000.0",
          "histogram": [
           {
            "bin_start": 639046012.27,
            "bin_end": 1541041411.043,
            "count": 3
           },
           {
            "bin_start": 1541041411.043,
            "bin_end": 2443036809.816,
            "count": 0
           },
           {
            "bin_start": 2443036809.816,
            "bin_end": 3345032208.589,
            "count": 0
           },
           {
            "bin_start": 3345032208.589,
            "bin_end": 4247027607.362,
            "count": 1
           },
           {
            "bin_start": 4247027607.362,
            "bin_end": 5149023006.135,
            "count": 0
           },
           {
            "bin_start": 5149023006.135,
            "bin_end": 6051018404.908001,
            "count": 0
           },
           {
            "bin_start": 6051018404.908001,
            "bin_end": 6953013803.681,
            "count": 0
           },
           {
            "bin_start": 6953013803.681,
            "bin_end": 7855009202.454,
            "count": 0
           },
           {
            "bin_start": 7855009202.454,
            "bin_end": 8757004601.227,
            "count": 0
           },
           {
            "bin_start": 8757004601.227,
            "bin_end": 9659000000,
            "count": 1
           }
          ]
         }
        },
        {
         "name": "Depreciation & Amortization",
         "dtype": "float64",
         "stats": {
          "unique_count": 5,
          "nan_count": 0,
          "min": "58154827.2522",
          "max": "3141000000.0",
          "histogram": [
           {
            "bin_start": 58154827.2522,
            "bin_end": 366439344.52698,
            "count": 1
           },
           {
            "bin_start": 366439344.52698,
            "bin_end": 674723861.80176,
            "count": 2
           },
           {
            "bin_start": 674723861.80176,
            "bin_end": 983008379.0765399,
            "count": 0
           },
           {
            "bin_start": 983008379.0765399,
            "bin_end": 1291292896.3513198,
            "count": 0
           },
           {
            "bin_start": 1291292896.3513198,
            "bin_end": 1599577413.6260998,
            "count": 0
           },
           {
            "bin_start": 1599577413.6260998,
            "bin_end": 1907861930.9008796,
            "count": 1
           },
           {
            "bin_start": 1907861930.9008796,
            "bin_end": 2216146448.17566,
            "count": 0
           },
           {
            "bin_start": 2216146448.17566,
            "bin_end": 2524430965.45044,
            "count": 0
           },
           {
            "bin_start": 2524430965.45044,
            "bin_end": 2832715482.7252197,
            "count": 0
           },
           {
            "bin_start": 2832715482.7252197,
            "bin_end": 3141000000,
            "count": 1
           }
          ]
         }
        },
        {
         "name": "Stock-based compensation",
         "dtype": "float64",
         "stats": {
          "unique_count": 5,
          "nan_count": 0,
          "min": "-10471000.0",
          "max": "360000000.0",
          "histogram": [
           {
            "bin_start": -10471000,
            "bin_end": 26576100,
            "count": 1
           },
           {
            "bin_start": 26576100,
            "bin_end": 63623200,
            "count": 2
           },
           {
            "bin_start": 63623200,
            "bin_end": 100670300,
            "count": 0
           },
           {
            "bin_start": 100670300,
            "bin_end": 137717400,
            "count": 1
           },
           {
            "bin_start": 137717400,
            "bin_end": 174764500,
            "count": 0
           },
           {
            "bin_start": 174764500,
            "bin_end": 211811600,
            "count": 0
           },
           {
            "bin_start": 211811600,
            "bin_end": 248858700,
            "count": 0
           },
           {
            "bin_start": 248858700,
            "bin_end": 285905800,
            "count": 0
           },
           {
            "bin_start": 285905800,
            "bin_end": 322952900,
            "count": 0
           },
           {
            "bin_start": 322952900,
            "bin_end": 360000000,
            "count": 1
           }
          ]
         }
        },
        {
         "name": "Operating Cash Flow",
         "dtype": "float64",
         "stats": {
          "unique_count": 5,
          "nan_count": 0,
          "min": "526745560.2196",
          "max": "13958000000.0",
          "histogram": [
           {
            "bin_start": 526745560.2196,
            "bin_end": 1869871004.19764,
            "count": 2
           },
           {
            "bin_start": 1869871004.19764,
            "bin_end": 3212996448.17568,
            "count": 1
           },
           {
            "bin_start": 3212996448.17568,
            "bin_end": 4556121892.15372,
            "count": 1
           },
           {
            "bin_start": 4556121892.15372,
            "bin_end": 5899247336.13176,
            "count": 0
           },
           {
            "bin_start": 5899247336.13176,
            "bin_end": 7242372780.109799,
            "count": 0
           },
           {
            "bin_start": 7242372780.109799,
            "bin_end": 8585498224.08784,
            "count": 0
           },
           {
            "bin_start": 8585498224.08784,
            "bin_end": 9928623668.06588,
            "count": 0
           },
           {
            "bin_start": 9928623668.06588,
            "bin_end": 11271749112.04392,
            "count": 0
           },
           {
            "bin_start": 11271749112.04392,
            "bin_end": 12614874556.021961,
            "count": 0
           },
           {
            "bin_start": 12614874556.021961,
            "bin_end": 13958000000,
            "count": 1
           }
          ]
         }
        },
        {
         "name": "Capital Expenditure",
         "dtype": "float64",
         "stats": {
          "unique_count": 5,
          "nan_count": 0,
          "min": "-3848000000.0",
          "max": "-263704552.793",
          "histogram": [
           {
            "bin_start": -3848000000,
            "bin_end": -3489570455.2793,
            "count": 1
           },
           {
            "bin_start": -3489570455.2793,
            "bin_end": -3131140910.5586,
            "count": 0
           },
           {
            "bin_start": -3131140910.5586,
            "bin_end": -2772711365.8379,
            "count": 0
           },
           {
            "bin_start": -2772711365.8379,
            "bin_end": -2414281821.1172,
            "count": 0
           },
           {
            "bin_start": -2414281821.1172,
            "bin_end": -2055852276.3965,
            "count": 1
           },
           {
            "bin_start": -2055852276.3965,
            "bin_end": -1697422731.6758003,
            "count": 0
           },
           {
            "bin_start": -1697422731.6758003,
            "bin_end": -1338993186.9551,
            "count": 0
           },
           {
            "bin_start": -1338993186.9551,
            "bin_end": -980563642.2344003,
            "count": 0
           },
           {
            "bin_start": -980563642.2344003,
            "bin_end": -622134097.5137005,
            "count": 1
           },
           {
            "bin_start": -622134097.5137005,
            "bin_end": -263704552.793,
            "count": 2
           }
          ]
         }
        },
        {
         "name": "Acquisitions and disposals",
         "dtype": "float64",
         "stats": {
          "unique_count": 5,
          "nan_count": 0,
          "min": "-2344000000.0",
          "max": "66700000.0",
          "histogram": [
           {
            "bin_start": -2344000000,
            "bin_end": -2102930000,
            "count": 1
           },
           {
            "bin_start": -2102930000,
            "bin_end": -1861860000,
            "count": 0
           },
           {
            "bin_start": -1861860000,
            "bin_end": -1620790000,
            "count": 0
           },
           {
            "bin_start": -1620790000,
            "bin_end": -1379720000,
            "count": 0
           },
           {
            "bin_start": -1379720000,
            "bin_end": -1138650000,
            "count": 0
           },
           {
            "bin_start": -1138650000,
            "bin_end": -897580000,
            "count": 0
           },
           {
            "bin_start": -897580000,
            "bin_end": -656510000,
            "count": 0
           },
           {
            "bin_start": -656510000,
            "bin_end": -415440000,
            "count": 0
           },
           {
            "bin_start": -415440000,
            "bin_end": -174370000,
            "count": 1
           },
           {
            "bin_start": -174370000,
            "bin_end": 66700000,
            "count": 3
           }
          ]
         }
        },
        {
         "name": "Investment purchases and sales",
         "dtype": "float64",
         "stats": {
          "unique_count": 5,
          "nan_count": 0,
          "min": "-805000000.0",
          "max": "41155000.0",
          "histogram": [
           {
            "bin_start": -805000000,
            "bin_end": -720384500,
            "count": 1
           },
           {
            "bin_start": -720384500,
            "bin_end": -635769000,
            "count": 0
           },
           {
            "bin_start": -635769000,
            "bin_end": -551153500,
            "count": 0
           },
           {
            "bin_start": -551153500,
            "bin_end": -466538000,
            "count": 0
           },
           {
            "bin_start": -466538000,
            "bin_end": -381922500,
            "count": 0
           },
           {
            "bin_start": -381922500,
            "bin_end": -297307000,
            "count": 0
           },
           {
            "bin_start": -297307000,
            "bin_end": -212691500,
            "count": 0
           },
           {
            "bin_start": -212691500,
            "bin_end": -128076000,
            "count": 1
           },
           {
            "bin_start": -128076000,
            "bin_end": -43460500,
            "count": 0
           },
           {
            "bin_start": -43460500,
            "bin_end": 41155000,
            "count": 3
           }
          ]
         }
        },
        {
         "name": "Investing Cash flow",
         "dtype": "float64",
         "stats": {
          "unique_count": 5,
          "nan_count": 0,
          "min": "-4771000000.0",
          "max": "-364924000.0",
          "histogram": [
           {
            "bin_start": -4771000000,
            "bin_end": -4330392400,
            "count": 1
           },
           {
            "bin_start": -4330392400,
            "bin_end": -3889784800,
            "count": 1
           },
           {
            "bin_start": -3889784800,
            "bin_end": -3449177200,
            "count": 0
           },
           {
            "bin_start": -3449177200,
            "bin_end": -3008569600,
            "count": 0
           },
           {
            "bin_start": -3008569600,
            "bin_end": -2567962000,
            "count": 0
           },
           {
            "bin_start": -2567962000,
            "bin_end": -2127354400,
            "count": 0
           },
           {
            "bin_start": -2127354400,
            "bin_end": -1686746800,
            "count": 0
           },
           {
            "bin_start": -1686746800,
            "bin_end": -1246139200,
            "count": 0
           },
           {
            "bin_start": -1246139200,
            "bin_end": -805531600,
            "count": 0
           },
           {
            "bin_start": -805531600,
            "bin_end": -364924000,
            "count": 3
           }
          ]
         }
        },
        {
         "name": "Issuance (repayment) of debt",
         "dtype": "float64",
         "stats": {
          "unique_count": 5,
          "nan_count": 0,
          "min": "-295435000.0",
          "max": "3543000000.0",
          "histogram": [
           {
            "bin_start": -295435000,
            "bin_end": 88408500,
            "count": 1
           },
           {
            "bin_start": 88408500,
            "bin_end": 472252000,
            "count": 0
           },
           {
            "bin_start": 472252000,
            "bin_end": 856095500,
            "count": 2
           },
           {
            "bin_start": 856095500,
            "bin_end": 1239939000,
            "count": 0
           },
           {
            "bin_start": 1239939000,
            "bin_end": 1623782500,
            "count": 0
           },
           {
            "bin_start": 1623782500,
            "bin_end": 2007626000,
            "count": 0
           },
           {
            "bin_start": 2007626000,
            "bin_end": 2391469500,
            "count": 1
           },
           {
            "bin_start": 2391469500,
            "bin_end": 2775313000,
            "count": 0
           },
           {
            "bin_start": 2775313000,
            "bin_end": 3159156500,
            "count": 0
           },
           {
            "bin_start": 3159156500,
            "bin_end": 3543000000,
            "count": 1
           }
          ]
         }
        },
        {
         "name": "Issuance (buybacks) of shares",
         "dtype": "float64",
         "stats": {
          "unique_count": 5,
          "nan_count": 0,
          "min": "-3911000000.0",
          "max": "33217000.0",
          "histogram": [
           {
            "bin_start": -3911000000,
            "bin_end": -3516578300,
            "count": 1
           },
           {
            "bin_start": -3516578300,
            "bin_end": -3122156600,
            "count": 0
           },
           {
            "bin_start": -3122156600,
            "bin_end": -2727734900,
            "count": 0
           },
           {
            "bin_start": -2727734900,
            "bin_end": -2333313200,
            "count": 0
           },
           {
            "bin_start": -2333313200,
            "bin_end": -1938891500,
            "count": 0
           },
           {
            "bin_start": -1938891500,
            "bin_end": -1544469800,
            "count": 1
           },
           {
            "bin_start": -1544469800,
            "bin_end": -1150048100,
            "count": 0
           },
           {
            "bin_start": -1150048100,
            "bin_end": -755626400,
            "count": 0
           },
           {
            "bin_start": -755626400,
            "bin_end": -361204700,
            "count": 1
           },
           {
            "bin_start": -361204700,
            "bin_end": 33217000,
            "count": 2
           }
          ]
         }
        },
        {
         "name": "Dividend payments",
         "dtype": "float64",
         "stats": {
          "unique_count": 4,
          "nan_count": 0,
          "min": "-6911000000.0",
          "max": "0.0",
          "histogram": [
           {
            "bin_start": -6911000000,
            "bin_end": -6219900000,
            "count": 1
           },
           {
            "bin_start": -6219900000,
            "bin_end": -5528800000,
            "count": 0
           },
           {
            "bin_start": -5528800000,
            "bin_end": -4837700000,
            "count": 0
           },
           {
            "bin_start": -4837700000,
            "bin_end": -4146600000,
            "count": 0
           },
           {
            "bin_start": -4146600000,
            "bin_end": -3455500000,
            "count": 0
           },
           {
            "bin_start": -3455500000,
            "bin_end": -2764400000,
            "count": 0
           },
           {
            "bin_start": -2764400000,
            "bin_end": -2073300000,
            "count": 0
           },
           {
            "bin_start": -2073300000,
            "bin_end": -1382200000,
            "count": 0
           },
           {
            "bin_start": -1382200000,
            "bin_end": -691100000,
            "count": 1
           },
           {
            "bin_start": -691100000,
            "bin_end": 0,
            "count": 3
           }
          ]
         }
        },
        {
         "name": "Financing Cash Flow",
         "dtype": "float64",
         "stats": {
          "unique_count": 5,
          "nan_count": 0,
          "min": "-7279000000.0",
          "max": "1361000000.0",
          "histogram": [
           {
            "bin_start": -7279000000,
            "bin_end": -6415000000,
            "count": 1
           },
           {
            "bin_start": -6415000000,
            "bin_end": -5551000000,
            "count": 0
           },
           {
            "bin_start": -5551000000,
            "bin_end": -4687000000,
            "count": 0
           },
           {
            "bin_start": -4687000000,
            "bin_end": -3823000000,
            "count": 0
           },
           {
            "bin_start": -3823000000,
            "bin_end": -2959000000,
            "count": 0
           },
           {
            "bin_start": -2959000000,
            "bin_end": -2095000000,
            "count": 0
           },
           {
            "bin_start": -2095000000,
            "bin_end": -1231000000,
            "count": 1
           },
           {
            "bin_start": -1231000000,
            "bin_end": -367000000,
            "count": 0
           },
           {
            "bin_start": -367000000,
            "bin_end": 497000000,
            "count": 1
           },
           {
            "bin_start": 497000000,
            "bin_end": 1361000000,
            "count": 2
           }
          ]
         }
        },
        {
         "name": "Effect of forex changes on cash",
         "dtype": "float64",
         "stats": {
          "unique_count": 4,
          "nan_count": 0,
          "min": "-29200000.0",
          "max": "39000000.0",
          "histogram": [
           {
            "bin_start": -29200000,
            "bin_end": -22380000,
            "count": 1
           },
           {
            "bin_start": -22380000,
            "bin_end": -15560000,
            "count": 1
           },
           {
            "bin_start": -15560000,
            "bin_end": -8740000,
            "count": 0
           },
           {
            "bin_start": -8740000,
            "bin_end": -1920000,
            "count": 0
           },
           {
            "bin_start": -1920000,
            "bin_end": 4900000,
            "count": 2
           },
           {
            "bin_start": 4900000,
            "bin_end": 11720000,
            "count": 0
           },
           {
            "bin_start": 11720000,
            "bin_end": 18540000,
            "count": 0
           },
           {
            "bin_start": 18540000,
            "bin_end": 25360000,
            "count": 0
           },
           {
            "bin_start": 25360000,
            "bin_end": 32180000,
            "count": 0
           },
           {
            "bin_start": 32180000,
            "bin_end": 39000000,
            "count": 1
           }
          ]
         }
        },
        {
         "name": "Net cash flow / Change in cash",
         "dtype": "float64",
         "stats": {
          "unique_count": 5,
          "nan_count": 0,
          "min": "16954000.0",
          "max": "2618000000.0",
          "histogram": [
           {
            "bin_start": 16954000,
            "bin_end": 277058600,
            "count": 3
           },
           {
            "bin_start": 277058600,
            "bin_end": 537163200,
            "count": 1
           },
           {
            "bin_start": 537163200,
            "bin_end": 797267800,
            "count": 0
           },
           {
            "bin_start": 797267800,
            "bin_end": 1057372400,
            "count": 0
           },
           {
            "bin_start": 1057372400,
            "bin_end": 1317477000,
            "count": 0
           },
           {
            "bin_start": 1317477000,
            "bin_end": 1577581600,
            "count": 0
           },
           {
            "bin_start": 1577581600,
            "bin_end": 1837686200,
            "count": 0
           },
           {
            "bin_start": 1837686200,
            "bin_end": 2097790800,
            "count": 0
           },
           {
            "bin_start": 2097790800,
            "bin_end": 2357895400,
            "count": 0
           },
           {
            "bin_start": 2357895400,
            "bin_end": 2618000000,
            "count": 1
           }
          ]
         }
        },
        {
         "name": "Free Cash Flow",
         "dtype": "float64",
         "stats": {
          "unique_count": 5,
          "nan_count": 0,
          "min": "263041007.4265",
          "max": "10110000000.0",
          "histogram": [
           {
            "bin_start": 263041007.4265,
            "bin_end": 1247736906.68385,
            "count": 3
           },
           {
            "bin_start": 1247736906.68385,
            "bin_end": 2232432805.9412,
            "count": 1
           },
           {
            "bin_start": 2232432805.9412,
            "bin_end": 3217128705.1985497,
            "count": 0
           },
           {
            "bin_start": 3217128705.1985497,
            "bin_end": 4201824604.4558997,
            "count": 0
           },
           {
            "bin_start": 4201824604.4558997,
            "bin_end": 5186520503.71325,
            "count": 0
           },
           {
            "bin_start": 5186520503.71325,
            "bin_end": 6171216402.9706,
            "count": 0
           },
           {
            "bin_start": 6171216402.9706,
            "bin_end": 7155912302.22795,
            "count": 0
           },
           {
            "bin_start": 7155912302.22795,
            "bin_end": 8140608201.4853,
            "count": 0
           },
           {
            "bin_start": 8140608201.4853,
            "bin_end": 9125304100.742651,
            "count": 0
           },
           {
            "bin_start": 9125304100.742651,
            "bin_end": 10110000000,
            "count": 1
           }
          ]
         }
        },
        {
         "name": "Net Cash/Marketcap",
         "dtype": "float64",
         "stats": {
          "unique_count": 5,
          "nan_count": 0,
          "min": "-0.8822",
          "max": "0.0956",
          "histogram": [
           {
            "bin_start": -0.8822,
            "bin_end": -0.78442,
            "count": 1
           },
           {
            "bin_start": -0.78442,
            "bin_end": -0.6866399999999999,
            "count": 0
           },
           {
            "bin_start": -0.6866399999999999,
            "bin_end": -0.5888599999999999,
            "count": 1
           },
           {
            "bin_start": -0.5888599999999999,
            "bin_end": -0.49107999999999996,
            "count": 0
           },
           {
            "bin_start": -0.49107999999999996,
            "bin_end": -0.3933,
            "count": 0
           },
           {
            "bin_start": -0.3933,
            "bin_end": -0.2955199999999999,
            "count": 0
           },
           {
            "bin_start": -0.2955199999999999,
            "bin_end": -0.19773999999999992,
            "count": 1
           },
           {
            "bin_start": -0.19773999999999992,
            "bin_end": -0.09995999999999994,
            "count": 1
           },
           {
            "bin_start": -0.09995999999999994,
            "bin_end": -0.0021799999999999597,
            "count": 0
           },
           {
            "bin_start": -0.0021799999999999597,
            "bin_end": 0.0956,
            "count": 1
           }
          ]
         }
        },
        {
         "name": "priceBookValueRatio",
         "dtype": "float64",
         "stats": {
          "unique_count": 4,
          "nan_count": 1,
          "min": "0.0",
          "max": "5.1004",
          "histogram": [
           {
            "bin_start": 0,
            "bin_end": 0.5100399999999999,
            "count": 1
           },
           {
            "bin_start": 0.5100399999999999,
            "bin_end": 1.0200799999999999,
            "count": 0
           },
           {
            "bin_start": 1.0200799999999999,
            "bin_end": 1.5301199999999997,
            "count": 0
           },
           {
            "bin_start": 1.5301199999999997,
            "bin_end": 2.0401599999999998,
            "count": 0
           },
           {
            "bin_start": 2.0401599999999998,
            "bin_end": 2.5502,
            "count": 0
           },
           {
            "bin_start": 2.5502,
            "bin_end": 3.0602399999999994,
            "count": 1
           },
           {
            "bin_start": 3.0602399999999994,
            "bin_end": 3.5702799999999995,
            "count": 1
           },
           {
            "bin_start": 3.5702799999999995,
            "bin_end": 4.0803199999999995,
            "count": 0
           },
           {
            "bin_start": 4.0803199999999995,
            "bin_end": 4.5903599999999996,
            "count": 0
           },
           {
            "bin_start": 4.5903599999999996,
            "bin_end": 5.1004,
            "count": 1
           }
          ]
         }
        },
        {
         "name": "priceToBookRatio",
         "dtype": "float64",
         "stats": {
          "unique_count": 2,
          "nan_count": 1,
          "min": "0.0",
          "max": "7.0982",
          "histogram": [
           {
            "bin_start": 0,
            "bin_end": 0.70982,
            "count": 3
           },
           {
            "bin_start": 0.70982,
            "bin_end": 1.41964,
            "count": 0
           },
           {
            "bin_start": 1.41964,
            "bin_end": 2.12946,
            "count": 0
           },
           {
            "bin_start": 2.12946,
            "bin_end": 2.83928,
            "count": 0
           },
           {
            "bin_start": 2.83928,
            "bin_end": 3.5491,
            "count": 0
           },
           {
            "bin_start": 3.5491,
            "bin_end": 4.25892,
            "count": 0
           },
           {
            "bin_start": 4.25892,
            "bin_end": 4.96874,
            "count": 0
           },
           {
            "bin_start": 4.96874,
            "bin_end": 5.67856,
            "count": 0
           },
           {
            "bin_start": 5.67856,
            "bin_end": 6.38838,
            "count": 0
           },
           {
            "bin_start": 6.38838,
            "bin_end": 7.0982,
            "count": 1
           }
          ]
         }
        },
        {
         "name": "priceToSalesRatio",
         "dtype": "float64",
         "stats": {
          "unique_count": 5,
          "nan_count": 0,
          "min": "0.0443",
          "max": "2.8583",
          "histogram": [
           {
            "bin_start": 0.0443,
            "bin_end": 0.3257,
            "count": 3
           },
           {
            "bin_start": 0.3257,
            "bin_end": 0.6071,
            "count": 0
           },
           {
            "bin_start": 0.6071,
            "bin_end": 0.8885,
            "count": 0
           },
           {
            "bin_start": 0.8885,
            "bin_end": 1.1699,
            "count": 0
           },
           {
            "bin_start": 1.1699,
            "bin_end": 1.4513,
            "count": 0
           },
           {
            "bin_start": 1.4513,
            "bin_end": 1.7327,
            "count": 0
           },
           {
            "bin_start": 1.7327,
            "bin_end": 2.0140999999999996,
            "count": 1
           },
           {
            "bin_start": 2.0140999999999996,
            "bin_end": 2.2954999999999997,
            "count": 0
           },
           {
            "bin_start": 2.2954999999999997,
            "bin_end": 2.5768999999999997,
            "count": 0
           },
           {
            "bin_start": 2.5768999999999997,
            "bin_end": 2.8583,
            "count": 1
           }
          ]
         }
        },
        {
         "name": "priceEarningsRatio",
         "dtype": "float64",
         "stats": {
          "unique_count": 5,
          "nan_count": 0,
          "min": "12.034",
          "max": "81.5526",
          "histogram": [
           {
            "bin_start": 12.034,
            "bin_end": 18.98586,
            "count": 3
           },
           {
            "bin_start": 18.98586,
            "bin_end": 25.93772,
            "count": 0
           },
           {
            "bin_start": 25.93772,
            "bin_end": 32.889579999999995,
            "count": 1
           },
           {
            "bin_start": 32.889579999999995,
            "bin_end": 39.84144,
            "count": 0
           },
           {
            "bin_start": 39.84144,
            "bin_end": 46.793299999999995,
            "count": 0
           },
           {
            "bin_start": 46.793299999999995,
            "bin_end": 53.74515999999999,
            "count": 0
           },
           {
            "bin_start": 53.74515999999999,
            "bin_end": 60.697019999999995,
            "count": 0
           },
           {
            "bin_start": 60.697019999999995,
            "bin_end": 67.64887999999999,
            "count": 0
           },
           {
            "bin_start": 67.64887999999999,
            "bin_end": 74.60073999999999,
            "count": 0
           },
           {
            "bin_start": 74.60073999999999,
            "bin_end": 81.5526,
            "count": 1
           }
          ]
         }
        },
        {
         "name": "priceToFreeCashFlowsRatio",
         "dtype": "float64",
         "stats": {
          "unique_count": 5,
          "nan_count": 0,
          "min": "1.3589",
          "max": "21.0348",
          "histogram": [
           {
            "bin_start": 1.3589,
            "bin_end": 3.32649,
            "count": 1
           },
           {
            "bin_start": 3.32649,
            "bin_end": 5.29408,
            "count": 0
           },
           {
            "bin_start": 5.29408,
            "bin_end": 7.2616700000000005,
            "count": 0
           },
           {
            "bin_start": 7.2616700000000005,
            "bin_end": 9.22926,
            "count": 0
           },
           {
            "bin_start": 9.22926,
            "bin_end": 11.196850000000001,
            "count": 0
           },
           {
            "bin_start": 11.196850000000001,
            "bin_end": 13.16444,
            "count": 0
           },
           {
            "bin_start": 13.16444,
            "bin_end": 15.132030000000002,
            "count": 1
           },
           {
            "bin_start": 15.132030000000002,
            "bin_end": 17.09962,
            "count": 0
           },
           {
            "bin_start": 17.09962,
            "bin_end": 19.06721,
            "count": 2
           },
           {
            "bin_start": 19.06721,
            "bin_end": 21.0348,
            "count": 1
           }
          ]
         }
        },
        {
         "name": "priceToOperatingCashFlowsRatio",
         "dtype": "float64",
         "stats": {
          "unique_count": 4,
          "nan_count": 1,
          "min": "5.1147",
          "max": "15.2358",
          "histogram": [
           {
            "bin_start": 5.1147,
            "bin_end": 6.12681,
            "count": 1
           },
           {
            "bin_start": 6.12681,
            "bin_end": 7.13892,
            "count": 0
           },
           {
            "bin_start": 7.13892,
            "bin_end": 8.151029999999999,
            "count": 0
           },
           {
            "bin_start": 8.151029999999999,
            "bin_end": 9.163139999999999,
            "count": 1
           },
           {
            "bin_start": 9.163139999999999,
            "bin_end": 10.175249999999998,
            "count": 0
           },
           {
            "bin_start": 10.175249999999998,
            "bin_end": 11.187359999999998,
            "count": 0
           },
           {
            "bin_start": 11.187359999999998,
            "bin_end": 12.199469999999998,
            "count": 0
           },
           {
            "bin_start": 12.199469999999998,
            "bin_end": 13.211579999999998,
            "count": 1
           },
           {
            "bin_start": 13.211579999999998,
            "bin_end": 14.223689999999998,
            "count": 0
           },
           {
            "bin_start": 14.223689999999998,
            "bin_end": 15.2358,
            "count": 1
           }
          ]
         }
        },
        {
         "name": "priceCashFlowRatio",
         "dtype": "float64",
         "stats": {
          "unique_count": 4,
          "nan_count": 0,
          "min": "0.0",
          "max": "12.977500890654",
          "histogram": [
           {
            "bin_start": 0,
            "bin_end": 1.2977500890654,
            "count": 3
           },
           {
            "bin_start": 1.2977500890654,
            "bin_end": 2.5955001781308,
            "count": 0
           },
           {
            "bin_start": 2.5955001781308,
            "bin_end": 3.8932502671961995,
            "count": 0
           },
           {
            "bin_start": 3.8932502671961995,
            "bin_end": 5.1910003562616,
            "count": 0
           },
           {
            "bin_start": 5.1910003562616,
            "bin_end": 6.488750445327,
            "count": 0
           },
           {
            "bin_start": 6.488750445327,
            "bin_end": 7.786500534392399,
            "count": 0
           },
           {
            "bin_start": 7.786500534392399,
            "bin_end": 9.0842506234578,
            "count": 0
           },
           {
            "bin_start": 9.0842506234578,
            "bin_end": 10.3820007125232,
            "count": 0
           },
           {
            "bin_start": 10.3820007125232,
            "bin_end": 11.679750801588598,
            "count": 1
           },
           {
            "bin_start": 11.679750801588598,
            "bin_end": 12.977500890654,
            "count": 1
           }
          ]
         }
        },
        {
         "name": "priceEarningsToGrowthRatio",
         "dtype": "float64",
         "stats": {
          "unique_count": 4,
          "nan_count": 0,
          "min": "0.0",
          "max": "15.557842259877",
          "histogram": [
           {
            "bin_start": 0,
            "bin_end": 1.5557842259877002,
            "count": 2
           },
           {
            "bin_start": 1.5557842259877002,
            "bin_end": 3.1115684519754003,
            "count": 1
           },
           {
            "bin_start": 3.1115684519754003,
            "bin_end": 4.6673526779631,
            "count": 0
           },
           {
            "bin_start": 4.6673526779631,
            "bin_end": 6.223136903950801,
            "count": 0
           },
           {
            "bin_start": 6.223136903950801,
            "bin_end": 7.778921129938501,
            "count": 0
           },
           {
            "bin_start": 7.778921129938501,
            "bin_end": 9.3347053559262,
            "count": 0
           },
           {
            "bin_start": 9.3347053559262,
            "bin_end": 10.8904895819139,
            "count": 0
           },
           {
            "bin_start": 10.8904895819139,
            "bin_end": 12.446273807901601,
            "count": 0
           },
           {
            "bin_start": 12.446273807901601,
            "bin_end": 14.002058033889302,
            "count": 0
           },
           {
            "bin_start": 14.002058033889302,
            "bin_end": 15.557842259877,
            "count": 2
           }
          ]
         }
        },
        {
         "name": "priceSalesRatio",
         "dtype": "float64",
         "stats": {
          "unique_count": 4,
          "nan_count": 0,
          "min": "0.0",
          "max": "2.4346441234895",
          "histogram": [
           {
            "bin_start": 0,
            "bin_end": 0.24346441234895,
            "count": 3
           },
           {
            "bin_start": 0.24346441234895,
            "bin_end": 0.4869288246979,
            "count": 0
           },
           {
            "bin_start": 0.4869288246979,
            "bin_end": 0.73039323704685,
            "count": 0
           },
           {
            "bin_start": 0.73039323704685,
            "bin_end": 0.9738576493958,
            "count": 0
           },
           {
            "bin_start": 0.9738576493958,
            "bin_end": 1.21732206174475,
            "count": 0
           },
           {
            "bin_start": 1.21732206174475,
            "bin_end": 1.4607864740937,
            "count": 0
           },
           {
            "bin_start": 1.4607864740937,
            "bin_end": 1.70425088644265,
            "count": 1
           },
           {
            "bin_start": 1.70425088644265,
            "bin_end": 1.9477152987916,
            "count": 0
           },
           {
            "bin_start": 1.9477152987916,
            "bin_end": 2.19117971114055,
            "count": 0
           },
           {
            "bin_start": 2.19117971114055,
            "bin_end": 2.4346441234895,
            "count": 1
           }
          ]
         }
        },
        {
         "name": "dividendYield",
         "dtype": "float64",
         "stats": {
          "unique_count": 3,
          "nan_count": 2,
          "min": "-0.0",
          "max": "0.038152818947218",
          "histogram": [
           {
            "bin_start": 0,
            "bin_end": 0.0038152818947217995,
            "count": 1
           },
           {
            "bin_start": 0.0038152818947217995,
            "bin_end": 0.007630563789443599,
            "count": 0
           },
           {
            "bin_start": 0.007630563789443599,
            "bin_end": 0.011445845684165398,
            "count": 0
           },
           {
            "bin_start": 0.011445845684165398,
            "bin_end": 0.015261127578887198,
            "count": 0
           },
           {
            "bin_start": 0.015261127578887198,
            "bin_end": 0.019076409473609,
            "count": 0
           },
           {
            "bin_start": 0.019076409473609,
            "bin_end": 0.022891691368330795,
            "count": 0
           },
           {
            "bin_start": 0.022891691368330795,
            "bin_end": 0.026706973263052596,
            "count": 0
           },
           {
            "bin_start": 0.026706973263052596,
            "bin_end": 0.030522255157774396,
            "count": 0
           },
           {
            "bin_start": 0.030522255157774396,
            "bin_end": 0.034337537052496196,
            "count": 0
           },
           {
            "bin_start": 0.034337537052496196,
            "bin_end": 0.038152818947218,
            "count": 2
           }
          ]
         }
        },
        {
         "name": "enterpriseValueMultiple",
         "dtype": "float64",
         "stats": {
          "unique_count": 5,
          "nan_count": 0,
          "min": "2.2767210144928",
          "max": "11.421116301338",
          "histogram": [
           {
            "bin_start": 2.2767210144928,
            "bin_end": 3.19116054317732,
            "count": 1
           },
           {
            "bin_start": 3.19116054317732,
            "bin_end": 4.10560007186184,
            "count": 0
           },
           {
            "bin_start": 4.10560007186184,
            "bin_end": 5.02003960054636,
            "count": 0
           },
           {
            "bin_start": 5.02003960054636,
            "bin_end": 5.93447912923088,
            "count": 1
           },
           {
            "bin_start": 5.93447912923088,
            "bin_end": 6.8489186579154,
            "count": 0
           },
           {
            "bin_start": 6.8489186579154,
            "bin_end": 7.76335818659992,
            "count": 1
           },
           {
            "bin_start": 7.76335818659992,
            "bin_end": 8.67779771528444,
            "count": 0
           },
           {
            "bin_start": 8.67779771528444,
            "bin_end": 9.59223724396896,
            "count": 0
           },
           {
            "bin_start": 9.59223724396896,
            "bin_end": 10.50667677265348,
            "count": 1
           },
           {
            "bin_start": 10.50667677265348,
            "bin_end": 11.421116301338,
            "count": 1
           }
          ]
         }
        },
        {
         "name": "priceFairValue",
         "dtype": "float64",
         "stats": {
          "unique_count": 4,
          "nan_count": 1,
          "min": "0.0",
          "max": "4.2587258776391",
          "histogram": [
           {
            "bin_start": 0,
            "bin_end": 0.42587258776391,
            "count": 1
           },
           {
            "bin_start": 0.42587258776391,
            "bin_end": 0.85174517552782,
            "count": 0
           },
           {
            "bin_start": 0.85174517552782,
            "bin_end": 1.27761776329173,
            "count": 1
           },
           {
            "bin_start": 1.27761776329173,
            "bin_end": 1.70349035105564,
            "count": 0
           },
           {
            "bin_start": 1.70349035105564,
            "bin_end": 2.12936293881955,
            "count": 0
           },
           {
            "bin_start": 2.12936293881955,
            "bin_end": 2.55523552658346,
            "count": 0
           },
           {
            "bin_start": 2.55523552658346,
            "bin_end": 2.98110811434737,
            "count": 1
           },
           {
            "bin_start": 2.98110811434737,
            "bin_end": 3.40698070211128,
            "count": 0
           },
           {
            "bin_start": 3.40698070211128,
            "bin_end": 3.83285328987519,
            "count": 0
           },
           {
            "bin_start": 3.83285328987519,
            "bin_end": 4.2587258776391,
            "count": 1
           }
          ]
         }
        },
        {
         "name": "ebitperRevenue",
         "dtype": "float64",
         "stats": {
          "unique_count": 5,
          "nan_count": 0,
          "min": "0.0264357158210989",
          "max": "0.20433865136221",
          "histogram": [
           {
            "bin_start": 0.0264357158210989,
            "bin_end": 0.04422600937521001,
            "count": 2
           },
           {
            "bin_start": 0.04422600937521001,
            "bin_end": 0.062016302929321115,
            "count": 1
           },
           {
            "bin_start": 0.062016302929321115,
            "bin_end": 0.07980659648343223,
            "count": 0
           },
           {
            "bin_start": 0.07980659648343223,
            "bin_end": 0.09759689003754334,
            "count": 0
           },
           {
            "bin_start": 0.09759689003754334,
            "bin_end": 0.11538718359165444,
            "count": 0
           },
           {
            "bin_start": 0.11538718359165444,
            "bin_end": 0.13317747714576555,
            "count": 0
           },
           {
            "bin_start": 0.13317747714576555,
            "bin_end": 0.15096777069987669,
            "count": 0
           },
           {
            "bin_start": 0.15096777069987669,
            "bin_end": 0.1687580642539878,
            "count": 1
           },
           {
            "bin_start": 0.1687580642539878,
            "bin_end": 0.1865483578080989,
            "count": 0
           },
           {
            "bin_start": 0.1865483578080989,
            "bin_end": 0.20433865136221,
            "count": 1
           }
          ]
         }
        },
        {
         "name": "ebtperEBIT",
         "dtype": "float64",
         "stats": {
          "unique_count": 5,
          "nan_count": 0,
          "min": "0.3707982555063699",
          "max": "0.9533644675393",
          "histogram": [
           {
            "bin_start": 0.3707982555063699,
            "bin_end": 0.4290548767096629,
            "count": 1
           },
           {
            "bin_start": 0.4290548767096629,
            "bin_end": 0.4873114979129559,
            "count": 0
           },
           {
            "bin_start": 0.4873114979129559,
            "bin_end": 0.5455681191162489,
            "count": 0
           },
           {
            "bin_start": 0.5455681191162489,
            "bin_end": 0.603824740319542,
            "count": 0
           },
           {
            "bin_start": 0.603824740319542,
            "bin_end": 0.6620813615228349,
            "count": 0
           },
           {
            "bin_start": 0.6620813615228349,
            "bin_end": 0.720337982726128,
            "count": 0
           },
           {
            "bin_start": 0.720337982726128,
            "bin_end": 0.778594603929421,
            "count": 0
           },
           {
            "bin_start": 0.778594603929421,
            "bin_end": 0.836851225132714,
            "count": 1
           },
           {
            "bin_start": 0.836851225132714,
            "bin_end": 0.895107846336007,
            "count": 0
           },
           {
            "bin_start": 0.895107846336007,
            "bin_end": 0.9533644675393,
            "count": 3
           }
          ]
         }
        },
        {
         "name": "niperEBT",
         "dtype": "float64",
         "stats": {
          "unique_count": 5,
          "nan_count": 0,
          "min": "0.6691629955947099",
          "max": "0.99678680190874",
          "histogram": [
           {
            "bin_start": 0.6691629955947099,
            "bin_end": 0.701925376226113,
            "count": 2
           },
           {
            "bin_start": 0.701925376226113,
            "bin_end": 0.734687756857516,
            "count": 0
           },
           {
            "bin_start": 0.734687756857516,
            "bin_end": 0.767450137488919,
            "count": 0
           },
           {
            "bin_start": 0.767450137488919,
            "bin_end": 0.8002125181203219,
            "count": 1
           },
           {
            "bin_start": 0.8002125181203219,
            "bin_end": 0.8329748987517249,
            "count": 1
           },
           {
            "bin_start": 0.8329748987517249,
            "bin_end": 0.865737279383128,
            "count": 0
           },
           {
            "bin_start": 0.865737279383128,
            "bin_end": 0.898499660014531,
            "count": 0
           },
           {
            "bin_start": 0.898499660014531,
            "bin_end": 0.931262040645934,
            "count": 0
           },
           {
            "bin_start": 0.931262040645934,
            "bin_end": 0.964024421277337,
            "count": 0
           },
           {
            "bin_start": 0.964024421277337,
            "bin_end": 0.99678680190874,
            "count": 1
           }
          ]
         }
        },
        {
         "name": "grossProfitMargin",
         "dtype": "float64",
         "stats": {
          "unique_count": 5,
          "nan_count": 0,
          "min": "0.20571283354511",
          "max": "0.47541027674359",
          "histogram": [
           {
            "bin_start": 0.20571283354511,
            "bin_end": 0.232682577864958,
            "count": 1
           },
           {
            "bin_start": 0.232682577864958,
            "bin_end": 0.259652322184806,
            "count": 1
           },
           {
            "bin_start": 0.259652322184806,
            "bin_end": 0.286622066504654,
            "count": 0
           },
           {
            "bin_start": 0.286622066504654,
            "bin_end": 0.313591810824502,
            "count": 1
           },
           {
            "bin_start": 0.313591810824502,
            "bin_end": 0.34056155514435,
            "count": 0
           },
           {
            "bin_start": 0.34056155514435,
            "bin_end": 0.367531299464198,
            "count": 1
           },
           {
            "bin_start": 0.367531299464198,
            "bin_end": 0.394501043784046,
            "count": 0
           },
           {
            "bin_start": 0.394501043784046,
            "bin_end": 0.421470788103894,
            "count": 0
           },
           {
            "bin_start": 0.421470788103894,
            "bin_end": 0.448440532423742,
            "count": 0
           },
           {
            "bin_start": 0.448440532423742,
            "bin_end": 0.47541027674359,
            "count": 1
           }
          ]
         }
        },
        {
         "name": "operatingProfitMargin",
         "dtype": "float64",
         "stats": {
          "unique_count": 1,
          "nan_count": 0,
          "min": "1.0",
          "max": "1.0",
          "histogram": [
           {
            "bin_start": 0.5,
            "bin_end": 0.6,
            "count": 0
           },
           {
            "bin_start": 0.6,
            "bin_end": 0.7,
            "count": 0
           },
           {
            "bin_start": 0.7,
            "bin_end": 0.8,
            "count": 0
           },
           {
            "bin_start": 0.8,
            "bin_end": 0.9,
            "count": 0
           },
           {
            "bin_start": 0.9,
            "bin_end": 1,
            "count": 0
           },
           {
            "bin_start": 1,
            "bin_end": 1.1,
            "count": 5
           },
           {
            "bin_start": 1.1,
            "bin_end": 1.2000000000000002,
            "count": 0
           },
           {
            "bin_start": 1.2000000000000002,
            "bin_end": 1.3,
            "count": 0
           },
           {
            "bin_start": 1.3,
            "bin_end": 1.4,
            "count": 0
           },
           {
            "bin_start": 1.4,
            "bin_end": 1.5,
            "count": 0
           }
          ]
         }
        },
        {
         "name": "pretaxProfitMargin",
         "dtype": "float64",
         "stats": {
          "unique_count": 5,
          "nan_count": 0,
          "min": "0.0277001270648029",
          "max": "0.18695985269015",
          "histogram": [
           {
            "bin_start": 0.0277001270648029,
            "bin_end": 0.043626099627337614,
            "count": 3
           },
           {
            "bin_start": 0.043626099627337614,
            "bin_end": 0.059552072189872324,
            "count": 0
           },
           {
            "bin_start": 0.059552072189872324,
            "bin_end": 0.07547804475240703,
            "count": 0
           },
           {
            "bin_start": 0.07547804475240703,
            "bin_end": 0.09140401731494174,
            "count": 0
           },
           {
            "bin_start": 0.09140401731494174,
            "bin_end": 0.10732998987747645,
            "count": 0
           },
           {
            "bin_start": 0.10732998987747645,
            "bin_end": 0.12325596244001116,
            "count": 0
           },
           {
            "bin_start": 0.12325596244001116,
            "bin_end": 0.13918193500254586,
            "count": 0
           },
           {
            "bin_start": 0.13918193500254586,
            "bin_end": 0.15510790756508058,
            "count": 0
           },
           {
            "bin_start": 0.15510790756508058,
            "bin_end": 0.17103388012761528,
            "count": 1
           },
           {
            "bin_start": 0.17103388012761528,
            "bin_end": 0.18695985269015,
            "count": 1
           }
          ]
         }
        },
        {
         "name": "netProfitMargin",
         "dtype": "float64",
         "stats": {
          "unique_count": 5,
          "nan_count": 0,
          "min": "0.0097708205222567",
          "max": "0.15648983212591",
          "histogram": [
           {
            "bin_start": 0.0097708205222567,
            "bin_end": 0.02444272168262203,
            "count": 2
           },
           {
            "bin_start": 0.02444272168262203,
            "bin_end": 0.03911462284298736,
            "count": 1
           },
           {
            "bin_start": 0.03911462284298736,
            "bin_end": 0.05378652400335268,
            "count": 0
           },
           {
            "bin_start": 0.05378652400335268,
            "bin_end": 0.06845842516371801,
            "count": 0
           },
           {
            "bin_start": 0.06845842516371801,
            "bin_end": 0.08313032632408335,
            "count": 0
           },
           {
            "bin_start": 0.08313032632408335,
            "bin_end": 0.09780222748444867,
            "count": 0
           },
           {
            "bin_start": 0.09780222748444867,
            "bin_end": 0.112474128644814,
            "count": 1
           },
           {
            "bin_start": 0.112474128644814,
            "bin_end": 0.12714602980517933,
            "count": 0
           },
           {
            "bin_start": 0.12714602980517933,
            "bin_end": 0.14181793096554465,
            "count": 0
           },
           {
            "bin_start": 0.14181793096554465,
            "bin_end": 0.15648983212591,
            "count": 1
           }
          ]
         }
        },
        {
         "name": "effectiveTaxRate",
         "dtype": "float64",
         "stats": {
          "unique_count": 5,
          "nan_count": 0,
          "min": "0.0032131980912644",
          "max": "0.3308370044052899",
          "histogram": [
           {
            "bin_start": 0.0032131980912644,
            "bin_end": 0.03597557872266695,
            "count": 1
           },
           {
            "bin_start": 0.03597557872266695,
            "bin_end": 0.0687379593540695,
            "count": 0
           },
           {
            "bin_start": 0.0687379593540695,
            "bin_end": 0.10150033998547205,
            "count": 0
           },
           {
            "bin_start": 0.10150033998547205,
            "bin_end": 0.1342627206168746,
            "count": 0
           },
           {
            "bin_start": 0.1342627206168746,
            "bin_end": 0.16702510124827716,
            "count": 0
           },
           {
            "bin_start": 0.16702510124827716,
            "bin_end": 0.1997874818796797,
            "count": 1
           },
           {
            "bin_start": 0.1997874818796797,
            "bin_end": 0.23254986251108226,
            "count": 1
           },
           {
            "bin_start": 0.23254986251108226,
            "bin_end": 0.2653122431424848,
            "count": 0
           },
           {
            "bin_start": 0.2653122431424848,
            "bin_end": 0.2980746237738874,
            "count": 0
           },
           {
            "bin_start": 0.2980746237738874,
            "bin_end": 0.3308370044052899,
            "count": 2
           }
          ]
         }
        },
        {
         "name": "returnOnAssets",
         "dtype": "float64",
         "stats": {
          "unique_count": 5,
          "nan_count": 0,
          "min": "0.0403",
          "max": "0.6265",
          "histogram": [
           {
            "bin_start": 0.0403,
            "bin_end": 0.09892,
            "count": 2
           },
           {
            "bin_start": 0.09892,
            "bin_end": 0.15753999999999999,
            "count": 1
           },
           {
            "bin_start": 0.15753999999999999,
            "bin_end": 0.21615999999999996,
            "count": 0
           },
           {
            "bin_start": 0.21615999999999996,
            "bin_end": 0.27477999999999997,
            "count": 0
           },
           {
            "bin_start": 0.27477999999999997,
            "bin_end": 0.3334,
            "count": 0
           },
           {
            "bin_start": 0.3334,
            "bin_end": 0.3920199999999999,
            "count": 0
           },
           {
            "bin_start": 0.3920199999999999,
            "bin_end": 0.45063999999999993,
            "count": 0
           },
           {
            "bin_start": 0.45063999999999993,
            "bin_end": 0.5092599999999999,
            "count": 0
           },
           {
            "bin_start": 0.5092599999999999,
            "bin_end": 0.5678799999999999,
            "count": 0
           },
           {
            "bin_start": 0.5678799999999999,
            "bin_end": 0.6265,
            "count": 2
           }
          ]
         }
        },
        {
         "name": "returnOnEquity",
         "dtype": "float64",
         "stats": {
          "unique_count": 5,
          "nan_count": 0,
          "min": "-0.118",
          "max": "0.3294",
          "histogram": [
           {
            "bin_start": -0.118,
            "bin_end": -0.07325999999999999,
            "count": 1
           },
           {
            "bin_start": -0.07325999999999999,
            "bin_end": -0.02851999999999999,
            "count": 0
           },
           {
            "bin_start": -0.02851999999999999,
            "bin_end": 0.016220000000000012,
            "count": 0
           },
           {
            "bin_start": 0.016220000000000012,
            "bin_end": 0.060960000000000014,
            "count": 0
           },
           {
            "bin_start": 0.060960000000000014,
            "bin_end": 0.10570000000000002,
            "count": 0
           },
           {
            "bin_start": 0.10570000000000002,
            "bin_end": 0.15044000000000002,
            "count": 0
           },
           {
            "bin_start": 0.15044000000000002,
            "bin_end": 0.19518000000000002,
            "count": 1
           },
           {
            "bin_start": 0.19518000000000002,
            "bin_end": 0.23992000000000002,
            "count": 0
           },
           {
            "bin_start": 0.23992000000000002,
            "bin_end": 0.28466,
            "count": 2
           },
           {
            "bin_start": 0.28466,
            "bin_end": 0.3294,
            "count": 1
           }
          ]
         }
        },
        {
         "name": "returnOnCapitalEmployed",
         "dtype": "float64",
         "stats": {
          "unique_count": 5,
          "nan_count": 0,
          "min": "0.0",
          "max": "0.1062",
          "histogram": [
           {
            "bin_start": 0,
            "bin_end": 0.010620000000000001,
            "count": 1
           },
           {
            "bin_start": 0.010620000000000001,
            "bin_end": 0.021240000000000002,
            "count": 0
           },
           {
            "bin_start": 0.021240000000000002,
            "bin_end": 0.03186,
            "count": 0
           },
           {
            "bin_start": 0.03186,
            "bin_end": 0.042480000000000004,
            "count": 0
           },
           {
            "bin_start": 0.042480000000000004,
            "bin_end": 0.05310000000000001,
            "count": 0
           },
           {
            "bin_start": 0.05310000000000001,
            "bin_end": 0.06372,
            "count": 0
           },
           {
            "bin_start": 0.06372,
            "bin_end": 0.07434,
            "count": 0
           },
           {
            "bin_start": 0.07434,
            "bin_end": 0.08496000000000001,
            "count": 1
           },
           {
            "bin_start": 0.08496000000000001,
            "bin_end": 0.09558000000000001,
            "count": 1
           },
           {
            "bin_start": 0.09558000000000001,
            "bin_end": 0.1062,
            "count": 2
           }
          ]
         }
        },
        {
         "name": "nIperEBT",
         "dtype": "float64",
         "stats": {
          "unique_count": 5,
          "nan_count": 0,
          "min": "0.6691629955947099",
          "max": "0.99678680190874",
          "histogram": [
           {
            "bin_start": 0.6691629955947099,
            "bin_end": 0.701925376226113,
            "count": 2
           },
           {
            "bin_start": 0.701925376226113,
            "bin_end": 0.734687756857516,
            "count": 0
           },
           {
            "bin_start": 0.734687756857516,
            "bin_end": 0.767450137488919,
            "count": 0
           },
           {
            "bin_start": 0.767450137488919,
            "bin_end": 0.8002125181203219,
            "count": 1
           },
           {
            "bin_start": 0.8002125181203219,
            "bin_end": 0.8329748987517249,
            "count": 1
           },
           {
            "bin_start": 0.8329748987517249,
            "bin_end": 0.865737279383128,
            "count": 0
           },
           {
            "bin_start": 0.865737279383128,
            "bin_end": 0.898499660014531,
            "count": 0
           },
           {
            "bin_start": 0.898499660014531,
            "bin_end": 0.931262040645934,
            "count": 0
           },
           {
            "bin_start": 0.931262040645934,
            "bin_end": 0.964024421277337,
            "count": 0
           },
           {
            "bin_start": 0.964024421277337,
            "bin_end": 0.99678680190874,
            "count": 1
           }
          ]
         }
        },
        {
         "name": "eBTperEBIT",
         "dtype": "float64",
         "stats": {
          "unique_count": 5,
          "nan_count": 0,
          "min": "0.3707982555063699",
          "max": "0.9533644675393",
          "histogram": [
           {
            "bin_start": 0.3707982555063699,
            "bin_end": 0.4290548767096629,
            "count": 1
           },
           {
            "bin_start": 0.4290548767096629,
            "bin_end": 0.4873114979129559,
            "count": 0
           },
           {
            "bin_start": 0.4873114979129559,
            "bin_end": 0.5455681191162489,
            "count": 0
           },
           {
            "bin_start": 0.5455681191162489,
            "bin_end": 0.603824740319542,
            "count": 0
           },
           {
            "bin_start": 0.603824740319542,
            "bin_end": 0.6620813615228349,
            "count": 0
           },
           {
            "bin_start": 0.6620813615228349,
            "bin_end": 0.720337982726128,
            "count": 0
           },
           {
            "bin_start": 0.720337982726128,
            "bin_end": 0.778594603929421,
            "count": 0
           },
           {
            "bin_start": 0.778594603929421,
            "bin_end": 0.836851225132714,
            "count": 1
           },
           {
            "bin_start": 0.836851225132714,
            "bin_end": 0.895107846336007,
            "count": 0
           },
           {
            "bin_start": 0.895107846336007,
            "bin_end": 0.9533644675393,
            "count": 3
           }
          ]
         }
        },
        {
         "name": "eBITperRevenue",
         "dtype": "float64",
         "stats": {
          "unique_count": 5,
          "nan_count": 0,
          "min": "0.0264357158210989",
          "max": "0.20433865136221",
          "histogram": [
           {
            "bin_start": 0.0264357158210989,
            "bin_end": 0.04422600937521001,
            "count": 2
           },
           {
            "bin_start": 0.04422600937521001,
            "bin_end": 0.062016302929321115,
            "count": 1
           },
           {
            "bin_start": 0.062016302929321115,
            "bin_end": 0.07980659648343223,
            "count": 0
           },
           {
            "bin_start": 0.07980659648343223,
            "bin_end": 0.09759689003754334,
            "count": 0
           },
           {
            "bin_start": 0.09759689003754334,
            "bin_end": 0.11538718359165444,
            "count": 0
           },
           {
            "bin_start": 0.11538718359165444,
            "bin_end": 0.13317747714576555,
            "count": 0
           },
           {
            "bin_start": 0.13317747714576555,
            "bin_end": 0.15096777069987669,
            "count": 0
           },
           {
            "bin_start": 0.15096777069987669,
            "bin_end": 0.1687580642539878,
            "count": 1
           },
           {
            "bin_start": 0.1687580642539878,
            "bin_end": 0.1865483578080989,
            "count": 0
           },
           {
            "bin_start": 0.1865483578080989,
            "bin_end": 0.20433865136221,
            "count": 1
           }
          ]
         }
        },
        {
         "name": "payablesTurnover",
         "dtype": "float64",
         "stats": {
          "unique_count": 4,
          "nan_count": 1,
          "min": "1.5648",
          "max": "4.9593",
          "histogram": [
           {
            "bin_start": 1.5648,
            "bin_end": 1.90425,
            "count": 1
           },
           {
            "bin_start": 1.90425,
            "bin_end": 2.2437,
            "count": 0
           },
           {
            "bin_start": 2.2437,
            "bin_end": 2.58315,
            "count": 0
           },
           {
            "bin_start": 2.58315,
            "bin_end": 2.9226,
            "count": 1
           },
           {
            "bin_start": 2.9226,
            "bin_end": 3.26205,
            "count": 0
           },
           {
            "bin_start": 3.26205,
            "bin_end": 3.6014999999999997,
            "count": 0
           },
           {
            "bin_start": 3.6014999999999997,
            "bin_end": 3.94095,
            "count": 0
           },
           {
            "bin_start": 3.94095,
            "bin_end": 4.2804,
            "count": 0
           },
           {
            "bin_start": 4.2804,
            "bin_end": 4.61985,
            "count": 0
           },
           {
            "bin_start": 4.61985,
            "bin_end": 4.9593,
            "count": 2
           }
          ]
         }
        },
        {
         "name": "inventoryTurnover",
         "dtype": "float64",
         "stats": {
          "unique_count": 4,
          "nan_count": 1,
          "min": "8.302999999999999",
          "max": "18.2227",
          "histogram": [
           {
            "bin_start": 8.302999999999999,
            "bin_end": 9.29497,
            "count": 1
           },
           {
            "bin_start": 9.29497,
            "bin_end": 10.28694,
            "count": 0
           },
           {
            "bin_start": 10.28694,
            "bin_end": 11.27891,
            "count": 1
           },
           {
            "bin_start": 11.27891,
            "bin_end": 12.270879999999998,
            "count": 1
           },
           {
            "bin_start": 12.270879999999998,
            "bin_end": 13.26285,
            "count": 0
           },
           {
            "bin_start": 13.26285,
            "bin_end": 14.254819999999999,
            "count": 0
           },
           {
            "bin_start": 14.254819999999999,
            "bin_end": 15.246789999999999,
            "count": 0
           },
           {
            "bin_start": 15.246789999999999,
            "bin_end": 16.23876,
            "count": 0
           },
           {
            "bin_start": 16.23876,
            "bin_end": 17.23073,
            "count": 0
           },
           {
            "bin_start": 17.23073,
            "bin_end": 18.2227,
            "count": 1
           }
          ]
         }
        },
        {
         "name": "fixedAssetTurnover",
         "dtype": "float64",
         "stats": {
          "unique_count": 5,
          "nan_count": 0,
          "min": "3.3357693687231",
          "max": "13.041452407848",
          "histogram": [
           {
            "bin_start": 3.3357693687231,
            "bin_end": 4.30633767263559,
            "count": 1
           },
           {
            "bin_start": 4.30633767263559,
            "bin_end": 5.27690597654808,
            "count": 1
           },
           {
            "bin_start": 5.27690597654808,
            "bin_end": 6.24747428046057,
            "count": 1
           },
           {
            "bin_start": 6.24747428046057,
            "bin_end": 7.21804258437306,
            "count": 0
           },
           {
            "bin_start": 7.21804258437306,
            "bin_end": 8.188610888285549,
            "count": 0
           },
           {
            "bin_start": 8.188610888285549,
            "bin_end": 9.159179192198039,
            "count": 0
           },
           {
            "bin_start": 9.159179192198039,
            "bin_end": 10.129747496110529,
            "count": 0
           },
           {
            "bin_start": 10.129747496110529,
            "bin_end": 11.100315800023019,
            "count": 0
           },
           {
            "bin_start": 11.100315800023019,
            "bin_end": 12.070884103935509,
            "count": 0
           },
           {
            "bin_start": 12.070884103935509,
            "bin_end": 13.041452407848,
            "count": 2
           }
          ]
         }
        },
        {
         "name": "assetTurnover",
         "dtype": "float64",
         "stats": {
          "unique_count": 5,
          "nan_count": 0,
          "min": "0.5157209598935301",
          "max": "3.6755777033152",
          "histogram": [
           {
            "bin_start": 0.5157209598935301,
            "bin_end": 0.8317066342356971,
            "count": 2
           },
           {
            "bin_start": 0.8317066342356971,
            "bin_end": 1.147692308577864,
            "count": 0
           },
           {
            "bin_start": 1.147692308577864,
            "bin_end": 1.4636779829200313,
            "count": 1
           },
           {
            "bin_start": 1.4636779829200313,
            "bin_end": 1.7796636572621982,
            "count": 0
           },
           {
            "bin_start": 1.7796636572621982,
            "bin_end": 2.095649331604365,
            "count": 0
           },
           {
            "bin_start": 2.095649331604365,
            "bin_end": 2.411635005946532,
            "count": 0
           },
           {
            "bin_start": 2.411635005946532,
            "bin_end": 2.727620680288699,
            "count": 0
           },
           {
            "bin_start": 2.727620680288699,
            "bin_end": 3.043606354630866,
            "count": 0
           },
           {
            "bin_start": 3.043606354630866,
            "bin_end": 3.359592028973033,
            "count": 0
           },
           {
            "bin_start": 3.359592028973033,
            "bin_end": 3.6755777033152,
            "count": 2
           }
          ]
         }
        },
        {
         "name": "currentRatio",
         "dtype": "float64",
         "stats": {
          "unique_count": 5,
          "nan_count": 0,
          "min": "0.2102",
          "max": "1.709",
          "histogram": [
           {
            "bin_start": 0.2102,
            "bin_end": 0.36008,
            "count": 1
           },
           {
            "bin_start": 0.36008,
            "bin_end": 0.50996,
            "count": 0
           },
           {
            "bin_start": 0.50996,
            "bin_end": 0.65984,
            "count": 0
           },
           {
            "bin_start": 0.65984,
            "bin_end": 0.80972,
            "count": 0
           },
           {
            "bin_start": 0.80972,
            "bin_end": 0.9596,
            "count": 3
           },
           {
            "bin_start": 0.9596,
            "bin_end": 1.10948,
            "count": 0
           },
           {
            "bin_start": 1.10948,
            "bin_end": 1.25936,
            "count": 0
           },
           {
            "bin_start": 1.25936,
            "bin_end": 1.40924,
            "count": 0
           },
           {
            "bin_start": 1.40924,
            "bin_end": 1.55912,
            "count": 0
           },
           {
            "bin_start": 1.55912,
            "bin_end": 1.709,
            "count": 1
           }
          ]
         }
        },
        {
         "name": "quickRatio",
         "dtype": "float64",
         "stats": {
          "unique_count": 5,
          "nan_count": 0,
          "min": "0.14170948155068",
          "max": "0.8499930725766399",
          "histogram": [
           {
            "bin_start": 0.14170948155068,
            "bin_end": 0.212537840653276,
            "count": 1
           },
           {
            "bin_start": 0.212537840653276,
            "bin_end": 0.28336619975587196,
            "count": 0
           },
           {
            "bin_start": 0.28336619975587196,
            "bin_end": 0.35419455885846796,
            "count": 0
           },
           {
            "bin_start": 0.35419455885846796,
            "bin_end": 0.42502291796106395,
            "count": 0
           },
           {
            "bin_start": 0.42502291796106395,
            "bin_end": 0.49585127706365995,
            "count": 2
           },
           {
            "bin_start": 0.49585127706365995,
            "bin_end": 0.5666796361662559,
            "count": 1
           },
           {
            "bin_start": 0.5666796361662559,
            "bin_end": 0.6375079952688519,
            "count": 0
           },
           {
            "bin_start": 0.6375079952688519,
            "bin_end": 0.7083363543714479,
            "count": 0
           },
           {
            "bin_start": 0.7083363543714479,
            "bin_end": 0.7791647134740439,
            "count": 0
           },
           {
            "bin_start": 0.7791647134740439,
            "bin_end": 0.8499930725766399,
            "count": 1
           }
          ]
         }
        },
        {
         "name": "cashRatio",
         "dtype": "float64",
         "stats": {
          "unique_count": 5,
          "nan_count": 0,
          "min": "0.037459131247081",
          "max": "0.47178864692304",
          "histogram": [
           {
            "bin_start": 0.037459131247081,
            "bin_end": 0.0808920828146769,
            "count": 2
           },
           {
            "bin_start": 0.0808920828146769,
            "bin_end": 0.1243250343822728,
            "count": 0
           },
           {
            "bin_start": 0.1243250343822728,
            "bin_end": 0.16775798594986868,
            "count": 1
           },
           {
            "bin_start": 0.16775798594986868,
            "bin_end": 0.2111909375174646,
            "count": 0
           },
           {
            "bin_start": 0.2111909375174646,
            "bin_end": 0.2546238890850605,
            "count": 1
           },
           {
            "bin_start": 0.2546238890850605,
            "bin_end": 0.29805684065265636,
            "count": 0
           },
           {
            "bin_start": 0.29805684065265636,
            "bin_end": 0.3414897922202523,
            "count": 0
           },
           {
            "bin_start": 0.3414897922202523,
            "bin_end": 0.3849227437878482,
            "count": 0
           },
           {
            "bin_start": 0.3849227437878482,
            "bin_end": 0.4283556953554441,
            "count": 0
           },
           {
            "bin_start": 0.4283556953554441,
            "bin_end": 0.47178864692304,
            "count": 1
           }
          ]
         }
        },
        {
         "name": "daysOfSalesOutstanding",
         "dtype": "float64",
         "stats": {
          "unique_count": 5,
          "nan_count": 0,
          "min": "-75.367",
          "max": "-26.3971",
          "histogram": [
           {
            "bin_start": -75.367,
            "bin_end": -70.47001,
            "count": 1
           },
           {
            "bin_start": -70.47001,
            "bin_end": -65.57302,
            "count": 0
           },
           {
            "bin_start": -65.57302,
            "bin_end": -60.676030000000004,
            "count": 1
           },
           {
            "bin_start": -60.676030000000004,
            "bin_end": -55.77904,
            "count": 1
           },
           {
            "bin_start": -55.77904,
            "bin_end": -50.88205,
            "count": 0
           },
           {
            "bin_start": -50.88205,
            "bin_end": -45.985060000000004,
            "count": 1
           },
           {
            "bin_start": -45.985060000000004,
            "bin_end": -41.08807,
            "count": 0
           },
           {
            "bin_start": -41.08807,
            "bin_end": -36.19108,
            "count": 0
           },
           {
            "bin_start": -36.19108,
            "bin_end": -31.294089999999997,
            "count": 0
           },
           {
            "bin_start": -31.294089999999997,
            "bin_end": -26.3971,
            "count": 1
           }
          ]
         }
        },
        {
         "name": "daysOfInventoryOutstanding",
         "dtype": "float64",
         "stats": {
          "unique_count": 5,
          "nan_count": 0,
          "min": "1.1431",
          "max": "31.3287",
          "histogram": [
           {
            "bin_start": 1.1431,
            "bin_end": 4.1616599999999995,
            "count": 2
           },
           {
            "bin_start": 4.1616599999999995,
            "bin_end": 7.18022,
            "count": 0
           },
           {
            "bin_start": 7.18022,
            "bin_end": 10.19878,
            "count": 0
           },
           {
            "bin_start": 10.19878,
            "bin_end": 13.21734,
            "count": 0
           },
           {
            "bin_start": 13.21734,
            "bin_end": 16.2359,
            "count": 1
           },
           {
            "bin_start": 16.2359,
            "bin_end": 19.254459999999998,
            "count": 0
           },
           {
            "bin_start": 19.254459999999998,
            "bin_end": 22.27302,
            "count": 0
           },
           {
            "bin_start": 22.27302,
            "bin_end": 25.29158,
            "count": 0
           },
           {
            "bin_start": 25.29158,
            "bin_end": 28.31014,
            "count": 0
           },
           {
            "bin_start": 28.31014,
            "bin_end": 31.3287,
            "count": 2
           }
          ]
         }
        },
        {
         "name": "operatingCycle",
         "dtype": "float64",
         "stats": {
          "unique_count": 0,
          "nan_count": 5,
          "min": null,
          "max": null,
          "histogram": [
           {
            "bin_start": 0,
            "bin_end": 0.1,
            "count": 0
           },
           {
            "bin_start": 0.1,
            "bin_end": 0.2,
            "count": 0
           },
           {
            "bin_start": 0.2,
            "bin_end": 0.30000000000000004,
            "count": 0
           },
           {
            "bin_start": 0.30000000000000004,
            "bin_end": 0.4,
            "count": 0
           },
           {
            "bin_start": 0.4,
            "bin_end": 0.5,
            "count": 0
           },
           {
            "bin_start": 0.5,
            "bin_end": 0.6000000000000001,
            "count": 0
           },
           {
            "bin_start": 0.6000000000000001,
            "bin_end": 0.7000000000000001,
            "count": 0
           },
           {
            "bin_start": 0.7000000000000001,
            "bin_end": 0.8,
            "count": 0
           },
           {
            "bin_start": 0.8,
            "bin_end": 0.9,
            "count": 0
           },
           {
            "bin_start": 0.9,
            "bin_end": 1,
            "count": 0
           }
          ]
         }
        },
        {
         "name": "daysOfPayablesOutstanding",
         "dtype": "float64",
         "stats": {
          "unique_count": 5,
          "nan_count": 0,
          "min": "18.1099",
          "max": "97.7945",
          "histogram": [
           {
            "bin_start": 18.1099,
            "bin_end": 26.07836,
            "count": 2
           },
           {
            "bin_start": 26.07836,
            "bin_end": 34.04682,
            "count": 1
           },
           {
            "bin_start": 34.04682,
            "bin_end": 42.015280000000004,
            "count": 1
           },
           {
            "bin_start": 42.015280000000004,
            "bin_end": 49.98374,
            "count": 0
           },
           {
            "bin_start": 49.98374,
            "bin_end": 57.952200000000005,
            "count": 0
           },
           {
            "bin_start": 57.952200000000005,
            "bin_end": 65.92066,
            "count": 0
           },
           {
            "bin_start": 65.92066,
            "bin_end": 73.88912,
            "count": 0
           },
           {
            "bin_start": 73.88912,
            "bin_end": 81.85758,
            "count": 0
           },
           {
            "bin_start": 81.85758,
            "bin_end": 89.82603999999999,
            "count": 0
           },
           {
            "bin_start": 89.82603999999999,
            "bin_end": 97.7945,
            "count": 1
           }
          ]
         }
        },
        {
         "name": "cashConversionCycle",
         "dtype": "float64",
         "stats": {
          "unique_count": 0,
          "nan_count": 5,
          "min": null,
          "max": null,
          "histogram": [
           {
            "bin_start": 0,
            "bin_end": 0.1,
            "count": 0
           },
           {
            "bin_start": 0.1,
            "bin_end": 0.2,
            "count": 0
           },
           {
            "bin_start": 0.2,
            "bin_end": 0.30000000000000004,
            "count": 0
           },
           {
            "bin_start": 0.30000000000000004,
            "bin_end": 0.4,
            "count": 0
           },
           {
            "bin_start": 0.4,
            "bin_end": 0.5,
            "count": 0
           },
           {
            "bin_start": 0.5,
            "bin_end": 0.6000000000000001,
            "count": 0
           },
           {
            "bin_start": 0.6000000000000001,
            "bin_end": 0.7000000000000001,
            "count": 0
           },
           {
            "bin_start": 0.7000000000000001,
            "bin_end": 0.8,
            "count": 0
           },
           {
            "bin_start": 0.8,
            "bin_end": 0.9,
            "count": 0
           },
           {
            "bin_start": 0.9,
            "bin_end": 1,
            "count": 0
           }
          ]
         }
        },
        {
         "name": "debtRatio",
         "dtype": "float64",
         "stats": {
          "unique_count": 5,
          "nan_count": 0,
          "min": "0.2274",
          "max": "0.8290000000000001",
          "histogram": [
           {
            "bin_start": 0.2274,
            "bin_end": 0.28756,
            "count": 2
           },
           {
            "bin_start": 0.28756,
            "bin_end": 0.34772000000000003,
            "count": 0
           },
           {
            "bin_start": 0.34772000000000003,
            "bin_end": 0.40788,
            "count": 2
           },
           {
            "bin_start": 0.40788,
            "bin_end": 0.46804,
            "count": 0
           },
           {
            "bin_start": 0.46804,
            "bin_end": 0.5282,
            "count": 0
           },
           {
            "bin_start": 0.5282,
            "bin_end": 0.58836,
            "count": 0
           },
           {
            "bin_start": 0.58836,
            "bin_end": 0.6485200000000001,
            "count": 0
           },
           {
            "bin_start": 0.6485200000000001,
            "bin_end": 0.7086800000000001,
            "count": 0
           },
           {
            "bin_start": 0.7086800000000001,
            "bin_end": 0.7688400000000002,
            "count": 0
           },
           {
            "bin_start": 0.7688400000000002,
            "bin_end": 0.8290000000000001,
            "count": 1
           }
          ]
         }
        },
        {
         "name": "debtEquityRatio",
         "dtype": "float64",
         "stats": {
          "unique_count": 5,
          "nan_count": 0,
          "min": "-2.7237",
          "max": "2.1007",
          "histogram": [
           {
            "bin_start": -2.7237,
            "bin_end": -2.24126,
            "count": 1
           },
           {
            "bin_start": -2.24126,
            "bin_end": -1.75882,
            "count": 0
           },
           {
            "bin_start": -1.75882,
            "bin_end": -1.27638,
            "count": 0
           },
           {
            "bin_start": -1.27638,
            "bin_end": -0.7939400000000001,
            "count": 0
           },
           {
            "bin_start": -0.7939400000000001,
            "bin_end": -0.3115000000000001,
            "count": 0
           },
           {
            "bin_start": -0.3115000000000001,
            "bin_end": 0.17093999999999987,
            "count": 0
           },
           {
            "bin_start": 0.17093999999999987,
            "bin_end": 0.6533799999999998,
            "count": 1
           },
           {
            "bin_start": 0.6533799999999998,
            "bin_end": 1.1358199999999998,
            "count": 0
           },
           {
            "bin_start": 1.1358199999999998,
            "bin_end": 1.6182600000000003,
            "count": 2
           },
           {
            "bin_start": 1.6182600000000003,
            "bin_end": 2.1007,
            "count": 1
           }
          ]
         }
        },
        {
         "name": "longtermDebtToCapitalization",
         "dtype": "float64",
         "stats": {
          "unique_count": 5,
          "nan_count": 0,
          "min": "0.22064441400203",
          "max": "1.5880759554034",
          "histogram": [
           {
            "bin_start": 0.22064441400203,
            "bin_end": 0.357387568142167,
            "count": 1
           },
           {
            "bin_start": 0.357387568142167,
            "bin_end": 0.494130722282304,
            "count": 0
           },
           {
            "bin_start": 0.494130722282304,
            "bin_end": 0.630873876422441,
            "count": 2
           },
           {
            "bin_start": 0.630873876422441,
            "bin_end": 0.767617030562578,
            "count": 1
           },
           {
            "bin_start": 0.767617030562578,
            "bin_end": 0.904360184702715,
            "count": 0
           },
           {
            "bin_start": 0.904360184702715,
            "bin_end": 1.0411033388428519,
            "count": 0
           },
           {
            "bin_start": 1.0411033388428519,
            "bin_end": 1.177846492982989,
            "count": 0
           },
           {
            "bin_start": 1.177846492982989,
            "bin_end": 1.314589647123126,
            "count": 0
           },
           {
            "bin_start": 1.314589647123126,
            "bin_end": 1.451332801263263,
            "count": 0
           },
           {
            "bin_start": 1.451332801263263,
            "bin_end": 1.5880759554034,
            "count": 1
           }
          ]
         }
        },
        {
         "name": "totalDebtToCapitalization",
         "dtype": "float64",
         "stats": {
          "unique_count": 5,
          "nan_count": 0,
          "min": "0.33604698604272",
          "max": "1.5801389400844",
          "histogram": [
           {
            "bin_start": 0.33604698604272,
            "bin_end": 0.460456181446888,
            "count": 1
           },
           {
            "bin_start": 0.460456181446888,
            "bin_end": 0.584865376851056,
            "count": 1
           },
           {
            "bin_start": 0.584865376851056,
            "bin_end": 0.709274572255224,
            "count": 2
           },
           {
            "bin_start": 0.709274572255224,
            "bin_end": 0.833683767659392,
            "count": 0
           },
           {
            "bin_start": 0.833683767659392,
            "bin_end": 0.95809296306356,
            "count": 0
           },
           {
            "bin_start": 0.95809296306356,
            "bin_end": 1.082502158467728,
            "count": 0
           },
           {
            "bin_start": 1.082502158467728,
            "bin_end": 1.206911353871896,
            "count": 0
           },
           {
            "bin_start": 1.206911353871896,
            "bin_end": 1.331320549276064,
            "count": 0
           },
           {
            "bin_start": 1.331320549276064,
            "bin_end": 1.455729744680232,
            "count": 0
           },
           {
            "bin_start": 1.455729744680232,
            "bin_end": 1.5801389400844,
            "count": 1
           }
          ]
         }
        },
        {
         "name": "interestCoverage",
         "dtype": "float64",
         "stats": {
          "unique_count": 5,
          "nan_count": 0,
          "min": "1.5893",
          "max": "21.4429",
          "histogram": [
           {
            "bin_start": 1.5893,
            "bin_end": 3.5746599999999997,
            "count": 1
           },
           {
            "bin_start": 3.5746599999999997,
            "bin_end": 5.56002,
            "count": 0
           },
           {
            "bin_start": 5.56002,
            "bin_end": 7.54538,
            "count": 1
           },
           {
            "bin_start": 7.54538,
            "bin_end": 9.53074,
            "count": 0
           },
           {
            "bin_start": 9.53074,
            "bin_end": 11.5161,
            "count": 1
           },
           {
            "bin_start": 11.5161,
            "bin_end": 13.50146,
            "count": 0
           },
           {
            "bin_start": 13.50146,
            "bin_end": 15.48682,
            "count": 1
           },
           {
            "bin_start": 15.48682,
            "bin_end": 17.47218,
            "count": 0
           },
           {
            "bin_start": 17.47218,
            "bin_end": 19.45754,
            "count": 0
           },
           {
            "bin_start": 19.45754,
            "bin_end": 21.4429,
            "count": 1
           }
          ]
         }
        },
        {
         "name": "cashFlowToDebtRatio",
         "dtype": "float64",
         "stats": {
          "unique_count": 5,
          "nan_count": 0,
          "min": "0.12194347091952",
          "max": "0.84634881847791",
          "histogram": [
           {
            "bin_start": 0.12194347091952,
            "bin_end": 0.19438400567535902,
            "count": 1
           },
           {
            "bin_start": 0.19438400567535902,
            "bin_end": 0.266824540431198,
            "count": 0
           },
           {
            "bin_start": 0.266824540431198,
            "bin_end": 0.339265075187037,
            "count": 2
           },
           {
            "bin_start": 0.339265075187037,
            "bin_end": 0.411705609942876,
            "count": 1
           },
           {
            "bin_start": 0.411705609942876,
            "bin_end": 0.48414614469871503,
            "count": 0
           },
           {
            "bin_start": 0.48414614469871503,
            "bin_end": 0.556586679454554,
            "count": 0
           },
           {
            "bin_start": 0.556586679454554,
            "bin_end": 0.629027214210393,
            "count": 0
           },
           {
            "bin_start": 0.629027214210393,
            "bin_end": 0.701467748966232,
            "count": 0
           },
           {
            "bin_start": 0.701467748966232,
            "bin_end": 0.773908283722071,
            "count": 0
           },
           {
            "bin_start": 0.773908283722071,
            "bin_end": 0.84634881847791,
            "count": 1
           }
          ]
         }
        },
        {
         "name": "companyEquityMultiplier",
         "dtype": "float64",
         "stats": {
          "unique_count": 4,
          "nan_count": 1,
          "min": "2.0616497084715",
          "max": "6.6367337686028005",
          "histogram": [
           {
            "bin_start": 2.0616497084715,
            "bin_end": 2.5191581144846302,
            "count": 1
           },
           {
            "bin_start": 2.5191581144846302,
            "bin_end": 2.9766665204977603,
            "count": 0
           },
           {
            "bin_start": 2.9766665204977603,
            "bin_end": 3.4341749265108903,
            "count": 0
           },
           {
            "bin_start": 3.4341749265108903,
            "bin_end": 3.8916833325240203,
            "count": 1
           },
           {
            "bin_start": 3.8916833325240203,
            "bin_end": 4.349191738537151,
            "count": 0
           },
           {
            "bin_start": 4.349191738537151,
            "bin_end": 4.80670014455028,
            "count": 0
           },
           {
            "bin_start": 4.80670014455028,
            "bin_end": 5.26420855056341,
            "count": 0
           },
           {
            "bin_start": 5.26420855056341,
            "bin_end": 5.7217169565765404,
            "count": 1
           },
           {
            "bin_start": 5.7217169565765404,
            "bin_end": 6.17922536258967,
            "count": 0
           },
           {
            "bin_start": 6.17922536258967,
            "bin_end": 6.6367337686028005,
            "count": 1
           }
          ]
         }
        },
        {
         "name": "operatingCashFlowPerShare",
         "dtype": "float64",
         "stats": {
          "unique_count": 5,
          "nan_count": 0,
          "min": "3.4757",
          "max": "35.6714",
          "histogram": [
           {
            "bin_start": 3.4757,
            "bin_end": 6.69527,
            "count": 3
           },
           {
            "bin_start": 6.69527,
            "bin_end": 9.91484,
            "count": 0
           },
           {
            "bin_start": 9.91484,
            "bin_end": 13.134409999999999,
            "count": 0
           },
           {
            "bin_start": 13.134409999999999,
            "bin_end": 16.35398,
            "count": 1
           },
           {
            "bin_start": 16.35398,
            "bin_end": 19.57355,
            "count": 0
           },
           {
            "bin_start": 19.57355,
            "bin_end": 22.79312,
            "count": 0
           },
           {
            "bin_start": 22.79312,
            "bin_end": 26.01269,
            "count": 0
           },
           {
            "bin_start": 26.01269,
            "bin_end": 29.23226,
            "count": 0
           },
           {
            "bin_start": 29.23226,
            "bin_end": 32.45183,
            "count": 0
           },
           {
            "bin_start": 32.45183,
            "bin_end": 35.6714,
            "count": 1
           }
          ]
         }
        },
        {
         "name": "freeCashFlowPerShare",
         "dtype": "float64",
         "stats": {
          "unique_count": 5,
          "nan_count": 0,
          "min": "0.557",
          "max": "22.976",
          "histogram": [
           {
            "bin_start": 0.557,
            "bin_end": 2.7989,
            "count": 2
           },
           {
            "bin_start": 2.7989,
            "bin_end": 5.040800000000001,
            "count": 2
           },
           {
            "bin_start": 5.040800000000001,
            "bin_end": 7.282700000000001,
            "count": 0
           },
           {
            "bin_start": 7.282700000000001,
            "bin_end": 9.524600000000001,
            "count": 0
           },
           {
            "bin_start": 9.524600000000001,
            "bin_end": 11.766500000000002,
            "count": 0
           },
           {
            "bin_start": 11.766500000000002,
            "bin_end": 14.008400000000002,
            "count": 0
           },
           {
            "bin_start": 14.008400000000002,
            "bin_end": 16.2503,
            "count": 0
           },
           {
            "bin_start": 16.2503,
            "bin_end": 18.4922,
            "count": 0
           },
           {
            "bin_start": 18.4922,
            "bin_end": 20.7341,
            "count": 0
           },
           {
            "bin_start": 20.7341,
            "bin_end": 22.976,
            "count": 1
           }
          ]
         }
        },
        {
         "name": "cashPerShare",
         "dtype": "float64",
         "stats": {
          "unique_count": 5,
          "nan_count": 0,
          "min": "0.3901",
          "max": "52.3827",
          "histogram": [
           {
            "bin_start": 0.3901,
            "bin_end": 5.589360000000001,
            "count": 4
           },
           {
            "bin_start": 5.589360000000001,
            "bin_end": 10.788620000000002,
            "count": 0
           },
           {
            "bin_start": 10.788620000000002,
            "bin_end": 15.987880000000002,
            "count": 0
           },
           {
            "bin_start": 15.987880000000002,
            "bin_end": 21.187140000000003,
            "count": 0
           },
           {
            "bin_start": 21.187140000000003,
            "bin_end": 26.386400000000005,
            "count": 0
           },
           {
            "bin_start": 26.386400000000005,
            "bin_end": 31.585660000000004,
            "count": 0
           },
           {
            "bin_start": 31.585660000000004,
            "bin_end": 36.78492,
            "count": 0
           },
           {
            "bin_start": 36.78492,
            "bin_end": 41.98418,
            "count": 0
           },
           {
            "bin_start": 41.98418,
            "bin_end": 47.183440000000004,
            "count": 0
           },
           {
            "bin_start": 47.183440000000004,
            "bin_end": 52.3827,
            "count": 1
           }
          ]
         }
        },
        {
         "name": "payoutRatio",
         "dtype": "float64",
         "stats": {
          "unique_count": 4,
          "nan_count": 0,
          "min": "0.0",
          "max": "0.584",
          "histogram": [
           {
            "bin_start": 0,
            "bin_end": 0.058399999999999994,
            "count": 2
           },
           {
            "bin_start": 0.058399999999999994,
            "bin_end": 0.11679999999999999,
            "count": 0
           },
           {
            "bin_start": 0.11679999999999999,
            "bin_end": 0.17519999999999997,
            "count": 0
           },
           {
            "bin_start": 0.17519999999999997,
            "bin_end": 0.23359999999999997,
            "count": 1
           },
           {
            "bin_start": 0.23359999999999997,
            "bin_end": 0.292,
            "count": 0
           },
           {
            "bin_start": 0.292,
            "bin_end": 0.35039999999999993,
            "count": 0
           },
           {
            "bin_start": 0.35039999999999993,
            "bin_end": 0.40879999999999994,
            "count": 0
           },
           {
            "bin_start": 0.40879999999999994,
            "bin_end": 0.46719999999999995,
            "count": 0
           },
           {
            "bin_start": 0.46719999999999995,
            "bin_end": 0.5256,
            "count": 0
           },
           {
            "bin_start": 0.5256,
            "bin_end": 0.584,
            "count": 2
           }
          ]
         }
        },
        {
         "name": "operatingCashFlowSalesRatio",
         "dtype": "float64",
         "stats": {
          "unique_count": 5,
          "nan_count": 0,
          "min": "0.027502728252497",
          "max": "0.18760500530907",
          "histogram": [
           {
            "bin_start": 0.027502728252497,
            "bin_end": 0.0435129559581543,
            "count": 2
           },
           {
            "bin_start": 0.0435129559581543,
            "bin_end": 0.0595231836638116,
            "count": 0
           },
           {
            "bin_start": 0.0595231836638116,
            "bin_end": 0.07553341136946891,
            "count": 0
           },
           {
            "bin_start": 0.07553341136946891,
            "bin_end": 0.0915436390751262,
            "count": 0
           },
           {
            "bin_start": 0.0915436390751262,
            "bin_end": 0.1075538667807835,
            "count": 0
           },
           {
            "bin_start": 0.1075538667807835,
            "bin_end": 0.12356409448644082,
            "count": 0
           },
           {
            "bin_start": 0.12356409448644082,
            "bin_end": 0.13957432219209812,
            "count": 0
           },
           {
            "bin_start": 0.13957432219209812,
            "bin_end": 0.15558454989775541,
            "count": 2
           },
           {
            "bin_start": 0.15558454989775541,
            "bin_end": 0.1715947776034127,
            "count": 0
           },
           {
            "bin_start": 0.1715947776034127,
            "bin_end": 0.18760500530907,
            "count": 1
           }
          ]
         }
        },
        {
         "name": "freeCashFlowOperatingCashFlowRatio",
         "dtype": "float64",
         "stats": {
          "unique_count": 5,
          "nan_count": 0,
          "min": "0.3478869297509099",
          "max": "0.7414797323888199",
          "histogram": [
           {
            "bin_start": 0.3478869297509099,
            "bin_end": 0.3872462100147009,
            "count": 1
           },
           {
            "bin_start": 0.3872462100147009,
            "bin_end": 0.42660549027849193,
            "count": 0
           },
           {
            "bin_start": 0.42660549027849193,
            "bin_end": 0.4659647705422829,
            "count": 0
           },
           {
            "bin_start": 0.4659647705422829,
            "bin_end": 0.5053240508060739,
            "count": 1
           },
           {
            "bin_start": 0.5053240508060739,
            "bin_end": 0.5446833310698649,
            "count": 1
           },
           {
            "bin_start": 0.5446833310698649,
            "bin_end": 0.5840426113336559,
            "count": 0
           },
           {
            "bin_start": 0.5840426113336559,
            "bin_end": 0.6234018915974469,
            "count": 0
           },
           {
            "bin_start": 0.6234018915974469,
            "bin_end": 0.6627611718612378,
            "count": 0
           },
           {
            "bin_start": 0.6627611718612378,
            "bin_end": 0.7021204521250288,
            "count": 0
           },
           {
            "bin_start": 0.7021204521250288,
            "bin_end": 0.7414797323888199,
            "count": 2
           }
          ]
         }
        },
        {
         "name": "cashFlowCoverageRatios",
         "dtype": "float64",
         "stats": {
          "unique_count": 5,
          "nan_count": 0,
          "min": "0.12194347091952",
          "max": "0.84634881847791",
          "histogram": [
           {
            "bin_start": 0.12194347091952,
            "bin_end": 0.19438400567535902,
            "count": 1
           },
           {
            "bin_start": 0.19438400567535902,
            "bin_end": 0.266824540431198,
            "count": 0
           },
           {
            "bin_start": 0.266824540431198,
            "bin_end": 0.339265075187037,
            "count": 2
           },
           {
            "bin_start": 0.339265075187037,
            "bin_end": 0.411705609942876,
            "count": 1
           },
           {
            "bin_start": 0.411705609942876,
            "bin_end": 0.48414614469871503,
            "count": 0
           },
           {
            "bin_start": 0.48414614469871503,
            "bin_end": 0.556586679454554,
            "count": 0
           },
           {
            "bin_start": 0.556586679454554,
            "bin_end": 0.629027214210393,
            "count": 0
           },
           {
            "bin_start": 0.629027214210393,
            "bin_end": 0.701467748966232,
            "count": 0
           },
           {
            "bin_start": 0.701467748966232,
            "bin_end": 0.773908283722071,
            "count": 0
           },
           {
            "bin_start": 0.773908283722071,
            "bin_end": 0.84634881847791,
            "count": 1
           }
          ]
         }
        },
        {
         "name": "shortTermCoverageRatios",
         "dtype": "float64",
         "stats": {
          "unique_count": 4,
          "nan_count": 1,
          "min": "0.8943995899013198",
          "max": "14.276772278033",
          "histogram": [
           {
            "bin_start": 0.8943995899013198,
            "bin_end": 2.232636858714488,
            "count": 3
           },
           {
            "bin_start": 2.232636858714488,
            "bin_end": 3.570874127527656,
            "count": 0
           },
           {
            "bin_start": 3.570874127527656,
            "bin_end": 4.9091113963408235,
            "count": 0
           },
           {
            "bin_start": 4.9091113963408235,
            "bin_end": 6.247348665153992,
            "count": 0
           },
           {
            "bin_start": 6.247348665153992,
            "bin_end": 7.5855859339671605,
            "count": 0
           },
           {
            "bin_start": 7.5855859339671605,
            "bin_end": 8.923823202780328,
            "count": 0
           },
           {
            "bin_start": 8.923823202780328,
            "bin_end": 10.262060471593497,
            "count": 0
           },
           {
            "bin_start": 10.262060471593497,
            "bin_end": 11.600297740406665,
            "count": 0
           },
           {
            "bin_start": 11.600297740406665,
            "bin_end": 12.938535009219834,
            "count": 0
           },
           {
            "bin_start": 12.938535009219834,
            "bin_end": 14.276772278033,
            "count": 1
           }
          ]
         }
        },
        {
         "name": "capitalExpenditureCoverageRatios",
         "dtype": "float64",
         "stats": {
          "unique_count": 5,
          "nan_count": 0,
          "min": "1.5334763948498005",
          "max": "3.8681686710306",
          "histogram": [
           {
            "bin_start": 1.5334763948498005,
            "bin_end": 1.7669456224678803,
            "count": 1
           },
           {
            "bin_start": 1.7669456224678803,
            "bin_end": 2.0004148500859604,
            "count": 1
           },
           {
            "bin_start": 2.0004148500859604,
            "bin_end": 2.2338840777040403,
            "count": 1
           },
           {
            "bin_start": 2.2338840777040403,
            "bin_end": 2.46735330532212,
            "count": 0
           },
           {
            "bin_start": 2.46735330532212,
            "bin_end": 2.7008225329402,
            "count": 0
           },
           {
            "bin_start": 2.7008225329402,
            "bin_end": 2.9342917605582803,
            "count": 0
           },
           {
            "bin_start": 2.9342917605582803,
            "bin_end": 3.16776098817636,
            "count": 0
           },
           {
            "bin_start": 3.16776098817636,
            "bin_end": 3.40123021579444,
            "count": 0
           },
           {
            "bin_start": 3.40123021579444,
            "bin_end": 3.6346994434125204,
            "count": 1
           },
           {
            "bin_start": 3.6346994434125204,
            "bin_end": 3.8681686710306,
            "count": 1
           }
          ]
         }
        },
        {
         "name": "dividendpaidAndCapexCoverageRatios",
         "dtype": "float64",
         "stats": {
          "unique_count": 5,
          "nan_count": 0,
          "min": "1.2973324658426002",
          "max": "2.1027525683649",
          "histogram": [
           {
            "bin_start": 1.2973324658426002,
            "bin_end": 1.3778744760948303,
            "count": 2
           },
           {
            "bin_start": 1.3778744760948303,
            "bin_end": 1.4584164863470601,
            "count": 0
           },
           {
            "bin_start": 1.4584164863470601,
            "bin_end": 1.5389584965992902,
            "count": 0
           },
           {
            "bin_start": 1.5389584965992902,
            "bin_end": 1.6195005068515202,
            "count": 1
           },
           {
            "bin_start": 1.6195005068515202,
            "bin_end": 1.7000425171037503,
            "count": 0
           },
           {
            "bin_start": 1.7000425171037503,
            "bin_end": 1.7805845273559802,
            "count": 0
           },
           {
            "bin_start": 1.7805845273559802,
            "bin_end": 1.8611265376082102,
            "count": 0
           },
           {
            "bin_start": 1.8611265376082102,
            "bin_end": 1.94166854786044,
            "count": 0
           },
           {
            "bin_start": 1.94166854786044,
            "bin_end": 2.02221055811267,
            "count": 1
           },
           {
            "bin_start": 2.02221055811267,
            "bin_end": 2.1027525683649,
            "count": 1
           }
          ]
         }
        },
        {
         "name": "dividendPayoutRatio",
         "dtype": "float64",
         "stats": {
          "unique_count": 4,
          "nan_count": 0,
          "min": "-0.0",
          "max": "0.5935755389504399",
          "histogram": [
           {
            "bin_start": 0,
            "bin_end": 0.05935755389504399,
            "count": 2
           },
           {
            "bin_start": 0.05935755389504399,
            "bin_end": 0.11871510779008798,
            "count": 0
           },
           {
            "bin_start": 0.11871510779008798,
            "bin_end": 0.17807266168513197,
            "count": 0
           },
           {
            "bin_start": 0.17807266168513197,
            "bin_end": 0.23743021558017596,
            "count": 1
           },
           {
            "bin_start": 0.23743021558017596,
            "bin_end": 0.29678776947521995,
            "count": 0
           },
           {
            "bin_start": 0.29678776947521995,
            "bin_end": 0.35614532337026394,
            "count": 0
           },
           {
            "bin_start": 0.35614532337026394,
            "bin_end": 0.41550287726530793,
            "count": 0
           },
           {
            "bin_start": 0.41550287726530793,
            "bin_end": 0.4748604311603519,
            "count": 0
           },
           {
            "bin_start": 0.4748604311603519,
            "bin_end": 0.5342179850553959,
            "count": 0
           },
           {
            "bin_start": 0.5342179850553959,
            "bin_end": 0.5935755389504399,
            "count": 2
           }
          ]
         }
        },
        {
         "name": "Revenue per Share",
         "dtype": "float64",
         "stats": {
          "unique_count": 5,
          "nan_count": 0,
          "min": "27.4952",
          "max": "528.2098",
          "histogram": [
           {
            "bin_start": 27.4952,
            "bin_end": 77.56666,
            "count": 2
           },
           {
            "bin_start": 77.56666,
            "bin_end": 127.63811999999999,
            "count": 1
           },
           {
            "bin_start": 127.63811999999999,
            "bin_end": 177.70958,
            "count": 0
           },
           {
            "bin_start": 177.70958,
            "bin_end": 227.78104,
            "count": 0
           },
           {
            "bin_start": 227.78104,
            "bin_end": 277.85249999999996,
            "count": 1
           },
           {
            "bin_start": 277.85249999999996,
            "bin_end": 327.92395999999997,
            "count": 0
           },
           {
            "bin_start": 327.92395999999997,
            "bin_end": 377.99541999999997,
            "count": 0
           },
           {
            "bin_start": 377.99541999999997,
            "bin_end": 428.06687999999997,
            "count": 0
           },
           {
            "bin_start": 428.06687999999997,
            "bin_end": 478.13833999999997,
            "count": 0
           },
           {
            "bin_start": 478.13833999999997,
            "bin_end": 528.2098,
            "count": 1
           }
          ]
         }
        },
        {
         "name": "Net Income per Share",
         "dtype": "float64",
         "stats": {
          "unique_count": 5,
          "nan_count": 0,
          "min": "1.4776",
          "max": "9.198",
          "histogram": [
           {
            "bin_start": 1.4776,
            "bin_end": 2.2496400000000003,
            "count": 1
           },
           {
            "bin_start": 2.2496400000000003,
            "bin_end": 3.02168,
            "count": 1
           },
           {
            "bin_start": 3.02168,
            "bin_end": 3.7937200000000004,
            "count": 0
           },
           {
            "bin_start": 3.7937200000000004,
            "bin_end": 4.56576,
            "count": 1
           },
           {
            "bin_start": 4.56576,
            "bin_end": 5.3378000000000005,
            "count": 1
           },
           {
            "bin_start": 5.3378000000000005,
            "bin_end": 6.10984,
            "count": 0
           },
           {
            "bin_start": 6.10984,
            "bin_end": 6.88188,
            "count": 0
           },
           {
            "bin_start": 6.88188,
            "bin_end": 7.65392,
            "count": 0
           },
           {
            "bin_start": 7.65392,
            "bin_end": 8.425960000000002,
            "count": 0
           },
           {
            "bin_start": 8.425960000000002,
            "bin_end": 9.198,
            "count": 1
           }
          ]
         }
        },
        {
         "name": "Operating Cash Flow per Share",
         "dtype": "float64",
         "stats": {
          "unique_count": 5,
          "nan_count": 0,
          "min": "3.4757",
          "max": "35.6714",
          "histogram": [
           {
            "bin_start": 3.4757,
            "bin_end": 6.69527,
            "count": 3
           },
           {
            "bin_start": 6.69527,
            "bin_end": 9.91484,
            "count": 0
           },
           {
            "bin_start": 9.91484,
            "bin_end": 13.134409999999999,
            "count": 0
           },
           {
            "bin_start": 13.134409999999999,
            "bin_end": 16.35398,
            "count": 1
           },
           {
            "bin_start": 16.35398,
            "bin_end": 19.57355,
            "count": 0
           },
           {
            "bin_start": 19.57355,
            "bin_end": 22.79312,
            "count": 0
           },
           {
            "bin_start": 22.79312,
            "bin_end": 26.01269,
            "count": 0
           },
           {
            "bin_start": 26.01269,
            "bin_end": 29.23226,
            "count": 0
           },
           {
            "bin_start": 29.23226,
            "bin_end": 32.45183,
            "count": 0
           },
           {
            "bin_start": 32.45183,
            "bin_end": 35.6714,
            "count": 1
           }
          ]
         }
        },
        {
         "name": "Free Cash Flow per Share",
         "dtype": "float64",
         "stats": {
          "unique_count": 5,
          "nan_count": 0,
          "min": "0.557",
          "max": "22.976",
          "histogram": [
           {
            "bin_start": 0.557,
            "bin_end": 2.7989,
            "count": 2
           },
           {
            "bin_start": 2.7989,
            "bin_end": 5.040800000000001,
            "count": 2
           },
           {
            "bin_start": 5.040800000000001,
            "bin_end": 7.282700000000001,
            "count": 0
           },
           {
            "bin_start": 7.282700000000001,
            "bin_end": 9.524600000000001,
            "count": 0
           },
           {
            "bin_start": 9.524600000000001,
            "bin_end": 11.766500000000002,
            "count": 0
           },
           {
            "bin_start": 11.766500000000002,
            "bin_end": 14.008400000000002,
            "count": 0
           },
           {
            "bin_start": 14.008400000000002,
            "bin_end": 16.2503,
            "count": 0
           },
           {
            "bin_start": 16.2503,
            "bin_end": 18.4922,
            "count": 0
           },
           {
            "bin_start": 18.4922,
            "bin_end": 20.7341,
            "count": 0
           },
           {
            "bin_start": 20.7341,
            "bin_end": 22.976,
            "count": 1
           }
          ]
         }
        },
        {
         "name": "Cash per Share",
         "dtype": "float64",
         "stats": {
          "unique_count": 5,
          "nan_count": 0,
          "min": "0.3901",
          "max": "52.3827",
          "histogram": [
           {
            "bin_start": 0.3901,
            "bin_end": 5.589360000000001,
            "count": 4
           },
           {
            "bin_start": 5.589360000000001,
            "bin_end": 10.788620000000002,
            "count": 0
           },
           {
            "bin_start": 10.788620000000002,
            "bin_end": 15.987880000000002,
            "count": 0
           },
           {
            "bin_start": 15.987880000000002,
            "bin_end": 21.187140000000003,
            "count": 0
           },
           {
            "bin_start": 21.187140000000003,
            "bin_end": 26.386400000000005,
            "count": 0
           },
           {
            "bin_start": 26.386400000000005,
            "bin_end": 31.585660000000004,
            "count": 0
           },
           {
            "bin_start": 31.585660000000004,
            "bin_end": 36.78492,
            "count": 0
           },
           {
            "bin_start": 36.78492,
            "bin_end": 41.98418,
            "count": 0
           },
           {
            "bin_start": 41.98418,
            "bin_end": 47.183440000000004,
            "count": 0
           },
           {
            "bin_start": 47.183440000000004,
            "bin_end": 52.3827,
            "count": 1
           }
          ]
         }
        },
        {
         "name": "Book Value per Share",
         "dtype": "float64",
         "stats": {
          "unique_count": 5,
          "nan_count": 0,
          "min": "-43.738",
          "max": "25.86",
          "histogram": [
           {
            "bin_start": -43.738,
            "bin_end": -36.7782,
            "count": 1
           },
           {
            "bin_start": -36.7782,
            "bin_end": -29.8184,
            "count": 0
           },
           {
            "bin_start": -29.8184,
            "bin_end": -22.858600000000003,
            "count": 0
           },
           {
            "bin_start": -22.858600000000003,
            "bin_end": -15.898800000000001,
            "count": 0
           },
           {
            "bin_start": -15.898800000000001,
            "bin_end": -8.939,
            "count": 0
           },
           {
            "bin_start": -8.939,
            "bin_end": -1.9792000000000058,
            "count": 0
           },
           {
            "bin_start": -1.9792000000000058,
            "bin_end": 4.9805999999999955,
            "count": 1
           },
           {
            "bin_start": 4.9805999999999955,
            "bin_end": 11.940399999999997,
            "count": 2
           },
           {
            "bin_start": 11.940399999999997,
            "bin_end": 18.900199999999998,
            "count": 0
           },
           {
            "bin_start": 18.900199999999998,
            "bin_end": 25.86,
            "count": 1
           }
          ]
         }
        },
        {
         "name": "Tangible Book Value per Share",
         "dtype": "float64",
         "stats": {
          "unique_count": 5,
          "nan_count": 0,
          "min": "4.4939",
          "max": "134.785",
          "histogram": [
           {
            "bin_start": 4.4939,
            "bin_end": 17.52301,
            "count": 2
           },
           {
            "bin_start": 17.52301,
            "bin_end": 30.55212,
            "count": 2
           },
           {
            "bin_start": 30.55212,
            "bin_end": 43.58122999999999,
            "count": 0
           },
           {
            "bin_start": 43.58122999999999,
            "bin_end": 56.610339999999994,
            "count": 0
           },
           {
            "bin_start": 56.610339999999994,
            "bin_end": 69.63945,
            "count": 0
           },
           {
            "bin_start": 69.63945,
            "bin_end": 82.66855999999999,
            "count": 0
           },
           {
            "bin_start": 82.66855999999999,
            "bin_end": 95.69766999999999,
            "count": 0
           },
           {
            "bin_start": 95.69766999999999,
            "bin_end": 108.72677999999999,
            "count": 0
           },
           {
            "bin_start": 108.72677999999999,
            "bin_end": 121.75589,
            "count": 0
           },
           {
            "bin_start": 121.75589,
            "bin_end": 134.785,
            "count": 1
           }
          ]
         }
        },
        {
         "name": "Shareholders Equity per Share",
         "dtype": "float64",
         "stats": {
          "unique_count": 5,
          "nan_count": 0,
          "min": "-43.7381",
          "max": "27.9248",
          "histogram": [
           {
            "bin_start": -43.7381,
            "bin_end": -36.57181,
            "count": 1
           },
           {
            "bin_start": -36.57181,
            "bin_end": -29.405520000000003,
            "count": 0
           },
           {
            "bin_start": -29.405520000000003,
            "bin_end": -22.23923,
            "count": 0
           },
           {
            "bin_start": -22.23923,
            "bin_end": -15.07294,
            "count": 0
           },
           {
            "bin_start": -15.07294,
            "bin_end": -7.906649999999999,
            "count": 0
           },
           {
            "bin_start": -7.906649999999999,
            "bin_end": -0.7403599999999955,
            "count": 0
           },
           {
            "bin_start": -0.7403599999999955,
            "bin_end": 6.425930000000001,
            "count": 1
           },
           {
            "bin_start": 6.425930000000001,
            "bin_end": 13.592220000000005,
            "count": 1
           },
           {
            "bin_start": 13.592220000000005,
            "bin_end": 20.75851,
            "count": 0
           },
           {
            "bin_start": 20.75851,
            "bin_end": 27.9248,
            "count": 2
           }
          ]
         }
        },
        {
         "name": "Interest Debt per Share",
         "dtype": "float64",
         "stats": {
          "unique_count": 5,
          "nan_count": 0,
          "min": "11.0019",
          "max": "119.1307",
          "histogram": [
           {
            "bin_start": 11.0019,
            "bin_end": 21.81478,
            "count": 3
           },
           {
            "bin_start": 21.81478,
            "bin_end": 32.627660000000006,
            "count": 0
           },
           {
            "bin_start": 32.627660000000006,
            "bin_end": 43.440540000000006,
            "count": 1
           },
           {
            "bin_start": 43.440540000000006,
            "bin_end": 54.253420000000006,
            "count": 0
           },
           {
            "bin_start": 54.253420000000006,
            "bin_end": 65.06630000000001,
            "count": 0
           },
           {
            "bin_start": 65.06630000000001,
            "bin_end": 75.87918000000002,
            "count": 0
           },
           {
            "bin_start": 75.87918000000002,
            "bin_end": 86.69206,
            "count": 0
           },
           {
            "bin_start": 86.69206,
            "bin_end": 97.50494,
            "count": 0
           },
           {
            "bin_start": 97.50494,
            "bin_end": 108.31782000000001,
            "count": 0
           },
           {
            "bin_start": 108.31782000000001,
            "bin_end": 119.1307,
            "count": 1
           }
          ]
         }
        },
        {
         "name": "Market Cap",
         "dtype": "float64",
         "stats": {
          "unique_count": 5,
          "nan_count": 0,
          "min": "6253200000.0",
          "max": "212661418090.84",
          "histogram": [
           {
            "bin_start": 6253200000,
            "bin_end": 26894021809.084,
            "count": 3
           },
           {
            "bin_start": 26894021809.084,
            "bin_end": 47534843618.168,
            "count": 1
           },
           {
            "bin_start": 47534843618.168,
            "bin_end": 68175665427.252,
            "count": 0
           },
           {
            "bin_start": 68175665427.252,
            "bin_end": 88816487236.336,
            "count": 0
           },
           {
            "bin_start": 88816487236.336,
            "bin_end": 109457309045.42,
            "count": 0
           },
           {
            "bin_start": 109457309045.42,
            "bin_end": 130098130854.504,
            "count": 0
           },
           {
            "bin_start": 130098130854.504,
            "bin_end": 150738952663.588,
            "count": 0
           },
           {
            "bin_start": 150738952663.588,
            "bin_end": 171379774472.672,
            "count": 0
           },
           {
            "bin_start": 171379774472.672,
            "bin_end": 192020596281.75598,
            "count": 0
           },
           {
            "bin_start": 192020596281.75598,
            "bin_end": 212661418090.84,
            "count": 1
           }
          ]
         }
        },
        {
         "name": "Enterprise Value",
         "dtype": "float64",
         "stats": {
          "unique_count": 4,
          "nan_count": 1,
          "min": "11970475316.4",
          "max": "237392418090.84",
          "histogram": [
           {
            "bin_start": 11970475316.4,
            "bin_end": 34512669593.844,
            "count": 2
           },
           {
            "bin_start": 34512669593.844,
            "bin_end": 57054863871.288,
            "count": 1
           },
           {
            "bin_start": 57054863871.288,
            "bin_end": 79597058148.732,
            "count": 0
           },
           {
            "bin_start": 79597058148.732,
            "bin_end": 102139252426.176,
            "count": 0
           },
           {
            "bin_start": 102139252426.176,
            "bin_end": 124681446703.62,
            "count": 0
           },
           {
            "bin_start": 124681446703.62,
            "bin_end": 147223640981.064,
            "count": 0
           },
           {
            "bin_start": 147223640981.064,
            "bin_end": 169765835258.508,
            "count": 0
           },
           {
            "bin_start": 169765835258.508,
            "bin_end": 192308029535.952,
            "count": 0
           },
           {
            "bin_start": 192308029535.952,
            "bin_end": 214850223813.396,
            "count": 0
           },
           {
            "bin_start": 214850223813.396,
            "bin_end": 237392418090.84,
            "count": 1
           }
          ]
         }
        },
        {
         "name": "PE ratio",
         "dtype": "float64",
         "stats": {
          "unique_count": 5,
          "nan_count": 0,
          "min": "12.034",
          "max": "81.5526",
          "histogram": [
           {
            "bin_start": 12.034,
            "bin_end": 18.98586,
            "count": 3
           },
           {
            "bin_start": 18.98586,
            "bin_end": 25.93772,
            "count": 0
           },
           {
            "bin_start": 25.93772,
            "bin_end": 32.889579999999995,
            "count": 1
           },
           {
            "bin_start": 32.889579999999995,
            "bin_end": 39.84144,
            "count": 0
           },
           {
            "bin_start": 39.84144,
            "bin_end": 46.793299999999995,
            "count": 0
           },
           {
            "bin_start": 46.793299999999995,
            "bin_end": 53.74515999999999,
            "count": 0
           },
           {
            "bin_start": 53.74515999999999,
            "bin_end": 60.697019999999995,
            "count": 0
           },
           {
            "bin_start": 60.697019999999995,
            "bin_end": 67.64887999999999,
            "count": 0
           },
           {
            "bin_start": 67.64887999999999,
            "bin_end": 74.60073999999999,
            "count": 0
           },
           {
            "bin_start": 74.60073999999999,
            "bin_end": 81.5526,
            "count": 1
           }
          ]
         }
        },
        {
         "name": "Price to Sales Ratio",
         "dtype": "float64",
         "stats": {
          "unique_count": 5,
          "nan_count": 0,
          "min": "0.0443",
          "max": "2.8583",
          "histogram": [
           {
            "bin_start": 0.0443,
            "bin_end": 0.3257,
            "count": 3
           },
           {
            "bin_start": 0.3257,
            "bin_end": 0.6071,
            "count": 0
           },
           {
            "bin_start": 0.6071,
            "bin_end": 0.8885,
            "count": 0
           },
           {
            "bin_start": 0.8885,
            "bin_end": 1.1699,
            "count": 0
           },
           {
            "bin_start": 1.1699,
            "bin_end": 1.4513,
            "count": 0
           },
           {
            "bin_start": 1.4513,
            "bin_end": 1.7327,
            "count": 0
           },
           {
            "bin_start": 1.7327,
            "bin_end": 2.0140999999999996,
            "count": 1
           },
           {
            "bin_start": 2.0140999999999996,
            "bin_end": 2.2954999999999997,
            "count": 0
           },
           {
            "bin_start": 2.2954999999999997,
            "bin_end": 2.5768999999999997,
            "count": 0
           },
           {
            "bin_start": 2.5768999999999997,
            "bin_end": 2.8583,
            "count": 1
           }
          ]
         }
        },
        {
         "name": "POCF ratio",
         "dtype": "float64",
         "stats": {
          "unique_count": 4,
          "nan_count": 1,
          "min": "5.1147",
          "max": "15.2358",
          "histogram": [
           {
            "bin_start": 5.1147,
            "bin_end": 6.12681,
            "count": 1
           },
           {
            "bin_start": 6.12681,
            "bin_end": 7.13892,
            "count": 0
           },
           {
            "bin_start": 7.13892,
            "bin_end": 8.151029999999999,
            "count": 0
           },
           {
            "bin_start": 8.151029999999999,
            "bin_end": 9.163139999999999,
            "count": 1
           },
           {
            "bin_start": 9.163139999999999,
            "bin_end": 10.175249999999998,
            "count": 0
           },
           {
            "bin_start": 10.175249999999998,
            "bin_end": 11.187359999999998,
            "count": 0
           },
           {
            "bin_start": 11.187359999999998,
            "bin_end": 12.199469999999998,
            "count": 0
           },
           {
            "bin_start": 12.199469999999998,
            "bin_end": 13.211579999999998,
            "count": 1
           },
           {
            "bin_start": 13.211579999999998,
            "bin_end": 14.223689999999998,
            "count": 0
           },
           {
            "bin_start": 14.223689999999998,
            "bin_end": 15.2358,
            "count": 1
           }
          ]
         }
        },
        {
         "name": "PFCF ratio",
         "dtype": "float64",
         "stats": {
          "unique_count": 5,
          "nan_count": 0,
          "min": "1.3589",
          "max": "21.0348",
          "histogram": [
           {
            "bin_start": 1.3589,
            "bin_end": 3.32649,
            "count": 1
           },
           {
            "bin_start": 3.32649,
            "bin_end": 5.29408,
            "count": 0
           },
           {
            "bin_start": 5.29408,
            "bin_end": 7.2616700000000005,
            "count": 0
           },
           {
            "bin_start": 7.2616700000000005,
            "bin_end": 9.22926,
            "count": 0
           },
           {
            "bin_start": 9.22926,
            "bin_end": 11.196850000000001,
            "count": 0
           },
           {
            "bin_start": 11.196850000000001,
            "bin_end": 13.16444,
            "count": 0
           },
           {
            "bin_start": 13.16444,
            "bin_end": 15.132030000000002,
            "count": 1
           },
           {
            "bin_start": 15.132030000000002,
            "bin_end": 17.09962,
            "count": 0
           },
           {
            "bin_start": 17.09962,
            "bin_end": 19.06721,
            "count": 2
           },
           {
            "bin_start": 19.06721,
            "bin_end": 21.0348,
            "count": 1
           }
          ]
         }
        },
        {
         "name": "PB ratio",
         "dtype": "float64",
         "stats": {
          "unique_count": 4,
          "nan_count": 1,
          "min": "0.0",
          "max": "5.1004",
          "histogram": [
           {
            "bin_start": 0,
            "bin_end": 0.5100399999999999,
            "count": 1
           },
           {
            "bin_start": 0.5100399999999999,
            "bin_end": 1.0200799999999999,
            "count": 0
           },
           {
            "bin_start": 1.0200799999999999,
            "bin_end": 1.5301199999999997,
            "count": 0
           },
           {
            "bin_start": 1.5301199999999997,
            "bin_end": 2.0401599999999998,
            "count": 0
           },
           {
            "bin_start": 2.0401599999999998,
            "bin_end": 2.5502,
            "count": 0
           },
           {
            "bin_start": 2.5502,
            "bin_end": 3.0602399999999994,
            "count": 1
           },
           {
            "bin_start": 3.0602399999999994,
            "bin_end": 3.5702799999999995,
            "count": 1
           },
           {
            "bin_start": 3.5702799999999995,
            "bin_end": 4.0803199999999995,
            "count": 0
           },
           {
            "bin_start": 4.0803199999999995,
            "bin_end": 4.5903599999999996,
            "count": 0
           },
           {
            "bin_start": 4.5903599999999996,
            "bin_end": 5.1004,
            "count": 1
           }
          ]
         }
        },
        {
         "name": "PTB ratio",
         "dtype": "float64",
         "stats": {
          "unique_count": 2,
          "nan_count": 1,
          "min": "0.0",
          "max": "7.0982",
          "histogram": [
           {
            "bin_start": 0,
            "bin_end": 0.70982,
            "count": 3
           },
           {
            "bin_start": 0.70982,
            "bin_end": 1.41964,
            "count": 0
           },
           {
            "bin_start": 1.41964,
            "bin_end": 2.12946,
            "count": 0
           },
           {
            "bin_start": 2.12946,
            "bin_end": 2.83928,
            "count": 0
           },
           {
            "bin_start": 2.83928,
            "bin_end": 3.5491,
            "count": 0
           },
           {
            "bin_start": 3.5491,
            "bin_end": 4.25892,
            "count": 0
           },
           {
            "bin_start": 4.25892,
            "bin_end": 4.96874,
            "count": 0
           },
           {
            "bin_start": 4.96874,
            "bin_end": 5.67856,
            "count": 0
           },
           {
            "bin_start": 5.67856,
            "bin_end": 6.38838,
            "count": 0
           },
           {
            "bin_start": 6.38838,
            "bin_end": 7.0982,
            "count": 1
           }
          ]
         }
        },
        {
         "name": "EV to Sales",
         "dtype": "float64",
         "stats": {
          "unique_count": 4,
          "nan_count": 1,
          "min": "0.2967",
          "max": "3.1907",
          "histogram": [
           {
            "bin_start": 0.2967,
            "bin_end": 0.5861000000000001,
            "count": 2
           },
           {
            "bin_start": 0.5861000000000001,
            "bin_end": 0.8755,
            "count": 0
           },
           {
            "bin_start": 0.8755,
            "bin_end": 1.1649,
            "count": 0
           },
           {
            "bin_start": 1.1649,
            "bin_end": 1.4543,
            "count": 0
           },
           {
            "bin_start": 1.4543,
            "bin_end": 1.7437,
            "count": 0
           },
           {
            "bin_start": 1.7437,
            "bin_end": 2.0331,
            "count": 0
           },
           {
            "bin_start": 2.0331,
            "bin_end": 2.3225,
            "count": 1
           },
           {
            "bin_start": 2.3225,
            "bin_end": 2.6119,
            "count": 0
           },
           {
            "bin_start": 2.6119,
            "bin_end": 2.9013,
            "count": 0
           },
           {
            "bin_start": 2.9013,
            "bin_end": 3.1907,
            "count": 1
           }
          ]
         }
        },
        {
         "name": "Enterprise Value over EBITDA",
         "dtype": "float64",
         "stats": {
          "unique_count": 4,
          "nan_count": 1,
          "min": "6.6086",
          "max": "12.9411",
          "histogram": [
           {
            "bin_start": 6.6086,
            "bin_end": 7.24185,
            "count": 1
           },
           {
            "bin_start": 7.24185,
            "bin_end": 7.8751,
            "count": 0
           },
           {
            "bin_start": 7.8751,
            "bin_end": 8.50835,
            "count": 0
           },
           {
            "bin_start": 8.50835,
            "bin_end": 9.1416,
            "count": 0
           },
           {
            "bin_start": 9.1416,
            "bin_end": 9.77485,
            "count": 0
           },
           {
            "bin_start": 9.77485,
            "bin_end": 10.408100000000001,
            "count": 0
           },
           {
            "bin_start": 10.408100000000001,
            "bin_end": 11.041350000000001,
            "count": 0
           },
           {
            "bin_start": 11.041350000000001,
            "bin_end": 11.674600000000002,
            "count": 2
           },
           {
            "bin_start": 11.674600000000002,
            "bin_end": 12.307850000000002,
            "count": 0
           },
           {
            "bin_start": 12.307850000000002,
            "bin_end": 12.9411,
            "count": 1
           }
          ]
         }
        },
        {
         "name": "EV to Operating cash flow",
         "dtype": "float64",
         "stats": {
          "unique_count": 4,
          "nan_count": 1,
          "min": "8.1678",
          "max": "17.0508",
          "histogram": [
           {
            "bin_start": 8.1678,
            "bin_end": 9.056099999999999,
            "count": 1
           },
           {
            "bin_start": 9.056099999999999,
            "bin_end": 9.9444,
            "count": 0
           },
           {
            "bin_start": 9.9444,
            "bin_end": 10.832699999999999,
            "count": 0
           },
           {
            "bin_start": 10.832699999999999,
            "bin_end": 11.721,
            "count": 0
           },
           {
            "bin_start": 11.721,
            "bin_end": 12.6093,
            "count": 0
           },
           {
            "bin_start": 12.6093,
            "bin_end": 13.497599999999998,
            "count": 0
           },
           {
            "bin_start": 13.497599999999998,
            "bin_end": 14.3859,
            "count": 0
           },
           {
            "bin_start": 14.3859,
            "bin_end": 15.274199999999999,
            "count": 0
           },
           {
            "bin_start": 15.274199999999999,
            "bin_end": 16.162499999999998,
            "count": 0
           },
           {
            "bin_start": 16.162499999999998,
            "bin_end": 17.0508,
            "count": 3
           }
          ]
         }
        },
        {
         "name": "EV to Free cash flow",
         "dtype": "float64",
         "stats": {
          "unique_count": 4,
          "nan_count": 1,
          "min": "21.893",
          "max": "32.5129",
          "histogram": [
           {
            "bin_start": 21.893,
            "bin_end": 22.954990000000002,
            "count": 1
           },
           {
            "bin_start": 22.954990000000002,
            "bin_end": 24.01698,
            "count": 2
           },
           {
            "bin_start": 24.01698,
            "bin_end": 25.07897,
            "count": 0
           },
           {
            "bin_start": 25.07897,
            "bin_end": 26.14096,
            "count": 0
           },
           {
            "bin_start": 26.14096,
            "bin_end": 27.20295,
            "count": 0
           },
           {
            "bin_start": 27.20295,
            "bin_end": 28.264940000000003,
            "count": 0
           },
           {
            "bin_start": 28.264940000000003,
            "bin_end": 29.326930000000004,
            "count": 0
           },
           {
            "bin_start": 29.326930000000004,
            "bin_end": 30.388920000000002,
            "count": 0
           },
           {
            "bin_start": 30.388920000000002,
            "bin_end": 31.45091,
            "count": 0
           },
           {
            "bin_start": 31.45091,
            "bin_end": 32.5129,
            "count": 1
           }
          ]
         }
        },
        {
         "name": "Earnings Yield",
         "dtype": "float64",
         "stats": {
          "unique_count": 5,
          "nan_count": 0,
          "min": "0.0123",
          "max": "0.0831",
          "histogram": [
           {
            "bin_start": 0.0123,
            "bin_end": 0.019379999999999998,
            "count": 1
           },
           {
            "bin_start": 0.019379999999999998,
            "bin_end": 0.026459999999999997,
            "count": 0
           },
           {
            "bin_start": 0.026459999999999997,
            "bin_end": 0.03353999999999999,
            "count": 0
           },
           {
            "bin_start": 0.03353999999999999,
            "bin_end": 0.040619999999999996,
            "count": 1
           },
           {
            "bin_start": 0.040619999999999996,
            "bin_end": 0.04769999999999999,
            "count": 0
           },
           {
            "bin_start": 0.04769999999999999,
            "bin_end": 0.05477999999999999,
            "count": 2
           },
           {
            "bin_start": 0.05477999999999999,
            "bin_end": 0.06185999999999999,
            "count": 0
           },
           {
            "bin_start": 0.06185999999999999,
            "bin_end": 0.06893999999999999,
            "count": 0
           },
           {
            "bin_start": 0.06893999999999999,
            "bin_end": 0.07601999999999999,
            "count": 0
           },
           {
            "bin_start": 0.07601999999999999,
            "bin_end": 0.0831,
            "count": 1
           }
          ]
         }
        },
        {
         "name": "Free Cash Flow Yield",
         "dtype": "float64",
         "stats": {
          "unique_count": 4,
          "nan_count": 1,
          "min": "0.0475",
          "max": "0.068",
          "histogram": [
           {
            "bin_start": 0.0475,
            "bin_end": 0.049550000000000004,
            "count": 1
           },
           {
            "bin_start": 0.049550000000000004,
            "bin_end": 0.0516,
            "count": 0
           },
           {
            "bin_start": 0.0516,
            "bin_end": 0.05365,
            "count": 0
           },
           {
            "bin_start": 0.05365,
            "bin_end": 0.0557,
            "count": 0
           },
           {
            "bin_start": 0.0557,
            "bin_end": 0.05775,
            "count": 1
           },
           {
            "bin_start": 0.05775,
            "bin_end": 0.059800000000000006,
            "count": 1
           },
           {
            "bin_start": 0.059800000000000006,
            "bin_end": 0.06185,
            "count": 0
           },
           {
            "bin_start": 0.06185,
            "bin_end": 0.06390000000000001,
            "count": 0
           },
           {
            "bin_start": 0.06390000000000001,
            "bin_end": 0.06595000000000001,
            "count": 0
           },
           {
            "bin_start": 0.06595000000000001,
            "bin_end": 0.068,
            "count": 1
           }
          ]
         }
        },
        {
         "name": "Debt to Equity",
         "dtype": "float64",
         "stats": {
          "unique_count": 5,
          "nan_count": 0,
          "min": "-2.7237",
          "max": "2.1007",
          "histogram": [
           {
            "bin_start": -2.7237,
            "bin_end": -2.24126,
            "count": 1
           },
           {
            "bin_start": -2.24126,
            "bin_end": -1.75882,
            "count": 0
           },
           {
            "bin_start": -1.75882,
            "bin_end": -1.27638,
            "count": 0
           },
           {
            "bin_start": -1.27638,
            "bin_end": -0.7939400000000001,
            "count": 0
           },
           {
            "bin_start": -0.7939400000000001,
            "bin_end": -0.3115000000000001,
            "count": 0
           },
           {
            "bin_start": -0.3115000000000001,
            "bin_end": 0.17093999999999987,
            "count": 0
           },
           {
            "bin_start": 0.17093999999999987,
            "bin_end": 0.6533799999999998,
            "count": 1
           },
           {
            "bin_start": 0.6533799999999998,
            "bin_end": 1.1358199999999998,
            "count": 0
           },
           {
            "bin_start": 1.1358199999999998,
            "bin_end": 1.6182600000000003,
            "count": 2
           },
           {
            "bin_start": 1.6182600000000003,
            "bin_end": 2.1007,
            "count": 1
           }
          ]
         }
        },
        {
         "name": "Debt to Assets",
         "dtype": "float64",
         "stats": {
          "unique_count": 5,
          "nan_count": 0,
          "min": "0.2274",
          "max": "0.8290000000000001",
          "histogram": [
           {
            "bin_start": 0.2274,
            "bin_end": 0.28756,
            "count": 2
           },
           {
            "bin_start": 0.28756,
            "bin_end": 0.34772000000000003,
            "count": 0
           },
           {
            "bin_start": 0.34772000000000003,
            "bin_end": 0.40788,
            "count": 2
           },
           {
            "bin_start": 0.40788,
            "bin_end": 0.46804,
            "count": 0
           },
           {
            "bin_start": 0.46804,
            "bin_end": 0.5282,
            "count": 0
           },
           {
            "bin_start": 0.5282,
            "bin_end": 0.58836,
            "count": 0
           },
           {
            "bin_start": 0.58836,
            "bin_end": 0.6485200000000001,
            "count": 0
           },
           {
            "bin_start": 0.6485200000000001,
            "bin_end": 0.7086800000000001,
            "count": 0
           },
           {
            "bin_start": 0.7086800000000001,
            "bin_end": 0.7688400000000002,
            "count": 0
           },
           {
            "bin_start": 0.7688400000000002,
            "bin_end": 0.8290000000000001,
            "count": 1
           }
          ]
         }
        },
        {
         "name": "Net Debt to EBITDA",
         "dtype": "float64",
         "stats": {
          "unique_count": 4,
          "nan_count": 1,
          "min": "1.3482",
          "max": "5.2021",
          "histogram": [
           {
            "bin_start": 1.3482,
            "bin_end": 1.73359,
            "count": 1
           },
           {
            "bin_start": 1.73359,
            "bin_end": 2.11898,
            "count": 0
           },
           {
            "bin_start": 2.11898,
            "bin_end": 2.5043699999999998,
            "count": 2
           },
           {
            "bin_start": 2.5043699999999998,
            "bin_end": 2.88976,
            "count": 0
           },
           {
            "bin_start": 2.88976,
            "bin_end": 3.27515,
            "count": 0
           },
           {
            "bin_start": 3.27515,
            "bin_end": 3.66054,
            "count": 0
           },
           {
            "bin_start": 3.66054,
            "bin_end": 4.045929999999999,
            "count": 0
           },
           {
            "bin_start": 4.045929999999999,
            "bin_end": 4.4313199999999995,
            "count": 0
           },
           {
            "bin_start": 4.4313199999999995,
            "bin_end": 4.81671,
            "count": 0
           },
           {
            "bin_start": 4.81671,
            "bin_end": 5.2021,
            "count": 1
           }
          ]
         }
        },
        {
         "name": "Current ratio",
         "dtype": "float64",
         "stats": {
          "unique_count": 5,
          "nan_count": 0,
          "min": "0.2102",
          "max": "1.709",
          "histogram": [
           {
            "bin_start": 0.2102,
            "bin_end": 0.36008,
            "count": 1
           },
           {
            "bin_start": 0.36008,
            "bin_end": 0.50996,
            "count": 0
           },
           {
            "bin_start": 0.50996,
            "bin_end": 0.65984,
            "count": 0
           },
           {
            "bin_start": 0.65984,
            "bin_end": 0.80972,
            "count": 0
           },
           {
            "bin_start": 0.80972,
            "bin_end": 0.9596,
            "count": 3
           },
           {
            "bin_start": 0.9596,
            "bin_end": 1.10948,
            "count": 0
           },
           {
            "bin_start": 1.10948,
            "bin_end": 1.25936,
            "count": 0
           },
           {
            "bin_start": 1.25936,
            "bin_end": 1.40924,
            "count": 0
           },
           {
            "bin_start": 1.40924,
            "bin_end": 1.55912,
            "count": 0
           },
           {
            "bin_start": 1.55912,
            "bin_end": 1.709,
            "count": 1
           }
          ]
         }
        },
        {
         "name": "Interest Coverage",
         "dtype": "float64",
         "stats": {
          "unique_count": 5,
          "nan_count": 0,
          "min": "1.5893",
          "max": "21.4429",
          "histogram": [
           {
            "bin_start": 1.5893,
            "bin_end": 3.5746599999999997,
            "count": 1
           },
           {
            "bin_start": 3.5746599999999997,
            "bin_end": 5.56002,
            "count": 0
           },
           {
            "bin_start": 5.56002,
            "bin_end": 7.54538,
            "count": 1
           },
           {
            "bin_start": 7.54538,
            "bin_end": 9.53074,
            "count": 0
           },
           {
            "bin_start": 9.53074,
            "bin_end": 11.5161,
            "count": 1
           },
           {
            "bin_start": 11.5161,
            "bin_end": 13.50146,
            "count": 0
           },
           {
            "bin_start": 13.50146,
            "bin_end": 15.48682,
            "count": 1
           },
           {
            "bin_start": 15.48682,
            "bin_end": 17.47218,
            "count": 0
           },
           {
            "bin_start": 17.47218,
            "bin_end": 19.45754,
            "count": 0
           },
           {
            "bin_start": 19.45754,
            "bin_end": 21.4429,
            "count": 1
           }
          ]
         }
        },
        {
         "name": "Income Quality",
         "dtype": "float64",
         "stats": {
          "unique_count": 5,
          "nan_count": 0,
          "min": "1.1988",
          "max": "3.8782",
          "histogram": [
           {
            "bin_start": 1.1988,
            "bin_end": 1.4667400000000002,
            "count": 2
           },
           {
            "bin_start": 1.4667400000000002,
            "bin_end": 1.73468,
            "count": 0
           },
           {
            "bin_start": 1.73468,
            "bin_end": 2.0026200000000003,
            "count": 0
           },
           {
            "bin_start": 2.0026200000000003,
            "bin_end": 2.27056,
            "count": 0
           },
           {
            "bin_start": 2.27056,
            "bin_end": 2.5385,
            "count": 1
           },
           {
            "bin_start": 2.5385,
            "bin_end": 2.8064400000000003,
            "count": 0
           },
           {
            "bin_start": 2.8064400000000003,
            "bin_end": 3.07438,
            "count": 0
           },
           {
            "bin_start": 3.07438,
            "bin_end": 3.34232,
            "count": 1
           },
           {
            "bin_start": 3.34232,
            "bin_end": 3.6102600000000002,
            "count": 0
           },
           {
            "bin_start": 3.6102600000000002,
            "bin_end": 3.8782,
            "count": 1
           }
          ]
         }
        },
        {
         "name": "Dividend Yield",
         "dtype": "float64",
         "stats": {
          "unique_count": 4,
          "nan_count": 0,
          "min": "0.0",
          "max": "0.0311",
          "histogram": [
           {
            "bin_start": 0,
            "bin_end": 0.00311,
            "count": 2
           },
           {
            "bin_start": 0.00311,
            "bin_end": 0.00622,
            "count": 0
           },
           {
            "bin_start": 0.00622,
            "bin_end": 0.00933,
            "count": 0
           },
           {
            "bin_start": 0.00933,
            "bin_end": 0.01244,
            "count": 0
           },
           {
            "bin_start": 0.01244,
            "bin_end": 0.01555,
            "count": 0
           },
           {
            "bin_start": 0.01555,
            "bin_end": 0.01866,
            "count": 1
           },
           {
            "bin_start": 0.01866,
            "bin_end": 0.021769999999999998,
            "count": 0
           },
           {
            "bin_start": 0.021769999999999998,
            "bin_end": 0.02488,
            "count": 0
           },
           {
            "bin_start": 0.02488,
            "bin_end": 0.02799,
            "count": 0
           },
           {
            "bin_start": 0.02799,
            "bin_end": 0.0311,
            "count": 2
           }
          ]
         }
        },
        {
         "name": "Payout Ratio",
         "dtype": "float64",
         "stats": {
          "unique_count": 4,
          "nan_count": 0,
          "min": "0.0",
          "max": "0.584",
          "histogram": [
           {
            "bin_start": 0,
            "bin_end": 0.058399999999999994,
            "count": 2
           },
           {
            "bin_start": 0.058399999999999994,
            "bin_end": 0.11679999999999999,
            "count": 0
           },
           {
            "bin_start": 0.11679999999999999,
            "bin_end": 0.17519999999999997,
            "count": 0
           },
           {
            "bin_start": 0.17519999999999997,
            "bin_end": 0.23359999999999997,
            "count": 1
           },
           {
            "bin_start": 0.23359999999999997,
            "bin_end": 0.292,
            "count": 0
           },
           {
            "bin_start": 0.292,
            "bin_end": 0.35039999999999993,
            "count": 0
           },
           {
            "bin_start": 0.35039999999999993,
            "bin_end": 0.40879999999999994,
            "count": 0
           },
           {
            "bin_start": 0.40879999999999994,
            "bin_end": 0.46719999999999995,
            "count": 0
           },
           {
            "bin_start": 0.46719999999999995,
            "bin_end": 0.5256,
            "count": 0
           },
           {
            "bin_start": 0.5256,
            "bin_end": 0.584,
            "count": 2
           }
          ]
         }
        },
        {
         "name": "SG&A to Revenue",
         "dtype": "float64",
         "stats": {
          "unique_count": 5,
          "nan_count": 0,
          "min": "0.0922",
          "max": "0.2885",
          "histogram": [
           {
            "bin_start": 0.0922,
            "bin_end": 0.11183,
            "count": 1
           },
           {
            "bin_start": 0.11183,
            "bin_end": 0.13146,
            "count": 0
           },
           {
            "bin_start": 0.13146,
            "bin_end": 0.15109,
            "count": 0
           },
           {
            "bin_start": 0.15109,
            "bin_end": 0.17071999999999998,
            "count": 1
           },
           {
            "bin_start": 0.17071999999999998,
            "bin_end": 0.19035,
            "count": 0
           },
           {
            "bin_start": 0.19035,
            "bin_end": 0.20998,
            "count": 1
           },
           {
            "bin_start": 0.20998,
            "bin_end": 0.22960999999999998,
            "count": 0
           },
           {
            "bin_start": 0.22960999999999998,
            "bin_end": 0.24924,
            "count": 0
           },
           {
            "bin_start": 0.24924,
            "bin_end": 0.26887,
            "count": 1
           },
           {
            "bin_start": 0.26887,
            "bin_end": 0.2885,
            "count": 1
           }
          ]
         }
        },
        {
         "name": "R&D to Revenue",
         "dtype": "float64",
         "stats": {
          "unique_count": 2,
          "nan_count": 0,
          "min": "0.0",
          "max": "0.0289999999999999",
          "histogram": [
           {
            "bin_start": 0,
            "bin_end": 0.0028999999999999903,
            "count": 4
           },
           {
            "bin_start": 0.0028999999999999903,
            "bin_end": 0.0057999999999999805,
            "count": 0
           },
           {
            "bin_start": 0.0057999999999999805,
            "bin_end": 0.008699999999999972,
            "count": 0
           },
           {
            "bin_start": 0.008699999999999972,
            "bin_end": 0.011599999999999961,
            "count": 0
           },
           {
            "bin_start": 0.011599999999999961,
            "bin_end": 0.01449999999999995,
            "count": 0
           },
           {
            "bin_start": 0.01449999999999995,
            "bin_end": 0.017399999999999943,
            "count": 0
           },
           {
            "bin_start": 0.017399999999999943,
            "bin_end": 0.020299999999999933,
            "count": 0
           },
           {
            "bin_start": 0.020299999999999933,
            "bin_end": 0.023199999999999922,
            "count": 0
           },
           {
            "bin_start": 0.023199999999999922,
            "bin_end": 0.02609999999999991,
            "count": 0
           },
           {
            "bin_start": 0.02609999999999991,
            "bin_end": 0.0289999999999999,
            "count": 1
           }
          ]
         }
        },
        {
         "name": "Intangibles to Total Assets",
         "dtype": "float64",
         "stats": {
          "unique_count": 5,
          "nan_count": 0,
          "min": "0.0621",
          "max": "0.5904",
          "histogram": [
           {
            "bin_start": 0.0621,
            "bin_end": 0.11493,
            "count": 3
           },
           {
            "bin_start": 0.11493,
            "bin_end": 0.16776000000000002,
            "count": 0
           },
           {
            "bin_start": 0.16776000000000002,
            "bin_end": 0.22059,
            "count": 0
           },
           {
            "bin_start": 0.22059,
            "bin_end": 0.27342,
            "count": 0
           },
           {
            "bin_start": 0.27342,
            "bin_end": 0.32625,
            "count": 0
           },
           {
            "bin_start": 0.32625,
            "bin_end": 0.37908000000000003,
            "count": 0
           },
           {
            "bin_start": 0.37908000000000003,
            "bin_end": 0.43191,
            "count": 0
           },
           {
            "bin_start": 0.43191,
            "bin_end": 0.48474,
            "count": 0
           },
           {
            "bin_start": 0.48474,
            "bin_end": 0.53757,
            "count": 0
           },
           {
            "bin_start": 0.53757,
            "bin_end": 0.5904,
            "count": 2
           }
          ]
         }
        },
        {
         "name": "Capex to Operating Cash Flow",
         "dtype": "float64",
         "stats": {
          "unique_count": 5,
          "nan_count": 0,
          "min": "0.2585",
          "max": "0.6521",
          "histogram": [
           {
            "bin_start": 0.2585,
            "bin_end": 0.29786,
            "count": 2
           },
           {
            "bin_start": 0.29786,
            "bin_end": 0.33722,
            "count": 0
           },
           {
            "bin_start": 0.33722,
            "bin_end": 0.37658,
            "count": 0
           },
           {
            "bin_start": 0.37658,
            "bin_end": 0.41594,
            "count": 0
           },
           {
            "bin_start": 0.41594,
            "bin_end": 0.45530000000000004,
            "count": 0
           },
           {
            "bin_start": 0.45530000000000004,
            "bin_end": 0.49466,
            "count": 1
           },
           {
            "bin_start": 0.49466,
            "bin_end": 0.5340199999999999,
            "count": 1
           },
           {
            "bin_start": 0.5340199999999999,
            "bin_end": 0.57338,
            "count": 0
           },
           {
            "bin_start": 0.57338,
            "bin_end": 0.6127400000000001,
            "count": 0
           },
           {
            "bin_start": 0.6127400000000001,
            "bin_end": 0.6521,
            "count": 1
           }
          ]
         }
        },
        {
         "name": "Capex to Revenue",
         "dtype": "float64",
         "stats": {
          "unique_count": 5,
          "nan_count": 0,
          "min": "0.0131",
          "max": "0.0706",
          "histogram": [
           {
            "bin_start": 0.0131,
            "bin_end": 0.01885,
            "count": 1
           },
           {
            "bin_start": 0.01885,
            "bin_end": 0.0246,
            "count": 1
           },
           {
            "bin_start": 0.0246,
            "bin_end": 0.030350000000000002,
            "count": 0
           },
           {
            "bin_start": 0.030350000000000002,
            "bin_end": 0.0361,
            "count": 0
           },
           {
            "bin_start": 0.0361,
            "bin_end": 0.04185,
            "count": 1
           },
           {
            "bin_start": 0.04185,
            "bin_end": 0.0476,
            "count": 0
           },
           {
            "bin_start": 0.0476,
            "bin_end": 0.05335,
            "count": 1
           },
           {
            "bin_start": 0.05335,
            "bin_end": 0.0591,
            "count": 0
           },
           {
            "bin_start": 0.0591,
            "bin_end": 0.06484999999999999,
            "count": 0
           },
           {
            "bin_start": 0.06484999999999999,
            "bin_end": 0.0706,
            "count": 1
           }
          ]
         }
        },
        {
         "name": "Capex to Depreciation",
         "dtype": "float64",
         "stats": {
          "unique_count": 5,
          "nan_count": 0,
          "min": "-4.5345",
          "max": "-0.8269",
          "histogram": [
           {
            "bin_start": -4.5345,
            "bin_end": -4.163740000000001,
            "count": 1
           },
           {
            "bin_start": -4.163740000000001,
            "bin_end": -3.7929800000000005,
            "count": 0
           },
           {
            "bin_start": -3.7929800000000005,
            "bin_end": -3.4222200000000003,
            "count": 0
           },
           {
            "bin_start": -3.4222200000000003,
            "bin_end": -3.0514600000000005,
            "count": 0
           },
           {
            "bin_start": -3.0514600000000005,
            "bin_end": -2.6807000000000003,
            "count": 0
           },
           {
            "bin_start": -2.6807000000000003,
            "bin_end": -2.30994,
            "count": 0
           },
           {
            "bin_start": -2.30994,
            "bin_end": -1.9391800000000003,
            "count": 0
           },
           {
            "bin_start": -1.9391800000000003,
            "bin_end": -1.5684200000000001,
            "count": 0
           },
           {
            "bin_start": -1.5684200000000001,
            "bin_end": -1.19766,
            "count": 2
           },
           {
            "bin_start": -1.19766,
            "bin_end": -0.8269,
            "count": 2
           }
          ]
         }
        },
        {
         "name": "Stock-based compensation to Revenue",
         "dtype": "float64",
         "stats": {
          "unique_count": 5,
          "nan_count": 0,
          "min": "-0.0004",
          "max": "0.0097",
          "histogram": [
           {
            "bin_start": -0.0004,
            "bin_end": 0.0006100000000000001,
            "count": 1
           },
           {
            "bin_start": 0.0006100000000000001,
            "bin_end": 0.0016200000000000001,
            "count": 1
           },
           {
            "bin_start": 0.0016200000000000001,
            "bin_end": 0.00263,
            "count": 1
           },
           {
            "bin_start": 0.00263,
            "bin_end": 0.00364,
            "count": 0
           },
           {
            "bin_start": 0.00364,
            "bin_end": 0.0046500000000000005,
            "count": 0
           },
           {
            "bin_start": 0.0046500000000000005,
            "bin_end": 0.00566,
            "count": 1
           },
           {
            "bin_start": 0.00566,
            "bin_end": 0.00667,
            "count": 0
           },
           {
            "bin_start": 0.00667,
            "bin_end": 0.00768,
            "count": 0
           },
           {
            "bin_start": 0.00768,
            "bin_end": 0.008690000000000002,
            "count": 0
           },
           {
            "bin_start": 0.008690000000000002,
            "bin_end": 0.0097,
            "count": 1
           }
          ]
         }
        },
        {
         "name": "Graham Number",
         "dtype": "float64",
         "stats": {
          "unique_count": 4,
          "nan_count": 1,
          "min": "0.0",
          "max": "49.3756",
          "histogram": [
           {
            "bin_start": 0,
            "bin_end": 4.9375599999999995,
            "count": 1
           },
           {
            "bin_start": 4.9375599999999995,
            "bin_end": 9.875119999999999,
            "count": 0
           },
           {
            "bin_start": 9.875119999999999,
            "bin_end": 14.812679999999999,
            "count": 1
           },
           {
            "bin_start": 14.812679999999999,
            "bin_end": 19.750239999999998,
            "count": 0
           },
           {
            "bin_start": 19.750239999999998,
            "bin_end": 24.687799999999996,
            "count": 0
           },
           {
            "bin_start": 24.687799999999996,
            "bin_end": 29.625359999999997,
            "count": 1
           },
           {
            "bin_start": 29.625359999999997,
            "bin_end": 34.56292,
            "count": 0
           },
           {
            "bin_start": 34.56292,
            "bin_end": 39.500479999999996,
            "count": 0
           },
           {
            "bin_start": 39.500479999999996,
            "bin_end": 44.438039999999994,
            "count": 0
           },
           {
            "bin_start": 44.438039999999994,
            "bin_end": 49.3756,
            "count": 1
           }
          ]
         }
        },
        {
         "name": "ROIC",
         "dtype": "float64",
         "stats": {
          "unique_count": 5,
          "nan_count": 0,
          "min": "0.0",
          "max": "0.1062",
          "histogram": [
           {
            "bin_start": 0,
            "bin_end": 0.010620000000000001,
            "count": 1
           },
           {
            "bin_start": 0.010620000000000001,
            "bin_end": 0.021240000000000002,
            "count": 0
           },
           {
            "bin_start": 0.021240000000000002,
            "bin_end": 0.03186,
            "count": 0
           },
           {
            "bin_start": 0.03186,
            "bin_end": 0.042480000000000004,
            "count": 0
           },
           {
            "bin_start": 0.042480000000000004,
            "bin_end": 0.05310000000000001,
            "count": 0
           },
           {
            "bin_start": 0.05310000000000001,
            "bin_end": 0.06372,
            "count": 0
           },
           {
            "bin_start": 0.06372,
            "bin_end": 0.07434,
            "count": 0
           },
           {
            "bin_start": 0.07434,
            "bin_end": 0.08496000000000001,
            "count": 1
           },
           {
            "bin_start": 0.08496000000000001,
            "bin_end": 0.09558000000000001,
            "count": 1
           },
           {
            "bin_start": 0.09558000000000001,
            "bin_end": 0.1062,
            "count": 2
           }
          ]
         }
        },
        {
         "name": "Return on Tangible Assets",
         "dtype": "float64",
         "stats": {
          "unique_count": 5,
          "nan_count": 0,
          "min": "0.0403",
          "max": "0.6265",
          "histogram": [
           {
            "bin_start": 0.0403,
            "bin_end": 0.09892,
            "count": 2
           },
           {
            "bin_start": 0.09892,
            "bin_end": 0.15753999999999999,
            "count": 1
           },
           {
            "bin_start": 0.15753999999999999,
            "bin_end": 0.21615999999999996,
            "count": 0
           },
           {
            "bin_start": 0.21615999999999996,
            "bin_end": 0.27477999999999997,
            "count": 0
           },
           {
            "bin_start": 0.27477999999999997,
            "bin_end": 0.3334,
            "count": 0
           },
           {
            "bin_start": 0.3334,
            "bin_end": 0.3920199999999999,
            "count": 0
           },
           {
            "bin_start": 0.3920199999999999,
            "bin_end": 0.45063999999999993,
            "count": 0
           },
           {
            "bin_start": 0.45063999999999993,
            "bin_end": 0.5092599999999999,
            "count": 0
           },
           {
            "bin_start": 0.5092599999999999,
            "bin_end": 0.5678799999999999,
            "count": 0
           },
           {
            "bin_start": 0.5678799999999999,
            "bin_end": 0.6265,
            "count": 2
           }
          ]
         }
        },
        {
         "name": "Graham Net-Net",
         "dtype": "float64",
         "stats": {
          "unique_count": 5,
          "nan_count": 0,
          "min": "-0.8239",
          "max": "0.0534",
          "histogram": [
           {
            "bin_start": -0.8239,
            "bin_end": -0.73617,
            "count": 2
           },
           {
            "bin_start": -0.73617,
            "bin_end": -0.6484399999999999,
            "count": 0
           },
           {
            "bin_start": -0.6484399999999999,
            "bin_end": -0.5607099999999999,
            "count": 0
           },
           {
            "bin_start": -0.5607099999999999,
            "bin_end": -0.47297999999999996,
            "count": 0
           },
           {
            "bin_start": -0.47297999999999996,
            "bin_end": -0.38525,
            "count": 0
           },
           {
            "bin_start": -0.38525,
            "bin_end": -0.2975199999999999,
            "count": 1
           },
           {
            "bin_start": -0.2975199999999999,
            "bin_end": -0.20978999999999992,
            "count": 0
           },
           {
            "bin_start": -0.20978999999999992,
            "bin_end": -0.12205999999999995,
            "count": 1
           },
           {
            "bin_start": -0.12205999999999995,
            "bin_end": -0.03432999999999997,
            "count": 0
           },
           {
            "bin_start": -0.03432999999999997,
            "bin_end": 0.0534,
            "count": 1
           }
          ]
         }
        },
        {
         "name": "Working Capital",
         "dtype": "float64",
         "stats": {
          "unique_count": 5,
          "nan_count": 0,
          "min": "-2109000000.0",
          "max": "3065163000.0",
          "histogram": [
           {
            "bin_start": -2109000000,
            "bin_end": -1591583700,
            "count": 2
           },
           {
            "bin_start": -1591583700,
            "bin_end": -1074167400,
            "count": 0
           },
           {
            "bin_start": -1074167400,
            "bin_end": -556751100,
            "count": 1
           },
           {
            "bin_start": -556751100,
            "bin_end": -39334800,
            "count": 0
           },
           {
            "bin_start": -39334800,
            "bin_end": 478081500,
            "count": 0
           },
           {
            "bin_start": 478081500,
            "bin_end": 995497800,
            "count": 0
           },
           {
            "bin_start": 995497800,
            "bin_end": 1512914100,
            "count": 0
           },
           {
            "bin_start": 1512914100,
            "bin_end": 2030330400,
            "count": 1
           },
           {
            "bin_start": 2030330400,
            "bin_end": 2547746700,
            "count": 0
           },
           {
            "bin_start": 2547746700,
            "bin_end": 3065163000,
            "count": 1
           }
          ]
         }
        },
        {
         "name": "Tangible Asset Value",
         "dtype": "float64",
         "stats": {
          "unique_count": 5,
          "nan_count": 0,
          "min": "2546028576.0413",
          "max": "59719000000.0",
          "histogram": [
           {
            "bin_start": 2546028576.0413,
            "bin_end": 8263325718.43717,
            "count": 2
           },
           {
            "bin_start": 8263325718.43717,
            "bin_end": 13980622860.83304,
            "count": 1
           },
           {
            "bin_start": 13980622860.83304,
            "bin_end": 19697920003.228912,
            "count": 0
           },
           {
            "bin_start": 19697920003.228912,
            "bin_end": 25415217145.62478,
            "count": 0
           },
           {
            "bin_start": 25415217145.62478,
            "bin_end": 31132514288.020653,
            "count": 1
           },
           {
            "bin_start": 31132514288.020653,
            "bin_end": 36849811430.41652,
            "count": 0
           },
           {
            "bin_start": 36849811430.41652,
            "bin_end": 42567108572.812386,
            "count": 0
           },
           {
            "bin_start": 42567108572.812386,
            "bin_end": 48284405715.20826,
            "count": 0
           },
           {
            "bin_start": 48284405715.20826,
            "bin_end": 54001702857.60413,
            "count": 0
           },
           {
            "bin_start": 54001702857.60413,
            "bin_end": 59719000000,
            "count": 1
           }
          ]
         }
        },
        {
         "name": "Net Current Asset Value",
         "dtype": "float64",
         "stats": {
          "unique_count": 5,
          "nan_count": 0,
          "min": "-42673000000.0",
          "max": "-166696641.9115",
          "histogram": [
           {
            "bin_start": -42673000000,
            "bin_end": -38422369664.19115,
            "count": 1
           },
           {
            "bin_start": -38422369664.19115,
            "bin_end": -34171739328.3823,
            "count": 0
           },
           {
            "bin_start": -34171739328.3823,
            "bin_end": -29921108992.57345,
            "count": 0
           },
           {
            "bin_start": -29921108992.57345,
            "bin_end": -25670478656.7646,
            "count": 0
           },
           {
            "bin_start": -25670478656.7646,
            "bin_end": -21419848320.95575,
            "count": 0
           },
           {
            "bin_start": -21419848320.95575,
            "bin_end": -17169217985.146896,
            "count": 0
           },
           {
            "bin_start": -17169217985.146896,
            "bin_end": -12918587649.338047,
            "count": 1
           },
           {
            "bin_start": -12918587649.338047,
            "bin_end": -8667957313.529198,
            "count": 1
           },
           {
            "bin_start": -8667957313.529198,
            "bin_end": -4417326977.720345,
            "count": 1
           },
           {
            "bin_start": -4417326977.720345,
            "bin_end": -166696641.9115,
            "count": 1
           }
          ]
         }
        },
        {
         "name": "Invested Capital",
         "dtype": "float64",
         "stats": {
          "unique_count": 5,
          "nan_count": 0,
          "min": "755350984.8239999",
          "max": "52852000000.0",
          "histogram": [
           {
            "bin_start": 755350984.8239999,
            "bin_end": 5965015886.3416,
            "count": 1
           },
           {
            "bin_start": 5965015886.3416,
            "bin_end": 11174680787.8592,
            "count": 1
           },
           {
            "bin_start": 11174680787.8592,
            "bin_end": 16384345689.376799,
            "count": 1
           },
           {
            "bin_start": 16384345689.376799,
            "bin_end": 21594010590.8944,
            "count": 0
           },
           {
            "bin_start": 21594010590.8944,
            "bin_end": 26803675492.412003,
            "count": 1
           },
           {
            "bin_start": 26803675492.412003,
            "bin_end": 32013340393.9296,
            "count": 0
           },
           {
            "bin_start": 32013340393.9296,
            "bin_end": 37223005295.4472,
            "count": 0
           },
           {
            "bin_start": 37223005295.4472,
            "bin_end": 42432670196.9648,
            "count": 0
           },
           {
            "bin_start": 42432670196.9648,
            "bin_end": 47642335098.4824,
            "count": 0
           },
           {
            "bin_start": 47642335098.4824,
            "bin_end": 52852000000,
            "count": 1
           }
          ]
         }
        },
        {
         "name": "Average Receivables",
         "dtype": "float64",
         "stats": {
          "unique_count": 4,
          "nan_count": 1,
          "min": "939269000.0",
          "max": "6447000000.0",
          "histogram": [
           {
            "bin_start": 939269000,
            "bin_end": 1490042100,
            "count": 3
           },
           {
            "bin_start": 1490042100,
            "bin_end": 2040815200,
            "count": 0
           },
           {
            "bin_start": 2040815200,
            "bin_end": 2591588300,
            "count": 0
           },
           {
            "bin_start": 2591588300,
            "bin_end": 3142361400,
            "count": 0
           },
           {
            "bin_start": 3142361400,
            "bin_end": 3693134500,
            "count": 0
           },
           {
            "bin_start": 3693134500,
            "bin_end": 4243907600,
            "count": 0
           },
           {
            "bin_start": 4243907600,
            "bin_end": 4794680700,
            "count": 0
           },
           {
            "bin_start": 4794680700,
            "bin_end": 5345453800,
            "count": 0
           },
           {
            "bin_start": 5345453800,
            "bin_end": 5896226900,
            "count": 0
           },
           {
            "bin_start": 5896226900,
            "bin_end": 6447000000,
            "count": 1
           }
          ]
         }
        },
        {
         "name": "Average Payables",
         "dtype": "float64",
         "stats": {
          "unique_count": 4,
          "nan_count": 1,
          "min": "1338531500.0",
          "max": "8619000000.0",
          "histogram": [
           {
            "bin_start": 1338531500,
            "bin_end": 2066578350,
            "count": 2
           },
           {
            "bin_start": 2066578350,
            "bin_end": 2794625200,
            "count": 0
           },
           {
            "bin_start": 2794625200,
            "bin_end": 3522672050,
            "count": 0
           },
           {
            "bin_start": 3522672050,
            "bin_end": 4250718900,
            "count": 0
           },
           {
            "bin_start": 4250718900,
            "bin_end": 4978765750,
            "count": 1
           },
           {
            "bin_start": 4978765750,
            "bin_end": 5706812600,
            "count": 0
           },
           {
            "bin_start": 5706812600,
            "bin_end": 6434859450,
            "count": 0
           },
           {
            "bin_start": 6434859450,
            "bin_end": 7162906300,
            "count": 0
           },
           {
            "bin_start": 7162906300,
            "bin_end": 7890953150,
            "count": 0
           },
           {
            "bin_start": 7890953150,
            "bin_end": 8619000000,
            "count": 1
           }
          ]
         }
        },
        {
         "name": "Average Inventory",
         "dtype": "float64",
         "stats": {
          "unique_count": 4,
          "nan_count": 1,
          "min": "1552450000.0",
          "max": "6834000000.0",
          "histogram": [
           {
            "bin_start": 1552450000,
            "bin_end": 2080605000,
            "count": 1
           },
           {
            "bin_start": 2080605000,
            "bin_end": 2608760000,
            "count": 0
           },
           {
            "bin_start": 2608760000,
            "bin_end": 3136915000,
            "count": 1
           },
           {
            "bin_start": 3136915000,
            "bin_end": 3665070000,
            "count": 0
           },
           {
            "bin_start": 3665070000,
            "bin_end": 4193225000,
            "count": 0
           },
           {
            "bin_start": 4193225000,
            "bin_end": 4721380000,
            "count": 0
           },
           {
            "bin_start": 4721380000,
            "bin_end": 5249535000,
            "count": 0
           },
           {
            "bin_start": 5249535000,
            "bin_end": 5777690000,
            "count": 1
           },
           {
            "bin_start": 5777690000,
            "bin_end": 6305845000,
            "count": 0
           },
           {
            "bin_start": 6305845000,
            "bin_end": 6834000000,
            "count": 1
           }
          ]
         }
        },
        {
         "name": "Days Sales Outstanding",
         "dtype": "float64",
         "stats": {
          "unique_count": 5,
          "nan_count": 0,
          "min": "1.1431",
          "max": "31.3287",
          "histogram": [
           {
            "bin_start": 1.1431,
            "bin_end": 4.1616599999999995,
            "count": 2
           },
           {
            "bin_start": 4.1616599999999995,
            "bin_end": 7.18022,
            "count": 0
           },
           {
            "bin_start": 7.18022,
            "bin_end": 10.19878,
            "count": 0
           },
           {
            "bin_start": 10.19878,
            "bin_end": 13.21734,
            "count": 0
           },
           {
            "bin_start": 13.21734,
            "bin_end": 16.2359,
            "count": 1
           },
           {
            "bin_start": 16.2359,
            "bin_end": 19.254459999999998,
            "count": 0
           },
           {
            "bin_start": 19.254459999999998,
            "bin_end": 22.27302,
            "count": 0
           },
           {
            "bin_start": 22.27302,
            "bin_end": 25.29158,
            "count": 0
           },
           {
            "bin_start": 25.29158,
            "bin_end": 28.31014,
            "count": 0
           },
           {
            "bin_start": 28.31014,
            "bin_end": 31.3287,
            "count": 2
           }
          ]
         }
        },
        {
         "name": "Days Payables Outstanding",
         "dtype": "float64",
         "stats": {
          "unique_count": 5,
          "nan_count": 0,
          "min": "18.1099",
          "max": "97.7945",
          "histogram": [
           {
            "bin_start": 18.1099,
            "bin_end": 26.07836,
            "count": 2
           },
           {
            "bin_start": 26.07836,
            "bin_end": 34.04682,
            "count": 1
           },
           {
            "bin_start": 34.04682,
            "bin_end": 42.015280000000004,
            "count": 1
           },
           {
            "bin_start": 42.015280000000004,
            "bin_end": 49.98374,
            "count": 0
           },
           {
            "bin_start": 49.98374,
            "bin_end": 57.952200000000005,
            "count": 0
           },
           {
            "bin_start": 57.952200000000005,
            "bin_end": 65.92066,
            "count": 0
           },
           {
            "bin_start": 65.92066,
            "bin_end": 73.88912,
            "count": 0
           },
           {
            "bin_start": 73.88912,
            "bin_end": 81.85758,
            "count": 0
           },
           {
            "bin_start": 81.85758,
            "bin_end": 89.82603999999999,
            "count": 0
           },
           {
            "bin_start": 89.82603999999999,
            "bin_end": 97.7945,
            "count": 1
           }
          ]
         }
        },
        {
         "name": "Days of Inventory on Hand",
         "dtype": "float64",
         "stats": {
          "unique_count": 5,
          "nan_count": 0,
          "min": "-75.367",
          "max": "-26.3971",
          "histogram": [
           {
            "bin_start": -75.367,
            "bin_end": -70.47001,
            "count": 1
           },
           {
            "bin_start": -70.47001,
            "bin_end": -65.57302,
            "count": 0
           },
           {
            "bin_start": -65.57302,
            "bin_end": -60.676030000000004,
            "count": 1
           },
           {
            "bin_start": -60.676030000000004,
            "bin_end": -55.77904,
            "count": 1
           },
           {
            "bin_start": -55.77904,
            "bin_end": -50.88205,
            "count": 0
           },
           {
            "bin_start": -50.88205,
            "bin_end": -45.985060000000004,
            "count": 1
           },
           {
            "bin_start": -45.985060000000004,
            "bin_end": -41.08807,
            "count": 0
           },
           {
            "bin_start": -41.08807,
            "bin_end": -36.19108,
            "count": 0
           },
           {
            "bin_start": -36.19108,
            "bin_end": -31.294089999999997,
            "count": 0
           },
           {
            "bin_start": -31.294089999999997,
            "bin_end": -26.3971,
            "count": 1
           }
          ]
         }
        },
        {
         "name": "Receivables Turnover",
         "dtype": "float64",
         "stats": {
          "unique_count": 4,
          "nan_count": 1,
          "min": "11.5404",
          "max": "90.7937",
          "histogram": [
           {
            "bin_start": 11.5404,
            "bin_end": 19.46573,
            "count": 2
           },
           {
            "bin_start": 19.46573,
            "bin_end": 27.39106,
            "count": 1
           },
           {
            "bin_start": 27.39106,
            "bin_end": 35.31639,
            "count": 0
           },
           {
            "bin_start": 35.31639,
            "bin_end": 43.24172,
            "count": 0
           },
           {
            "bin_start": 43.24172,
            "bin_end": 51.167049999999996,
            "count": 0
           },
           {
            "bin_start": 51.167049999999996,
            "bin_end": 59.09238,
            "count": 0
           },
           {
            "bin_start": 59.09238,
            "bin_end": 67.01771,
            "count": 0
           },
           {
            "bin_start": 67.01771,
            "bin_end": 74.94304,
            "count": 0
           },
           {
            "bin_start": 74.94304,
            "bin_end": 82.86837,
            "count": 0
           },
           {
            "bin_start": 82.86837,
            "bin_end": 90.7937,
            "count": 1
           }
          ]
         }
        },
        {
         "name": "Payables Turnover",
         "dtype": "float64",
         "stats": {
          "unique_count": 4,
          "nan_count": 1,
          "min": "1.5648",
          "max": "4.9593",
          "histogram": [
           {
            "bin_start": 1.5648,
            "bin_end": 1.90425,
            "count": 1
           },
           {
            "bin_start": 1.90425,
            "bin_end": 2.2437,
            "count": 0
           },
           {
            "bin_start": 2.2437,
            "bin_end": 2.58315,
            "count": 0
           },
           {
            "bin_start": 2.58315,
            "bin_end": 2.9226,
            "count": 1
           },
           {
            "bin_start": 2.9226,
            "bin_end": 3.26205,
            "count": 0
           },
           {
            "bin_start": 3.26205,
            "bin_end": 3.6014999999999997,
            "count": 0
           },
           {
            "bin_start": 3.6014999999999997,
            "bin_end": 3.94095,
            "count": 0
           },
           {
            "bin_start": 3.94095,
            "bin_end": 4.2804,
            "count": 0
           },
           {
            "bin_start": 4.2804,
            "bin_end": 4.61985,
            "count": 0
           },
           {
            "bin_start": 4.61985,
            "bin_end": 4.9593,
            "count": 2
           }
          ]
         }
        },
        {
         "name": "Inventory Turnover",
         "dtype": "float64",
         "stats": {
          "unique_count": 4,
          "nan_count": 1,
          "min": "8.302999999999999",
          "max": "18.2227",
          "histogram": [
           {
            "bin_start": 8.302999999999999,
            "bin_end": 9.29497,
            "count": 1
           },
           {
            "bin_start": 9.29497,
            "bin_end": 10.28694,
            "count": 0
           },
           {
            "bin_start": 10.28694,
            "bin_end": 11.27891,
            "count": 1
           },
           {
            "bin_start": 11.27891,
            "bin_end": 12.270879999999998,
            "count": 1
           },
           {
            "bin_start": 12.270879999999998,
            "bin_end": 13.26285,
            "count": 0
           },
           {
            "bin_start": 13.26285,
            "bin_end": 14.254819999999999,
            "count": 0
           },
           {
            "bin_start": 14.254819999999999,
            "bin_end": 15.246789999999999,
            "count": 0
           },
           {
            "bin_start": 15.246789999999999,
            "bin_end": 16.23876,
            "count": 0
           },
           {
            "bin_start": 16.23876,
            "bin_end": 17.23073,
            "count": 0
           },
           {
            "bin_start": 17.23073,
            "bin_end": 18.2227,
            "count": 1
           }
          ]
         }
        },
        {
         "name": "ROE",
         "dtype": "float64",
         "stats": {
          "unique_count": 5,
          "nan_count": 0,
          "min": "-0.118",
          "max": "0.3294",
          "histogram": [
           {
            "bin_start": -0.118,
            "bin_end": -0.07325999999999999,
            "count": 1
           },
           {
            "bin_start": -0.07325999999999999,
            "bin_end": -0.02851999999999999,
            "count": 0
           },
           {
            "bin_start": -0.02851999999999999,
            "bin_end": 0.016220000000000012,
            "count": 0
           },
           {
            "bin_start": 0.016220000000000012,
            "bin_end": 0.060960000000000014,
            "count": 0
           },
           {
            "bin_start": 0.060960000000000014,
            "bin_end": 0.10570000000000002,
            "count": 0
           },
           {
            "bin_start": 0.10570000000000002,
            "bin_end": 0.15044000000000002,
            "count": 0
           },
           {
            "bin_start": 0.15044000000000002,
            "bin_end": 0.19518000000000002,
            "count": 1
           },
           {
            "bin_start": 0.19518000000000002,
            "bin_end": 0.23992000000000002,
            "count": 0
           },
           {
            "bin_start": 0.23992000000000002,
            "bin_end": 0.28466,
            "count": 2
           },
           {
            "bin_start": 0.28466,
            "bin_end": 0.3294,
            "count": 1
           }
          ]
         }
        },
        {
         "name": "Capex per Share",
         "dtype": "float64",
         "stats": {
          "unique_count": 5,
          "nan_count": 0,
          "min": "-17.8582",
          "max": "-1.069",
          "histogram": [
           {
            "bin_start": -17.8582,
            "bin_end": -16.17928,
            "count": 1
           },
           {
            "bin_start": -16.17928,
            "bin_end": -14.50036,
            "count": 0
           },
           {
            "bin_start": -14.50036,
            "bin_end": -12.821439999999999,
            "count": 0
           },
           {
            "bin_start": -12.821439999999999,
            "bin_end": -11.14252,
            "count": 0
           },
           {
            "bin_start": -11.14252,
            "bin_end": -9.4636,
            "count": 0
           },
           {
            "bin_start": -9.4636,
            "bin_end": -7.784679999999998,
            "count": 0
           },
           {
            "bin_start": -7.784679999999998,
            "bin_end": -6.105759999999998,
            "count": 1
           },
           {
            "bin_start": -6.105759999999998,
            "bin_end": -4.4268399999999986,
            "count": 0
           },
           {
            "bin_start": -4.4268399999999986,
            "bin_end": -2.747919999999999,
            "count": 0
           },
           {
            "bin_start": -2.747919999999999,
            "bin_end": -1.069,
            "count": 3
           }
          ]
         }
        },
        {
         "name": "Gross Profit Growth",
         "dtype": "float64",
         "stats": {
          "unique_count": 5,
          "nan_count": 0,
          "min": "-0.1185",
          "max": "1.2489",
          "histogram": [
           {
            "bin_start": -0.1185,
            "bin_end": 0.018240000000000006,
            "count": 4
           },
           {
            "bin_start": 0.018240000000000006,
            "bin_end": 0.15498,
            "count": 0
           },
           {
            "bin_start": 0.15498,
            "bin_end": 0.29172000000000003,
            "count": 0
           },
           {
            "bin_start": 0.29172000000000003,
            "bin_end": 0.42846,
            "count": 0
           },
           {
            "bin_start": 0.42846,
            "bin_end": 0.5651999999999999,
            "count": 0
           },
           {
            "bin_start": 0.5651999999999999,
            "bin_end": 0.70194,
            "count": 0
           },
           {
            "bin_start": 0.70194,
            "bin_end": 0.8386800000000001,
            "count": 0
           },
           {
            "bin_start": 0.8386800000000001,
            "bin_end": 0.97542,
            "count": 0
           },
           {
            "bin_start": 0.97542,
            "bin_end": 1.11216,
            "count": 0
           },
           {
            "bin_start": 1.11216,
            "bin_end": 1.2489,
            "count": 1
           }
          ]
         }
        },
        {
         "name": "EBIT Growth",
         "dtype": "float64",
         "stats": {
          "unique_count": 5,
          "nan_count": 0,
          "min": "-0.0145",
          "max": "1.6142",
          "histogram": [
           {
            "bin_start": -0.0145,
            "bin_end": 0.14837,
            "count": 3
           },
           {
            "bin_start": 0.14837,
            "bin_end": 0.31124,
            "count": 1
           },
           {
            "bin_start": 0.31124,
            "bin_end": 0.47411000000000003,
            "count": 0
           },
           {
            "bin_start": 0.47411000000000003,
            "bin_end": 0.6369800000000001,
            "count": 0
           },
           {
            "bin_start": 0.6369800000000001,
            "bin_end": 0.7998500000000002,
            "count": 0
           },
           {
            "bin_start": 0.7998500000000002,
            "bin_end": 0.9627200000000001,
            "count": 0
           },
           {
            "bin_start": 0.9627200000000001,
            "bin_end": 1.12559,
            "count": 0
           },
           {
            "bin_start": 1.12559,
            "bin_end": 1.2884600000000002,
            "count": 0
           },
           {
            "bin_start": 1.2884600000000002,
            "bin_end": 1.4513300000000002,
            "count": 0
           },
           {
            "bin_start": 1.4513300000000002,
            "bin_end": 1.6142,
            "count": 1
           }
          ]
         }
        },
        {
         "name": "Operating Income Growth",
         "dtype": "float64",
         "stats": {
          "unique_count": 5,
          "nan_count": 0,
          "min": "-0.0141",
          "max": "1.9463",
          "histogram": [
           {
            "bin_start": -0.0141,
            "bin_end": 0.18194,
            "count": 4
           },
           {
            "bin_start": 0.18194,
            "bin_end": 0.37798,
            "count": 0
           },
           {
            "bin_start": 0.37798,
            "bin_end": 0.57402,
            "count": 0
           },
           {
            "bin_start": 0.57402,
            "bin_end": 0.77006,
            "count": 0
           },
           {
            "bin_start": 0.77006,
            "bin_end": 0.9661,
            "count": 0
           },
           {
            "bin_start": 0.9661,
            "bin_end": 1.16214,
            "count": 0
           },
           {
            "bin_start": 1.16214,
            "bin_end": 1.35818,
            "count": 0
           },
           {
            "bin_start": 1.35818,
            "bin_end": 1.55422,
            "count": 0
           },
           {
            "bin_start": 1.55422,
            "bin_end": 1.75026,
            "count": 0
           },
           {
            "bin_start": 1.75026,
            "bin_end": 1.9463,
            "count": 1
           }
          ]
         }
        },
        {
         "name": "Net Income Growth",
         "dtype": "float64",
         "stats": {
          "unique_count": 5,
          "nan_count": 0,
          "min": "-0.0166",
          "max": "1.5649",
          "histogram": [
           {
            "bin_start": -0.0166,
            "bin_end": 0.14154999999999998,
            "count": 3
           },
           {
            "bin_start": 0.14154999999999998,
            "bin_end": 0.29969999999999997,
            "count": 0
           },
           {
            "bin_start": 0.29969999999999997,
            "bin_end": 0.4578499999999999,
            "count": 0
           },
           {
            "bin_start": 0.4578499999999999,
            "bin_end": 0.616,
            "count": 0
           },
           {
            "bin_start": 0.616,
            "bin_end": 0.77415,
            "count": 0
           },
           {
            "bin_start": 0.77415,
            "bin_end": 0.9322999999999999,
            "count": 0
           },
           {
            "bin_start": 0.9322999999999999,
            "bin_end": 1.09045,
            "count": 1
           },
           {
            "bin_start": 1.09045,
            "bin_end": 1.2486,
            "count": 0
           },
           {
            "bin_start": 1.2486,
            "bin_end": 1.40675,
            "count": 0
           },
           {
            "bin_start": 1.40675,
            "bin_end": 1.5649,
            "count": 1
           }
          ]
         }
        },
        {
         "name": "EPS Growth",
         "dtype": "float64",
         "stats": {
          "unique_count": 5,
          "nan_count": 0,
          "min": "0.0139999999999999",
          "max": "1.4625",
          "histogram": [
           {
            "bin_start": 0.0139999999999999,
            "bin_end": 0.1588499999999999,
            "count": 3
           },
           {
            "bin_start": 0.1588499999999999,
            "bin_end": 0.3036999999999999,
            "count": 0
           },
           {
            "bin_start": 0.3036999999999999,
            "bin_end": 0.4485499999999999,
            "count": 0
           },
           {
            "bin_start": 0.4485499999999999,
            "bin_end": 0.5933999999999999,
            "count": 0
           },
           {
            "bin_start": 0.5933999999999999,
            "bin_end": 0.73825,
            "count": 0
           },
           {
            "bin_start": 0.73825,
            "bin_end": 0.8830999999999999,
            "count": 0
           },
           {
            "bin_start": 0.8830999999999999,
            "bin_end": 1.02795,
            "count": 1
           },
           {
            "bin_start": 1.02795,
            "bin_end": 1.1727999999999998,
            "count": 0
           },
           {
            "bin_start": 1.1727999999999998,
            "bin_end": 1.3176499999999998,
            "count": 0
           },
           {
            "bin_start": 1.3176499999999998,
            "bin_end": 1.4625,
            "count": 1
           }
          ]
         }
        },
        {
         "name": "EPS Diluted Growth",
         "dtype": "float64",
         "stats": {
          "unique_count": 5,
          "nan_count": 0,
          "min": "0.0143",
          "max": "1.4646",
          "histogram": [
           {
            "bin_start": 0.0143,
            "bin_end": 0.15933,
            "count": 3
           },
           {
            "bin_start": 0.15933,
            "bin_end": 0.30435999999999996,
            "count": 0
           },
           {
            "bin_start": 0.30435999999999996,
            "bin_end": 0.44938999999999996,
            "count": 0
           },
           {
            "bin_start": 0.44938999999999996,
            "bin_end": 0.59442,
            "count": 0
           },
           {
            "bin_start": 0.59442,
            "bin_end": 0.7394499999999999,
            "count": 0
           },
           {
            "bin_start": 0.7394499999999999,
            "bin_end": 0.8844799999999999,
            "count": 0
           },
           {
            "bin_start": 0.8844799999999999,
            "bin_end": 1.02951,
            "count": 1
           },
           {
            "bin_start": 1.02951,
            "bin_end": 1.17454,
            "count": 0
           },
           {
            "bin_start": 1.17454,
            "bin_end": 1.31957,
            "count": 0
           },
           {
            "bin_start": 1.31957,
            "bin_end": 1.4646,
            "count": 1
           }
          ]
         }
        },
        {
         "name": "Weighted Average Shares Growth",
         "dtype": "float64",
         "stats": {
          "unique_count": 5,
          "nan_count": 0,
          "min": "-0.0468",
          "max": "0.0694",
          "histogram": [
           {
            "bin_start": -0.0468,
            "bin_end": -0.03518,
            "count": 2
           },
           {
            "bin_start": -0.03518,
            "bin_end": -0.02356,
            "count": 0
           },
           {
            "bin_start": -0.02356,
            "bin_end": -0.01194,
            "count": 1
           },
           {
            "bin_start": -0.01194,
            "bin_end": -0.00032000000000000084,
            "count": 0
           },
           {
            "bin_start": -0.00032000000000000084,
            "bin_end": 0.011299999999999998,
            "count": 0
           },
           {
            "bin_start": 0.011299999999999998,
            "bin_end": 0.022920000000000003,
            "count": 1
           },
           {
            "bin_start": 0.022920000000000003,
            "bin_end": 0.034539999999999994,
            "count": 0
           },
           {
            "bin_start": 0.034539999999999994,
            "bin_end": 0.04616,
            "count": 0
           },
           {
            "bin_start": 0.04616,
            "bin_end": 0.057780000000000005,
            "count": 0
           },
           {
            "bin_start": 0.057780000000000005,
            "bin_end": 0.0694,
            "count": 1
           }
          ]
         }
        },
        {
         "name": "Weighted Average Shares Diluted Growth",
         "dtype": "float64",
         "stats": {
          "unique_count": 2,
          "nan_count": 3,
          "min": "-0.0317",
          "max": "0.0195",
          "histogram": [
           {
            "bin_start": -0.0317,
            "bin_end": -0.02658,
            "count": 1
           },
           {
            "bin_start": -0.02658,
            "bin_end": -0.02146,
            "count": 0
           },
           {
            "bin_start": -0.02146,
            "bin_end": -0.01634,
            "count": 0
           },
           {
            "bin_start": -0.01634,
            "bin_end": -0.01122,
            "count": 0
           },
           {
            "bin_start": -0.01122,
            "bin_end": -0.006100000000000001,
            "count": 0
           },
           {
            "bin_start": -0.006100000000000001,
            "bin_end": -0.0009800000000000017,
            "count": 0
           },
           {
            "bin_start": -0.0009800000000000017,
            "bin_end": 0.004139999999999998,
            "count": 0
           },
           {
            "bin_start": 0.004139999999999998,
            "bin_end": 0.009259999999999997,
            "count": 0
           },
           {
            "bin_start": 0.009259999999999997,
            "bin_end": 0.014379999999999997,
            "count": 0
           },
           {
            "bin_start": 0.014379999999999997,
            "bin_end": 0.0195,
            "count": 1
           }
          ]
         }
        },
        {
         "name": "Dividends per Share Growth",
         "dtype": "float64",
         "stats": {
          "unique_count": 4,
          "nan_count": 0,
          "min": "0.0",
          "max": "0.2429",
          "histogram": [
           {
            "bin_start": 0,
            "bin_end": 0.02429,
            "count": 2
           },
           {
            "bin_start": 0.02429,
            "bin_end": 0.04858,
            "count": 0
           },
           {
            "bin_start": 0.04858,
            "bin_end": 0.07286999999999999,
            "count": 1
           },
           {
            "bin_start": 0.07286999999999999,
            "bin_end": 0.09716,
            "count": 0
           },
           {
            "bin_start": 0.09716,
            "bin_end": 0.12145,
            "count": 0
           },
           {
            "bin_start": 0.12145,
            "bin_end": 0.14573999999999998,
            "count": 0
           },
           {
            "bin_start": 0.14573999999999998,
            "bin_end": 0.17003,
            "count": 0
           },
           {
            "bin_start": 0.17003,
            "bin_end": 0.19432,
            "count": 1
           },
           {
            "bin_start": 0.19432,
            "bin_end": 0.21861,
            "count": 0
           },
           {
            "bin_start": 0.21861,
            "bin_end": 0.2429,
            "count": 1
           }
          ]
         }
        },
        {
         "name": "Operating Cash Flow growth",
         "dtype": "float64",
         "stats": {
          "unique_count": 5,
          "nan_count": 0,
          "min": "-0.1434",
          "max": "0.2134",
          "histogram": [
           {
            "bin_start": -0.1434,
            "bin_end": -0.10772,
            "count": 2
           },
           {
            "bin_start": -0.10772,
            "bin_end": -0.07203999999999999,
            "count": 0
           },
           {
            "bin_start": -0.07203999999999999,
            "bin_end": -0.03635999999999999,
            "count": 1
           },
           {
            "bin_start": -0.03635999999999999,
            "bin_end": -0.0006799999999999862,
            "count": 0
           },
           {
            "bin_start": -0.0006799999999999862,
            "bin_end": 0.035,
            "count": 0
           },
           {
            "bin_start": 0.035,
            "bin_end": 0.07068000000000002,
            "count": 0
           },
           {
            "bin_start": 0.07068000000000002,
            "bin_end": 0.10636000000000004,
            "count": 0
           },
           {
            "bin_start": 0.10636000000000004,
            "bin_end": 0.14204000000000003,
            "count": 0
           },
           {
            "bin_start": 0.14204000000000003,
            "bin_end": 0.17772000000000002,
            "count": 0
           },
           {
            "bin_start": 0.17772000000000002,
            "bin_end": 0.2134,
            "count": 2
           }
          ]
         }
        },
        {
         "name": "Free Cash Flow growth",
         "dtype": "float64",
         "stats": {
          "unique_count": 5,
          "nan_count": 0,
          "min": "-0.3626",
          "max": "0.3935",
          "histogram": [
           {
            "bin_start": -0.3626,
            "bin_end": -0.28698999999999997,
            "count": 1
           },
           {
            "bin_start": -0.28698999999999997,
            "bin_end": -0.21137999999999998,
            "count": 1
           },
           {
            "bin_start": -0.21137999999999998,
            "bin_end": -0.13577,
            "count": 1
           },
           {
            "bin_start": -0.13577,
            "bin_end": -0.06015999999999999,
            "count": 1
           },
           {
            "bin_start": -0.06015999999999999,
            "bin_end": 0.01545000000000002,
            "count": 0
           },
           {
            "bin_start": 0.01545000000000002,
            "bin_end": 0.09105999999999997,
            "count": 0
           },
           {
            "bin_start": 0.09105999999999997,
            "bin_end": 0.16667000000000004,
            "count": 0
           },
           {
            "bin_start": 0.16667000000000004,
            "bin_end": 0.24228,
            "count": 0
           },
           {
            "bin_start": 0.24228,
            "bin_end": 0.31788999999999995,
            "count": 0
           },
           {
            "bin_start": 0.31788999999999995,
            "bin_end": 0.3935,
            "count": 1
           }
          ]
         }
        },
        {
         "name": "10Y Revenue Growth (per Share)",
         "dtype": "float64",
         "stats": {
          "unique_count": 4,
          "nan_count": 1,
          "min": "-0.0195",
          "max": "0.1027",
          "histogram": [
           {
            "bin_start": -0.0195,
            "bin_end": -0.00728,
            "count": 1
           },
           {
            "bin_start": -0.00728,
            "bin_end": 0.00494,
            "count": 0
           },
           {
            "bin_start": 0.00494,
            "bin_end": 0.017159999999999998,
            "count": 0
           },
           {
            "bin_start": 0.017159999999999998,
            "bin_end": 0.02938,
            "count": 0
           },
           {
            "bin_start": 0.02938,
            "bin_end": 0.0416,
            "count": 1
           },
           {
            "bin_start": 0.0416,
            "bin_end": 0.05381999999999999,
            "count": 0
           },
           {
            "bin_start": 0.05381999999999999,
            "bin_end": 0.06604,
            "count": 0
           },
           {
            "bin_start": 0.06604,
            "bin_end": 0.07826,
            "count": 1
           },
           {
            "bin_start": 0.07826,
            "bin_end": 0.09047999999999999,
            "count": 0
           },
           {
            "bin_start": 0.09047999999999999,
            "bin_end": 0.1027,
            "count": 1
           }
          ]
         }
        },
        {
         "name": "5Y Revenue Growth (per Share)",
         "dtype": "float64",
         "stats": {
          "unique_count": 4,
          "nan_count": 1,
          "min": "-0.0289999999999999",
          "max": "0.1038",
          "histogram": [
           {
            "bin_start": -0.0289999999999999,
            "bin_end": -0.015719999999999908,
            "count": 1
           },
           {
            "bin_start": -0.015719999999999908,
            "bin_end": -0.002439999999999918,
            "count": 0
           },
           {
            "bin_start": -0.002439999999999918,
            "bin_end": 0.010840000000000072,
            "count": 1
           },
           {
            "bin_start": 0.010840000000000072,
            "bin_end": 0.024120000000000065,
            "count": 0
           },
           {
            "bin_start": 0.024120000000000065,
            "bin_end": 0.03740000000000006,
            "count": 0
           },
           {
            "bin_start": 0.03740000000000006,
            "bin_end": 0.050680000000000044,
            "count": 0
           },
           {
            "bin_start": 0.050680000000000044,
            "bin_end": 0.06396000000000004,
            "count": 1
           },
           {
            "bin_start": 0.06396000000000004,
            "bin_end": 0.07724000000000003,
            "count": 0
           },
           {
            "bin_start": 0.07724000000000003,
            "bin_end": 0.09052000000000002,
            "count": 0
           },
           {
            "bin_start": 0.09052000000000002,
            "bin_end": 0.1038,
            "count": 1
           }
          ]
         }
        },
        {
         "name": "3Y Revenue Growth (per Share)",
         "dtype": "float64",
         "stats": {
          "unique_count": 4,
          "nan_count": 1,
          "min": "-0.023",
          "max": "0.1399",
          "histogram": [
           {
            "bin_start": -0.023,
            "bin_end": -0.006710000000000001,
            "count": 2
           },
           {
            "bin_start": -0.006710000000000001,
            "bin_end": 0.009579999999999998,
            "count": 0
           },
           {
            "bin_start": 0.009579999999999998,
            "bin_end": 0.025869999999999997,
            "count": 0
           },
           {
            "bin_start": 0.025869999999999997,
            "bin_end": 0.042159999999999996,
            "count": 0
           },
           {
            "bin_start": 0.042159999999999996,
            "bin_end": 0.058449999999999995,
            "count": 0
           },
           {
            "bin_start": 0.058449999999999995,
            "bin_end": 0.07474,
            "count": 0
           },
           {
            "bin_start": 0.07474,
            "bin_end": 0.09103,
            "count": 1
           },
           {
            "bin_start": 0.09103,
            "bin_end": 0.10732,
            "count": 0
           },
           {
            "bin_start": 0.10732,
            "bin_end": 0.12361,
            "count": 0
           },
           {
            "bin_start": 0.12361,
            "bin_end": 0.1399,
            "count": 1
           }
          ]
         }
        },
        {
         "name": "10Y Operating CF Growth (per Share)",
         "dtype": "float64",
         "stats": {
          "unique_count": 4,
          "nan_count": 1,
          "min": "0.0355",
          "max": "0.0889",
          "histogram": [
           {
            "bin_start": 0.0355,
            "bin_end": 0.04084,
            "count": 1
           },
           {
            "bin_start": 0.04084,
            "bin_end": 0.04618,
            "count": 0
           },
           {
            "bin_start": 0.04618,
            "bin_end": 0.051519999999999996,
            "count": 1
           },
           {
            "bin_start": 0.051519999999999996,
            "bin_end": 0.05686,
            "count": 0
           },
           {
            "bin_start": 0.05686,
            "bin_end": 0.062200000000000005,
            "count": 0
           },
           {
            "bin_start": 0.062200000000000005,
            "bin_end": 0.06754,
            "count": 0
           },
           {
            "bin_start": 0.06754,
            "bin_end": 0.07288,
            "count": 0
           },
           {
            "bin_start": 0.07288,
            "bin_end": 0.07822000000000001,
            "count": 1
           },
           {
            "bin_start": 0.07822000000000001,
            "bin_end": 0.08356,
            "count": 0
           },
           {
            "bin_start": 0.08356,
            "bin_end": 0.0889,
            "count": 1
           }
          ]
         }
        },
        {
         "name": "5Y Operating CF Growth (per Share)",
         "dtype": "float64",
         "stats": {
          "unique_count": 4,
          "nan_count": 1,
          "min": "0.0015",
          "max": "0.1164",
          "histogram": [
           {
            "bin_start": 0.0015,
            "bin_end": 0.01299,
            "count": 1
           },
           {
            "bin_start": 0.01299,
            "bin_end": 0.024480000000000002,
            "count": 0
           },
           {
            "bin_start": 0.024480000000000002,
            "bin_end": 0.03597,
            "count": 0
           },
           {
            "bin_start": 0.03597,
            "bin_end": 0.04746,
            "count": 0
           },
           {
            "bin_start": 0.04746,
            "bin_end": 0.05895,
            "count": 0
           },
           {
            "bin_start": 0.05895,
            "bin_end": 0.07044,
            "count": 0
           },
           {
            "bin_start": 0.07044,
            "bin_end": 0.08193,
            "count": 0
           },
           {
            "bin_start": 0.08193,
            "bin_end": 0.09342,
            "count": 1
           },
           {
            "bin_start": 0.09342,
            "bin_end": 0.10491,
            "count": 1
           },
           {
            "bin_start": 0.10491,
            "bin_end": 0.1164,
            "count": 1
           }
          ]
         }
        },
        {
         "name": "3Y Operating CF Growth (per Share)",
         "dtype": "float64",
         "stats": {
          "unique_count": 4,
          "nan_count": 1,
          "min": "0.026",
          "max": "0.1991",
          "histogram": [
           {
            "bin_start": 0.026,
            "bin_end": 0.04331,
            "count": 1
           },
           {
            "bin_start": 0.04331,
            "bin_end": 0.06061999999999999,
            "count": 0
           },
           {
            "bin_start": 0.06061999999999999,
            "bin_end": 0.07793,
            "count": 0
           },
           {
            "bin_start": 0.07793,
            "bin_end": 0.09523999999999999,
            "count": 1
           },
           {
            "bin_start": 0.09523999999999999,
            "bin_end": 0.11254999999999998,
            "count": 0
           },
           {
            "bin_start": 0.11254999999999998,
            "bin_end": 0.12986,
            "count": 0
           },
           {
            "bin_start": 0.12986,
            "bin_end": 0.14717,
            "count": 0
           },
           {
            "bin_start": 0.14717,
            "bin_end": 0.16448,
            "count": 0
           },
           {
            "bin_start": 0.16448,
            "bin_end": 0.18178999999999998,
            "count": 1
           },
           {
            "bin_start": 0.18178999999999998,
            "bin_end": 0.1991,
            "count": 1
           }
          ]
         }
        },
        {
         "name": "10Y Net Income Growth (per Share)",
         "dtype": "float64",
         "stats": {
          "unique_count": 4,
          "nan_count": 1,
          "min": "0.048",
          "max": "0.2272",
          "histogram": [
           {
            "bin_start": 0.048,
            "bin_end": 0.06592,
            "count": 2
           },
           {
            "bin_start": 0.06592,
            "bin_end": 0.08384,
            "count": 1
           },
           {
            "bin_start": 0.08384,
            "bin_end": 0.10176,
            "count": 0
           },
           {
            "bin_start": 0.10176,
            "bin_end": 0.11968000000000001,
            "count": 0
           },
           {
            "bin_start": 0.11968000000000001,
            "bin_end": 0.1376,
            "count": 0
           },
           {
            "bin_start": 0.1376,
            "bin_end": 0.15552,
            "count": 0
           },
           {
            "bin_start": 0.15552,
            "bin_end": 0.17344000000000004,
            "count": 0
           },
           {
            "bin_start": 0.17344000000000004,
            "bin_end": 0.19136000000000003,
            "count": 0
           },
           {
            "bin_start": 0.19136000000000003,
            "bin_end": 0.20928000000000002,
            "count": 0
           },
           {
            "bin_start": 0.20928000000000002,
            "bin_end": 0.2272,
            "count": 1
           }
          ]
         }
        },
        {
         "name": "5Y Net Income Growth (per Share)",
         "dtype": "float64",
         "stats": {
          "unique_count": 4,
          "nan_count": 1,
          "min": "-0.0137",
          "max": "0.0906",
          "histogram": [
           {
            "bin_start": -0.0137,
            "bin_end": -0.0032700000000000003,
            "count": 1
           },
           {
            "bin_start": -0.0032700000000000003,
            "bin_end": 0.00716,
            "count": 1
           },
           {
            "bin_start": 0.00716,
            "bin_end": 0.017589999999999998,
            "count": 0
           },
           {
            "bin_start": 0.017589999999999998,
            "bin_end": 0.02802,
            "count": 0
           },
           {
            "bin_start": 0.02802,
            "bin_end": 0.03845,
            "count": 0
           },
           {
            "bin_start": 0.03845,
            "bin_end": 0.04887999999999999,
            "count": 0
           },
           {
            "bin_start": 0.04887999999999999,
            "bin_end": 0.05931,
            "count": 0
           },
           {
            "bin_start": 0.05931,
            "bin_end": 0.06974,
            "count": 0
           },
           {
            "bin_start": 0.06974,
            "bin_end": 0.08016999999999999,
            "count": 0
           },
           {
            "bin_start": 0.08016999999999999,
            "bin_end": 0.0906,
            "count": 2
           }
          ]
         }
        },
        {
         "name": "3Y Net Income Growth (per Share)",
         "dtype": "float64",
         "stats": {
          "unique_count": 4,
          "nan_count": 1,
          "min": "0.0",
          "max": "0.1892",
          "histogram": [
           {
            "bin_start": 0,
            "bin_end": 0.01892,
            "count": 3
           },
           {
            "bin_start": 0.01892,
            "bin_end": 0.03784,
            "count": 0
           },
           {
            "bin_start": 0.03784,
            "bin_end": 0.05676,
            "count": 0
           },
           {
            "bin_start": 0.05676,
            "bin_end": 0.07568,
            "count": 0
           },
           {
            "bin_start": 0.07568,
            "bin_end": 0.09459999999999999,
            "count": 0
           },
           {
            "bin_start": 0.09459999999999999,
            "bin_end": 0.11352,
            "count": 0
           },
           {
            "bin_start": 0.11352,
            "bin_end": 0.13244,
            "count": 0
           },
           {
            "bin_start": 0.13244,
            "bin_end": 0.15136,
            "count": 0
           },
           {
            "bin_start": 0.15136,
            "bin_end": 0.17028,
            "count": 0
           },
           {
            "bin_start": 0.17028,
            "bin_end": 0.1892,
            "count": 1
           }
          ]
         }
        },
        {
         "name": "10Y Shareholders Equity Growth (per Share)",
         "dtype": "float64",
         "stats": {
          "unique_count": 4,
          "nan_count": 1,
          "min": "0.0",
          "max": "0.1442",
          "histogram": [
           {
            "bin_start": 0,
            "bin_end": 0.014419999999999999,
            "count": 1
           },
           {
            "bin_start": 0.014419999999999999,
            "bin_end": 0.028839999999999998,
            "count": 0
           },
           {
            "bin_start": 0.028839999999999998,
            "bin_end": 0.04325999999999999,
            "count": 1
           },
           {
            "bin_start": 0.04325999999999999,
            "bin_end": 0.057679999999999995,
            "count": 0
           },
           {
            "bin_start": 0.057679999999999995,
            "bin_end": 0.0721,
            "count": 1
           },
           {
            "bin_start": 0.0721,
            "bin_end": 0.08651999999999999,
            "count": 0
           },
           {
            "bin_start": 0.08651999999999999,
            "bin_end": 0.10093999999999999,
            "count": 0
           },
           {
            "bin_start": 0.10093999999999999,
            "bin_end": 0.11535999999999999,
            "count": 0
           },
           {
            "bin_start": 0.11535999999999999,
            "bin_end": 0.12977999999999998,
            "count": 0
           },
           {
            "bin_start": 0.12977999999999998,
            "bin_end": 0.1442,
            "count": 1
           }
          ]
         }
        },
        {
         "name": "5Y Shareholders Equity Growth (per Share)",
         "dtype": "float64",
         "stats": {
          "unique_count": 4,
          "nan_count": 1,
          "min": "0.0",
          "max": "0.0623",
          "histogram": [
           {
            "bin_start": 0,
            "bin_end": 0.00623,
            "count": 1
           },
           {
            "bin_start": 0.00623,
            "bin_end": 0.01246,
            "count": 0
           },
           {
            "bin_start": 0.01246,
            "bin_end": 0.018690000000000002,
            "count": 0
           },
           {
            "bin_start": 0.018690000000000002,
            "bin_end": 0.02492,
            "count": 0
           },
           {
            "bin_start": 0.02492,
            "bin_end": 0.03115,
            "count": 0
           },
           {
            "bin_start": 0.03115,
            "bin_end": 0.037380000000000004,
            "count": 1
           },
           {
            "bin_start": 0.037380000000000004,
            "bin_end": 0.04361,
            "count": 0
           },
           {
            "bin_start": 0.04361,
            "bin_end": 0.04984,
            "count": 0
           },
           {
            "bin_start": 0.04984,
            "bin_end": 0.05607,
            "count": 1
           },
           {
            "bin_start": 0.05607,
            "bin_end": 0.0623,
            "count": 1
           }
          ]
         }
        },
        {
         "name": "3Y Shareholders Equity Growth (per Share)",
         "dtype": "float64",
         "stats": {
          "unique_count": 4,
          "nan_count": 1,
          "min": "0.0",
          "max": "0.0789",
          "histogram": [
           {
            "bin_start": 0,
            "bin_end": 0.00789,
            "count": 1
           },
           {
            "bin_start": 0.00789,
            "bin_end": 0.01578,
            "count": 0
           },
           {
            "bin_start": 0.01578,
            "bin_end": 0.023669999999999997,
            "count": 2
           },
           {
            "bin_start": 0.023669999999999997,
            "bin_end": 0.03156,
            "count": 0
           },
           {
            "bin_start": 0.03156,
            "bin_end": 0.03945,
            "count": 0
           },
           {
            "bin_start": 0.03945,
            "bin_end": 0.04733999999999999,
            "count": 0
           },
           {
            "bin_start": 0.04733999999999999,
            "bin_end": 0.055229999999999994,
            "count": 0
           },
           {
            "bin_start": 0.055229999999999994,
            "bin_end": 0.06312,
            "count": 0
           },
           {
            "bin_start": 0.06312,
            "bin_end": 0.07100999999999999,
            "count": 0
           },
           {
            "bin_start": 0.07100999999999999,
            "bin_end": 0.0789,
            "count": 1
           }
          ]
         }
        },
        {
         "name": "10Y Dividend per Share Growth (per Share)",
         "dtype": "float64",
         "stats": {
          "unique_count": 3,
          "nan_count": 1,
          "min": "0.0",
          "max": "0.1092",
          "histogram": [
           {
            "bin_start": 0,
            "bin_end": 0.010920000000000001,
            "count": 2
           },
           {
            "bin_start": 0.010920000000000001,
            "bin_end": 0.021840000000000002,
            "count": 0
           },
           {
            "bin_start": 0.021840000000000002,
            "bin_end": 0.032760000000000004,
            "count": 0
           },
           {
            "bin_start": 0.032760000000000004,
            "bin_end": 0.043680000000000004,
            "count": 0
           },
           {
            "bin_start": 0.043680000000000004,
            "bin_end": 0.0546,
            "count": 0
           },
           {
            "bin_start": 0.0546,
            "bin_end": 0.06552000000000001,
            "count": 0
           },
           {
            "bin_start": 0.06552000000000001,
            "bin_end": 0.07644000000000001,
            "count": 0
           },
           {
            "bin_start": 0.07644000000000001,
            "bin_end": 0.08736000000000001,
            "count": 0
           },
           {
            "bin_start": 0.08736000000000001,
            "bin_end": 0.09828,
            "count": 0
           },
           {
            "bin_start": 0.09828,
            "bin_end": 0.1092,
            "count": 2
           }
          ]
         }
        },
        {
         "name": "5Y Dividend per Share Growth (per Share)",
         "dtype": "float64",
         "stats": {
          "unique_count": 4,
          "nan_count": 1,
          "min": "0.0",
          "max": "0.125",
          "histogram": [
           {
            "bin_start": 0,
            "bin_end": 0.0125,
            "count": 1
           },
           {
            "bin_start": 0.0125,
            "bin_end": 0.025,
            "count": 0
           },
           {
            "bin_start": 0.025,
            "bin_end": 0.037500000000000006,
            "count": 0
           },
           {
            "bin_start": 0.037500000000000006,
            "bin_end": 0.05,
            "count": 0
           },
           {
            "bin_start": 0.05,
            "bin_end": 0.0625,
            "count": 0
           },
           {
            "bin_start": 0.0625,
            "bin_end": 0.07500000000000001,
            "count": 0
           },
           {
            "bin_start": 0.07500000000000001,
            "bin_end": 0.08750000000000001,
            "count": 1
           },
           {
            "bin_start": 0.08750000000000001,
            "bin_end": 0.1,
            "count": 0
           },
           {
            "bin_start": 0.1,
            "bin_end": 0.1125,
            "count": 0
           },
           {
            "bin_start": 0.1125,
            "bin_end": 0.125,
            "count": 2
           }
          ]
         }
        },
        {
         "name": "3Y Dividend per Share Growth (per Share)",
         "dtype": "float64",
         "stats": {
          "unique_count": 4,
          "nan_count": 1,
          "min": "0.0",
          "max": "0.1633",
          "histogram": [
           {
            "bin_start": 0,
            "bin_end": 0.01633,
            "count": 1
           },
           {
            "bin_start": 0.01633,
            "bin_end": 0.03266,
            "count": 0
           },
           {
            "bin_start": 0.03266,
            "bin_end": 0.048990000000000006,
            "count": 0
           },
           {
            "bin_start": 0.048990000000000006,
            "bin_end": 0.06532,
            "count": 0
           },
           {
            "bin_start": 0.06532,
            "bin_end": 0.08165,
            "count": 1
           },
           {
            "bin_start": 0.08165,
            "bin_end": 0.09798000000000001,
            "count": 0
           },
           {
            "bin_start": 0.09798000000000001,
            "bin_end": 0.11431000000000001,
            "count": 0
           },
           {
            "bin_start": 0.11431000000000001,
            "bin_end": 0.13064,
            "count": 1
           },
           {
            "bin_start": 0.13064,
            "bin_end": 0.14697000000000002,
            "count": 0
           },
           {
            "bin_start": 0.14697000000000002,
            "bin_end": 0.1633,
            "count": 1
           }
          ]
         }
        },
        {
         "name": "Receivables growth",
         "dtype": "float64",
         "stats": {
          "unique_count": 4,
          "nan_count": 1,
          "min": "-0.0187",
          "max": "0.0618",
          "histogram": [
           {
            "bin_start": -0.0187,
            "bin_end": -0.010650000000000001,
            "count": 1
           },
           {
            "bin_start": -0.010650000000000001,
            "bin_end": -0.0026000000000000016,
            "count": 0
           },
           {
            "bin_start": -0.0026000000000000016,
            "bin_end": 0.0054499999999999965,
            "count": 0
           },
           {
            "bin_start": 0.0054499999999999965,
            "bin_end": 0.013499999999999998,
            "count": 0
           },
           {
            "bin_start": 0.013499999999999998,
            "bin_end": 0.02155,
            "count": 1
           },
           {
            "bin_start": 0.02155,
            "bin_end": 0.029599999999999994,
            "count": 1
           },
           {
            "bin_start": 0.029599999999999994,
            "bin_end": 0.037649999999999996,
            "count": 0
           },
           {
            "bin_start": 0.037649999999999996,
            "bin_end": 0.0457,
            "count": 0
           },
           {
            "bin_start": 0.0457,
            "bin_end": 0.05375,
            "count": 0
           },
           {
            "bin_start": 0.05375,
            "bin_end": 0.0618,
            "count": 1
           }
          ]
         }
        },
        {
         "name": "Inventory Growth",
         "dtype": "float64",
         "stats": {
          "unique_count": 4,
          "nan_count": 1,
          "min": "-0.051",
          "max": "0.0981",
          "histogram": [
           {
            "bin_start": -0.051,
            "bin_end": -0.03609,
            "count": 1
           },
           {
            "bin_start": -0.03609,
            "bin_end": -0.021179999999999994,
            "count": 1
           },
           {
            "bin_start": -0.021179999999999994,
            "bin_end": -0.006269999999999991,
            "count": 0
           },
           {
            "bin_start": -0.006269999999999991,
            "bin_end": 0.008640000000000009,
            "count": 0
           },
           {
            "bin_start": 0.008640000000000009,
            "bin_end": 0.02355000000000001,
            "count": 1
           },
           {
            "bin_start": 0.02355000000000001,
            "bin_end": 0.038460000000000015,
            "count": 0
           },
           {
            "bin_start": 0.038460000000000015,
            "bin_end": 0.05337000000000001,
            "count": 0
           },
           {
            "bin_start": 0.05337000000000001,
            "bin_end": 0.06828000000000001,
            "count": 0
           },
           {
            "bin_start": 0.06828000000000001,
            "bin_end": 0.08319000000000001,
            "count": 0
           },
           {
            "bin_start": 0.08319000000000001,
            "bin_end": 0.0981,
            "count": 1
           }
          ]
         }
        },
        {
         "name": "Asset Growth",
         "dtype": "float64",
         "stats": {
          "unique_count": 4,
          "nan_count": 1,
          "min": "-0.0189",
          "max": "0.1886",
          "histogram": [
           {
            "bin_start": -0.0189,
            "bin_end": 0.0018499999999999975,
            "count": 1
           },
           {
            "bin_start": 0.0018499999999999975,
            "bin_end": 0.022599999999999995,
            "count": 1
           },
           {
            "bin_start": 0.022599999999999995,
            "bin_end": 0.04334999999999999,
            "count": 1
           },
           {
            "bin_start": 0.04334999999999999,
            "bin_end": 0.06409999999999999,
            "count": 0
           },
           {
            "bin_start": 0.06409999999999999,
            "bin_end": 0.08484999999999998,
            "count": 0
           },
           {
            "bin_start": 0.08484999999999998,
            "bin_end": 0.10559999999999999,
            "count": 0
           },
           {
            "bin_start": 0.10559999999999999,
            "bin_end": 0.12635,
            "count": 0
           },
           {
            "bin_start": 0.12635,
            "bin_end": 0.14709999999999998,
            "count": 0
           },
           {
            "bin_start": 0.14709999999999998,
            "bin_end": 0.16784999999999997,
            "count": 0
           },
           {
            "bin_start": 0.16784999999999997,
            "bin_end": 0.1886,
            "count": 1
           }
          ]
         }
        },
        {
         "name": "Book Value per Share Growth",
         "dtype": "float64",
         "stats": {
          "unique_count": 4,
          "nan_count": 1,
          "min": "0.0274",
          "max": "0.3268",
          "histogram": [
           {
            "bin_start": 0.0274,
            "bin_end": 0.05734,
            "count": 2
           },
           {
            "bin_start": 0.05734,
            "bin_end": 0.08728,
            "count": 0
           },
           {
            "bin_start": 0.08728,
            "bin_end": 0.11722000000000002,
            "count": 0
           },
           {
            "bin_start": 0.11722000000000002,
            "bin_end": 0.14716,
            "count": 0
           },
           {
            "bin_start": 0.14716,
            "bin_end": 0.1771,
            "count": 0
           },
           {
            "bin_start": 0.1771,
            "bin_end": 0.20704000000000003,
            "count": 1
           },
           {
            "bin_start": 0.20704000000000003,
            "bin_end": 0.23698000000000002,
            "count": 0
           },
           {
            "bin_start": 0.23698000000000002,
            "bin_end": 0.26692,
            "count": 0
           },
           {
            "bin_start": 0.26692,
            "bin_end": 0.29686,
            "count": 0
           },
           {
            "bin_start": 0.29686,
            "bin_end": 0.3268,
            "count": 1
           }
          ]
         }
        },
        {
         "name": "Debt Growth",
         "dtype": "float64",
         "stats": {
          "unique_count": 4,
          "nan_count": 1,
          "min": "-0.0458",
          "max": "0.2738",
          "histogram": [
           {
            "bin_start": -0.0458,
            "bin_end": -0.013839999999999998,
            "count": 1
           },
           {
            "bin_start": -0.013839999999999998,
            "bin_end": 0.018120000000000004,
            "count": 0
           },
           {
            "bin_start": 0.018120000000000004,
            "bin_end": 0.050080000000000006,
            "count": 0
           },
           {
            "bin_start": 0.050080000000000006,
            "bin_end": 0.08204,
            "count": 0
           },
           {
            "bin_start": 0.08204,
            "bin_end": 0.11399999999999999,
            "count": 1
           },
           {
            "bin_start": 0.11399999999999999,
            "bin_end": 0.14596,
            "count": 1
           },
           {
            "bin_start": 0.14596,
            "bin_end": 0.17792000000000002,
            "count": 0
           },
           {
            "bin_start": 0.17792000000000002,
            "bin_end": 0.20988,
            "count": 0
           },
           {
            "bin_start": 0.20988,
            "bin_end": 0.24184,
            "count": 0
           },
           {
            "bin_start": 0.24184,
            "bin_end": 0.2738,
            "count": 1
           }
          ]
         }
        },
        {
         "name": "R&D Expense Growth",
         "dtype": "float64",
         "stats": {
          "unique_count": 2,
          "nan_count": 0,
          "min": "0.0",
          "max": "1.6484",
          "histogram": [
           {
            "bin_start": 0,
            "bin_end": 0.16484000000000001,
            "count": 4
           },
           {
            "bin_start": 0.16484000000000001,
            "bin_end": 0.32968000000000003,
            "count": 0
           },
           {
            "bin_start": 0.32968000000000003,
            "bin_end": 0.49452000000000007,
            "count": 0
           },
           {
            "bin_start": 0.49452000000000007,
            "bin_end": 0.6593600000000001,
            "count": 0
           },
           {
            "bin_start": 0.6593600000000001,
            "bin_end": 0.8242,
            "count": 0
           },
           {
            "bin_start": 0.8242,
            "bin_end": 0.9890400000000001,
            "count": 0
           },
           {
            "bin_start": 0.9890400000000001,
            "bin_end": 1.15388,
            "count": 0
           },
           {
            "bin_start": 1.15388,
            "bin_end": 1.3187200000000001,
            "count": 0
           },
           {
            "bin_start": 1.3187200000000001,
            "bin_end": 1.4835600000000002,
            "count": 0
           },
           {
            "bin_start": 1.4835600000000002,
            "bin_end": 1.6484,
            "count": 1
           }
          ]
         }
        },
        {
         "name": "SG&A Expenses Growth",
         "dtype": "float64",
         "stats": {
          "unique_count": 5,
          "nan_count": 0,
          "min": "-0.1746",
          "max": "1.7313",
          "histogram": [
           {
            "bin_start": -0.1746,
            "bin_end": 0.015990000000000004,
            "count": 3
           },
           {
            "bin_start": 0.015990000000000004,
            "bin_end": 0.20658,
            "count": 1
           },
           {
            "bin_start": 0.20658,
            "bin_end": 0.39717,
            "count": 0
           },
           {
            "bin_start": 0.39717,
            "bin_end": 0.5877600000000001,
            "count": 0
           },
           {
            "bin_start": 0.5877600000000001,
            "bin_end": 0.7783500000000001,
            "count": 0
           },
           {
            "bin_start": 0.7783500000000001,
            "bin_end": 0.96894,
            "count": 0
           },
           {
            "bin_start": 0.96894,
            "bin_end": 1.15953,
            "count": 0
           },
           {
            "bin_start": 1.15953,
            "bin_end": 1.35012,
            "count": 0
           },
           {
            "bin_start": 1.35012,
            "bin_end": 1.54071,
            "count": 0
           },
           {
            "bin_start": 1.54071,
            "bin_end": 1.7313,
            "count": 1
           }
          ]
         }
        },
        {
         "name": "Sector",
         "dtype": "object",
         "stats": {
          "unique_count": 1,
          "nan_count": 0,
          "categories": [
           {
            "name": "Consumer Defensive",
            "count": 5
           }
          ]
         }
        },
        {
         "name": "2015 PRICE VAR [%]",
         "dtype": "float64",
         "stats": {
          "unique_count": 5,
          "nan_count": 0,
          "min": "-25.512192888957696",
          "max": "33.11829671550496",
          "histogram": [
           {
            "bin_start": -25.512192888957696,
            "bin_end": -19.649143928511428,
            "count": 1
           },
           {
            "bin_start": -19.649143928511428,
            "bin_end": -13.786094968065164,
            "count": 0
           },
           {
            "bin_start": -13.786094968065164,
            "bin_end": -7.923046007618897,
            "count": 1
           },
           {
            "bin_start": -7.923046007618897,
            "bin_end": -2.059997047172633,
            "count": 0
           },
           {
            "bin_start": -2.059997047172633,
            "bin_end": 3.803051913273631,
            "count": 1
           },
           {
            "bin_start": 3.803051913273631,
            "bin_end": 9.666100873719902,
            "count": 0
           },
           {
            "bin_start": 9.666100873719902,
            "bin_end": 15.529149834166166,
            "count": 1
           },
           {
            "bin_start": 15.529149834166166,
            "bin_end": 21.39219879461243,
            "count": 0
           },
           {
            "bin_start": 21.39219879461243,
            "bin_end": 27.255247755058694,
            "count": 0
           },
           {
            "bin_start": 27.255247755058694,
            "bin_end": 33.11829671550496,
            "count": 1
           }
          ]
         }
        },
        {
         "name": "Class",
         "dtype": "int64",
         "stats": {
          "unique_count": 2,
          "nan_count": 0,
          "min": "0",
          "max": "1",
          "histogram": [
           {
            "bin_start": 0,
            "bin_end": 0.1,
            "count": 2
           },
           {
            "bin_start": 0.1,
            "bin_end": 0.2,
            "count": 0
           },
           {
            "bin_start": 0.2,
            "bin_end": 0.30000000000000004,
            "count": 0
           },
           {
            "bin_start": 0.30000000000000004,
            "bin_end": 0.4,
            "count": 0
           },
           {
            "bin_start": 0.4,
            "bin_end": 0.5,
            "count": 0
           },
           {
            "bin_start": 0.5,
            "bin_end": 0.6000000000000001,
            "count": 0
           },
           {
            "bin_start": 0.6000000000000001,
            "bin_end": 0.7000000000000001,
            "count": 0
           },
           {
            "bin_start": 0.7000000000000001,
            "bin_end": 0.8,
            "count": 0
           },
           {
            "bin_start": 0.8,
            "bin_end": 0.9,
            "count": 0
           },
           {
            "bin_start": 0.9,
            "bin_end": 1,
            "count": 3
           }
          ]
         }
        },
        {
         "name": "2016 PRICE VAR [%]",
         "dtype": "float64",
         "stats": {
          "unique_count": 0,
          "nan_count": 5,
          "min": null,
          "max": null,
          "histogram": [
           {
            "bin_start": 0,
            "bin_end": 0.1,
            "count": 0
           },
           {
            "bin_start": 0.1,
            "bin_end": 0.2,
            "count": 0
           },
           {
            "bin_start": 0.2,
            "bin_end": 0.30000000000000004,
            "count": 0
           },
           {
            "bin_start": 0.30000000000000004,
            "bin_end": 0.4,
            "count": 0
           },
           {
            "bin_start": 0.4,
            "bin_end": 0.5,
            "count": 0
           },
           {
            "bin_start": 0.5,
            "bin_end": 0.6000000000000001,
            "count": 0
           },
           {
            "bin_start": 0.6000000000000001,
            "bin_end": 0.7000000000000001,
            "count": 0
           },
           {
            "bin_start": 0.7000000000000001,
            "bin_end": 0.8,
            "count": 0
           },
           {
            "bin_start": 0.8,
            "bin_end": 0.9,
            "count": 0
           },
           {
            "bin_start": 0.9,
            "bin_end": 1,
            "count": 0
           }
          ]
         }
        },
        {
         "name": "2017 PRICE VAR [%]",
         "dtype": "float64",
         "stats": {
          "unique_count": 0,
          "nan_count": 5,
          "min": null,
          "max": null,
          "histogram": [
           {
            "bin_start": 0,
            "bin_end": 0.1,
            "count": 0
           },
           {
            "bin_start": 0.1,
            "bin_end": 0.2,
            "count": 0
           },
           {
            "bin_start": 0.2,
            "bin_end": 0.30000000000000004,
            "count": 0
           },
           {
            "bin_start": 0.30000000000000004,
            "bin_end": 0.4,
            "count": 0
           },
           {
            "bin_start": 0.4,
            "bin_end": 0.5,
            "count": 0
           },
           {
            "bin_start": 0.5,
            "bin_end": 0.6000000000000001,
            "count": 0
           },
           {
            "bin_start": 0.6000000000000001,
            "bin_end": 0.7000000000000001,
            "count": 0
           },
           {
            "bin_start": 0.7000000000000001,
            "bin_end": 0.8,
            "count": 0
           },
           {
            "bin_start": 0.8,
            "bin_end": 0.9,
            "count": 0
           },
           {
            "bin_start": 0.9,
            "bin_end": 1,
            "count": 0
           }
          ]
         }
        },
        {
         "name": "_deepnote_index_column",
         "dtype": "object"
        }
       ],
       "rows": [
        {
         "Revenue": 74401000000,
         "Revenue Growth": -0.0713,
         "Cost of Revenue": 39030000000,
         "Gross Profit": 35371000000,
         "R&D Expenses": 0,
         "SG&A Expense": 21461000000,
         "Operating Expenses": 21461000000,
         "Operating Income": 13910000000,
         "Interest Expense": 709000000,
         "Earnings before Tax": 14494000000,
         "Income Tax Expense": 2851000000,
         "Net Income - Non-Controlling int": 142000000,
         "Net Income - Discontinued ops": -1127000000,
         "Net Income": 11643000000,
         "Preferred Dividends": 0,
         "Net Income Com": 11643000000,
         "EPS": 4.19,
         "EPS Diluted": 4.01,
         "Weighted Average Shs Out": 2705960276,
         "Weighted Average Shs Out (Dil)": 2705960276,
         "Dividend per Share": 2.448,
         "Gross Margin": 0.4754,
         "EBITDA Margin": 0.247,
         "EBIT Margin": 0.2043,
         "Profit Margin": 0.156,
         "Free Cash Flow margin": 0.1359,
         "EBITDA": 18344000000,
         "EBIT": 15203000000,
         "Consolidated Income": 11785000000,
         "Earnings Before Tax Margin": 0.1948,
         "Net Profit Margin": 0.1565,
         "Cash and cash equivalents": 8558000000,
         "Short-term investments": 2128000000,
         "Cash and short-term investments": 10686000000,
         "Receivables": 6386000000,
         "Inventories": 6759000000,
         "Total current assets": 31617000000,
         "Property, Plant & Equipment Net": 22304000000,
         "Goodwill and Intangible Assets": 84547000000,
         "Long-term investments": 0,
         "Tax assets": 1092000000,
         "Total non-current assets": 112649000000,
         "Total assets": 144266000000,
         "Payables": 8461000000,
         "Short-term debt": 15606000000,
         "Total current liabilities": 33726000000,
         "Long-term debt": 19811000000,
         "Total debt": 35417000000,
         "Deferred revenue": 0,
         "Tax Liabilities": 10218000000,
         "Deposit Liabilities": 0,
         "Total non-current liabilities": 40564000000,
         "Total liabilities": 74290000000,
         "Other comprehensive income": -7662000000,
         "Retained earnings (deficit)": 84990000000,
         "Total shareholders equity": 69976000000,
         "Investments": 2128000000,
         "Net Debt": 24731000000,
         "Other Assets": 7786000000,
         "Other Liabilities": 9659000000,
         "Depreciation & Amortization": 3141000000,
         "Stock-based compensation": 360000000,
         "Operating Cash Flow": 13958000000,
         "Capital Expenditure": -3848000000,
         "Acquisitions and disposals": -24000000,
         "Investment purchases and sales": -805000000,
         "Investing Cash flow": -4100000000,
         "Issuance (repayment) of debt": 3543000000,
         "Issuance (buybacks) of shares": -3911000000,
         "Dividend payments": -6911000000,
         "Financing Cash Flow": -7279000000,
         "Effect of forex changes on cash": 39000000,
         "Net cash flow / Change in cash": 2618000000,
         "Free Cash Flow": 10110000000,
         "Net Cash/Marketcap": -0.1163,
         "priceBookValueRatio": 3.0391,
         "priceToBookRatio": 0,
         "priceToSalesRatio": 2.8583,
         "priceEarningsRatio": 18.7566,
         "priceToFreeCashFlowsRatio": 21.0348,
         "priceToOperatingCashFlowsRatio": 15.2358,
         "priceCashFlowRatio": 12.977500890654,
         "priceEarningsToGrowthRatio": 15.557842259877,
         "priceSalesRatio": 2.4346441234895,
         "dividendYield": 0.038152818947218,
         "enterpriseValueMultiple": 11.421116301338,
         "priceFairValue": 2.5886011980071,
         "ebitperRevenue": 0.20433865136221,
         "ebtperEBIT": 0.9533644675393,
         "niperEBT": 0.8032979163791899,
         "grossProfitMargin": 0.47541027674359,
         "operatingProfitMargin": 1,
         "pretaxProfitMargin": 0.18695985269015,
         "netProfitMargin": 0.15648983212591,
         "effectiveTaxRate": 0.19670208362081,
         "returnOnAssets": 0.5765,
         "returnOnEquity": 0.1664,
         "returnOnCapitalEmployed": 0.0753,
         "nIperEBT": 0.8032979163791899,
         "eBTperEBIT": 0.9533644675393,
         "eBITperRevenue": 0.20433865136221,
         "payablesTurnover": 1.5648,
         "inventoryTurnover": 10.8869,
         "fixedAssetTurnover": 3.3357693687231,
         "assetTurnover": 0.5157209598935301,
         "currentRatio": 0.937,
         "quickRatio": 0.50619699934768,
         "cashRatio": 0.25375081539465,
         "daysOfSalesOutstanding": -63.2087,
         "daysOfInventoryOutstanding": 31.3287,
         "operatingCycle": "nan",
         "daysOfPayablesOutstanding": 41.5084,
         "cashConversionCycle": "nan",
         "debtRatio": 0.2455,
         "debtEquityRatio": 0.5061,
         "longtermDebtToCapitalization": 0.22064441400203,
         "totalDebtToCapitalization": 0.33604698604272,
         "interestCoverage": 21.4429,
         "cashFlowToDebtRatio": 0.39410452607505,
         "companyEquityMultiplier": 2.0616497084715,
         "operatingCashFlowPerShare": 5.1582,
         "freeCashFlowPerShare": 3.964,
         "cashPerShare": 3.1626,
         "payoutRatio": 0.584,
         "operatingCashFlowSalesRatio": 0.18760500530907,
         "freeCashFlowOperatingCashFlowRatio": 0.72431580455653,
         "cashFlowCoverageRatios": 0.39410452607505,
         "shortTermCoverageRatios": 0.8943995899013198,
         "capitalExpenditureCoverageRatios": 3.6273388773389,
         "dividendpaidAndCapexCoverageRatios": 1.2973324658426002,
         "dividendPayoutRatio": 0.5935755389504399,
         "Revenue per Share": 27.4952,
         "Net Income per Share": 4.3027,
         "Operating Cash Flow per Share": 5.1582,
         "Free Cash Flow per Share": 3.964,
         "Cash per Share": 3.1626,
         "Book Value per Share": 25.86,
         "Tangible Book Value per Share": 22.069000000000003,
         "Shareholders Equity per Share": 25.86,
         "Interest Debt per Share": 13.0885,
         "Market Cap": 212661418090.84,
         "Enterprise Value": 237392418090.84,
         "PE ratio": 18.7566,
         "Price to Sales Ratio": 2.8583,
         "POCF ratio": 15.2358,
         "PFCF ratio": 21.0348,
         "PB ratio": 3.0391,
         "PTB ratio": 0,
         "EV to Sales": 3.1907,
         "Enterprise Value over EBITDA": 12.9411,
         "EV to Operating cash flow": 17.0076,
         "EV to Free cash flow": 23.481,
         "Earnings Yield": 0.0533,
         "Free Cash Flow Yield": 0.0475,
         "Debt to Equity": 0.5061,
         "Debt to Assets": 0.2455,
         "Net Debt to EBITDA": 1.3482,
         "Current ratio": 0.937,
         "Interest Coverage": 21.4429,
         "Income Quality": 1.1988,
         "Dividend Yield": 0.0311,
         "Payout Ratio": 0.584,
         "SG&A to Revenue": 0.2885,
         "R&D to Revenue": 0,
         "Intangibles to Total Assets": 0.586,
         "Capex to Operating Cash Flow": 0.2757,
         "Capex to Revenue": 0.0517,
         "Capex to Depreciation": -1.2251,
         "Stock-based compensation to Revenue": 0.0048,
         "Graham Number": 49.3756,
         "ROIC": 0.0753,
         "Return on Tangible Assets": 0.5765,
         "Graham Net-Net": -0.2007,
         "Working Capital": -2109000000,
         "Tangible Asset Value": 59719000000,
         "Net Current Asset Value": -42673000000,
         "Invested Capital": 52852000000,
         "Average Receivables": 6447000000,
         "Average Payables": 8619000000,
         "Average Inventory": 6834000000,
         "Days Sales Outstanding": 31.3287,
         "Days Payables Outstanding": 41.5084,
         "Days of Inventory on Hand": -63.2087,
         "Receivables Turnover": 11.5404,
         "Payables Turnover": 1.5648,
         "Inventory Turnover": 10.8869,
         "ROE": 0.1664,
         "Capex per Share": -1.422,
         "Gross Profit Growth": -0.1185,
         "EBIT Growth": -0.0001,
         "Operating Income Growth": 0.0067,
         "Net Income Growth": 0.0293,
         "EPS Growth": 0.0371,
         "EPS Diluted Growth": 0.0389,
         "Weighted Average Shares Growth": -0.0127,
         "Weighted Average Shares Diluted Growth": "nan",
         "Dividends per Share Growth": 0.0699,
         "Operating Cash Flow growth": -0.0615,
         "Free Cash Flow growth": -0.0695,
         "10Y Revenue Growth (per Share)": 0.0323,
         "5Y Revenue Growth (per Share)": 0.0088,
         "3Y Revenue Growth (per Share)": -0.0182,
         "10Y Operating CF Growth (per Share)": 0.0355,
         "5Y Operating CF Growth (per Share)": 0.0015,
         "3Y Operating CF Growth (per Share)": 0.026,
         "10Y Net Income Growth (per Share)": 0.0603,
         "5Y Net Income Growth (per Share)": -0.0137,
         "3Y Net Income Growth (per Share)": 0.006,
         "10Y Shareholders Equity Growth (per Share)": 0.1442,
         "5Y Shareholders Equity Growth (per Share)": 0.0353,
         "3Y Shareholders Equity Growth (per Share)": 0.0201,
         "10Y Dividend per Share Growth (per Share)": 0.1013,
         "5Y Dividend per Share Growth (per Share)": 0.0834,
         "3Y Dividend per Share Growth (per Share)": 0.0751,
         "Receivables growth": -0.0187,
         "Inventory Growth": -0.0217,
         "Asset Growth": 0.0359,
         "Book Value per Share Growth": 0.0316,
         "Debt Growth": 0.1228,
         "R&D Expense Growth": 0,
         "SG&A Expenses Growth": -0.1746,
         "Sector": "Consumer Defensive",
         "2015 PRICE VAR [%]": -9.323275997445537,
         "Class": 0,
         "2016 PRICE VAR [%]": "nan",
         "2017 PRICE VAR [%]": "nan",
         "_deepnote_index_column": "PG"
        },
        {
         "Revenue": 3734148046.4966,
         "Revenue Growth": 1.1737,
         "Cost of Revenue": 2805625443.978,
         "Gross Profit": 928522602.5186,
         "R&D Expenses": 108330319.6642,
         "SG&A Expense": 344141427.1876,
         "Operating Expenses": 793926703.2612,
         "Operating Income": 134595899.2573,
         "Interest Expense": 12148692.2829,
         "Earnings before Tax": 175382305.4569,
         "Income Tax Expense": 39559573.7811,
         "Net Income - Non-Controlling int": -14319179.8515,
         "Net Income - Discontinued ops": 0,
         "Net Income": 135822731.6758,
         "Preferred Dividends": 0,
         "Net Income Com": 135822731.6758,
         "EPS": 0.2396,
         "EPS Diluted": 0.226,
         "Weighted Average Shs Out": "nan",
         "Weighted Average Shs Out (Dil)": 18293619.9548,
         "Dividend per Share": 0,
         "Gross Margin": 0.2487,
         "EBITDA Margin": 0.0107,
         "EBIT Margin": 0.0502,
         "Profit Margin": 0.0058,
         "Free Cash Flow margin": 0.0704,
         "EBITDA": 245685824.9919,
         "EBIT": 187530997.7397,
         "Consolidated Income": 121503551.8243,
         "Earnings Before Tax Margin": 0.047,
         "Net Profit Margin": 0.0364,
         "Cash and cash equivalents": 773514853.0836,
         "Short-term investments": 608385211.495,
         "Cash and short-term investments": 1381900064.5786,
         "Receivables": 11694865.9994,
         "Inventories": 579319341.298,
         "Total current assets": 2134396835.6474,
         "Property, Plant & Equipment Net": 308597513.723,
         "Goodwill and Intangible Assets": 190658701.9696,
         "Long-term investments": 62993542.1376,
         "Tax assets": 37641104.2945,
         "Total non-current assets": 602290442.3636,
         "Total assets": 2736687278.011,
         "Payables": 1000490797.546,
         "Short-term debt": 0,
         "Total current liabilities": 1639536809.816,
         "Long-term debt": 622374071.6823,
         "Total debt": 622374071.6823,
         "Deferred revenue": 31411042.9448,
         "Tax Liabilities": 0,
         "Deposit Liabilities": 0,
         "Total non-current liabilities": 661556667.743,
         "Total liabilities": 2301093477.5589,
         "Other comprehensive income": -1729254.1169,
         "Retained earnings (deficit)": 4285437.5202,
         "Total shareholders equity": 412354536.6484,
         "Investments": 671378753.6325,
         "Net Debt": "nan",
         "Other Assets": "nan",
         "Other Liabilities": 639046012.27,
         "Depreciation & Amortization": 58154827.2522,
         "Stock-based compensation": 36405230.8686,
         "Operating Cash Flow": 526745560.2196,
         "Capital Expenditure": -263704552.793,
         "Acquisitions and disposals": -192255247.0132,
         "Investment purchases and sales": -212644656.1188,
         "Investing Cash flow": -686693574.4269,
         "Issuance (repayment) of debt": 619326767.8398,
         "Issuance (buybacks) of shares": 1767839.845,
         "Dividend payments": 0,
         "Financing Cash Flow": 621913626.0898,
         "Effect of forex changes on cash": -15648692.2829,
         "Net cash flow / Change in cash": 446316919.5996,
         "Free Cash Flow": 263041007.4265,
         "Net Cash/Marketcap": 0.0956,
         "priceBookValueRatio": "nan",
         "priceToBookRatio": "nan",
         "priceToSalesRatio": 0.0443,
         "priceEarningsRatio": 81.5526,
         "priceToFreeCashFlowsRatio": 1.3589,
         "priceToOperatingCashFlowsRatio": "nan",
         "priceCashFlowRatio": 0.67861480174179,
         "priceEarningsToGrowthRatio": 2.6317931432127,
         "priceSalesRatio": 0.095726610050226,
         "dividendYield": 0,
         "enterpriseValueMultiple": 7.136538132554,
         "priceFairValue": 0.86686892503279,
         "ebitperRevenue": 0.0502205577830909,
         "ebtperEBIT": 0.93521768438697,
         "niperEBT": 0.7744380558914399,
         "grossProfitMargin": 0.24865714775014,
         "operatingProfitMargin": 1,
         "pretaxProfitMargin": 0.036044607118236,
         "netProfitMargin": 0.036373151247506,
         "effectiveTaxRate": 0.22556194410856,
         "returnOnAssets": 0.0403,
         "returnOnEquity": 0.3294,
         "returnOnCapitalEmployed": 0,
         "nIperEBT": 0.7744380558914399,
         "eBTperEBIT": 0.93521768438697,
         "eBITperRevenue": 0.0502205577830909,
         "payablesTurnover": "nan",
         "inventoryTurnover": "nan",
         "fixedAssetTurnover": 12.100382797797,
         "assetTurnover": 1.3644774382883,
         "currentRatio": 0.2102,
         "quickRatio": 0.8499930725766399,
         "cashRatio": 0.47178864692304,
         "daysOfSalesOutstanding": -75.367,
         "daysOfInventoryOutstanding": 1.1431,
         "operatingCycle": "nan",
         "daysOfPayablesOutstanding": 97.7945,
         "cashConversionCycle": "nan",
         "debtRatio": 0.2274,
         "debtEquityRatio": 1.5093,
         "longtermDebtToCapitalization": 0.6014853234669499,
         "totalDebtToCapitalization": 0.6014853234669499,
         "interestCoverage": 15.4363,
         "cashFlowToDebtRatio": 0.84634881847791,
         "companyEquityMultiplier": 6.6367337686028005,
         "operatingCashFlowPerShare": 35.6714,
         "freeCashFlowPerShare": 22.976,
         "cashPerShare": 52.3827,
         "payoutRatio": 0,
         "operatingCashFlowSalesRatio": 0.14106177732128,
         "freeCashFlowOperatingCashFlowRatio": 0.49937014621792,
         "cashFlowCoverageRatios": 0.84634881847791,
         "shortTermCoverageRatios": "nan",
         "capitalExpenditureCoverageRatios": 1.9974837546058,
         "dividendpaidAndCapexCoverageRatios": 1.9974837546058,
         "dividendPayoutRatio": 0,
         "Revenue per Share": 252.8778,
         "Net Income per Share": 9.198,
         "Operating Cash Flow per Share": 35.6714,
         "Free Cash Flow per Share": 22.976,
         "Cash per Share": 52.3827,
         "Book Value per Share": 0.7278,
         "Tangible Book Value per Share": 4.4939,
         "Shareholders Equity per Share": 27.9248,
         "Interest Debt per Share": 42.1474,
         "Market Cap": 6253200000,
         "Enterprise Value": "nan",
         "PE ratio": 81.5526,
         "Price to Sales Ratio": 0.0443,
         "POCF ratio": "nan",
         "PFCF ratio": 1.3589,
         "PB ratio": "nan",
         "PTB ratio": "nan",
         "EV to Sales": "nan",
         "Enterprise Value over EBITDA": "nan",
         "EV to Operating cash flow": "nan",
         "EV to Free cash flow": "nan",
         "Earnings Yield": 0.0123,
         "Free Cash Flow Yield": "nan",
         "Debt to Equity": 1.5093,
         "Debt to Assets": 0.2274,
         "Net Debt to EBITDA": "nan",
         "Current ratio": 0.2102,
         "Interest Coverage": 15.4363,
         "Income Quality": 3.8782,
         "Dividend Yield": 0,
         "Payout Ratio": 0,
         "SG&A to Revenue": 0.0922,
         "R&D to Revenue": 0.0289999999999999,
         "Intangibles to Total Assets": 0.0697,
         "Capex to Operating Cash Flow": 0.5006,
         "Capex to Revenue": 0.0706,
         "Capex to Depreciation": -4.5345,
         "Stock-based compensation to Revenue": 0.0097,
         "Graham Number": "nan",
         "ROIC": 0,
         "Return on Tangible Assets": 0.0403,
         "Graham Net-Net": 0.0534,
         "Working Capital": 3065163000,
         "Tangible Asset Value": 2546028576.0413,
         "Net Current Asset Value": -166696641.9115,
         "Invested Capital": 755350984.8239999,
         "Average Receivables": "nan",
         "Average Payables": "nan",
         "Average Inventory": "nan",
         "Days Sales Outstanding": 1.1431,
         "Days Payables Outstanding": 97.7945,
         "Days of Inventory on Hand": -75.367,
         "Receivables Turnover": "nan",
         "Payables Turnover": "nan",
         "Inventory Turnover": "nan",
         "ROE": 0.3294,
         "Capex per Share": -17.8582,
         "Gross Profit Growth": 1.2489,
         "EBIT Growth": 1.6142,
         "Operating Income Growth": 1.9463,
         "Net Income Growth": 1.5649,
         "EPS Growth": 1.4625,
         "EPS Diluted Growth": 1.4646,
         "Weighted Average Shares Growth": 0.0184,
         "Weighted Average Shares Diluted Growth": 0.0195,
         "Dividends per Share Growth": 0,
         "Operating Cash Flow growth": 0.2134,
         "Free Cash Flow growth": -0.3626,
         "10Y Revenue Growth (per Share)": "nan",
         "5Y Revenue Growth (per Share)": "nan",
         "3Y Revenue Growth (per Share)": "nan",
         "10Y Operating CF Growth (per Share)": "nan",
         "5Y Operating CF Growth (per Share)": "nan",
         "3Y Operating CF Growth (per Share)": "nan",
         "10Y Net Income Growth (per Share)": "nan",
         "5Y Net Income Growth (per Share)": "nan",
         "3Y Net Income Growth (per Share)": "nan",
         "10Y Shareholders Equity Growth (per Share)": "nan",
         "5Y Shareholders Equity Growth (per Share)": "nan",
         "3Y Shareholders Equity Growth (per Share)": "nan",
         "10Y Dividend per Share Growth (per Share)": "nan",
         "5Y Dividend per Share Growth (per Share)": "nan",
         "3Y Dividend per Share Growth (per Share)": "nan",
         "Receivables growth": "nan",
         "Inventory Growth": "nan",
         "Asset Growth": "nan",
         "Book Value per Share Growth": "nan",
         "Debt Growth": "nan",
         "R&D Expense Growth": 1.6484,
         "SG&A Expenses Growth": 1.7313,
         "Sector": "Consumer Defensive",
         "2015 PRICE VAR [%]": -25.512192888957696,
         "Class": 0,
         "2016 PRICE VAR [%]": "nan",
         "2017 PRICE VAR [%]": "nan",
         "_deepnote_index_column": "VIPS"
        },
        {
         "Revenue": 98375000000,
         "Revenue Growth": 0.0182,
         "Cost of Revenue": 78138000000,
         "Gross Profit": 20237000000,
         "R&D Expenses": 0,
         "SG&A Expense": 15196000000,
         "Operating Expenses": 17512000000,
         "Operating Income": 2725000000,
         "Interest Expense": 443000000,
         "Earnings before Tax": 2270000000,
         "Income Tax Expense": 751000000,
         "Net Income - Non-Controlling int": 12000000,
         "Net Income - Discontinued ops": 0,
         "Net Income": 1519000000,
         "Preferred Dividends": 0,
         "Net Income Com": 1519000000,
         "EPS": 1.47,
         "EPS Diluted": 1.45,
         "Weighted Average Shs Out": 1033052512,
         "Weighted Average Shs Out (Dil)": 1028000000,
         "Dividend per Share": 0.307,
         "Gross Margin": 0.2057,
         "EBITDA Margin": 0.045,
         "EBIT Margin": 0.0276,
         "Profit Margin": 0.015,
         "Free Cash Flow margin": 0.0126,
         "EBITDA": 4416000000,
         "EBIT": 2713000000,
         "Consolidated Income": 1531000000,
         "Earnings Before Tax Margin": 0.0231,
         "Net Profit Margin": 0.0154,
         "Cash and cash equivalents": 401000000,
         "Short-term investments": 0,
         "Cash and short-term investments": 401000000,
         "Receivables": 1116000000,
         "Inventories": 5651000000,
         "Total current assets": 8830000000,
         "Property, Plant & Equipment Net": 16893000000,
         "Goodwill and Intangible Assets": 2837000000,
         "Long-term investments": 0,
         "Tax assets": 0,
         "Total non-current assets": 20451000000,
         "Total assets": 29281000000,
         "Payables": 4881000000,
         "Short-term debt": 1657000000,
         "Total current liabilities": 10705000000,
         "Long-term debt": 9653000000,
         "Total debt": 11310000000,
         "Deferred revenue": 0,
         "Tax Liabilities": 1629000000,
         "Deposit Liabilities": 0,
         "Total non-current liabilities": 13181000000,
         "Total liabilities": 23886000000,
         "Other comprehensive income": -464000000,
         "Retained earnings (deficit)": 10981000000,
         "Total shareholders equity": 5384000000,
         "Investments": 0,
         "Net Debt": 10909000000,
         "Other Assets": 1662000000,
         "Other Liabilities": 4167000000,
         "Depreciation & Amortization": 1703000000,
         "Stock-based compensation": 107000000,
         "Operating Cash Flow": 3573000000,
         "Capital Expenditure": -2330000000,
         "Acquisitions and disposals": -2344000000,
         "Investment purchases and sales": 0,
         "Investing Cash flow": -4771000000,
         "Issuance (repayment) of debt": 2093000000,
         "Issuance (buybacks) of shares": -413000000,
         "Dividend payments": -319000000,
         "Financing Cash Flow": 1361000000,
         "Effect of forex changes on cash": 0,
         "Net cash flow / Change in cash": 163000000,
         "Free Cash Flow": 1243000000,
         "Net Cash/Marketcap": -0.5969,
         "priceBookValueRatio": 3.3579,
         "priceToBookRatio": 7.0982,
         "priceToSalesRatio": 0.1858,
         "priceEarningsRatio": 12.034,
         "priceToFreeCashFlowsRatio": 14.6302,
         "priceToOperatingCashFlowsRatio": 5.1147,
         "priceCashFlowRatio": 0,
         "priceEarningsToGrowthRatio": 0,
         "priceSalesRatio": 0,
         "dividendYield": "nan",
         "enterpriseValueMultiple": 2.2767210144928,
         "priceFairValue": 0,
         "ebitperRevenue": 0.0275781448538749,
         "ebtperEBIT": 0.8367121267969,
         "niperEBT": 0.6691629955947099,
         "grossProfitMargin": 0.20571283354511,
         "operatingProfitMargin": 1,
         "pretaxProfitMargin": 0.0277001270648029,
         "netProfitMargin": 0.0154409148665819,
         "effectiveTaxRate": 0.3308370044052899,
         "returnOnAssets": 0.1011,
         "returnOnEquity": 0.2821,
         "returnOnCapitalEmployed": 0.0859,
         "nIperEBT": 0.6691629955947099,
         "eBTperEBIT": 0.8367121267969,
         "eBITperRevenue": 0.0275781448538749,
         "payablesTurnover": 4.9593,
         "inventoryTurnover": 18.2227,
         "fixedAssetTurnover": 5.823417983780299,
         "assetTurnover": 3.3596871691541,
         "currentRatio": 0.825,
         "quickRatio": 0.14170948155068,
         "cashRatio": 0.037459131247081,
         "daysOfSalesOutstanding": -26.3971,
         "daysOfInventoryOutstanding": 4.1407,
         "operatingCycle": "nan",
         "daysOfPayablesOutstanding": 18.1099,
         "cashConversionCycle": "nan",
         "debtRatio": 0.3863,
         "debtEquityRatio": 2.1007,
         "longtermDebtToCapitalization": 0.64194985701935,
         "totalDebtToCapitalization": 0.6774889181741899,
         "interestCoverage": 6.1242,
         "cashFlowToDebtRatio": 0.3159151193634,
         "companyEquityMultiplier": 5.4385215453195,
         "operatingCashFlowPerShare": 3.4757,
         "freeCashFlowPerShare": 0.8370000000000001,
         "cashPerShare": 0.3901,
         "payoutRatio": 0.209,
         "operatingCashFlowSalesRatio": 0.0363202033036849,
         "freeCashFlowOperatingCashFlowRatio": 0.3478869297509099,
         "cashFlowCoverageRatios": 0.3159151193634,
         "shortTermCoverageRatios": 2.1563065781533,
         "capitalExpenditureCoverageRatios": 1.5334763948498005,
         "dividendpaidAndCapexCoverageRatios": 1.3488108720271998,
         "dividendPayoutRatio": 0.21000658327847,
         "Revenue per Share": 95.6955,
         "Net Income per Share": 1.4776,
         "Operating Cash Flow per Share": 3.4757,
         "Free Cash Flow per Share": 0.8370000000000001,
         "Cash per Share": 0.3901,
         "Book Value per Share": 5.237,
         "Tangible Book Value per Share": 25.724,
         "Shareholders Equity per Share": 5.2374,
         "Interest Debt per Share": 11.0019,
         "Market Cap": 18274698937.28,
         "Enterprise Value": 29183698937.28,
         "PE ratio": 12.034,
         "Price to Sales Ratio": 0.1858,
         "POCF ratio": 5.1147,
         "PFCF ratio": 14.6302,
         "PB ratio": 3.3579,
         "PTB ratio": 7.0982,
         "EV to Sales": 0.2967,
         "Enterprise Value over EBITDA": 6.6086,
         "EV to Operating cash flow": 8.1678,
         "EV to Free cash flow": 23.4784,
         "Earnings Yield": 0.0831,
         "Free Cash Flow Yield": 0.068,
         "Debt to Equity": 2.1007,
         "Debt to Assets": 0.3863,
         "Net Debt to EBITDA": 2.4703,
         "Current ratio": 0.825,
         "Interest Coverage": 6.1242,
         "Income Quality": 2.3522,
         "Dividend Yield": 0.0174,
         "Payout Ratio": 0.209,
         "SG&A to Revenue": 0.1545,
         "R&D to Revenue": 0,
         "Intangibles to Total Assets": 0.0969,
         "Capex to Operating Cash Flow": 0.6521,
         "Capex to Revenue": 0.0237,
         "Capex to Depreciation": -1.3682,
         "Stock-based compensation to Revenue": 0.0011,
         "Graham Number": 13.2,
         "ROIC": 0.0859,
         "Return on Tangible Assets": 0.1011,
         "Graham Net-Net": -0.8239,
         "Working Capital": -1875000000,
         "Tangible Asset Value": 26444000000,
         "Net Current Asset Value": -15056000000,
         "Invested Capital": 26648000000,
         "Average Receivables": 1083500000,
         "Average Payables": 4682500000,
         "Average Inventory": 5398500000,
         "Days Sales Outstanding": 4.1407,
         "Days Payables Outstanding": 18.1099,
         "Days of Inventory on Hand": -26.3971,
         "Receivables Turnover": 90.7937,
         "Payables Turnover": 4.9593,
         "Inventory Turnover": 18.2227,
         "ROE": 0.2821,
         "Capex per Share": -2.2665,
         "Gross Profit Growth": 0.0173,
         "EBIT Growth": -0.0145,
         "Operating Income Growth": -0.0141,
         "Net Income Growth": 0.0147,
         "EPS Growth": 0.0576,
         "EPS Diluted Growth": 0.0469,
         "Weighted Average Shares Growth": -0.0356,
         "Weighted Average Shares Diluted Growth": -0.0317,
         "Dividends per Share Growth": 0.2429,
         "Operating Cash Flow growth": 0.2095,
         "Free Cash Flow growth": 0.3935,
         "10Y Revenue Growth (per Share)": 0.1027,
         "5Y Revenue Growth (per Share)": 0.1038,
         "3Y Revenue Growth (per Share)": 0.1399,
         "10Y Operating CF Growth (per Share)": 0.0889,
         "5Y Operating CF Growth (per Share)": 0.0937,
         "3Y Operating CF Growth (per Share)": 0.0946,
         "10Y Net Income Growth (per Share)": 0.2272,
         "5Y Net Income Growth (per Share)": 0.0906,
         "3Y Net Income Growth (per Share)": 0.1892,
         "10Y Shareholders Equity Growth (per Share)": 0.0676,
         "5Y Shareholders Equity Growth (per Share)": 0.0558,
         "3Y Shareholders Equity Growth (per Share)": 0.0789,
         "10Y Dividend per Share Growth (per Share)": 0,
         "5Y Dividend per Share Growth (per Share)": 0.1215,
         "3Y Dividend per Share Growth (per Share)": 0.1633,
         "Receivables growth": 0.0618,
         "Inventory Growth": 0.0981,
         "Asset Growth": 0.1886,
         "Book Value per Share Growth": 0.3268,
         "Debt Growth": 0.2738,
         "R&D Expense Growth": 0,
         "SG&A Expenses Growth": 0.0234,
         "Sector": "Consumer Defensive",
         "2015 PRICE VAR [%]": 33.11829671550496,
         "Class": 1,
         "2016 PRICE VAR [%]": "nan",
         "2017 PRICE VAR [%]": "nan",
         "_deepnote_index_column": "KR"
        },
        {
         "Revenue": 25526413000,
         "Revenue Growth": 0.0053,
         "Cost of Revenue": 18202679000,
         "Gross Profit": 7323734000,
         "R&D Expenses": 0,
         "SG&A Expense": 6561162000,
         "Operating Expenses": 6586482000,
         "Operating Income": 737252000,
         "Interest Expense": 424591000,
         "Earnings before Tax": 250218000,
         "Income Tax Expense": 804000,
         "Net Income - Non-Controlling int": 0,
         "Net Income - Discontinued ops": 0,
         "Net Income": 249414000,
         "Preferred Dividends": 33998000,
         "Net Income Com": 215416000,
         "EPS": 4.6,
         "EPS Diluted": 4.6,
         "Weighted Average Shs Out": 48326279,
         "Weighted Average Shs Out (Dil)": 48326279,
         "Dividend per Share": 0,
         "Gross Margin": 0.2869,
         "EBITDA Margin": 0.042,
         "EBIT Margin": 0.0264,
         "Profit Margin": 0.008,
         "Free Cash Flow margin": 0.0144,
         "EBITDA": 1078550000,
         "EBIT": 674809000,
         "Consolidated Income": 249414000,
         "Earnings Before Tax Margin": 0.0098,
         "Net Profit Margin": 0.0098,
         "Cash and cash equivalents": 146406000,
         "Short-term investments": 0,
         "Cash and short-term investments": 146406000,
         "Receivables": 949062000,
         "Inventories": 2993948000,
         "Total current assets": 4285125000,
         "Property, Plant & Equipment Net": 1957329000,
         "Goodwill and Intangible Assets": 431227000,
         "Long-term investments": 0,
         "Tax assets": 0,
         "Total non-current assets": 2659746000,
         "Total assets": 6944871000,
         "Payables": 1292419000,
         "Short-term debt": 49174000,
         "Total current liabilities": 2507452000,
         "Long-term debt": 5707969000,
         "Total debt": 5757143000,
         "Deferred revenue": 0,
         "Tax Liabilities": 0,
         "Deposit Liabilities": 0,
         "Total non-current liabilities": 6551121000,
         "Total liabilities": 9058573000,
         "Other comprehensive income": -37334000,
         "Retained earnings (deficit)": -7515848000,
         "Total shareholders equity": -2113702000,
         "Investments": 0,
         "Net Debt": 5610737000,
         "Other Assets": 195709000,
         "Other Liabilities": 1165859000,
         "Depreciation & Amortization": 403741000,
         "Stock-based compensation": -10471000,
         "Operating Cash Flow": 702046000,
         "Capital Expenditure": -333870000,
         "Acquisitions and disposals": 0,
         "Investment purchases and sales": 41155000,
         "Investing Cash flow": -364924000,
         "Issuance (repayment) of debt": -295435000,
         "Issuance (buybacks) of shares": 33217000,
         "Dividend payments": 0,
         "Financing Cash Flow": -320168000,
         "Effect of forex changes on cash": 0,
         "Net cash flow / Change in cash": 16954000,
         "Free Cash Flow": 368176000,
         "Net Cash/Marketcap": -0.8822,
         "priceBookValueRatio": 0,
         "priceToBookRatio": 0,
         "priceToSalesRatio": 0.2491,
         "priceEarningsRatio": 28.6087,
         "priceToFreeCashFlowsRatio": 17.2736,
         "priceToOperatingCashFlowsRatio": 9.0589,
         "priceCashFlowRatio": 0,
         "priceEarningsToGrowthRatio": 0,
         "priceSalesRatio": 0,
         "dividendYield": "nan",
         "enterpriseValueMultiple": 5.428005192156099,
         "priceFairValue": "nan",
         "ebitperRevenue": 0.0264357158210989,
         "ebtperEBIT": 0.3707982555063699,
         "niperEBT": 0.99678680190874,
         "grossProfitMargin": 0.28690807439337,
         "operatingProfitMargin": 1,
         "pretaxProfitMargin": 0.0288819271238779,
         "netProfitMargin": 0.0097708205222567,
         "effectiveTaxRate": 0.0032131980912644,
         "returnOnAssets": 0.0668,
         "returnOnEquity": -0.118,
         "returnOnCapitalEmployed": 0.1062,
         "nIperEBT": 0.99678680190874,
         "eBTperEBIT": 0.3707982555063699,
         "eBITperRevenue": 0.0264357158210989,
         "payablesTurnover": 4.9289,
         "inventoryTurnover": 8.302999999999999,
         "fixedAssetTurnover": 13.041452407848,
         "assetTurnover": 3.6755777033152,
         "currentRatio": 1.709,
         "quickRatio": 0.43688493339055,
         "cashRatio": 0.0583883559884699,
         "daysOfSalesOutstanding": -60.0346,
         "daysOfInventoryOutstanding": 13.5706,
         "operatingCycle": "nan",
         "daysOfPayablesOutstanding": 18.4802,
         "cashConversionCycle": "nan",
         "debtRatio": 0.8290000000000001,
         "debtEquityRatio": -2.7237,
         "longtermDebtToCapitalization": 1.5880759554034,
         "totalDebtToCapitalization": 1.5801389400844,
         "interestCoverage": 1.5893,
         "cashFlowToDebtRatio": 0.12194347091952,
         "companyEquityMultiplier": "nan",
         "operatingCashFlowPerShare": 14.5272,
         "freeCashFlowPerShare": 0.557,
         "cashPerShare": 3.0295,
         "payoutRatio": 0,
         "operatingCashFlowSalesRatio": 0.027502728252497,
         "freeCashFlowOperatingCashFlowRatio": 0.5244328719200699,
         "cashFlowCoverageRatios": 0.12194347091952,
         "shortTermCoverageRatios": 14.276772278033,
         "capitalExpenditureCoverageRatios": 2.1027525683649,
         "dividendpaidAndCapexCoverageRatios": 2.1027525683649,
         "dividendPayoutRatio": 0,
         "Revenue per Share": 528.2098,
         "Net Income per Share": 5.1610000000000005,
         "Operating Cash Flow per Share": 14.5272,
         "Free Cash Flow per Share": 0.557,
         "Cash per Share": 3.0295,
         "Book Value per Share": -43.738,
         "Tangible Book Value per Share": 134.785,
         "Shareholders Equity per Share": -43.7381,
         "Interest Debt per Share": 119.1307,
         "Market Cap": 6359738316.4,
         "Enterprise Value": 11970475316.4,
         "PE ratio": 28.6087,
         "Price to Sales Ratio": 0.2491,
         "POCF ratio": 9.0589,
         "PFCF ratio": 17.2736,
         "PB ratio": 0,
         "PTB ratio": 0,
         "EV to Sales": 0.4689,
         "Enterprise Value over EBITDA": 11.0987,
         "EV to Operating cash flow": 17.0508,
         "EV to Free cash flow": 32.5129,
         "Earnings Yield": 0.035,
         "Free Cash Flow Yield": 0.0579,
         "Debt to Equity": -2.7237,
         "Debt to Assets": 0.8290000000000001,
         "Net Debt to EBITDA": 5.2021,
         "Current ratio": 1.709,
         "Interest Coverage": 1.5893,
         "Income Quality": 3.259,
         "Dividend Yield": 0,
         "Payout Ratio": 0,
         "SG&A to Revenue": 0.257,
         "R&D to Revenue": 0,
         "Intangibles to Total Assets": 0.0621,
         "Capex to Operating Cash Flow": 0.4756,
         "Capex to Revenue": 0.0131,
         "Capex to Depreciation": -0.8269,
         "Stock-based compensation to Revenue": -0.0004,
         "Graham Number": 0,
         "ROIC": 0.1062,
         "Return on Tangible Assets": 0.0668,
         "Graham Net-Net": -0.7506,
         "Working Capital": 1777673000,
         "Tangible Asset Value": 6513644000,
         "Net Current Asset Value": -4773448000,
         "Invested Capital": 9616929000,
         "Average Receivables": 939269000,
         "Average Payables": 1338531500,
         "Average Inventory": 3074345000,
         "Days Sales Outstanding": 13.5706,
         "Days Payables Outstanding": 18.4802,
         "Days of Inventory on Hand": -60.0346,
         "Receivables Turnover": 27.1769,
         "Payables Turnover": 4.9289,
         "Inventory Turnover": 8.302999999999999,
         "ROE": -0.118,
         "Capex per Share": -6.9087,
         "Gross Profit Growth": 0.0007,
         "EBIT Growth": 0.2904,
         "Operating Income Growth": 0.1113,
         "Net Income Growth": 1.0043,
         "EPS Growth": 0.9167,
         "EPS Diluted Growth": 0.9167,
         "Weighted Average Shares Growth": 0.0694,
         "Weighted Average Shares Diluted Growth": "nan",
         "Dividends per Share Growth": 0,
         "Operating Cash Flow growth": -0.1434,
         "Free Cash Flow growth": -0.2691,
         "10Y Revenue Growth (per Share)": -0.0195,
         "5Y Revenue Growth (per Share)": -0.0289999999999999,
         "3Y Revenue Growth (per Share)": -0.023,
         "10Y Operating CF Growth (per Share)": 0.0513,
         "5Y Operating CF Growth (per Share)": 0.1164,
         "3Y Operating CF Growth (per Share)": 0.1777,
         "10Y Net Income Growth (per Share)": 0.048,
         "5Y Net Income Growth (per Share)": 0,
         "3Y Net Income Growth (per Share)": 0,
         "10Y Shareholders Equity Growth (per Share)": 0,
         "5Y Shareholders Equity Growth (per Share)": 0,
         "3Y Shareholders Equity Growth (per Share)": 0,
         "10Y Dividend per Share Growth (per Share)": 0,
         "5Y Dividend per Share Growth (per Share)": 0,
         "3Y Dividend per Share Growth (per Share)": 0,
         "Receivables growth": 0.0211,
         "Inventory Growth": -0.051,
         "Asset Growth": -0.0189,
         "Book Value per Share Growth": 0.1963,
         "Debt Growth": -0.0458,
         "R&D Expense Growth": 0,
         "SG&A Expenses Growth": -0.006,
         "Sector": "Consumer Defensive",
         "2015 PRICE VAR [%]": 2.7522914680574364,
         "Class": 1,
         "2016 PRICE VAR [%]": "nan",
         "2017 PRICE VAR [%]": "nan",
         "_deepnote_index_column": "RAD"
        },
        {
         "Revenue": 17909600000,
         "Revenue Growth": 0.0076,
         "Cost of Revenue": 11539800000,
         "Gross Profit": 6369800000,
         "R&D Expenses": 0,
         "SG&A Expense": 3474300000,
         "Operating Expenses": 3412400000,
         "Operating Income": 2957400000,
         "Interest Expense": 302400000,
         "Earnings before Tax": 2707700000,
         "Income Tax Expense": 883300000,
         "Net Income - Non-Controlling int": 36900000,
         "Net Income - Discontinued ops": 0,
         "Net Income": 1824400000,
         "Preferred Dividends": 0,
         "Net Income Com": 1824400000,
         "EPS": 2.9,
         "EPS Diluted": 2.83,
         "Weighted Average Shs Out": 614492206,
         "Weighted Average Shs Out (Dil)": 614492206,
         "Dividend per Share": 1.55,
         "Gross Margin": 0.3557,
         "EBITDA Margin": 0.201,
         "EBIT Margin": 0.1681,
         "Profit Margin": 0.102,
         "Free Cash Flow margin": 0.1052,
         "EBITDA": 3595500000,
         "EBIT": 3010100000,
         "Consolidated Income": 1861300000,
         "Earnings Before Tax Margin": 0.1512,
         "Net Profit Margin": 0.1019,
         "Cash and cash equivalents": 867300000,
         "Short-term investments": 0,
         "Cash and short-term investments": 867300000,
         "Receivables": 1483600000,
         "Inventories": 1559400000,
         "Total current assets": 4393500000,
         "Property, Plant & Equipment Net": 3941900000,
         "Goodwill and Intangible Assets": 13664800000,
         "Long-term investments": 0,
         "Tax assets": 74100000,
         "Total non-current assets": 18752200000,
         "Total assets": 23145700000,
         "Payables": 1611300000,
         "Short-term debt": 2362300000,
         "Total current liabilities": 5423500000,
         "Long-term debt": 6423500000,
         "Total debt": 8785800000,
         "Deferred revenue": 0,
         "Tax Liabilities": 1666000000,
         "Deposit Liabilities": 0,
         "Total non-current liabilities": 9732700000,
         "Total liabilities": 15156200000,
         "Other comprehensive income": -1340300000,
         "Retained earnings (deficit)": 11787200000,
         "Total shareholders equity": 6534800000,
         "Investments": 0,
         "Net Debt": 7918500000,
         "Other Assets": 483200000,
         "Other Liabilities": 1449900000,
         "Depreciation & Amortization": 585400000,
         "Stock-based compensation": 39200000,
         "Operating Cash Flow": 2541000000,
         "Capital Expenditure": -656900000,
         "Acquisitions and disposals": 66700000,
         "Investment purchases and sales": 29300000,
         "Investing Cash flow": -561800000,
         "Issuance (repayment) of debt": 801100000,
         "Issuance (buybacks) of shares": -1637200000,
         "Dividend payments": -983300000,
         "Financing Cash Flow": -1824100000,
         "Effect of forex changes on cash": -29200000,
         "Net cash flow / Change in cash": 125900000,
         "Free Cash Flow": 1884100000,
         "Net Cash/Marketcap": -0.2376,
         "priceBookValueRatio": 5.1004,
         "priceToBookRatio": 0,
         "priceToSalesRatio": 1.861,
         "priceEarningsRatio": 18.7034,
         "priceToFreeCashFlowsRatio": 17.6902,
         "priceToOperatingCashFlowsRatio": 13.1169,
         "priceCashFlowRatio": 10.952350202753,
         "priceEarningsToGrowthRatio": 15.254287363076,
         "priceSalesRatio": 1.5539108559206,
         "dividendYield": 0.035332474333308,
         "enterpriseValueMultiple": 9.7679660312045,
         "priceFairValue": 4.2587258776391,
         "ebitperRevenue": 0.1680718720686099,
         "ebtperEBIT": 0.89953822132155,
         "niperEBT": 0.67378217675518,
         "grossProfitMargin": 0.3556640014294,
         "operatingProfitMargin": 1,
         "pretaxProfitMargin": 0.16512931612096,
         "netProfitMargin": 0.10186715504534,
         "effectiveTaxRate": 0.32621782324482,
         "returnOnAssets": 0.6265,
         "returnOnEquity": 0.2792,
         "returnOnCapitalEmployed": 0.1041,
         "nIperEBT": 0.67378217675518,
         "eBTperEBIT": 0.89953822132155,
         "eBITperRevenue": 0.1680718720686099,
         "payablesTurnover": 2.8234,
         "inventoryTurnover": 11.5363,
         "fixedAssetTurnover": 4.5433927801314,
         "assetTurnover": 0.77377655460842,
         "currentRatio": 0.81,
         "quickRatio": 0.4334654743247,
         "cashRatio": 0.15991518392182,
         "daysOfSalesOutstanding": -49.3233,
         "daysOfInventoryOutstanding": 30.236,
         "operatingCycle": "nan",
         "daysOfPayablesOutstanding": 32.8385,
         "cashConversionCycle": "nan",
         "debtRatio": 0.3796,
         "debtEquityRatio": 1.3445,
         "longtermDebtToCapitalization": 0.49570545519088,
         "totalDebtToCapitalization": 0.5734631802932,
         "interestCoverage": 9.954,
         "cashFlowToDebtRatio": 0.28921669056887,
         "companyEquityMultiplier": 3.541914060109,
         "operatingCashFlowPerShare": 4.1351,
         "freeCashFlowPerShare": 3.624,
         "cashPerShare": 1.4114,
         "payoutRatio": 0.534,
         "operatingCashFlowSalesRatio": 0.14187921561621,
         "freeCashFlowOperatingCashFlowRatio": 0.7414797323888199,
         "cashFlowCoverageRatios": 0.28921669056887,
         "shortTermCoverageRatios": 1.0756466155865,
         "capitalExpenditureCoverageRatios": 3.8681686710306,
         "dividendpaidAndCapexCoverageRatios": 1.5492013169126,
         "dividendPayoutRatio": 0.53897171672879,
         "Revenue per Share": 29.1454,
         "Net Income per Share": 2.969,
         "Operating Cash Flow per Share": 4.1351,
         "Free Cash Flow per Share": 3.624,
         "Cash per Share": 1.4114,
         "Book Value per Share": 10.634,
         "Tangible Book Value per Share": 15.429,
         "Shareholders Equity per Share": 10.6345,
         "Interest Debt per Share": 14.2977,
         "Market Cap": 33330057253.44,
         "Enterprise Value": 41248557253.44,
         "PE ratio": 18.7034,
         "Price to Sales Ratio": 1.861,
         "POCF ratio": 13.1169,
         "PFCF ratio": 17.6902,
         "PB ratio": 5.1004,
         "PTB ratio": 0,
         "EV to Sales": 2.3032,
         "Enterprise Value over EBITDA": 11.4723,
         "EV to Operating cash flow": 16.2332,
         "EV to Free cash flow": 21.893,
         "Earnings Yield": 0.0535,
         "Free Cash Flow Yield": 0.0565,
         "Debt to Equity": 1.3445,
         "Debt to Assets": 0.3796,
         "Net Debt to EBITDA": 2.2023,
         "Current ratio": 0.81,
         "Interest Coverage": 9.954,
         "Income Quality": 1.3928,
         "Dividend Yield": 0.0286,
         "Payout Ratio": 0.534,
         "SG&A to Revenue": 0.1939999999999999,
         "R&D to Revenue": 0,
         "Intangibles to Total Assets": 0.5904,
         "Capex to Operating Cash Flow": 0.2585,
         "Capex to Revenue": 0.0367,
         "Capex to Depreciation": -1.1221,
         "Stock-based compensation to Revenue": 0.0022,
         "Graham Number": 26.3414,
         "ROIC": 0.1041,
         "Return on Tangible Assets": 0.6265,
         "Graham Net-Net": -0.3229,
         "Working Capital": -1030000000,
         "Tangible Asset Value": 9480900000,
         "Net Current Asset Value": -10762700000,
         "Invested Capital": 11975900000,
         "Average Receivables": 1465000000,
         "Average Payables": 1517250000,
         "Average Inventory": 1552450000,
         "Days Sales Outstanding": 30.236,
         "Days Payables Outstanding": 32.8385,
         "Days of Inventory on Hand": -49.3233,
         "Receivables Turnover": 12.225,
         "Payables Turnover": 2.8234,
         "Inventory Turnover": 11.5363,
         "ROE": 0.2792,
         "Capex per Share": -1.069,
         "Gross Profit Growth": -0.0084,
         "EBIT Growth": 0.0332,
         "Operating Income Growth": 0.037,
         "Net Income Growth": -0.0166,
         "EPS Growth": 0.0139999999999999,
         "EPS Diluted Growth": 0.0143,
         "Weighted Average Shares Growth": -0.0468,
         "Weighted Average Shares Diluted Growth": "nan",
         "Dividends per Share Growth": 0.1742,
         "Operating Cash Flow growth": -0.1316,
         "Free Cash Flow growth": -0.1936,
         "10Y Revenue Growth (per Share)": 0.0704,
         "5Y Revenue Growth (per Share)": 0.0567,
         "3Y Revenue Growth (per Share)": 0.0773,
         "10Y Operating CF Growth (per Share)": 0.0782,
         "5Y Operating CF Growth (per Share)": 0.0828,
         "3Y Operating CF Growth (per Share)": 0.1991,
         "10Y Net Income Growth (per Share)": 0.0776,
         "5Y Net Income Growth (per Share)": 0.0841,
         "3Y Net Income Growth (per Share)": 0.0177,
         "10Y Shareholders Equity Growth (per Share)": 0.0427,
         "5Y Shareholders Equity Growth (per Share)": 0.0623,
         "3Y Shareholders Equity Growth (per Share)": 0.0217,
         "10Y Dividend per Share Growth (per Share)": 0.1092,
         "5Y Dividend per Share Growth (per Share)": 0.125,
         "3Y Dividend per Share Growth (per Share)": 0.1144,
         "Receivables growth": 0.0257,
         "Inventory Growth": 0.009,
         "Asset Growth": 0.0215,
         "Book Value per Share Growth": 0.0274,
         "Debt Growth": 0.1025,
         "R&D Expense Growth": 0,
         "SG&A Expenses Growth": -0.022,
         "Sector": "Consumer Defensive",
         "2015 PRICE VAR [%]": 12.897715165910553,
         "Class": 1,
         "2016 PRICE VAR [%]": "nan",
         "2017 PRICE VAR [%]": "nan",
         "_deepnote_index_column": "GIS"
        }
       ]
      },
      "text/plain": "           Revenue  Revenue Growth  Cost of Revenue  Gross Profit  \\\nPG    7.440100e+10         -0.0713     3.903000e+10  3.537100e+10   \nVIPS  3.734148e+09          1.1737     2.805625e+09  9.285226e+08   \nKR    9.837500e+10          0.0182     7.813800e+10  2.023700e+10   \nRAD   2.552641e+10          0.0053     1.820268e+10  7.323734e+09   \nGIS   1.790960e+10          0.0076     1.153980e+10  6.369800e+09   \n\n      R&D Expenses  SG&A Expense  Operating Expenses  Operating Income  \\\nPG    0.000000e+00  2.146100e+10        2.146100e+10      1.391000e+10   \nVIPS  1.083303e+08  3.441414e+08        7.939267e+08      1.345959e+08   \nKR    0.000000e+00  1.519600e+10        1.751200e+10      2.725000e+09   \nRAD   0.000000e+00  6.561162e+09        6.586482e+09      7.372520e+08   \nGIS   0.000000e+00  3.474300e+09        3.412400e+09      2.957400e+09   \n\n      Interest Expense  Earnings before Tax  ...  Asset Growth  \\\nPG        7.090000e+08         1.449400e+10  ...        0.0359   \nVIPS      1.214869e+07         1.753823e+08  ...           NaN   \nKR        4.430000e+08         2.270000e+09  ...        0.1886   \nRAD       4.245910e+08         2.502180e+08  ...       -0.0189   \nGIS       3.024000e+08         2.707700e+09  ...        0.0215   \n\n      Book Value per Share Growth  Debt Growth  R&D Expense Growth  \\\nPG                         0.0316       0.1228              0.0000   \nVIPS                          NaN          NaN              1.6484   \nKR                         0.3268       0.2738              0.0000   \nRAD                        0.1963      -0.0458              0.0000   \nGIS                        0.0274       0.1025              0.0000   \n\n      SG&A Expenses Growth              Sector  2015 PRICE VAR [%]  Class  \\\nPG                 -0.1746  Consumer Defensive           -9.323276      0   \nVIPS                1.7313  Consumer Defensive          -25.512193      0   \nKR                  0.0234  Consumer Defensive           33.118297      1   \nRAD                -0.0060  Consumer Defensive            2.752291      1   \nGIS                -0.0220  Consumer Defensive           12.897715      1   \n\n      2016 PRICE VAR [%]  2017 PRICE VAR [%]  \nPG                   NaN                 NaN  \nVIPS                 NaN                 NaN  \nKR                   NaN                 NaN  \nRAD                  NaN                 NaN  \nGIS                  NaN                 NaN  \n\n[5 rows x 226 columns]",
      "text/html": "<div>\n<style scoped>\n    .dataframe tbody tr th:only-of-type {\n        vertical-align: middle;\n    }\n\n    .dataframe tbody tr th {\n        vertical-align: top;\n    }\n\n    .dataframe thead th {\n        text-align: right;\n    }\n</style>\n<table border=\"1\" class=\"dataframe\">\n  <thead>\n    <tr style=\"text-align: right;\">\n      <th></th>\n      <th>Revenue</th>\n      <th>Revenue Growth</th>\n      <th>Cost of Revenue</th>\n      <th>Gross Profit</th>\n      <th>R&amp;D Expenses</th>\n      <th>SG&amp;A Expense</th>\n      <th>Operating Expenses</th>\n      <th>Operating Income</th>\n      <th>Interest Expense</th>\n      <th>Earnings before Tax</th>\n      <th>...</th>\n      <th>Asset Growth</th>\n      <th>Book Value per Share Growth</th>\n      <th>Debt Growth</th>\n      <th>R&amp;D Expense Growth</th>\n      <th>SG&amp;A Expenses Growth</th>\n      <th>Sector</th>\n      <th>2015 PRICE VAR [%]</th>\n      <th>Class</th>\n      <th>2016 PRICE VAR [%]</th>\n      <th>2017 PRICE VAR [%]</th>\n    </tr>\n  </thead>\n  <tbody>\n    <tr>\n      <th>PG</th>\n      <td>7.440100e+10</td>\n      <td>-0.0713</td>\n      <td>3.903000e+10</td>\n      <td>3.537100e+10</td>\n      <td>0.000000e+00</td>\n      <td>2.146100e+10</td>\n      <td>2.146100e+10</td>\n      <td>1.391000e+10</td>\n      <td>7.090000e+08</td>\n      <td>1.449400e+10</td>\n      <td>...</td>\n      <td>0.0359</td>\n      <td>0.0316</td>\n      <td>0.1228</td>\n      <td>0.0000</td>\n      <td>-0.1746</td>\n      <td>Consumer Defensive</td>\n      <td>-9.323276</td>\n      <td>0</td>\n      <td>NaN</td>\n      <td>NaN</td>\n    </tr>\n    <tr>\n      <th>VIPS</th>\n      <td>3.734148e+09</td>\n      <td>1.1737</td>\n      <td>2.805625e+09</td>\n      <td>9.285226e+08</td>\n      <td>1.083303e+08</td>\n      <td>3.441414e+08</td>\n      <td>7.939267e+08</td>\n      <td>1.345959e+08</td>\n      <td>1.214869e+07</td>\n      <td>1.753823e+08</td>\n      <td>...</td>\n      <td>NaN</td>\n      <td>NaN</td>\n      <td>NaN</td>\n      <td>1.6484</td>\n      <td>1.7313</td>\n      <td>Consumer Defensive</td>\n      <td>-25.512193</td>\n      <td>0</td>\n      <td>NaN</td>\n      <td>NaN</td>\n    </tr>\n    <tr>\n      <th>KR</th>\n      <td>9.837500e+10</td>\n      <td>0.0182</td>\n      <td>7.813800e+10</td>\n      <td>2.023700e+10</td>\n      <td>0.000000e+00</td>\n      <td>1.519600e+10</td>\n      <td>1.751200e+10</td>\n      <td>2.725000e+09</td>\n      <td>4.430000e+08</td>\n      <td>2.270000e+09</td>\n      <td>...</td>\n      <td>0.1886</td>\n      <td>0.3268</td>\n      <td>0.2738</td>\n      <td>0.0000</td>\n      <td>0.0234</td>\n      <td>Consumer Defensive</td>\n      <td>33.118297</td>\n      <td>1</td>\n      <td>NaN</td>\n      <td>NaN</td>\n    </tr>\n    <tr>\n      <th>RAD</th>\n      <td>2.552641e+10</td>\n      <td>0.0053</td>\n      <td>1.820268e+10</td>\n      <td>7.323734e+09</td>\n      <td>0.000000e+00</td>\n      <td>6.561162e+09</td>\n      <td>6.586482e+09</td>\n      <td>7.372520e+08</td>\n      <td>4.245910e+08</td>\n      <td>2.502180e+08</td>\n      <td>...</td>\n      <td>-0.0189</td>\n      <td>0.1963</td>\n      <td>-0.0458</td>\n      <td>0.0000</td>\n      <td>-0.0060</td>\n      <td>Consumer Defensive</td>\n      <td>2.752291</td>\n      <td>1</td>\n      <td>NaN</td>\n      <td>NaN</td>\n    </tr>\n    <tr>\n      <th>GIS</th>\n      <td>1.790960e+10</td>\n      <td>0.0076</td>\n      <td>1.153980e+10</td>\n      <td>6.369800e+09</td>\n      <td>0.000000e+00</td>\n      <td>3.474300e+09</td>\n      <td>3.412400e+09</td>\n      <td>2.957400e+09</td>\n      <td>3.024000e+08</td>\n      <td>2.707700e+09</td>\n      <td>...</td>\n      <td>0.0215</td>\n      <td>0.0274</td>\n      <td>0.1025</td>\n      <td>0.0000</td>\n      <td>-0.0220</td>\n      <td>Consumer Defensive</td>\n      <td>12.897715</td>\n      <td>1</td>\n      <td>NaN</td>\n      <td>NaN</td>\n    </tr>\n  </tbody>\n</table>\n<p>5 rows × 226 columns</p>\n</div>"
     },
     "metadata": {}
    }
   ],
   "execution_count": null
  },
  {
   "cell_type": "markdown",
   "source": "# Data Pre-processing",
   "metadata": {
    "cell_id": "ae43e05ad52d426a99e536d8023ec6f6",
    "tags": [],
    "deepnote_to_be_reexecuted": false,
    "source_hash": "b297ebbd",
    "execution_start": 1649409344641,
    "execution_millis": 0,
    "deepnote_cell_type": "markdown",
    "deepnote_cell_height": 82
   }
  },
  {
   "cell_type": "code",
   "metadata": {
    "cell_id": "2d896274df9846959f0a9bc0184984df",
    "tags": [],
    "deepnote_to_be_reexecuted": false,
    "source_hash": "a1b2ff24",
    "execution_start": 1650458581926,
    "execution_millis": 168469,
    "owner_user_id": "e4f9d466-7d33-494a-b305-2dbfec355fdc",
    "deepnote_cell_type": "code",
    "deepnote_cell_height": 171
   },
   "source": "# Define label\ny = data['Class']\n\n# Define featuers\n# NOTE: Drop '2015 PRICE VAR [%]' because it is directly related to the Class and it is only valid a posteriori\nX = data.drop(['Class', 'Sector', '2015 PRICE VAR [%]'], axis=1)",
   "outputs": [],
   "execution_count": null
  },
  {
   "cell_type": "markdown",
   "source": "## Check Data Distribution",
   "metadata": {
    "cell_id": "24108aec159e4ad0b335dfa565e2fca6",
    "tags": [],
    "deepnote_cell_type": "markdown",
    "deepnote_cell_height": 70
   }
  },
  {
   "cell_type": "code",
   "metadata": {
    "cell_id": "2c747f7030c848a0a87d99f47b267cd6",
    "tags": [],
    "deepnote_to_be_reexecuted": false,
    "source_hash": "ac521a87",
    "execution_start": 1650458581988,
    "execution_millis": 806,
    "deepnote_cell_type": "code",
    "deepnote_cell_height": 618
   },
   "source": "# Check X feature distribution\nX.describe().transpose()",
   "outputs": [
    {
     "output_type": "execute_result",
     "execution_count": 7,
     "data": {
      "application/vnd.deepnote.dataframe.v3+json": {
       "column_count": 8,
       "row_count": 223,
       "columns": [
        {
         "name": "count",
         "dtype": "float64",
         "stats": {
          "unique_count": 166,
          "nan_count": 0,
          "min": "8.0",
          "max": "12242.0",
          "histogram": [
           {
            "bin_start": 8,
            "bin_end": 1231.4,
            "count": 2
           },
           {
            "bin_start": 1231.4,
            "bin_end": 2454.8,
            "count": 0
           },
           {
            "bin_start": 2454.8,
            "bin_end": 3678.2000000000003,
            "count": 0
           },
           {
            "bin_start": 3678.2000000000003,
            "bin_end": 4901.6,
            "count": 2
           },
           {
            "bin_start": 4901.6,
            "bin_end": 6125,
            "count": 0
           },
           {
            "bin_start": 6125,
            "bin_end": 7348.400000000001,
            "count": 5
           },
           {
            "bin_start": 7348.400000000001,
            "bin_end": 8571.800000000001,
            "count": 11
           },
           {
            "bin_start": 8571.800000000001,
            "bin_end": 9795.2,
            "count": 22
           },
           {
            "bin_start": 9795.2,
            "bin_end": 11018.6,
            "count": 28
           },
           {
            "bin_start": 11018.6,
            "bin_end": 12242,
            "count": 153
           }
          ]
         }
        },
        {
         "name": "mean",
         "dtype": "float64",
         "stats": {
          "unique_count": 213,
          "nan_count": 0,
          "min": "-700832577845.4966",
          "max": "5893427191964.765",
          "histogram": [
           {
            "bin_start": -700832577845.4966,
            "bin_end": -41406600864.47046,
            "count": 2
           },
           {
            "bin_start": -41406600864.47046,
            "bin_end": 618019376116.5557,
            "count": 218
           },
           {
            "bin_start": 618019376116.5557,
            "bin_end": 1277445353097.5818,
            "count": 2
           },
           {
            "bin_start": 1277445353097.5818,
            "bin_end": 1936871330078.608,
            "count": 0
           },
           {
            "bin_start": 1936871330078.608,
            "bin_end": 2596297307059.6343,
            "count": 0
           },
           {
            "bin_start": 2596297307059.6343,
            "bin_end": 3255723284040.66,
            "count": 0
           },
           {
            "bin_start": 3255723284040.66,
            "bin_end": 3915149261021.686,
            "count": 0
           },
           {
            "bin_start": 3915149261021.686,
            "bin_end": 4574575238002.713,
            "count": 0
           },
           {
            "bin_start": 4574575238002.713,
            "bin_end": 5234001214983.738,
            "count": 0
           },
           {
            "bin_start": 5234001214983.738,
            "bin_end": 5893427191964.765,
            "count": 1
           }
          ]
         }
        },
        {
         "name": "std",
         "dtype": "float64",
         "stats": {
          "unique_count": 213,
          "nan_count": 0,
          "min": "0.0",
          "max": "567181047550562.6",
          "histogram": [
           {
            "bin_start": 0,
            "bin_end": 56718104755056.266,
            "count": 219
           },
           {
            "bin_start": 56718104755056.266,
            "bin_end": 113436209510112.53,
            "count": 2
           },
           {
            "bin_start": 113436209510112.53,
            "bin_end": 170154314265168.8,
            "count": 1
           },
           {
            "bin_start": 170154314265168.8,
            "bin_end": 226872419020225.06,
            "count": 0
           },
           {
            "bin_start": 226872419020225.06,
            "bin_end": 283590523775281.3,
            "count": 0
           },
           {
            "bin_start": 283590523775281.3,
            "bin_end": 340308628530337.6,
            "count": 0
           },
           {
            "bin_start": 340308628530337.6,
            "bin_end": 397026733285393.9,
            "count": 0
           },
           {
            "bin_start": 397026733285393.9,
            "bin_end": 453744838040450.1,
            "count": 0
           },
           {
            "bin_start": 453744838040450.1,
            "bin_end": 510462942795506.4,
            "count": 0
           },
           {
            "bin_start": 510462942795506.4,
            "bin_end": 567181047550562.6,
            "count": 1
           }
          ]
         }
        },
        {
         "name": "min",
         "dtype": "float64",
         "stats": {
          "unique_count": 137,
          "nan_count": 0,
          "min": "-8262879827869730.0",
          "max": "99.9034",
          "histogram": [
           {
            "bin_start": -8262879827869730,
            "bin_end": -7436591845082747,
            "count": 1
           },
           {
            "bin_start": -7436591845082747,
            "bin_end": -6610303862295764,
            "count": 0
           },
           {
            "bin_start": -6610303862295764,
            "bin_end": -5784015879508781,
            "count": 0
           },
           {
            "bin_start": -5784015879508781,
            "bin_end": -4957727896721798,
            "count": 0
           },
           {
            "bin_start": -4957727896721798,
            "bin_end": -4131439913934815,
            "count": 1
           },
           {
            "bin_start": -4131439913934815,
            "bin_end": -3305151931147832,
            "count": 0
           },
           {
            "bin_start": -3305151931147832,
            "bin_end": -2478863948360849,
            "count": 0
           },
           {
            "bin_start": -2478863948360849,
            "bin_end": -1652575965573866,
            "count": 0
           },
           {
            "bin_start": -1652575965573866,
            "bin_end": -826287982786883,
            "count": 0
           },
           {
            "bin_start": -826287982786883,
            "bin_end": 99.9034,
            "count": 221
           }
          ]
         }
        },
        {
         "name": "25%",
         "dtype": "float64",
         "stats": {
          "unique_count": 166,
          "nan_count": 0,
          "min": "-1381116000.0",
          "max": "215129526.7",
          "histogram": [
           {
            "bin_start": -1381116000,
            "bin_end": -1221491447.33,
            "count": 1
           },
           {
            "bin_start": -1221491447.33,
            "bin_end": -1061866894.66,
            "count": 0
           },
           {
            "bin_start": -1061866894.66,
            "bin_end": -902242341.99,
            "count": 0
           },
           {
            "bin_start": -902242341.99,
            "bin_end": -742617789.3199999,
            "count": 0
           },
           {
            "bin_start": -742617789.3199999,
            "bin_end": -582993236.6499999,
            "count": 0
           },
           {
            "bin_start": -582993236.6499999,
            "bin_end": -423368683.9799999,
            "count": 0
           },
           {
            "bin_start": -423368683.9799999,
            "bin_end": -263744131.30999994,
            "count": 1
           },
           {
            "bin_start": -263744131.30999994,
            "bin_end": -104119578.63999987,
            "count": 1
           },
           {
            "bin_start": -104119578.63999987,
            "bin_end": 55504974.03000021,
            "count": 211
           },
           {
            "bin_start": 55504974.03000021,
            "bin_end": 215129526.7,
            "count": 9
           }
          ]
         }
        },
        {
         "name": "50%",
         "dtype": "float64",
         "stats": {
          "unique_count": 177,
          "nan_count": 0,
          "min": "-63618000.0",
          "max": "1134530115.49",
          "histogram": [
           {
            "bin_start": -63618000,
            "bin_end": 56196811.548999995,
            "count": 199
           },
           {
            "bin_start": 56196811.548999995,
            "bin_end": 176011623.098,
            "count": 12
           },
           {
            "bin_start": 176011623.098,
            "bin_end": 295826434.64699996,
            "count": 3
           },
           {
            "bin_start": 295826434.64699996,
            "bin_end": 415641246.196,
            "count": 3
           },
           {
            "bin_start": 415641246.196,
            "bin_end": 535456057.745,
            "count": 0
           },
           {
            "bin_start": 535456057.745,
            "bin_end": 655270869.2939999,
            "count": 1
           },
           {
            "bin_start": 655270869.2939999,
            "bin_end": 775085680.8429999,
            "count": 0
           },
           {
            "bin_start": 775085680.8429999,
            "bin_end": 894900492.392,
            "count": 3
           },
           {
            "bin_start": 894900492.392,
            "bin_end": 1014715303.941,
            "count": 0
           },
           {
            "bin_start": 1014715303.941,
            "bin_end": 1134530115.49,
            "count": 2
           }
          ]
         }
        },
        {
         "name": "75%",
         "dtype": "float64",
         "stats": {
          "unique_count": 197,
          "nan_count": 0,
          "min": "-2191433.25",
          "max": "5011460000.0",
          "histogram": [
           {
            "bin_start": -2191433.25,
            "bin_end": 499173710.075,
            "count": 203
           },
           {
            "bin_start": 499173710.075,
            "bin_end": 1000538853.4,
            "count": 6
           },
           {
            "bin_start": 1000538853.4,
            "bin_end": 1501903996.725,
            "count": 5
           },
           {
            "bin_start": 1501903996.725,
            "bin_end": 2003269140.05,
            "count": 1
           },
           {
            "bin_start": 2003269140.05,
            "bin_end": 2504634283.375,
            "count": 2
           },
           {
            "bin_start": 2504634283.375,
            "bin_end": 3005999426.7,
            "count": 0
           },
           {
            "bin_start": 3005999426.7,
            "bin_end": 3507364570.025,
            "count": 1
           },
           {
            "bin_start": 3507364570.025,
            "bin_end": 4008729713.35,
            "count": 2
           },
           {
            "bin_start": 4008729713.35,
            "bin_end": 4510094856.675,
            "count": 1
           },
           {
            "bin_start": 4510094856.675,
            "bin_end": 5011460000,
            "count": 2
           }
          ]
         }
        },
        {
         "name": "max",
         "dtype": "float64",
         "stats": {
          "unique_count": 186,
          "nan_count": 0,
          "min": "0.0",
          "max": "5.463811946673651e+16",
          "histogram": [
           {
            "bin_start": 0,
            "bin_end": 5463811946673651,
            "count": 220
           },
           {
            "bin_start": 5463811946673651,
            "bin_end": 10927623893347302,
            "count": 1
           },
           {
            "bin_start": 10927623893347302,
            "bin_end": 16391435840020952,
            "count": 1
           },
           {
            "bin_start": 16391435840020952,
            "bin_end": 21855247786694604,
            "count": 0
           },
           {
            "bin_start": 21855247786694604,
            "bin_end": 27319059733368256,
            "count": 0
           },
           {
            "bin_start": 27319059733368256,
            "bin_end": 32782871680041904,
            "count": 0
           },
           {
            "bin_start": 32782871680041904,
            "bin_end": 38246683626715560,
            "count": 0
           },
           {
            "bin_start": 38246683626715560,
            "bin_end": 43710495573389210,
            "count": 0
           },
           {
            "bin_start": 43710495573389210,
            "bin_end": 49174307520062856,
            "count": 0
           },
           {
            "bin_start": 49174307520062856,
            "bin_end": 54638119466736510,
            "count": 1
           }
          ]
         }
        },
        {
         "name": "_deepnote_index_column",
         "dtype": "object"
        }
       ],
       "rows": [
        {
         "count": 12125,
         "mean": 5204594477.064705,
         "std": 35350098062.29781,
         "min": -627616000,
         "25%": 55810000,
         "50%": 415078000,
         "75%": 2226271000,
         "max": 1886894000000,
         "_deepnote_index_column": "Revenue"
        },
        {
         "count": 11500,
         "mean": 4.667105191304348,
         "std": 394.5139893570622,
         "min": -12.7693,
         "25%": -0.0343,
         "50%": 0.0435,
         "75%": 0.1691,
         "max": 42138.6639,
         "_deepnote_index_column": "Revenue Growth"
        },
        {
         "count": 11818,
         "mean": 3307229224.027563,
         "std": 28582905764.786575,
         "min": -2665345797.5986,
         "25%": 2865317.499525,
         "50%": 142208657.5,
         "75%": 1155679250,
         "max": 1581527000000,
         "_deepnote_index_column": "Cost of Revenue"
        },
        {
         "count": 12116,
         "mean": 1957374872.76499,
         "std": 9354688289.380342,
         "min": -12808000000,
         "25%": 28368500,
         "50%": 182353000,
         "75%": 843000000,
         "max": 462160000000,
         "_deepnote_index_column": "Gross Profit"
        },
        {
         "count": 11611,
         "mean": 97062957.17782986,
         "std": 686461783.0831267,
         "min": -86100000,
         "25%": 0,
         "50%": 0,
         "75%": 11113000,
         "max": 16085000000,
         "_deepnote_index_column": "R&D Expenses"
        },
        {
         "count": 11883,
         "mean": 865103684.0987631,
         "std": 3950041701.7149367,
         "min": -52077922.0779,
         "25%": 16374500,
         "50%": 75356000,
         "75%": 351751500,
         "max": 185683000000,
         "_deepnote_index_column": "SG&A Expense"
        },
        {
         "count": 11868,
         "mean": 1358493710.0869074,
         "std": 5862397136.287113,
         "min": -5495511687.9934,
         "25%": 33024000,
         "50%": 145540000,
         "75%": 598704500,
         "max": 305605000000,
         "_deepnote_index_column": "Operating Expenses"
        },
        {
         "count": 12163,
         "mean": 564901912.8658208,
         "std": 3053029586.42722,
         "min": -19339000000,
         "25%": -4119500,
         "50%": 33209000,
         "75%": 241975500,
         "max": 156554000000,
         "_deepnote_index_column": "Operating Income"
        },
        {
         "count": 11867,
         "mean": 96298901.42126964,
         "std": 560721377.4257302,
         "min": -1710953646.2947,
         "25%": 0,
         "50%": 2900000,
         "75%": 44798500,
         "max": 31523000000,
         "_deepnote_index_column": "Interest Expense"
        },
        {
         "count": 12011,
         "mean": 466984771.0854897,
         "std": 2469837964.554889,
         "min": -19109000000,
         "25%": -8131500,
         "50%": 22637000,
         "75%": 183313000,
         "max": 87205000000,
         "_deepnote_index_column": "Earnings before Tax"
        }
       ]
      },
      "text/plain": "                        count          mean           std           min  \\\nRevenue               12125.0  5.204594e+09  3.535010e+10 -6.276160e+08   \nRevenue Growth        11500.0  4.667105e+00  3.945140e+02 -1.276930e+01   \nCost of Revenue       11818.0  3.307229e+09  2.858291e+10 -2.665346e+09   \nGross Profit          12116.0  1.957375e+09  9.354688e+09 -1.280800e+10   \nR&D Expenses          11611.0  9.706296e+07  6.864618e+08 -8.610000e+07   \n...                       ...           ...           ...           ...   \nDebt Growth           11228.0  2.288833e+00  6.274580e+01 -1.051000e+00   \nR&D Expense Growth    11355.0  3.377717e-01  1.501652e+01 -2.662200e+00   \nSG&A Expenses Growth  11379.0  3.133546e-01  4.694965e+00 -2.099000e+00   \n2016 PRICE VAR [%]     4120.0  1.030776e+02  3.756531e+03 -9.994783e+01   \n2017 PRICE VAR [%]     4797.0  3.650260e+02  1.940149e+04 -9.999941e+01   \n\n                               25%           50%           75%           max  \nRevenue               5.581000e+07  4.150780e+08  2.226271e+09  1.886894e+12  \nRevenue Growth       -3.430000e-02  4.350000e-02  1.691000e-01  4.213866e+04  \nCost of Revenue       2.865317e+06  1.422087e+08  1.155679e+09  1.581527e+12  \nGross Profit          2.836850e+07  1.823530e+08  8.430000e+08  4.621600e+11  \nR&D Expenses          0.000000e+00  0.000000e+00  1.111300e+07  1.608500e+10  \n...                            ...           ...           ...           ...  \nDebt Growth          -6.440000e-02  0.000000e+00  1.637000e-01  5.443000e+03  \nR&D Expense Growth    0.000000e+00  0.000000e+00  0.000000e+00  1.542611e+03  \nSG&A Expenses Growth -2.220000e-02  5.650000e-02  1.947000e-01  3.249268e+02  \n2016 PRICE VAR [%]   -5.172844e+00  1.727893e+01  4.056798e+01  2.127000e+05  \n2017 PRICE VAR [%]   -6.730768e+00  1.090686e+01  3.155634e+01  1.321281e+06  \n\n[223 rows x 8 columns]",
      "text/html": "<div>\n<style scoped>\n    .dataframe tbody tr th:only-of-type {\n        vertical-align: middle;\n    }\n\n    .dataframe tbody tr th {\n        vertical-align: top;\n    }\n\n    .dataframe thead th {\n        text-align: right;\n    }\n</style>\n<table border=\"1\" class=\"dataframe\">\n  <thead>\n    <tr style=\"text-align: right;\">\n      <th></th>\n      <th>count</th>\n      <th>mean</th>\n      <th>std</th>\n      <th>min</th>\n      <th>25%</th>\n      <th>50%</th>\n      <th>75%</th>\n      <th>max</th>\n    </tr>\n  </thead>\n  <tbody>\n    <tr>\n      <th>Revenue</th>\n      <td>12125.0</td>\n      <td>5.204594e+09</td>\n      <td>3.535010e+10</td>\n      <td>-6.276160e+08</td>\n      <td>5.581000e+07</td>\n      <td>4.150780e+08</td>\n      <td>2.226271e+09</td>\n      <td>1.886894e+12</td>\n    </tr>\n    <tr>\n      <th>Revenue Growth</th>\n      <td>11500.0</td>\n      <td>4.667105e+00</td>\n      <td>3.945140e+02</td>\n      <td>-1.276930e+01</td>\n      <td>-3.430000e-02</td>\n      <td>4.350000e-02</td>\n      <td>1.691000e-01</td>\n      <td>4.213866e+04</td>\n    </tr>\n    <tr>\n      <th>Cost of Revenue</th>\n      <td>11818.0</td>\n      <td>3.307229e+09</td>\n      <td>2.858291e+10</td>\n      <td>-2.665346e+09</td>\n      <td>2.865317e+06</td>\n      <td>1.422087e+08</td>\n      <td>1.155679e+09</td>\n      <td>1.581527e+12</td>\n    </tr>\n    <tr>\n      <th>Gross Profit</th>\n      <td>12116.0</td>\n      <td>1.957375e+09</td>\n      <td>9.354688e+09</td>\n      <td>-1.280800e+10</td>\n      <td>2.836850e+07</td>\n      <td>1.823530e+08</td>\n      <td>8.430000e+08</td>\n      <td>4.621600e+11</td>\n    </tr>\n    <tr>\n      <th>R&amp;D Expenses</th>\n      <td>11611.0</td>\n      <td>9.706296e+07</td>\n      <td>6.864618e+08</td>\n      <td>-8.610000e+07</td>\n      <td>0.000000e+00</td>\n      <td>0.000000e+00</td>\n      <td>1.111300e+07</td>\n      <td>1.608500e+10</td>\n    </tr>\n    <tr>\n      <th>...</th>\n      <td>...</td>\n      <td>...</td>\n      <td>...</td>\n      <td>...</td>\n      <td>...</td>\n      <td>...</td>\n      <td>...</td>\n      <td>...</td>\n    </tr>\n    <tr>\n      <th>Debt Growth</th>\n      <td>11228.0</td>\n      <td>2.288833e+00</td>\n      <td>6.274580e+01</td>\n      <td>-1.051000e+00</td>\n      <td>-6.440000e-02</td>\n      <td>0.000000e+00</td>\n      <td>1.637000e-01</td>\n      <td>5.443000e+03</td>\n    </tr>\n    <tr>\n      <th>R&amp;D Expense Growth</th>\n      <td>11355.0</td>\n      <td>3.377717e-01</td>\n      <td>1.501652e+01</td>\n      <td>-2.662200e+00</td>\n      <td>0.000000e+00</td>\n      <td>0.000000e+00</td>\n      <td>0.000000e+00</td>\n      <td>1.542611e+03</td>\n    </tr>\n    <tr>\n      <th>SG&amp;A Expenses Growth</th>\n      <td>11379.0</td>\n      <td>3.133546e-01</td>\n      <td>4.694965e+00</td>\n      <td>-2.099000e+00</td>\n      <td>-2.220000e-02</td>\n      <td>5.650000e-02</td>\n      <td>1.947000e-01</td>\n      <td>3.249268e+02</td>\n    </tr>\n    <tr>\n      <th>2016 PRICE VAR [%]</th>\n      <td>4120.0</td>\n      <td>1.030776e+02</td>\n      <td>3.756531e+03</td>\n      <td>-9.994783e+01</td>\n      <td>-5.172844e+00</td>\n      <td>1.727893e+01</td>\n      <td>4.056798e+01</td>\n      <td>2.127000e+05</td>\n    </tr>\n    <tr>\n      <th>2017 PRICE VAR [%]</th>\n      <td>4797.0</td>\n      <td>3.650260e+02</td>\n      <td>1.940149e+04</td>\n      <td>-9.999941e+01</td>\n      <td>-6.730768e+00</td>\n      <td>1.090686e+01</td>\n      <td>3.155634e+01</td>\n      <td>1.321281e+06</td>\n    </tr>\n  </tbody>\n</table>\n<p>223 rows × 8 columns</p>\n</div>"
     },
     "metadata": {}
    }
   ],
   "execution_count": null
  },
  {
   "cell_type": "code",
   "metadata": {
    "cell_id": "796b879bf8a7405a8272f94f6f077699",
    "tags": [],
    "deepnote_to_be_reexecuted": false,
    "source_hash": "87cefb0d",
    "execution_start": 1650458582800,
    "execution_millis": 1636,
    "deepnote_cell_type": "code",
    "deepnote_cell_height": 732,
    "deepnote_output_heights": [
     527
    ]
   },
   "source": "# Check 'Class' distribution\nfigure = ex.histogram(data_frame=y, \n                        x='Class', \n                        title='Class Distribution', \n                        histnorm='percent', \n                        nbins=len(np.unique(y.values)))\nfigure.show()",
   "outputs": [
    {
     "data": {
      "text/html": "<html>\n<head><meta charset=\"utf-8\" /></head>\n<body>\n    <div>            <script src=\"https://cdnjs.cloudflare.com/ajax/libs/mathjax/2.7.5/MathJax.js?config=TeX-AMS-MML_SVG\"></script><script type=\"text/javascript\">if (window.MathJax) {MathJax.Hub.Config({SVG: {font: \"STIX-Web\"}});}</script>                <script type=\"text/javascript\">window.PlotlyConfig = {MathJaxConfig: 'local'};</script>\n        <script src=\"https://cdn.plot.ly/plotly-2.9.0.min.js\"></script>                <div id=\"02f78d79-e35d-4d3d-9fbd-72c9b1cc13ea\" class=\"plotly-graph-div\" style=\"height:525px; width:100%;\"></div>            <script type=\"text/javascript\">                                    window.PLOTLYENV=window.PLOTLYENV || {};                                    if (document.getElementById(\"02f78d79-e35d-4d3d-9fbd-72c9b1cc13ea\")) {                    Plotly.newPlot(                        \"02f78d79-e35d-4d3d-9fbd-72c9b1cc13ea\",                        [{\"alignmentgroup\":\"True\",\"bingroup\":\"x\",\"histnorm\":\"percent\",\"hovertemplate\":\"Class=%{x}<br>percent=%{y}<extra></extra>\",\"legendgroup\":\"\",\"marker\":{\"color\":\"#636efa\",\"pattern\":{\"shape\":\"\"}},\"name\":\"\",\"nbinsx\":2,\"offsetgroup\":\"\",\"orientation\":\"v\",\"showlegend\":false,\"x\":[0,0,1,1,1,1,1,0,1,1,0,1,0,1,1,1,1,0,1,1,1,1,1,1,1,0,0,1,1,1,1,0,1,0,1,0,0,1,1,1,0,1,0,0,1,1,1,0,1,1,1,1,1,1,0,0,1,1,0,1,0,1,1,1,0,1,0,0,0,0,1,0,1,0,1,0,0,1,1,1,1,1,1,1,0,0,1,0,1,1,0,0,0,0,1,1,0,0,0,0,0,0,1,0,1,0,1,0,1,0,1,0,1,1,0,0,0,0,1,1,0,0,1,0,0,0,1,1,1,1,1,1,1,1,1,1,1,0,0,0,0,1,1,0,0,1,0,0,1,0,0,1,0,0,0,1,0,0,0,0,0,1,0,0,1,0,0,0,0,0,0,0,0,0,0,0,0,0,0,0,0,0,0,0,0,0,1,0,0,0,0,0,0,0,0,0,1,0,0,0,0,0,0,0,1,1,1,1,0,0,0,0,1,0,0,0,0,1,0,0,0,0,0,0,0,0,0,1,0,0,0,0,1,0,0,1,1,1,0,0,0,0,0,1,0,0,0,1,0,0,0,0,0,0,0,0,0,0,0,0,0,0,0,0,0,0,1,0,1,0,0,0,1,1,1,0,0,1,0,0,0,1,0,1,0,0,0,0,1,0,0,0,0,1,0,1,0,0,0,0,0,0,0,0,1,1,0,0,0,0,0,1,1,0,1,0,0,0,0,0,0,1,0,0,1,1,0,0,0,0,1,1,0,0,0,0,0,0,0,0,0,0,0,0,0,1,0,1,0,0,0,0,1,1,1,1,0,0,1,0,1,0,0,1,0,0,0,0,0,1,0,0,1,0,0,1,0,1,0,0,0,1,0,0,0,0,0,0,0,0,0,1,0,0,1,0,1,0,0,0,0,0,0,0,0,0,0,1,1,1,1,0,0,1,1,1,1,0,1,1,1,1,1,1,1,0,1,1,0,1,0,1,0,1,0,1,0,0,1,0,0,0,1,1,1,0,1,0,1,1,1,0,0,0,1,0,1,0,1,1,1,0,1,1,0,1,0,1,1,1,1,0,0,1,0,1,1,1,1,1,1,1,1,1,0,1,0,1,0,0,1,1,0,0,1,1,0,1,1,1,0,1,0,1,0,1,0,1,1,0,1,0,0,1,0,1,1,0,0,0,1,0,0,0,0,1,1,0,0,0,0,1,0,1,1,1,0,1,1,0,1,0,1,1,1,0,0,1,0,0,0,1,1,1,0,0,0,1,0,0,1,1,1,1,0,0,0,1,1,0,1,0,0,1,1,1,1,1,0,0,1,1,0,0,0,0,1,1,0,1,0,0,1,0,0,0,1,0,0,1,0,1,1,1,1,1,1,0,1,0,1,0,1,1,0,0,0,1,1,0,0,0,0,0,1,1,1,1,0,1,0,1,1,1,0,0,1,0,1,0,0,0,1,0,1,1,0,0,0,1,1,1,0,1,0,0,0,0,0,1,0,1,1,1,1,0,0,0,1,0,0,0,1,0,1,1,0,0,0,1,1,0,1,0,1,1,1,0,1,1,1,0,0,1,0,0,1,1,1,1,0,1,0,0,0,0,0,1,1,0,0,1,1,0,1,1,0,1,0,0,1,1,1,1,0,0,0,1,1,1,0,0,0,0,0,1,0,0,1,1,0,0,1,0,0,1,0,1,1,0,0,1,1,1,1,1,0,1,1,0,0,0,1,1,0,1,0,0,1,1,0,0,1,0,1,0,0,0,0,0,1,1,0,1,0,0,0,0,0,0,1,1,0,0,1,0,1,1,1,1,0,0,1,0,0,0,0,0,0,1,0,0,0,0,0,0,0,0,1,0,1,1,0,0,0,0,1,1,1,0,0,0,0,1,0,1,1,0,0,0,1,0,0,0,1,0,1,0,0,0,1,0,1,0,0,0,0,0,1,1,0,0,0,0,1,0,0,1,0,1,0,1,0,0,1,0,0,1,0,1,0,1,1,0,0,0,0,0,1,0,1,0,1,0,1,0,0,1,1,0,0,1,0,0,1,1,0,0,1,0,1,0,0,0,1,0,0,1,0,0,0,0,0,0,0,0,1,1,0,0,0,0,0,0,0,0,0,1,1,0,0,0,0,0,0,0,0,0,0,0,0,0,0,0,0,1,1,0,1,0,1,0,1,0,0,0,1,0,0,0,1,0,0,0,0,0,1,0,0,1,1,0,0,1,1,0,0,0,0,1,1,0,0,1,0,1,1,0,0,1,1,1,1,0,1,0,0,0,0,0,0,1,0,1,1,0,1,1,1,1,1,0,1,0,1,0,1,1,0,1,1,1,0,0,1,0,1,0,1,0,0,0,0,1,0,1,1,1,0,0,1,0,0,0,0,0,1,0,1,1,1,1,1,1,0,1,0,0,0,0,0,1,1,0,0,0,1,0,0,1,1,1,1,1,0,1,1,0,0,0,0,1,0,0,0,0,0,0,0,1,0,0,1,0,0,0,0,1,0,0,1,0,1,1,1,1,1,1,0,1,1,0,0,1,1,1,0,1,1,1,0,0,0,1,0,0,0,0,0,1,0,0,0,0,0,1,1,1,0,1,0,1,1,0,1,0,0,1,1,0,0,0,0,0,0,0,1,0,0,1,0,0,0,0,1,0,0,0,0,0,1,1,1,1,0,1,0,1,1,0,0,0,0,0,0,0,0,1,1,0,0,0,1,0,1,0,1,1,1,0,1,0,1,1,1,0,0,0,1,0,0,0,1,1,0,0,0,0,1,1,0,0,1,1,0,0,0,0,1,1,0,0,0,1,0,1,1,0,0,1,0,0,1,0,1,0,1,0,1,0,0,1,1,1,0,0,0,0,0,0,0,0,0,0,0,0,0,1,0,0,0,1,1,1,1,0,0,0,0,1,0,1,0,0,0,1,0,0,1,1,0,0,0,1,1,1,0,0,0,1,0,0,0,1,0,0,0,1,0,1,1,0,0,1,1,1,1,1,1,0,1,0,1,0,0,1,1,0,0,0,1,0,1,0,1,0,1,1,0,0,0,1,0,1,0,0,1,1,0,0,0,0,0,0,0,1,1,0,0,0,0,0,1,1,1,1,0,0,0,1,1,0,0,0,1,0,1,1,1,0,0,0,0,0,0,1,0,0,0,0,0,0,1,0,0,0,1,1,0,0,0,0,0,0,0,0,0,0,1,1,0,0,0,0,0,1,0,0,0,0,1,0,0,1,0,0,0,0,0,0,1,1,1,0,1,1,1,1,1,1,0,1,1,0,1,0,0,0,0,0,0,0,1,1,0,0,1,1,0,0,1,1,0,1,0,0,1,0,0,1,0,0,0,0,1,0,0,0,0,1,1,0,1,0,0,0,1,0,0,0,0,0,0,0,1,0,1,0,0,1,0,0,1,0,1,0,0,1,1,1,0,0,0,0,0,1,1,1,0,1,0,0,1,1,0,0,1,0,1,0,0,1,0,0,0,0,0,1,1,1,1,0,0,0,1,0,1,1,0,0,0,0,0,1,0,0,1,1,0,0,0,0,0,0,0,1,0,0,1,0,0,0,1,1,0,0,0,1,0,0,0,1,0,1,0,1,0,0,0,1,1,0,0,1,0,0,0,0,1,0,0,1,0,0,0,0,1,0,1,0,0,0,0,0,1,0,0,0,0,1,1,0,1,1,0,0,1,0,1,1,0,1,0,0,0,0,0,1,0,0,1,0,0,0,0,0,0,0,1,0,0,0,0,0,0,1,1,0,0,0,0,1,1,0,1,0,0,0,0,0,0,0,0,0,0,1,1,0,0,0,0,0,1,1,1,0,0,0,0,0,1,1,0,0,1,0,1,1,1,0,1,0,0,0,0,1,1,0,0,0,0,1,0,0,0,0,0,0,0,0,0,1,0,0,0,0,1,0,1,1,0,1,0,0,0,0,1,1,0,0,1,1,0,0,0,0,0,0,1,1,0,1,0,1,1,0,0,0,1,0,1,0,1,1,1,0,0,1,1,1,0,1,0,0,0,0,0,1,1,0,0,1,1,0,0,1,0,0,0,1,0,0,0,0,1,0,0,0,1,0,0,0,0,1,1,1,0,0,1,0,0,0,0,0,1,0,1,1,0,0,0,0,0,0,0,1,0,0,0,0,0,0,1,0,1,0,0,0,1,0,0,0,1,0,0,1,0,0,0,1,0,1,0,0,0,0,0,0,0,0,0,1,1,0,0,0,1,0,0,0,0,0,0,1,0,0,0,0,0,0,0,1,0,0,1,0,0,0,0,1,1,0,0,0,1,0,1,0,1,0,0,1,0,0,1,1,0,0,1,1,0,0,0,0,0,0,0,0,0,0,0,1,0,0,0,0,0,1,0,1,1,1,1,0,1,0,1,0,1,0,1,1,0,0,0,1,0,0,1,0,0,1,0,1,1,0,0,1,1,1,0,0,1,1,1,1,0,0,0,1,0,0,0,1,0,0,1,1,0,0,0,0,0,1,0,0,0,0,1,0,1,0,0,1,0,1,1,0,0,1,0,0,0,0,1,1,1,1,0,1,0,1,0,0,1,0,1,0,1,1,1,1,1,0,0,1,0,0,0,0,0,0,1,1,1,1,1,1,1,1,1,0,0,0,0,0,1,1,1,0,1,1,0,1,0,0,0,0,1,1,0,1,0,0,0,1,0,0,0,0,1,1,1,1,1,0,0,0,0,1,1,0,1,1,0,1,1,1,1,1,0,0,0,1,0,1,1,1,0,0,0,1,0,0,0,0,1,0,1,0,1,0,0,0,1,0,0,1,0,1,0,0,0,1,0,1,0,0,0,0,1,1,1,1,0,0,1,1,0,0,0,0,0,0,1,1,0,0,0,0,1,1,0,1,0,1,1,0,1,1,1,1,0,1,0,1,1,0,0,0,0,0,0,0,1,1,0,1,0,0,0,0,1,1,0,0,0,0,0,1,0,1,0,0,0,1,0,0,0,1,0,0,1,0,0,1,1,1,1,0,0,0,0,0,0,1,1,1,1,1,0,1,0,1,0,1,0,1,0,1,1,1,1,0,1,0,0,0,1,0,0,1,1,1,0,0,0,0,0,0,0,1,0,0,0,0,0,1,0,0,0,0,0,0,0,0,0,0,0,0,0,0,1,0,0,0,0,1,0,1,0,0,0,0,0,0,0,0,0,0,0,0,1,0,1,0,0,0,1,0,0,0,0,1,0,0,0,1,0,0,1,0,0,0,0,0,0,0,0,0,0,0,0,0,0,0,0,0,0,0,0,0,0,0,0,0,1,0,0,0,0,0,1,0,0,0,0,0,0,0,0,0,0,0,0,1,0,0,0,0,0,1,0,0,0,0,0,0,0,0,0,0,0,0,0,0,0,0,0,1,1,1,0,0,0,0,0,0,0,0,0,1,1,0,1,0,0,0,0,0,0,0,0,0,0,0,0,0,0,0,0,0,0,0,0,0,0,0,0,0,0,0,1,0,0,0,0,1,0,0,0,1,0,0,0,0,0,0,1,0,0,0,0,1,0,0,0,0,0,0,0,1,0,0,0,0,0,0,0,0,0,0,1,0,1,0,1,1,0,0,1,0,0,1,0,0,0,1,0,0,0,1,1,0,1,1,0,1,0,1,0,0,1,0,0,1,1,1,0,1,0,1,1,1,1,0,1,0,1,0,1,0,0,1,1,1,0,0,0,1,0,1,0,0,0,1,0,0,1,1,0,1,0,1,1,1,0,1,1,1,0,1,1,1,1,1,1,0,0,0,1,1,0,1,0,1,0,0,0,0,0,0,0,1,0,0,1,0,1,0,1,0,0,1,1,0,1,0,1,0,1,0,1,1,0,0,0,0,0,0,1,1,0,1,0,1,0,1,1,0,1,0,0,0,1,0,1,0,1,1,1,0,1,1,0,1,1,0,0,0,0,1,0,1,0,1,0,1,0,0,0,0,1,0,1,1,1,1,1,1,0,1,0,1,1,0,0,0,1,1,0,1,1,0,1,0,0,0,1,1,0,1,1,0,1,1,1,1,1,1,0,0,0,0,1,0,0,1,1,0,1,0,0,1,1,0,1,1,1,0,1,0,1,1,1,1,1,1,0,0,0,1,0,1,1,0,1,1,0,1,0,1,0,0,1,1,1,0,1,1,0,0,1,1,1,1,1,0,0,1,1,1,1,1,0,1,1,0,0,0,0,0,1,1,1,0,0,1,1,1,0,0,1,0,0,0,1,1,0,0,1,1,1,0,1,0,1,1,1,0,1,0,0,1,1,0,0,0,0,0,1,1,1,1,0,1,1,1,1,1,0,0,1,1,1,1,0,1,1,1,0,1,0,1,1,1,0,1,1,0,0,0,1,1,1,0,0,1,1,1,1,1,1,1,1,0,1,0,1,1,0,1,1,1,1,0,1,1,0,0,1,1,1,1,1,1,1,1,1,0,1,1,1,1,1,1,1,1,1,1,1,1,1,1,1,1,1,0,1,0,1,1,1,1,1,1,1,1,1,0,1,1,0,0,0,1,1,1,1,0,0,1,0,0,0,0,1,1,0,1,0,1,0,1,1,1,1,1,1,1,1,1,0,1,0,1,1,1,0,1,1,1,1,1,1,1,1,0,1,1,1,1,0,1,1,1,1,1,0,1,1,0,1,0,0,0,1,1,0,1,0,1,1,1,1,1,1,0,1,1,1,1,1,1,0,0,1,1,1,1,0,1,1,1,0,1,1,1,1,1,1,1,1,1,1,1,1,1,1,1,0,0,1,0,1,1,1,1,1,1,1,1,1,1,0,1,1,1,1,0,0,1,0,1,1,0,0,1,1,1,0,1,1,1,1,1,1,1,0,0,0,0,1,1,1,0,0,1,0,1,0,0,1,1,1,0,0,1,1,1,1,1,1,1,0,1,1,1,0,1,0,1,1,1,0,0,1,1,0,0,1,1,1,0,1,1,1,1,0,1,1,0,0,1,1,0,0,1,1,1,1,0,1,1,1,0,0,1,1,0,1,0,1,0,1,1,1,1,0,0,1,1,1,1,1,0,1,1,0,1,1,0,1,1,1,0,0,0,0,1,0,1,1,0,0,1,0,0,0,1,1,1,0,0,0,0,1,1,0,0,0,1,1,0,0,0,0,1,1,0,0,0,0,0,1,0,0,0,0,0,1,0,1,1,1,0,0,1,1,1,0,0,1,0,1,0,0,0,1,0,1,1,0,0,1,1,1,0,1,0,0,0,0,0,1,0,1,1,1,1,1,1,1,0,0,1,0,1,0,1,0,1,0,0,0,1,0,1,1,0,1,0,0,1,0,0,0,1,0,1,1,1,1,0,0,1,0,0,1,0,0,1,1,0,1,1,1,1,1,0,0,1,0,1,0,0,1,0,1,0,0,0,0,1,1,0,1,0,1,0,1,1,1,1,1,1,0,0,1,1,1,1,0,1,1,1,1,0,1,1,1,0,1,0,1,0,0,0,1,0,1,0,0,1,0,1,1,0,1,1,0,1,1,1,1,0,0,1,1,0,1,1,1,1,1,0,1,1,0,0,1,1,0,0,1,1,1,1,0,1,0,0,1,1,0,0,0,1,1,1,1,0,1,1,0,0,1,1,1,1,0,1,0,1,1,1,1,1,0,1,1,0,0,0,0,0,1,1,0,0,0,1,0,0,0,1,1,1,1,0,1,1,1,1,1,0,0,1,0,1,0,1,0,1,0,0,0,1,0,1,0,0,1,1,1,0,0,1,0,1,0,1,1,1,0,0,1,0,1,0,1,1,1,1,1,1,1,1,1,1,1,0,0,0,0,0,0,0,0,1,1,1,1,1,0,0,0,0,0,1,0,0,0,1,0,0,0,0,1,1,0,0,1,0,0,0,1,1,1,0,0,1,0,1,1,0,1,0,1,1,0,0,0,0,0,0,1,1,1,0,1,1,0,1,1,0,0,1,1,1,0,0,1,0,1,0,0,1,1,0,0,1,1,1,1,1,0,0,1,0,1,0,0,0,1,0,0,0,0,0,0,0,1,0,0,0,0,0,0,1,1,1,1,0,1,0,1,0,1,0,1,1,1,0,0,1,1,1,0,0,1,1,0,0,1,0,1,0,1,1,0,1,0,0,0,0,1,1,0,0,1,0,0,0,0,0,0,0,1,1,0,1,0,0,0,0,0,1,0,1,0,1,0,1,0,1,0,0,0,0,0,0,0,0,0,0,0,0,1,1,0,1,1,0,0,0,1,1,0,0,1,1,0,0,1,0,0,1,0,1,1,1,0,0,0,1,0,0,0,0,0,0,1,0,0,1,0,0,1,0,0,0,0,0,0,1,0,1,0,0,0,1,0,0,0,0,1,1,1,1,1,0,0,0,0,0,0,0,0,0,0,0,0,0,1,0,0,0,1,1,0,1,0,0,0,0,1,0,0,1,1,1,0,0,0,0,0,1,0,1,1,0,0,1,1,1,1,0,1,0,1,0,0,0,0,0,1,0,1,0,0,0,0,1,0,1,0,1,1,0,0,0,0,0,0,0,0,0,1,0,0,0,0,0,0,1,1,0,1,1,0,0,0,1,0,0,1,0,1,0,0,1,1,1,1,1,1,1,1,1,1,1,0,1,1,0,1,1,1,1,0,0,1,1,1,1,1,1,0,1,1,1,1,1,1,0,1,0,1,0,0,0,0,1,1,0,1,0,1,0,1,1,1,1,1,1,0,1,1,1,1,0,1,1,0,0,1,1,1,0,1,1,1,1,1,0,1,0,1,0,1,0,1,1,1,1,1,1,1,0,1,0,1,0,1,1,0,1,1,1,1,0,1,1,1,1,0,1,0,1,1,1,1,1,1,1,1,1,1,0,1,0,1,1,1,1,1,1,1,0,0,1,0,1,1,1,1,1,0,1,1,0,0,1,1,0,1,1,1,0,0,1,0,1,1,1,0,1,1,1,0,0,1,1,0,1,1,1,0,1,1,1,1,1,1,1,1,1,1,1,1,1,1,1,1,1,1,1,1,1,1,1,1,1,1,1,1,1,1,1,1,1,1,0,1,1,1,0,1,1,1,1,0,1,1,1,1,1,1,1,1,1,1,1,1,1,0,1,1,1,1,1,1,1,1,0,1,1,1,1,0,1,1,1,1,1,1,0,1,1,1,1,1,1,1,1,1,0,1,1,1,0,1,1,1,1,1,1,1,1,1,0,1,1,1,1,1,1,1,1,0,0,1,1,1,1,1,1,1,1,1,1,1,1,1,1,1,0,1,1,0,1,0,1,1,0,0,1,1,0,0,1,1,1,1,0,1,1,1,1,1,1,0,1,1,1,1,1,1,1,1,1,1,0,1,1,1,1,1,1,1,0,1,1,1,1,1,1,1,1,0,1,1,0,1,1,0,1,1,1,0,1,0,0,0,0,1,1,1,1,1,1,1,1,1,1,1,1,1,0,1,1,1,1,0,1,1,1,1,1,1,1,0,1,1,0,1,1,1,0,1,1,0,1,0,1,1,0,1,1,1,1,0,1,1,1,1,1,1,1,1,1,1,1,1,1,1,1,0,1,1,1,0,1,1,1,1,0,1,0,0,0,1,1,1,0,1,0,0,0,1,0,0,1,0,0,1,0,0,0,1,0,1,0,0,0,0,0,0,0,0,0,1,1,1,1,0,0,0,0,0,0,0,0,0,1,0,1,0,0,1,0,0,1,1,0,0,0,0,0,0,0,0,0,0,0,0,0,1,0,0,1,0,0,1,1,0,0,1,1,0,0,0,0,0,1,1,1,0,0,1,1,0,0,1,1,0,1,1,0,0,0,0,0,1,1,1,1,0,0,0,1,1,0,1,0,0,1,1,1,0,1,0,1,1,0,0,0,0,0,1,0,0,0,1,0,0,0,0,0,1,0,0,1,1,1,1,0,1,0,0,0,1,0,0,1,0,0,0,0,0,0,1,0,1,0,1,0,0,1,0,0,0,1,0,0,1,1,1,0,0,0,0,0,0,1,0,1,0,0,1,0,0,0,0,0,1,1,0,0,1,1,0,0,1,1,0,0,0,1,0,1,0,0,1,1,1,1,0,1,0,1,1,1,1,0,0,1,1,0,0,0,0,1,1,0,1,1,0,0,1,0,1,0,0,0,0,1,1,1,1,0,0,1,0,0,0,1,1,1,0,0,0,0,1,1,0,0,0,1,1,1,0,1,0,0,1,0,0,1,1,0,0,1,0,0,1,0,0,0,0,0,1,0,0,0,0,1,0,0,1,0,1,0,1,0,1,1,0,1,0,1,1,1,0,0,1,0,0,1,1,1,1,1,0,1,0,0,0,1,0,0,0,0,0,0,0,1,0,0,0,0,1,0,0,1,0,1,1,1,0,0,0,0,1,1,1,1,1,0,0,0,1,1,0,0,0,1,0,1,1,1,1,0,0,0,0,1,0,1,0,0,1,0,0,0,0,1,1,0,0,0,0,0,1,0,1,1,0,0,0,1,0,1,0,0,0,0,0,0,0,0,0,1,0,0,1,1,1,0,0,1,0,0,0,0,0,1,0,0,0,1,0,1,0,0,1,0,0,0,0,0,1,0,1,0,0,0,0,0,1,0,0,0,1,0,0,0,0,0,0,1,0,0,1,0,0,0,1,1,0,1,0,1,0,1,0,0,1,0,1,1,0,1,0,1,1,0,1,0,1,0,0,0,0,0,0,0,0,0,1,0,0,0,0,0,0,0,0,0,1,0,1,1,0,1,1,0,0,0,0,1,1,0,0,0,0,0,0,1,0,0,0,0,0,0,0,0,0,0,0,0,0,0,0,0,0,0,0,1,0,0,0,0,0,0,1,0,1,0,0,0,1,0,0,0,1,0,0,0,0,0,1,0,0,1,1,0,1,0,1,0,0,0,0,1,1,0,0,0,1,0,0,1,0,0,0,0,0,0,1,1,0,0,1,0,1,0,0,0,0,1,1,1,1,0,0,0,1,0,0,1,0,0,0,0,1,1,1,0,0,1,1,1,0,1,0,1,0,1,0,0,1,1,1,1,1,0,1,0,1,0,1,0,1,0,0,0,1,1,1,0,1,1,0,1,1,1,1,0,0,1,1,0,1,1,1,0,1,0,0,0,0,0,1,0,0,0,1,1,0,1,1,1,0,1,0,0,1,1,0,1,0,1,1,0,1,1,0,1,0,0,1,1,0,1,1,1,0,0,1,1,0,1,1,0,0,1,1,0,0,0,0,0,1,1,1,1,1,1,0,0,1,1,1,0,1,1,1,1,1,0,1,1,0,1,1,0,1,1,1,1,1,1,0,0,1,0,0,1,1,1,1,1,0,0,1,1,1,1,1,1,1,1,1,0,1,1,1,1,1,1,0,0,0,0,1,1,1,1,0,1,0,1,1,1,0,1,1,1,1,1,1,1,1,1,1,1,1,0,0,0,1,1,1,1,1,1,1,0,1,1,1,1,1,1,0,1,0,1,1,1,1,1,0,1,0,1,1,0,1,1,1,1,1,1,1,1,1,1,1,1,0,0,1,1,1,0,1,1,1,1,1,0,0,1,1,0,0,1,1,0,1,1,1,0,0,1,0,1,0,0,1,1,1,1,1,1,0,1,0,1,1,1,1,1,1,1,1,0,1,1,1,1,0,0,1,1,1,1,1,1,0,0,1,0,0,0,1,0,1,1,1,0,1,1,1,1,1,0,0,0,1,1,1,1,1,1,0,0,1,0,0,1,1,0,1,1,1,1,1,1,0,1,1,0,1,1,1,0,1,1,1,1,1,0,1,1,1,1,0,1,1,1,1,1,1,1,0,1,1,1,1,1,0,1,0,0,1,1,0,1,1,1,1,1,0,1,1,1,1,0,1,0,0,1,1,1,1,1,1,0,1,0,1,0,1,1,1,1,0,0,1,1,1,1,1,1,1,0,1,0,1,1,1,0,1,1,0,0,1,0,1,0,1,1,1,1,1,0,1,1,1,1,0,1,0,1,1,1,1,1,1,0,0,0,1,1,0,0,1,0,0,0,0,1,1,0,1,0,1,0,1,0,1,0,1,1,0,1,1,1,0,1,0,1,1,1,1,1,0,1,1,1,1,0,1,1,1,1,1,1,1,1,0,1,1,0,1,1,1,1,1,0,1,1,1,1,1,0,1,0,1,1,1,0,1,1,1,1,1,1,1,1,1,1,1,1,1,1,1,1,1,1,1,1,1,1,1,1,1,0,1,1,1,1,1,1,1,0,1,1,1,1,1,0,1,1,1,0,0,1,1,1,1,0,1,1,1,1,1,1,1,1,1,0,1,1,1,1,1,1,0,1,1,1,1,1,1,1,1,1,1,1,1,0,1,1,1,1,1,1,1,1,1,1,1,1,1,1,1,1,1,0,1,1,1,0,1,1,1,1,1,1,1,1,0,0,1,0,1,1,1,1,1,1,1,1,1,1,1,0,1,0,1,1,0,1,1,0,1,1,1,1,0,1,1,1,0,1,1,1,0,1,1,1,0,1,1,1,1,1,1,0,1,1,1,0,1,1,0,0,0,1,1,1,0,0,1,1,1,0,1,0,1,1,1,1,1,1,1,1,1,1,1,1,1,0,0,1,1,1,0,1,0,1,1,0,1,1,1,1,0,1,1,1,1,1,1,0,1,1,1,1,1,1,1,1,1,1,0,1,1,0,1,1,1,1,1,1,0,1,0,1,1,1,1,1,1,1,1,1,1,1,1,1,1,1,1,1,1,0,1,0,1,1,0,0,1,1,1,1,1,1,1,0,0,1,0,1,1,1,1,0,0,1,1,1,1,0,1,1,1,1,1,0,1,1,0,0,0,1,1,0,1,1,0,0,1,1,1,1,1,0,1,1,1,0,1,1,1,1,1,0,1,1,1,0,0,1,1,0,1,1,1,0,1,1,0,0,1,1,1,0,1,0,1,0,1,0,1,0,1,1,1,1,1,0,1,0,1,0,0,1,1,1,1,1,1,0,1,1,1,1,0,1,1,0,0,1,1,1,1,0,1,1,1,1,1,1,1,0,0,1,1,1,1,1,0,1,0,1,1,1,0,1,0,0,0,1,1,1,1,0,1,1,1,1,0,1,0,1,1,1,1,0,0,0,0,1,1,0,1,1,0,0,0,0,0,0,1,1,1,1,1,1,0,1,1,1,1,0,0,1,1,1,1,0,1,1,1,1,0,0,1,1,1,0,1,1,0,1,1,1,0,1,0,0,1,1,0,1,1,0,0,0,0,0,0,1,1,0,1,1,1,1,1,1,0,1,1,1,1,1,1,1,1,1,1,1,0,1,1,1,1,1,1,1,1,1,1,1,1,1,1,1,0,0,1,1,1,1,1,1,1,1,1,0,0,0,1,1,1,1,1,1,1,1,1,1,1,1,0,1,1,1,1,1,0,1,1,1,1,1,0,1,1,1,1,1,1,1,1,1,1,1,1,1,1,1,0,0,0,1,1,1,1,1,1,1,1,1,1,1,1,1,1,1,1,1,1,1,1,1,0,1,1,0,0,0,1,0,1,1,1,1,1,1,1,1,1,1,1,1,1,1,1,1,1,1,1,1,1,0,0,1,1,0,1,1,1,1,1,1,1,1,1,1,1,0,1,1,1,1,1,1,1,1,1,0,0,1,1,1,1,1,1,1,1,0,1,1,1,1,1,1,1,1,0,1,1,1,1,1,1,1,1,1,1,1,1,1,0,1,1,1,0,1,1,1,1,1,1,1,0,1,1,1,1,1,0,1,1,1,1,1,1,1,1,1,1,0,1,1,0,1,0,1,1,1,0,1,1,1,1,0,0,1,1,1,1,1,1,1,1,1,0,0,0,1,1,1,1,0,1,0,1,0,1,1,0,1,1,0,0,0,0,0,1,1,1,1,1,0,0,1,0,0,1,1,1,0,1,1,1,1,1,1,0,1,1,0,1,1,0,0,1,1,1,1,1,1,0,0,0,1,1,0,1,0,1,1,1,0,1,1,0,1,0,1,0,1,1,0,1,1,1,1,1,1,1,1,1,1,1,1,1,1,1,1,1,1,1,1,1,1,1,1,1,1,1,1,1,1,1,1,1,1,1,1,1,1,1,1,1,1,1,1,1,1,1,1,1,1,1,1,1,0,1,0,1,0,1,1,1,1,0,1,1,0,1,1,1,1,0,1,1,1,1,0,1,0,1,1,1,1,1,1,1,1,1,0,1,0,1,1,1,0,1,0,1,0,1,1,1,0,1,1,1,1,1,1,1,1,1,0,1,1,1,1,0,1,1,1,1,0,0,1,1,1,1,1,1,1,1,1,1,1,0,0,1,0,1,1,1,1,0,1,0,0,0,1,1,1,1,1,0,1,1,1,1,0,0,1,0,1,0,1,1,1,0,1,1,1,1,0,0,1,1,1,1,0,1,1,0,0,0,1,1,0,1,1,0,1,1,1,0,1,1,0,1,1,1,1,1,0,1,1,1,1,0,1,1,1,1,0,1,1,0,1,1,1,1,1,1,1,1,1,0,1,0,1,0,1,0,0,1,0,0,1,1,1,1,1,1,1,1,1,1,1,1,1,1,1,1,1,1,1,1,1,1,1,1,0,1,0,1,1,1,1,1,1,1,1,1,1,1,1,1,1,1,1,1,1,0,1,0,1,1,1,1,1,0,1,1,1,1,0,1,1,1,0,1,1,1,1,1,0,1,1,1,1,1,1,1,0,1,1,0,1,1,0,1,1,1,1,1,1,1,1,1,1,1,1,1,1,1,1,1,1,0,1,0,0,1,1,1,1,1,1,0,1,1,1,0,1,1,1,1,0,1,1,1,1,1,1,1,1,1,1,1,1,1,1,0,1,1,1,0,1,1,1,1,1,1,1,1,1,1,1,1,1,1,1,1,0,1,1,0,1,1,0,0,1,1,1,1,1,1,1,1,1,1,0,0,1,1,1,1,1,1,1,1,0,1,1,0,1,1,1,1,1,1,1,0,1,1,1,1,0,0,1,1,1,1,0,1,1,0,1,0,1,1,1,1,1,1,1,0,1,1,1,1,1,1,1,0,0,1,1,1,1,1,1,1,0,1,1,1,1,1,1,1,1,1,1,1,0,1,1,1,1,1,1,1,0,1,1,1,1,1,1,1,1,1,1,0,1,1,1,1,1,1,1,1,1,0,1,1,1,1,1,1,1,1,0,1,1,1,1,1,1,1,1,1,1,1,1,1,1,1,1,1,1,1,1,1,1,1,1,1,0,0,1,1,1,1,1,1,1,1,1,1,1,1,1,1,0,1,1,1,1,1,0,1,1,1,1,1,1,1,0,1,1,1,0,1,1,1,1,1,1,1,1,1,1,1,1,1,1,1,1,0,1,0,1,1,1,1,1,1,1,1,1,1,1,1,1,1,1,0,0,1,1,1,1,1,1,1,1,1,1,1,1,1,0,1,1,0,1,1,0,1,1,1,1,1,1,1,1,1,1,1,1,1,1,0,1,1,1,1,1,1,1,1,1,1,1,1,1,1,1,1,1,1,1,1,1,1,1,1,1,1,1,1,1,1,1,1,1,1,1,1,1,1,0,1,1,1,1,1,1,1,1,1,1,1,1,1,0,1,0,1,1,0,1,1,1,1,1,1,1,1,0,1,1,1,1,1,0,1,1,1,1,1,1,0,1,1,1,1,1,1,1,0,1,1,1,1,1,1,1,1,0,1,1,1,1,1,1,0,1,1,1,1,1,1,1,1,1,1,1,1,1,1,1,1,1,1,1,1,1,1,1,0,1,1,1,0,1,1,1,1,1,1,0,1,1,1,1,1,1,1,1,1,1,1,1,1,1,1,1,1,1,1,1,0,1,1,1,1,1,1,1,1,0,1,1,0,0,1,1,0,1,1,1,1,1,1,1,1,1,0,1,1,1,1,1,1,1,1,1,1,1,1,1,1,1,1,1,1,1,1,0,1,0,1,0,1,1,1,1,0,1,1,1,0,1,1,1,0,1,1,1,1,1,1,1,1,1,0,1,1,1,1,1,1,0,0,1,1,1,1,1,1,1,1,0,1,1,0,1,0,1,1,1,1,1,1,1,1,1,0,1,0,1,0,1,1,1,1,1,0,1,1,1,1,1,1,1,1,0,1,1,1,1,1,1,1,1,1,1,1,0,1,1,0,1,0,1,1,1,1,0,0,1,1,1,1,1,1,1,1,1,1,1,1,0,1,1,0,1,1,1,1,1,1,1,1,1,1,1,1,0,1,1,1,1,0,1,1,0,1,1,1,1,1,1,1,1,1,1,1,1,1,1,1,1,1,1,1,1,1,1,1,1,1,1,1,1,1,1,1,1,1,1,1,0,1,1,1,1,1,1,1,1,1,1,1,0,1,1,1,1,1,1,1,1,1,1,0,1,1,1,1,1,0,1,1,1,1,1,1,1,0,1,1,1,1,1,0,1,1,1,1,1,1,1,1,1,1,1,1,0,0,1,1,1,1,1,1,0,0,1,0,1,1,1,1,0,0,1,1,1,1,1,1,1,1,1,0,0,0,1,1,0,1,1,1,0,0,1,1,0,1,1,1,1,0,1,1,1,1,0,1,1,1,1,1,0,1,1,0,1,1,1,1,1,1,1,0,1,1,1,1,1,1,0,1,1,1,0,1,0,0,0,1,1,1,1,1,1,1,1,1,0,1,1,0,0,1,1,0,0,0,1,1,0,1,1,1,1,0,0,1,1,1,1,1,1,1,1,0,1,0,0,1,1,1,0,1,0,1,1,1,0,0,1,1,0,0,1,0,1,0,1,1,0,0,0,0,1,1,1,1,1,1,1,0,1,0,1,1,1,1,1,1,0,1,1,1,0,1,0,1,1,0,1,0,1,0,1,1,0,1,1,1,1,1,1,0,0,1,0,1,1,0,1,1,1,1,1,1,1,0,1,1,0,1,1,1,0,1,0,1,1,1,1,1,1,1,1,0,1,1,1,1,0,0,1,0,1,0,0,1,0,0,1,0,1,1,0,1,0,1,0,0,1,1,1,1,1,1,1,1,1,1,0,1,1,0,1,0,1,1,1,1,1,0,1,0,1,1,1,1,1,1,1,0,1,1,0,0,1,1,1,1,0,1,1,1,1,1,1,0,1,1,0,1,1,1,1,1,0,1,1,1,0,0,1,0,1,1,1,1,1,1,1,1,1,1,0,1,1,0,0,0,1,0,1,1,1,1,1,0,1,0,1,0,1,1,1,0,0,1,1,1,1,0,0,0,1,1,1,0,1,1,1,1,1,0,1,0,1,1,0,0,1,0,1,0,1,1,1,1,1,1,1,0,1,0,1,1,1,1,1,0,1,0,0,1,1,0,0,0,1,1,1,1,0,1,1,1,1,1,0,1,0,1,1,0,0,1,1,1,0,1,0,0,1,1,0,1,0,1,1,1,1,0,0,1,1,1,0,1,1,1,0,1,0,1,0,1,1,0,1,1,0,0,1,0,1,1,1,1,0,1,1,1,1,1,1,0,1,1,0,1,1,1,1,0,1,1,0,1,0,1,0,0,1,0,0,1,1,1,0,1,1,0,1,1,0,0,0,1,1,1,0,1,1,1,1,0,1,0,1,1,1,0,0,1,1,0,0,1,1,1,1,1,1,1,1,0,1,0,1,0,1,0,0,1,1,0,0,0,0,1,0,1,1,1,1,0,1,1,0,0,1,1,1,1,0,1,0,0,1,1,0,0,0,0,1,1,1,1,0,0,0,0,1,1,1,0,0,0,1,1,1,1,1,1,0,1,1,0,0,1,1,0,1,1,0,1,0,1,0,1,0,0,1,1,0,0,1,0,0,1,0,0,0,1,0,0,0,0,0,1,0,1,0,1,0,1,1,1,1,1,1,1,1,0,0,0,1,1,1,0,1,1,1,0,0,0,1,0,0,1,0,0,1,1,1,1,0,1,0,1,0,1,1,1,0,0,1,1,1,1,0,0,0,1,0,1,1,1,1,0,1,0,1,1,1,1,0,0,1,1,1,1,1,1,1,0,1,1,1,1,1,1,1,1,1,1,0,0,1,1,1,1,1,1,1,1,1,0,1,1,1,0,1,1,0,1,0,1,1,1,0,0,1,1,0,1,1,0,1,0,1,0,0,1,1,0,1,0,1,1,0,1,1,0,0,0,1,0,1,0,0,0,0,0,1,1,1,1,0,1,1,0,1,0,1,0,0,0,1,0,1,1,1,1,0,0,0,0,1,0,1,1,1,1,1,0,0,0,1,0,1,0,1,0,1,1,0,0,0,0,1,0,1,0,1,1,0,1,0,1,1,1,1,0,1,0,1,1,1,1,1,0,1,1,0,0,1,0,1,1,0,1,1,0,0,0,1,1,1,1,1,1,0,1,1,0,1,1,1,1,1,0,0,1,1,1,1,1,1,1,1,1,1,0,1,0,1,0,1,1,1,1,0,1,0,1,0,1,0,1,0,1,1,1,0,1,1,1,1,1,1,0,1,1,0,1,1,1,1,0,1,0,1,0,1,1,1,0,1,1,1,0,1,1,0,0,1,1,1,0,1,1,1,1,1,1,1,0,0,0,1,1,1,1,1,1,1,1,1,1,0,0,1,1,1,1,0,1,1,1,1,1,1,0,0,1,1,0,1,1,0,1,1,1,1,0,0,0,1,1,1,1,1,1,1,0,0,1,0,1,0,1,1,1,1,1,0,1,0,1,0,1,0,1,0,1,0,1,1,1,0,1,1,0,0,0,1,0,0,1,0,0,0,0,0,1,1,0,0,0,0,0,0,1,1,1,0,1,1,0,1,1,1,1,1,1,1,0,1,1,0,0,1,1,0,1,1,0,0,0,1,0,0,0,1,0,1,1,0,1,0,0,1,0,1,0,1,0,1,0,1,1,1,0,0,1,0,1,0,0,1,0,1,1,0,1,1,1,1,0,0,0,1,1,0,0,1,0,1,1,1,0,1,1,0,1,1,1,0,0,1,0,0,1,1,0,1,0,0,1,1,0,1,1,0,0,0,1,1,1,1,0,0,0,1,0,0,0,0,0,1,0,1,1,1,1,0,1,1,0,1,1,1,1,1,1,0,1,1,1,1,1,1,1,1,1,0,1,1,1,1,1,1,1,1,0,1,1,1,1,1,1,0,1,1,1,1,1,1,1,1,1,1,1,1,1,1,0,1,1,0,1,1,1,0,1,0,1,1,0,0,1,1,0,1,1,1,0,1,1,1,1,1,1,1,1,1,1,1,0,1,1,0,1,1,1,0,1,1,1,0,1,1,1,1,1,1,1,1,1,1,1,1,1,1,1,0,1,0,1,1,0,0,0,1,1,0,1,0,1,0,0,0,0,0,0,1,1,1,1,1,1,1,1,0,0,0,0,1,1,1,0,1,0,0,1,0,1,1,0,1,1,0,0,0,1,0,0,0,1,0,1,1,1,1,0,1,0,1,1,1,1,0,0,1,1,0,0,1,0,1,1,1,1,0,0,1,0,1,1,1,1,1,0,1,1,1,1,1,0,1,1,0,1,0,1,1,1,0,1,0,0,1,0,0,1,0,0,1,1,0,1,0,0,1,1,1,0,0,0,1,0,0,0,1,0,1,1,1,1,0,0,1,1,1,1,0,0,0,1,1,1,1,1,0,1,1,1,1,1,0,1,1,1,0,1,1,1,1,1,0,1,1,0,1,1,1,0,1,0,0,1,1,1,1,1,1,1,0,1,0,1,0,1,1,1,1,1,0,0,1,1,0,1,1,0,1,1,1,1,0,1,1,0,1,1,0,1,1,1,1,0,1,1,1,1,0,0,0,1,1,1,1,0,0,1,1,1,0,1,1,0,0,1,1,1,0,0,0,0,1,0,0,1,0,1,0,1,0,1,0,1,0,1,0,0,0,0,1,1,0,0,0,1,1,0,1,1,0,0,0,1,1,0,0,1,0,0,0,1,0,0,1,0,0,1,0,0,1,0,0,0,1,1,0,0,0,0,0,1,0,0,1,0,1,0,0,0,0,1,0,1,1,0,0,1,1,0,1,0,0,0,0,1,0,0,1,1,1,0,1,0,0,0,0,1,0,1,0,1,0,1,1,0,1,0,0,0,0,1,0,0,0,0,0,1,0,0,0,1,0,0,0,0,1,0,1,0,1,0,1,0,1,0,0,1,0,1,0,1,0,0,0,1,1,1,1,1,0,1,0,1,0,1,1,0,0,1,1,0,0,0,0,0,0,0,1,0,0,0,1,0,0,0,0,0,0,0,1,0,1,1,0,1,0,0,1,0,0,0,1,1,0,1,1,1,1,1,0,0,1,1,0,0,0,1,0,1,0,1,0,1,1,0,0,1,1,0,0,0,1,1,1,0,0,1,0,1,0,1,0,0,0,1,1,1,0,0,0,0,0,0,1,1,1,0,0,0,1,0,1,0,0,1,1,1,0,0,0,1,0,1,0,1,0,0,0,1,1,0,0,0,0,0,0,0,0,0,1,1,1,1,1,1,1,0,1,0,1,1,1,1,1,1,0,1,1,0,1,1,1,0,0,1,1,0,1,1,1,1,0,1,0,0,1,0,1,1,1,1,1,0,1,1,0,1,1,1,1,1,1,0,1,0,0,0,1,0,1,1,1,1,1,1,1,1,1,1,0,1,1,1,1,1,1,1,0,1,1,0,0,1,1,1,1,1,1,1,0,1,1,1,1,1,1,1,1,1,1,1,1,1,0,0,1,1,0,1,1,0,1,0,0,1,0,1,1,0,0,1,1,0,1,1,1,0,0,0,1,0,0,0,1,1,0,1,1,1,1,1,0,1,1,1,1,0,0,1,1,0,1,0,1,1,1,1,1,1,1,1,1,0,1,1,1,1,1,1,0,1,1,1,1,0,0,0,1,0,1,1,0,0,1,1,1,1,1,0,1,0,0,1,1,0,1,1,1,1,0,1,0,0,1,1,0,1,1,1,1,0,1,0,1,0,1,1,1,1,1,1,1,0,1,1,1,1,0,1,1,1,1,0,1,1,0,1,1,0,0,0,1,0,1,1,1,0,1,1,0,0,1,1,0,1,1,0,0,1,1,0,1,1,0,1,0,0,0,1,0,1,1,1,0,1,0,1,1,0,1,1,1,1,1,1,0,1,1,1,0,1,0,1,0,1,0,1,1,1,0,1,1,0,1,0,1,0,0,0,1,0,1,0,0,1,1,1,1,1,1,1,1,1,0,1,1,1,0,1,1,0,0,0,1,0,1,1,1,1,1,0,1,0,1,1,1,0,1,1,0,0,1,0,0,0,0,0,1,1,1,1,0,1,1,0,1,1,0,1,0,1,0,1,1,1,0,0,0,1,1,0,0,0,0,1,1,0,1,0,1,0,0,1,1,1,0,1,1,1,1,1,1,1,0,1,0,1,1,1,1,1,1,0,0,1,1,0,1,0,1,1,1,1,1,1,0,0,1,0,1,1,1,1,0,1,0,1,1,0,0,1,0,0,1,0,1,1,0,0,1,0,0,0,1,0,0,1,0,0,0,0,1,1,0,1,1,0,0,0,0,1,0,1,0,1,0,1,1,1,0,0,0,0,1,1,0,0,0,1,0,1,0,1,0,1,1,1,1,1,0,0,1,0,0,0,0,1,0,0,1,1,0,1,0,1,1,1,1,1,0,1,1,1,1,1,1,1,1,1,1,1,1,1,1,1,1,1,1,1,1,1,1,0,1,0,1,0,1,0,1,1,1,1,0,1,1,1,1,1,1,1,1,1,1,0,0,1,1,1,1,1,1,1,1,1,0,1,1,1,1,1,1,1,1,1,0,1,0,1,0,0,1,0,1,1,1,1,1,1,1,1,0,1,1,1,1,1,1,1,1,1,1,1,1,1,1,1,0,1,0,1,0,1,1,1,1,0,0,0,0,1,0,1,0,1,1,1,1,1,1,0,0,1,1,1,1,1,1,1,0,1,1,1,1,0,1,0,1,1,0,1,1,0,1,1,1,0,1,1,1,1,0,1,1,1,1,1,0,0,1,1,0,1,1,1,1,1,1,0,1,1,0,1,1,1,1,1,1,1,0,1,0,1,1,1,0,1,1,1,0,1,1,1,1,0,1,0,1,1,1,1,1,1,0,1,1,1,1,1,1,0,1,1,0,1,1,1,1,1,1,1,1,1,1,1,1,0,1,1,1,1,1,1,0,1,0,1,1,1,1,0,1,0,1,1,1,1,1,1,0,1,1,1,1,0,1,1,1,1,1,1,0,1,1,1,1,1,1,1,1,0,1,1,0,1,1,1,0,1,1,1,1,1,1,1,1,1,1,1,0,1,1,1,1,1,1,1,1,1,1,1,0,1,1,1,1,1,1,1,0,1,1,1,0,1,1,1,1,1,1,1,0,1,1,1,1,1,0,1,1,1,0,0,1,1,0,0,1,0,1,1,1,1,0,1,1,0,1,1,1,1,1,0,1,1,0,0,0,0,0,1,1,0,1,0,0,0,1,0,1,1,1,1,0,1,0,0,0,1,0,0,0,1,1,1,1,0,1,1,1,0,1,1,1,1,1,1,1,0,1,0,0,1,1,1,1,1,0,1,1,1,0,1,0,1,1,0,0,0,1,0,0,1,1,0,0,1,0,0,1,1,1,1,1,1,1,0,1,0,1,1,1,1,1,0,1,0,1,0,1,0,0,0,0,0,1,1,0,0,0,1,1,1,1,0,0,1,1,1,1,0,1,0,1,1,0,1,0,1,0,0,0,0,0,0,0,0,1,1,0,0,1,0,0,0,0,1,0,1,0,0,0,1,0,1,1,1,0,1,1,0,1,1,0,0,1,1,1,0,0,1,1,0,0,1,0,1,0,0,1,1,0,0,1,1,1,1,0,0,0,0,1,1,1,1,0,1,0,0,1,0,0,0,0,0,1,1,1,1,1,1,1,0,1,1,1,1,1,1,0,0,0,1,1,0,1,1,0,1,0,1,1,1,0,0,1,1,0,1,1,1,1,1,0,1,1,1,1,0,1,1,1,1,1,1,0,1,0,0,1,0,1,0,0,1,1,1,1,0,0,0,1,1,0,0,1,1,1,1,1,0,0,1,1,1,1,1,1,1,1,1,1,0,1,0,0,1,0,1,1,1,1,0,1,1,1,1,1,1,1,1,1,1,1,1,1,0,0,1,1,1,0,1,0,0,0,0,1,1,0,1,1,1,1,0,1,0,1,1,1,0,1,0,0,1,0,0,1,0,1,1,1,0,1,1,1,1,1,1,0,0,0,1,0,1,1,0,1,0,0,1,1,0,1,1,0,1,0,1,1,1,1,1,0,1,1,1,1,1,1,1,1,1,1,1,0,0,1,1,0,1,0,1,0,0,1,1,0,0,0,0,1,1,1,1,1,0,0,0,1,1,1,1,1,1,0,1,1,1,1,1,0,0,0,0,1,1,1,1,0,1,0,0,1,1,1,0,1,1,1,1,1,1,1,1,0,1,1,0,0,0,1,0,1,1,0,1,1,0,1,0,1,1,1,1,0,1,1,1,1,0,1,1,1,1,1,1,1,1,1,0,0,0,1,1,1,1,1,1,0,0,1,0,1,1,0,0,1,1,1,1,1,0,1,1,0,1,1,1,0,0,1,1,1,1,1,0,1,0,0,1,1,0,1,1,1,1,1,1,0,1,1,0,0,0,1,0,1,1,1,1,1,1,1,0,0,0,0,0,0,0,1,1,0,1,0,0,1,0,0,0,0,0,0,0,1,0,1,0,0,0,1,0,0,0,1,1,1,1,0,0,1,0,0,1,1,0,0,0,1,0,0,1,0,1,0,0,0,1,1,1,1,1,0,0,1,1,1,1,0,1,0,0,1,1,0,0,0,1,0,1,0,0,0,0,0,0,0,0,0,1,0,1,1,1,0,0,1,0,1,1,0,1,0,0,1,0,0,0,0,0,0,0,1,1,0,1,1,0,0,1,0,1,0,1,1,0,0,0,0,1,0,1,1,0,1,1,1,0,1,1,0,0,0,0,0,1,1,0,1,1,0,1,1,0,0,0,0,0,0,0,1,0,0,1,0,1,1,1,0,1,0,1,1,0,1,0,0,1,1,0,0,0,0,1,0,1,0,0,1,0,0,1,0,1,0,0,0,0,0,0,1,1,1,0,0,1,0,0,0,1,1,0,0,1,0,1,1,0,0,1,0,0,0,0,1,1,1,0,0,1,1,0,1,0,0,0,0,1,0,0,0,0,1,0,0,0,1,1,1,1,1,0,1,1,1,1,1,1,1,1,1,1,1,1,1,1,1,1,1,1,1,1,1,1,0,1,1,1,1,1,1,0,1,1,1,1,1,1,0,1,1,1,1,1,1,1,1,0,1,1,1,1,1,1,1,1,1,0,1,0,1,1,1,1,1,0,1,0,0,1,1,1,0,1,1,1,0,0,1,1,1,1,1,1,1,1,1,0,1,1,1,1,1,0,1,1,0,1,0,0,1,1,0,1,1,1,1,1,1,1,0,1,1,0,1,0,1,1,1,1,0,1,1,0,1,1,1,1,1,1,1,1,1,1,1,1,1,1,0,1,1,1,1,1,1,0,0,1,1,1,1,1,1,0,1,1,0,1,1,1,1,0,0,0,1,1,1,1,1,0,1,1,1,1,0,1,1,1,1,1,1,0,1,1,0,1,1,1,0,1,0,1,0,1,1,0,0,1,1,0,1,1,1,0,1,1,1,0,1,1,0,1,0,0,0,1,1,1,1,1,1,1,0,1,1,0,0,1,0,0,0,1,1,0,1,1,1,1,1,1,0,1,1,1,1,1,1,1,1,1,0,0,0,1,0,0,1,0,0,1,1,1,1,1,1,0,1,0,1,1,1,0,1,1,1,1,0,1,0,1,1,1,1,1,1,1,1,0,1,1,0,0,1,1,1,1,1,1,0,1,0,1,1,1,1,1,0,1,1,1,1,1,1,0,1,0,0,0,1,1,1,0,0,1,1,0,1,0,0,1,1,0,1,1,1,1,1,1,1,1,1,1,1,1,1,1,1,1,0,1,1,1,1,1,0,1,1,1,1,1,1,1,1,1,0,1,1,0,1,1,1,0,1,1,1,1,1,1,0,1,0,1,0,1,1,1,1,0,0,0,1,1,0,1,1,1,0,0,1,1,1,1,0,1,0,1,1,1,1,1,1,1,1,0,0,0,1,1,1,0,1,1,0,1,1,1,1,0,0,1,1,1,0,1,1,0,0,1,0,1,0,1,1,0,1,1,1,1,1,1,1,0,1,1,1,1,1,1,0,1,1,1,1,1,1,1,1,1,0,0,1,0,1,1,0,1,1,1,0,0,0,1,1,1,1,1,1,1,1,1,1,1,1,1,1,1,0,1,1,1,1,1,1,1,1,1,1,1,1,1,0,1,1,0,0,1,1,1,1,1,1,0,0,1,1,1,1,1,1,1,1,1,1,1,1,1,1,1,1,1,1,0,1,1,1,0,1,1,1,1,1,1,0,1,1,1,1,1,0,0,1,0,0,1,0,1,1,1,0,0,0,0,1,1,1,1,1,1,1,1,1,1,1,1,1,1,1,1,1,1,1,1,0,1,1,1,1,1,1,1,0,0,1,1,1,1,1,1,0,1,0,1,1,1,1,1,1,1,1,1,1,1,1,1,1,1,1,1,1,1,1,1,0,1,1,1,1,1,1,1,1,1,1,1,1,0,0,1,1,1,1,1,1,1,1,1,1,1,1,1,1,1,0,1,1,1,0,1,1,1,1,1,1,0,0,1,1,1,0,0,1,1,1,1,0,1,1,1,1,1,0,0,1,1,0,1,1,0,1,1,1,1,1,0,1,1,1,1,1,1,1,1,1,1,0,1,1,1,1,1,1,1,0,1,1,1,0,0,1,1,1,1,1,0,0,1,1,1,0,1,1,1,1,1,1,0,1,1,1,1,0,0,1,1,1,1,1,1,0,1,1,1,1,1,0,1,0,1,1,1,1,1,1,1,1,0,1,1,1,1,1,1,1,1,1,1,1,1,1,1,1,1,1,1,1,0,1,1,0,1,1,0,1,1,1,0,1,0,1,1,1,1,1,0,1,1,1,1,1,1,1,1,0,1,1,0,1,0,1,1,1,1,1,1,1,1,1,0,1,1,1,0,0,1,1,1,1,1,1,1,1,1,1,0,1,1,1,1,0,0,1,1,1,1,1,1,1,1,0,1,1,1,0,1,0,1,1,0,0,1,1,1,1,1,1,1,1,0,1,1,1,0,1,1,1,1,1,1,1,1,1,1,1,1,1,1,1,1,0,1,1,1,0,1,1,1,1,1,0,1,0,1,1,1,1,1,1,1,1,0,0,1,1,0,0,1,1,1,1,1,1,0,1,1,1,1,0,1,1,0,1,1,1,1,1,1,1,0,1,1,1,1,0,1,1,1,1,1,0,1,0,0,0,1,1,1,0,1,1,0,1,1,1,1,1,1,1,1,1,1,0,1,1,1,1,1,1,1,0,1,1,1,1,0,1,1,1,1,1,0,1,1,1,1,0,1,1,1,1,1,1,1,1,1,1,1,1,1,0,1,1,0,1,1,1,1,1,1,1,1,0,1,1,1,0,1,1,1,1,0,1,1,1,1,1,1,1,1,1,1,1,1,0,1,1,0,1,1,1,0,1,1,1,1,1,1,0,1,1,0,1,1,1,1,0,1,1,1,1,1,1,1,1,1,1,1,1,1,1,1,1,1,1,1,1,1,1,1,1,1,1,0,1,1,1,1,0,1,0,1,1,1,0,1,1,1,1,0,0,1,1,0,1,1,1,1,1,1,1,1,1,0,1,1,1,1,1,1,0,1,1,1,1,1,1,1,1,0,0,1,0,1,1,1,1,1,1,1,1,0,1,0,0,1,1,1,1,1,0,1,1,1,1,1,1,1,1,0,1,1,1,0,1,1,1,0,1,1,1,1,1,1,0,1,1,1,1,1,1,1,1,1,0,1,1,0,1,0,1,1,1,1,1,0,0,1,0,1,1,1,1,1,1,0,1,1,1,1,1,1,1,1,1,1,1,1,1,0,1,0,0,1,1,1,1,1,1,1,1,1,1,1,1,0,1,1,1,0,1,1,0,1,1,1,1,1,0,0,1,1,1,1,1,0,0,1,1,1,1,0,1,0,0,1,1,1,1,1,0,1,1,1,1,1,1,1,1,1,1,0,1,0,1,1,1,1,0,0,1,1,1,1,1,1,1,1,1,1,1,1,0,0,1,1,1,1,1,1,1,1,1,1,1,1,1,1,1,1,1,1,1,1,1,1,1,1,1,1,1,1,1,0,1,1,1,1,0,1,1,1,1,1,1,1,1,1,1,0,1,1,1,1,1,1,1,1,1,1,1,1,1,0,1,1,1,0,1,0,1,1,1,1,1,1,1,1,1,0,0,1,1,1,1,1,0,1,1,1,1,1,1,1,1,1,1,1,0,0,1,1,1,1,1,1,1,1,1,0,0,1,1,1,1,1,1,1,1,0,1,1,1,1,1,1,0,1,0,1,1,0,1,1,1,1,0,1,0,0,0,1,1,1,1,1,0,1,1,1,1,1,0,0,1,1,1,1,1,0,1,1,1,1,1,0,0,1,0,1,1,0,1,0,1,1,1,1,1,0,1,1,1,0,1,1,0,0,0,1,1,1,1,1,1,0,0,0,1,1,1,1,1,1,1,0,0,1,1,0,1,1,1,1,1,1,0,1,1,1,1,1,0,1,0,1,0,1,1,0,1,1,0,0,0,1,1,1,1,1,0,1,1,1,1,1,1,1,1,1,1,1,1,0,1,1,0,1,0,1,1,1,1,1,1,1,1,0,1,1,0,0,1,0,1,0,1,1,0,1,1,0,0,1,0,1,1,0,1,1,1,1,1,1,1,1,1,1,1,1,1,1,0,1,0,1,1,1,1,1,1,0,1,1,0,1,1,1,0,1,1,1,1,0,0,1,0,1,1,1,1,1,1,1,0,0,0,1,1,1,0,0,1,1,0,1,1,1,1,1,1,1,1,1,1,1,1,1,1,0,0,1,0,0,0,0,0,1,1,1,1,0,0,1,1,0,1,0,1,1,0,0,1,1,0,0,1,1,1,1,0,1,0,1,1,0,1,1,1,1,0,1,0,0,1,0,1,1,1,1,1,0,1,1,1,0,1,0,1,0,1,0,0,0,1,1,1,0,1,1,0,1,1,1,1,1,1,1,1,0,0,0,0,1,0,0,0,1,0,0,1,1,1,1,0,0,0,1,0,0,1,1,0,1,0,0,1,1,0,1,1,1,1,1,1,1,1,1,0,1,1,1,0,1,1,0,1,1,0,0,0,1,1,0,1,0,1,0,1,0,0,1,1,1,1,1,1,1,0,0,0,1,1,1,0,1,0,1,0,1,1,0,1,0,1,0,0,1,1,1,0,1,0,1,1,0,0,0,0,1,0,1,1,1,1,0,0,0,1,1,1,0,1,1,1,1,0,0,1,1,0,0,0,0,0,0,1,0,0,0,1,1,1,0,1,0,0,1,0,1,0,0,1,0,1,1,1,0,1,1,1,1,0,0,1,1,0,1,0,1,1,1,0,1,1,0,1,1,0,0,1,0,0,0,1,1,0,1,1,0,0,0,1,1,1,0,0,0,1,0,1,1,1,1,1,1,0,1,0,1],\"xaxis\":\"x\",\"yaxis\":\"y\",\"type\":\"histogram\"}],                        {\"template\":{\"data\":{\"bar\":[{\"error_x\":{\"color\":\"#2a3f5f\"},\"error_y\":{\"color\":\"#2a3f5f\"},\"marker\":{\"line\":{\"color\":\"#E5ECF6\",\"width\":0.5},\"pattern\":{\"fillmode\":\"overlay\",\"size\":10,\"solidity\":0.2}},\"type\":\"bar\"}],\"barpolar\":[{\"marker\":{\"line\":{\"color\":\"#E5ECF6\",\"width\":0.5},\"pattern\":{\"fillmode\":\"overlay\",\"size\":10,\"solidity\":0.2}},\"type\":\"barpolar\"}],\"carpet\":[{\"aaxis\":{\"endlinecolor\":\"#2a3f5f\",\"gridcolor\":\"white\",\"linecolor\":\"white\",\"minorgridcolor\":\"white\",\"startlinecolor\":\"#2a3f5f\"},\"baxis\":{\"endlinecolor\":\"#2a3f5f\",\"gridcolor\":\"white\",\"linecolor\":\"white\",\"minorgridcolor\":\"white\",\"startlinecolor\":\"#2a3f5f\"},\"type\":\"carpet\"}],\"choropleth\":[{\"colorbar\":{\"outlinewidth\":0,\"ticks\":\"\"},\"type\":\"choropleth\"}],\"contour\":[{\"colorbar\":{\"outlinewidth\":0,\"ticks\":\"\"},\"colorscale\":[[0.0,\"#0d0887\"],[0.1111111111111111,\"#46039f\"],[0.2222222222222222,\"#7201a8\"],[0.3333333333333333,\"#9c179e\"],[0.4444444444444444,\"#bd3786\"],[0.5555555555555556,\"#d8576b\"],[0.6666666666666666,\"#ed7953\"],[0.7777777777777778,\"#fb9f3a\"],[0.8888888888888888,\"#fdca26\"],[1.0,\"#f0f921\"]],\"type\":\"contour\"}],\"contourcarpet\":[{\"colorbar\":{\"outlinewidth\":0,\"ticks\":\"\"},\"type\":\"contourcarpet\"}],\"heatmap\":[{\"colorbar\":{\"outlinewidth\":0,\"ticks\":\"\"},\"colorscale\":[[0.0,\"#0d0887\"],[0.1111111111111111,\"#46039f\"],[0.2222222222222222,\"#7201a8\"],[0.3333333333333333,\"#9c179e\"],[0.4444444444444444,\"#bd3786\"],[0.5555555555555556,\"#d8576b\"],[0.6666666666666666,\"#ed7953\"],[0.7777777777777778,\"#fb9f3a\"],[0.8888888888888888,\"#fdca26\"],[1.0,\"#f0f921\"]],\"type\":\"heatmap\"}],\"heatmapgl\":[{\"colorbar\":{\"outlinewidth\":0,\"ticks\":\"\"},\"colorscale\":[[0.0,\"#0d0887\"],[0.1111111111111111,\"#46039f\"],[0.2222222222222222,\"#7201a8\"],[0.3333333333333333,\"#9c179e\"],[0.4444444444444444,\"#bd3786\"],[0.5555555555555556,\"#d8576b\"],[0.6666666666666666,\"#ed7953\"],[0.7777777777777778,\"#fb9f3a\"],[0.8888888888888888,\"#fdca26\"],[1.0,\"#f0f921\"]],\"type\":\"heatmapgl\"}],\"histogram\":[{\"marker\":{\"pattern\":{\"fillmode\":\"overlay\",\"size\":10,\"solidity\":0.2}},\"type\":\"histogram\"}],\"histogram2d\":[{\"colorbar\":{\"outlinewidth\":0,\"ticks\":\"\"},\"colorscale\":[[0.0,\"#0d0887\"],[0.1111111111111111,\"#46039f\"],[0.2222222222222222,\"#7201a8\"],[0.3333333333333333,\"#9c179e\"],[0.4444444444444444,\"#bd3786\"],[0.5555555555555556,\"#d8576b\"],[0.6666666666666666,\"#ed7953\"],[0.7777777777777778,\"#fb9f3a\"],[0.8888888888888888,\"#fdca26\"],[1.0,\"#f0f921\"]],\"type\":\"histogram2d\"}],\"histogram2dcontour\":[{\"colorbar\":{\"outlinewidth\":0,\"ticks\":\"\"},\"colorscale\":[[0.0,\"#0d0887\"],[0.1111111111111111,\"#46039f\"],[0.2222222222222222,\"#7201a8\"],[0.3333333333333333,\"#9c179e\"],[0.4444444444444444,\"#bd3786\"],[0.5555555555555556,\"#d8576b\"],[0.6666666666666666,\"#ed7953\"],[0.7777777777777778,\"#fb9f3a\"],[0.8888888888888888,\"#fdca26\"],[1.0,\"#f0f921\"]],\"type\":\"histogram2dcontour\"}],\"mesh3d\":[{\"colorbar\":{\"outlinewidth\":0,\"ticks\":\"\"},\"type\":\"mesh3d\"}],\"parcoords\":[{\"line\":{\"colorbar\":{\"outlinewidth\":0,\"ticks\":\"\"}},\"type\":\"parcoords\"}],\"pie\":[{\"automargin\":true,\"type\":\"pie\"}],\"scatter\":[{\"marker\":{\"colorbar\":{\"outlinewidth\":0,\"ticks\":\"\"}},\"type\":\"scatter\"}],\"scatter3d\":[{\"line\":{\"colorbar\":{\"outlinewidth\":0,\"ticks\":\"\"}},\"marker\":{\"colorbar\":{\"outlinewidth\":0,\"ticks\":\"\"}},\"type\":\"scatter3d\"}],\"scattercarpet\":[{\"marker\":{\"colorbar\":{\"outlinewidth\":0,\"ticks\":\"\"}},\"type\":\"scattercarpet\"}],\"scattergeo\":[{\"marker\":{\"colorbar\":{\"outlinewidth\":0,\"ticks\":\"\"}},\"type\":\"scattergeo\"}],\"scattergl\":[{\"marker\":{\"colorbar\":{\"outlinewidth\":0,\"ticks\":\"\"}},\"type\":\"scattergl\"}],\"scattermapbox\":[{\"marker\":{\"colorbar\":{\"outlinewidth\":0,\"ticks\":\"\"}},\"type\":\"scattermapbox\"}],\"scatterpolar\":[{\"marker\":{\"colorbar\":{\"outlinewidth\":0,\"ticks\":\"\"}},\"type\":\"scatterpolar\"}],\"scatterpolargl\":[{\"marker\":{\"colorbar\":{\"outlinewidth\":0,\"ticks\":\"\"}},\"type\":\"scatterpolargl\"}],\"scatterternary\":[{\"marker\":{\"colorbar\":{\"outlinewidth\":0,\"ticks\":\"\"}},\"type\":\"scatterternary\"}],\"surface\":[{\"colorbar\":{\"outlinewidth\":0,\"ticks\":\"\"},\"colorscale\":[[0.0,\"#0d0887\"],[0.1111111111111111,\"#46039f\"],[0.2222222222222222,\"#7201a8\"],[0.3333333333333333,\"#9c179e\"],[0.4444444444444444,\"#bd3786\"],[0.5555555555555556,\"#d8576b\"],[0.6666666666666666,\"#ed7953\"],[0.7777777777777778,\"#fb9f3a\"],[0.8888888888888888,\"#fdca26\"],[1.0,\"#f0f921\"]],\"type\":\"surface\"}],\"table\":[{\"cells\":{\"fill\":{\"color\":\"#EBF0F8\"},\"line\":{\"color\":\"white\"}},\"header\":{\"fill\":{\"color\":\"#C8D4E3\"},\"line\":{\"color\":\"white\"}},\"type\":\"table\"}]},\"layout\":{\"annotationdefaults\":{\"arrowcolor\":\"#2a3f5f\",\"arrowhead\":0,\"arrowwidth\":1},\"autotypenumbers\":\"strict\",\"coloraxis\":{\"colorbar\":{\"outlinewidth\":0,\"ticks\":\"\"}},\"colorscale\":{\"diverging\":[[0,\"#8e0152\"],[0.1,\"#c51b7d\"],[0.2,\"#de77ae\"],[0.3,\"#f1b6da\"],[0.4,\"#fde0ef\"],[0.5,\"#f7f7f7\"],[0.6,\"#e6f5d0\"],[0.7,\"#b8e186\"],[0.8,\"#7fbc41\"],[0.9,\"#4d9221\"],[1,\"#276419\"]],\"sequential\":[[0.0,\"#0d0887\"],[0.1111111111111111,\"#46039f\"],[0.2222222222222222,\"#7201a8\"],[0.3333333333333333,\"#9c179e\"],[0.4444444444444444,\"#bd3786\"],[0.5555555555555556,\"#d8576b\"],[0.6666666666666666,\"#ed7953\"],[0.7777777777777778,\"#fb9f3a\"],[0.8888888888888888,\"#fdca26\"],[1.0,\"#f0f921\"]],\"sequentialminus\":[[0.0,\"#0d0887\"],[0.1111111111111111,\"#46039f\"],[0.2222222222222222,\"#7201a8\"],[0.3333333333333333,\"#9c179e\"],[0.4444444444444444,\"#bd3786\"],[0.5555555555555556,\"#d8576b\"],[0.6666666666666666,\"#ed7953\"],[0.7777777777777778,\"#fb9f3a\"],[0.8888888888888888,\"#fdca26\"],[1.0,\"#f0f921\"]]},\"colorway\":[\"#636efa\",\"#EF553B\",\"#00cc96\",\"#ab63fa\",\"#FFA15A\",\"#19d3f3\",\"#FF6692\",\"#B6E880\",\"#FF97FF\",\"#FECB52\"],\"font\":{\"color\":\"#2a3f5f\"},\"geo\":{\"bgcolor\":\"white\",\"lakecolor\":\"white\",\"landcolor\":\"#E5ECF6\",\"showlakes\":true,\"showland\":true,\"subunitcolor\":\"white\"},\"hoverlabel\":{\"align\":\"left\"},\"hovermode\":\"closest\",\"mapbox\":{\"style\":\"light\"},\"paper_bgcolor\":\"white\",\"plot_bgcolor\":\"#E5ECF6\",\"polar\":{\"angularaxis\":{\"gridcolor\":\"white\",\"linecolor\":\"white\",\"ticks\":\"\"},\"bgcolor\":\"#E5ECF6\",\"radialaxis\":{\"gridcolor\":\"white\",\"linecolor\":\"white\",\"ticks\":\"\"}},\"scene\":{\"xaxis\":{\"backgroundcolor\":\"#E5ECF6\",\"gridcolor\":\"white\",\"gridwidth\":2,\"linecolor\":\"white\",\"showbackground\":true,\"ticks\":\"\",\"zerolinecolor\":\"white\"},\"yaxis\":{\"backgroundcolor\":\"#E5ECF6\",\"gridcolor\":\"white\",\"gridwidth\":2,\"linecolor\":\"white\",\"showbackground\":true,\"ticks\":\"\",\"zerolinecolor\":\"white\"},\"zaxis\":{\"backgroundcolor\":\"#E5ECF6\",\"gridcolor\":\"white\",\"gridwidth\":2,\"linecolor\":\"white\",\"showbackground\":true,\"ticks\":\"\",\"zerolinecolor\":\"white\"}},\"shapedefaults\":{\"line\":{\"color\":\"#2a3f5f\"}},\"ternary\":{\"aaxis\":{\"gridcolor\":\"white\",\"linecolor\":\"white\",\"ticks\":\"\"},\"baxis\":{\"gridcolor\":\"white\",\"linecolor\":\"white\",\"ticks\":\"\"},\"bgcolor\":\"#E5ECF6\",\"caxis\":{\"gridcolor\":\"white\",\"linecolor\":\"white\",\"ticks\":\"\"}},\"title\":{\"x\":0.05},\"xaxis\":{\"automargin\":true,\"gridcolor\":\"white\",\"linecolor\":\"white\",\"ticks\":\"\",\"title\":{\"standoff\":15},\"zerolinecolor\":\"white\",\"zerolinewidth\":2},\"yaxis\":{\"automargin\":true,\"gridcolor\":\"white\",\"linecolor\":\"white\",\"ticks\":\"\",\"title\":{\"standoff\":15},\"zerolinecolor\":\"white\",\"zerolinewidth\":2}}},\"xaxis\":{\"anchor\":\"y\",\"domain\":[0.0,1.0],\"title\":{\"text\":\"Class\"}},\"yaxis\":{\"anchor\":\"x\",\"domain\":[0.0,1.0],\"title\":{\"text\":\"percent\"}},\"legend\":{\"tracegroupgap\":0},\"title\":{\"text\":\"Class Distribution\"},\"barmode\":\"relative\"},                        {\"responsive\": true}                    ).then(function(){\n                            \nvar gd = document.getElementById('02f78d79-e35d-4d3d-9fbd-72c9b1cc13ea');\nvar x = new MutationObserver(function (mutations, observer) {{\n        var display = window.getComputedStyle(gd).display;\n        if (!display || display === 'none') {{\n            console.log([gd, 'removed!']);\n            Plotly.purge(gd);\n            observer.disconnect();\n        }}\n}});\n\n// Listen for the removal of the full notebook cells\nvar notebookContainer = gd.closest('#notebook-container');\nif (notebookContainer) {{\n    x.observe(notebookContainer, {childList: true});\n}}\n\n// Listen for the clearing of the current output cell\nvar outputEl = gd.closest('.output');\nif (outputEl) {{\n    x.observe(outputEl, {childList: true});\n}}\n\n                        })                };                            </script>        </div>\n</body>\n</html>"
     },
     "metadata": {},
     "output_type": "display_data"
    }
   ],
   "execution_count": null
  },
  {
   "cell_type": "markdown",
   "source": "Quite well class distribution. No skewed classes.",
   "metadata": {
    "cell_id": "2b746b927dfb46ecacbe1019be6091c3",
    "tags": [],
    "deepnote_cell_type": "markdown",
    "deepnote_cell_height": 52.390625
   }
  },
  {
   "cell_type": "code",
   "metadata": {
    "cell_id": "0924c059167c4eea82b3aa852dd60eb6",
    "tags": [],
    "deepnote_to_be_reexecuted": false,
    "source_hash": "69098c36",
    "execution_start": 1650458584451,
    "execution_millis": 7,
    "deepnote_cell_type": "code",
    "deepnote_cell_height": 136.1875,
    "deepnote_output_heights": [
     21.1875
    ]
   },
   "source": "# Check y for null values\nlen(y) - y.count()",
   "outputs": [
    {
     "output_type": "execute_result",
     "execution_count": 9,
     "data": {
      "text/plain": "0"
     },
     "metadata": {}
    }
   ],
   "execution_count": null
  },
  {
   "cell_type": "markdown",
   "source": "## Fill NaN Values",
   "metadata": {
    "cell_id": "1308d0a411ff49a5afba2e90a6b49c56",
    "tags": [],
    "deepnote_cell_type": "markdown",
    "deepnote_cell_height": 70
   }
  },
  {
   "cell_type": "code",
   "metadata": {
    "cell_id": "f111ca62579449898a1d99ff9d4eb574",
    "tags": [],
    "deepnote_to_be_reexecuted": false,
    "source_hash": "491d3921",
    "execution_start": 1650458584464,
    "execution_millis": 67,
    "deepnote_cell_type": "code",
    "deepnote_cell_height": 99
   },
   "source": "# Fill NaN values with the mean\nX = X.fillna(X.mean())",
   "outputs": [],
   "execution_count": null
  },
  {
   "cell_type": "markdown",
   "source": "## Feature Normalization",
   "metadata": {
    "cell_id": "6fd0c01cb018467e84908e5929666f05",
    "tags": [],
    "deepnote_cell_type": "markdown",
    "deepnote_cell_height": 70
   }
  },
  {
   "cell_type": "code",
   "metadata": {
    "cell_id": "923121e7097141a68ecc6fe0b9574a90",
    "tags": [],
    "deepnote_to_be_reexecuted": false,
    "source_hash": "8b688543",
    "execution_start": 1650458584544,
    "execution_millis": 166665,
    "deepnote_cell_type": "code",
    "deepnote_cell_height": 99
   },
   "source": "# Instantiate MinMaxScaler\nmin_max_scaler = MinMaxScaler()",
   "outputs": [],
   "execution_count": null
  },
  {
   "cell_type": "code",
   "metadata": {
    "cell_id": "9473427399964bc788c0896931e4f232",
    "tags": [],
    "deepnote_to_be_reexecuted": false,
    "source_hash": "bd9072e1",
    "execution_start": 1650458584593,
    "execution_millis": 1,
    "deepnote_cell_type": "code",
    "deepnote_cell_height": 99
   },
   "source": "# Scale the data\nX_scaled = pd.DataFrame(min_max_scaler.fit_transform(X.values), index=X.index, columns=X.columns)",
   "outputs": [],
   "execution_count": null
  },
  {
   "cell_type": "markdown",
   "source": "# Feature Selection",
   "metadata": {
    "cell_id": "00006-11948d03-16be-44cf-b760-c5eb9534e310",
    "deepnote_cell_type": "markdown",
    "deepnote_cell_height": 82
   }
  },
  {
   "cell_type": "markdown",
   "source": "## Univariate Selection",
   "metadata": {
    "cell_id": "6b18271b0e7e4c9c8a4e307bfe6cf67c",
    "tags": [],
    "deepnote_cell_type": "markdown",
    "deepnote_cell_height": 70
   }
  },
  {
   "cell_type": "code",
   "metadata": {
    "cell_id": "0a15dd9faae84f9fabbd8726dd8d83b5",
    "tags": [],
    "deepnote_to_be_reexecuted": false,
    "source_hash": "746f76f",
    "execution_start": 1650458584594,
    "execution_millis": 1,
    "deepnote_cell_type": "code",
    "deepnote_cell_height": 99
   },
   "source": "# Define the number of desired features\nn_features = 50",
   "outputs": [],
   "execution_count": null
  },
  {
   "cell_type": "code",
   "metadata": {
    "cell_id": "e4eb2d5e990b436fb4dd7d3921720779",
    "tags": [],
    "deepnote_to_be_reexecuted": false,
    "source_hash": "d0211fdf",
    "execution_start": 1650458584595,
    "execution_millis": 42,
    "deepnote_cell_type": "code",
    "deepnote_cell_height": 99
   },
   "source": "# Fit the feature seletor\nfeature_selector = SelectKBest(score_func=chi2, k=n_features).fit(X_scaled, y)",
   "outputs": [],
   "execution_count": null
  },
  {
   "cell_type": "code",
   "metadata": {
    "cell_id": "bbdbd0c85d504f769b1db1bb7c2a081f",
    "tags": [],
    "deepnote_to_be_reexecuted": false,
    "source_hash": "f42e1436",
    "execution_start": 1650458584637,
    "execution_millis": 1,
    "deepnote_cell_type": "code",
    "deepnote_cell_height": 135
   },
   "source": "# Extract the most important features\nX_feature_selected = pd.DataFrame(feature_selector.transform(X_scaled), \n                                    index=X_scaled.index, \n                                    columns=feature_selector.get_feature_names_out())",
   "outputs": [],
   "execution_count": null
  },
  {
   "cell_type": "code",
   "metadata": {
    "cell_id": "efc6c75bb68e4c21a6f13f904d017092",
    "tags": [],
    "deepnote_to_be_reexecuted": false,
    "source_hash": "8d204446",
    "execution_start": 1650458584638,
    "execution_millis": 514,
    "deepnote_cell_type": "code",
    "deepnote_cell_height": 600
   },
   "source": "X_feature_selected",
   "outputs": [
    {
     "output_type": "execute_result",
     "execution_count": 16,
     "data": {
      "application/vnd.deepnote.dataframe.v3+json": {
       "column_count": 50,
       "row_count": 12725,
       "columns": [
        {
         "name": "Revenue",
         "dtype": "float64",
         "stats": {
          "unique_count": 11353,
          "nan_count": 0,
          "min": "0.0",
          "max": "1.0",
          "histogram": [
           {
            "bin_start": 0,
            "bin_end": 0.1,
            "count": 12699
           },
           {
            "bin_start": 0.1,
            "bin_end": 0.2,
            "count": 17
           },
           {
            "bin_start": 0.2,
            "bin_end": 0.30000000000000004,
            "count": 5
           },
           {
            "bin_start": 0.30000000000000004,
            "bin_end": 0.4,
            "count": 0
           },
           {
            "bin_start": 0.4,
            "bin_end": 0.5,
            "count": 1
           },
           {
            "bin_start": 0.5,
            "bin_end": 0.6000000000000001,
            "count": 0
           },
           {
            "bin_start": 0.6000000000000001,
            "bin_end": 0.7000000000000001,
            "count": 0
           },
           {
            "bin_start": 0.7000000000000001,
            "bin_end": 0.8,
            "count": 0
           },
           {
            "bin_start": 0.8,
            "bin_end": 0.9,
            "count": 0
           },
           {
            "bin_start": 0.9,
            "bin_end": 1,
            "count": 3
           }
          ]
         }
        },
        {
         "name": "R&D Expenses",
         "dtype": "float64",
         "stats": {
          "unique_count": 4128,
          "nan_count": 0,
          "min": "0.0",
          "max": "1.0",
          "histogram": [
           {
            "bin_start": 0,
            "bin_end": 0.1,
            "count": 12567
           },
           {
            "bin_start": 0.1,
            "bin_end": 0.2,
            "count": 74
           },
           {
            "bin_start": 0.2,
            "bin_end": 0.30000000000000004,
            "count": 21
           },
           {
            "bin_start": 0.30000000000000004,
            "bin_end": 0.4,
            "count": 32
           },
           {
            "bin_start": 0.4,
            "bin_end": 0.5,
            "count": 4
           },
           {
            "bin_start": 0.5,
            "bin_end": 0.6000000000000001,
            "count": 8
           },
           {
            "bin_start": 0.6000000000000001,
            "bin_end": 0.7000000000000001,
            "count": 5
           },
           {
            "bin_start": 0.7000000000000001,
            "bin_end": 0.8,
            "count": 9
           },
           {
            "bin_start": 0.8,
            "bin_end": 0.9,
            "count": 4
           },
           {
            "bin_start": 0.9,
            "bin_end": 1,
            "count": 1
           }
          ]
         }
        },
        {
         "name": "SG&A Expense",
         "dtype": "float64",
         "stats": {
          "unique_count": 11074,
          "nan_count": 0,
          "min": "0.0",
          "max": "0.9999999999999999",
          "histogram": [
           {
            "bin_start": 0,
            "bin_end": 0.09999999999999999,
            "count": 12638
           },
           {
            "bin_start": 0.09999999999999999,
            "bin_end": 0.19999999999999998,
            "count": 63
           },
           {
            "bin_start": 0.19999999999999998,
            "bin_end": 0.3,
            "count": 18
           },
           {
            "bin_start": 0.3,
            "bin_end": 0.39999999999999997,
            "count": 1
           },
           {
            "bin_start": 0.39999999999999997,
            "bin_end": 0.49999999999999994,
            "count": 2
           },
           {
            "bin_start": 0.49999999999999994,
            "bin_end": 0.6,
            "count": 2
           },
           {
            "bin_start": 0.6,
            "bin_end": 0.7,
            "count": 0
           },
           {
            "bin_start": 0.7,
            "bin_end": 0.7999999999999999,
            "count": 0
           },
           {
            "bin_start": 0.7999999999999999,
            "bin_end": 0.8999999999999999,
            "count": 0
           },
           {
            "bin_start": 0.8999999999999999,
            "bin_end": 0.9999999999999999,
            "count": 1
           }
          ]
         }
        },
        {
         "name": "Dividend per Share",
         "dtype": "float64",
         "stats": {
          "unique_count": 1468,
          "nan_count": 0,
          "min": "0.0",
          "max": "1.0",
          "histogram": [
           {
            "bin_start": 0,
            "bin_end": 0.1,
            "count": 12724
           },
           {
            "bin_start": 0.1,
            "bin_end": 0.2,
            "count": 0
           },
           {
            "bin_start": 0.2,
            "bin_end": 0.30000000000000004,
            "count": 0
           },
           {
            "bin_start": 0.30000000000000004,
            "bin_end": 0.4,
            "count": 0
           },
           {
            "bin_start": 0.4,
            "bin_end": 0.5,
            "count": 0
           },
           {
            "bin_start": 0.5,
            "bin_end": 0.6000000000000001,
            "count": 0
           },
           {
            "bin_start": 0.6000000000000001,
            "bin_end": 0.7000000000000001,
            "count": 0
           },
           {
            "bin_start": 0.7000000000000001,
            "bin_end": 0.8,
            "count": 0
           },
           {
            "bin_start": 0.8,
            "bin_end": 0.9,
            "count": 0
           },
           {
            "bin_start": 0.9,
            "bin_end": 1,
            "count": 1
           }
          ]
         }
        },
        {
         "name": "Cash and cash equivalents",
         "dtype": "float64",
         "stats": {
          "unique_count": 11331,
          "nan_count": 0,
          "min": "0.0",
          "max": "1.0",
          "histogram": [
           {
            "bin_start": 0,
            "bin_end": 0.1,
            "count": 12676
           },
           {
            "bin_start": 0.1,
            "bin_end": 0.2,
            "count": 28
           },
           {
            "bin_start": 0.2,
            "bin_end": 0.30000000000000004,
            "count": 6
           },
           {
            "bin_start": 0.30000000000000004,
            "bin_end": 0.4,
            "count": 9
           },
           {
            "bin_start": 0.4,
            "bin_end": 0.5,
            "count": 2
           },
           {
            "bin_start": 0.5,
            "bin_end": 0.6000000000000001,
            "count": 2
           },
           {
            "bin_start": 0.6000000000000001,
            "bin_end": 0.7000000000000001,
            "count": 0
           },
           {
            "bin_start": 0.7000000000000001,
            "bin_end": 0.8,
            "count": 1
           },
           {
            "bin_start": 0.8,
            "bin_end": 0.9,
            "count": 0
           },
           {
            "bin_start": 0.9,
            "bin_end": 1,
            "count": 1
           }
          ]
         }
        },
        {
         "name": "Short-term investments",
         "dtype": "float64",
         "stats": {
          "unique_count": 3737,
          "nan_count": 0,
          "min": "0.0",
          "max": "1.0",
          "histogram": [
           {
            "bin_start": 0,
            "bin_end": 0.1,
            "count": 12690
           },
           {
            "bin_start": 0.1,
            "bin_end": 0.2,
            "count": 14
           },
           {
            "bin_start": 0.2,
            "bin_end": 0.30000000000000004,
            "count": 5
           },
           {
            "bin_start": 0.30000000000000004,
            "bin_end": 0.4,
            "count": 4
           },
           {
            "bin_start": 0.4,
            "bin_end": 0.5,
            "count": 1
           },
           {
            "bin_start": 0.5,
            "bin_end": 0.6000000000000001,
            "count": 3
           },
           {
            "bin_start": 0.6000000000000001,
            "bin_end": 0.7000000000000001,
            "count": 3
           },
           {
            "bin_start": 0.7000000000000001,
            "bin_end": 0.8,
            "count": 1
           },
           {
            "bin_start": 0.8,
            "bin_end": 0.9,
            "count": 1
           },
           {
            "bin_start": 0.9,
            "bin_end": 1,
            "count": 3
           }
          ]
         }
        },
        {
         "name": "Cash and short-term investments",
         "dtype": "float64",
         "stats": {
          "unique_count": 10561,
          "nan_count": 0,
          "min": "0.0",
          "max": "1.0",
          "histogram": [
           {
            "bin_start": 0,
            "bin_end": 0.1,
            "count": 12665
           },
           {
            "bin_start": 0.1,
            "bin_end": 0.2,
            "count": 19
           },
           {
            "bin_start": 0.2,
            "bin_end": 0.30000000000000004,
            "count": 11
           },
           {
            "bin_start": 0.30000000000000004,
            "bin_end": 0.4,
            "count": 4
           },
           {
            "bin_start": 0.4,
            "bin_end": 0.5,
            "count": 9
           },
           {
            "bin_start": 0.5,
            "bin_end": 0.6000000000000001,
            "count": 7
           },
           {
            "bin_start": 0.6000000000000001,
            "bin_end": 0.7000000000000001,
            "count": 1
           },
           {
            "bin_start": 0.7000000000000001,
            "bin_end": 0.8,
            "count": 3
           },
           {
            "bin_start": 0.8,
            "bin_end": 0.9,
            "count": 2
           },
           {
            "bin_start": 0.9,
            "bin_end": 1,
            "count": 4
           }
          ]
         }
        },
        {
         "name": "Total current assets",
         "dtype": "float64"
        },
        {
         "name": "Goodwill and Intangible Assets",
         "dtype": "float64"
        },
        {
         "name": "Long-term investments",
         "dtype": "float64"
        },
        {
         "name": "Total non-current assets",
         "dtype": "float64"
        },
        {
         "name": "Total current liabilities",
         "dtype": "float64"
        },
        {
         "name": "Deferred revenue",
         "dtype": "float64"
        },
        {
         "name": "Tax Liabilities",
         "dtype": "float64"
        },
        {
         "name": "Deposit Liabilities",
         "dtype": "float64"
        },
        {
         "name": "Total non-current liabilities",
         "dtype": "float64"
        },
        {
         "name": "Other comprehensive income",
         "dtype": "float64"
        },
        {
         "name": "Investments",
         "dtype": "float64"
        },
        {
         "name": "Stock-based compensation",
         "dtype": "float64"
        },
        {
         "name": "priceToSalesRatio",
         "dtype": "float64"
        },
        {
         "name": "priceEarningsRatio",
         "dtype": "float64"
        },
        {
         "name": "priceToFreeCashFlowsRatio",
         "dtype": "float64"
        },
        {
         "name": "priceEarningsToGrowthRatio",
         "dtype": "float64"
        },
        {
         "name": "priceSalesRatio",
         "dtype": "float64"
        },
        {
         "name": "enterpriseValueMultiple",
         "dtype": "float64"
        },
        {
         "name": "priceFairValue",
         "dtype": "float64"
        },
        {
         "name": "fixedAssetTurnover",
         "dtype": "float64"
        },
        {
         "name": "quickRatio",
         "dtype": "float64"
        },
        {
         "name": "cashRatio",
         "dtype": "float64"
        },
        {
         "name": "cashPerShare",
         "dtype": "float64"
        },
        {
         "name": "Cash per Share",
         "dtype": "float64"
        },
        {
         "name": "Book Value per Share",
         "dtype": "float64"
        },
        {
         "name": "Tangible Book Value per Share",
         "dtype": "float64"
        },
        {
         "name": "Interest Debt per Share",
         "dtype": "float64"
        },
        {
         "name": "PE ratio",
         "dtype": "float64"
        },
        {
         "name": "Price to Sales Ratio",
         "dtype": "float64"
        },
        {
         "name": "PFCF ratio",
         "dtype": "float64"
        },
        {
         "name": "EV to Sales",
         "dtype": "float64"
        },
        {
         "name": "Enterprise Value over EBITDA",
         "dtype": "float64"
        },
        {
         "name": "SG&A to Revenue",
         "dtype": "float64"
        },
        {
         "name": "R&D to Revenue",
         "dtype": "float64"
        },
        {
         "name": "Intangibles to Total Assets",
         "dtype": "float64"
        },
        {
         "name": "Stock-based compensation to Revenue",
         "dtype": "float64"
        },
        {
         "name": "Tangible Asset Value",
         "dtype": "float64"
        },
        {
         "name": "Average Receivables",
         "dtype": "float64"
        },
        {
         "name": "Average Inventory",
         "dtype": "float64"
        },
        {
         "name": "Inventory Turnover",
         "dtype": "float64"
        },
        {
         "name": "Weighted Average Shares Diluted Growth",
         "dtype": "float64"
        },
        {
         "name": "Asset Growth",
         "dtype": "float64"
        },
        {
         "name": "Debt Growth",
         "dtype": "float64"
        },
        {
         "name": "_deepnote_index_column",
         "dtype": "object"
        }
       ],
       "rows": [
        {
         "Revenue": 0.03974980491031367,
         "R&D Expenses": 0.005324313126503454,
         "SG&A Expense": 0.11582668262105748,
         "Dividend per Share": 0.00024236030423346422,
         "Cash and cash equivalents": 0.008896049896049897,
         "Short-term investments": 0.002500587544065805,
         "Cash and short-term investments": 0.010815789473684211,
         "Total current assets": 0.025349754776781523,
         "Goodwill and Intangible Assets": 0.21893158630690351,
         "Long-term investments": 0.00000501501998485464,
         "Total non-current assets": 0.0000020617290840066396,
         "Total current liabilities": 0.027652774740501637,
         "Deferred revenue": 1.7526120230993694e-9,
         "Tax Liabilities": 0.0000024303014146800435,
         "Deposit Liabilities": 0,
         "Total non-current liabilities": 0.000008169216387029862,
         "Other comprehensive income": 0.00004473287792013876,
         "Investments": 0.0036181669716652378,
         "Stock-based compensation": 0.07266081871345029,
         "priceToSalesRatio": 0.000007575352077871833,
         "priceEarningsRatio": 0.00017723545421669776,
         "priceToFreeCashFlowsRatio": 0.0004771514107056043,
         "priceEarningsToGrowthRatio": 0.00015492882461699026,
         "priceSalesRatio": 0.000006452536969327433,
         "enterpriseValueMultiple": 0.0002428855896823524,
         "priceFairValue": 5.0070237329618746e-8,
         "fixedAssetTurnover": 0.00000753602115652223,
         "quickRatio": 0.0000010411049999669481,
         "cashRatio": 0.000001542879045428745,
         "cashPerShare": 1.4867241669752686e-8,
         "Cash per Share": 1.4867241669752686e-8,
         "Book Value per Share": 0.0003889150887594327,
         "Tangible Book Value per Share": 2.0149004300409207e-8,
         "Interest Debt per Share": 7.881791025244864e-8,
         "PE ratio": 0.00017723545421669776,
         "Price to Sales Ratio": 0.000007575352077871833,
         "PFCF ratio": 0.0004771514107056043,
         "EV to Sales": 0.004852922841759629,
         "Enterprise Value over EBITDA": 0.00036664290962119545,
         "SG&A to Revenue": 0.0014268429758757947,
         "R&D to Revenue": 0.00009641080505683831,
         "Intangibles to Total Assets": 0.5887672058675776,
         "Stock-based compensation to Revenue": 0.0034278123162913886,
         "Tangible Asset Value": 0.033042098027961424,
         "Average Receivables": 0.02691858037578288,
         "Average Inventory": 0.14538414900067012,
         "Inventory Turnover": 0.0004974668437610674,
         "Weighted Average Shares Diluted Growth": 0.00010458325577499524,
         "Asset Growth": 0.00018939828863955458,
         "Debt Growth": 0.0002156114995983689,
         "_deepnote_index_column": "PG"
        },
        {
         "Revenue": 0.0023108419048148265,
         "R&D Expenses": 0.01202332059440607,
         "SG&A Expense": 0.0021332499692477435,
         "Dividend per Share": 0,
         "Cash and cash equivalents": 0.0008040694938498961,
         "Short-term investments": 0.0007149062414747356,
         "Cash and short-term investments": 0.0013986842758892714,
         "Total current assets": 0.001711308358794321,
         "Goodwill and Intangible Assets": 0.0004937042362877414,
         "Long-term investments": 0.00006819779453222401,
         "Total non-current assets": 1.1023264494494036e-8,
         "Total current liabilities": 0.011429807382607658,
         "Deferred revenue": 4.081448755750797e-9,
         "Tax Liabilities": 3.611722379962609e-7,
         "Deposit Liabilities": 0,
         "Total non-current liabilities": 0.0000017123329682417132,
         "Other comprehensive income": 0.00004921621525853285,
         "Investments": 0.002907050191758436,
         "Stock-based compensation": 0.025351641939853804,
         "priceToSalesRatio": 1.1740828361253971e-7,
         "priceEarningsRatio": 0.0007706093910171708,
         "priceToFreeCashFlowsRatio": 0.00003082515887994398,
         "priceEarningsToGrowthRatio": 0.000026208044245604885,
         "priceSalesRatio": 2.537042208091478e-7,
         "enterpriseValueMultiple": 0.00015176820083803074,
         "priceFairValue": 1.6767485406202855e-8,
         "fixedAssetTurnover": 0.000027165091956338796,
         "quickRatio": 0.0000017481969251836592,
         "cashRatio": 0.000002868612721802061,
         "cashPerShare": 2.4624873844752864e-7,
         "Cash per Share": 2.4624873844752864e-7,
         "Book Value per Share": 0.0003888743295728402,
         "Tangible Book Value per Share": 4.1029321865788625e-9,
         "Interest Debt per Share": 1.4801814749729053e-7,
         "PE ratio": 0.0007706093910171708,
         "Price to Sales Ratio": 1.1740828361253971e-7,
         "PFCF ratio": 0.00003082515887994398,
         "EV to Sales": 0.005790059400181465,
         "Enterprise Value over EBITDA": 0.0006451504556830925,
         "SG&A to Revenue": 0.0013932816649856947,
         "R&D to Revenue": 0.00010023192484178884,
         "Intangibles to Total Assets": 0.07002913694363509,
         "Stock-based compensation to Revenue": 0.003430721669916731,
         "Tangible Asset Value": 0.010534950431751537,
         "Average Receivables": 0.0036783665061180127,
         "Average Inventory": 0.007476229026227822,
         "Inventory Turnover": 0.0012320612020621001,
         "Weighted Average Shares Diluted Growth": 3.017762792477536e-7,
         "Asset Growth": 0.0003763592788965078,
         "Debt Growth": 0.0006134831243239368,
         "_deepnote_index_column": "VIPS"
        },
        {
         "Revenue": 0.0524511164061816,
         "R&D Expenses": 0.005324313126503454,
         "SG&A Expense": 0.08209584367512408,
         "Dividend per Share": 0.00003039404142143526,
         "Cash and cash equivalents": 0.0004168399168399168,
         "Short-term investments": 0,
         "Cash and short-term investments": 0.0004058704453441296,
         "Total current assets": 0.007079682913590185,
         "Goodwill and Intangible Assets": 0.007346315189807861,
         "Long-term investments": 0.00000501501998485464,
         "Total non-current assets": 3.742991193620874e-7,
         "Total current liabilities": 0.016013320141456573,
         "Deferred revenue": 1.7526120230993694e-9,
         "Tax Liabilities": 6.910422153712738e-7,
         "Deposit Liabilities": 0,
         "Total non-current liabilities": 0.000003738188512760714,
         "Other comprehensive income": 0.00004894566141465223,
         "Investments": 0.0025792857172448383,
         "Stock-based compensation": 0.03567251461988304,
         "priceToSalesRatio": 4.924257132101553e-7,
         "priceEarningsRatio": 0.00011371205101370935,
         "priceToFreeCashFlowsRatio": 0.000331870070973108,
         "priceEarningsToGrowthRatio": 0,
         "priceSalesRatio": 0,
         "enterpriseValueMultiple": 0.0000484175724646552,
         "priceFairValue": 0,
         "fixedAssetTurnover": 0.000013107314309970866,
         "quickRatio": 2.914565870111042e-7,
         "cashRatio": 2.2776245495487356e-7,
         "cashPerShare": 1.8338427165530018e-9,
         "Cash per Share": 1.8338427165530018e-9,
         "Book Value per Share": 0.0003888816425547591,
         "Tangible Book Value per Share": 2.3486020509480553e-8,
         "Interest Debt per Share": 7.384892605018745e-8,
         "PE ratio": 0.00011371205101370935,
         "Price to Sales Ratio": 4.924257132101553e-7,
         "PFCF ratio": 0.000331870070973108,
         "EV to Sales": 0.004801806851008416,
         "Enterprise Value over EBITDA": 0.00018723264116053752,
         "SG&A to Revenue": 0.0014039330642136784,
         "R&D to Revenue": 0.00009641080505683831,
         "Intangibles to Total Assets": 0.09735758062895611,
         "Stock-based compensation to Revenue": 0.003425615457431436,
         "Tangible Asset Value": 0.019942807968147565,
         "Average Receivables": 0.004524008350730689,
         "Average Inventory": 0.11484581919521769,
         "Inventory Turnover": 0.0008326694517084572,
         "Weighted Average Shares Diluted Growth": 2.866208643409512e-7,
         "Asset Growth": 0.00021731712122499718,
         "Debt Growth": 0.00024334819787691185,
         "_deepnote_index_column": "KR"
        },
        {
         "Revenue": 0.013856280520604114,
         "R&D Expenses": 0.005324313126503454,
         "SG&A Expense": 0.035605767074609225,
         "Dividend per Share": 0,
         "Cash and cash equivalents": 0.0001521891891891892,
         "Short-term investments": 0,
         "Cash and short-term investments": 0.0001481842105263158,
         "Total current assets": 0.0034357107865343305,
         "Goodwill and Intangible Assets": 0.0011166476772489513,
         "Long-term investments": 0.00000501501998485464,
         "Total non-current assets": 4.867931081740915e-8,
         "Total current liabilities": 0.01186862669766644,
         "Deferred revenue": 1.7526120230993694e-9,
         "Tax Liabilities": 3.611722379962609e-7,
         "Deposit Liabilities": 0,
         "Total non-current liabilities": 0.000002665363086327099,
         "Other comprehensive income": 0.00004919537681927436,
         "Investments": 0.0025792857172448383,
         "Stock-based compensation": 0.018498391812865497,
         "priceToSalesRatio": 6.601896940831521e-7,
         "priceEarningsRatio": 0.00027033022717599356,
         "priceToFreeCashFlowsRatio": 0.00039183270618044024,
         "priceEarningsToGrowthRatio": 0,
         "priceSalesRatio": 0,
         "enterpriseValueMultiple": 0.00011543392144087125,
         "priceFairValue": 0.00011896602541221367,
         "fixedAssetTurnover": 0.000029272694550877722,
         "quickRatio": 8.985495551124771e-7,
         "cashRatio": 3.5501825210506705e-7,
         "cashPerShare": 1.4241544500890332e-8,
         "Cash per Share": 1.4241544500890332e-8,
         "Book Value per Share": 0.0003888022153194447,
         "Tangible Book Value per Share": 1.230587495867803e-7,
         "Interest Debt per Share": 3.313445164889192e-7,
         "PE ratio": 0.00027033022717599356,
         "Price to Sales Ratio": 6.601896940831521e-7,
         "PFCF ratio": 0.00039183270618044024,
         "EV to Sales": 0.004804848376097345,
         "Enterprise Value over EBITDA": 0.0003144446500693729,
         "SG&A to Revenue": 0.0014214574369402972,
         "R&D to Revenue": 0.00009641080505683831,
         "Intangibles to Total Assets": 0.062393248266854225,
         "Stock-based compensation to Revenue": 0.0034247248389746984,
         "Tangible Asset Value": 0.012096872153291022,
         "Average Receivables": 0.003921791231732777,
         "Average Inventory": 0.06540255071107187,
         "Inventory Turnover": 0.0003793979189436977,
         "Weighted Average Shares Diluted Growth": 0.00010458325577499524,
         "Asset Growth": 0.0001793789564477913,
         "Debt Growth": 0.0001846419146330554,
         "_deepnote_index_column": "RAD"
        },
        {
         "Revenue": 0.009820929118302612,
         "R&D Expenses": 0.005324313126503454,
         "SG&A Expense": 0.018986063168731828,
         "Dividend per Share": 0.0001534552579909598,
         "Cash and cash equivalents": 0.0009015592515592515,
         "Short-term investments": 0,
         "Cash and short-term investments": 0.000877834008097166,
         "Total current assets": 0.0035226032707653993,
         "Goodwill and Intangible Assets": 0.035384535708736856,
         "Long-term investments": 0.00000501501998485464,
         "Total non-current assets": 3.432072732923444e-7,
         "Total current liabilities": 0.013342985253100008,
         "Deferred revenue": 1.7526120230993694e-9,
         "Tax Liabilities": 6.985346580740825e-7,
         "Deposit Liabilities": 0,
         "Total non-current liabilities": 0.000003180195837785645,
         "Other comprehensive income": 0.00004843278809202897,
         "Investments": 0.0025792857172448383,
         "Stock-based compensation": 0.025760233918128657,
         "priceToSalesRatio": 0.0000049322080316689925,
         "priceEarningsRatio": 0.00017673275510468765,
         "priceToFreeCashFlowsRatio": 0.0004012828211185407,
         "priceEarningsToGrowthRatio": 0.00015190595019889708,
         "priceSalesRatio": 0.000004118329717320655,
         "enterpriseValueMultiple": 0.00020772909818003965,
         "priceFairValue": 8.2374765019557e-8,
         "fixedAssetTurnover": 0.000010240592856560602,
         "quickRatio": 8.915166885897074e-7,
         "cashRatio": 9.723310088092896e-7,
         "cashPerShare": 6.63492850587774e-9,
         "Cash per Share": 6.63492850587774e-9,
         "Book Value per Share": 0.00038889039536311017,
         "Tangible Book Value per Share": 1.4086682103902016e-8,
         "Interest Debt per Share": 8.169747303274874e-8,
         "PE ratio": 0.00017673275510468765,
         "Price to Sales Ratio": 0.0000049322080316689925,
         "PFCF ratio": 0.0004012828211185407,
         "EV to Sales": 0.004837247153510942,
         "Enterprise Value over EBITDA": 0.00032502936010441467,
         "SG&A to Revenue": 0.0014106863590693023,
         "R&D to Revenue": 0.00009641080505683831,
         "Intangibles to Total Assets": 0.5931879835225561,
         "Stock-based compensation to Revenue": 0.0034262685776330435,
         "Tangible Asset Value": 0.013264984761126425,
         "Average Receivables": 0.006116910229645094,
         "Average Inventory": 0.03302628359907672,
         "Inventory Turnover": 0.00052714057717815,
         "Weighted Average Shares Diluted Growth": 0.00010458325577499524,
         "Asset Growth": 0.000186765471421281,
         "Debt Growth": 0.00021188265870396877,
         "_deepnote_index_column": "GIS"
        },
        {
         "Revenue": 0.0427722868525814,
         "R&D Expenses": 0.005324313126503454,
         "SG&A Expense": 0.03797386040905479,
         "Dividend per Share": 0.0003841331619386606,
         "Cash and cash equivalents": 0.0017484407484407484,
         "Short-term investments": 0,
         "Cash and short-term investments": 0.001702429149797571,
         "Total current assets": 0.012414701045756558,
         "Goodwill and Intangible Assets": 0.029449997410533946,
         "Long-term investments": 0.0010912683487043697,
         "Total non-current assets": 3.6060904350844494e-7,
         "Total current liabilities": 0.01824150642432837,
         "Deferred revenue": 1.7526120230993694e-9,
         "Tax Liabilities": 0.0000020368469235568693,
         "Deposit Liabilities": 0,
         "Total non-current liabilities": 0.00000666658611129443,
         "Other comprehensive income": 0.000045222164805581,
         "Investments": 0.0031080020699409345,
         "Stock-based compensation": 0.020029239766081872,
         "priceToSalesRatio": 0.000004186943712214226,
         "priceEarningsRatio": 0.00016168863374695737,
         "priceToFreeCashFlowsRatio": 0.0004358712398838204,
         "priceEarningsToGrowthRatio": 0.00013834359890279666,
         "priceSalesRatio": 0.000003443990195273271,
         "enterpriseValueMultiple": 0.00022521621110075152,
         "priceFairValue": 0.00011896602541221367,
         "fixedAssetTurnover": 0.00002961626526100687,
         "quickRatio": 7.738555047315095e-7,
         "cashRatio": 6.767503371420468e-7,
         "cashPerShare": 5.08925435770387e-9,
         "Cash per Share": 5.08925435770387e-9,
         "Book Value per Share": 0.00038885996731228894,
         "Tangible Book Value per Share": 1.399355607016049e-8,
         "Interest Debt per Share": 9.279493458788977e-8,
         "PE ratio": 0.00016168863374695737,
         "Price to Sales Ratio": 0.000004186943712214226,
         "PFCF ratio": 0.0004358712398838204,
         "EV to Sales": 0.004830593596594569,
         "Enterprise Value over EBITDA": 0.00034891295367920104,
         "SG&A to Revenue": 0.0013924610114336188,
         "R&D to Revenue": 0.00009641080505683831,
         "Intangibles to Total Assets": 0.32472621320204964,
         "Stock-based compensation to Revenue": 0.0034249623372298284,
         "Tangible Asset Value": 0.018907462127206606,
         "Average Receivables": 0.01640292275574113,
         "Average Inventory": 0.19612181294076353,
         "Inventory Turnover": 0.0003970449713700564,
         "Weighted Average Shares Diluted Growth": 0.00010458325577499524,
         "Asset Growth": 0.0001685551523282222,
         "Debt Growth": 0.00020484745642537146,
         "_deepnote_index_column": "PM"
        },
        {
         "Revenue": 0.02470203022035219,
         "R&D Expenses": 0.005324313126503454,
         "SG&A Expense": 0.0929823171545618,
         "Dividend per Share": 0.00012078413854772318,
         "Cash and cash equivalents": 0.018721413721413723,
         "Short-term investments": 0.004306698002350176,
         "Cash and short-term investments": 0.021938259109311742,
         "Total current assets": 0.026447386250021045,
         "Goodwill and Intangible Assets": 0.0682893987259827,
         "Long-term investments": 0.013670944478713748,
         "Total non-current assets": 0.0000010805093692132197,
         "Total current liabilities": 0.02696920136758521,
         "Deferred revenue": 1.7526120230993694e-9,
         "Tax Liabilities": 0.0000015834528908112256,
         "Deposit Liabilities": 0,
         "Total non-current liabilities": 0.000006312207444068435,
         "Other comprehensive income": 0.00004583611449796008,
         "Investments": 0.011020195909410583,
         "Stock-based compensation": 0.05058479532163743,
         "priceToSalesRatio": 0.000010655265540312746,
         "priceEarningsRatio": 0.0002462630347269394,
         "priceToFreeCashFlowsRatio": 0.0004982792000799364,
         "priceEarningsToGrowthRatio": 0.00022578728086236375,
         "priceSalesRatio": 0.000009272752545901299,
         "enterpriseValueMultiple": 0.00035813287136130954,
         "priceFairValue": 1.0266866416542273e-7,
         "fixedAssetTurnover": 0.0000071052902586487014,
         "quickRatio": 0.000001660736766686778,
         "cashRatio": 0.0000033825309938270844,
         "cashPerShare": 1.9298832361612502e-8,
         "Cash per Share": 1.9298832361612502e-8,
         "Book Value per Share": 0.00038888435743361394,
         "Tangible Book Value per Share": 1.3663049950411152e-8,
         "Interest Debt per Share": 7.03094833108887e-8,
         "PE ratio": 0.0002462630347269394,
         "Price to Sales Ratio": 0.000010655265540312746,
         "PFCF ratio": 0.0004982792000799364,
         "EV to Sales": 0.00487528387986987,
         "Enterprise Value over EBITDA": 0.0004939569125239445,
         "SG&A to Revenue": 0.0014415121581191495,
         "R&D to Revenue": 0.00009641080505683831,
         "Intangibles to Total Assets": 0.2879533808901839,
         "Stock-based compensation to Revenue": 0.003427634192600041,
         "Tangible Asset Value": 0.035377334350570465,
         "Average Receivables": 0.01949686847599165,
         "Average Inventory": 0.06783104464276217,
         "Inventory Turnover": 0.0006591918894695378,
         "Weighted Average Shares Diluted Growth": 2.92126542412563e-7,
         "Asset Growth": 0.00018683860523289973,
         "Debt Growth": 0.00021616255982906843,
         "_deepnote_index_column": "KO"
        },
        {
         "Revenue": 0.2526708102080882,
         "R&D Expenses": 0.005324313126503454,
         "SG&A Expense": 0.49212609133760604,
         "Dividend per Share": 0.00018612637743419636,
         "Cash and cash equivalents": 0.007568607068607069,
         "Short-term investments": 0,
         "Cash and short-term investments": 0.007369433198380567,
         "Total current assets": 0.04905667033612859,
         "Goodwill and Intangible Assets": 0.05052048267647211,
         "Long-term investments": 0.00000501501998485464,
         "Total non-current assets": 0.0000026275794518770447,
         "Total current liabilities": 0.045661798386884764,
         "Deferred revenue": 1.7526120230993694e-9,
         "Tax Liabilities": 0.0000021802158271673723,
         "Deposit Liabilities": 0,
         "Total non-current liabilities": 0.000010354227868104115,
         "Other comprehensive income": 0.000047463754244867825,
         "Investments": 0.0025792857172448383,
         "Stock-based compensation": 0.020029239766081872,
         "priceToSalesRatio": 0.0000013444971168542074,
         "priceEarningsRatio": 0.00014401384635946,
         "priceToFreeCashFlowsRatio": 0.0005095031964106422,
         "priceEarningsToGrowthRatio": 0,
         "priceSalesRatio": 0,
         "enterpriseValueMultiple": 0.000031202541260220777,
         "priceFairValue": 0,
         "fixedAssetTurnover": 0.000009112248386056335,
         "quickRatio": 4.139834765133529e-7,
         "cashRatio": 6.384109285372619e-7,
         "cashPerShare": 1.047043804813766e-8,
         "Cash per Share": 1.047043804813766e-8,
         "Book Value per Share": 0.00038891098076173893,
         "Tangible Book Value per Share": 5.173607674507172e-8,
         "Interest Debt per Share": 8.89106682539934e-8,
         "PE ratio": 0.00014401384635946,
         "Price to Sales Ratio": 0.0000013444971168542074,
         "PFCF ratio": 0.0005095031964106422,
         "EV to Sales": 0.004807358252491867,
         "Enterprise Value over EBITDA": 0.00023335092540850575,
         "SG&A to Revenue": 0.0014103102261912674,
         "R&D to Revenue": 0.00009641080505683831,
         "Intangibles to Total Assets": 0.09575002511805486,
         "Stock-based compensation to Revenue": 0.0034249623372298284,
         "Tangible Asset Value": 0.08245604504187443,
         "Average Receivables": 0.028068893528183717,
         "Average Inventory": 0.943071702849606,
         "Inventory Turnover": 0.0004909462990141969,
         "Weighted Average Shares Diluted Growth": 2.867392660199106e-7,
         "Asset Growth": 0.00018431548873205423,
         "Debt Growth": 0.00020155946371553093,
         "_deepnote_index_column": "WMT"
        },
        {
         "Revenue": 0.018474816767343447,
         "R&D Expenses": 0.005324313126503454,
         "SG&A Expense": 0.04581298275626612,
         "Dividend per Share": 0.00005742196750629463,
         "Cash and cash equivalents": 0.0016954261954261955,
         "Short-term investments": 0,
         "Cash and short-term investments": 0.0016508097165991904,
         "Total current assets": 0.009420869109250812,
         "Goodwill and Intangible Assets": 0.11322181366202289,
         "Long-term investments": 0.000669003665979609,
         "Total non-current assets": 0.0000010070075715818986,
         "Total current liabilities": 0.017682816648387063,
         "Deferred revenue": 1.7526120230993694e-9,
         "Tax Liabilities": 0.0000014773437022633393,
         "Deposit Liabilities": 0,
         "Total non-current liabilities": 0.000005636298908450635,
         "Other comprehensive income": 0.00004493421127969873,
         "Investments": 0.002902471521016598,
         "Stock-based compensation": 0.040643274853801176,
         "priceToSalesRatio": 0.0000047236294330164675,
         "priceEarningsRatio": 0.00026611681488190907,
         "priceToFreeCashFlowsRatio": 0.0007184401111294501,
         "priceEarningsToGrowthRatio": 0.0002567118482599843,
         "priceSalesRatio": 0.0000043573877680591395,
         "enterpriseValueMultiple": 0.0003561914286138215,
         "priceFairValue": 3.924345177187267e-8,
         "fixedAssetTurnover": 0.000007869530044496177,
         "quickRatio": 9.371015085523145e-7,
         "cashRatio": 7.080000145911974e-7,
         "cashPerShare": 4.5641576352250945e-9,
         "Cash per Share": 4.5641576352250945e-9,
         "Book Value per Share": 0.00038889993960567935,
         "Tangible Book Value per Share": 1.2525451538235255e-8,
         "Interest Debt per Share": 7.125989143660635e-8,
         "PE ratio": 0.00026611681488190907,
         "Price to Sales Ratio": 0.0000047236294330164675,
         "PFCF ratio": 0.0007184401111294501,
         "EV to Sales": 0.004835795275681035,
         "Enterprise Value over EBITDA": 0.0005029890473183002,
         "SG&A to Revenue": 0.0014197477420401393,
         "R&D to Revenue": 0.00009641080505683831,
         "Intangibles to Total Assets": 0.6578920928363309,
         "Stock-based compensation to Revenue": 0.003427396694344911,
         "Tangible Asset Value": 0.018605519062567168,
         "Average Receivables": 0.021198329853862215,
         "Average Inventory": 0.07682980013402402,
         "Inventory Turnover": 0.000433266665980037,
         "Weighted Average Shares Diluted Growth": 0.00010458325577499524,
         "Asset Growth": 0.00016835403434627074,
         "Debt Growth": 0.0001884993362479521,
         "_deepnote_index_column": "MDLZ"
        },
        {
         "Revenue": 0.01332414727694435,
         "R&D Expenses": 0.005324313126503454,
         "SG&A Expense": 0.013950396182916745,
         "Dividend per Share": 0.00019800678450446424,
         "Cash and cash equivalents": 0.003452182952182952,
         "Short-term investments": 0,
         "Cash and short-term investments": 0.003361336032388664,
         "Total current assets": 0.005514615977312943,
         "Goodwill and Intangible Assets": 0.044885804547102386,
         "Long-term investments": 0.00782543718436718,
         "Total non-current assets": 5.050869295895323e-7,
         "Total current liabilities": 0.014480336068466493,
         "Deferred revenue": 1.7526120230993694e-9,
         "Tax Liabilities": 0.0000015939828102854433,
         "Deposit Liabilities": 0,
         "Total non-current liabilities": 0.000005449562386999128,
         "Other comprehensive income": 0.0000476475294626057,
         "Investments": 0.006385750539009807,
         "Stock-based compensation": 0.020029239766081872,
         "priceToSalesRatio": 0.00001052487078740672,
         "priceEarningsRatio": 0.00018186085300107624,
         "priceToFreeCashFlowsRatio": 0.0004908842469598673,
         "priceEarningsToGrowthRatio": 0.00015989263744220933,
         "priceSalesRatio": 0.000008798176868422702,
         "enterpriseValueMultiple": 0.00023811421433700267,
         "priceFairValue": 5.224260419573244e-7,
         "fixedAssetTurnover": 0.000027760214195963875,
         "quickRatio": 9.234193989317366e-7,
         "cashRatio": 0.000002631649893788104,
         "cashPerShare": 7.899015423286359e-9,
         "Cash per Share": 7.899015423286359e-9,
         "Book Value per Share": 0.0003888756224649687,
         "Tangible Book Value per Share": 7.918451869022113e-9,
         "Interest Debt per Share": 6.535240600070619e-8,
         "PE ratio": 0.00018186085300107624,
         "Price to Sales Ratio": 0.00001052487078740672,
         "PFCF ratio": 0.0004908842469598673,
         "EV to Sales": 0.00487489883197824,
         "Enterprise Value over EBITDA": 0.0003505278585828342,
         "SG&A to Revenue": 0.001395213620222873,
         "R&D to Revenue": 0.00009641080505683831,
         "Intangibles to Total Assets": 0.5051743193007134,
         "Stock-based compensation to Revenue": 0.0034249623372298284,
         "Tangible Asset Value": 0.016280518098081502,
         "Average Receivables": 0.0004989561586638831,
         "Average Inventory": 0.041685724314722436,
         "Inventory Turnover": 0.000571833953610624,
         "Weighted Average Shares Diluted Growth": 0.00010458325577499524,
         "Asset Growth": 0.0001808233492272608,
         "Debt Growth": 0.0001952773770855563,
         "_deepnote_index_column": "MO"
        }
       ]
      },
      "text/plain": "        Revenue  R&D Expenses  SG&A Expense  Dividend per Share  \\\nPG     0.039750      0.005324      0.115827            0.000242   \nVIPS   0.002311      0.012023      0.002133            0.000000   \nKR     0.052451      0.005324      0.082096            0.000030   \nRAD    0.013856      0.005324      0.035606            0.000000   \nGIS    0.009821      0.005324      0.018986            0.000153   \n...         ...           ...           ...                 ...   \nTSRI   0.000365      0.005324      0.000329            0.000000   \nTZOO   0.000393      0.005887      0.000717            0.000000   \nUSATP  0.000373      0.011327      0.000399            0.000156   \nWSTG   0.000420      0.005324      0.000381            0.000067   \nWTT    0.000349      0.005575      0.000343            0.000000   \n\n       Cash and cash equivalents  Short-term investments  \\\nPG                      0.008896                0.002501   \nVIPS                    0.000804                0.000715   \nKR                      0.000417                0.000000   \nRAD                     0.000152                0.000000   \nGIS                     0.000902                0.000000   \n...                          ...                     ...   \nTSRI                    0.000005                0.000002   \nTZOO                    0.000029                0.000000   \nUSATP                   0.000020                0.001690   \nWSTG                    0.000014                0.000000   \nWTT                     0.000010                0.000000   \n\n       Cash and short-term investments  Total current assets  \\\nPG                            0.010816              0.025350   \nVIPS                          0.001399              0.001711   \nKR                            0.000406              0.007080   \nRAD                           0.000148              0.003436   \nGIS                           0.000878              0.003523   \n...                                ...                   ...   \nTSRI                          0.000006              0.000011   \nTZOO                          0.000028              0.000036   \nUSATP                         0.003079              0.000042   \nWSTG                          0.000014              0.000081   \nWTT                           0.000009              0.000019   \n\n       Goodwill and Intangible Assets  Long-term investments  ...  \\\nPG                           0.218932               0.000005  ...   \nVIPS                         0.000494               0.000068  ...   \nKR                           0.007346               0.000005  ...   \nRAD                          0.001117               0.000005  ...   \nGIS                          0.035385               0.000005  ...   \n...                               ...                    ...  ...   \nTSRI                         0.000000               0.000005  ...   \nTZOO                         0.000000               0.000005  ...   \nUSATP                        0.000034               0.002733  ...   \nWSTG                         0.000000               0.000005  ...   \nWTT                          0.000003               0.000005  ...   \n\n       R&D to Revenue  Intangibles to Total Assets  \\\nPG           0.000096                     0.588767   \nVIPS         0.000100                     0.070029   \nKR           0.000096                     0.097358   \nRAD          0.000096                     0.062393   \nGIS          0.000096                     0.593188   \n...               ...                          ...   \nTSRI         0.000096                     0.000000   \nTZOO         0.000107                     0.000000   \nUSATP        0.000688                     0.149954   \nWSTG         0.000096                     0.000000   \nWTT          0.000113                     0.038280   \n\n       Stock-based compensation to Revenue  Tangible Asset Value  \\\nPG                                0.003428              0.033042   \nVIPS                              0.003431              0.010535   \nKR                                0.003426              0.019943   \nRAD                               0.003425              0.012097   \nGIS                               0.003426              0.013265   \n...                                    ...                   ...   \nTSRI                              0.003425              0.009538   \nTZOO                              0.003430              0.009554   \nUSATP                             0.004048              0.015953   \nWSTG                              0.003431              0.009577   \nWTT                               0.003438              0.009546   \n\n       Average Receivables  Average Inventory  Inventory Turnover  \\\nPG                0.026919           0.145384            0.000497   \nVIPS              0.003678           0.007476            0.001232   \nKR                0.004524           0.114846            0.000833   \nRAD               0.003922           0.065403            0.000379   \nGIS               0.006117           0.033026            0.000527   \n...                    ...                ...                 ...   \nTSRI              0.000034           0.000000            0.000000   \nTZOO              0.000064           0.000000            0.000000   \nUSATP             0.003678           0.007476            0.001232   \nWSTG              0.000336           0.000046            0.003516   \nWTT               0.000022           0.000176            0.000173   \n\n       Weighted Average Shares Diluted Growth  Asset Growth  Debt Growth  \nPG                               1.045833e-04      0.000189     0.000216  \nVIPS                             3.017763e-07      0.000376     0.000613  \nKR                               2.866209e-07      0.000217     0.000243  \nRAD                              1.045833e-04      0.000179     0.000185  \nGIS                              1.045833e-04      0.000187     0.000212  \n...                                       ...           ...          ...  \nTSRI                             2.960042e-07      0.000183     0.000193  \nTZOO                             2.814408e-07      0.000143     0.000009  \nUSATP                            1.045833e-04      0.000376     0.000613  \nWSTG                             2.876273e-07      0.000221     0.000193  \nWTT                              2.689494e-07      0.000187     0.000009  \n\n[12725 rows x 50 columns]",
      "text/html": "<div>\n<style scoped>\n    .dataframe tbody tr th:only-of-type {\n        vertical-align: middle;\n    }\n\n    .dataframe tbody tr th {\n        vertical-align: top;\n    }\n\n    .dataframe thead th {\n        text-align: right;\n    }\n</style>\n<table border=\"1\" class=\"dataframe\">\n  <thead>\n    <tr style=\"text-align: right;\">\n      <th></th>\n      <th>Revenue</th>\n      <th>R&amp;D Expenses</th>\n      <th>SG&amp;A Expense</th>\n      <th>Dividend per Share</th>\n      <th>Cash and cash equivalents</th>\n      <th>Short-term investments</th>\n      <th>Cash and short-term investments</th>\n      <th>Total current assets</th>\n      <th>Goodwill and Intangible Assets</th>\n      <th>Long-term investments</th>\n      <th>...</th>\n      <th>R&amp;D to Revenue</th>\n      <th>Intangibles to Total Assets</th>\n      <th>Stock-based compensation to Revenue</th>\n      <th>Tangible Asset Value</th>\n      <th>Average Receivables</th>\n      <th>Average Inventory</th>\n      <th>Inventory Turnover</th>\n      <th>Weighted Average Shares Diluted Growth</th>\n      <th>Asset Growth</th>\n      <th>Debt Growth</th>\n    </tr>\n  </thead>\n  <tbody>\n    <tr>\n      <th>PG</th>\n      <td>0.039750</td>\n      <td>0.005324</td>\n      <td>0.115827</td>\n      <td>0.000242</td>\n      <td>0.008896</td>\n      <td>0.002501</td>\n      <td>0.010816</td>\n      <td>0.025350</td>\n      <td>0.218932</td>\n      <td>0.000005</td>\n      <td>...</td>\n      <td>0.000096</td>\n      <td>0.588767</td>\n      <td>0.003428</td>\n      <td>0.033042</td>\n      <td>0.026919</td>\n      <td>0.145384</td>\n      <td>0.000497</td>\n      <td>1.045833e-04</td>\n      <td>0.000189</td>\n      <td>0.000216</td>\n    </tr>\n    <tr>\n      <th>VIPS</th>\n      <td>0.002311</td>\n      <td>0.012023</td>\n      <td>0.002133</td>\n      <td>0.000000</td>\n      <td>0.000804</td>\n      <td>0.000715</td>\n      <td>0.001399</td>\n      <td>0.001711</td>\n      <td>0.000494</td>\n      <td>0.000068</td>\n      <td>...</td>\n      <td>0.000100</td>\n      <td>0.070029</td>\n      <td>0.003431</td>\n      <td>0.010535</td>\n      <td>0.003678</td>\n      <td>0.007476</td>\n      <td>0.001232</td>\n      <td>3.017763e-07</td>\n      <td>0.000376</td>\n      <td>0.000613</td>\n    </tr>\n    <tr>\n      <th>KR</th>\n      <td>0.052451</td>\n      <td>0.005324</td>\n      <td>0.082096</td>\n      <td>0.000030</td>\n      <td>0.000417</td>\n      <td>0.000000</td>\n      <td>0.000406</td>\n      <td>0.007080</td>\n      <td>0.007346</td>\n      <td>0.000005</td>\n      <td>...</td>\n      <td>0.000096</td>\n      <td>0.097358</td>\n      <td>0.003426</td>\n      <td>0.019943</td>\n      <td>0.004524</td>\n      <td>0.114846</td>\n      <td>0.000833</td>\n      <td>2.866209e-07</td>\n      <td>0.000217</td>\n      <td>0.000243</td>\n    </tr>\n    <tr>\n      <th>RAD</th>\n      <td>0.013856</td>\n      <td>0.005324</td>\n      <td>0.035606</td>\n      <td>0.000000</td>\n      <td>0.000152</td>\n      <td>0.000000</td>\n      <td>0.000148</td>\n      <td>0.003436</td>\n      <td>0.001117</td>\n      <td>0.000005</td>\n      <td>...</td>\n      <td>0.000096</td>\n      <td>0.062393</td>\n      <td>0.003425</td>\n      <td>0.012097</td>\n      <td>0.003922</td>\n      <td>0.065403</td>\n      <td>0.000379</td>\n      <td>1.045833e-04</td>\n      <td>0.000179</td>\n      <td>0.000185</td>\n    </tr>\n    <tr>\n      <th>GIS</th>\n      <td>0.009821</td>\n      <td>0.005324</td>\n      <td>0.018986</td>\n      <td>0.000153</td>\n      <td>0.000902</td>\n      <td>0.000000</td>\n      <td>0.000878</td>\n      <td>0.003523</td>\n      <td>0.035385</td>\n      <td>0.000005</td>\n      <td>...</td>\n      <td>0.000096</td>\n      <td>0.593188</td>\n      <td>0.003426</td>\n      <td>0.013265</td>\n      <td>0.006117</td>\n      <td>0.033026</td>\n      <td>0.000527</td>\n      <td>1.045833e-04</td>\n      <td>0.000187</td>\n      <td>0.000212</td>\n    </tr>\n    <tr>\n      <th>...</th>\n      <td>...</td>\n      <td>...</td>\n      <td>...</td>\n      <td>...</td>\n      <td>...</td>\n      <td>...</td>\n      <td>...</td>\n      <td>...</td>\n      <td>...</td>\n      <td>...</td>\n      <td>...</td>\n      <td>...</td>\n      <td>...</td>\n      <td>...</td>\n      <td>...</td>\n      <td>...</td>\n      <td>...</td>\n      <td>...</td>\n      <td>...</td>\n      <td>...</td>\n      <td>...</td>\n    </tr>\n    <tr>\n      <th>TSRI</th>\n      <td>0.000365</td>\n      <td>0.005324</td>\n      <td>0.000329</td>\n      <td>0.000000</td>\n      <td>0.000005</td>\n      <td>0.000002</td>\n      <td>0.000006</td>\n      <td>0.000011</td>\n      <td>0.000000</td>\n      <td>0.000005</td>\n      <td>...</td>\n      <td>0.000096</td>\n      <td>0.000000</td>\n      <td>0.003425</td>\n      <td>0.009538</td>\n      <td>0.000034</td>\n      <td>0.000000</td>\n      <td>0.000000</td>\n      <td>2.960042e-07</td>\n      <td>0.000183</td>\n      <td>0.000193</td>\n    </tr>\n    <tr>\n      <th>TZOO</th>\n      <td>0.000393</td>\n      <td>0.005887</td>\n      <td>0.000717</td>\n      <td>0.000000</td>\n      <td>0.000029</td>\n      <td>0.000000</td>\n      <td>0.000028</td>\n      <td>0.000036</td>\n      <td>0.000000</td>\n      <td>0.000005</td>\n      <td>...</td>\n      <td>0.000107</td>\n      <td>0.000000</td>\n      <td>0.003430</td>\n      <td>0.009554</td>\n      <td>0.000064</td>\n      <td>0.000000</td>\n      <td>0.000000</td>\n      <td>2.814408e-07</td>\n      <td>0.000143</td>\n      <td>0.000009</td>\n    </tr>\n    <tr>\n      <th>USATP</th>\n      <td>0.000373</td>\n      <td>0.011327</td>\n      <td>0.000399</td>\n      <td>0.000156</td>\n      <td>0.000020</td>\n      <td>0.001690</td>\n      <td>0.003079</td>\n      <td>0.000042</td>\n      <td>0.000034</td>\n      <td>0.002733</td>\n      <td>...</td>\n      <td>0.000688</td>\n      <td>0.149954</td>\n      <td>0.004048</td>\n      <td>0.015953</td>\n      <td>0.003678</td>\n      <td>0.007476</td>\n      <td>0.001232</td>\n      <td>1.045833e-04</td>\n      <td>0.000376</td>\n      <td>0.000613</td>\n    </tr>\n    <tr>\n      <th>WSTG</th>\n      <td>0.000420</td>\n      <td>0.005324</td>\n      <td>0.000381</td>\n      <td>0.000067</td>\n      <td>0.000014</td>\n      <td>0.000000</td>\n      <td>0.000014</td>\n      <td>0.000081</td>\n      <td>0.000000</td>\n      <td>0.000005</td>\n      <td>...</td>\n      <td>0.000096</td>\n      <td>0.000000</td>\n      <td>0.003431</td>\n      <td>0.009577</td>\n      <td>0.000336</td>\n      <td>0.000046</td>\n      <td>0.003516</td>\n      <td>2.876273e-07</td>\n      <td>0.000221</td>\n      <td>0.000193</td>\n    </tr>\n    <tr>\n      <th>WTT</th>\n      <td>0.000349</td>\n      <td>0.005575</td>\n      <td>0.000343</td>\n      <td>0.000000</td>\n      <td>0.000010</td>\n      <td>0.000000</td>\n      <td>0.000009</td>\n      <td>0.000019</td>\n      <td>0.000003</td>\n      <td>0.000005</td>\n      <td>...</td>\n      <td>0.000113</td>\n      <td>0.038280</td>\n      <td>0.003438</td>\n      <td>0.009546</td>\n      <td>0.000022</td>\n      <td>0.000176</td>\n      <td>0.000173</td>\n      <td>2.689494e-07</td>\n      <td>0.000187</td>\n      <td>0.000009</td>\n    </tr>\n  </tbody>\n</table>\n<p>12725 rows × 50 columns</p>\n</div>"
     },
     "metadata": {}
    }
   ],
   "execution_count": null
  },
  {
   "cell_type": "markdown",
   "source": "# Exploratory Data Analysis",
   "metadata": {
    "cell_id": "c3e4d275fa0c460585b102357e1beac3",
    "tags": [],
    "deepnote_cell_type": "markdown",
    "deepnote_cell_height": 82
   }
  },
  {
   "cell_type": "markdown",
   "source": "## Market Cap",
   "metadata": {
    "cell_id": "522894af38a94025b3ef6735490f4163",
    "tags": [],
    "deepnote_cell_type": "markdown",
    "deepnote_cell_height": 70
   }
  },
  {
   "cell_type": "code",
   "metadata": {
    "cell_id": "ed00f63be07b419cb70af5a961e5bd25",
    "tags": [],
    "deepnote_to_be_reexecuted": false,
    "source_hash": "e1617eec",
    "execution_start": 1650458584820,
    "execution_millis": 3,
    "deepnote_cell_type": "code",
    "deepnote_cell_height": 189,
    "deepnote_output_heights": [
     527
    ]
   },
   "source": "# Plot the distribution of the market Cap\n# TODO\n#figure = ex.histogram(data_frame=X_feature_selected, \n#                        x='Market Cap', \n#                        title='Market Cap Distribution', \n#                        nbins=X_feature_selected['Market Cap'].nunique())\n#figure.show()",
   "outputs": [],
   "execution_count": null
  },
  {
   "cell_type": "markdown",
   "source": "# Split Data into Training and Test Sets",
   "metadata": {
    "cell_id": "a2afe1b8630449259227efed11b4e5ee",
    "tags": [],
    "deepnote_cell_type": "markdown",
    "deepnote_cell_height": 82
   }
  },
  {
   "cell_type": "code",
   "metadata": {
    "cell_id": "5653ef1f55984cf886e8719ce63c450a",
    "tags": [],
    "deepnote_to_be_reexecuted": false,
    "source_hash": "a840e501",
    "execution_start": 1650458584836,
    "execution_millis": 5,
    "deepnote_cell_type": "code",
    "deepnote_cell_height": 117
   },
   "source": "# Split data\ntest_size = 0.33\nX_train, X_test, y_train, y_test = train_test_split(X_feature_selected, y, test_size=test_size)",
   "outputs": [],
   "execution_count": null
  },
  {
   "cell_type": "markdown",
   "source": "# Model Definition",
   "metadata": {
    "cell_id": "c03f82ac1cba442ab7a0a24daf426459",
    "tags": [],
    "deepnote_cell_type": "markdown",
    "deepnote_cell_height": 82
   }
  },
  {
   "cell_type": "markdown",
   "source": "## Hyperparameters Tuning",
   "metadata": {
    "cell_id": "4aa0623ccf164ae2bea1bd01e2480a48",
    "tags": [],
    "deepnote_cell_type": "markdown",
    "deepnote_cell_height": 70
   }
  },
  {
   "cell_type": "code",
   "metadata": {
    "cell_id": "4229081629944898b5b0d149f1dd7f62",
    "tags": [],
    "deepnote_to_be_reexecuted": false,
    "source_hash": "80508acc",
    "execution_start": 1650458584888,
    "execution_millis": 1,
    "deepnote_cell_type": "code",
    "deepnote_cell_height": 153
   },
   "source": "# Set initial space of hyperparameters\nparameters = {\n    'max_depth': range(1, 10, 1),\n    'min_child_weight': range(1, 20, 1)\n}",
   "outputs": [],
   "execution_count": null
  },
  {
   "cell_type": "code",
   "metadata": {
    "cell_id": "c86d3cd5a7994c5ba8c9ab9784f382af",
    "tags": [],
    "deepnote_to_be_reexecuted": false,
    "source_hash": "c5f669a2",
    "execution_start": 1650458584889,
    "execution_millis": 1108162,
    "is_output_hidden": false,
    "deepnote_cell_type": "code",
    "deepnote_cell_height": 749.390625,
    "deepnote_output_heights": [
     null,
     462.796875
    ]
   },
   "source": "# Perform a Grid Search for hyperparameters tuning\ngrid_search = GridSearchCV(estimator=XGBClassifier(eval_metric='logloss', use_label_encoder=False), \n                            param_grid=parameters,\n                            scoring='accuracy',\n                            n_jobs=-1,\n                            cv=2,\n                            verbose=3)\n\ngrid_search.fit(X_train, y_train)",
   "outputs": [
    {
     "name": "stdout",
     "text": "Fitting 2 folds for each of 171 candidates, totalling 342 fits\n",
     "output_type": "stream"
    },
    {
     "output_type": "execute_result",
     "execution_count": 20,
     "data": {
      "text/plain": "GridSearchCV(cv=2,\n             estimator=XGBClassifier(base_score=None, booster=None,\n                                     callbacks=None, colsample_bylevel=None,\n                                     colsample_bynode=None,\n                                     colsample_bytree=None,\n                                     early_stopping_rounds=None,\n                                     enable_categorical=False,\n                                     eval_metric='logloss', gamma=None,\n                                     gpu_id=None, grow_policy=None,\n                                     importance_type=None,\n                                     interaction_constraints=None,\n                                     learning_rate=None, max_bin=None,\n                                     m...nehot=None,\n                                     max_delta_step=None, max_depth=None,\n                                     max_leaves=None, min_child_weight=None,\n                                     missing=nan, monotone_constraints=None,\n                                     n_estimators=100, n_jobs=None,\n                                     num_parallel_tree=None, predictor=None,\n                                     random_state=None, reg_alpha=None,\n                                     reg_lambda=None, ...),\n             n_jobs=-1,\n             param_grid={'max_depth': range(1, 10),\n                         'min_child_weight': range(1, 20)},\n             scoring='accuracy', verbose=3)"
     },
     "metadata": {}
    }
   ],
   "execution_count": null
  },
  {
   "cell_type": "code",
   "metadata": {
    "cell_id": "28318c07b9244ccbb7915c9fbf99c71b",
    "tags": [],
    "deepnote_to_be_reexecuted": false,
    "source_hash": "6da24ddf",
    "execution_start": 1650459692568,
    "execution_millis": 1191643,
    "deepnote_cell_type": "code",
    "deepnote_cell_height": 136.1875,
    "deepnote_output_heights": [
     21.1875
    ]
   },
   "source": "# TBest hyperparameters combinations\ngrid_search.best_params_",
   "outputs": [
    {
     "output_type": "execute_result",
     "execution_count": 21,
     "data": {
      "text/plain": "{'max_depth': 2, 'min_child_weight': 18}"
     },
     "metadata": {}
    }
   ],
   "execution_count": null
  },
  {
   "cell_type": "code",
   "metadata": {
    "cell_id": "9515f0cc32364e76ac5f2ef17da6eef2",
    "tags": [],
    "deepnote_to_be_reexecuted": false,
    "source_hash": "672589e3",
    "execution_start": 1650459692569,
    "execution_millis": 483,
    "deepnote_cell_type": "code",
    "deepnote_cell_height": 136.1875,
    "deepnote_output_heights": [
     21.1875
    ]
   },
   "source": "# Best score\ngrid_search.best_score_",
   "outputs": [
    {
     "output_type": "execute_result",
     "execution_count": 22,
     "data": {
      "text/plain": "0.6459823172622501"
     },
     "metadata": {}
    }
   ],
   "execution_count": null
  },
  {
   "cell_type": "markdown",
   "source": "## Training",
   "metadata": {
    "cell_id": "4b6f806a5f0346be95743b6d3b1f7a53",
    "tags": [],
    "deepnote_cell_type": "markdown",
    "deepnote_cell_height": 70
   }
  },
  {
   "cell_type": "code",
   "metadata": {
    "cell_id": "9382b7f0fa454052a121d16d45f49c6a",
    "tags": [],
    "deepnote_to_be_reexecuted": false,
    "source_hash": "5746690",
    "execution_start": 1650459692620,
    "execution_millis": 1191616,
    "deepnote_cell_type": "code",
    "deepnote_cell_height": 99
   },
   "source": "# Set Experiment Name\nexperiment_name = \"US Stock Binary Classification - XGBoost\"",
   "outputs": [],
   "execution_count": null
  },
  {
   "cell_type": "code",
   "metadata": {
    "cell_id": "ede15b41a8cb46b6bf46831a993b09df",
    "tags": [],
    "deepnote_to_be_reexecuted": false,
    "source_hash": "3a3d5eae",
    "execution_start": 1650459692621,
    "execution_millis": 432,
    "deepnote_cell_type": "code",
    "deepnote_cell_height": 297
   },
   "source": "# Retrieve experiment\nexperiment = mlflow.get_experiment_by_name(experiment_name)\n\n# Check if Experiment exists\nif experiment is None:\n\n    print('Creating MLFlow experiment')\n\n    # Create experiment\n    _ = mlflow.create_experiment(experiment_name)\n\n    # Retrieve experiment\n    experiment = mlflow.get_experiment_by_name(experiment_name)",
   "outputs": [],
   "execution_count": null
  },
  {
   "cell_type": "code",
   "metadata": {
    "cell_id": "400fa729c71e4effbc16f3f02df26dc2",
    "tags": [],
    "deepnote_to_be_reexecuted": false,
    "source_hash": "16341882",
    "execution_start": 1650459692653,
    "execution_millis": 3086,
    "deepnote_cell_type": "code",
    "deepnote_cell_height": 585
   },
   "source": "# Start experiment\nwith mlflow.start_run(experiment_id=experiment.experiment_id):\n\n    # Define parameters\n    max_depth = grid_search.best_params_['max_depth']\n    min_child_weight = grid_search.best_params_['min_child_weight']\n\n    # Create and fit the model\n    model = XGBClassifier(eval_metric='logloss', \n                        max_depth=max_depth,\n                        min_child_weight=min_child_weight,\n                        use_label_encoder=False)\n\n    # Model Training\n    model.fit(X_train, y_train)\n\n    # Model Evaluation\n    logloss_training = round(model.score(X_train, y_train), 2) * 100\n    logloss_test = round(model.score(X_test, y_test), 2) * 100\n\n    # Log MLFlow\n    mlflow.log_param('start_year', start_year)\n    mlflow.log_param('end_year', end_year)\n    mlflow.log_param('data_dimension', len(data))\n    mlflow.log_param('max_depth', max_depth)\n    mlflow.log_param('min_child_weight', min_child_weight)\n    mlflow.log_param('n_features', n_features)\n    mlflow.log_metric('logloss_training', logloss_training)\n    mlflow.log_metric('logloss_test', logloss_test)",
   "outputs": [],
   "execution_count": null
  },
  {
   "cell_type": "markdown",
   "source": "## Model Evaluation",
   "metadata": {
    "cell_id": "2bb3138c330d4881aab7d13fbb7d9447",
    "tags": [],
    "deepnote_cell_type": "markdown",
    "deepnote_cell_height": 70
   }
  },
  {
   "cell_type": "code",
   "metadata": {
    "cell_id": "76e9466483224ad9bc8f7041d513e124",
    "tags": [],
    "deepnote_to_be_reexecuted": false,
    "source_hash": "cafb0fa6",
    "execution_start": 1650459695747,
    "execution_millis": 137,
    "deepnote_cell_type": "code",
    "deepnote_cell_height": 167.1875
   },
   "source": "# Model Score\nprint('Model score on the training set: {:.2f}'.format(logloss_training))\nprint('Model score on the test set: {:.2f}'.format(logloss_test))",
   "outputs": [
    {
     "name": "stdout",
     "text": "Model score on the training set: 71.00\nModel score on the test set: 65.00\n",
     "output_type": "stream"
    }
   ],
   "execution_count": null
  },
  {
   "cell_type": "code",
   "metadata": {
    "cell_id": "c0adb617fc7944479966ba9de5bff39b",
    "tags": [],
    "deepnote_to_be_reexecuted": false,
    "source_hash": "3e566a51",
    "execution_start": 1650459695766,
    "execution_millis": 146,
    "deepnote_cell_type": "code",
    "deepnote_cell_height": 290
   },
   "source": "# Retrieve MLFlow Runs\nmlflow.search_runs(experiment_ids=experiment.experiment_id)",
   "outputs": [
    {
     "output_type": "execute_result",
     "execution_count": 27,
     "data": {
      "application/vnd.deepnote.dataframe.v3+json": {
       "column_count": 17,
       "row_count": 2,
       "columns": [
        {
         "name": "run_id",
         "dtype": "object",
         "stats": {
          "unique_count": 2,
          "nan_count": 0,
          "categories": [
           {
            "name": "4e52328c4cda40279f219ef99975478a",
            "count": 1
           },
           {
            "name": "88b51df6f0854f30adaedd2bd7ad3a12",
            "count": 1
           }
          ]
         }
        },
        {
         "name": "experiment_id",
         "dtype": "object",
         "stats": {
          "unique_count": 1,
          "nan_count": 0,
          "categories": [
           {
            "name": "1",
            "count": 2
           }
          ]
         }
        },
        {
         "name": "status",
         "dtype": "object",
         "stats": {
          "unique_count": 1,
          "nan_count": 0,
          "categories": [
           {
            "name": "FINISHED",
            "count": 2
           }
          ]
         }
        },
        {
         "name": "artifact_uri",
         "dtype": "object",
         "stats": {
          "unique_count": 2,
          "nan_count": 0,
          "categories": [
           {
            "name": "file:///work/us_stocks/notebooks/mlruns/1/4e52328c4cda40279f219ef99975478a/artifacts",
            "count": 1
           },
           {
            "name": "file:///work/us_stocks/notebooks/mlruns/1/88b51df6f0854f30adaedd2bd7ad3a12/artifacts",
            "count": 1
           }
          ]
         }
        },
        {
         "name": "start_time",
         "dtype": "datetime64[ns, UTC]",
         "stats": {
          "unique_count": 2,
          "nan_count": 0,
          "min": "2022-04-20 12:41:41.125000+00:00",
          "max": "2022-04-20 13:01:32.722000+00:00",
          "histogram": [
           {
            "bin_start": 1650458501125000000,
            "bin_end": 1650458620284700000,
            "count": 1
           },
           {
            "bin_start": 1650458620284700000,
            "bin_end": 1650458739444399900,
            "count": 0
           },
           {
            "bin_start": 1650458739444399900,
            "bin_end": 1650458858604099800,
            "count": 0
           },
           {
            "bin_start": 1650458858604099800,
            "bin_end": 1650458977763799800,
            "count": 0
           },
           {
            "bin_start": 1650458977763799800,
            "bin_end": 1650459096923500000,
            "count": 0
           },
           {
            "bin_start": 1650459096923500000,
            "bin_end": 1650459216083200000,
            "count": 0
           },
           {
            "bin_start": 1650459216083200000,
            "bin_end": 1650459335242900000,
            "count": 0
           },
           {
            "bin_start": 1650459335242900000,
            "bin_end": 1650459454402600000,
            "count": 0
           },
           {
            "bin_start": 1650459454402600000,
            "bin_end": 1650459573562300000,
            "count": 0
           },
           {
            "bin_start": 1650459573562300000,
            "bin_end": 1650459692722000000,
            "count": 1
           }
          ]
         }
        },
        {
         "name": "end_time",
         "dtype": "datetime64[ns, UTC]",
         "stats": {
          "unique_count": 2,
          "nan_count": 0,
          "min": "2022-04-20 12:41:42.922000+00:00",
          "max": "2022-04-20 13:01:35.726000+00:00",
          "histogram": [
           {
            "bin_start": 1650458502922000000,
            "bin_end": 1650458622202400000,
            "count": 1
           },
           {
            "bin_start": 1650458622202400000,
            "bin_end": 1650458741482799900,
            "count": 0
           },
           {
            "bin_start": 1650458741482799900,
            "bin_end": 1650458860763200000,
            "count": 0
           },
           {
            "bin_start": 1650458860763200000,
            "bin_end": 1650458980043600000,
            "count": 0
           },
           {
            "bin_start": 1650458980043600000,
            "bin_end": 1650459099324000000,
            "count": 0
           },
           {
            "bin_start": 1650459099324000000,
            "bin_end": 1650459218604400000,
            "count": 0
           },
           {
            "bin_start": 1650459218604400000,
            "bin_end": 1650459337884800000,
            "count": 0
           },
           {
            "bin_start": 1650459337884800000,
            "bin_end": 1650459457165200100,
            "count": 0
           },
           {
            "bin_start": 1650459457165200100,
            "bin_end": 1650459576445600000,
            "count": 0
           },
           {
            "bin_start": 1650459576445600000,
            "bin_end": 1650459695726000000,
            "count": 1
           }
          ]
         }
        },
        {
         "name": "metrics.logloss_training",
         "dtype": "float64",
         "stats": {
          "unique_count": 2,
          "nan_count": 0,
          "min": "66.0",
          "max": "71.0",
          "histogram": [
           {
            "bin_start": 66,
            "bin_end": 66.5,
            "count": 1
           },
           {
            "bin_start": 66.5,
            "bin_end": 67,
            "count": 0
           },
           {
            "bin_start": 67,
            "bin_end": 67.5,
            "count": 0
           },
           {
            "bin_start": 67.5,
            "bin_end": 68,
            "count": 0
           },
           {
            "bin_start": 68,
            "bin_end": 68.5,
            "count": 0
           },
           {
            "bin_start": 68.5,
            "bin_end": 69,
            "count": 0
           },
           {
            "bin_start": 69,
            "bin_end": 69.5,
            "count": 0
           },
           {
            "bin_start": 69.5,
            "bin_end": 70,
            "count": 0
           },
           {
            "bin_start": 70,
            "bin_end": 70.5,
            "count": 0
           },
           {
            "bin_start": 70.5,
            "bin_end": 71,
            "count": 1
           }
          ]
         }
        },
        {
         "name": "metrics.logloss_test",
         "dtype": "float64",
         "stats": {
          "unique_count": 2,
          "nan_count": 0,
          "min": "64.0",
          "max": "65.0",
          "histogram": [
           {
            "bin_start": 64,
            "bin_end": 64.1,
            "count": 1
           },
           {
            "bin_start": 64.1,
            "bin_end": 64.2,
            "count": 0
           },
           {
            "bin_start": 64.2,
            "bin_end": 64.3,
            "count": 0
           },
           {
            "bin_start": 64.3,
            "bin_end": 64.4,
            "count": 0
           },
           {
            "bin_start": 64.4,
            "bin_end": 64.5,
            "count": 0
           },
           {
            "bin_start": 64.5,
            "bin_end": 64.6,
            "count": 0
           },
           {
            "bin_start": 64.6,
            "bin_end": 64.7,
            "count": 0
           },
           {
            "bin_start": 64.7,
            "bin_end": 64.8,
            "count": 0
           },
           {
            "bin_start": 64.8,
            "bin_end": 64.9,
            "count": 0
           },
           {
            "bin_start": 64.9,
            "bin_end": 65,
            "count": 1
           }
          ]
         }
        },
        {
         "name": "params.min_child_weight",
         "dtype": "object",
         "stats": {
          "unique_count": 2,
          "nan_count": 0,
          "categories": [
           {
            "name": "18",
            "count": 1
           },
           {
            "name": "1",
            "count": 1
           }
          ]
         }
        },
        {
         "name": "params.max_depth",
         "dtype": "object",
         "stats": {
          "unique_count": 2,
          "nan_count": 0,
          "categories": [
           {
            "name": "2",
            "count": 1
           },
           {
            "name": "1",
            "count": 1
           }
          ]
         }
        },
        {
         "name": "params.start_year",
         "dtype": "object",
         "stats": {
          "unique_count": 1,
          "nan_count": 0,
          "categories": [
           {
            "name": "2014",
            "count": 2
           }
          ]
         }
        },
        {
         "name": "params.data_dimension",
         "dtype": "object",
         "stats": {
          "unique_count": 1,
          "nan_count": 0,
          "categories": [
           {
            "name": "12725",
            "count": 2
           }
          ]
         }
        },
        {
         "name": "params.end_year",
         "dtype": "object",
         "stats": {
          "unique_count": 1,
          "nan_count": 0,
          "categories": [
           {
            "name": "2016",
            "count": 2
           }
          ]
         }
        },
        {
         "name": "params.n_features",
         "dtype": "object",
         "stats": {
          "unique_count": 1,
          "nan_count": 0,
          "categories": [
           {
            "name": "50",
            "count": 2
           }
          ]
         }
        },
        {
         "name": "tags.mlflow.source.name",
         "dtype": "object",
         "stats": {
          "unique_count": 1,
          "nan_count": 0,
          "categories": [
           {
            "name": "/shared-libs/python3.7/py-core/lib/python3.7/site-packages/ipykernel_launcher.py",
            "count": 2
           }
          ]
         }
        },
        {
         "name": "tags.mlflow.source.type",
         "dtype": "object",
         "stats": {
          "unique_count": 1,
          "nan_count": 0,
          "categories": [
           {
            "name": "LOCAL",
            "count": 2
           }
          ]
         }
        },
        {
         "name": "tags.mlflow.user",
         "dtype": "object",
         "stats": {
          "unique_count": 1,
          "nan_count": 0,
          "categories": [
           {
            "name": "root",
            "count": 2
           }
          ]
         }
        },
        {
         "name": "_deepnote_index_column",
         "dtype": "int64"
        }
       ],
       "rows": [
        {
         "run_id": "4e52328c4cda40279f219ef99975478a",
         "experiment_id": "1",
         "status": "FINISHED",
         "artifact_uri": "file:///work/us_stocks/notebooks/mlruns/1/4e52328c4cda40279f219ef99975478a/artifacts",
         "start_time": "2022-04-20T13:01:32.722000",
         "end_time": "2022-04-20T13:01:35.726000",
         "metrics.logloss_training": 71,
         "metrics.logloss_test": 65,
         "params.min_child_weight": "18",
         "params.max_depth": "2",
         "params.start_year": "2014",
         "params.data_dimension": "12725",
         "params.end_year": "2016",
         "params.n_features": "50",
         "tags.mlflow.source.name": "/shared-libs/python3.7/py-core/lib/python3.7/site-packages/ipykernel_launcher.py",
         "tags.mlflow.source.type": "LOCAL",
         "tags.mlflow.user": "root",
         "_deepnote_index_column": 0
        },
        {
         "run_id": "88b51df6f0854f30adaedd2bd7ad3a12",
         "experiment_id": "1",
         "status": "FINISHED",
         "artifact_uri": "file:///work/us_stocks/notebooks/mlruns/1/88b51df6f0854f30adaedd2bd7ad3a12/artifacts",
         "start_time": "2022-04-20T12:41:41.125000",
         "end_time": "2022-04-20T12:41:42.922000",
         "metrics.logloss_training": 66,
         "metrics.logloss_test": 64,
         "params.min_child_weight": "1",
         "params.max_depth": "1",
         "params.start_year": "2014",
         "params.data_dimension": "12725",
         "params.end_year": "2016",
         "params.n_features": "50",
         "tags.mlflow.source.name": "/shared-libs/python3.7/py-core/lib/python3.7/site-packages/ipykernel_launcher.py",
         "tags.mlflow.source.type": "LOCAL",
         "tags.mlflow.user": "root",
         "_deepnote_index_column": 1
        }
       ]
      },
      "text/plain": "                             run_id experiment_id    status  \\\n0  4e52328c4cda40279f219ef99975478a             1  FINISHED   \n1  88b51df6f0854f30adaedd2bd7ad3a12             1  FINISHED   \n\n                                        artifact_uri  \\\n0  file:///work/us_stocks/notebooks/mlruns/1/4e52...   \n1  file:///work/us_stocks/notebooks/mlruns/1/88b5...   \n\n                        start_time                         end_time  \\\n0 2022-04-20 13:01:32.722000+00:00 2022-04-20 13:01:35.726000+00:00   \n1 2022-04-20 12:41:41.125000+00:00 2022-04-20 12:41:42.922000+00:00   \n\n   metrics.logloss_training  metrics.logloss_test params.min_child_weight  \\\n0                      71.0                  65.0                      18   \n1                      66.0                  64.0                       1   \n\n  params.max_depth params.start_year params.data_dimension params.end_year  \\\n0                2              2014                 12725            2016   \n1                1              2014                 12725            2016   \n\n  params.n_features                            tags.mlflow.source.name  \\\n0                50  /shared-libs/python3.7/py-core/lib/python3.7/s...   \n1                50  /shared-libs/python3.7/py-core/lib/python3.7/s...   \n\n  tags.mlflow.source.type tags.mlflow.user  \n0                   LOCAL             root  \n1                   LOCAL             root  ",
      "text/html": "<div>\n<style scoped>\n    .dataframe tbody tr th:only-of-type {\n        vertical-align: middle;\n    }\n\n    .dataframe tbody tr th {\n        vertical-align: top;\n    }\n\n    .dataframe thead th {\n        text-align: right;\n    }\n</style>\n<table border=\"1\" class=\"dataframe\">\n  <thead>\n    <tr style=\"text-align: right;\">\n      <th></th>\n      <th>run_id</th>\n      <th>experiment_id</th>\n      <th>status</th>\n      <th>artifact_uri</th>\n      <th>start_time</th>\n      <th>end_time</th>\n      <th>metrics.logloss_training</th>\n      <th>metrics.logloss_test</th>\n      <th>params.min_child_weight</th>\n      <th>params.max_depth</th>\n      <th>params.start_year</th>\n      <th>params.data_dimension</th>\n      <th>params.end_year</th>\n      <th>params.n_features</th>\n      <th>tags.mlflow.source.name</th>\n      <th>tags.mlflow.source.type</th>\n      <th>tags.mlflow.user</th>\n    </tr>\n  </thead>\n  <tbody>\n    <tr>\n      <th>0</th>\n      <td>4e52328c4cda40279f219ef99975478a</td>\n      <td>1</td>\n      <td>FINISHED</td>\n      <td>file:///work/us_stocks/notebooks/mlruns/1/4e52...</td>\n      <td>2022-04-20 13:01:32.722000+00:00</td>\n      <td>2022-04-20 13:01:35.726000+00:00</td>\n      <td>71.0</td>\n      <td>65.0</td>\n      <td>18</td>\n      <td>2</td>\n      <td>2014</td>\n      <td>12725</td>\n      <td>2016</td>\n      <td>50</td>\n      <td>/shared-libs/python3.7/py-core/lib/python3.7/s...</td>\n      <td>LOCAL</td>\n      <td>root</td>\n    </tr>\n    <tr>\n      <th>1</th>\n      <td>88b51df6f0854f30adaedd2bd7ad3a12</td>\n      <td>1</td>\n      <td>FINISHED</td>\n      <td>file:///work/us_stocks/notebooks/mlruns/1/88b5...</td>\n      <td>2022-04-20 12:41:41.125000+00:00</td>\n      <td>2022-04-20 12:41:42.922000+00:00</td>\n      <td>66.0</td>\n      <td>64.0</td>\n      <td>1</td>\n      <td>1</td>\n      <td>2014</td>\n      <td>12725</td>\n      <td>2016</td>\n      <td>50</td>\n      <td>/shared-libs/python3.7/py-core/lib/python3.7/s...</td>\n      <td>LOCAL</td>\n      <td>root</td>\n    </tr>\n  </tbody>\n</table>\n</div>"
     },
     "metadata": {}
    }
   ],
   "execution_count": null
  },
  {
   "cell_type": "code",
   "metadata": {
    "cell_id": "3734a24a5e43489386cbad1c9d634783",
    "tags": [],
    "deepnote_to_be_reexecuted": false,
    "source_hash": "b623e53d",
    "execution_start": 1650459695888,
    "execution_millis": 1,
    "deepnote_cell_type": "code",
    "deepnote_cell_height": 81
   },
   "source": "",
   "outputs": [],
   "execution_count": null
  },
  {
   "cell_type": "markdown",
   "source": "<a style='text-decoration:none;line-height:16px;display:flex;color:#5B5B62;padding:10px;justify-content:end;' href='https://deepnote.com?utm_source=created-in-deepnote-cell&projectId=f1efe245-29af-4be1-bb79-055f4abb0e16' target=\"_blank\">\n<img alt='Created in deepnote.com' style='display:inline;max-height:16px;margin:0px;margin-right:7.5px;' src='data:image/svg+xml;base64,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' > </img>\nCreated in <span style='font-weight:600;margin-left:4px;'>Deepnote</span></a>",
   "metadata": {
    "tags": [],
    "created_in_deepnote_cell": true,
    "deepnote_cell_type": "markdown"
   }
  }
 ],
 "nbformat": 4,
 "nbformat_minor": 5,
 "metadata": {
  "kernelspec": {
   "display_name": "Python 3 (ipykernel)",
   "language": "python",
   "name": "python3"
  },
  "language_info": {
   "codemirror_mode": {
    "name": "ipython",
    "version": 3
   },
   "file_extension": ".py",
   "mimetype": "text/x-python",
   "name": "python",
   "nbconvert_exporter": "python",
   "pygments_lexer": "ipython3",
   "version": "3.8.12"
  },
  "deepnote_notebook_id": "092ad14d-d569-465c-ab80-a5598130383a",
  "deepnote": {},
  "deepnote_execution_queue": []
 }
}